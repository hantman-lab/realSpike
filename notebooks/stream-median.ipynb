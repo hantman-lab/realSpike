{
 "cells": [
  {
   "cell_type": "markdown",
   "id": "b7c3c1a5-b2b6-4f0e-83e3-aa6f56ac920b",
   "metadata": {},
   "source": [
    "# Notebook for visualizing streaming data and calculating seeded vs non-seeded median"
   ]
  },
  {
   "cell_type": "code",
   "execution_count": 1,
   "id": "e8089b57-1d4e-437e-8d8a-1619a941abbd",
   "metadata": {},
   "outputs": [
    {
     "name": "stderr",
     "output_type": "stream",
     "text": [
      "Detected skylake derivative running on mesa i915. Clears to srgb textures will use manual shader clears.\n",
      "Detected skylake derivative running on mesa i915. Clears to srgb textures will use manual shader clears.\n",
      "Detected skylake derivative running on mesa i915. Clears to srgb textures will use manual shader clears.\n"
     ]
    },
    {
     "data": {
      "application/vnd.jupyter.widget-view+json": {
       "model_id": "340939b9b31c429cbadc65115e1cfa42",
       "version_major": 2,
       "version_minor": 0
      },
      "text/plain": [
       "Image(value=b'version https://git-lfs.github.com/spec/...', height='55', width='300')"
      ]
     },
     "metadata": {},
     "output_type": "display_data"
    },
    {
     "data": {
      "text/html": [
       "<b>Available devices:</b><table><tr><th>Valid</th><th>Device</th><th>Type</th><th>Backend</th><th>Driver</th></tr><tr title=\"This adapter can be used with fastplotlib\"><td>✅</td><td>Intel(R) Arc(tm) Graphics (MTL)</td><td>IntegratedGPU</td><td>Vulkan</td><td>Mesa 25.0.4</td></tr><tr title=\"This adapter can be used with fastplotlib\"><td>✅ (default) </td><td>NVIDIA GeForce RTX 4060 Laptop GPU</td><td>DiscreteGPU</td><td>Vulkan</td><td>565.77</td></tr><tr title=\"CPU rendering support is limited and mainly for testing purposes\"><td>❗ limited</td><td>llvmpipe (LLVM 19.1.7, 256 bits)</td><td>CPU</td><td>Vulkan</td><td>Mesa 25.0.4 (LLVM 19.1.7)</td></tr><tr title=\"This adapter cannot be used with fastplotlib\"><td>❌</td><td>Mesa Intel(R) Arc(tm) Graphics (MTL)</td><td>IntegratedGPU</td><td>OpenGL</td><td>4.6 (Core Profile) Mesa 25.0.4</td></tr></table>"
      ],
      "text/plain": [
       "<IPython.core.display.HTML object>"
      ]
     },
     "metadata": {},
     "output_type": "display_data"
    },
    {
     "name": "stderr",
     "output_type": "stream",
     "text": [
      "Detected skylake derivative running on mesa i915. Clears to srgb textures will use manual shader clears.\n",
      "Detected skylake derivative running on mesa i915. Clears to srgb textures will use manual shader clears.\n"
     ]
    }
   ],
   "source": [
    "import fastplotlib as fpl \n",
    "import numpy as np\n",
    "import zmq\n",
    "import tifffile\n",
    "import scipy"
   ]
  },
  {
   "cell_type": "markdown",
   "id": "920c96ba-0964-44ff-9f8f-99e85419a98e",
   "metadata": {},
   "source": [
    "# Calculate seeded median"
   ]
  },
  {
   "cell_type": "code",
   "execution_count": 2,
   "id": "22950a49-9c9c-428c-9122-afd076c7e57a",
   "metadata": {},
   "outputs": [
    {
     "data": {
      "text/plain": [
       "(384, 3000001)"
      ]
     },
     "execution_count": 2,
     "metadata": {},
     "output_type": "execute_result"
    }
   ],
   "source": [
    "file_path = \"/home/clewis/repos/holo-nbs/rb26_20240111/raw_voltage_chunk.tif\"\n",
    "data = tifffile.memmap(file_path)\n",
    "data.shape"
   ]
  },
  {
   "cell_type": "code",
   "execution_count": 3,
   "id": "613a97f1-5647-440d-b677-826469f9df6e",
   "metadata": {},
   "outputs": [],
   "source": [
    "# define filter functions\n",
    "def butter(cutoff, fs, order=5, btype='high'):\n",
    "    nyq = 0.5 * fs\n",
    "    normal_cutoff = cutoff / nyq\n",
    "    b, a = scipy.signal.butter(order, normal_cutoff, btype=btype, analog=False)\n",
    "    return b, a\n",
    "\n",
    "\n",
    "def butter_filter(data, cutoff, fs, order=5, axis=-1, btype='high'):\n",
    "    b, a = butter(cutoff, fs, order=order, btype=btype)\n",
    "    y = scipy.signal.filtfilt(b, a, data, axis=axis)\n",
    "    return y"
   ]
  },
  {
   "cell_type": "code",
   "execution_count": 4,
   "id": "bd2a3da1-23e1-4c6a-b281-354801271b2d",
   "metadata": {},
   "outputs": [],
   "source": [
    "median = np.median(butter_filter(data[:, :4000], 1_000, 30_000), axis=1)"
   ]
  },
  {
   "cell_type": "markdown",
   "id": "6c4ad26f-7c15-4ab6-acd1-7f3415debe9c",
   "metadata": {},
   "source": [
    "# Setup zmq subscriber"
   ]
  },
  {
   "cell_type": "code",
   "execution_count": 5,
   "id": "c2f02187-67f0-41ae-8eaf-bc99eb981cc2",
   "metadata": {},
   "outputs": [
    {
     "data": {
      "text/plain": [
       "<SocketContext(connect='tcp://127.0.0.1:5557')>"
      ]
     },
     "execution_count": 5,
     "metadata": {},
     "output_type": "execute_result"
    }
   ],
   "source": [
    "context = zmq.Context()\n",
    "sub = context.socket(zmq.SUB)\n",
    "sub.setsockopt(zmq.SUBSCRIBE, b\"\")\n",
    "\n",
    "# keep only the most recent message\n",
    "sub.setsockopt(zmq.CONFLATE, 1)\n",
    "\n",
    "# address must match publisher in actor\n",
    "sub.connect(\"tcp://127.0.0.1:5557\")"
   ]
  },
  {
   "cell_type": "code",
   "execution_count": 6,
   "id": "c9596b45-2722-4cb7-bcf5-0832879a7b6b",
   "metadata": {},
   "outputs": [],
   "source": [
    "def get_buffer():\n",
    "    \"\"\"Gets the buffer from the publisher.\"\"\"\n",
    "    try:\n",
    "        b = sub.recv(zmq.NOBLOCK)\n",
    "    except zmq.Again:\n",
    "        pass\n",
    "    else:\n",
    "        return b\n",
    "    \n",
    "    return None"
   ]
  },
  {
   "cell_type": "markdown",
   "id": "07581818-9478-44f8-b431-0e9f47e67505",
   "metadata": {},
   "source": [
    "# Helper functions"
   ]
  },
  {
   "cell_type": "code",
   "execution_count": 7,
   "id": "97661bf1-9e46-47ab-8f5a-629819cd43ad",
   "metadata": {},
   "outputs": [],
   "source": [
    "def get_spike_events(data: np.ndarray, n_deviations: int = 4, use_global: bool = True):\n",
    "    \"\"\"\n",
    "    Calculates the median and MAD estimator. Returns a list of indices along each channel where\n",
    "    threshold crossing is made (above absolute value of median + (n_deviations * MAD).\n",
    "    \"\"\"\n",
    "    global median\n",
    "\n",
    "    if not use_global:\n",
    "        median = np.median(data, axis=1)\n",
    "        \n",
    "    mad = scipy.stats.median_abs_deviation(data, axis=1)\n",
    "\n",
    "    thresh = (n_deviations * mad) + median\n",
    "\n",
    "    abs_data = np.abs(data)\n",
    "\n",
    "    # Find indices where threshold is crossed for each channel\n",
    "    indices = [np.where(abs_data[i] > thresh[i])[0] for i in range(data.shape[0])]\n",
    "\n",
    "    return indices"
   ]
  },
  {
   "cell_type": "markdown",
   "id": "09a9a45c-3118-42f0-8cb6-6d93a747b5bc",
   "metadata": {},
   "source": [
    "# Create figure"
   ]
  },
  {
   "cell_type": "code",
   "execution_count": 8,
   "id": "963fe149-2db0-4ed9-bd83-6c6b3a16b7bf",
   "metadata": {},
   "outputs": [
    {
     "data": {
      "application/vnd.jupyter.widget-view+json": {
       "model_id": "284dcb592e904e239c942ac45fea91a1",
       "version_major": 2,
       "version_minor": 0
      },
      "text/plain": [
       "RFBOutputContext()"
      ]
     },
     "metadata": {},
     "output_type": "display_data"
    },
    {
     "name": "stderr",
     "output_type": "stream",
     "text": [
      "Detected skylake derivative running on mesa i915. Clears to srgb textures will use manual shader clears.\n"
     ]
    }
   ],
   "source": [
    "rects = [\n",
    "    (0, 0, 0.5, 1),  # for image1\n",
    "    (0.5, 0, 0.5, 1),  # for image2\n",
    "]\n",
    "\n",
    "figure = fpl.Figure(rects=rects, size=(1000, 900), names=[\"seeded median\", \"non-seeded median\"])\n",
    "\n",
    "for subplot in figure:\n",
    "    subplot.axes.visible = False\n",
    "    subplot.camera.maintain_aspect = False"
   ]
  },
  {
   "cell_type": "code",
   "execution_count": 9,
   "id": "6bbe3525-2a19-43f9-bc14-4a716e9a3736",
   "metadata": {},
   "outputs": [],
   "source": [
    "def update_figure(p):\n",
    "    \"\"\"Update the frame using data received from the socket.\"\"\"\n",
    "    buff = get_buffer()\n",
    "    if buff is not None:\n",
    "        # Deserialize the buffer into a NumPy array\n",
    "        data = np.frombuffer(buff, dtype=np.float64)\n",
    "\n",
    "        data = data.reshape(384, 150)\n",
    "\n",
    "        ixs = get_spike_events(data)\n",
    "        ixs2 = get_spike_events(data, use_global=False)\n",
    "\n",
    "\n",
    "        if len(p[\"seeded median\"].graphics) == 0:\n",
    "            lg = figure[\"seeded median\"].add_line_stack(data, colors=\"gray\", thickness=0.5, separation=35, name=\"lg\")\n",
    "            lg2 = figure[\"non-seeded median\"].add_line_stack(data, colors=\"gray\", thickness=0.5, separation=35, name=\"lg\")\n",
    "        else:\n",
    "            lg = figure[\"seeded median\"][\"lg\"]\n",
    "            lg.colors = \"gray\"\n",
    "            # add filtered spikes\n",
    "            for i in range(lg.data[:].shape[0]):\n",
    "                lg[i].data[:, 1] = data[i]\n",
    "\n",
    "            lg2 = figure[\"non-seeded median\"][\"lg\"]\n",
    "            lg2.colors = \"gray\"\n",
    "            # add filtered spikes\n",
    "            for i in range(lg2.data[:].shape[0]):\n",
    "                lg2[i].data[:, 1] = data[i]\n",
    "\n",
    "        #color each spike event orange\n",
    "        for i in range(len(ixs2)):\n",
    "            if ixs2[i].shape[0] == 0:\n",
    "                continue\n",
    "            lg2[i].colors[ixs2[i]] = \"orange\"\n",
    "\n",
    "                #color each spike event orange\n",
    "        for i in range(len(ixs)):\n",
    "            if ixs[i].shape[0] == 0:\n",
    "                continue\n",
    "            lg[i].colors[ixs[i]] = \"orange\"\n",
    "\n",
    "\n",
    "        for subplot in p:\n",
    "            subplot.auto_scale()"
   ]
  },
  {
   "cell_type": "code",
   "execution_count": 10,
   "id": "144e87f6-b322-421e-95b9-583d3bcbbf56",
   "metadata": {},
   "outputs": [
    {
     "data": {
      "application/vnd.jupyter.widget-view+json": {
       "model_id": "b0a1526ee78944c4b96d0dcca276ac99",
       "version_major": 2,
       "version_minor": 0
      },
      "text/html": [
       "<div class='snapshot-b0a1526ee78944c4b96d0dcca276ac99' style='position:relative;'><img src='data:image/png;base64,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' style='width:1000.0px;height:900.0px;' /><div style='position: absolute; top:0; left:0; padding:1px 3px; background: #777; color:#fff; font-size: 90%; font-family:sans-serif; '>snapshot</div></div>"
      ],
      "text/plain": [
       "JupyterRenderCanvas(css_height='900.0px', css_width='1000.0px')"
      ]
     },
     "execution_count": 10,
     "metadata": {},
     "output_type": "execute_result"
    }
   ],
   "source": [
    "figure.show()"
   ]
  },
  {
   "cell_type": "code",
   "execution_count": 11,
   "id": "9260e786-54d8-4a88-bf54-e40d0548b8af",
   "metadata": {},
   "outputs": [],
   "source": [
    "# Add the animation update function\n",
    "figure.add_animations(update_figure)"
   ]
  },
  {
   "cell_type": "code",
   "execution_count": null,
   "id": "42f7727d-cc7f-4f5d-9773-925306a59238",
   "metadata": {},
   "outputs": [],
   "source": []
  },
  {
   "cell_type": "code",
   "execution_count": 12,
   "id": "3035486e-095f-4309-be44-a5768097a3f2",
   "metadata": {},
   "outputs": [],
   "source": [
    "arr = figure.export_numpy()"
   ]
  },
  {
   "cell_type": "code",
   "execution_count": 13,
   "id": "03f4e41d-fedf-4f99-95b6-1624b0b98f7a",
   "metadata": {},
   "outputs": [],
   "source": [
    "from PIL import Image\n",
    "im = Image.fromarray(arr,  mode='RGBA')\n",
    "im.save(\"/home/clewis/Desktop/median.png\")"
   ]
  },
  {
   "cell_type": "code",
   "execution_count": null,
   "id": "9304d298-362e-4102-9324-ba00cf459e6b",
   "metadata": {},
   "outputs": [],
   "source": []
  },
  {
   "cell_type": "code",
   "execution_count": null,
   "id": "eea286ef-fb74-4f26-96bf-bc8de44dd0c4",
   "metadata": {},
   "outputs": [],
   "source": []
  },
  {
   "cell_type": "code",
   "execution_count": null,
   "id": "2cbf9e1b-7b6f-4e4a-bcdc-159cfc609f99",
   "metadata": {},
   "outputs": [],
   "source": []
  }
 ],
 "metadata": {
  "kernelspec": {
   "display_name": "Python 3 (ipykernel)",
   "language": "python",
   "name": "python3"
  },
  "language_info": {
   "codemirror_mode": {
    "name": "ipython",
    "version": 3
   },
   "file_extension": ".py",
   "mimetype": "text/x-python",
   "name": "python",
   "nbconvert_exporter": "python",
   "pygments_lexer": "ipython3",
   "version": "3.11.12"
  }
 },
 "nbformat": 4,
 "nbformat_minor": 5
}
