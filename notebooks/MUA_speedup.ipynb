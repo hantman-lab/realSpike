{
 "cells": [
  {
   "cell_type": "markdown",
   "id": "d4715852-9a4d-497c-ac5e-4b6e4238fd50",
   "metadata": {},
   "source": [
    "# Explore using `numba` to make the MUA calculation faster"
   ]
  },
  {
   "cell_type": "code",
   "execution_count": 1,
   "id": "f869f58d-7240-4fff-bfc2-1c9e7ef17683",
   "metadata": {},
   "outputs": [],
   "source": [
    "import numba\n",
    "from real_spike.utils import get_meta, get_sample_data, butter_filter\n",
    "import numpy as np\n",
    "import time"
   ]
  },
  {
   "cell_type": "code",
   "execution_count": 2,
   "id": "ad8b0a22-059b-4a04-85ad-09ad2c049b62",
   "metadata": {},
   "outputs": [],
   "source": [
    "meta_path = \"/home/clewis/repos/realSpike/data/120s_test/rb50_20250126_g0_t0.imec0.ap.meta\"\n",
    "bin_path = \"/home/clewis/repos/realSpike/data/120s_test/rb50_20250126_g0_t0.imec0.ap.bin\""
   ]
  },
  {
   "cell_type": "code",
   "execution_count": 3,
   "id": "49a157b8-a3c8-44f4-958b-84e14b08e3f4",
   "metadata": {},
   "outputs": [],
   "source": [
    "meta_data = get_meta(meta_path)\n",
    "data = get_sample_data(bin_path, meta_data)"
   ]
  },
  {
   "cell_type": "code",
   "execution_count": 4,
   "id": "34624fcc-ae9f-48b4-b7f9-79be32ce687a",
   "metadata": {},
   "outputs": [
    {
     "data": {
      "text/plain": [
       "(385, 3600001)"
      ]
     },
     "execution_count": 4,
     "metadata": {},
     "output_type": "execute_result"
    }
   ],
   "source": [
    "data.shape"
   ]
  },
  {
   "cell_type": "code",
   "execution_count": 5,
   "id": "1caa3667-2f57-4eaa-bcef-735104036b54",
   "metadata": {},
   "outputs": [
    {
     "data": {
      "text/plain": [
       "60000"
      ]
     },
     "execution_count": 5,
     "metadata": {},
     "output_type": "execute_result"
    }
   ],
   "source": [
    "2 * 30 * 1_000"
   ]
  },
  {
   "cell_type": "code",
   "execution_count": 6,
   "id": "4fa60bc6-980e-4c53-8f4c-3e39be057b9d",
   "metadata": {},
   "outputs": [],
   "source": [
    "vmax = float(meta_data[\"imAiRangeMax\"])\n",
    "# get Imax\n",
    "imax = float(meta_data[\"imMaxInt\"])\n",
    "# get gain\n",
    "gain = float(meta_data['imroTbl'].split(sep=')')[1].split(sep=' ')[3])"
   ]
  },
  {
   "cell_type": "code",
   "execution_count": 7,
   "id": "599a5eb7-c820-47eb-addf-727c5c6adbdf",
   "metadata": {},
   "outputs": [],
   "source": [
    "med_data = data[:150, :60_000]"
   ]
  },
  {
   "cell_type": "code",
   "execution_count": 8,
   "id": "b1c872b3-559c-4344-b00d-0608092eee67",
   "metadata": {},
   "outputs": [],
   "source": [
    "conv_data = 1e6 * med_data / vmax / imax / gain\n",
    "    \n",
    "filt_data = butter_filter(conv_data, 1_000, 30_000)"
   ]
  },
  {
   "cell_type": "code",
   "execution_count": 9,
   "id": "0fac8a52-0a4f-4c99-aba1-7239cd2b74e7",
   "metadata": {},
   "outputs": [
    {
     "data": {
      "text/plain": [
       "(150,)"
      ]
     },
     "execution_count": 9,
     "metadata": {},
     "output_type": "execute_result"
    }
   ],
   "source": [
    "median = np.median(filt_data, axis=1)\n",
    "median.shape"
   ]
  },
  {
   "cell_type": "code",
   "execution_count": 10,
   "id": "c7ca943d-ed26-405d-8122-bc36bc0892b4",
   "metadata": {},
   "outputs": [
    {
     "data": {
      "text/plain": [
       "150000"
      ]
     },
     "execution_count": 10,
     "metadata": {},
     "output_type": "execute_result"
    }
   ],
   "source": [
    "5 * 30 * 1_000"
   ]
  },
  {
   "cell_type": "code",
   "execution_count": 11,
   "id": "acaf7c77-9703-4bd9-9c63-572482d88f20",
   "metadata": {},
   "outputs": [
    {
     "data": {
      "text/plain": [
       "(150, 150)"
      ]
     },
     "execution_count": 11,
     "metadata": {},
     "output_type": "execute_result"
    }
   ],
   "source": [
    "t_data = data[:150, 60_001:(60_001 + 150)]\n",
    "t_data.shape"
   ]
  },
  {
   "cell_type": "code",
   "execution_count": 12,
   "id": "3729c8a6-67f2-4f3d-8a92-b3543cc6030a",
   "metadata": {},
   "outputs": [],
   "source": [
    "conv_data = 1e6 * t_data / vmax / imax / gain\n",
    "    \n",
    "filt_data = butter_filter(conv_data, 1_000, 30_000)"
   ]
  },
  {
   "cell_type": "code",
   "execution_count": null,
   "id": "db08afb6-bf37-4475-aa79-e2c135d55a9b",
   "metadata": {},
   "outputs": [],
   "source": []
  },
  {
   "cell_type": "code",
   "execution_count": null,
   "id": "9c6f1751-9e00-4f01-bef1-39c9876f6a26",
   "metadata": {},
   "outputs": [],
   "source": []
  },
  {
   "cell_type": "markdown",
   "id": "3d7228d4-cde4-4c8c-96e8-0ebf91387c78",
   "metadata": {},
   "source": [
    "# Without `numba`"
   ]
  },
  {
   "cell_type": "code",
   "execution_count": 13,
   "id": "b2634ad8-9728-416d-873f-14d44a883392",
   "metadata": {},
   "outputs": [],
   "source": [
    "import scipy"
   ]
  },
  {
   "cell_type": "code",
   "execution_count": 14,
   "id": "49b7f0b3-af30-4d86-ae8d-482060b0678c",
   "metadata": {},
   "outputs": [],
   "source": [
    "def get_spike_events(data: np.ndarray, median, num_dev=4):\n",
    "    # calculate mad\n",
    "    mad = scipy.stats.median_abs_deviation(data, axis=1)\n",
    "    print(mad)\n",
    "\n",
    "    # Calculate threshold\n",
    "    thresh = (num_dev * mad) + median\n",
    "\n",
    "    # Vectorized computation of absolute data\n",
    "    abs_data = np.abs(data)\n",
    "\n",
    "    # Find indices where threshold is crossed for each channel\n",
    "    spike_indices = [np.where(abs_data[i] > thresh[i])[0] for i in range(data.shape[0])]\n",
    "\n",
    "    spike_counts = [np.count_nonzero(arr) for arr in spike_indices]\n",
    "\n",
    "    return spike_indices, spike_counts"
   ]
  },
  {
   "cell_type": "code",
   "execution_count": 15,
   "id": "df89a9b3-8790-43de-a771-53d7d5f660f0",
   "metadata": {},
   "outputs": [
    {
     "name": "stdout",
     "output_type": "stream",
     "text": [
      "[11.97045108 12.83733201 16.97515415 13.4184289  16.17392951 17.91430158\n",
      " 14.22234446 13.41200803 16.13776146 14.83292879 20.58139581 15.63996766\n",
      " 17.35121689 17.49322828 19.64814922 15.20236595 16.07017535 16.65472423\n",
      " 18.87330144 15.81792172 22.4675618  16.50427551 22.23066726 20.56921393\n",
      " 21.93636955 20.13153911 23.44854654 26.86789684 21.87230625 18.9904274\n",
      " 20.67768042 24.55623873 22.35023819 21.13870995 26.79001504 22.21662091\n",
      " 27.7315069  26.86826013 22.16730008 23.27663321 21.81712592 22.50188675\n",
      " 18.47064605 19.56430706 20.99572119 24.71428655 20.7886327  24.44235991\n",
      " 20.13422875 30.51179874 23.76804962 26.16131053 30.33026383 30.13509081\n",
      " 27.0627153  31.22766133 22.21747727 19.18504219 21.59743881 19.76757831\n",
      " 20.95992929 23.42260003 28.07572853 27.2217214  28.13516458 24.79349171\n",
      " 22.16757161 25.08622404 23.02252504 25.82541785 22.86735525 20.59631648\n",
      " 28.12137037 25.77889037 23.431998   29.02836948 25.58158201 23.51765028\n",
      " 27.03451413 27.90834943 33.22841146 31.88616919 28.98166953 31.72878074\n",
      " 22.01353015 33.49420377 29.44921079 25.87356541 24.98443843 22.61872044\n",
      " 24.24516604 32.70960429 27.35226555 23.23852615 26.36820495 30.29845488\n",
      " 34.24044304 23.85828961 32.00976813 32.93834232 28.80122033 29.99326149\n",
      " 35.34308113 28.17109227 23.78817429 31.67060996 26.8741339  26.15882962\n",
      " 25.57453471 25.0416777  34.93633307 31.41579631 29.51610957 24.69303472\n",
      " 28.23257561 22.64485691 26.80810978 26.91599859 34.51239324 25.93391061\n",
      " 24.22846774 23.23848216 24.20947055 21.3560055  26.38232321 24.23339192\n",
      " 23.58490722 25.57554869 24.06277812 28.16797182 25.45175105 24.71273289\n",
      " 29.8514759  26.99954165 22.64693477 18.96021623 24.99865208 26.75998356\n",
      " 25.13408669 20.59397484 22.44367596 24.38382184 27.64158114 24.19549949\n",
      " 24.47705321 25.94883729 25.77604782 26.38966968 26.20652211 33.00893365]\n"
     ]
    }
   ],
   "source": [
    "times = list()\n",
    "for i in range(1):\n",
    "    t = time.perf_counter_ns()\n",
    "    get_spike_events(filt_data, median)\n",
    "    times.append((time.perf_counter_ns() - t) / 1e6)"
   ]
  },
  {
   "cell_type": "code",
   "execution_count": 16,
   "id": "bfa5fd62-e0a9-4c5c-885e-fcf7aff3ab29",
   "metadata": {},
   "outputs": [
    {
     "data": {
      "text/plain": [
       "4.417815"
      ]
     },
     "execution_count": 16,
     "metadata": {},
     "output_type": "execute_result"
    }
   ],
   "source": [
    "sum(times) / len(times)"
   ]
  },
  {
   "cell_type": "code",
   "execution_count": null,
   "id": "5a5abc66-b4b8-413f-9822-7d54770a072a",
   "metadata": {},
   "outputs": [],
   "source": []
  },
  {
   "cell_type": "markdown",
   "id": "43870cf1-9a99-4e9e-9e33-488f8c00ffc4",
   "metadata": {},
   "source": [
    "# With `numba`"
   ]
  },
  {
   "cell_type": "code",
   "execution_count": 20,
   "id": "616e14d6-bb21-4846-8da2-9a0c6de78263",
   "metadata": {},
   "outputs": [],
   "source": [
    "@numba.jit()\n",
    "def row_median(arr):\n",
    "    n, m = arr.shape\n",
    "    out = np.empty(n)\n",
    "    for i in range(n):\n",
    "        row = np.sort(arr[i])   # Numba supports np.sort\n",
    "        mid = m // 2\n",
    "        if m % 2 == 0:\n",
    "            out[i] = 0.5 * (row[mid - 1] + row[mid])\n",
    "        else:\n",
    "            out[i] = row[mid]\n",
    "    return out"
   ]
  },
  {
   "cell_type": "code",
   "execution_count": 21,
   "id": "18ff0ba9-4300-4e21-a0e2-4e876ba0777f",
   "metadata": {},
   "outputs": [],
   "source": [
    "@numba.jit()\n",
    "def get_spike_events2(data, median, num_dev=4):\n",
    "    # calculate mad\n",
    "    absolute_deviations = np.abs(data - median)\n",
    "    mad = row_median(absolute_deviations)\n",
    "    print(mad)\n",
    "\n",
    "    # Calculate threshold\n",
    "    thresh = (num_dev * mad) + median\n",
    "\n",
    "    # Vectorized computation of absolute data\n",
    "    abs_data = np.abs(data)\n",
    "\n",
    "    # Find indices where threshold is crossed for each channel\n",
    "    spike_indices = [np.where(abs_data[i] > thresh[i])[0] for i in range(data.shape[0])]\n",
    "\n",
    "    spike_counts = [np.count_nonzero(arr) for arr in spike_indices]\n",
    "\n",
    "    return spike_indices, spike_counts"
   ]
  },
  {
   "cell_type": "code",
   "execution_count": 22,
   "id": "fc4ecddd-1901-4fc7-bab0-90365fdc0088",
   "metadata": {},
   "outputs": [
    {
     "name": "stdout",
     "output_type": "stream",
     "text": [
      "[12.07348797 13.37158355 17.35029044 14.26853317 15.7864196  17.45572941\n",
      " 15.55268171 13.27807263 15.66793779 15.66593277 20.98800553 16.27118885\n",
      " 16.95902169 16.84292603 19.04865573 15.62230482 16.0485322  16.18698044\n",
      " 18.57357412 15.84873675 22.78988386 16.1502103  21.79177677 20.64439958\n",
      " 21.5297344  20.2975379  24.73272513 26.5347807  22.0361881  19.13391767\n",
      " 21.32572427 23.98180013 22.28049116 21.53624218 26.53002414 22.48515198\n",
      " 26.27242955 26.24028438 22.03191748 23.99363165 22.28520479 22.64031145\n",
      " 18.10347501 20.90003791 21.41539471 24.64435929 21.39287083 24.28414127\n",
      " 22.55637856 32.74149008 24.99200695 28.05451625 29.63305253 30.18124962\n",
      " 26.70565667 30.45903711 22.70865283 19.53382037 22.26012343 20.99610384\n",
      " 21.31487351 21.82964739 27.34759756 26.63070825 28.11885595 23.76339832\n",
      " 24.01870605 25.43222489 20.9907147  25.99043609 26.03847683 20.74892275\n",
      " 27.99326657 24.25293112 22.58963509 28.67221092 25.8250474  24.25948231\n",
      " 27.25174261 27.74591173 33.29227147 31.36039008 28.73958572 31.85204202\n",
      " 21.8446305  33.04727369 30.55567614 27.38269655 24.60111041 24.6309808\n",
      " 24.42005179 33.43625532 26.6083242  24.02435049 25.53518769 29.72035804\n",
      " 34.952794   23.06646398 32.00761264 34.51292526 28.02696336 29.05616186\n",
      " 36.81847814 28.86635664 23.92183966 32.60218658 26.38086627 26.91085689\n",
      " 27.48263191 25.42856543 35.17925277 31.37652685 29.85832637 24.62562748\n",
      " 26.65867938 22.41742693 27.67984557 26.62620026 34.14279314 25.9247734\n",
      " 23.64176241 23.43320285 25.30808884 21.52693812 25.75412234 23.83238292\n",
      " 22.46726396 26.80185526 23.41044148 29.87092797 25.25547126 25.19371317\n",
      " 29.1954842  27.07547357 22.96630053 19.5730204  24.62353729 26.79259471\n",
      " 23.82373176 24.5032847  23.10313359 24.54787782 27.60155458 25.79849563\n",
      " 23.52708269 26.83362739 27.03739544 25.99949375 24.94230187 33.66214078]\n"
     ]
    }
   ],
   "source": [
    "times = list()\n",
    "for i in range(1):\n",
    "    t = time.perf_counter_ns()\n",
    "    get_spike_events2(filt_data, median)\n",
    "    times.append((time.perf_counter_ns() - t) / 1e6)"
   ]
  },
  {
   "cell_type": "code",
   "execution_count": 23,
   "id": "b9b68555-f2d0-4fc8-afb8-1b000a31caf3",
   "metadata": {},
   "outputs": [
    {
     "data": {
      "text/plain": [
       "1092.0009"
      ]
     },
     "execution_count": 23,
     "metadata": {},
     "output_type": "execute_result"
    }
   ],
   "source": [
    "sum(times) / len(times)"
   ]
  },
  {
   "cell_type": "code",
   "execution_count": 56,
   "id": "883d1ed6-5541-4e2f-ad48-72f9a1bc279b",
   "metadata": {},
   "outputs": [],
   "source": [
    "absolute_deviations = np.abs(filt_data - median)\n",
    "absolute_deviations.shape\n",
    "mad = np.median(absolute_deviations, axis=1)"
   ]
  },
  {
   "cell_type": "code",
   "execution_count": 57,
   "id": "df94a138-859c-4054-aadd-497098a7fea0",
   "metadata": {},
   "outputs": [
    {
     "data": {
      "text/plain": [
       "(150,)"
      ]
     },
     "execution_count": 57,
     "metadata": {},
     "output_type": "execute_result"
    }
   ],
   "source": [
    "mad.shape"
   ]
  },
  {
   "cell_type": "code",
   "execution_count": null,
   "id": "956da749-c3f9-4c67-bc68-ef73aeabc46c",
   "metadata": {},
   "outputs": [],
   "source": []
  }
 ],
 "metadata": {
  "kernelspec": {
   "display_name": "Python 3 (ipykernel)",
   "language": "python",
   "name": "python3"
  },
  "language_info": {
   "codemirror_mode": {
    "name": "ipython",
    "version": 3
   },
   "file_extension": ".py",
   "mimetype": "text/x-python",
   "name": "python",
   "nbconvert_exporter": "python",
   "pygments_lexer": "ipython3",
   "version": "3.11.12"
  }
 },
 "nbformat": 4,
 "nbformat_minor": 5
}
