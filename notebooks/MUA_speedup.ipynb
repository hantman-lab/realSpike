{
 "cells": [
  {
   "cell_type": "markdown",
   "id": "d4715852-9a4d-497c-ac5e-4b6e4238fd50",
   "metadata": {},
   "source": [
    "# Explore using `numba` to make the MUA calculation faster"
   ]
  },
  {
   "cell_type": "code",
   "execution_count": 1,
   "id": "f869f58d-7240-4fff-bfc2-1c9e7ef17683",
   "metadata": {},
   "outputs": [],
   "source": [
    "from numba import njit\n",
    "from real_spike.utils import get_meta, get_sample_data, butter_filter\n",
    "import numpy as np\n",
    "import time"
   ]
  },
  {
   "cell_type": "code",
   "execution_count": 2,
   "id": "ad8b0a22-059b-4a04-85ad-09ad2c049b62",
   "metadata": {},
   "outputs": [],
   "source": [
    "meta_path = \"/home/clewis/repos/realSpike/data/120s_test/rb50_20250126_g0_t0.imec0.ap.meta\"\n",
    "bin_path = \"/home/clewis/repos/realSpike/data/120s_test/rb50_20250126_g0_t0.imec0.ap.bin\""
   ]
  },
  {
   "cell_type": "code",
   "execution_count": 3,
   "id": "49a157b8-a3c8-44f4-958b-84e14b08e3f4",
   "metadata": {},
   "outputs": [],
   "source": [
    "meta_data = get_meta(meta_path)\n",
    "data = get_sample_data(bin_path, meta_data)"
   ]
  },
  {
   "cell_type": "code",
   "execution_count": 4,
   "id": "34624fcc-ae9f-48b4-b7f9-79be32ce687a",
   "metadata": {},
   "outputs": [
    {
     "data": {
      "text/plain": [
       "(385, 3600001)"
      ]
     },
     "execution_count": 4,
     "metadata": {},
     "output_type": "execute_result"
    }
   ],
   "source": [
    "data.shape"
   ]
  },
  {
   "cell_type": "code",
   "execution_count": 5,
   "id": "1caa3667-2f57-4eaa-bcef-735104036b54",
   "metadata": {},
   "outputs": [
    {
     "data": {
      "text/plain": [
       "60000"
      ]
     },
     "execution_count": 5,
     "metadata": {},
     "output_type": "execute_result"
    }
   ],
   "source": [
    "2 * 30 * 1_000"
   ]
  },
  {
   "cell_type": "code",
   "execution_count": 6,
   "id": "4fa60bc6-980e-4c53-8f4c-3e39be057b9d",
   "metadata": {},
   "outputs": [],
   "source": [
    "vmax = float(meta_data[\"imAiRangeMax\"])\n",
    "# get Imax\n",
    "imax = float(meta_data[\"imMaxInt\"])\n",
    "# get gain\n",
    "gain = float(meta_data['imroTbl'].split(sep=')')[1].split(sep=' ')[3])"
   ]
  },
  {
   "cell_type": "code",
   "execution_count": 7,
   "id": "599a5eb7-c820-47eb-addf-727c5c6adbdf",
   "metadata": {},
   "outputs": [],
   "source": [
    "med_data = data[:150, :60_000]"
   ]
  },
  {
   "cell_type": "code",
   "execution_count": 8,
   "id": "b1c872b3-559c-4344-b00d-0608092eee67",
   "metadata": {},
   "outputs": [],
   "source": [
    "conv_data = 1e6 * med_data / vmax / imax / gain\n",
    "    \n",
    "filt_data = butter_filter(conv_data, 1_000, 30_000)"
   ]
  },
  {
   "cell_type": "code",
   "execution_count": 9,
   "id": "0fac8a52-0a4f-4c99-aba1-7239cd2b74e7",
   "metadata": {},
   "outputs": [
    {
     "data": {
      "text/plain": [
       "(150,)"
      ]
     },
     "execution_count": 9,
     "metadata": {},
     "output_type": "execute_result"
    }
   ],
   "source": [
    "median = np.median(filt_data, axis=1)\n",
    "median.shape"
   ]
  },
  {
   "cell_type": "code",
   "execution_count": 10,
   "id": "c7ca943d-ed26-405d-8122-bc36bc0892b4",
   "metadata": {},
   "outputs": [
    {
     "data": {
      "text/plain": [
       "150000"
      ]
     },
     "execution_count": 10,
     "metadata": {},
     "output_type": "execute_result"
    }
   ],
   "source": [
    "5 * 30 * 1_000"
   ]
  },
  {
   "cell_type": "code",
   "execution_count": 11,
   "id": "acaf7c77-9703-4bd9-9c63-572482d88f20",
   "metadata": {},
   "outputs": [
    {
     "data": {
      "text/plain": [
       "(150, 150000)"
      ]
     },
     "execution_count": 11,
     "metadata": {},
     "output_type": "execute_result"
    }
   ],
   "source": [
    "t_data = data[:150, 60_001:(60_001 + 150_000)]\n",
    "t_data.shape"
   ]
  },
  {
   "cell_type": "code",
   "execution_count": 12,
   "id": "3729c8a6-67f2-4f3d-8a92-b3543cc6030a",
   "metadata": {},
   "outputs": [],
   "source": [
    "conv_data = 1e6 * t_data / vmax / imax / gain\n",
    "    \n",
    "filt_data = butter_filter(conv_data, 1_000, 30_000)"
   ]
  },
  {
   "cell_type": "code",
   "execution_count": null,
   "id": "db08afb6-bf37-4475-aa79-e2c135d55a9b",
   "metadata": {},
   "outputs": [],
   "source": []
  },
  {
   "cell_type": "code",
   "execution_count": null,
   "id": "9c6f1751-9e00-4f01-bef1-39c9876f6a26",
   "metadata": {},
   "outputs": [],
   "source": []
  },
  {
   "cell_type": "markdown",
   "id": "3d7228d4-cde4-4c8c-96e8-0ebf91387c78",
   "metadata": {},
   "source": [
    "# Without `numba`"
   ]
  },
  {
   "cell_type": "code",
   "execution_count": 13,
   "id": "b2634ad8-9728-416d-873f-14d44a883392",
   "metadata": {},
   "outputs": [],
   "source": [
    "import scipy"
   ]
  },
  {
   "cell_type": "code",
   "execution_count": 14,
   "id": "49b7f0b3-af30-4d86-ae8d-482060b0678c",
   "metadata": {},
   "outputs": [],
   "source": [
    "def get_spike_events(data: np.ndarray, median, num_dev=4):\n",
    "    # calculate mad\n",
    "    mad = scipy.stats.median_abs_deviation(data, axis=1)\n",
    "\n",
    "    # Calculate threshold\n",
    "    thresh = (num_dev * mad) + median\n",
    "\n",
    "    # Vectorized computation of absolute data\n",
    "    abs_data = np.abs(data)\n",
    "\n",
    "    # Find indices where threshold is crossed for each channel\n",
    "    spike_indices = [np.where(abs_data[i] > thresh[i])[0] for i in range(data.shape[0])]\n",
    "\n",
    "    spike_counts = [np.count_nonzero(arr) for arr in spike_indices]\n",
    "\n",
    "    return spike_indices, spike_counts"
   ]
  },
  {
   "cell_type": "code",
   "execution_count": 15,
   "id": "df89a9b3-8790-43de-a771-53d7d5f660f0",
   "metadata": {},
   "outputs": [
    {
     "name": "stdout",
     "output_type": "stream",
     "text": [
      "423.446167\n"
     ]
    }
   ],
   "source": [
    "t = time.perf_counter_ns()\n",
    "get_spike_events(filt_data, median)\n",
    "print((time.perf_counter_ns() - t) / 1e6)"
   ]
  },
  {
   "cell_type": "code",
   "execution_count": null,
   "id": "bfa5fd62-e0a9-4c5c-885e-fcf7aff3ab29",
   "metadata": {},
   "outputs": [],
   "source": []
  },
  {
   "cell_type": "markdown",
   "id": "43870cf1-9a99-4e9e-9e33-488f8c00ffc4",
   "metadata": {},
   "source": [
    "# With `numba`"
   ]
  },
  {
   "cell_type": "code",
   "execution_count": 16,
   "id": "18ff0ba9-4300-4e21-a0e2-4e876ba0777f",
   "metadata": {},
   "outputs": [],
   "source": [
    "@njit\n",
    "def get_spike_events2(mad, median, num_dev=4):\n",
    "    # calculate mad\n",
    "    \n",
    "\n",
    "    # Calculate threshold\n",
    "    thresh = (num_dev * mad) + median\n",
    "\n",
    "    # Vectorized computation of absolute data\n",
    "    abs_data = np.abs(data)\n",
    "\n",
    "    # Find indices where threshold is crossed for each channel\n",
    "    spike_indices = [np.where(abs_data[i] > thresh[i])[0] for i in range(data.shape[0])]\n",
    "\n",
    "    spike_counts = [np.count_nonzero(arr) for arr in spike_indices]\n",
    "\n",
    "    return spike_indices, spike_counts"
   ]
  },
  {
   "cell_type": "code",
   "execution_count": null,
   "id": "fc4ecddd-1901-4fc7-bab0-90365fdc0088",
   "metadata": {},
   "outputs": [],
   "source": [
    "t = time.perf_counter_ns()\n",
    "mad = scipy.stats.median_abs_deviation(data, axis=1)\n",
    "get_spike_events2(mad, median)\n",
    "print((time.perf_counter_ns() - t) / 1e6)"
   ]
  },
  {
   "cell_type": "code",
   "execution_count": null,
   "id": "b9b68555-f2d0-4fc8-afb8-1b000a31caf3",
   "metadata": {},
   "outputs": [],
   "source": []
  }
 ],
 "metadata": {
  "kernelspec": {
   "display_name": "Python 3 (ipykernel)",
   "language": "python",
   "name": "python3"
  },
  "language_info": {
   "codemirror_mode": {
    "name": "ipython",
    "version": 3
   },
   "file_extension": ".py",
   "mimetype": "text/x-python",
   "name": "python",
   "nbconvert_exporter": "python",
   "pygments_lexer": "ipython3",
   "version": "3.11.12"
  }
 },
 "nbformat": 4,
 "nbformat_minor": 5
}
