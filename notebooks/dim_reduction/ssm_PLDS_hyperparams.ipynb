{
 "cells": [
  {
   "cell_type": "markdown",
   "id": "baa9a0a7-69a0-4b0b-93f9-debf1d28f6c4",
   "metadata": {},
   "source": [
    "# Notebook for doing parameter estimation of LDS with Poisson observations using `ssm` from Linderman lab\n",
    "\n",
    "## Hyperparameter searches"
   ]
  },
  {
   "cell_type": "code",
   "execution_count": 1,
   "id": "f427334f-908f-4535-b62b-a4b20bbfc3f7",
   "metadata": {},
   "outputs": [],
   "source": [
    "from scipy.linalg import block_diag\n",
    "import autograd.numpy as np\n",
    "import matplotlib.pyplot as plt\n",
    "import ssm\n",
    "\n",
    "from pathlib import Path\n",
    "from scipy.io import loadmat\n",
    "import numpy as np\n",
    "import matplotlib.pyplot as plt\n",
    "from tqdm import tqdm\n",
    "from real_spike.utils import get_spike_events, kalman_filter, bin_spikes, butter_filter\n",
    "from scipy.ndimage import gaussian_filter1d\n",
    "from matplotlib import colormaps\n",
    "from ssm.plots import plot_dynamics_2d\n",
    "import pandas as pd\n",
    "\n",
    "%matplotlib inline"
   ]
  },
  {
   "cell_type": "markdown",
   "id": "472bfa9e-07ae-438f-b83b-4bf5ff198994",
   "metadata": {},
   "source": [
    "# Get data"
   ]
  },
  {
   "cell_type": "code",
   "execution_count": 2,
   "id": "269ca474-fc4b-4f7e-bd71-d5959f96a1a8",
   "metadata": {},
   "outputs": [
    {
     "name": "stdout",
     "output_type": "stream",
     "text": [
      "('totTime', 'cue', 'laser', 'trial_start', 'cue_rec_time', 'cue_trial_time', 'laser_rec_time', 'laser_trial_time', 'field_size', 'pattern_xy', 'field_id', 'full_field', 'pattern_id', 'pattern_fill', 'lift_ms', 'lift', 'grab_ms', 'grab', 'mouth_ms', 'mouth', 'single', 'any', 'no_success')\n"
     ]
    }
   ],
   "source": [
    "mat = loadmat(\"/home/clewis/wasabi/reaganbullins2/ProjectionProject/rb50/20250127/MAT_FILES/rb50_20250127_datastruct_pt2.mat\")\n",
    "mat = mat['data']\n",
    "\n",
    "print(mat.dtype.names)"
   ]
  },
  {
   "cell_type": "code",
   "execution_count": 3,
   "id": "ca5bf0c8-82f6-4330-a438-21e613f361af",
   "metadata": {},
   "outputs": [],
   "source": [
    "data_struct = mat[0, 0]  # MATLAB structs are 2D arrays even if 1x1\n",
    "data = {field: data_struct[field] for field in mat.dtype.names}"
   ]
  },
  {
   "cell_type": "code",
   "execution_count": 4,
   "id": "25c5ca46-ed1e-4b79-a924-fc49bf1cee2d",
   "metadata": {},
   "outputs": [
    {
     "data": {
      "text/plain": [
       "dict_keys(['totTime', 'cue', 'laser', 'trial_start', 'cue_rec_time', 'cue_trial_time', 'laser_rec_time', 'laser_trial_time', 'field_size', 'pattern_xy', 'field_id', 'full_field', 'pattern_id', 'pattern_fill', 'lift_ms', 'lift', 'grab_ms', 'grab', 'mouth_ms', 'mouth', 'single', 'any', 'no_success'])"
      ]
     },
     "execution_count": 4,
     "metadata": {},
     "output_type": "execute_result"
    }
   ],
   "source": [
    "data.keys()"
   ]
  },
  {
   "cell_type": "code",
   "execution_count": null,
   "id": "92c4ef31-ef13-47b4-9172-30d45b0d6a8f",
   "metadata": {},
   "outputs": [],
   "source": []
  },
  {
   "cell_type": "markdown",
   "id": "69a8e93e-e7f7-4e49-ac9a-69e5b9d18fe6",
   "metadata": {},
   "source": [
    "# Get single-reach trials"
   ]
  },
  {
   "cell_type": "code",
   "execution_count": 5,
   "id": "63f4b886-5233-4dfa-886d-ffe5970ebd11",
   "metadata": {},
   "outputs": [
    {
     "data": {
      "text/plain": [
       "array([  0,   1,   2,   3,   4,   5,   6,   7,   8,   9,  10,  11,  12,\n",
       "        13,  14,  15,  21,  27,  33,  39,  45,  51,  57,  63,  69,  75,\n",
       "        81,  87,  93,  99, 105, 111, 117, 123, 129, 135, 136, 137, 138,\n",
       "       139, 140, 141, 142, 143, 144, 145, 146, 147, 148, 149, 440, 441,\n",
       "       442, 443, 444, 445, 446, 447, 448, 449])"
      ]
     },
     "execution_count": 5,
     "metadata": {},
     "output_type": "execute_result"
    }
   ],
   "source": [
    "control_idxs = np.where(data[\"pattern_id\"] == 0)[0]\n",
    "control_idxs"
   ]
  },
  {
   "cell_type": "code",
   "execution_count": 6,
   "id": "56edff85-b712-486d-906a-9f6f01992e2a",
   "metadata": {},
   "outputs": [],
   "source": [
    "stim_idxs = np.where(data[\"pattern_id\"][:150] > 2)[0]\n",
    "\n",
    "# control_idxs = np.intersect1d(control_idxs, stim_idxs)\n",
    "# con\n",
    "control_idxs = np.sort(np.concatenate((control_idxs, stim_idxs)))"
   ]
  },
  {
   "cell_type": "code",
   "execution_count": 7,
   "id": "ef3ebe7a-66aa-4181-8bfb-4ec2d388b93e",
   "metadata": {},
   "outputs": [],
   "source": [
    "# get no laser trials\n",
    "control_idxs = np.intersect1d(control_idxs, np.where(data[\"single\"] == 1)[1])"
   ]
  },
  {
   "cell_type": "code",
   "execution_count": 8,
   "id": "53a8ea35-6b30-4be8-92cd-0576324d2628",
   "metadata": {},
   "outputs": [
    {
     "data": {
      "text/plain": [
       "array([  0,   1,   3,   4,   5,   6,   7,   8,   9,  10,  12,  14,  15,\n",
       "        17,  19,  20,  21,  23,  24,  30,  33,  36,  39,  40,  43,  44,\n",
       "        45,  46,  49,  50,  51,  53,  54,  60,  61,  62,  63,  67,  69,\n",
       "        70,  71,  74,  77,  81,  82,  88,  89,  91, 105, 107, 116, 117,\n",
       "       137, 139, 145, 148])"
      ]
     },
     "execution_count": 8,
     "metadata": {},
     "output_type": "execute_result"
    }
   ],
   "source": [
    "#control_idxs = np.sort(np.concatenate((a, b)))\n",
    "control_idxs"
   ]
  },
  {
   "cell_type": "code",
   "execution_count": 9,
   "id": "d1e605d9-28ce-4199-a5ec-ff4a9b47ef97",
   "metadata": {},
   "outputs": [
    {
     "data": {
      "text/plain": [
       "array([ 0, 14, 17, 20], dtype=uint8)"
      ]
     },
     "execution_count": 9,
     "metadata": {},
     "output_type": "execute_result"
    }
   ],
   "source": [
    "np.unique(data[\"pattern_id\"][control_idxs])"
   ]
  },
  {
   "cell_type": "code",
   "execution_count": null,
   "id": "9209c7b0-05fa-4d6b-8c8d-448019796c35",
   "metadata": {},
   "outputs": [],
   "source": []
  },
  {
   "cell_type": "markdown",
   "id": "e2f57868-557a-4f10-8744-950aca5f25fe",
   "metadata": {},
   "source": [
    "## Get relevant time information"
   ]
  },
  {
   "cell_type": "code",
   "execution_count": 10,
   "id": "4c325ab6-bee2-4690-b5f3-c4f78a724c74",
   "metadata": {},
   "outputs": [
    {
     "data": {
      "text/plain": [
       "array([[  14310.86566601,   31635.98602851,   66118.75767016,\n",
       "          83391.57934485,  100671.38676484,  117878.88228075,\n",
       "         135202.39780987,  152469.08335693,  169748.98517889,\n",
       "         187076.46559048,  221580.66647786,  256113.84876805,\n",
       "         343834.9853677 ,  378401.3027471 ,  412964.5048617 ,\n",
       "         430223.16624186,  447413.10299254,  481960.06796941,\n",
       "         499231.75682054,  603021.71245162,  654737.65694326,\n",
       "         706335.69338242,  758001.60483338,  775155.48003398,\n",
       "         826860.47389786,  844093.36354196,  861313.50892099,\n",
       "         878540.9232512 ,  930339.75266686,  947557.06598697,\n",
       "         964758.89738507,  999343.5287454 , 1016540.9232512 ,\n",
       "        1120486.35891627, 1137781.83706221, 1155099.87727745,\n",
       "        1172344.18955914, 1241575.09676201, 1276101.01010101,\n",
       "        1293329.17964694, 1310604.83338053, 1362412.63098272,\n",
       "        1414270.55602757, 1483298.49900878, 1500421.5047673 ,\n",
       "        1604049.56103087, 1621268.29038044, 1655724.06306051,\n",
       "        1897560.18125177, 1932015.76512791, 2087651.09034268,\n",
       "        2104905.22042859, 2466558.2932125 , 2501046.72897196,\n",
       "        2604792.2212782 , 2656431.70017936]])"
      ]
     },
     "execution_count": 10,
     "metadata": {},
     "output_type": "execute_result"
    }
   ],
   "source": [
    "cue_times = data[\"cue_rec_time\"][:, :150]\n",
    "cue_times[:, control_idxs]"
   ]
  },
  {
   "cell_type": "code",
   "execution_count": null,
   "id": "2e84b31d-f198-4299-b4e8-b120d2004b28",
   "metadata": {},
   "outputs": [],
   "source": []
  },
  {
   "cell_type": "code",
   "execution_count": 11,
   "id": "d891b922-3242-46d8-ac2e-508997d94491",
   "metadata": {},
   "outputs": [
    {
     "data": {
      "text/plain": [
       "array([[310., 280., 330., 320., 300., 250., 270.,  90., 260., 260., 230.,\n",
       "        230., 310., 290., 200., 280., 220., 270., 270., 300., 230., 290.,\n",
       "        290., 310., 270., 320., 280., 290., 250., 270., 250., 280., 270.,\n",
       "        290., 270., 270., 270., 260., 300., 320., 310., 310., 280., 280.,\n",
       "        340., 270., 300., 310., 300., 300., 290., 200., 290., 340., 250.,\n",
       "        220.]])"
      ]
     },
     "execution_count": 11,
     "metadata": {},
     "output_type": "execute_result"
    }
   ],
   "source": [
    "lift_times = data[\"lift_ms\"][:, :150]\n",
    "lift_times[:, control_idxs]"
   ]
  },
  {
   "cell_type": "code",
   "execution_count": null,
   "id": "9aedf61d-95d7-4e5a-9f68-627159de3a2c",
   "metadata": {},
   "outputs": [],
   "source": []
  },
  {
   "cell_type": "code",
   "execution_count": 12,
   "id": "bd4d7b90-79e7-4bf7-a38f-18de7a34f3fc",
   "metadata": {},
   "outputs": [
    {
     "data": {
      "text/plain": [
       "array([[540., 540., 560., 570., 520., 540., 600., 460., 510., 490., 500.,\n",
       "        530., 510., 520., 510., 630., 510., 480., 520., 570., 490., 670.,\n",
       "        590., 570., 510., 640., 520., 560., 480., 520., 530., 490., 590.,\n",
       "        520., 550., 570., 620., 520., 510., 550., 580., 650., 510., 520.,\n",
       "        570., 480., 570., 550., 570., 530., 500., 560., 530., 570., 590.,\n",
       "        480.]])"
      ]
     },
     "execution_count": 12,
     "metadata": {},
     "output_type": "execute_result"
    }
   ],
   "source": [
    "mouth_times = data[\"mouth_ms\"][:, :150]\n",
    "mouth_times[:, control_idxs]"
   ]
  },
  {
   "cell_type": "code",
   "execution_count": null,
   "id": "b6c88bfa-de4b-4925-ae58-2f9a1e95274c",
   "metadata": {},
   "outputs": [],
   "source": []
  },
  {
   "cell_type": "code",
   "execution_count": null,
   "id": "495febba-dacd-43b7-acf3-eef909b0b941",
   "metadata": {},
   "outputs": [],
   "source": []
  },
  {
   "cell_type": "markdown",
   "id": "50f1c58a-ff0b-4fff-a9ff-7aa4c4c0bc38",
   "metadata": {},
   "source": [
    "## Get the AP.bin file"
   ]
  },
  {
   "cell_type": "code",
   "execution_count": 13,
   "id": "a8933c07-8353-4676-b831-8acfa35cde55",
   "metadata": {},
   "outputs": [],
   "source": [
    "from real_spike.utils import get_sample_data, get_meta\n",
    "import tifffile"
   ]
  },
  {
   "cell_type": "code",
   "execution_count": 14,
   "id": "cd2ab177-1d98-4707-b09a-edec1068ef7d",
   "metadata": {},
   "outputs": [],
   "source": [
    "file_path = Path(\"/home/clewis/wasabi/reaganbullins2/ProjectionProject/rb50/20250127/rb50_20250127_g0/rb50_20250127_g0_t0.imec0.ap.bin\")\n",
    "meta_path = Path(\"/home/clewis/wasabi/reaganbullins2/ProjectionProject/rb50/20250127/rb50_20250127_g0/rb50_20250127_g0_t0.imec0.ap.meta\")"
   ]
  },
  {
   "cell_type": "code",
   "execution_count": 15,
   "id": "3ddd59d4-cebc-4a55-8db6-84585d10b362",
   "metadata": {},
   "outputs": [],
   "source": [
    "meta_data = get_meta(meta_path)"
   ]
  },
  {
   "cell_type": "code",
   "execution_count": 16,
   "id": "253ff7db-8323-4397-b837-b2f2e49100a6",
   "metadata": {},
   "outputs": [
    {
     "data": {
      "text/plain": [
       "(385, 166298223)"
      ]
     },
     "execution_count": 16,
     "metadata": {},
     "output_type": "execute_result"
    }
   ],
   "source": [
    "ap_data = get_sample_data(file_path, meta_data)\n",
    "ap_data.shape"
   ]
  },
  {
   "cell_type": "code",
   "execution_count": null,
   "id": "381dd0aa-f7cf-4bdc-8d28-bcc7f1677a83",
   "metadata": {},
   "outputs": [],
   "source": []
  },
  {
   "cell_type": "code",
   "execution_count": null,
   "id": "14a40d88-3f7c-4303-a5e8-751bccd59f38",
   "metadata": {},
   "outputs": [],
   "source": []
  },
  {
   "cell_type": "markdown",
   "id": "544aa4b8-a237-4fa2-a68a-efb352c5e1de",
   "metadata": {},
   "source": [
    "## Get conversion params"
   ]
  },
  {
   "cell_type": "code",
   "execution_count": 17,
   "id": "00df1aa8-3234-4b03-94c7-7ab07ae565a5",
   "metadata": {},
   "outputs": [],
   "source": [
    "vmax = float(meta_data[\"imAiRangeMax\"])\n",
    "# get Imax\n",
    "imax = float(meta_data[\"imMaxInt\"])\n",
    "# get gain\n",
    "gain = float(meta_data['imroTbl'].split(sep=')')[1].split(sep=' ')[3])"
   ]
  },
  {
   "cell_type": "code",
   "execution_count": 18,
   "id": "5df0676e-32f9-4dce-9057-a017e8a8c35c",
   "metadata": {},
   "outputs": [
    {
     "data": {
      "text/plain": [
       "0.6"
      ]
     },
     "execution_count": 18,
     "metadata": {},
     "output_type": "execute_result"
    }
   ],
   "source": [
    "vmax"
   ]
  },
  {
   "cell_type": "code",
   "execution_count": 19,
   "id": "670028a1-6795-441b-9556-c46298d0370e",
   "metadata": {},
   "outputs": [
    {
     "data": {
      "text/plain": [
       "512.0"
      ]
     },
     "execution_count": 19,
     "metadata": {},
     "output_type": "execute_result"
    }
   ],
   "source": [
    "imax"
   ]
  },
  {
   "cell_type": "code",
   "execution_count": 20,
   "id": "cb7ee62b-9a94-40ce-b06c-3e03604f5668",
   "metadata": {},
   "outputs": [
    {
     "data": {
      "text/plain": [
       "500.0"
      ]
     },
     "execution_count": 20,
     "metadata": {},
     "output_type": "execute_result"
    }
   ],
   "source": [
    "gain"
   ]
  },
  {
   "cell_type": "code",
   "execution_count": null,
   "id": "14a8e1d7-c824-4fb1-b4ba-a63632347d7d",
   "metadata": {},
   "outputs": [],
   "source": []
  },
  {
   "cell_type": "code",
   "execution_count": null,
   "id": "8efa601f-4204-4da8-8b23-6bd5b7425db2",
   "metadata": {},
   "outputs": [],
   "source": []
  },
  {
   "cell_type": "code",
   "execution_count": null,
   "id": "f4d4b021-bfe3-4a11-83cb-92c5ae97f470",
   "metadata": {},
   "outputs": [],
   "source": []
  },
  {
   "cell_type": "code",
   "execution_count": null,
   "id": "ff4c1029-0339-4b99-b028-5b1482f9979f",
   "metadata": {},
   "outputs": [],
   "source": []
  },
  {
   "cell_type": "code",
   "execution_count": null,
   "id": "8a94aaf9-efd4-4bcf-845d-46a0293a32f3",
   "metadata": {},
   "outputs": [],
   "source": []
  },
  {
   "cell_type": "markdown",
   "id": "0017ebb9-1e73-4791-b033-9987ce5a02fa",
   "metadata": {},
   "source": [
    "# Get trials"
   ]
  },
  {
   "cell_type": "code",
   "execution_count": 21,
   "id": "ce07dfce-da24-4afd-82bc-e96a4c6b3d96",
   "metadata": {},
   "outputs": [],
   "source": [
    "def get_trials(idxs, bin_size, sigma):\n",
    "    \n",
    "    model_data = list()\n",
    "    \n",
    "    for i in idxs:\n",
    "        trial_no = i\n",
    "        # get time points in ap space\n",
    "        lift_time = int((cue_times[:, trial_no] + lift_times[:, trial_no] - 50) / 1_000 * 30_000)\n",
    "        \n",
    "        # get end of behavior = mouth (260ms) + 300ms \n",
    "        end_behavior = int((cue_times[:, trial_no] + mouth_times[:, trial_no] + 260) / 1_000 * 30_000)\n",
    "\n",
    "    \n",
    "        trial = ap_data[:150, lift_time:end_behavior]\n",
    "    \n",
    "        conv_data = 1e6 * trial / vmax / imax / gain\n",
    "    \n",
    "        filt_data = butter_filter(conv_data, 1_000, 30_000)\n",
    "    \n",
    "        c_start = int(cue_times[:, trial_no] / 1_000 * 30_000)\n",
    "        m_start = c_start - (30 * 2000)\n",
    "        trial_median = ap_data[:150, m_start:c_start]\n",
    "    \n",
    "        trial_median = 1e6 * trial_median / vmax / imax / gain\n",
    "        trial_median = butter_filter(trial_median, 1_000, 30_000)\n",
    "        \n",
    "        median = np.median(trial_median, axis=1)\n",
    "    \n",
    "        spike_ixs, counts = get_spike_events(filt_data, median)\n",
    "        \n",
    "        a = np.zeros((filt_data.shape[0], filt_data.shape[1]))\n",
    "    \n",
    "        for i, sc in enumerate(spike_ixs):\n",
    "            a[i, sc] = 1\n",
    "    \n",
    "        b = bin_size * 30 # 30ms per bin\n",
    "        binned_spikes = bin_spikes(a, b)\n",
    "\n",
    "        if sigma > 0:\n",
    "            d = gaussian_filter1d(binned_spikes, sigma=sigma, axis=1)\n",
    "        else:\n",
    "            d = binned_spikes\n",
    "    \n",
    "        lift_start = int(50 / bin_size)\n",
    "\n",
    "        lift = int(data[\"lift_ms\"][0, trial_no] / bin_size) \n",
    "        # grab duration\n",
    "        grab = int(data[\"grab_ms\"][0, trial_no] / bin_size)\n",
    "        # mouth duration \n",
    "        mouth = int(data[\"mouth_ms\"][0, trial_no] / bin_size)\n",
    "    \n",
    "        lift_start = int(50 / bin_size)\n",
    "        grab_start = lift_start + (grab - lift)\n",
    "        mouth_start = lift_start + (mouth-lift)\n",
    "\n",
    "        model_data.append(np.asarray(d[:, lift_start:mouth_start+1].T, dtype=int))\n",
    "\n",
    "    return model_data"
   ]
  },
  {
   "cell_type": "code",
   "execution_count": null,
   "id": "c4fbb255-bec9-482f-8518-8a48f639c262",
   "metadata": {},
   "outputs": [],
   "source": []
  },
  {
   "cell_type": "code",
   "execution_count": 22,
   "id": "ea8f3437-e974-4fa9-a771-98ecdf51ea01",
   "metadata": {},
   "outputs": [],
   "source": [
    "def fit_model(model_data, bin_size, sigma, num_iters=15):\n",
    "    state_dim = 3\n",
    "    obs_dim = model_data[0].shape[1] \n",
    "\n",
    "    plds = ssm.LDS(obs_dim, state_dim, emissions=\"poisson_orthog\", emission_kwargs=dict(link=\"softplus\"))\n",
    "\n",
    "    elbos, q = plds.fit(model_data, method=\"laplace_em\", num_iters=num_iters)\n",
    "\n",
    "    \n",
    "    plt.plot(elbos, label=\"Laplace-EM\")\n",
    "    plt.xlabel(\"Iteration\")\n",
    "    plt.ylabel(\"ELBO\")\n",
    "    plt.legend()\n",
    "\n",
    "    plt.savefig(f\"/home/clewis/repos/realSpike/data/rb50_20250127/plds_hyperparam/elbo_{bin_size}ms_{num_iters}iters_sigma{sigma}.png\")\n",
    "\n",
    "    plt.clf()\n",
    "\n",
    "\n",
    "    A_est = plds.dynamics.A\n",
    "    b_est = plds.dynamics.b\n",
    "    \n",
    "    f, ax = plt.subplots(1, 1, figsize=(6, 6))\n",
    "    # plot_dynamics_2d(A_true, b_true, npts=10, axis=ax[0], color=colors[0])\n",
    "    # ax[0].set_xlabel(\"$x_1$\")\n",
    "    # ax[0].set_ylabel(\"$x_2$\")\n",
    "    # ax[0].set_title(\"True Dynamics\")\n",
    "    \n",
    "    plot_dynamics_2d(A_est[:2, :2] , b_est[:2], npts=15, axis=ax, color=\"red\")\n",
    "    #plt.plot(states_plds[:,0], states_plds[:,1], '-k', lw=3)\n",
    "    ax.set_xlabel(\"$x_1$\")\n",
    "    ax.set_ylabel(\"$x_2$\")\n",
    "    ax.set_title(\"Inferred Dynamics\")\n",
    "    \n",
    "    plt.tight_layout()\n",
    "    \n",
    "    plt.savefig(f\"/home/clewis/repos/realSpike/data/rb50_20250127/plds_hyperparam/dynamics_{bin_size}ms_{num_iters}iters_sigma{sigma}.png\")\n",
    "\n",
    "\n",
    "    plt.clf()\n",
    "    state_means = q.mean_continuous_states\n",
    "\n",
    "\n",
    "    fig = plt.figure(figsize=(10, 10))\n",
    "    ax = fig.add_subplot(111)\n",
    "    \n",
    "    for i, p in enumerate(state_means):\n",
    "    \n",
    "        lift = int(data[\"lift_ms\"][0, control_idxs[i]] / bin_size) \n",
    "        # grab duration\n",
    "        grab = int(data[\"grab_ms\"][0,control_idxs[i]] / bin_size)\n",
    "        # mouth duration \n",
    "        mouth = int(data[\"mouth_ms\"][0,control_idxs[i]] / bin_size)\n",
    "    \n",
    "        lift_start = int(50 / bin_size)\n",
    "        grab_start = lift_start + (grab - lift)\n",
    "       # mouth_start = lift_start + (mouth-lift)\n",
    "    \n",
    "        ax.plot(p[lift_start:, 0], p[lift_start:, 1], c=\"black\", zorder=0, alpha=0.8)\n",
    "    \n",
    "        ax.scatter(p[lift_start, 0], p[lift_start, 1], s=35, c=\"teal\", zorder=1, alpha=1)\n",
    "        #ax.scatter(p[grab - lift + lift_start, 0], p[grab-lift +lift_start, 1], p[grab-lift +lift_start, 2], s=10, c=\"red\")\n",
    "        ax.scatter(p[-1, 0], p[-1, 1], s=100, marker='*', c=\"magenta\", zorder=1, alpha=1)\n",
    "    \n",
    "    ax.set_title(f\"Posterior State Means ({bin_size}ms)\")\n",
    "    \n",
    "    \n",
    "    \n",
    "    ax.set_xticks([])\n",
    "    ax.set_yticks([])\n",
    "    \n",
    "    \n",
    "    plt.savefig(f\"/home/clewis/repos/realSpike/data/rb50_20250127/plds_hyperparam/post_{bin_size}ms_{num_iters}iters_sigma{sigma}_2d.png\")\n",
    "\n",
    "    plt.clf()\n",
    "\n",
    "    fig = plt.figure(figsize=(14, 14))\n",
    "    ax = fig.add_subplot(111, projection='3d')\n",
    "    \n",
    "    for i, p in enumerate(state_means):\n",
    "    \n",
    "        lift = int(data[\"lift_ms\"][0, control_idxs[i]] / bin_size) \n",
    "        # grab duration\n",
    "        grab = int(data[\"grab_ms\"][0,control_idxs[i]] / bin_size)\n",
    "        # mouth duration \n",
    "        mouth = int(data[\"mouth_ms\"][0,control_idxs[i]] / bin_size)\n",
    "    \n",
    "        lift_start = int(50 / bin_size)\n",
    "        grab_start = lift_start + (grab - lift)\n",
    "       # mouth_start = lift_start + (mouth-lift)\n",
    "    \n",
    "        ax.plot(p[lift_start:, 0], p[lift_start:, 1], p[lift_start:, 2], c=\"black\", zorder=0, alpha=0.8)\n",
    "    \n",
    "        ax.scatter(p[lift_start, 0], p[lift_start, 1], p[lift_start, 2], s=35, c=\"teal\", zorder=1, alpha=1)\n",
    "        #ax.scatter(p[grab - lift + lift_start, 0], p[grab-lift +lift_start, 1], p[grab-lift +lift_start, 2], s=10, c=\"red\")\n",
    "        ax.scatter(p[-1, 0], p[-1, 1], p[-1, 2], s=100, marker='*', c=\"magenta\", zorder=1, alpha=1)\n",
    "    \n",
    "    ax.set_title(f\"Posterior State Means ({bin_size}ms)\")\n",
    "    \n",
    "    \n",
    "    ax.set_xticks([])\n",
    "    ax.set_yticks([])\n",
    "    ax.set_zticks([])\n",
    "    \n",
    "    plt.savefig(f\"/home/clewis/repos/realSpike/data/rb50_20250127/plds_hyperparam/post_{bin_size}ms_{num_iters}iters_sigma{sigma}_3d.png\")\n",
    "\n",
    "    plt.clf()\n",
    "    \n",
    "    "
   ]
  },
  {
   "cell_type": "code",
   "execution_count": null,
   "id": "a68efb41-de30-4618-a40f-a7a08247db53",
   "metadata": {},
   "outputs": [],
   "source": []
  },
  {
   "cell_type": "code",
   "execution_count": 25,
   "id": "55aae5c3-bf4d-4227-a0fc-9734dee1f11a",
   "metadata": {},
   "outputs": [],
   "source": [
    "bin_sizes = [5, 10]\n",
    "\n",
    "num_iters = [15, 25, 30]\n",
    "\n",
    "sigmas = {1: [10], 5: [4, 5], 10: [2, 3]}"
   ]
  },
  {
   "cell_type": "code",
   "execution_count": 26,
   "id": "6872e4fe-8c32-42d0-9af1-bbba4c9105bf",
   "metadata": {},
   "outputs": [
    {
     "name": "stderr",
     "output_type": "stream",
     "text": [
      "  0%|                                           | 0/2 [00:00<?, ?it/s]/tmp/ipykernel_35394/4010200283.py:8: DeprecationWarning: Conversion of an array with ndim > 0 to a scalar is deprecated, and will error in future. Ensure you extract a single element from your array before performing this operation. (Deprecated NumPy 1.25.)\n",
      "  lift_time = int((cue_times[:, trial_no] + lift_times[:, trial_no] - 50) / 1_000 * 30_000)\n",
      "/tmp/ipykernel_35394/4010200283.py:11: DeprecationWarning: Conversion of an array with ndim > 0 to a scalar is deprecated, and will error in future. Ensure you extract a single element from your array before performing this operation. (Deprecated NumPy 1.25.)\n",
      "  end_behavior = int((cue_times[:, trial_no] + mouth_times[:, trial_no] + 260) / 1_000 * 30_000)\n",
      "/tmp/ipykernel_35394/4010200283.py:20: DeprecationWarning: Conversion of an array with ndim > 0 to a scalar is deprecated, and will error in future. Ensure you extract a single element from your array before performing this operation. (Deprecated NumPy 1.25.)\n",
      "  c_start = int(cue_times[:, trial_no] / 1_000 * 30_000)\n"
     ]
    },
    {
     "data": {
      "application/vnd.jupyter.widget-view+json": {
       "model_id": "816c70d2c46b4efbafc6e157c945b739",
       "version_major": 2,
       "version_minor": 0
      },
      "text/plain": [
       "  0%|          | 0/1 [00:00<?, ?it/s]"
      ]
     },
     "metadata": {},
     "output_type": "display_data"
    },
    {
     "name": "stdout",
     "output_type": "stream",
     "text": [
      "Initializing with an ARHMM using 25 steps of EM.\n"
     ]
    },
    {
     "data": {
      "application/vnd.jupyter.widget-view+json": {
       "model_id": "0c8973925193435bb536bff4bb0bfcc8",
       "version_major": 2,
       "version_minor": 0
      },
      "text/plain": [
       "  0%|          | 0/25 [00:00<?, ?it/s]"
      ]
     },
     "metadata": {},
     "output_type": "display_data"
    },
    {
     "data": {
      "application/vnd.jupyter.widget-view+json": {
       "model_id": "17a5f25c150a46c98f1c3f6f582cd709",
       "version_major": 2,
       "version_minor": 0
      },
      "text/plain": [
       "  0%|          | 0/15 [00:00<?, ?it/s]"
      ]
     },
     "metadata": {},
     "output_type": "display_data"
    },
    {
     "data": {
      "application/vnd.jupyter.widget-view+json": {
       "model_id": "88a76803f5fd4a378213c76f3118b455",
       "version_major": 2,
       "version_minor": 0
      },
      "text/plain": [
       "  0%|          | 0/1 [00:00<?, ?it/s]"
      ]
     },
     "metadata": {},
     "output_type": "display_data"
    },
    {
     "name": "stdout",
     "output_type": "stream",
     "text": [
      "Initializing with an ARHMM using 25 steps of EM.\n"
     ]
    },
    {
     "data": {
      "application/vnd.jupyter.widget-view+json": {
       "model_id": "a57f079406e746f490ff7a6c974d8714",
       "version_major": 2,
       "version_minor": 0
      },
      "text/plain": [
       "  0%|          | 0/25 [00:00<?, ?it/s]"
      ]
     },
     "metadata": {},
     "output_type": "display_data"
    },
    {
     "data": {
      "application/vnd.jupyter.widget-view+json": {
       "model_id": "f2459912ba474874b1bf06699867eb4a",
       "version_major": 2,
       "version_minor": 0
      },
      "text/plain": [
       "  0%|          | 0/25 [00:00<?, ?it/s]"
      ]
     },
     "metadata": {},
     "output_type": "display_data"
    },
    {
     "data": {
      "application/vnd.jupyter.widget-view+json": {
       "model_id": "112ab47e00b2423c9a0cc26ed2ca257d",
       "version_major": 2,
       "version_minor": 0
      },
      "text/plain": [
       "  0%|          | 0/1 [00:00<?, ?it/s]"
      ]
     },
     "metadata": {},
     "output_type": "display_data"
    },
    {
     "name": "stdout",
     "output_type": "stream",
     "text": [
      "Initializing with an ARHMM using 25 steps of EM.\n"
     ]
    },
    {
     "data": {
      "application/vnd.jupyter.widget-view+json": {
       "model_id": "1484a81ed89c4a13bd315282d819c0aa",
       "version_major": 2,
       "version_minor": 0
      },
      "text/plain": [
       "  0%|          | 0/25 [00:00<?, ?it/s]"
      ]
     },
     "metadata": {},
     "output_type": "display_data"
    },
    {
     "data": {
      "application/vnd.jupyter.widget-view+json": {
       "model_id": "a14480606b214476949c5fbe27d41c0d",
       "version_major": 2,
       "version_minor": 0
      },
      "text/plain": [
       "  0%|          | 0/30 [00:00<?, ?it/s]"
      ]
     },
     "metadata": {},
     "output_type": "display_data"
    },
    {
     "name": "stderr",
     "output_type": "stream",
     "text": [
      "/tmp/ipykernel_35394/4010200283.py:8: DeprecationWarning: Conversion of an array with ndim > 0 to a scalar is deprecated, and will error in future. Ensure you extract a single element from your array before performing this operation. (Deprecated NumPy 1.25.)\n",
      "  lift_time = int((cue_times[:, trial_no] + lift_times[:, trial_no] - 50) / 1_000 * 30_000)\n",
      "/tmp/ipykernel_35394/4010200283.py:11: DeprecationWarning: Conversion of an array with ndim > 0 to a scalar is deprecated, and will error in future. Ensure you extract a single element from your array before performing this operation. (Deprecated NumPy 1.25.)\n",
      "  end_behavior = int((cue_times[:, trial_no] + mouth_times[:, trial_no] + 260) / 1_000 * 30_000)\n",
      "/tmp/ipykernel_35394/4010200283.py:20: DeprecationWarning: Conversion of an array with ndim > 0 to a scalar is deprecated, and will error in future. Ensure you extract a single element from your array before performing this operation. (Deprecated NumPy 1.25.)\n",
      "  c_start = int(cue_times[:, trial_no] / 1_000 * 30_000)\n"
     ]
    },
    {
     "data": {
      "application/vnd.jupyter.widget-view+json": {
       "model_id": "9d8a9e39f08542f882697fd6bbf794a9",
       "version_major": 2,
       "version_minor": 0
      },
      "text/plain": [
       "  0%|          | 0/1 [00:00<?, ?it/s]"
      ]
     },
     "metadata": {},
     "output_type": "display_data"
    },
    {
     "name": "stdout",
     "output_type": "stream",
     "text": [
      "Initializing with an ARHMM using 25 steps of EM.\n"
     ]
    },
    {
     "data": {
      "application/vnd.jupyter.widget-view+json": {
       "model_id": "0352c3cbf1a14787979386c3e338fed0",
       "version_major": 2,
       "version_minor": 0
      },
      "text/plain": [
       "  0%|          | 0/25 [00:00<?, ?it/s]"
      ]
     },
     "metadata": {},
     "output_type": "display_data"
    },
    {
     "data": {
      "application/vnd.jupyter.widget-view+json": {
       "model_id": "1829a1bbc4774beebccbdac217e1361d",
       "version_major": 2,
       "version_minor": 0
      },
      "text/plain": [
       "  0%|          | 0/15 [00:00<?, ?it/s]"
      ]
     },
     "metadata": {},
     "output_type": "display_data"
    },
    {
     "data": {
      "application/vnd.jupyter.widget-view+json": {
       "model_id": "710ca34c8ba24b2db5f7a197d1e77ef0",
       "version_major": 2,
       "version_minor": 0
      },
      "text/plain": [
       "  0%|          | 0/1 [00:00<?, ?it/s]"
      ]
     },
     "metadata": {},
     "output_type": "display_data"
    },
    {
     "name": "stdout",
     "output_type": "stream",
     "text": [
      "Initializing with an ARHMM using 25 steps of EM.\n"
     ]
    },
    {
     "data": {
      "application/vnd.jupyter.widget-view+json": {
       "model_id": "aa3f17d3d07140d1aa0271edfeaa6965",
       "version_major": 2,
       "version_minor": 0
      },
      "text/plain": [
       "  0%|          | 0/25 [00:00<?, ?it/s]"
      ]
     },
     "metadata": {},
     "output_type": "display_data"
    },
    {
     "data": {
      "application/vnd.jupyter.widget-view+json": {
       "model_id": "ccf418092d8043c6a1780def36a0f513",
       "version_major": 2,
       "version_minor": 0
      },
      "text/plain": [
       "  0%|          | 0/25 [00:00<?, ?it/s]"
      ]
     },
     "metadata": {},
     "output_type": "display_data"
    },
    {
     "data": {
      "application/vnd.jupyter.widget-view+json": {
       "model_id": "4ea68922a391496f8a2a538ac10d76ed",
       "version_major": 2,
       "version_minor": 0
      },
      "text/plain": [
       "  0%|          | 0/1 [00:00<?, ?it/s]"
      ]
     },
     "metadata": {},
     "output_type": "display_data"
    },
    {
     "name": "stdout",
     "output_type": "stream",
     "text": [
      "Initializing with an ARHMM using 25 steps of EM.\n"
     ]
    },
    {
     "data": {
      "application/vnd.jupyter.widget-view+json": {
       "model_id": "62f819de97614938a44c46ce4e5e95c3",
       "version_major": 2,
       "version_minor": 0
      },
      "text/plain": [
       "  0%|          | 0/25 [00:00<?, ?it/s]"
      ]
     },
     "metadata": {},
     "output_type": "display_data"
    },
    {
     "data": {
      "application/vnd.jupyter.widget-view+json": {
       "model_id": "fa7b4d3c95f346b5983d7c15505e6d30",
       "version_major": 2,
       "version_minor": 0
      },
      "text/plain": [
       "  0%|          | 0/30 [00:00<?, ?it/s]"
      ]
     },
     "metadata": {},
     "output_type": "display_data"
    },
    {
     "name": "stderr",
     "output_type": "stream",
     "text": [
      " 50%|█████████████████                 | 1/2 [02:53<02:53, 173.54s/it]/tmp/ipykernel_35394/4010200283.py:8: DeprecationWarning: Conversion of an array with ndim > 0 to a scalar is deprecated, and will error in future. Ensure you extract a single element from your array before performing this operation. (Deprecated NumPy 1.25.)\n",
      "  lift_time = int((cue_times[:, trial_no] + lift_times[:, trial_no] - 50) / 1_000 * 30_000)\n",
      "/tmp/ipykernel_35394/4010200283.py:11: DeprecationWarning: Conversion of an array with ndim > 0 to a scalar is deprecated, and will error in future. Ensure you extract a single element from your array before performing this operation. (Deprecated NumPy 1.25.)\n",
      "  end_behavior = int((cue_times[:, trial_no] + mouth_times[:, trial_no] + 260) / 1_000 * 30_000)\n",
      "/tmp/ipykernel_35394/4010200283.py:20: DeprecationWarning: Conversion of an array with ndim > 0 to a scalar is deprecated, and will error in future. Ensure you extract a single element from your array before performing this operation. (Deprecated NumPy 1.25.)\n",
      "  c_start = int(cue_times[:, trial_no] / 1_000 * 30_000)\n"
     ]
    },
    {
     "data": {
      "application/vnd.jupyter.widget-view+json": {
       "model_id": "f17c7c451b9b4aab82a7b49c9cebbde8",
       "version_major": 2,
       "version_minor": 0
      },
      "text/plain": [
       "  0%|          | 0/1 [00:00<?, ?it/s]"
      ]
     },
     "metadata": {},
     "output_type": "display_data"
    },
    {
     "name": "stdout",
     "output_type": "stream",
     "text": [
      "Initializing with an ARHMM using 25 steps of EM.\n"
     ]
    },
    {
     "data": {
      "application/vnd.jupyter.widget-view+json": {
       "model_id": "e7e2f1551ad746498cda5ac4cad49b8f",
       "version_major": 2,
       "version_minor": 0
      },
      "text/plain": [
       "  0%|          | 0/25 [00:00<?, ?it/s]"
      ]
     },
     "metadata": {},
     "output_type": "display_data"
    },
    {
     "data": {
      "application/vnd.jupyter.widget-view+json": {
       "model_id": "f30c97da6d654b58bbdf5bff4b66105c",
       "version_major": 2,
       "version_minor": 0
      },
      "text/plain": [
       "  0%|          | 0/15 [00:00<?, ?it/s]"
      ]
     },
     "metadata": {},
     "output_type": "display_data"
    },
    {
     "name": "stderr",
     "output_type": "stream",
     "text": [
      "/tmp/ipykernel_35394/2099469971.py:44: RuntimeWarning: More than 20 figures have been opened. Figures created through the pyplot interface (`matplotlib.pyplot.figure`) are retained until explicitly closed and may consume too much memory. (To control this warning, see the rcParam `figure.max_open_warning`). Consider using `matplotlib.pyplot.close()`.\n",
      "  fig = plt.figure(figsize=(10, 10))\n"
     ]
    },
    {
     "data": {
      "application/vnd.jupyter.widget-view+json": {
       "model_id": "2c44c22ba4fc415d8b35d03a54ce567c",
       "version_major": 2,
       "version_minor": 0
      },
      "text/plain": [
       "  0%|          | 0/1 [00:00<?, ?it/s]"
      ]
     },
     "metadata": {},
     "output_type": "display_data"
    },
    {
     "name": "stdout",
     "output_type": "stream",
     "text": [
      "Initializing with an ARHMM using 25 steps of EM.\n"
     ]
    },
    {
     "data": {
      "application/vnd.jupyter.widget-view+json": {
       "model_id": "466ab3f9d1c74c2ca46d2a403d4897ee",
       "version_major": 2,
       "version_minor": 0
      },
      "text/plain": [
       "  0%|          | 0/25 [00:00<?, ?it/s]"
      ]
     },
     "metadata": {},
     "output_type": "display_data"
    },
    {
     "data": {
      "application/vnd.jupyter.widget-view+json": {
       "model_id": "37f79186a39c493891a534028134dc2e",
       "version_major": 2,
       "version_minor": 0
      },
      "text/plain": [
       "  0%|          | 0/25 [00:00<?, ?it/s]"
      ]
     },
     "metadata": {},
     "output_type": "display_data"
    },
    {
     "data": {
      "application/vnd.jupyter.widget-view+json": {
       "model_id": "27d3d9c1d05e4c7491db3ba86e8857b8",
       "version_major": 2,
       "version_minor": 0
      },
      "text/plain": [
       "  0%|          | 0/1 [00:00<?, ?it/s]"
      ]
     },
     "metadata": {},
     "output_type": "display_data"
    },
    {
     "name": "stdout",
     "output_type": "stream",
     "text": [
      "Initializing with an ARHMM using 25 steps of EM.\n"
     ]
    },
    {
     "data": {
      "application/vnd.jupyter.widget-view+json": {
       "model_id": "36d9fed798554d3ab34607295830006e",
       "version_major": 2,
       "version_minor": 0
      },
      "text/plain": [
       "  0%|          | 0/25 [00:00<?, ?it/s]"
      ]
     },
     "metadata": {},
     "output_type": "display_data"
    },
    {
     "data": {
      "application/vnd.jupyter.widget-view+json": {
       "model_id": "d6f57246d7b34ac19e49e02a98406f03",
       "version_major": 2,
       "version_minor": 0
      },
      "text/plain": [
       "  0%|          | 0/30 [00:00<?, ?it/s]"
      ]
     },
     "metadata": {},
     "output_type": "display_data"
    },
    {
     "name": "stderr",
     "output_type": "stream",
     "text": [
      "/tmp/ipykernel_35394/4010200283.py:8: DeprecationWarning: Conversion of an array with ndim > 0 to a scalar is deprecated, and will error in future. Ensure you extract a single element from your array before performing this operation. (Deprecated NumPy 1.25.)\n",
      "  lift_time = int((cue_times[:, trial_no] + lift_times[:, trial_no] - 50) / 1_000 * 30_000)\n",
      "/tmp/ipykernel_35394/4010200283.py:11: DeprecationWarning: Conversion of an array with ndim > 0 to a scalar is deprecated, and will error in future. Ensure you extract a single element from your array before performing this operation. (Deprecated NumPy 1.25.)\n",
      "  end_behavior = int((cue_times[:, trial_no] + mouth_times[:, trial_no] + 260) / 1_000 * 30_000)\n",
      "/tmp/ipykernel_35394/4010200283.py:20: DeprecationWarning: Conversion of an array with ndim > 0 to a scalar is deprecated, and will error in future. Ensure you extract a single element from your array before performing this operation. (Deprecated NumPy 1.25.)\n",
      "  c_start = int(cue_times[:, trial_no] / 1_000 * 30_000)\n"
     ]
    },
    {
     "data": {
      "application/vnd.jupyter.widget-view+json": {
       "model_id": "9340b3c265804976bedd49f1d610e66a",
       "version_major": 2,
       "version_minor": 0
      },
      "text/plain": [
       "  0%|          | 0/1 [00:00<?, ?it/s]"
      ]
     },
     "metadata": {},
     "output_type": "display_data"
    },
    {
     "name": "stdout",
     "output_type": "stream",
     "text": [
      "Initializing with an ARHMM using 25 steps of EM.\n"
     ]
    },
    {
     "data": {
      "application/vnd.jupyter.widget-view+json": {
       "model_id": "a9269ce2765e40c99e2f1fa8f6c26925",
       "version_major": 2,
       "version_minor": 0
      },
      "text/plain": [
       "  0%|          | 0/25 [00:00<?, ?it/s]"
      ]
     },
     "metadata": {},
     "output_type": "display_data"
    },
    {
     "data": {
      "application/vnd.jupyter.widget-view+json": {
       "model_id": "29e3991b2f434e4a94be282903c21eb4",
       "version_major": 2,
       "version_minor": 0
      },
      "text/plain": [
       "  0%|          | 0/15 [00:00<?, ?it/s]"
      ]
     },
     "metadata": {},
     "output_type": "display_data"
    },
    {
     "data": {
      "application/vnd.jupyter.widget-view+json": {
       "model_id": "023d9757868d4c7da837b642bcd9c1f9",
       "version_major": 2,
       "version_minor": 0
      },
      "text/plain": [
       "  0%|          | 0/1 [00:00<?, ?it/s]"
      ]
     },
     "metadata": {},
     "output_type": "display_data"
    },
    {
     "name": "stdout",
     "output_type": "stream",
     "text": [
      "Initializing with an ARHMM using 25 steps of EM.\n"
     ]
    },
    {
     "data": {
      "application/vnd.jupyter.widget-view+json": {
       "model_id": "487ffa1b53be4db4aeac9fed22ac10eb",
       "version_major": 2,
       "version_minor": 0
      },
      "text/plain": [
       "  0%|          | 0/25 [00:00<?, ?it/s]"
      ]
     },
     "metadata": {},
     "output_type": "display_data"
    },
    {
     "data": {
      "application/vnd.jupyter.widget-view+json": {
       "model_id": "f282bd368d36449487f49dc2d31fc591",
       "version_major": 2,
       "version_minor": 0
      },
      "text/plain": [
       "  0%|          | 0/25 [00:00<?, ?it/s]"
      ]
     },
     "metadata": {},
     "output_type": "display_data"
    },
    {
     "data": {
      "application/vnd.jupyter.widget-view+json": {
       "model_id": "d04006d7111c4ca9ae8ef6999000eaf4",
       "version_major": 2,
       "version_minor": 0
      },
      "text/plain": [
       "  0%|          | 0/1 [00:00<?, ?it/s]"
      ]
     },
     "metadata": {},
     "output_type": "display_data"
    },
    {
     "name": "stdout",
     "output_type": "stream",
     "text": [
      "Initializing with an ARHMM using 25 steps of EM.\n"
     ]
    },
    {
     "data": {
      "application/vnd.jupyter.widget-view+json": {
       "model_id": "0a69f51ca38c4d71b6c88d3a615a9fa8",
       "version_major": 2,
       "version_minor": 0
      },
      "text/plain": [
       "  0%|          | 0/25 [00:00<?, ?it/s]"
      ]
     },
     "metadata": {},
     "output_type": "display_data"
    },
    {
     "data": {
      "application/vnd.jupyter.widget-view+json": {
       "model_id": "6fc8162deb264976ba9b244d0215e861",
       "version_major": 2,
       "version_minor": 0
      },
      "text/plain": [
       "  0%|          | 0/30 [00:00<?, ?it/s]"
      ]
     },
     "metadata": {},
     "output_type": "display_data"
    },
    {
     "name": "stderr",
     "output_type": "stream",
     "text": [
      "100%|██████████████████████████████████| 2/2 [05:40<00:00, 170.39s/it]\n"
     ]
    },
    {
     "data": {
      "text/plain": [
       "<Figure size 640x480 with 0 Axes>"
      ]
     },
     "metadata": {},
     "output_type": "display_data"
    },
    {
     "data": {
      "text/plain": [
       "<Figure size 600x600 with 0 Axes>"
      ]
     },
     "metadata": {},
     "output_type": "display_data"
    },
    {
     "data": {
      "text/plain": [
       "<Figure size 1000x1000 with 0 Axes>"
      ]
     },
     "metadata": {},
     "output_type": "display_data"
    },
    {
     "data": {
      "text/plain": [
       "<Figure size 1400x1400 with 0 Axes>"
      ]
     },
     "metadata": {},
     "output_type": "display_data"
    },
    {
     "data": {
      "text/plain": [
       "<Figure size 600x600 with 0 Axes>"
      ]
     },
     "metadata": {},
     "output_type": "display_data"
    },
    {
     "data": {
      "text/plain": [
       "<Figure size 1000x1000 with 0 Axes>"
      ]
     },
     "metadata": {},
     "output_type": "display_data"
    },
    {
     "data": {
      "text/plain": [
       "<Figure size 1400x1400 with 0 Axes>"
      ]
     },
     "metadata": {},
     "output_type": "display_data"
    },
    {
     "data": {
      "text/plain": [
       "<Figure size 600x600 with 0 Axes>"
      ]
     },
     "metadata": {},
     "output_type": "display_data"
    },
    {
     "data": {
      "text/plain": [
       "<Figure size 1000x1000 with 0 Axes>"
      ]
     },
     "metadata": {},
     "output_type": "display_data"
    },
    {
     "data": {
      "text/plain": [
       "<Figure size 1400x1400 with 0 Axes>"
      ]
     },
     "metadata": {},
     "output_type": "display_data"
    },
    {
     "data": {
      "text/plain": [
       "<Figure size 600x600 with 0 Axes>"
      ]
     },
     "metadata": {},
     "output_type": "display_data"
    },
    {
     "data": {
      "text/plain": [
       "<Figure size 1000x1000 with 0 Axes>"
      ]
     },
     "metadata": {},
     "output_type": "display_data"
    },
    {
     "data": {
      "text/plain": [
       "<Figure size 1400x1400 with 0 Axes>"
      ]
     },
     "metadata": {},
     "output_type": "display_data"
    },
    {
     "data": {
      "text/plain": [
       "<Figure size 600x600 with 0 Axes>"
      ]
     },
     "metadata": {},
     "output_type": "display_data"
    },
    {
     "data": {
      "text/plain": [
       "<Figure size 1000x1000 with 0 Axes>"
      ]
     },
     "metadata": {},
     "output_type": "display_data"
    },
    {
     "data": {
      "text/plain": [
       "<Figure size 1400x1400 with 0 Axes>"
      ]
     },
     "metadata": {},
     "output_type": "display_data"
    },
    {
     "data": {
      "text/plain": [
       "<Figure size 600x600 with 0 Axes>"
      ]
     },
     "metadata": {},
     "output_type": "display_data"
    },
    {
     "data": {
      "text/plain": [
       "<Figure size 1000x1000 with 0 Axes>"
      ]
     },
     "metadata": {},
     "output_type": "display_data"
    },
    {
     "data": {
      "text/plain": [
       "<Figure size 1400x1400 with 0 Axes>"
      ]
     },
     "metadata": {},
     "output_type": "display_data"
    },
    {
     "data": {
      "text/plain": [
       "<Figure size 600x600 with 0 Axes>"
      ]
     },
     "metadata": {},
     "output_type": "display_data"
    },
    {
     "data": {
      "text/plain": [
       "<Figure size 1000x1000 with 0 Axes>"
      ]
     },
     "metadata": {},
     "output_type": "display_data"
    },
    {
     "data": {
      "text/plain": [
       "<Figure size 1400x1400 with 0 Axes>"
      ]
     },
     "metadata": {},
     "output_type": "display_data"
    },
    {
     "data": {
      "text/plain": [
       "<Figure size 600x600 with 0 Axes>"
      ]
     },
     "metadata": {},
     "output_type": "display_data"
    },
    {
     "data": {
      "text/plain": [
       "<Figure size 1000x1000 with 0 Axes>"
      ]
     },
     "metadata": {},
     "output_type": "display_data"
    },
    {
     "data": {
      "text/plain": [
       "<Figure size 1400x1400 with 0 Axes>"
      ]
     },
     "metadata": {},
     "output_type": "display_data"
    },
    {
     "data": {
      "text/plain": [
       "<Figure size 600x600 with 0 Axes>"
      ]
     },
     "metadata": {},
     "output_type": "display_data"
    },
    {
     "data": {
      "text/plain": [
       "<Figure size 1000x1000 with 0 Axes>"
      ]
     },
     "metadata": {},
     "output_type": "display_data"
    },
    {
     "data": {
      "text/plain": [
       "<Figure size 1400x1400 with 0 Axes>"
      ]
     },
     "metadata": {},
     "output_type": "display_data"
    },
    {
     "data": {
      "text/plain": [
       "<Figure size 600x600 with 0 Axes>"
      ]
     },
     "metadata": {},
     "output_type": "display_data"
    },
    {
     "data": {
      "text/plain": [
       "<Figure size 1000x1000 with 0 Axes>"
      ]
     },
     "metadata": {},
     "output_type": "display_data"
    },
    {
     "data": {
      "text/plain": [
       "<Figure size 1400x1400 with 0 Axes>"
      ]
     },
     "metadata": {},
     "output_type": "display_data"
    },
    {
     "data": {
      "text/plain": [
       "<Figure size 600x600 with 0 Axes>"
      ]
     },
     "metadata": {},
     "output_type": "display_data"
    },
    {
     "data": {
      "text/plain": [
       "<Figure size 1000x1000 with 0 Axes>"
      ]
     },
     "metadata": {},
     "output_type": "display_data"
    },
    {
     "data": {
      "text/plain": [
       "<Figure size 1400x1400 with 0 Axes>"
      ]
     },
     "metadata": {},
     "output_type": "display_data"
    },
    {
     "data": {
      "text/plain": [
       "<Figure size 600x600 with 0 Axes>"
      ]
     },
     "metadata": {},
     "output_type": "display_data"
    },
    {
     "data": {
      "text/plain": [
       "<Figure size 1000x1000 with 0 Axes>"
      ]
     },
     "metadata": {},
     "output_type": "display_data"
    },
    {
     "data": {
      "text/plain": [
       "<Figure size 1400x1400 with 0 Axes>"
      ]
     },
     "metadata": {},
     "output_type": "display_data"
    }
   ],
   "source": [
    "for b in tqdm(bin_sizes):\n",
    "    sigs = sigmas[b] \n",
    "    for s in sigs:\n",
    "        model_data = get_trials(control_idxs, b, s)\n",
    "        for n in num_iters:\n",
    "            fit_model(model_data, b, s, num_iters=n)"
   ]
  },
  {
   "cell_type": "code",
   "execution_count": null,
   "id": "7ed56e95-2780-41e1-909f-3860a26cad6b",
   "metadata": {},
   "outputs": [],
   "source": []
  },
  {
   "cell_type": "code",
   "execution_count": null,
   "id": "d942e490-200c-4f5f-9705-5adfb098b55d",
   "metadata": {},
   "outputs": [],
   "source": []
  },
  {
   "cell_type": "code",
   "execution_count": null,
   "id": "88f6a266-487f-4f62-a3d3-08fc87019877",
   "metadata": {},
   "outputs": [],
   "source": []
  },
  {
   "cell_type": "code",
   "execution_count": null,
   "id": "6d38535d-65e4-4a09-ad6d-fe82865521ce",
   "metadata": {},
   "outputs": [],
   "source": []
  },
  {
   "cell_type": "code",
   "execution_count": null,
   "id": "a7bb51d8-95af-4b7e-b150-5f0c389a46d0",
   "metadata": {},
   "outputs": [],
   "source": []
  }
 ],
 "metadata": {
  "kernelspec": {
   "display_name": "Python 3 (ipykernel)",
   "language": "python",
   "name": "python3"
  },
  "language_info": {
   "codemirror_mode": {
    "name": "ipython",
    "version": 3
   },
   "file_extension": ".py",
   "mimetype": "text/x-python",
   "name": "python",
   "nbconvert_exporter": "python",
   "pygments_lexer": "ipython3",
   "version": "3.11.12"
  }
 },
 "nbformat": 4,
 "nbformat_minor": 5
}
