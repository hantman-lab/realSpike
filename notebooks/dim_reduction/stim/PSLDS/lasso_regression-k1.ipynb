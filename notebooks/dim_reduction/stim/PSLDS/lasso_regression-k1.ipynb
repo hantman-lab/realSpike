{
 "cells": [
  {
   "cell_type": "markdown",
   "id": "8617ad2d-59b3-4b48-8067-d1f5134d2a5f",
   "metadata": {},
   "source": [
    "# Lasso Regression on SLDS"
   ]
  },
  {
   "cell_type": "code",
   "execution_count": 1,
   "id": "9d4b9d07-774e-4262-ae3e-00103f761c03",
   "metadata": {},
   "outputs": [],
   "source": [
    "path = \"/home/clewis/repos/realSpike/data/rb50_20250127/switching_plds/k2/\""
   ]
  },
  {
   "cell_type": "code",
   "execution_count": null,
   "id": "92e3427e-01ed-42e2-aadc-4c6a5e36ab7a",
   "metadata": {},
   "outputs": [],
   "source": []
  },
  {
   "cell_type": "code",
   "execution_count": 2,
   "id": "f35d2b6c-448b-45e5-8abf-301219bf5649",
   "metadata": {},
   "outputs": [],
   "source": [
    "from scipy.linalg import block_diag\n",
    "import autograd.numpy as np\n",
    "import matplotlib.pyplot as plt\n",
    "import ssm\n",
    "\n",
    "from pathlib import Path\n",
    "from scipy.io import loadmat\n",
    "import numpy as np\n",
    "import matplotlib.pyplot as plt\n",
    "from tqdm import tqdm\n",
    "from real_spike.utils import get_spike_events, kalman_filter, bin_spikes, butter_filter, plot_dynamics_2d, plot_dynamics_3d\n",
    "from matplotlib import colormaps\n",
    "import pandas as pd\n",
    "import h5py\n",
    "\n",
    "from scipy.ndimage import gaussian_filter1d\n",
    "from mpl_toolkits.mplot3d import Axes3D \n",
    "\n",
    "import random\n",
    "\n",
    "%matplotlib inline"
   ]
  },
  {
   "cell_type": "markdown",
   "id": "31686f79-080f-4988-932b-7bea0da75f83",
   "metadata": {},
   "source": [
    "# Get data"
   ]
  },
  {
   "cell_type": "code",
   "execution_count": 3,
   "id": "704b235a-9476-433e-be0a-7aebbbf150ba",
   "metadata": {},
   "outputs": [
    {
     "name": "stdout",
     "output_type": "stream",
     "text": [
      "<KeysViewHDF5 ['aligned_laser_rec_time', 'any', 'cue', 'cue_rec_time', 'cue_trial_time', 'field_id', 'field_size', 'full_field', 'grab', 'grab_ms', 'laser', 'laser_rec_time', 'laser_trial_time', 'lift', 'lift_ms', 'mouth', 'mouth_ms', 'no_success', 'pattern_fill', 'pattern_id', 'pattern_xy', 'single', 'totTime', 'trial_start']>\n"
     ]
    }
   ],
   "source": [
    "f = h5py.File(\"/home/clewis/wasabi/reaganbullins2/ProjectionProject/rb50/20250127/MAT_FILES/rb50_20250127_datastruct_pt3.mat\", 'r')\n",
    "data = f['data']\n",
    "print(data.keys())"
   ]
  },
  {
   "cell_type": "code",
   "execution_count": null,
   "id": "a6221af3-529e-4b10-928c-097d37ce77b2",
   "metadata": {},
   "outputs": [],
   "source": []
  },
  {
   "cell_type": "code",
   "execution_count": null,
   "id": "d682dc00-df71-445f-9d7f-44d73f8ae29c",
   "metadata": {},
   "outputs": [],
   "source": []
  },
  {
   "cell_type": "code",
   "execution_count": null,
   "id": "97b6f895-6836-4721-a5a5-65e16b574e38",
   "metadata": {},
   "outputs": [],
   "source": []
  },
  {
   "cell_type": "code",
   "execution_count": 4,
   "id": "4ac69669-6760-4046-b33f-d1d197b2e646",
   "metadata": {},
   "outputs": [],
   "source": [
    "bin_size = 1"
   ]
  },
  {
   "cell_type": "code",
   "execution_count": 5,
   "id": "b9418b4f-9b99-4575-a9d6-b32b7a039217",
   "metadata": {},
   "outputs": [],
   "source": [
    "# save as a pickle file \n",
    "import pickle"
   ]
  },
  {
   "cell_type": "code",
   "execution_count": 6,
   "id": "6196bf8d-f4cd-4bf2-982d-a172092f381e",
   "metadata": {},
   "outputs": [],
   "source": [
    "filename = f\"/home/clewis/repos/realSpike/data/rb50_20250127/plds_stim/{bin_size}ms_data.pkl\"\n",
    "# with open(filename, \"wb\") as file:\n",
    "#     pickle.dump(model_data, file)"
   ]
  },
  {
   "cell_type": "code",
   "execution_count": 7,
   "id": "d5c1e44a-2c95-4c7c-9a78-234c87e16fad",
   "metadata": {},
   "outputs": [],
   "source": [
    "with open(filename, \"rb\") as file:\n",
    "    model_data = pickle.load(file)"
   ]
  },
  {
   "cell_type": "code",
   "execution_count": null,
   "id": "6018ec7a-8053-453c-9a3c-7f58edb7d28b",
   "metadata": {},
   "outputs": [],
   "source": []
  },
  {
   "cell_type": "markdown",
   "id": "1f1a698c-5821-4607-b9bf-6a5c8ca7871e",
   "metadata": {},
   "source": [
    "# Design the input matrix"
   ]
  },
  {
   "cell_type": "code",
   "execution_count": 8,
   "id": "63145c88-fe04-4b11-8d0a-85a457c0a5a4",
   "metadata": {},
   "outputs": [
    {
     "data": {
      "text/plain": [
       "array([151, 152, 153, 154, 155, 156, 157, 158, 160, 161, 162, 163, 164,\n",
       "       165, 166, 167, 168, 169, 170, 171, 172, 173, 174, 175, 176, 177,\n",
       "       179, 180, 181, 182, 183, 185, 186, 187, 188, 189, 190, 191, 192,\n",
       "       193, 194, 196, 197, 198, 199, 200, 201, 202, 203, 204, 205, 206,\n",
       "       207, 208, 209, 210, 211, 212, 213, 214, 215, 216, 217, 219, 220,\n",
       "       221, 223, 224, 225, 226, 227, 228, 229, 230, 231, 232, 233, 234,\n",
       "       235, 236, 237, 238, 239, 240, 241, 242, 243, 244, 246, 247, 248,\n",
       "       249, 250, 251, 252, 253, 254, 256, 257, 258, 259, 260, 261, 262,\n",
       "       263, 264, 265, 266, 267, 268, 269, 270, 271, 272, 273, 274, 275,\n",
       "       276, 277, 278, 279, 280, 281, 282, 283, 284, 285, 286, 287, 289,\n",
       "       290, 291, 292, 294, 296, 297, 298, 299, 300, 301, 302, 303, 304,\n",
       "       305, 306, 307, 308, 309, 310, 311, 312, 313, 314, 315, 316, 317,\n",
       "       318, 319, 320, 321, 323, 324, 325, 326, 327, 328, 330, 331, 333,\n",
       "       334, 335, 336, 337, 338, 339, 340, 341, 342, 343, 344, 345, 346,\n",
       "       347, 348, 349, 350, 351, 352, 353, 354, 355, 356, 357, 358, 359,\n",
       "       360, 361, 362, 364, 365, 366, 367, 368, 370, 371, 372, 373, 374,\n",
       "       375, 376, 377, 378, 379, 380, 381, 382, 383, 384, 386, 388, 389,\n",
       "       390, 391, 392, 393, 394, 395, 396, 397, 398, 399, 400, 401, 402,\n",
       "       403, 404, 405, 406, 407, 408, 409, 410, 411, 412, 413, 414, 415,\n",
       "       416, 419, 420, 421, 422, 423, 424, 425, 426, 427, 428, 429, 430,\n",
       "       431, 432, 433, 434, 435, 436, 437, 438, 439])"
      ]
     },
     "execution_count": 8,
     "metadata": {},
     "output_type": "execute_result"
    }
   ],
   "source": [
    "stim_idxs = np.where(data[\"pattern_id\"][:] > 2)[1]\n",
    "\n",
    "# control_idxs = np.intersect1d(control_idxs, stim_idxs)\n",
    "# con\n",
    "stim_idxs = stim_idxs[stim_idxs > 150]\n",
    "stim_idxs"
   ]
  },
  {
   "cell_type": "code",
   "execution_count": null,
   "id": "e4130226-d45e-4139-8bc7-07b456535497",
   "metadata": {},
   "outputs": [],
   "source": []
  },
  {
   "cell_type": "code",
   "execution_count": 9,
   "id": "ba2338c6-ba3b-4141-9079-a9f80df5ecf7",
   "metadata": {},
   "outputs": [
    {
     "data": {
      "text/plain": [
       "array([ 3.,  4.,  5.,  6.,  7.,  8.,  9., 10., 11., 12., 13., 14., 15.,\n",
       "       16., 17., 18., 19., 20., 21., 22., 23., 24., 25., 26., 27., 28.,\n",
       "       29.])"
      ]
     },
     "execution_count": 9,
     "metadata": {},
     "output_type": "execute_result"
    }
   ],
   "source": [
    "np.unique(data[\"pattern_id\"][0, stim_idxs])"
   ]
  },
  {
   "cell_type": "code",
   "execution_count": 10,
   "id": "135479bd-60cf-4b78-acad-23676ed8cd1d",
   "metadata": {},
   "outputs": [
    {
     "data": {
      "text/plain": [
       "(269,)"
      ]
     },
     "execution_count": 10,
     "metadata": {},
     "output_type": "execute_result"
    }
   ],
   "source": [
    "stim_idxs.shape"
   ]
  },
  {
   "cell_type": "code",
   "execution_count": 11,
   "id": "353aafd5-36f5-4c7f-8a36-ddeb228c685b",
   "metadata": {},
   "outputs": [],
   "source": [
    "# get the pattern types"
   ]
  },
  {
   "cell_type": "code",
   "execution_count": 12,
   "id": "6eaa7c5b-9f4b-4447-939f-75835f411357",
   "metadata": {},
   "outputs": [
    {
     "data": {
      "text/plain": [
       "array([ 3.,  4.,  5.,  6.,  7.,  8.,  9., 10., 11., 12., 13., 14., 15.,\n",
       "       16., 17., 18., 19., 20., 21., 22., 23., 24., 25., 26., 27., 28.,\n",
       "       29.])"
      ]
     },
     "execution_count": 12,
     "metadata": {},
     "output_type": "execute_result"
    }
   ],
   "source": [
    "p_ids = np.unique(data[\"pattern_id\"][0, stim_idxs])\n",
    "\n",
    "p_ids"
   ]
  },
  {
   "cell_type": "code",
   "execution_count": 13,
   "id": "8f48560a-37a4-4421-ab06-33b19fc3d2d4",
   "metadata": {},
   "outputs": [
    {
     "data": {
      "text/plain": [
       "(27,)"
      ]
     },
     "execution_count": 13,
     "metadata": {},
     "output_type": "execute_result"
    }
   ],
   "source": [
    "p_ids.shape"
   ]
  },
  {
   "cell_type": "code",
   "execution_count": null,
   "id": "b3bed49c-f85c-4662-b0cd-ac8f167dbfbc",
   "metadata": {},
   "outputs": [],
   "source": []
  },
  {
   "cell_type": "markdown",
   "id": "96d3adda-15be-48c6-8931-f72fd23f6605",
   "metadata": {},
   "source": [
    "## Get colors for plotting"
   ]
  },
  {
   "cell_type": "code",
   "execution_count": 14,
   "id": "21f99130-5555-42a7-9f0d-b837b67ae815",
   "metadata": {},
   "outputs": [],
   "source": [
    "c = [\n",
    "    \"maroon\",\n",
    "    \"deeppink\",\n",
    "    \"palevioletred\", \n",
    "    \"blue\", \n",
    "    \"orange\", \n",
    "    \"green\", \n",
    "    \"red\", \n",
    "    \"purple\", \n",
    "    \"brown\", \n",
    "    \"pink\",\n",
    "    \"turquoise\", \n",
    "    \"olive\", \n",
    "    \"cyan\", \n",
    "    \"gold\", \n",
    "    \"lime\", \n",
    "    \"navy\", \n",
    "    \"magenta\",\n",
    "    \"teal\", \n",
    "    \"royalblue\", \n",
    "    \"darkgreen\",\n",
    "    \"dimgray\",\n",
    "    \"darkgoldenrod\",\n",
    "    \"midnightblue\",\n",
    "    \"plum\",\n",
    "    \"lime\",\n",
    "    \"cadetblue\",\n",
    "    \"steelblue\",\n",
    "    \"peru\"\n",
    "]"
   ]
  },
  {
   "cell_type": "code",
   "execution_count": 15,
   "id": "4a362351-9bce-4c5a-a1d9-1a678e2813d6",
   "metadata": {},
   "outputs": [
    {
     "data": {
      "text/plain": [
       "28"
      ]
     },
     "execution_count": 15,
     "metadata": {},
     "output_type": "execute_result"
    }
   ],
   "source": [
    "len(c)"
   ]
  },
  {
   "cell_type": "code",
   "execution_count": 16,
   "id": "7250c463-1116-4774-8ee3-de088d04b14e",
   "metadata": {},
   "outputs": [
    {
     "data": {
      "text/plain": [
       "<matplotlib.image.AxesImage at 0x7f03f7c2a810>"
      ]
     },
     "execution_count": 16,
     "metadata": {},
     "output_type": "execute_result"
    },
    {
     "data": {
      "image/png": "[encoded data removed]",
      "text/plain": [
       "<Figure size 640x480 with 1 Axes>"
      ]
     },
     "metadata": {},
     "output_type": "display_data"
    }
   ],
   "source": [
    "from matplotlib.colors import ListedColormap\n",
    "\n",
    "cmap = ListedColormap(c)\n",
    "\n",
    "plt.imshow(np.arange(27).reshape(1,-1), aspect=\"auto\", cmap=cmap)"
   ]
  },
  {
   "cell_type": "markdown",
   "id": "87af6111-99b2-4092-a091-7d33ca41660d",
   "metadata": {},
   "source": [
    "# Create encodings "
   ]
  },
  {
   "cell_type": "markdown",
   "id": "15c92ed6-a1d7-483e-bc5b-aff5a23835e8",
   "metadata": {},
   "source": [
    "##  Reconstruct patterns"
   ]
  },
  {
   "cell_type": "code",
   "execution_count": 17,
   "id": "0ab34d5e-86cc-43a2-abe9-d4b965c465e0",
   "metadata": {},
   "outputs": [
    {
     "name": "stdout",
     "output_type": "stream",
     "text": [
      "('totTime', 'cue', 'laser', 'trial_start', 'cue_rec_time', 'cue_trial_time', 'laser_rec_time', 'laser_trial_time', 'field_size', 'pattern_xy', 'field_id', 'full_field', 'pattern_id', 'pattern_fill', 'lift_ms', 'lift', 'grab_ms', 'grab', 'mouth_ms', 'mouth', 'single', 'any', 'no_success')\n"
     ]
    }
   ],
   "source": [
    "mat = loadmat(\"/home/clewis/wasabi/reaganbullins2/ProjectionProject/rb50/20250127/MAT_FILES/rb50_20250127_datastruct_pt2.mat\")\n",
    "mat = mat['data']\n",
    "\n",
    "print(mat.dtype.names)"
   ]
  },
  {
   "cell_type": "code",
   "execution_count": 18,
   "id": "a8d47d8c-dfdb-484d-a596-8ff375b32784",
   "metadata": {},
   "outputs": [],
   "source": [
    "data_struct = mat[0, 0]  # MATLAB structs are 2D arrays even if 1x1\n",
    "data2 = {field: data_struct[field] for field in mat.dtype.names}"
   ]
  },
  {
   "cell_type": "code",
   "execution_count": 19,
   "id": "98e6bc6d-1cdf-4c6f-b9df-8e3e8027bc67",
   "metadata": {},
   "outputs": [
    {
     "data": {
      "text/plain": [
       "30"
      ]
     },
     "execution_count": 19,
     "metadata": {},
     "output_type": "execute_result"
    }
   ],
   "source": [
    "# visualize the patterns again\n",
    "pattern_ids = list(np.unique(data2['pattern_id']))\n",
    "len(pattern_ids)"
   ]
  },
  {
   "cell_type": "code",
   "execution_count": 20,
   "id": "23760e7b-4197-4a2e-9ca9-c1d34f0b86c2",
   "metadata": {},
   "outputs": [],
   "source": [
    "from scipy.ndimage import zoom"
   ]
  },
  {
   "cell_type": "code",
   "execution_count": 21,
   "id": "e9721cb1-5603-48f5-ba64-e99b1edbf5aa",
   "metadata": {},
   "outputs": [],
   "source": [
    "reshape_size = 12"
   ]
  },
  {
   "cell_type": "code",
   "execution_count": 22,
   "id": "f1a18c9d-0dfd-47ed-b0ca-3943eb6bb509",
   "metadata": {},
   "outputs": [],
   "source": [
    "pattern_ids = list(np.unique(data2['pattern_id']))\n",
    "all_patterns = list()\n",
    "# pattern 0 = no laser\n",
    "#all_patterns.append(np.zeros((12, 12)))\n",
    "# pattern 1 = full field\n",
    "#all_patterns.append(np.ones((12, 12)))\n",
    "# pattern 2 = empty field \n",
    "#all_patterns.append(np.zeros((12, 12)))\n",
    "for p_id in pattern_ids[3:]:\n",
    "    ix = np.where(data2['pattern_id'] == p_id)[0][0].astype(np.int32)\n",
    "    pattern = np.zeros((data2['pattern_xy'][ix][0].astype(np.int32), data2['pattern_xy'][ix][1].astype(np.int32)))\n",
    "    # use the pattern fill to set elements to one\n",
    "    object_ref = data2['pattern_fill'][0][ix]\n",
    "    for x, y in zip(object_ref[:, 0], object_ref[:, 1]):\n",
    "        pattern[x.astype(np.int32)-1, y.astype(np.int32)-1] = 1\n",
    "\n",
    "    pattern = zoom(pattern, (reshape_size / pattern.shape[0], reshape_size / pattern.shape[1]), order=0)\n",
    "\n",
    "    all_patterns.append(pattern)\n"
   ]
  },
  {
   "cell_type": "code",
   "execution_count": 23,
   "id": "38603dbb-ad5e-4566-9d59-c777b3eaccb5",
   "metadata": {},
   "outputs": [
    {
     "data": {
      "text/plain": [
       "27"
      ]
     },
     "execution_count": 23,
     "metadata": {},
     "output_type": "execute_result"
    }
   ],
   "source": [
    "len(all_patterns)"
   ]
  },
  {
   "cell_type": "code",
   "execution_count": 24,
   "id": "ded0c961-5102-4a69-9b84-1f72140144b2",
   "metadata": {},
   "outputs": [
    {
     "data": {
      "text/plain": [
       "array([[0., 1., 1., 1., 1., 1., 1., 1., 0., 1., 0., 1.],\n",
       "       [1., 1., 1., 1., 0., 0., 0., 1., 1., 1., 1., 1.],\n",
       "       [1., 1., 1., 1., 1., 1., 0., 1., 0., 0., 1., 1.],\n",
       "       [1., 1., 1., 1., 1., 0., 1., 1., 1., 1., 1., 1.],\n",
       "       [0., 1., 1., 1., 1., 1., 0., 1., 1., 1., 0., 1.],\n",
       "       [1., 0., 1., 1., 1., 1., 1., 1., 0., 1., 0., 1.],\n",
       "       [0., 1., 1., 0., 1., 0., 1., 0., 1., 1., 1., 1.],\n",
       "       [1., 1., 0., 1., 1., 0., 1., 0., 1., 0., 1., 1.],\n",
       "       [1., 1., 1., 0., 1., 0., 0., 1., 1., 1., 1., 1.],\n",
       "       [1., 1., 1., 0., 1., 0., 1., 1., 1., 0., 1., 1.],\n",
       "       [1., 1., 0., 0., 1., 1., 1., 1., 1., 1., 0., 1.],\n",
       "       [1., 1., 1., 1., 0., 1., 1., 1., 1., 0., 0., 1.]])"
      ]
     },
     "execution_count": 24,
     "metadata": {},
     "output_type": "execute_result"
    }
   ],
   "source": [
    "all_patterns[0]"
   ]
  },
  {
   "cell_type": "code",
   "execution_count": 25,
   "id": "4e084d86-4f3e-4979-882e-a8b0edb1d4f4",
   "metadata": {},
   "outputs": [
    {
     "data": {
      "text/plain": [
       "<matplotlib.image.AxesImage at 0x7f03f7b06250>"
      ]
     },
     "execution_count": 25,
     "metadata": {},
     "output_type": "execute_result"
    },
    {
     "data": {
      "image/png": "[encoded data removed]",
      "text/plain": [
       "<Figure size 640x480 with 1 Axes>"
      ]
     },
     "metadata": {},
     "output_type": "display_data"
    }
   ],
   "source": [
    "plt.imshow(all_patterns[0], cmap=\"binary\")"
   ]
  },
  {
   "cell_type": "code",
   "execution_count": null,
   "id": "e6711880-204a-47ef-9a77-fb6230047cc2",
   "metadata": {},
   "outputs": [],
   "source": []
  },
  {
   "cell_type": "code",
   "execution_count": 26,
   "id": "533dc0b8-9a02-4e02-86cf-7b68428ddbef",
   "metadata": {},
   "outputs": [
    {
     "data": {
      "text/plain": [
       "(105, 150)"
      ]
     },
     "execution_count": 26,
     "metadata": {},
     "output_type": "execute_result"
    }
   ],
   "source": [
    "model_data[0].shape"
   ]
  },
  {
   "cell_type": "code",
   "execution_count": 27,
   "id": "aedb05ae-6c21-42a4-bce6-716230445436",
   "metadata": {},
   "outputs": [],
   "source": [
    "inputs = list()\n",
    "colors = list()\n",
    "for i, d in zip(stim_idxs, model_data):\n",
    "    # get the pattern id \n",
    "    p_id = int(data[\"pattern_id\"][0][i]) - 3\n",
    "\n",
    "    colors.append(c[p_id])\n",
    "\n",
    "    encoding = all_patterns[p_id].ravel() \n",
    "\n",
    "    # stack the encoding for every timepoint (each bin)\n",
    "    nput = np.zeros((d.shape[0], reshape_size**2))\n",
    "\n",
    "    for z in range(5):\n",
    "        nput[50 + z] = encoding\n",
    "\n",
    "    inputs.append(nput)"
   ]
  },
  {
   "cell_type": "code",
   "execution_count": null,
   "id": "11721f5a-abf3-4a91-bc2a-ee6d76f56524",
   "metadata": {},
   "outputs": [],
   "source": []
  },
  {
   "cell_type": "code",
   "execution_count": null,
   "id": "1097855a-cadf-4eac-a240-ec344e490fa9",
   "metadata": {},
   "outputs": [],
   "source": []
  },
  {
   "cell_type": "code",
   "execution_count": 28,
   "id": "adfe0fe5-6040-4b0e-9f62-958875ce48bc",
   "metadata": {},
   "outputs": [
    {
     "data": {
      "image/png": "[encoded data removed]",
      "text/plain": [
       "<Figure size 640x480 with 1 Axes>"
      ]
     },
     "metadata": {},
     "output_type": "display_data"
    }
   ],
   "source": [
    "plt.imshow(inputs[0].T, cmap=\"binary\")\n",
    "plt.title(\"Pattern Encoding\")\n",
    "plt.xlabel(\"Bins\")\n",
    "plt.ylabel(\"Pixel Location\")\n",
    "plt.show()"
   ]
  },
  {
   "cell_type": "code",
   "execution_count": null,
   "id": "08e00730-dfdd-4020-a458-6f81dea9b3ed",
   "metadata": {},
   "outputs": [],
   "source": []
  },
  {
   "cell_type": "code",
   "execution_count": null,
   "id": "afc455cf-f23c-4cb8-a534-8d3aafd75779",
   "metadata": {},
   "outputs": [],
   "source": []
  },
  {
   "cell_type": "markdown",
   "id": "7c1f49b0-4c14-457f-b182-f524ab1b90ea",
   "metadata": {},
   "source": [
    "# Fit the model"
   ]
  },
  {
   "cell_type": "code",
   "execution_count": 29,
   "id": "f226cd37-1db4-496b-9d59-1dae54109c8b",
   "metadata": {},
   "outputs": [
    {
     "data": {
      "application/vnd.jupyter.widget-view+json": {
       "model_id": "294b9a60a5dc4ad1b33680e1f4b39410",
       "version_major": 2,
       "version_minor": 0
      },
      "text/plain": [
       "  0%|          | 0/1 [00:00<?, ?it/s]"
      ]
     },
     "metadata": {},
     "output_type": "display_data"
    },
    {
     "name": "stdout",
     "output_type": "stream",
     "text": [
      "Initializing with an ARHMM using 25 steps of EM.\n"
     ]
    },
    {
     "data": {
      "application/vnd.jupyter.widget-view+json": {
       "model_id": "bc721a061c454d3dadad6f3c4612d2c3",
       "version_major": 2,
       "version_minor": 0
      },
      "text/plain": [
       "  0%|          | 0/25 [00:00<?, ?it/s]"
      ]
     },
     "metadata": {},
     "output_type": "display_data"
    },
    {
     "data": {
      "application/vnd.jupyter.widget-view+json": {
       "model_id": "f1ba76f60c61430aa43777a724e184e1",
       "version_major": 2,
       "version_minor": 0
      },
      "text/plain": [
       "  0%|          | 0/5 [00:00<?, ?it/s]"
      ]
     },
     "metadata": {},
     "output_type": "display_data"
    }
   ],
   "source": [
    "state_dim = 3\n",
    "obs_dim = model_data[0].shape[1] \n",
    "\n",
    "plds = ssm.LDS(N=obs_dim, \n",
    "                # K=2, \n",
    "                D=state_dim, \n",
    "                M=144, emissions=\"poisson\", \n",
    "                emission_kwargs=dict(link=\"softplus\"),\n",
    "                dynamics=\"diagonal_gaussian\",\n",
    "                transitions=\"inputdriven\"\n",
    "               )\n",
    "\n",
    "elbos, q = plds.fit(model_data, inputs=inputs, method=\"laplace_em\", num_iters=5)"
   ]
  },
  {
   "cell_type": "code",
   "execution_count": null,
   "id": "3dedf30b-1f9b-4718-875e-4e26e26f6d74",
   "metadata": {},
   "outputs": [],
   "source": []
  },
  {
   "cell_type": "markdown",
   "id": "295f9c5e-1843-4b6e-99a9-7d71e231eeb8",
   "metadata": {},
   "source": [
    "# Visualize the results"
   ]
  },
  {
   "cell_type": "code",
   "execution_count": 30,
   "id": "643a55be-3ddb-4d0f-a565-3327af4ad1b2",
   "metadata": {},
   "outputs": [],
   "source": [
    "# plot my elbos"
   ]
  },
  {
   "cell_type": "code",
   "execution_count": 31,
   "id": "6eb1be1a-e134-47c4-b3b8-8b9728821d73",
   "metadata": {},
   "outputs": [
    {
     "data": {
      "image/png": "[encoded data removed]",
      "text/plain": [
       "<Figure size 800x600 with 1 Axes>"
      ]
     },
     "metadata": {},
     "output_type": "display_data"
    }
   ],
   "source": [
    "plt.figure(figsize=(8, 6))\n",
    "\n",
    "plt.plot(elbos)\n",
    "\n",
    "plt.xlabel(\"Iteration\")\n",
    "plt.ylabel(\"ELBO\")\n",
    "\n",
    "plt.title(\"ELBO Curve\")\n",
    "\n",
    "plt.show()"
   ]
  },
  {
   "cell_type": "code",
   "execution_count": null,
   "id": "094f4c9a-7bb0-4490-ab1c-3a8159f3e134",
   "metadata": {},
   "outputs": [],
   "source": []
  },
  {
   "cell_type": "code",
   "execution_count": 32,
   "id": "67f26a29-fa57-425c-a829-16c18b7221fa",
   "metadata": {},
   "outputs": [],
   "source": [
    "state_means = q.mean_continuous_states"
   ]
  },
  {
   "cell_type": "code",
   "execution_count": null,
   "id": "2b6aa53d-e7c5-4da9-b0b7-a7622b459213",
   "metadata": {},
   "outputs": [],
   "source": []
  },
  {
   "cell_type": "code",
   "execution_count": 34,
   "id": "5f575ed8-706e-4421-874c-e06084104230",
   "metadata": {},
   "outputs": [
    {
     "data": {
      "text/plain": [
       "(1, 3, 3)"
      ]
     },
     "execution_count": 34,
     "metadata": {},
     "output_type": "execute_result"
    }
   ],
   "source": [
    "As = plds.dynamics.As\n",
    "As.shape"
   ]
  },
  {
   "cell_type": "code",
   "execution_count": 35,
   "id": "6f266d7b-06c3-49bd-9f7d-1e4134826779",
   "metadata": {},
   "outputs": [
    {
     "data": {
      "text/plain": [
       "(3,)"
      ]
     },
     "execution_count": 35,
     "metadata": {},
     "output_type": "execute_result"
    }
   ],
   "source": [
    "b = plds.dynamics.b\n",
    "b.shape"
   ]
  },
  {
   "cell_type": "code",
   "execution_count": 36,
   "id": "1265194c-7a1a-4be2-bacf-899deda57ae0",
   "metadata": {},
   "outputs": [
    {
     "data": {
      "text/plain": [
       "(1, 3, 144)"
      ]
     },
     "execution_count": 36,
     "metadata": {},
     "output_type": "execute_result"
    }
   ],
   "source": [
    "Bs = plds.dynamics.params[2]\n",
    "Bs.shape"
   ]
  },
  {
   "cell_type": "code",
   "execution_count": null,
   "id": "ab7d701b-2586-4b08-9b7f-f857ba050bc7",
   "metadata": {},
   "outputs": [],
   "source": []
  },
  {
   "cell_type": "code",
   "execution_count": null,
   "id": "9396667d-ee95-490f-aa8e-721d6ffc5db1",
   "metadata": {},
   "outputs": [],
   "source": []
  },
  {
   "cell_type": "code",
   "execution_count": null,
   "id": "5512eb52-23a0-4e5c-b3e8-f9030dfd1a0a",
   "metadata": {},
   "outputs": [],
   "source": []
  },
  {
   "cell_type": "code",
   "execution_count": 37,
   "id": "952d06fa-62a1-4d7d-ae1d-e13bc917b2f4",
   "metadata": {},
   "outputs": [],
   "source": [
    "from mpl_toolkits.axes_grid1 import make_axes_locatable\n",
    "from matplotlib.colors import CenteredNorm"
   ]
  },
  {
   "cell_type": "code",
   "execution_count": 40,
   "id": "c15d055d-0f64-4029-850b-bc323b9697c9",
   "metadata": {},
   "outputs": [
    {
     "data": {
      "image/png": "[encoded data removed]",
      "text/plain": [
       "<Figure size 600x600 with 2 Axes>"
      ]
     },
     "metadata": {},
     "output_type": "display_data"
    }
   ],
   "source": [
    "fig, ax = plt.subplots(1, 1, figsize=(6, 6))\n",
    "\n",
    "\n",
    "im = ax.matshow(Bs[0], cmap=\"seismic\", aspect='auto', norm=CenteredNorm(vcenter=0))\n",
    "\n",
    "ax.set_title(f\"$B_{0}$\")\n",
    "ax.set_ylabel(\"Dim\")\n",
    "ax.set_xlabel(\"Pixel Position\")\n",
    "\n",
    "ax.xaxis.tick_bottom()\n",
    "\n",
    "fig.colorbar(im, ax=ax)\n",
    "\n",
    "plt.tight_layout()\n",
    "\n",
    "#plt.savefig(f\"{path}B.png\")\n",
    "\n",
    "plt.show()"
   ]
  },
  {
   "cell_type": "code",
   "execution_count": null,
   "id": "49de8973-e765-4b28-9576-cdb42ba18f59",
   "metadata": {},
   "outputs": [],
   "source": []
  },
  {
   "cell_type": "code",
   "execution_count": null,
   "id": "72be456f-c2a1-491c-af85-30dfb766fbf1",
   "metadata": {},
   "outputs": [],
   "source": []
  },
  {
   "cell_type": "code",
   "execution_count": 41,
   "id": "f3d7d50f-bd5c-4003-a2d0-306e1a2ff46d",
   "metadata": {},
   "outputs": [
    {
     "data": {
      "image/png": "[encoded data removed]",
      "text/plain": [
       "<Figure size 1100x300 with 6 Axes>"
      ]
     },
     "metadata": {},
     "output_type": "display_data"
    }
   ],
   "source": [
    "fig, axes = plt.subplots(1, 3, figsize=(11, 3))\n",
    "\n",
    "# Flatten axes array for easy iteration\n",
    "axes = axes.flatten()\n",
    "\n",
    "for i in range(3):\n",
    "    ax = axes[i]\n",
    "    im = ax.matshow(Bs[0][i].reshape(12, 12), cmap='seismic', aspect='auto', norm=CenteredNorm(vcenter=0))\n",
    "\n",
    "    ax.set_title(f'Dim {i}')\n",
    "    ax.get_xaxis().set_ticks([])\n",
    "    ax.get_yaxis().set_ticks([])\n",
    "\n",
    "    fig.colorbar(im, ax=ax)\n",
    "\n",
    "\n",
    "axes[0].set_ylabel(\"$B_0$\")\n",
    "\n",
    "plt.tight_layout()\n",
    "\n",
    "#plt.savefig(f\"{path}B2.png\")\n",
    "plt.show()"
   ]
  },
  {
   "cell_type": "code",
   "execution_count": null,
   "id": "170206a9-c468-46c1-8b9c-0b941d01e8a5",
   "metadata": {},
   "outputs": [],
   "source": []
  },
  {
   "cell_type": "code",
   "execution_count": null,
   "id": "adc55013-a586-4687-838f-f58d335bba24",
   "metadata": {},
   "outputs": [],
   "source": []
  },
  {
   "cell_type": "markdown",
   "id": "b281fa93-502b-4b3d-a0c0-903a49031239",
   "metadata": {},
   "source": [
    "# Run lasso regression for B_0"
   ]
  },
  {
   "cell_type": "code",
   "execution_count": null,
   "id": "944a990e-a190-45fc-a39d-7da06e08e3b9",
   "metadata": {},
   "outputs": [],
   "source": []
  },
  {
   "cell_type": "code",
   "execution_count": 42,
   "id": "58fa95bb-33eb-449b-bd28-75c78e840d29",
   "metadata": {},
   "outputs": [],
   "source": [
    "# Build predictors and responses\n",
    "X_list = []\n",
    "Y_list = []\n",
    "\n",
    "for trial in range(len(state_means)):\n",
    "    z_trial = state_means[i]\n",
    "  #  z_trial = z_trial.T# (T, d)\n",
    "    \n",
    "    # compute residual: z_t - A z_{t-1} - b\n",
    "    z_t = z_trial[1:]             # (T-1, d)\n",
    "    z_tm1 = z_trial[:-1]          # (T-1, d)\n",
    "    u_tm1 = inputs[trial][:-1]                # assume same u across trials\n",
    "    \n",
    "    residual = z_t - (z_tm1 @ As[0].T + b)  # (T-1, d)\n",
    "    \n",
    "    X_list.append(u_tm1)     # predictors\n",
    "    Y_list.append(residual)  # targets\n",
    "\n",
    "X = np.vstack(X_list)  # shape (trials*(T-1), input_dim)\n",
    "Y = np.vstack(Y_list)  # shape (trials*(T-1), d)"
   ]
  },
  {
   "cell_type": "code",
   "execution_count": null,
   "id": "1f2d0b9b-d2b0-4251-b923-7cdca9a98f3c",
   "metadata": {},
   "outputs": [],
   "source": []
  },
  {
   "cell_type": "code",
   "execution_count": null,
   "id": "5819c8c8-45e2-4e2a-b8ce-7398497074d0",
   "metadata": {},
   "outputs": [],
   "source": []
  },
  {
   "cell_type": "code",
   "execution_count": 43,
   "id": "383208a6-bc40-4132-899c-4d62624f1ad9",
   "metadata": {},
   "outputs": [
    {
     "data": {
      "text/plain": [
       "(27976, 144)"
      ]
     },
     "execution_count": 43,
     "metadata": {},
     "output_type": "execute_result"
    }
   ],
   "source": [
    "X.shape"
   ]
  },
  {
   "cell_type": "code",
   "execution_count": 44,
   "id": "4b94e6e4-5785-4dcd-b7e0-eead1f16e55a",
   "metadata": {},
   "outputs": [
    {
     "data": {
      "text/plain": [
       "(27976, 3)"
      ]
     },
     "execution_count": 44,
     "metadata": {},
     "output_type": "execute_result"
    }
   ],
   "source": [
    "Y.shape"
   ]
  },
  {
   "cell_type": "code",
   "execution_count": 45,
   "id": "2a231334-bc46-402e-9ea2-eb4f3fa0d7dc",
   "metadata": {},
   "outputs": [],
   "source": [
    "from sklearn.linear_model import Lasso, LassoCV"
   ]
  },
  {
   "cell_type": "code",
   "execution_count": null,
   "id": "4ff0d88b-6af3-4abc-ba52-08183ee9208f",
   "metadata": {},
   "outputs": [],
   "source": []
  },
  {
   "cell_type": "code",
   "execution_count": 48,
   "id": "979fb318-a2d0-423a-b503-bb6c4f54330b",
   "metadata": {},
   "outputs": [
    {
     "name": "stderr",
     "output_type": "stream",
     "text": [
      "/home/clewis/venvs/bah/lib64/python3.11/site-packages/sklearn/linear_model/_coordinate_descent.py:681: ConvergenceWarning: Objective did not converge. You might want to increase the number of iterations, check the scale of the features or consider increasing regularisation. Duality gap: 1.711e+04, tolerance: 5.089e+02\n",
      "  model = cd_fast.enet_coordinate_descent_gram(\n",
      "/home/clewis/venvs/bah/lib64/python3.11/site-packages/sklearn/linear_model/_coordinate_descent.py:681: ConvergenceWarning: Objective did not converge. You might want to increase the number of iterations, check the scale of the features or consider increasing regularisation. Duality gap: 1.571e+04, tolerance: 5.089e+02\n",
      "  model = cd_fast.enet_coordinate_descent_gram(\n",
      "/home/clewis/venvs/bah/lib64/python3.11/site-packages/sklearn/linear_model/_coordinate_descent.py:681: ConvergenceWarning: Objective did not converge. You might want to increase the number of iterations, check the scale of the features or consider increasing regularisation. Duality gap: 1.572e+04, tolerance: 5.107e+02\n",
      "  model = cd_fast.enet_coordinate_descent_gram(\n",
      "/home/clewis/venvs/bah/lib64/python3.11/site-packages/sklearn/linear_model/_coordinate_descent.py:681: ConvergenceWarning: Objective did not converge. You might want to increase the number of iterations, check the scale of the features or consider increasing regularisation. Duality gap: 1.571e+04, tolerance: 5.089e+02\n",
      "  model = cd_fast.enet_coordinate_descent_gram(\n",
      "/home/clewis/venvs/bah/lib64/python3.11/site-packages/sklearn/linear_model/_coordinate_descent.py:681: ConvergenceWarning: Objective did not converge. You might want to increase the number of iterations, check the scale of the features or consider increasing regularisation. Duality gap: 1.571e+04, tolerance: 5.089e+02\n",
      "  model = cd_fast.enet_coordinate_descent_gram(\n",
      "/home/clewis/venvs/bah/lib64/python3.11/site-packages/sklearn/linear_model/_coordinate_descent.py:695: ConvergenceWarning: Objective did not converge. You might want to increase the number of iterations, check the scale of the features or consider increasing regularisation. Duality gap: 3.064e+03, tolerance: 6.366e+02\n",
      "  model = cd_fast.enet_coordinate_descent(\n"
     ]
    }
   ],
   "source": [
    "B_sparse0 = np.zeros((3, 144))\n",
    "\n",
    "for i in range(3):\n",
    "    model = LassoCV(cv=5, alphas=np.linspace(0.001, .5, 20), fit_intercept=False)  # cross-validated alpha\n",
    "    #model = Lasso(alpha=0.001, fit_intercept=False)\n",
    "    model.fit(X, Y[:, i])\n",
    "    B_sparse0[i] = model.coef_\n",
    "  #   lasso = Lasso(alpha=alpha, fit_intercept=True)\n",
    "  # #  lasso.fit(U_all, Z_all[:, i])\n",
    "  #   lasso.fit(X, Y[:, i])\n",
    "  #   B_sparse[i, :] = lasso.coef_"
   ]
  },
  {
   "cell_type": "code",
   "execution_count": null,
   "id": "f3b0b2e2-e5af-4609-9a92-1c814bbe3ab0",
   "metadata": {},
   "outputs": [],
   "source": []
  },
  {
   "cell_type": "code",
   "execution_count": 49,
   "id": "0b7357db-f2f5-4bd4-bd4e-3ab249def029",
   "metadata": {},
   "outputs": [
    {
     "data": {
      "text/plain": [
       "Text(0.5, 1.0, '$B$')"
      ]
     },
     "execution_count": 49,
     "metadata": {},
     "output_type": "execute_result"
    },
    {
     "data": {
      "image/png": "[encoded data removed]",
      "text/plain": [
       "<Figure size 1600x200 with 2 Axes>"
      ]
     },
     "metadata": {},
     "output_type": "display_data"
    }
   ],
   "source": [
    "im = plt.matshow(B_sparse0, cmap='seismic', aspect='auto', norm=CenteredNorm())\n",
    "plt.colorbar(im)\n",
    "\n",
    "plt.title(\"$B$\")"
   ]
  },
  {
   "cell_type": "code",
   "execution_count": 50,
   "id": "0f60a951-ff3b-4cd8-99d3-2bc27a5e7bb3",
   "metadata": {},
   "outputs": [
    {
     "data": {
      "text/plain": [
       "np.float64(0.001)"
      ]
     },
     "execution_count": 50,
     "metadata": {},
     "output_type": "execute_result"
    }
   ],
   "source": [
    "model.alpha_"
   ]
  },
  {
   "cell_type": "code",
   "execution_count": 52,
   "id": "3ef9d70f-5cfb-476b-9b9b-4800b1711498",
   "metadata": {},
   "outputs": [
    {
     "data": {
      "image/png": "[encoded data removed]",
      "text/plain": [
       "<Figure size 1100x600 with 12 Axes>"
      ]
     },
     "metadata": {},
     "output_type": "display_data"
    }
   ],
   "source": [
    "fig, axes = plt.subplots(2, 3, figsize=(11, 6))\n",
    "\n",
    "# Flatten axes array for easy iteration\n",
    "axes = axes.flatten()\n",
    "\n",
    "\n",
    "for i in range(3):\n",
    "    ax = axes[i]\n",
    "    im = ax.matshow(Bs[0][i].reshape(12, 12), cmap='seismic', aspect='auto', norm=CenteredNorm(vcenter=0))\n",
    "    ax.set_title(f'Dim {i}')\n",
    "    ax.xaxis.tick_bottom()\n",
    "    fig.colorbar(im, ax=ax)\n",
    "\n",
    "for i in range(3):\n",
    "    ax = axes[i+3]\n",
    "    im = ax.matshow(B_sparse0[i].reshape(12, 12), cmap='seismic', aspect='auto', norm=CenteredNorm(vcenter=0))\n",
    "    ax.xaxis.tick_bottom()\n",
    "    fig.colorbar(im, ax=ax)\n",
    "    ax.set_title(f'Dim {i}')\n",
    "    ax.xaxis.tick_bottom()\n",
    "\n",
    "plt.tight_layout()\n",
    "\n",
    "#plt.savefig(f\"{path}B_reduced_dim0.png\")\n",
    "plt.show()"
   ]
  },
  {
   "cell_type": "code",
   "execution_count": null,
   "id": "35410435-e1f7-4bef-a633-8acd53288cb6",
   "metadata": {},
   "outputs": [],
   "source": []
  },
  {
   "cell_type": "code",
   "execution_count": null,
   "id": "a7776870-1190-4972-8295-a4e88c8a2049",
   "metadata": {},
   "outputs": [],
   "source": []
  },
  {
   "cell_type": "code",
   "execution_count": null,
   "id": "1995cfcb-a0a4-4664-ab43-084cee564681",
   "metadata": {},
   "outputs": [],
   "source": []
  },
  {
   "cell_type": "code",
   "execution_count": null,
   "id": "65743de0-399d-40e7-a524-c2b9bbf380c1",
   "metadata": {},
   "outputs": [],
   "source": []
  },
  {
   "cell_type": "code",
   "execution_count": 53,
   "id": "400c6b63-cb2a-4ca6-99cc-73f8339b02db",
   "metadata": {},
   "outputs": [
    {
     "data": {
      "image/png": "[encoded data removed]",
      "text/plain": [
       "<Figure size 1600x500 with 4 Axes>"
      ]
     },
     "metadata": {},
     "output_type": "display_data"
    }
   ],
   "source": [
    "fig, axes = plt.subplots(2, 1, figsize=(16, 5))\n",
    "\n",
    "# Flatten axes array for easy iteration\n",
    "axes = axes.flatten()\n",
    "\n",
    "d = [Bs[0], B_sparse0]\n",
    "\n",
    "for i, ax in enumerate(axes):\n",
    "    im = ax.matshow(d[i], cmap=\"seismic\", aspect='auto', norm=CenteredNorm())\n",
    "\n",
    " #   ax.set_title(f\"$B_{i}$\")\n",
    "   # ax.set_ylabel(\"Dim\")\n",
    "  #  ax.set_xlabel(\"Pixel Position\")\n",
    "\n",
    "    ax.xaxis.tick_bottom()\n",
    "\n",
    "    fig.colorbar(im, ax=ax)\n",
    "\n",
    "\n",
    "\n",
    "axes[0].set_ylabel(\"$B_0$\")\n",
    "axes[1].set_ylabel(\"$B_0$ Sparse\")\n",
    "\n",
    "plt.tight_layout()\n",
    "\n",
    "#plt.savefig(f\"{path}B_all.png\")\n",
    "\n",
    "plt.show()"
   ]
  },
  {
   "cell_type": "code",
   "execution_count": null,
   "id": "469a50d2-c24c-4ab0-9563-7ed4dc32a31f",
   "metadata": {},
   "outputs": [],
   "source": []
  },
  {
   "cell_type": "code",
   "execution_count": null,
   "id": "b13544ca-ccc3-49c8-a011-f8e9132bb80d",
   "metadata": {},
   "outputs": [],
   "source": []
  },
  {
   "cell_type": "code",
   "execution_count": null,
   "id": "58528f02-4bbb-44f7-95b7-b681ecfa0c3f",
   "metadata": {},
   "outputs": [],
   "source": []
  }
 ],
 "metadata": {
  "kernelspec": {
   "display_name": "Python 3 (ipykernel)",
   "language": "python",
   "name": "python3"
  },
  "language_info": {
   "codemirror_mode": {
    "name": "ipython",
    "version": 3
   },
   "file_extension": ".py",
   "mimetype": "text/x-python",
   "name": "python",
   "nbconvert_exporter": "python",
   "pygments_lexer": "ipython3",
   "version": "3.11.12"
  }
 },
 "nbformat": 4,
 "nbformat_minor": 5
}
