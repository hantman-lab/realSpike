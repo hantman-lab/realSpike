{
 "cells": [
  {
   "cell_type": "markdown",
   "id": "8a742d5a-d6b8-4e24-abb2-8d05835549aa",
   "metadata": {},
   "source": [
    "# Notebook for running Poisson Switching LDS with inputs\n",
    "## Raveled patterns as encoding\n",
    "## Stim ONLY trials, no behavior\n",
    "## Number of output dimensions = 8\n",
    "## Number of phases = 3"
   ]
  },
  {
   "cell_type": "code",
   "execution_count": 1,
   "id": "cfe19ad1-f873-45a7-9cc9-d9ce03cdcade",
   "metadata": {},
   "outputs": [],
   "source": [
    "path = \"/home/clewis/repos/realSpike/data/rb50_20250127/switching_plds/more_dim/k3/\""
   ]
  },
  {
   "cell_type": "code",
   "execution_count": null,
   "id": "d31014f9-5dd8-4c6d-85a2-e0052e109edc",
   "metadata": {},
   "outputs": [],
   "source": []
  },
  {
   "cell_type": "code",
   "execution_count": 2,
   "id": "079c3773-94d8-4bd0-b907-0ff7d5502d2c",
   "metadata": {},
   "outputs": [],
   "source": [
    "from scipy.linalg import block_diag\n",
    "import autograd.numpy as np\n",
    "import matplotlib.pyplot as plt\n",
    "import ssm\n",
    "\n",
    "from pathlib import Path\n",
    "from scipy.io import loadmat\n",
    "import numpy as np\n",
    "import matplotlib.pyplot as plt\n",
    "from tqdm import tqdm\n",
    "from real_spike.utils import get_spike_events, kalman_filter, bin_spikes, butter_filter, plot_dynamics_2d, plot_dynamics_3d\n",
    "from matplotlib import colormaps\n",
    "import pandas as pd\n",
    "import h5py\n",
    "\n",
    "from scipy.ndimage import gaussian_filter1d\n",
    "from mpl_toolkits.mplot3d import Axes3D \n",
    "\n",
    "import random\n",
    "\n",
    "%matplotlib inline"
   ]
  },
  {
   "cell_type": "markdown",
   "id": "30ee731d-269b-4b38-9805-2a105e3a4a6b",
   "metadata": {},
   "source": [
    "# Get data"
   ]
  },
  {
   "cell_type": "code",
   "execution_count": 3,
   "id": "d4d772fb-b38f-4d77-bd2e-4b70f669e593",
   "metadata": {},
   "outputs": [
    {
     "name": "stdout",
     "output_type": "stream",
     "text": [
      "<KeysViewHDF5 ['aligned_laser_rec_time', 'any', 'cue', 'cue_rec_time', 'cue_trial_time', 'field_id', 'field_size', 'full_field', 'grab', 'grab_ms', 'laser', 'laser_rec_time', 'laser_trial_time', 'lift', 'lift_ms', 'mouth', 'mouth_ms', 'no_success', 'pattern_fill', 'pattern_id', 'pattern_xy', 'single', 'totTime', 'trial_start']>\n"
     ]
    }
   ],
   "source": [
    "f = h5py.File(\"/home/clewis/wasabi/reaganbullins2/ProjectionProject/rb50/20250127/MAT_FILES/rb50_20250127_datastruct_pt3.mat\", 'r')\n",
    "data = f['data']\n",
    "print(data.keys())"
   ]
  },
  {
   "cell_type": "code",
   "execution_count": null,
   "id": "0b3b7543-7368-47ca-87ac-b4e91e108b1c",
   "metadata": {},
   "outputs": [],
   "source": []
  },
  {
   "cell_type": "code",
   "execution_count": null,
   "id": "c2b24d75-889d-4b28-af16-f4ec730069d7",
   "metadata": {},
   "outputs": [],
   "source": []
  },
  {
   "cell_type": "markdown",
   "id": "93ab39a2-417a-4619-9f82-486f675e9511",
   "metadata": {},
   "source": [
    "# Get stim only trials"
   ]
  },
  {
   "cell_type": "code",
   "execution_count": 4,
   "id": "ade684b7-9ba4-4325-af47-5aa3229a6601",
   "metadata": {},
   "outputs": [
    {
     "data": {
      "text/plain": [
       "array([151, 152, 153, 154, 155, 156, 157, 158, 160, 161, 162, 163, 164,\n",
       "       165, 166, 167, 168, 169, 170, 171, 172, 173, 174, 175, 176, 177,\n",
       "       179, 180, 181, 182, 183, 185, 186, 187, 188, 189, 190, 191, 192,\n",
       "       193, 194, 196, 197, 198, 199, 200, 201, 202, 203, 204, 205, 206,\n",
       "       207, 208, 209, 210, 211, 212, 213, 214, 215, 216, 217, 219, 220,\n",
       "       221, 223, 224, 225, 226, 227, 228, 229, 230, 231, 232, 233, 234,\n",
       "       235, 236, 237, 238, 239, 240, 241, 242, 243, 244, 246, 247, 248,\n",
       "       249, 250, 251, 252, 253, 254, 256, 257, 258, 259, 260, 261, 262,\n",
       "       263, 264, 265, 266, 267, 268, 269, 270, 271, 272, 273, 274, 275,\n",
       "       276, 277, 278, 279, 280, 281, 282, 283, 284, 285, 286, 287, 289,\n",
       "       290, 291, 292, 294, 296, 297, 298, 299, 300, 301, 302, 303, 304,\n",
       "       305, 306, 307, 308, 309, 310, 311, 312, 313, 314, 315, 316, 317,\n",
       "       318, 319, 320, 321, 323, 324, 325, 326, 327, 328, 330, 331, 333,\n",
       "       334, 335, 336, 337, 338, 339, 340, 341, 342, 343, 344, 345, 346,\n",
       "       347, 348, 349, 350, 351, 352, 353, 354, 355, 356, 357, 358, 359,\n",
       "       360, 361, 362, 364, 365, 366, 367, 368, 370, 371, 372, 373, 374,\n",
       "       375, 376, 377, 378, 379, 380, 381, 382, 383, 384, 386, 388, 389,\n",
       "       390, 391, 392, 393, 394, 395, 396, 397, 398, 399, 400, 401, 402,\n",
       "       403, 404, 405, 406, 407, 408, 409, 410, 411, 412, 413, 414, 415,\n",
       "       416, 419, 420, 421, 422, 423, 424, 425, 426, 427, 428, 429, 430,\n",
       "       431, 432, 433, 434, 435, 436, 437, 438, 439])"
      ]
     },
     "execution_count": 4,
     "metadata": {},
     "output_type": "execute_result"
    }
   ],
   "source": [
    "stim_idxs = np.where(data[\"pattern_id\"][:] > 2)[1]\n",
    "\n",
    "# control_idxs = np.intersect1d(control_idxs, stim_idxs)\n",
    "# con\n",
    "stim_idxs = stim_idxs[stim_idxs > 150]\n",
    "stim_idxs"
   ]
  },
  {
   "cell_type": "code",
   "execution_count": null,
   "id": "e4408841-fb0e-45ec-aa5f-c63d516764eb",
   "metadata": {},
   "outputs": [],
   "source": []
  },
  {
   "cell_type": "code",
   "execution_count": 5,
   "id": "dd98ff4b-e4ca-424d-ae1a-89821caf9b29",
   "metadata": {},
   "outputs": [
    {
     "data": {
      "text/plain": [
       "array([ 3.,  4.,  5.,  6.,  7.,  8.,  9., 10., 11., 12., 13., 14., 15.,\n",
       "       16., 17., 18., 19., 20., 21., 22., 23., 24., 25., 26., 27., 28.,\n",
       "       29.])"
      ]
     },
     "execution_count": 5,
     "metadata": {},
     "output_type": "execute_result"
    }
   ],
   "source": [
    "np.unique(data[\"pattern_id\"][0, stim_idxs])"
   ]
  },
  {
   "cell_type": "code",
   "execution_count": 6,
   "id": "92ae4283-33d3-4d78-9014-a8a046d49d9b",
   "metadata": {},
   "outputs": [
    {
     "data": {
      "text/plain": [
       "(269,)"
      ]
     },
     "execution_count": 6,
     "metadata": {},
     "output_type": "execute_result"
    }
   ],
   "source": [
    "stim_idxs.shape"
   ]
  },
  {
   "cell_type": "markdown",
   "id": "5256c5c8-9ef6-4e25-8009-aad3e32f7fea",
   "metadata": {},
   "source": [
    "## Get relevant time information"
   ]
  },
  {
   "cell_type": "code",
   "execution_count": 7,
   "id": "b80ca31a-6fac-41bf-adb4-546d316469be",
   "metadata": {},
   "outputs": [
    {
     "data": {
      "text/plain": [
       "(450, 1)"
      ]
     },
     "execution_count": 7,
     "metadata": {},
     "output_type": "execute_result"
    }
   ],
   "source": [
    "laser_times = data[\"aligned_laser_rec_time\"]\n",
    "laser_times.shape"
   ]
  },
  {
   "cell_type": "code",
   "execution_count": null,
   "id": "1f4dff6e-51ec-4454-845f-ee7ed2038f4b",
   "metadata": {},
   "outputs": [],
   "source": []
  },
  {
   "cell_type": "code",
   "execution_count": null,
   "id": "31938207-6362-4195-8784-1839cef9f7d6",
   "metadata": {},
   "outputs": [],
   "source": []
  },
  {
   "cell_type": "markdown",
   "id": "115ec039-915a-4d80-9a06-977f2ccc3778",
   "metadata": {},
   "source": [
    "## Get the AP.bin file"
   ]
  },
  {
   "cell_type": "code",
   "execution_count": 8,
   "id": "f7205bc0-7a07-4f24-86d3-aac059f490d0",
   "metadata": {},
   "outputs": [],
   "source": [
    "from real_spike.utils import get_sample_data, get_meta\n",
    "import tifffile"
   ]
  },
  {
   "cell_type": "code",
   "execution_count": 9,
   "id": "0e90e6c9-d77e-4658-9b13-45e27858331c",
   "metadata": {},
   "outputs": [],
   "source": [
    "file_path = Path(\"/home/clewis/wasabi/reaganbullins2/ProjectionProject/rb50/20250127/rb50_20250127_g0/rb50_20250127_g0_t0.imec0.ap.bin\")\n",
    "meta_path = Path(\"/home/clewis/wasabi/reaganbullins2/ProjectionProject/rb50/20250127/rb50_20250127_g0/rb50_20250127_g0_t0.imec0.ap.meta\")"
   ]
  },
  {
   "cell_type": "code",
   "execution_count": 10,
   "id": "563de413-a78c-40c6-98f1-42c6cfa5c225",
   "metadata": {},
   "outputs": [],
   "source": [
    "meta_data = get_meta(meta_path)"
   ]
  },
  {
   "cell_type": "code",
   "execution_count": 11,
   "id": "0a5f34e7-cc48-4193-8aa1-4af57237c223",
   "metadata": {},
   "outputs": [
    {
     "data": {
      "text/plain": [
       "(385, 166298223)"
      ]
     },
     "execution_count": 11,
     "metadata": {},
     "output_type": "execute_result"
    }
   ],
   "source": [
    "ap_data = get_sample_data(file_path, meta_data)\n",
    "ap_data.shape"
   ]
  },
  {
   "cell_type": "code",
   "execution_count": null,
   "id": "6ae41ae3-3006-45f6-aafe-2dade868aaa0",
   "metadata": {},
   "outputs": [],
   "source": []
  },
  {
   "cell_type": "code",
   "execution_count": null,
   "id": "658fab84-4dc0-40af-9e41-1e2d04fe5bb8",
   "metadata": {},
   "outputs": [],
   "source": []
  },
  {
   "cell_type": "markdown",
   "id": "3335863f-9e2a-41df-b760-a4159ed54f9d",
   "metadata": {},
   "source": [
    "## Get conversion params"
   ]
  },
  {
   "cell_type": "code",
   "execution_count": 12,
   "id": "f38b3f40-de14-457a-90d0-84b2d06f005b",
   "metadata": {},
   "outputs": [],
   "source": [
    "vmax = float(meta_data[\"imAiRangeMax\"])\n",
    "# get Imax\n",
    "imax = float(meta_data[\"imMaxInt\"])\n",
    "# get gain\n",
    "gain = float(meta_data['imroTbl'].split(sep=')')[1].split(sep=' ')[3])"
   ]
  },
  {
   "cell_type": "code",
   "execution_count": 13,
   "id": "4e3c65e7-1f68-418d-97b1-c4dc39f35436",
   "metadata": {},
   "outputs": [
    {
     "data": {
      "text/plain": [
       "0.6"
      ]
     },
     "execution_count": 13,
     "metadata": {},
     "output_type": "execute_result"
    }
   ],
   "source": [
    "vmax"
   ]
  },
  {
   "cell_type": "code",
   "execution_count": 14,
   "id": "81fd41ab-0fc2-4c56-abc9-55229fe5fb42",
   "metadata": {},
   "outputs": [
    {
     "data": {
      "text/plain": [
       "512.0"
      ]
     },
     "execution_count": 14,
     "metadata": {},
     "output_type": "execute_result"
    }
   ],
   "source": [
    "imax"
   ]
  },
  {
   "cell_type": "code",
   "execution_count": 15,
   "id": "2379883c-970a-4c40-b317-0f5e47d36756",
   "metadata": {},
   "outputs": [
    {
     "data": {
      "text/plain": [
       "500.0"
      ]
     },
     "execution_count": 15,
     "metadata": {},
     "output_type": "execute_result"
    }
   ],
   "source": [
    "gain"
   ]
  },
  {
   "cell_type": "code",
   "execution_count": null,
   "id": "f90bdeb2-14cd-4b7f-bea4-bbe840e9b981",
   "metadata": {},
   "outputs": [],
   "source": []
  },
  {
   "cell_type": "markdown",
   "id": "33f7f7b1-cc01-4e98-a018-b9569f0073a5",
   "metadata": {},
   "source": [
    "# Get trials"
   ]
  },
  {
   "cell_type": "code",
   "execution_count": 16,
   "id": "b8847566-2a03-4b71-bb9a-c47663a9f528",
   "metadata": {},
   "outputs": [],
   "source": [
    "def get_trials(idxs, bin_size):\n",
    "    \n",
    "    model_data = list()\n",
    "    \n",
    "    for i in tqdm(idxs):\n",
    "        trial_no = i\n",
    "        # get time points in ap space\n",
    "        t = 50\n",
    "        start_time = int((laser_times[trial_no, 0] - t) / 1_000 * 30_000)\n",
    "        \n",
    "        # get end of behavior = mouth (260ms) + 300ms \n",
    "        stim_t = 5\n",
    "        t2 = 50\n",
    "        end_time = int((laser_times[trial_no, 0] + stim_t + t2) / 1_000 * 30_000)\n",
    "    \n",
    "        trial = ap_data[:150, start_time:end_time]\n",
    "    \n",
    "        conv_data = 1e6 * trial / vmax / imax / gain\n",
    "    \n",
    "        filt_data = butter_filter(conv_data, 1_000, 30_000)\n",
    "    \n",
    "        c_start = int(laser_times[trial_no, 0] / 1_000 * 30_000)\n",
    "        m_start = c_start - (30 * 2000)\n",
    "        trial_median = ap_data[:150, m_start:c_start]\n",
    "    \n",
    "        trial_median = 1e6 * trial_median / vmax / imax / gain\n",
    "        trial_median = butter_filter(trial_median, 1_000, 30_000)\n",
    "        \n",
    "        median = np.median(trial_median, axis=1)\n",
    "    \n",
    "        spike_ixs, counts = get_spike_events(filt_data, median)\n",
    "        \n",
    "        a = np.zeros((filt_data.shape[0], filt_data.shape[1]))\n",
    "    \n",
    "        for i, sc in enumerate(spike_ixs):\n",
    "            a[i, sc] = 1\n",
    "    \n",
    "        b = bin_size * 30 # 30ms per bin\n",
    "        binned_spikes = bin_spikes(a, b)\n",
    "\n",
    "        model_data.append(np.asarray(binned_spikes.T, dtype=int))\n",
    "        \n",
    "    return model_data"
   ]
  },
  {
   "cell_type": "code",
   "execution_count": 17,
   "id": "f948376b-1e08-45d9-a0ce-2d59594b06c1",
   "metadata": {},
   "outputs": [],
   "source": [
    "bin_size = 1"
   ]
  },
  {
   "cell_type": "code",
   "execution_count": 18,
   "id": "5a10f26f-b972-4192-9db0-4a2bd5ae7385",
   "metadata": {},
   "outputs": [],
   "source": [
    "# model_data = get_trials(stim_idxs, bin_size)"
   ]
  },
  {
   "cell_type": "code",
   "execution_count": null,
   "id": "07a203bd-112f-409f-acc3-c7a0da0ec6d3",
   "metadata": {},
   "outputs": [],
   "source": []
  },
  {
   "cell_type": "code",
   "execution_count": 19,
   "id": "57aefc55-594d-4ad7-8ad4-0a0f27df7c4b",
   "metadata": {},
   "outputs": [],
   "source": [
    "# save as a pickle file \n",
    "import pickle"
   ]
  },
  {
   "cell_type": "code",
   "execution_count": 20,
   "id": "3b5e65fb-3441-49fd-8088-13b098777c4f",
   "metadata": {},
   "outputs": [],
   "source": [
    "filename = f\"/home/clewis/repos/realSpike/data/rb50_20250127/plds_stim/{bin_size}ms_data.pkl\"\n",
    "# with open(filename, \"wb\") as file:\n",
    "#     pickle.dump(model_data, file)"
   ]
  },
  {
   "cell_type": "code",
   "execution_count": 21,
   "id": "764298ea-9061-4831-b62d-527eff86bd73",
   "metadata": {},
   "outputs": [],
   "source": [
    "with open(filename, \"rb\") as file:\n",
    "    model_data = pickle.load(file)"
   ]
  },
  {
   "cell_type": "code",
   "execution_count": null,
   "id": "3615514f-9adf-4c53-a0b9-df4c086f4cf0",
   "metadata": {},
   "outputs": [],
   "source": []
  },
  {
   "cell_type": "markdown",
   "id": "47dca6a4-2e4a-4e01-8d14-b9d78fea2d58",
   "metadata": {},
   "source": [
    "# Design the input matrix"
   ]
  },
  {
   "cell_type": "code",
   "execution_count": 22,
   "id": "faf9e008-000b-46fa-896e-ab908efcc7e1",
   "metadata": {},
   "outputs": [],
   "source": [
    "# get the pattern types"
   ]
  },
  {
   "cell_type": "code",
   "execution_count": 23,
   "id": "e700ea4f-847c-4caf-9a30-884720320757",
   "metadata": {},
   "outputs": [
    {
     "data": {
      "text/plain": [
       "array([ 3.,  4.,  5.,  6.,  7.,  8.,  9., 10., 11., 12., 13., 14., 15.,\n",
       "       16., 17., 18., 19., 20., 21., 22., 23., 24., 25., 26., 27., 28.,\n",
       "       29.])"
      ]
     },
     "execution_count": 23,
     "metadata": {},
     "output_type": "execute_result"
    }
   ],
   "source": [
    "p_ids = np.unique(data[\"pattern_id\"][0, stim_idxs])\n",
    "\n",
    "p_ids"
   ]
  },
  {
   "cell_type": "code",
   "execution_count": 24,
   "id": "47e6316c-d13c-4671-97df-156a36a69295",
   "metadata": {},
   "outputs": [
    {
     "data": {
      "text/plain": [
       "(27,)"
      ]
     },
     "execution_count": 24,
     "metadata": {},
     "output_type": "execute_result"
    }
   ],
   "source": [
    "p_ids.shape"
   ]
  },
  {
   "cell_type": "code",
   "execution_count": null,
   "id": "997d35a5-f9ad-490a-85f6-072520cf750d",
   "metadata": {},
   "outputs": [],
   "source": []
  },
  {
   "cell_type": "markdown",
   "id": "977e4384-28d8-440e-8a53-c2db72a069e6",
   "metadata": {},
   "source": [
    "## Get colors for plotting"
   ]
  },
  {
   "cell_type": "code",
   "execution_count": 25,
   "id": "09020f9c-60b7-45ef-9041-c59a2ab97b80",
   "metadata": {},
   "outputs": [],
   "source": [
    "c = [\n",
    "    \"maroon\",\n",
    "    \"deeppink\",\n",
    "    \"palevioletred\", \n",
    "    \"blue\", \n",
    "    \"orange\", \n",
    "    \"green\", \n",
    "    \"red\", \n",
    "    \"purple\", \n",
    "    \"brown\", \n",
    "    \"pink\",\n",
    "    \"turquoise\", \n",
    "    \"olive\", \n",
    "    \"cyan\", \n",
    "    \"gold\", \n",
    "    \"lime\", \n",
    "    \"navy\", \n",
    "    \"magenta\",\n",
    "    \"teal\", \n",
    "    \"royalblue\", \n",
    "    \"darkgreen\",\n",
    "    \"dimgray\",\n",
    "    \"darkgoldenrod\",\n",
    "    \"midnightblue\",\n",
    "    \"plum\",\n",
    "    \"lime\",\n",
    "    \"cadetblue\",\n",
    "    \"steelblue\",\n",
    "    \"peru\"\n",
    "]"
   ]
  },
  {
   "cell_type": "code",
   "execution_count": 26,
   "id": "139c4fa4-dc62-4025-b187-a6eae7212d79",
   "metadata": {},
   "outputs": [
    {
     "data": {
      "text/plain": [
       "28"
      ]
     },
     "execution_count": 26,
     "metadata": {},
     "output_type": "execute_result"
    }
   ],
   "source": [
    "len(c)"
   ]
  },
  {
   "cell_type": "code",
   "execution_count": 27,
   "id": "640153ed-8baa-4f01-9e4e-db762fe50838",
   "metadata": {},
   "outputs": [
    {
     "data": {
      "text/plain": [
       "<matplotlib.image.AxesImage at 0x7f432d6dc110>"
      ]
     },
     "execution_count": 27,
     "metadata": {},
     "output_type": "execute_result"
    },
    {
     "data": {
      "image/png": "[encoded data removed]",
      "text/plain": [
       "<Figure size 640x480 with 1 Axes>"
      ]
     },
     "metadata": {},
     "output_type": "display_data"
    }
   ],
   "source": [
    "from matplotlib.colors import ListedColormap\n",
    "\n",
    "cmap = ListedColormap(c)\n",
    "\n",
    "plt.imshow(np.arange(27).reshape(1,-1), aspect=\"auto\", cmap=cmap)"
   ]
  },
  {
   "cell_type": "markdown",
   "id": "4765f7d7-65c1-49ea-ab7b-9f74f571a50c",
   "metadata": {},
   "source": [
    "# Create encodings "
   ]
  },
  {
   "cell_type": "markdown",
   "id": "15a54294-b24c-4e10-bab7-ad201a5b4da5",
   "metadata": {},
   "source": [
    "##  Reconstruct patterns"
   ]
  },
  {
   "cell_type": "code",
   "execution_count": 28,
   "id": "626bdc4f-b49b-4276-a71c-cc0356539f24",
   "metadata": {},
   "outputs": [
    {
     "name": "stdout",
     "output_type": "stream",
     "text": [
      "('totTime', 'cue', 'laser', 'trial_start', 'cue_rec_time', 'cue_trial_time', 'laser_rec_time', 'laser_trial_time', 'field_size', 'pattern_xy', 'field_id', 'full_field', 'pattern_id', 'pattern_fill', 'lift_ms', 'lift', 'grab_ms', 'grab', 'mouth_ms', 'mouth', 'single', 'any', 'no_success')\n"
     ]
    }
   ],
   "source": [
    "mat = loadmat(\"/home/clewis/wasabi/reaganbullins2/ProjectionProject/rb50/20250127/MAT_FILES/rb50_20250127_datastruct_pt2.mat\")\n",
    "mat = mat['data']\n",
    "\n",
    "print(mat.dtype.names)"
   ]
  },
  {
   "cell_type": "code",
   "execution_count": 29,
   "id": "bdda276e-a438-480f-b049-c5e6edf9e9de",
   "metadata": {},
   "outputs": [],
   "source": [
    "data_struct = mat[0, 0]  # MATLAB structs are 2D arrays even if 1x1\n",
    "data2 = {field: data_struct[field] for field in mat.dtype.names}"
   ]
  },
  {
   "cell_type": "code",
   "execution_count": 30,
   "id": "fadfd18e-3ccd-43d4-8424-3069acd34cc3",
   "metadata": {},
   "outputs": [
    {
     "data": {
      "text/plain": [
       "30"
      ]
     },
     "execution_count": 30,
     "metadata": {},
     "output_type": "execute_result"
    }
   ],
   "source": [
    "# visualize the patterns again\n",
    "pattern_ids = list(np.unique(data2['pattern_id']))\n",
    "len(pattern_ids)"
   ]
  },
  {
   "cell_type": "code",
   "execution_count": 31,
   "id": "4e298053-1405-41c4-8e93-6f84365300a9",
   "metadata": {},
   "outputs": [],
   "source": [
    "from scipy.ndimage import zoom"
   ]
  },
  {
   "cell_type": "code",
   "execution_count": 32,
   "id": "e10d2b91-65fc-47bb-a677-aed5696ae2b8",
   "metadata": {},
   "outputs": [],
   "source": [
    "reshape_size = 12"
   ]
  },
  {
   "cell_type": "code",
   "execution_count": 33,
   "id": "6534d7d3-9faa-4c9f-babe-e12274fecc69",
   "metadata": {},
   "outputs": [],
   "source": [
    "pattern_ids = list(np.unique(data2['pattern_id']))\n",
    "all_patterns = list()\n",
    "# pattern 0 = no laser\n",
    "#all_patterns.append(np.zeros((12, 12)))\n",
    "# pattern 1 = full field\n",
    "#all_patterns.append(np.ones((12, 12)))\n",
    "# pattern 2 = empty field \n",
    "#all_patterns.append(np.zeros((12, 12)))\n",
    "for p_id in pattern_ids[3:]:\n",
    "    ix = np.where(data2['pattern_id'] == p_id)[0][0].astype(np.int32)\n",
    "    pattern = np.zeros((data2['pattern_xy'][ix][0].astype(np.int32), data2['pattern_xy'][ix][1].astype(np.int32)))\n",
    "    # use the pattern fill to set elements to one\n",
    "    object_ref = data2['pattern_fill'][0][ix]\n",
    "    for x, y in zip(object_ref[:, 0], object_ref[:, 1]):\n",
    "        pattern[x.astype(np.int32)-1, y.astype(np.int32)-1] = 1\n",
    "\n",
    "    pattern = zoom(pattern, (reshape_size / pattern.shape[0], reshape_size / pattern.shape[1]), order=0)\n",
    "\n",
    "    all_patterns.append(pattern)\n"
   ]
  },
  {
   "cell_type": "code",
   "execution_count": 34,
   "id": "352fac8c-736a-464e-9cd2-4115986be323",
   "metadata": {},
   "outputs": [
    {
     "data": {
      "text/plain": [
       "27"
      ]
     },
     "execution_count": 34,
     "metadata": {},
     "output_type": "execute_result"
    }
   ],
   "source": [
    "len(all_patterns)"
   ]
  },
  {
   "cell_type": "code",
   "execution_count": null,
   "id": "5c418110-cab3-4012-9287-092effe81300",
   "metadata": {},
   "outputs": [],
   "source": []
  },
  {
   "cell_type": "code",
   "execution_count": 35,
   "id": "8cf716f1-6d62-442e-9a28-9c6ae14f7a7e",
   "metadata": {},
   "outputs": [
    {
     "data": {
      "text/plain": [
       "<matplotlib.image.AxesImage at 0x7f432c893390>"
      ]
     },
     "execution_count": 35,
     "metadata": {},
     "output_type": "execute_result"
    },
    {
     "data": {
      "image/png": "[encoded data removed]",
      "text/plain": [
       "<Figure size 640x480 with 1 Axes>"
      ]
     },
     "metadata": {},
     "output_type": "display_data"
    }
   ],
   "source": [
    "plt.imshow(all_patterns[0], cmap=\"binary\")"
   ]
  },
  {
   "cell_type": "code",
   "execution_count": null,
   "id": "a9bbd904-7200-4e4b-91e1-c43f1097ec7c",
   "metadata": {},
   "outputs": [],
   "source": []
  },
  {
   "cell_type": "code",
   "execution_count": 36,
   "id": "810d89cb-d400-46be-9c4e-c3e7f146ba03",
   "metadata": {},
   "outputs": [
    {
     "data": {
      "text/plain": [
       "(105, 150)"
      ]
     },
     "execution_count": 36,
     "metadata": {},
     "output_type": "execute_result"
    }
   ],
   "source": [
    "model_data[0].shape"
   ]
  },
  {
   "cell_type": "code",
   "execution_count": 37,
   "id": "3788e074-4893-4e80-a551-1ba8e62409a9",
   "metadata": {},
   "outputs": [],
   "source": [
    "inputs = list()\n",
    "colors = list()\n",
    "for i, d in zip(stim_idxs, model_data):\n",
    "    # get the pattern id \n",
    "    p_id = int(data[\"pattern_id\"][0][i]) - 3\n",
    "\n",
    "    colors.append(c[p_id])\n",
    "\n",
    "    encoding = all_patterns[p_id].ravel() \n",
    "\n",
    "    # stack the encoding for every timepoint (each bin)\n",
    "    nput = np.zeros((d.shape[0], reshape_size**2))\n",
    "\n",
    "    for z in range(5):\n",
    "        nput[50 + z] = encoding\n",
    "\n",
    "    inputs.append(nput)"
   ]
  },
  {
   "cell_type": "code",
   "execution_count": 38,
   "id": "6d012fef-139d-4d5c-b461-668fd84fdd7a",
   "metadata": {},
   "outputs": [
    {
     "data": {
      "text/plain": [
       "array([[0., 0., 0., ..., 0., 0., 0.],\n",
       "       [0., 0., 0., ..., 0., 0., 0.],\n",
       "       [0., 0., 0., ..., 0., 0., 0.],\n",
       "       ...,\n",
       "       [0., 0., 0., ..., 0., 0., 0.],\n",
       "       [0., 0., 0., ..., 0., 0., 0.],\n",
       "       [0., 0., 0., ..., 0., 0., 0.]], shape=(105, 144))"
      ]
     },
     "execution_count": 38,
     "metadata": {},
     "output_type": "execute_result"
    }
   ],
   "source": [
    "inputs[0]"
   ]
  },
  {
   "cell_type": "code",
   "execution_count": null,
   "id": "067ccb26-02c3-4a23-a108-51593f0b8da4",
   "metadata": {},
   "outputs": [],
   "source": []
  },
  {
   "cell_type": "code",
   "execution_count": null,
   "id": "913277ee-b550-43d5-a117-a8aa5eadd9a9",
   "metadata": {},
   "outputs": [],
   "source": []
  },
  {
   "cell_type": "code",
   "execution_count": 39,
   "id": "24779401-7072-4e9b-8d07-a05b31c7297e",
   "metadata": {},
   "outputs": [
    {
     "data": {
      "image/png": "[encoded data removed]",
      "text/plain": [
       "<Figure size 640x480 with 1 Axes>"
      ]
     },
     "metadata": {},
     "output_type": "display_data"
    }
   ],
   "source": [
    "plt.imshow(inputs[0].T, cmap=\"binary\")\n",
    "plt.title(\"Pattern Encoding\")\n",
    "plt.xlabel(\"Bins\")\n",
    "plt.ylabel(\"Pixel Location\")\n",
    "plt.show()"
   ]
  },
  {
   "cell_type": "code",
   "execution_count": null,
   "id": "6040a9a3-dc40-4e34-84cc-07b976981cff",
   "metadata": {},
   "outputs": [],
   "source": []
  },
  {
   "cell_type": "code",
   "execution_count": null,
   "id": "8b83c8c5-e69a-4a2e-81d5-fced77987f53",
   "metadata": {},
   "outputs": [],
   "source": []
  },
  {
   "cell_type": "markdown",
   "id": "d134afee-859d-4e89-8938-44da6efcf1f2",
   "metadata": {},
   "source": [
    "# Fit the model"
   ]
  },
  {
   "cell_type": "code",
   "execution_count": 40,
   "id": "5a099ba6-d807-4991-8995-7107e608d7ca",
   "metadata": {},
   "outputs": [
    {
     "data": {
      "application/vnd.jupyter.widget-view+json": {
       "model_id": "b20d8971f5074188bd0ad430ea87b47a",
       "version_major": 2,
       "version_minor": 0
      },
      "text/plain": [
       "  0%|          | 0/1 [00:00<?, ?it/s]"
      ]
     },
     "metadata": {},
     "output_type": "display_data"
    },
    {
     "name": "stdout",
     "output_type": "stream",
     "text": [
      "Initializing with an ARHMM using 25 steps of EM.\n"
     ]
    },
    {
     "data": {
      "application/vnd.jupyter.widget-view+json": {
       "model_id": "e284d8622e0840139dab3a6aef809163",
       "version_major": 2,
       "version_minor": 0
      },
      "text/plain": [
       "  0%|          | 0/25 [00:00<?, ?it/s]"
      ]
     },
     "metadata": {},
     "output_type": "display_data"
    },
    {
     "data": {
      "application/vnd.jupyter.widget-view+json": {
       "model_id": "239dc573cc414650a6d66139fa17de08",
       "version_major": 2,
       "version_minor": 0
      },
      "text/plain": [
       "  0%|          | 0/5 [00:00<?, ?it/s]"
      ]
     },
     "metadata": {},
     "output_type": "display_data"
    }
   ],
   "source": [
    "state_dim = 8\n",
    "obs_dim = model_data[0].shape[1] \n",
    "\n",
    "plds = ssm.SLDS(N=obs_dim, K=3, D=state_dim, M=144, emissions=\"poisson\", emission_kwargs=dict(link=\"softplus\"))\n",
    "\n",
    "elbos, q = plds.fit(model_data, inputs=inputs, method=\"laplace_em\", num_iters=5)"
   ]
  },
  {
   "cell_type": "code",
   "execution_count": null,
   "id": "fba8aec3-1983-49dd-b91f-993030850a81",
   "metadata": {},
   "outputs": [],
   "source": []
  },
  {
   "cell_type": "markdown",
   "id": "69f18d1d-05ce-4ada-9c0e-366b0505d017",
   "metadata": {},
   "source": [
    "# Visualize the results"
   ]
  },
  {
   "cell_type": "code",
   "execution_count": 41,
   "id": "ee5be37c-2eb2-4402-b693-324464210a7b",
   "metadata": {},
   "outputs": [],
   "source": [
    "# plot my elbos"
   ]
  },
  {
   "cell_type": "code",
   "execution_count": 42,
   "id": "9d6a63a2-d141-4303-ae45-43632c735a24",
   "metadata": {},
   "outputs": [
    {
     "data": {
      "image/png": "[encoded data removed]",
      "text/plain": [
       "<Figure size 800x600 with 1 Axes>"
      ]
     },
     "metadata": {},
     "output_type": "display_data"
    }
   ],
   "source": [
    "plt.figure(figsize=(8, 6))\n",
    "\n",
    "plt.plot(elbos)\n",
    "\n",
    "plt.xlabel(\"Iteration\")\n",
    "plt.ylabel(\"ELBO\")\n",
    "\n",
    "plt.title(\"ELBO Curve\")\n",
    "\n",
    "plt.show()"
   ]
  },
  {
   "cell_type": "code",
   "execution_count": null,
   "id": "60744a5a-91b7-42ee-b898-8f6c3f738ac4",
   "metadata": {},
   "outputs": [],
   "source": []
  },
  {
   "cell_type": "code",
   "execution_count": null,
   "id": "cb53ccbc-d860-4475-8ba7-c5967ddf8399",
   "metadata": {},
   "outputs": [],
   "source": []
  },
  {
   "cell_type": "code",
   "execution_count": null,
   "id": "e73d1d25-2c64-4fee-b3ef-29f2d3c2c795",
   "metadata": {},
   "outputs": [],
   "source": []
  },
  {
   "cell_type": "markdown",
   "id": "73e483bb-0540-4c6e-8f80-d66fb2d06f99",
   "metadata": {},
   "source": [
    "## Dynamics"
   ]
  },
  {
   "cell_type": "code",
   "execution_count": 43,
   "id": "1aa571f3-6402-40bb-b9dd-c86d1d12ac75",
   "metadata": {},
   "outputs": [
    {
     "data": {
      "text/plain": [
       "(3, 8, 8)"
      ]
     },
     "execution_count": 43,
     "metadata": {},
     "output_type": "execute_result"
    }
   ],
   "source": [
    "As = plds.dynamics.As\n",
    "As.shape"
   ]
  },
  {
   "cell_type": "code",
   "execution_count": 44,
   "id": "aa0b79a9-92d5-46fc-b08c-848ba13b0591",
   "metadata": {},
   "outputs": [
    {
     "data": {
      "text/plain": [
       "(8,)"
      ]
     },
     "execution_count": 44,
     "metadata": {},
     "output_type": "execute_result"
    }
   ],
   "source": [
    "b = plds.dynamics.b\n",
    "b.shape"
   ]
  },
  {
   "cell_type": "code",
   "execution_count": null,
   "id": "2beae6a3-2a30-4c75-9e68-268ff16d0596",
   "metadata": {},
   "outputs": [],
   "source": []
  },
  {
   "cell_type": "code",
   "execution_count": 45,
   "id": "28fd5204-8251-459b-a74d-153b1d0db1f4",
   "metadata": {},
   "outputs": [],
   "source": [
    "from matplotlib.patches import Patch"
   ]
  },
  {
   "cell_type": "code",
   "execution_count": 46,
   "id": "fd72d6fa-c454-43d6-8c9c-a9e54d081071",
   "metadata": {},
   "outputs": [],
   "source": [
    "state_means = q.mean_continuous_states"
   ]
  },
  {
   "cell_type": "code",
   "execution_count": 47,
   "id": "b48e54e2-bd2c-4368-a9e8-2d92fd10bb89",
   "metadata": {},
   "outputs": [],
   "source": [
    "custom_patches = [Patch(facecolor=c[int(i)-3], edgecolor='black', label=f'{int(i)}') for i in p_ids]"
   ]
  },
  {
   "cell_type": "code",
   "execution_count": null,
   "id": "8b80bac8-c4fb-40b8-bf56-b82d9d20f8cc",
   "metadata": {},
   "outputs": [],
   "source": []
  },
  {
   "cell_type": "markdown",
   "id": "79a0f334-ca1c-48e9-b59c-76dc0e867e1d",
   "metadata": {},
   "source": [
    "# Eigenvalue Decomposition on `A`"
   ]
  },
  {
   "cell_type": "code",
   "execution_count": 48,
   "id": "fae06fde-2660-4d75-a800-aa94ca23227a",
   "metadata": {},
   "outputs": [
    {
     "data": {
      "image/png": "[encoded data removed]",
      "text/plain": [
       "<Figure size 1400x1000 with 9 Axes>"
      ]
     },
     "metadata": {},
     "output_type": "display_data"
    }
   ],
   "source": [
    "fig, axes = plt.subplots(2, 3, figsize=(14, 10))\n",
    "\n",
    "# Flatten axes array for easy iteration\n",
    "axes = axes.flatten()\n",
    "\n",
    "for i in range(3):\n",
    "    ax = axes[i]\n",
    "    im = ax.imshow(As[i])\n",
    "    ax.set_title(f\"$A_{i}$\")\n",
    "\n",
    "    fig.colorbar(im, ax=ax) \n",
    "\n",
    "    eigvals, eigvecs = np.linalg.eig(As[i])\n",
    "    axes[i+3].axhline(0, color='gray', linestyle='--', linewidth=0.7)\n",
    "    axes[i+3].axvline(1, color='gray', linestyle='--', linewidth=0.7)\n",
    "\n",
    "    a = np.exp(eigvals)\n",
    "    #ax.colorbar()\n",
    "\n",
    "    axes[i+3].scatter(eigvals.real, eigvals.imag, c='red', s=50, marker=\"x\")\n",
    "\n",
    "    axes[i+3].set_xlim((0, 2))\n",
    "    \n",
    "    axes[i+3].set_title(f\"Eigenvalues $A_{i}$\")\n",
    "    \n",
    "    axes[i+3].set_xlabel(\"Real\")\n",
    "    axes[i+3].set_ylabel(\"Imaginary\")\n",
    "\n",
    "plt.savefig(f\"{path}A.png\")\n",
    "\n",
    "plt.show()"
   ]
  },
  {
   "cell_type": "code",
   "execution_count": null,
   "id": "1ec6cdda-1ede-426e-a870-e974fbcc1dd7",
   "metadata": {},
   "outputs": [],
   "source": []
  },
  {
   "cell_type": "code",
   "execution_count": null,
   "id": "297900fd-8d14-41b6-8147-e13cb784b6c6",
   "metadata": {},
   "outputs": [],
   "source": []
  },
  {
   "cell_type": "code",
   "execution_count": null,
   "id": "f9049b7f-3299-4c07-b079-347ec6dda30e",
   "metadata": {},
   "outputs": [],
   "source": []
  },
  {
   "cell_type": "code",
   "execution_count": null,
   "id": "b7426f61-f58b-4d75-b2f0-538bb7232d4c",
   "metadata": {},
   "outputs": [],
   "source": []
  },
  {
   "cell_type": "markdown",
   "id": "af9e1ea7-e631-4d5d-94de-4a196d25b13d",
   "metadata": {},
   "source": [
    "# Get the most likely states for each trajectory"
   ]
  },
  {
   "cell_type": "code",
   "execution_count": 49,
   "id": "fb1827f5-3c1e-43d5-9f8e-61bff20c9188",
   "metadata": {},
   "outputs": [],
   "source": [
    "discrete_states = list()\n",
    "\n",
    "for i in range(len(state_means)):\n",
    "    z_s = plds.most_likely_states(state_means[i], model_data[i])\n",
    "    discrete_states.append(z_s)"
   ]
  },
  {
   "cell_type": "code",
   "execution_count": 50,
   "id": "b053507e-c7a0-4f3a-bba6-ddeb3746d7f3",
   "metadata": {},
   "outputs": [
    {
     "data": {
      "text/plain": [
       "269"
      ]
     },
     "execution_count": 50,
     "metadata": {},
     "output_type": "execute_result"
    }
   ],
   "source": [
    "len(discrete_states)"
   ]
  },
  {
   "cell_type": "code",
   "execution_count": null,
   "id": "eefdd81f-f6dd-43a9-ad58-e5dadb93593f",
   "metadata": {},
   "outputs": [],
   "source": []
  },
  {
   "cell_type": "code",
   "execution_count": 51,
   "id": "ede0c4c4-f6c0-40b1-9c06-f55d8002feec",
   "metadata": {},
   "outputs": [
    {
     "data": {
      "text/plain": [
       "(269, 105)"
      ]
     },
     "execution_count": 51,
     "metadata": {},
     "output_type": "execute_result"
    }
   ],
   "source": [
    "# plot each row \n",
    "s = np.array(discrete_states)\n",
    "s.shape"
   ]
  },
  {
   "cell_type": "code",
   "execution_count": 52,
   "id": "d6916f81-190b-456f-b7fb-10bb976df102",
   "metadata": {},
   "outputs": [],
   "source": [
    "import matplotlib.colors as mcolors"
   ]
  },
  {
   "cell_type": "code",
   "execution_count": 53,
   "id": "31e44662-73f8-44b7-85d1-b761eb7983e5",
   "metadata": {},
   "outputs": [
    {
     "data": {
      "image/png": "[encoded data removed]",
      "text/plain": [
       "<Figure size 600x800 with 1 Axes>"
      ]
     },
     "metadata": {},
     "output_type": "display_data"
    }
   ],
   "source": [
    "fig, ax = plt.subplots(1, 1, figsize=(6, 8))\n",
    "\n",
    "color1 = 'tab:blue'\n",
    "color2 = 'white'\n",
    "color3 = 'tab:red'\n",
    "\n",
    "\n",
    "# Create the colormap from the list of colors\n",
    "cmap = mcolors.LinearSegmentedColormap.from_list(\n",
    "    \"TwoColors\", [color1, color2, color3]\n",
    ")\n",
    "\n",
    "\n",
    "cax = ax.matshow(s, cmap=cmap, aspect=\"auto\")\n",
    "\n",
    "plt.tight_layout()\n",
    "\n",
    "ax.set_xlabel(\"Bin\")\n",
    "ax.set_ylabel(\"Trial\")\n",
    "\n",
    "ax.xaxis.set_ticks_position('bottom')\n",
    "\n",
    "ax.set_title(\"Most Likely States\")\n",
    "\n",
    "cs = {0: color1, 1: color2, 2:color3}\n",
    "labels = {0: '$A_0$', 1: '$A_1$', 2:\"$A_2$\"}\n",
    "\n",
    "patches = [Patch(edgecolor=\"black\", facecolor=cs[val], label=labels[val])\n",
    "               for val in sorted(cs.keys())]\n",
    "\n",
    "plt.legend(handles=patches, title=\"States\", bbox_to_anchor=(1.05, 1), loc='upper left')\n",
    "\n",
    "#fig.colorbar(cax)\n",
    "\n",
    "plt.tight_layout()\n",
    "\n",
    "plt.savefig(f\"{path}states.png\")\n",
    "\n",
    "plt.show()"
   ]
  },
  {
   "cell_type": "code",
   "execution_count": null,
   "id": "c930af41-7c38-4a46-90fd-237c47461672",
   "metadata": {},
   "outputs": [],
   "source": []
  },
  {
   "cell_type": "code",
   "execution_count": null,
   "id": "66b7676e-740e-4d5c-aa4d-1bd26e9aa6c3",
   "metadata": {},
   "outputs": [],
   "source": []
  },
  {
   "cell_type": "markdown",
   "id": "1d35bf32-fbe2-4755-bdaa-9fb027ad1081",
   "metadata": {},
   "source": [
    "# Plotting B"
   ]
  },
  {
   "cell_type": "code",
   "execution_count": 54,
   "id": "2e8841f9-5f8f-4ba6-bf3e-3ac0b4e6eacc",
   "metadata": {},
   "outputs": [
    {
     "data": {
      "text/plain": [
       "(3, 8, 144)"
      ]
     },
     "execution_count": 54,
     "metadata": {},
     "output_type": "execute_result"
    }
   ],
   "source": [
    "Bs = plds.dynamics.params[2]\n",
    "Bs.shape"
   ]
  },
  {
   "cell_type": "code",
   "execution_count": null,
   "id": "21277cf9-fa3f-4489-a5ab-7ef1ba8cfbfa",
   "metadata": {},
   "outputs": [],
   "source": []
  },
  {
   "cell_type": "code",
   "execution_count": 55,
   "id": "d57b31d6-76c3-43ab-b019-b4e55771e404",
   "metadata": {},
   "outputs": [],
   "source": [
    "from mpl_toolkits.axes_grid1 import make_axes_locatable\n",
    "from matplotlib.colors import CenteredNorm"
   ]
  },
  {
   "cell_type": "code",
   "execution_count": 58,
   "id": "3e63585e-d5c5-4300-a7d6-7d67dccd1de2",
   "metadata": {},
   "outputs": [
    {
     "data": {
      "image/png": "[encoded data removed]",
      "text/plain": [
       "<Figure size 1400x600 with 6 Axes>"
      ]
     },
     "metadata": {},
     "output_type": "display_data"
    }
   ],
   "source": [
    "fig, axes = plt.subplots(1, 3, figsize=(14, 6))\n",
    "\n",
    "# Flatten axes array for easy iteration\n",
    "axes = axes.flatten()\n",
    "\n",
    "for i, ax in enumerate(axes):\n",
    "    im = ax.matshow(Bs[i], cmap=\"plasma\", aspect='auto', norm=CenteredNorm())\n",
    "\n",
    "    ax.set_title(f\"$B_{i}$\")\n",
    "    ax.set_ylabel(\"Dim\")\n",
    "    ax.set_xlabel(\"Pixel Position\")\n",
    "    ax.xaxis.tick_bottom()\n",
    "\n",
    "    fig.colorbar(im, ax=ax)\n",
    "\n",
    "plt.tight_layout()\n",
    "\n",
    "plt.savefig(f\"{path}B.png\")\n",
    "\n",
    "plt.show()"
   ]
  },
  {
   "cell_type": "code",
   "execution_count": null,
   "id": "5328f654-42ae-4428-b4e4-4326cf2deb3c",
   "metadata": {},
   "outputs": [],
   "source": []
  },
  {
   "cell_type": "code",
   "execution_count": null,
   "id": "32d946ad-0610-4131-9d36-c772036feb5a",
   "metadata": {},
   "outputs": [],
   "source": []
  },
  {
   "cell_type": "code",
   "execution_count": 59,
   "id": "d7a86a0c-b6e8-4b0b-8d05-4bbb4ce3d846",
   "metadata": {},
   "outputs": [
    {
     "data": {
      "text/plain": [
       "(2, 8, 144)"
      ]
     },
     "execution_count": 59,
     "metadata": {},
     "output_type": "execute_result"
    }
   ],
   "source": [
    "Bs.shape"
   ]
  },
  {
   "cell_type": "code",
   "execution_count": 60,
   "id": "22e973f7-aef6-4038-aa1c-38f8101fa873",
   "metadata": {},
   "outputs": [
    {
     "data": {
      "image/png": "[encoded data removed]",
      "text/plain": [
       "<Figure size 1500x600 with 24 Axes>"
      ]
     },
     "metadata": {},
     "output_type": "display_data"
    }
   ],
   "source": [
    "fig, axes = plt.subplots(3, 8, figsize=(15, 6))\n",
    "\n",
    "# Flatten axes array for easy iteration\n",
    "axes = axes.flatten()\n",
    "\n",
    "for i in range(8):\n",
    "    ax = axes[i]\n",
    "    ax.matshow(Bs[0][i].reshape(12, 12), cmap='plasma', aspect='auto', norm=CenteredNorm())\n",
    "    # Create a Rectangle patch with the same dimensions as the image\n",
    "  #  rect = patches.Rectangle((0, 0), data[i].shape[1] - 1, data[i].shape[0] - 1, linewidth=1, edgecolor='black', facecolor='none')\n",
    "    \n",
    "    # Add the patch to the axes\n",
    " #   ax.add_patch(rect)\n",
    "    ax.set_title(f'Dim {i}')\n",
    "    ax.get_xaxis().set_ticks([])\n",
    "    ax.get_yaxis().set_ticks([])\n",
    "#    ax.axis('off')  # Turn off axis\n",
    "\n",
    "\n",
    "for i in range(8):\n",
    "    ax = axes[i+8]\n",
    "    ax.matshow(Bs[1][i].reshape(12, 12), cmap='plasma', aspect='auto', norm=CenteredNorm())\n",
    "    # Create a Rectangle patch with the same dimensions as the image\n",
    "  #  rect = patches.Rectangle((0, 0), data[i].shape[1] - 1, data[i].shape[0] - 1, linewidth=1, edgecolor='black', facecolor='none')\n",
    "    \n",
    "    # Add the patch to the axes\n",
    " #   ax.add_patch(rect)\n",
    "    ax.set_title(f'Dim {i}')\n",
    "    ax.get_xaxis().set_ticks([])\n",
    "    ax.get_yaxis().set_ticks([])\n",
    "\n",
    "\n",
    "for i in range(8):\n",
    "    ax = axes[i+16]\n",
    "    ax.matshow(Bs[2][i].reshape(12, 12), cmap='plasma', aspect='auto', norm=CenteredNorm())\n",
    "    # Create a Rectangle patch with the same dimensions as the image\n",
    "  #  rect = patches.Rectangle((0, 0), data[i].shape[1] - 1, data[i].shape[0] - 1, linewidth=1, edgecolor='black', facecolor='none')\n",
    "    \n",
    "    # Add the patch to the axes\n",
    " #   ax.add_patch(rect)\n",
    "    ax.set_title(f'Dim {i}')\n",
    "    ax.get_xaxis().set_ticks([])\n",
    "    ax.get_yaxis().set_ticks([])\n",
    "\n",
    "axes[0].set_ylabel(\"$B_0$\")\n",
    "axes[8].set_ylabel(\"$B_1$\")\n",
    "axes[16].set_ylabel(\"$B_2$\")\n",
    "\n",
    "plt.tight_layout()\n",
    "\n",
    "plt.savefig(f\"{path}B2.png\")\n",
    "plt.show()"
   ]
  },
  {
   "cell_type": "code",
   "execution_count": null,
   "id": "80781c05-efe4-495d-a4c3-ad2e61fd8e44",
   "metadata": {},
   "outputs": [],
   "source": []
  },
  {
   "cell_type": "markdown",
   "id": "dfac16d5-a7a4-47fd-8457-3327395ba5b8",
   "metadata": {},
   "source": [
    "# Run lasso regression "
   ]
  },
  {
   "cell_type": "markdown",
   "id": "704d3f86-6fb7-47d9-85ab-8880661ae4d4",
   "metadata": {},
   "source": [
    "z_{t+1} = Az_t + Bu_t + b"
   ]
  },
  {
   "cell_type": "code",
   "execution_count": 61,
   "id": "d1738c33-5f5b-43a4-b1fe-2ad1f4e92255",
   "metadata": {},
   "outputs": [
    {
     "data": {
      "text/plain": [
       "269"
      ]
     },
     "execution_count": 61,
     "metadata": {},
     "output_type": "execute_result"
    }
   ],
   "source": [
    "len(state_means)"
   ]
  },
  {
   "cell_type": "code",
   "execution_count": null,
   "id": "77215108-9eab-4aed-87b7-8216cb2bb50d",
   "metadata": {},
   "outputs": [],
   "source": []
  },
  {
   "cell_type": "code",
   "execution_count": null,
   "id": "e1b5d9e8-273c-4089-9840-3ce1a66f5c8f",
   "metadata": {},
   "outputs": [],
   "source": []
  },
  {
   "cell_type": "code",
   "execution_count": 62,
   "id": "e399edca-cb5c-4f8d-a0b2-e0528a7bc20c",
   "metadata": {},
   "outputs": [
    {
     "data": {
      "text/plain": [
       "(28245, 8)"
      ]
     },
     "execution_count": 62,
     "metadata": {},
     "output_type": "execute_result"
    }
   ],
   "source": [
    "Z_all = np.vstack(state_means)\n",
    "Z_all.shape"
   ]
  },
  {
   "cell_type": "code",
   "execution_count": 63,
   "id": "ace92b6f-2e73-4a07-bdbb-8aa6797be147",
   "metadata": {},
   "outputs": [
    {
     "data": {
      "text/plain": [
       "(28245, 144)"
      ]
     },
     "execution_count": 63,
     "metadata": {},
     "output_type": "execute_result"
    }
   ],
   "source": [
    "U_all = np.vstack(inputs)\n",
    "U_all.shape"
   ]
  },
  {
   "cell_type": "code",
   "execution_count": 64,
   "id": "f09e7271-8b87-4753-8493-bcd021b71fac",
   "metadata": {},
   "outputs": [],
   "source": [
    "from sklearn.linear_model import Lasso"
   ]
  },
  {
   "cell_type": "code",
   "execution_count": 65,
   "id": "3ab2b8d4-3d91-4293-96e3-af16dca8f09f",
   "metadata": {},
   "outputs": [],
   "source": [
    "latent_dim = Z_all.shape[1]\n",
    "input_dim = U_all.shape[1]"
   ]
  },
  {
   "cell_type": "code",
   "execution_count": 66,
   "id": "e9dec88d-15ce-43e0-a18f-b277c4a1c92f",
   "metadata": {},
   "outputs": [],
   "source": [
    "B_sparse = np.zeros((latent_dim, input_dim))\n",
    "alpha = 0.009  # Lasso regularization\n",
    "\n",
    "for i in range(latent_dim):\n",
    "    lasso = Lasso(alpha=alpha)\n",
    "    lasso.fit(U_all, Z_all[:, i])\n",
    "    B_sparse[i, :] = lasso.coef_"
   ]
  },
  {
   "cell_type": "code",
   "execution_count": 67,
   "id": "740742f2-1a7c-4e77-b294-6f1997f166e8",
   "metadata": {},
   "outputs": [
    {
     "data": {
      "text/plain": [
       "Text(0.5, 1.0, '$B$')"
      ]
     },
     "execution_count": 67,
     "metadata": {},
     "output_type": "execute_result"
    },
    {
     "data": {
      "image/png": "[encoded data removed]",
      "text/plain": [
       "<Figure size 1600x200 with 1 Axes>"
      ]
     },
     "metadata": {},
     "output_type": "display_data"
    }
   ],
   "source": [
    "plt.matshow(B_sparse, cmap='seismic', aspect='auto', norm=CenteredNorm())\n",
    "\n",
    "plt.title(\"$B$\")"
   ]
  },
  {
   "cell_type": "code",
   "execution_count": 68,
   "id": "6163d975-9936-434e-a116-beee462dc7bd",
   "metadata": {},
   "outputs": [
    {
     "data": {
      "image/png": "[encoded data removed]",
      "text/plain": [
       "<Figure size 1500x300 with 8 Axes>"
      ]
     },
     "metadata": {},
     "output_type": "display_data"
    }
   ],
   "source": [
    "fig, axes = plt.subplots(1, 8, figsize=(15, 3))\n",
    "\n",
    "# Flatten axes array for easy iteration\n",
    "axes = axes.flatten()\n",
    "\n",
    "for i in range(8):\n",
    "    ax = axes[i]\n",
    "    ax.matshow(B_sparse[i].reshape(12, 12), cmap='seismic', aspect='auto', norm=CenteredNorm())\n",
    "    # Create a Rectangle patch with the same dimensions as the image\n",
    "  #  rect = patches.Rectangle((0, 0), data[i].shape[1] - 1, data[i].shape[0] - 1, linewidth=1, edgecolor='black', facecolor='none')\n",
    "    \n",
    "    # Add the patch to the axes\n",
    " #   ax.add_patch(rect)\n",
    "    ax.set_title(f'Dim {i}')\n",
    "    ax.get_xaxis().set_ticks([])\n",
    "    ax.get_yaxis().set_ticks([])\n",
    "#    ax.axis('off')  # Turn off axis\n",
    "\n",
    "plt.tight_layout()\n",
    "\n",
    "#plt.savefig(f\"/home/clewis/repos/realSpike/data/rb50_20250127/plds_stim/pixel/lasso_regression_alpha_{alpha}.png\")\n",
    "plt.savefig(f\"{path}B_reduced.png\")\n",
    "plt.show()"
   ]
  },
  {
   "cell_type": "code",
   "execution_count": null,
   "id": "e17e65c9-df63-441d-9900-50f5f15889db",
   "metadata": {},
   "outputs": [],
   "source": []
  },
  {
   "cell_type": "code",
   "execution_count": null,
   "id": "3b230c44-4b26-46c6-bbdc-2a0683ddd896",
   "metadata": {},
   "outputs": [],
   "source": []
  },
  {
   "cell_type": "code",
   "execution_count": null,
   "id": "880142c9-7758-4423-be1a-625608671a87",
   "metadata": {},
   "outputs": [],
   "source": []
  },
  {
   "cell_type": "code",
   "execution_count": null,
   "id": "49da5974-a906-4aad-bf59-701d394a3066",
   "metadata": {},
   "outputs": [],
   "source": []
  }
 ],
 "metadata": {
  "kernelspec": {
   "display_name": "Python 3 (ipykernel)",
   "language": "python",
   "name": "python3"
  },
  "language_info": {
   "codemirror_mode": {
    "name": "ipython",
    "version": 3
   },
   "file_extension": ".py",
   "mimetype": "text/x-python",
   "name": "python",
   "nbconvert_exporter": "python",
   "pygments_lexer": "ipython3",
   "version": "3.11.12"
  }
 },
 "nbformat": 4,
 "nbformat_minor": 5
}
