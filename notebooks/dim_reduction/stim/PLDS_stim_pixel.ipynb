{
 "cells": [
  {
   "cell_type": "markdown",
   "id": "7c467340-0673-4b55-8a55-f5e6660fb8c7",
   "metadata": {},
   "source": [
    "# Notebook for running Poisson LDS with inputs\n",
    "## Raveled patterns as encoding\n",
    "## Stim ONLY trials, no behavior\n",
    "## Increase the number of output dimensions to encode more information"
   ]
  },
  {
   "cell_type": "code",
   "execution_count": 1,
   "id": "d848cd42-0439-41db-bc9c-3f7b0d8d48c5",
   "metadata": {},
   "outputs": [],
   "source": [
    "from scipy.linalg import block_diag\n",
    "import autograd.numpy as np\n",
    "import matplotlib.pyplot as plt\n",
    "import ssm\n",
    "\n",
    "from pathlib import Path\n",
    "from scipy.io import loadmat\n",
    "import numpy as np\n",
    "import matplotlib.pyplot as plt\n",
    "from tqdm import tqdm\n",
    "from real_spike.utils import get_spike_events, kalman_filter, bin_spikes, butter_filter, plot_dynamics_2d, plot_dynamics_3d\n",
    "from matplotlib import colormaps\n",
    "import pandas as pd\n",
    "import h5py\n",
    "\n",
    "from scipy.ndimage import gaussian_filter1d\n",
    "from mpl_toolkits.mplot3d import Axes3D \n",
    "\n",
    "import random\n",
    "\n",
    "%matplotlib inline"
   ]
  },
  {
   "cell_type": "markdown",
   "id": "249476e0-297b-4f40-90f2-ce03f2a0523b",
   "metadata": {},
   "source": [
    "# Get data"
   ]
  },
  {
   "cell_type": "code",
   "execution_count": 2,
   "id": "66cf5ce1-0a92-4629-a94b-cca790799613",
   "metadata": {},
   "outputs": [
    {
     "name": "stdout",
     "output_type": "stream",
     "text": [
      "<KeysViewHDF5 ['aligned_laser_rec_time', 'any', 'cue', 'cue_rec_time', 'cue_trial_time', 'field_id', 'field_size', 'full_field', 'grab', 'grab_ms', 'laser', 'laser_rec_time', 'laser_trial_time', 'lift', 'lift_ms', 'mouth', 'mouth_ms', 'no_success', 'pattern_fill', 'pattern_id', 'pattern_xy', 'single', 'totTime', 'trial_start']>\n"
     ]
    }
   ],
   "source": [
    "f = h5py.File(\"/home/clewis/wasabi/reaganbullins2/ProjectionProject/rb50/20250127/MAT_FILES/rb50_20250127_datastruct_pt3.mat\", 'r')\n",
    "data = f['data']\n",
    "print(data.keys())"
   ]
  },
  {
   "cell_type": "code",
   "execution_count": null,
   "id": "9a3371b4-a0fa-42eb-9319-02eb8c1dd613",
   "metadata": {},
   "outputs": [],
   "source": []
  },
  {
   "cell_type": "code",
   "execution_count": null,
   "id": "73322b5c-e885-42ff-9d2b-f22b68799827",
   "metadata": {},
   "outputs": [],
   "source": []
  },
  {
   "cell_type": "markdown",
   "id": "b5e0dd20-4a87-4c0c-bcc4-1219f615e0ed",
   "metadata": {},
   "source": [
    "# Get stim only trials"
   ]
  },
  {
   "cell_type": "code",
   "execution_count": 3,
   "id": "77aa1c5f-44f1-4662-8ff5-f2efc7ac4a1c",
   "metadata": {},
   "outputs": [
    {
     "data": {
      "text/plain": [
       "array([151, 152, 153, 154, 155, 156, 157, 158, 160, 161, 162, 163, 164,\n",
       "       165, 166, 167, 168, 169, 170, 171, 172, 173, 174, 175, 176, 177,\n",
       "       179, 180, 181, 182, 183, 185, 186, 187, 188, 189, 190, 191, 192,\n",
       "       193, 194, 196, 197, 198, 199, 200, 201, 202, 203, 204, 205, 206,\n",
       "       207, 208, 209, 210, 211, 212, 213, 214, 215, 216, 217, 219, 220,\n",
       "       221, 223, 224, 225, 226, 227, 228, 229, 230, 231, 232, 233, 234,\n",
       "       235, 236, 237, 238, 239, 240, 241, 242, 243, 244, 246, 247, 248,\n",
       "       249, 250, 251, 252, 253, 254, 256, 257, 258, 259, 260, 261, 262,\n",
       "       263, 264, 265, 266, 267, 268, 269, 270, 271, 272, 273, 274, 275,\n",
       "       276, 277, 278, 279, 280, 281, 282, 283, 284, 285, 286, 287, 289,\n",
       "       290, 291, 292, 294, 296, 297, 298, 299, 300, 301, 302, 303, 304,\n",
       "       305, 306, 307, 308, 309, 310, 311, 312, 313, 314, 315, 316, 317,\n",
       "       318, 319, 320, 321, 323, 324, 325, 326, 327, 328, 330, 331, 333,\n",
       "       334, 335, 336, 337, 338, 339, 340, 341, 342, 343, 344, 345, 346,\n",
       "       347, 348, 349, 350, 351, 352, 353, 354, 355, 356, 357, 358, 359,\n",
       "       360, 361, 362, 364, 365, 366, 367, 368, 370, 371, 372, 373, 374,\n",
       "       375, 376, 377, 378, 379, 380, 381, 382, 383, 384, 386, 388, 389,\n",
       "       390, 391, 392, 393, 394, 395, 396, 397, 398, 399, 400, 401, 402,\n",
       "       403, 404, 405, 406, 407, 408, 409, 410, 411, 412, 413, 414, 415,\n",
       "       416, 419, 420, 421, 422, 423, 424, 425, 426, 427, 428, 429, 430,\n",
       "       431, 432, 433, 434, 435, 436, 437, 438, 439])"
      ]
     },
     "execution_count": 3,
     "metadata": {},
     "output_type": "execute_result"
    }
   ],
   "source": [
    "stim_idxs = np.where(data[\"pattern_id\"][:] > 2)[1]\n",
    "\n",
    "# control_idxs = np.intersect1d(control_idxs, stim_idxs)\n",
    "# con\n",
    "stim_idxs = stim_idxs[stim_idxs > 150]\n",
    "stim_idxs"
   ]
  },
  {
   "cell_type": "code",
   "execution_count": null,
   "id": "d0af2b15-92e8-4166-b753-23310ee41d1d",
   "metadata": {},
   "outputs": [],
   "source": []
  },
  {
   "cell_type": "code",
   "execution_count": 4,
   "id": "8253e588-4fde-4a3e-aacf-0dafaf725aca",
   "metadata": {},
   "outputs": [
    {
     "data": {
      "text/plain": [
       "array([ 3.,  4.,  5.,  6.,  7.,  8.,  9., 10., 11., 12., 13., 14., 15.,\n",
       "       16., 17., 18., 19., 20., 21., 22., 23., 24., 25., 26., 27., 28.,\n",
       "       29.])"
      ]
     },
     "execution_count": 4,
     "metadata": {},
     "output_type": "execute_result"
    }
   ],
   "source": [
    "np.unique(data[\"pattern_id\"][0, stim_idxs])"
   ]
  },
  {
   "cell_type": "code",
   "execution_count": 5,
   "id": "c8c5388d-2246-4ea2-ae44-ba6a8b6a6783",
   "metadata": {},
   "outputs": [
    {
     "data": {
      "text/plain": [
       "(269,)"
      ]
     },
     "execution_count": 5,
     "metadata": {},
     "output_type": "execute_result"
    }
   ],
   "source": [
    "stim_idxs.shape"
   ]
  },
  {
   "cell_type": "markdown",
   "id": "e195290a-bfe0-4563-9afc-4308dc88571c",
   "metadata": {},
   "source": [
    "## Get relevant time information"
   ]
  },
  {
   "cell_type": "code",
   "execution_count": 6,
   "id": "e2092aee-d31e-4df7-8b06-50ec46603f25",
   "metadata": {},
   "outputs": [
    {
     "data": {
      "text/plain": [
       "(450, 1)"
      ]
     },
     "execution_count": 6,
     "metadata": {},
     "output_type": "execute_result"
    }
   ],
   "source": [
    "laser_times = data[\"aligned_laser_rec_time\"]\n",
    "laser_times.shape"
   ]
  },
  {
   "cell_type": "code",
   "execution_count": null,
   "id": "e66b7063-fa4e-4465-800a-391123e8d698",
   "metadata": {},
   "outputs": [],
   "source": []
  },
  {
   "cell_type": "code",
   "execution_count": null,
   "id": "9aa81592-5ac8-4665-af44-20eb400f35d7",
   "metadata": {},
   "outputs": [],
   "source": []
  },
  {
   "cell_type": "markdown",
   "id": "cc2d5b2c-e65c-44d5-bd73-8a3f6bb65199",
   "metadata": {},
   "source": [
    "## Get the AP.bin file"
   ]
  },
  {
   "cell_type": "code",
   "execution_count": 7,
   "id": "d2e83b91-058f-4ad6-a48c-8d2273b4d30b",
   "metadata": {},
   "outputs": [],
   "source": [
    "from real_spike.utils import get_sample_data, get_meta\n",
    "import tifffile"
   ]
  },
  {
   "cell_type": "code",
   "execution_count": 8,
   "id": "4e19b803-9f75-41bf-ac5d-823fec1c6438",
   "metadata": {},
   "outputs": [],
   "source": [
    "file_path = Path(\"/home/clewis/wasabi/reaganbullins2/ProjectionProject/rb50/20250127/rb50_20250127_g0/rb50_20250127_g0_t0.imec0.ap.bin\")\n",
    "meta_path = Path(\"/home/clewis/wasabi/reaganbullins2/ProjectionProject/rb50/20250127/rb50_20250127_g0/rb50_20250127_g0_t0.imec0.ap.meta\")"
   ]
  },
  {
   "cell_type": "code",
   "execution_count": 9,
   "id": "adf4e486-f151-4ed4-971e-842d161e2d0e",
   "metadata": {},
   "outputs": [],
   "source": [
    "meta_data = get_meta(meta_path)"
   ]
  },
  {
   "cell_type": "code",
   "execution_count": 10,
   "id": "5cac33c8-c453-4e52-b9f1-98cac8be1f6b",
   "metadata": {},
   "outputs": [
    {
     "data": {
      "text/plain": [
       "(385, 166298223)"
      ]
     },
     "execution_count": 10,
     "metadata": {},
     "output_type": "execute_result"
    }
   ],
   "source": [
    "ap_data = get_sample_data(file_path, meta_data)\n",
    "ap_data.shape"
   ]
  },
  {
   "cell_type": "code",
   "execution_count": null,
   "id": "50c884cb-6648-4791-a37a-c228245fcc65",
   "metadata": {},
   "outputs": [],
   "source": []
  },
  {
   "cell_type": "code",
   "execution_count": null,
   "id": "92b70b9c-1e96-47ed-a0c4-6f2b847f9172",
   "metadata": {},
   "outputs": [],
   "source": []
  },
  {
   "cell_type": "markdown",
   "id": "915d3d12-c2da-4c35-af12-55038d77fda5",
   "metadata": {},
   "source": [
    "## Get conversion params"
   ]
  },
  {
   "cell_type": "code",
   "execution_count": 11,
   "id": "3af05cc5-d816-4b61-887e-1ab76cd7be22",
   "metadata": {},
   "outputs": [],
   "source": [
    "vmax = float(meta_data[\"imAiRangeMax\"])\n",
    "# get Imax\n",
    "imax = float(meta_data[\"imMaxInt\"])\n",
    "# get gain\n",
    "gain = float(meta_data['imroTbl'].split(sep=')')[1].split(sep=' ')[3])"
   ]
  },
  {
   "cell_type": "code",
   "execution_count": 12,
   "id": "d032539b-b00a-40f9-9274-a17105a423e2",
   "metadata": {},
   "outputs": [
    {
     "data": {
      "text/plain": [
       "0.6"
      ]
     },
     "execution_count": 12,
     "metadata": {},
     "output_type": "execute_result"
    }
   ],
   "source": [
    "vmax"
   ]
  },
  {
   "cell_type": "code",
   "execution_count": 13,
   "id": "397457a4-7625-4dfc-853d-22d1e47ac98b",
   "metadata": {},
   "outputs": [
    {
     "data": {
      "text/plain": [
       "512.0"
      ]
     },
     "execution_count": 13,
     "metadata": {},
     "output_type": "execute_result"
    }
   ],
   "source": [
    "imax"
   ]
  },
  {
   "cell_type": "code",
   "execution_count": 14,
   "id": "011421f8-b15b-4328-8ae3-ae71f320c1c1",
   "metadata": {},
   "outputs": [
    {
     "data": {
      "text/plain": [
       "500.0"
      ]
     },
     "execution_count": 14,
     "metadata": {},
     "output_type": "execute_result"
    }
   ],
   "source": [
    "gain"
   ]
  },
  {
   "cell_type": "code",
   "execution_count": null,
   "id": "c613407a-e453-4561-9b87-34de929bebbe",
   "metadata": {},
   "outputs": [],
   "source": []
  },
  {
   "cell_type": "markdown",
   "id": "b45bd9b4-9c6c-4d72-8b21-f83c8f147267",
   "metadata": {},
   "source": [
    "# Get trials"
   ]
  },
  {
   "cell_type": "code",
   "execution_count": 15,
   "id": "5e736d74-449f-46a7-9dc7-14937fb45b2e",
   "metadata": {},
   "outputs": [],
   "source": [
    "def get_trials(idxs, bin_size):\n",
    "    \n",
    "    model_data = list()\n",
    "    \n",
    "    for i in tqdm(idxs):\n",
    "        trial_no = i\n",
    "        # get time points in ap space\n",
    "        t = 50\n",
    "        start_time = int((laser_times[trial_no, 0] - t) / 1_000 * 30_000)\n",
    "        \n",
    "        # get end of behavior = mouth (260ms) + 300ms \n",
    "        stim_t = 5\n",
    "        t2 = 50\n",
    "        end_time = int((laser_times[trial_no, 0] + stim_t + t2) / 1_000 * 30_000)\n",
    "    \n",
    "        trial = ap_data[:150, start_time:end_time]\n",
    "    \n",
    "        conv_data = 1e6 * trial / vmax / imax / gain\n",
    "    \n",
    "        filt_data = butter_filter(conv_data, 1_000, 30_000)\n",
    "    \n",
    "        c_start = int(laser_times[trial_no, 0] / 1_000 * 30_000)\n",
    "        m_start = c_start - (30 * 2000)\n",
    "        trial_median = ap_data[:150, m_start:c_start]\n",
    "    \n",
    "        trial_median = 1e6 * trial_median / vmax / imax / gain\n",
    "        trial_median = butter_filter(trial_median, 1_000, 30_000)\n",
    "        \n",
    "        median = np.median(trial_median, axis=1)\n",
    "    \n",
    "        spike_ixs, counts = get_spike_events(filt_data, median)\n",
    "        \n",
    "        a = np.zeros((filt_data.shape[0], filt_data.shape[1]))\n",
    "    \n",
    "        for i, sc in enumerate(spike_ixs):\n",
    "            a[i, sc] = 1\n",
    "    \n",
    "        b = bin_size * 30 # 30ms per bin\n",
    "        binned_spikes = bin_spikes(a, b)\n",
    "\n",
    "        model_data.append(np.asarray(binned_spikes.T, dtype=int))\n",
    "        \n",
    "    return model_data"
   ]
  },
  {
   "cell_type": "code",
   "execution_count": 16,
   "id": "b399ef53-bd3c-4696-9754-0c93d178ce01",
   "metadata": {},
   "outputs": [],
   "source": [
    "bin_size = 1"
   ]
  },
  {
   "cell_type": "code",
   "execution_count": 17,
   "id": "a6f7ac4f-accb-435f-a03b-8176abfd68d9",
   "metadata": {},
   "outputs": [],
   "source": [
    "# model_data = get_trials(stim_idxs, bin_size)"
   ]
  },
  {
   "cell_type": "code",
   "execution_count": null,
   "id": "f5c97fec-5efd-4400-aa2b-9f132826d483",
   "metadata": {},
   "outputs": [],
   "source": []
  },
  {
   "cell_type": "code",
   "execution_count": 18,
   "id": "9936f5f4-dfaf-408e-adcc-a43d4e4fb689",
   "metadata": {},
   "outputs": [],
   "source": [
    "# save as a pickle file \n",
    "import pickle"
   ]
  },
  {
   "cell_type": "code",
   "execution_count": 19,
   "id": "b4362453-3d41-44ff-95d3-dd42be64bf37",
   "metadata": {},
   "outputs": [],
   "source": [
    "filename = f\"/home/clewis/repos/realSpike/data/rb50_20250127/plds_stim/{bin_size}ms_data.pkl\"\n",
    "# with open(filename, \"wb\") as file:\n",
    "#     pickle.dump(model_data, file)"
   ]
  },
  {
   "cell_type": "code",
   "execution_count": 20,
   "id": "1af38ab1-ccb3-49c3-a0ce-5ff25eca4f0a",
   "metadata": {},
   "outputs": [],
   "source": [
    "with open(filename, \"rb\") as file:\n",
    "    model_data = pickle.load(file)"
   ]
  },
  {
   "cell_type": "code",
   "execution_count": null,
   "id": "8ce1d606-23b8-46c9-9229-3ee5cfc57a5f",
   "metadata": {},
   "outputs": [],
   "source": []
  },
  {
   "cell_type": "markdown",
   "id": "3232292b-dd15-4b88-bd18-1ef208162087",
   "metadata": {},
   "source": [
    "# Design the input matrix"
   ]
  },
  {
   "cell_type": "code",
   "execution_count": 21,
   "id": "1a9a26d5-64d5-45da-a0eb-c9e214518c5b",
   "metadata": {},
   "outputs": [],
   "source": [
    "# get the pattern types"
   ]
  },
  {
   "cell_type": "code",
   "execution_count": 22,
   "id": "dce4f3c7-9480-4784-a985-700d605945c9",
   "metadata": {},
   "outputs": [
    {
     "data": {
      "text/plain": [
       "array([ 3.,  4.,  5.,  6.,  7.,  8.,  9., 10., 11., 12., 13., 14., 15.,\n",
       "       16., 17., 18., 19., 20., 21., 22., 23., 24., 25., 26., 27., 28.,\n",
       "       29.])"
      ]
     },
     "execution_count": 22,
     "metadata": {},
     "output_type": "execute_result"
    }
   ],
   "source": [
    "p_ids = np.unique(data[\"pattern_id\"][0, stim_idxs])\n",
    "\n",
    "p_ids"
   ]
  },
  {
   "cell_type": "code",
   "execution_count": 23,
   "id": "53f75280-3a13-41d3-993a-1407eacdcf53",
   "metadata": {},
   "outputs": [
    {
     "data": {
      "text/plain": [
       "(27,)"
      ]
     },
     "execution_count": 23,
     "metadata": {},
     "output_type": "execute_result"
    }
   ],
   "source": [
    "p_ids.shape"
   ]
  },
  {
   "cell_type": "code",
   "execution_count": null,
   "id": "a50d558d-d398-45f0-acfb-fa366c7d349d",
   "metadata": {},
   "outputs": [],
   "source": []
  },
  {
   "cell_type": "markdown",
   "id": "331e20a0-434e-4293-b3e6-1a63a2d34294",
   "metadata": {},
   "source": [
    "## Get colors for plotting"
   ]
  },
  {
   "cell_type": "code",
   "execution_count": 24,
   "id": "ee0138c8-aef8-4487-9d7c-e09b99dc457e",
   "metadata": {},
   "outputs": [],
   "source": [
    "c = [\n",
    "    \"maroon\",\n",
    "    \"deeppink\",\n",
    "    \"palevioletred\", \n",
    "    \"blue\", \n",
    "    \"orange\", \n",
    "    \"green\", \n",
    "    \"red\", \n",
    "    \"purple\", \n",
    "    \"brown\", \n",
    "    \"pink\",\n",
    "    \"turquoise\", \n",
    "    \"olive\", \n",
    "    \"cyan\", \n",
    "    \"gold\", \n",
    "    \"lime\", \n",
    "    \"navy\", \n",
    "    \"magenta\",\n",
    "    \"teal\", \n",
    "    \"royalblue\", \n",
    "    \"darkgreen\",\n",
    "    \"dimgray\",\n",
    "    \"darkgoldenrod\",\n",
    "    \"midnightblue\",\n",
    "    \"plum\",\n",
    "    \"lime\",\n",
    "    \"cadetblue\",\n",
    "    \"steelblue\",\n",
    "    \"peru\"\n",
    "]"
   ]
  },
  {
   "cell_type": "code",
   "execution_count": 25,
   "id": "03ca4cd0-0ae7-465b-b17f-60edb4c58fa5",
   "metadata": {},
   "outputs": [
    {
     "data": {
      "text/plain": [
       "28"
      ]
     },
     "execution_count": 25,
     "metadata": {},
     "output_type": "execute_result"
    }
   ],
   "source": [
    "len(c)"
   ]
  },
  {
   "cell_type": "code",
   "execution_count": 26,
   "id": "3e8146f7-74c0-4362-93b8-4b7eb76cee72",
   "metadata": {},
   "outputs": [
    {
     "data": {
      "text/plain": [
       "<matplotlib.image.AxesImage at 0x7fb048ef07d0>"
      ]
     },
     "execution_count": 26,
     "metadata": {},
     "output_type": "execute_result"
    },
    {
     "data": {
      "image/png": "[encoded data removed]",
      "text/plain": [
       "<Figure size 640x480 with 1 Axes>"
      ]
     },
     "metadata": {},
     "output_type": "display_data"
    }
   ],
   "source": [
    "from matplotlib.colors import ListedColormap\n",
    "\n",
    "cmap = ListedColormap(c)\n",
    "\n",
    "plt.imshow(np.arange(27).reshape(1,-1), aspect=\"auto\", cmap=cmap)"
   ]
  },
  {
   "cell_type": "markdown",
   "id": "e4b1bc08-8565-4b4b-a33c-4303e9b76e0d",
   "metadata": {},
   "source": [
    "# Create encodings "
   ]
  },
  {
   "cell_type": "markdown",
   "id": "eaffbbdd-39d2-4279-bc5a-ed33d24a83a5",
   "metadata": {},
   "source": [
    "##  Reconstruct patterns"
   ]
  },
  {
   "cell_type": "code",
   "execution_count": 27,
   "id": "ecb6811c-8de2-4332-a137-262231621a6f",
   "metadata": {},
   "outputs": [
    {
     "name": "stdout",
     "output_type": "stream",
     "text": [
      "('totTime', 'cue', 'laser', 'trial_start', 'cue_rec_time', 'cue_trial_time', 'laser_rec_time', 'laser_trial_time', 'field_size', 'pattern_xy', 'field_id', 'full_field', 'pattern_id', 'pattern_fill', 'lift_ms', 'lift', 'grab_ms', 'grab', 'mouth_ms', 'mouth', 'single', 'any', 'no_success')\n"
     ]
    }
   ],
   "source": [
    "mat = loadmat(\"/home/clewis/wasabi/reaganbullins2/ProjectionProject/rb50/20250127/MAT_FILES/rb50_20250127_datastruct_pt2.mat\")\n",
    "mat = mat['data']\n",
    "\n",
    "print(mat.dtype.names)"
   ]
  },
  {
   "cell_type": "code",
   "execution_count": 28,
   "id": "f84d0c3f-fd2e-4976-b84e-827371790659",
   "metadata": {},
   "outputs": [],
   "source": [
    "data_struct = mat[0, 0]  # MATLAB structs are 2D arrays even if 1x1\n",
    "data2 = {field: data_struct[field] for field in mat.dtype.names}"
   ]
  },
  {
   "cell_type": "code",
   "execution_count": 29,
   "id": "2f3f1dd6-fa53-4b1d-bd10-e6cd2279a3f1",
   "metadata": {},
   "outputs": [
    {
     "data": {
      "text/plain": [
       "30"
      ]
     },
     "execution_count": 29,
     "metadata": {},
     "output_type": "execute_result"
    }
   ],
   "source": [
    "# visualize the patterns again\n",
    "pattern_ids = list(np.unique(data2['pattern_id']))\n",
    "len(pattern_ids)"
   ]
  },
  {
   "cell_type": "code",
   "execution_count": 30,
   "id": "9d3bc2ca-66fa-4a0a-9c3d-0d34d42f6e41",
   "metadata": {},
   "outputs": [],
   "source": [
    "from scipy.ndimage import zoom"
   ]
  },
  {
   "cell_type": "code",
   "execution_count": 31,
   "id": "451ee0b8-4058-4a14-8fc7-490cebd40caf",
   "metadata": {},
   "outputs": [],
   "source": [
    "reshape_size = 12"
   ]
  },
  {
   "cell_type": "code",
   "execution_count": 32,
   "id": "85d99bb1-16c8-4bf3-905e-66e3b5f61e5c",
   "metadata": {},
   "outputs": [],
   "source": [
    "pattern_ids = list(np.unique(data2['pattern_id']))\n",
    "all_patterns = list()\n",
    "# pattern 0 = no laser\n",
    "#all_patterns.append(np.zeros((12, 12)))\n",
    "# pattern 1 = full field\n",
    "#all_patterns.append(np.ones((12, 12)))\n",
    "# pattern 2 = empty field \n",
    "#all_patterns.append(np.zeros((12, 12)))\n",
    "for p_id in pattern_ids[3:]:\n",
    "    ix = np.where(data2['pattern_id'] == p_id)[0][0].astype(np.int32)\n",
    "    pattern = np.zeros((data2['pattern_xy'][ix][0].astype(np.int32), data2['pattern_xy'][ix][1].astype(np.int32)))\n",
    "    # use the pattern fill to set elements to one\n",
    "    object_ref = data2['pattern_fill'][0][ix]\n",
    "    for x, y in zip(object_ref[:, 0], object_ref[:, 1]):\n",
    "        pattern[x.astype(np.int32)-1, y.astype(np.int32)-1] = 1\n",
    "\n",
    "    pattern = zoom(pattern, (reshape_size / pattern.shape[0], reshape_size / pattern.shape[1]), order=0)\n",
    "\n",
    "    all_patterns.append(pattern)\n"
   ]
  },
  {
   "cell_type": "code",
   "execution_count": 33,
   "id": "50e17e10-e675-4378-b860-9766b632590e",
   "metadata": {},
   "outputs": [
    {
     "data": {
      "text/plain": [
       "27"
      ]
     },
     "execution_count": 33,
     "metadata": {},
     "output_type": "execute_result"
    }
   ],
   "source": [
    "len(all_patterns)"
   ]
  },
  {
   "cell_type": "code",
   "execution_count": null,
   "id": "8b2aeaae-703f-48af-a05b-dbabb0af4468",
   "metadata": {},
   "outputs": [],
   "source": []
  },
  {
   "cell_type": "code",
   "execution_count": 35,
   "id": "d5299e89-059c-4ad8-8398-e06503483dee",
   "metadata": {},
   "outputs": [
    {
     "data": {
      "text/plain": [
       "<matplotlib.image.AxesImage at 0x7fb0fc4587d0>"
      ]
     },
     "execution_count": 35,
     "metadata": {},
     "output_type": "execute_result"
    },
    {
     "data": {
      "image/png": "[encoded data removed]",
      "text/plain": [
       "<Figure size 640x480 with 1 Axes>"
      ]
     },
     "metadata": {},
     "output_type": "display_data"
    }
   ],
   "source": [
    "plt.imshow(all_patterns[0], cmap=\"binary\")"
   ]
  },
  {
   "cell_type": "code",
   "execution_count": null,
   "id": "5342de42-fdd5-48bf-9a3a-a9aaef034738",
   "metadata": {},
   "outputs": [],
   "source": []
  },
  {
   "cell_type": "code",
   "execution_count": 29,
   "id": "cf7436cb-3a35-4084-b4a9-eff6a5d2b92d",
   "metadata": {},
   "outputs": [
    {
     "data": {
      "text/plain": [
       "(105, 150)"
      ]
     },
     "execution_count": 29,
     "metadata": {},
     "output_type": "execute_result"
    }
   ],
   "source": [
    "model_data[0].shape"
   ]
  },
  {
   "cell_type": "code",
   "execution_count": 39,
   "id": "4440696c-e56b-4a9c-b178-b2eb274f7647",
   "metadata": {},
   "outputs": [],
   "source": [
    "inputs = list()\n",
    "colors = list()\n",
    "for i, d in zip(stim_idxs, model_data):\n",
    "    # get the pattern id \n",
    "    p_id = int(data[\"pattern_id\"][0][i]) - 3\n",
    "\n",
    "    colors.append(c[p_id])\n",
    "\n",
    "    encoding = all_patterns[p_id].ravel() \n",
    "\n",
    "    # stack the encoding for every timepoint (each bin)\n",
    "    nput = np.zeros((d.shape[0], reshape_size**2))\n",
    "\n",
    "    for z in range(5):\n",
    "        nput[50 + z] = encoding\n",
    "\n",
    "    inputs.append(nput)"
   ]
  },
  {
   "cell_type": "code",
   "execution_count": 40,
   "id": "1be4131e-04ac-4bc8-8645-b45452616eb2",
   "metadata": {},
   "outputs": [
    {
     "data": {
      "text/plain": [
       "array([[0., 0., 0., ..., 0., 0., 0.],\n",
       "       [0., 0., 0., ..., 0., 0., 0.],\n",
       "       [0., 0., 0., ..., 0., 0., 0.],\n",
       "       ...,\n",
       "       [0., 0., 0., ..., 0., 0., 0.],\n",
       "       [0., 0., 0., ..., 0., 0., 0.],\n",
       "       [0., 0., 0., ..., 0., 0., 0.]], shape=(105, 144))"
      ]
     },
     "execution_count": 40,
     "metadata": {},
     "output_type": "execute_result"
    }
   ],
   "source": [
    "inputs[0]"
   ]
  },
  {
   "cell_type": "code",
   "execution_count": null,
   "id": "da50effd-8bb1-410f-98a2-c181a35cc103",
   "metadata": {},
   "outputs": [],
   "source": []
  },
  {
   "cell_type": "code",
   "execution_count": null,
   "id": "bdca7c2d-47d9-4d0a-9f0e-372f0737c4ad",
   "metadata": {},
   "outputs": [],
   "source": []
  },
  {
   "cell_type": "code",
   "execution_count": 45,
   "id": "28aaf32b-2495-4652-a308-f6cb81853600",
   "metadata": {},
   "outputs": [
    {
     "data": {
      "image/png": "[encoded data removed]",
      "text/plain": [
       "<Figure size 640x480 with 1 Axes>"
      ]
     },
     "metadata": {},
     "output_type": "display_data"
    }
   ],
   "source": [
    "plt.imshow(inputs[0].T, cmap=\"binary\")\n",
    "plt.title(\"Pattern Encoding\")\n",
    "plt.xlabel(\"Bins\")\n",
    "plt.ylabel(\"Pixel Location\")\n",
    "plt.show()"
   ]
  },
  {
   "cell_type": "code",
   "execution_count": null,
   "id": "74034822-4431-440d-b898-6c16bef78f02",
   "metadata": {},
   "outputs": [],
   "source": []
  },
  {
   "cell_type": "code",
   "execution_count": null,
   "id": "825d098c-2309-41e2-851f-2f23ce116b34",
   "metadata": {},
   "outputs": [],
   "source": []
  },
  {
   "cell_type": "markdown",
   "id": "e9971560-d8f3-4644-b8d5-921ce7ef0ff8",
   "metadata": {},
   "source": [
    "# Fit the model"
   ]
  },
  {
   "cell_type": "code",
   "execution_count": 46,
   "id": "0c7c76a5-2079-4ec6-9846-e5deca0ca81a",
   "metadata": {},
   "outputs": [
    {
     "data": {
      "application/vnd.jupyter.widget-view+json": {
       "model_id": "87b6ca01f6f1491e81b073d0bb45866c",
       "version_major": 2,
       "version_minor": 0
      },
      "text/plain": [
       "  0%|          | 0/1 [00:00<?, ?it/s]"
      ]
     },
     "metadata": {},
     "output_type": "display_data"
    },
    {
     "name": "stdout",
     "output_type": "stream",
     "text": [
      "Initializing with an ARHMM using 25 steps of EM.\n"
     ]
    },
    {
     "data": {
      "application/vnd.jupyter.widget-view+json": {
       "model_id": "b7dfab21ba4247b09a83695d1e87d8e1",
       "version_major": 2,
       "version_minor": 0
      },
      "text/plain": [
       "  0%|          | 0/25 [00:00<?, ?it/s]"
      ]
     },
     "metadata": {},
     "output_type": "display_data"
    },
    {
     "data": {
      "application/vnd.jupyter.widget-view+json": {
       "model_id": "263c58a0c5f94a2688ad0d689fd5e72a",
       "version_major": 2,
       "version_minor": 0
      },
      "text/plain": [
       "  0%|          | 0/5 [00:00<?, ?it/s]"
      ]
     },
     "metadata": {},
     "output_type": "display_data"
    }
   ],
   "source": [
    "state_dim = 8\n",
    "obs_dim = model_data[0].shape[1] \n",
    "\n",
    "plds = ssm.LDS(obs_dim, state_dim, M=144, emissions=\"poisson\", emission_kwargs=dict(link=\"softplus\"))\n",
    "\n",
    "elbos, q = plds.fit(model_data, inputs=inputs, method=\"laplace_em\", num_iters=5)"
   ]
  },
  {
   "cell_type": "code",
   "execution_count": null,
   "id": "a09a2df6-7f59-48c2-b7ce-6d9105825301",
   "metadata": {},
   "outputs": [],
   "source": []
  },
  {
   "cell_type": "markdown",
   "id": "88afb87b-a75f-4606-ab49-9a1480740b75",
   "metadata": {},
   "source": [
    "# Visualize the results"
   ]
  },
  {
   "cell_type": "code",
   "execution_count": 33,
   "id": "0487250e-9a57-4de3-939c-39f1bf9e79a6",
   "metadata": {},
   "outputs": [],
   "source": [
    "# plot my elbos"
   ]
  },
  {
   "cell_type": "code",
   "execution_count": 47,
   "id": "8125f19b-bc03-4685-a706-d6f910c0def0",
   "metadata": {},
   "outputs": [
    {
     "data": {
      "image/png": "[encoded data removed]",
      "text/plain": [
       "<Figure size 800x600 with 1 Axes>"
      ]
     },
     "metadata": {},
     "output_type": "display_data"
    }
   ],
   "source": [
    "plt.figure(figsize=(8, 6))\n",
    "\n",
    "plt.plot(elbos)\n",
    "\n",
    "plt.xlabel(\"Iteration\")\n",
    "plt.ylabel(\"ELBO\")\n",
    "\n",
    "plt.title(\"ELBO Curve\")\n",
    "\n",
    "plt.show()"
   ]
  },
  {
   "cell_type": "code",
   "execution_count": null,
   "id": "8cf42352-afd3-4500-9a0c-b65ddfd76a64",
   "metadata": {},
   "outputs": [],
   "source": []
  },
  {
   "cell_type": "code",
   "execution_count": null,
   "id": "59ef3132-d102-4151-9490-698355ef41a0",
   "metadata": {},
   "outputs": [],
   "source": []
  },
  {
   "cell_type": "code",
   "execution_count": null,
   "id": "e13d8cb0-0093-4026-9aa5-4f14284e3269",
   "metadata": {},
   "outputs": [],
   "source": []
  },
  {
   "cell_type": "markdown",
   "id": "b8240620-38bc-4620-80fe-837f3497fddf",
   "metadata": {},
   "source": [
    "## Dynamics"
   ]
  },
  {
   "cell_type": "code",
   "execution_count": 48,
   "id": "039db2d3-4f16-45c7-8f37-e2157dda2d63",
   "metadata": {},
   "outputs": [],
   "source": [
    "A_est = plds.dynamics.A\n",
    "b_est = plds.dynamics.b"
   ]
  },
  {
   "cell_type": "code",
   "execution_count": 49,
   "id": "55512cf5-9bf2-4705-914a-bddb498a1ac7",
   "metadata": {},
   "outputs": [],
   "source": [
    "from matplotlib.patches import Patch"
   ]
  },
  {
   "cell_type": "code",
   "execution_count": 50,
   "id": "7bdfa0d6-c7be-47e0-b72d-cf3cb32f640a",
   "metadata": {},
   "outputs": [],
   "source": [
    "state_means = q.mean_continuous_states"
   ]
  },
  {
   "cell_type": "code",
   "execution_count": 51,
   "id": "b06d98a6-fcfc-4e60-9028-fe863a92478e",
   "metadata": {},
   "outputs": [],
   "source": [
    "custom_patches = [Patch(facecolor=c[int(i)-3], edgecolor='black', label=f'{int(i)}') for i in p_ids]"
   ]
  },
  {
   "cell_type": "code",
   "execution_count": null,
   "id": "4c5fe49f-203b-45c6-9808-2626a6ee29b1",
   "metadata": {},
   "outputs": [],
   "source": []
  },
  {
   "cell_type": "markdown",
   "id": "9f2cbd69-5b91-485a-bba9-760a8e83a131",
   "metadata": {},
   "source": [
    "# Eigenvalue Decomposition on `A`"
   ]
  },
  {
   "cell_type": "code",
   "execution_count": 52,
   "id": "965143d2-a002-4fb0-a9b6-a998b3a8d618",
   "metadata": {},
   "outputs": [
    {
     "data": {
      "text/plain": [
       "array([[ 0.191612  ,  0.01880654, -0.04030755, -0.02195092, -0.02125918,\n",
       "         0.0072597 ,  0.0058744 ,  0.03547581],\n",
       "       [ 0.01450458,  0.19038486,  0.03201758,  0.01059425, -0.01786446,\n",
       "         0.03729064, -0.01654961, -0.01477874],\n",
       "       [-0.0034495 , -0.00471013,  0.21926258,  0.00454642,  0.00799516,\n",
       "         0.01046693, -0.03818789,  0.00158282],\n",
       "       [-0.01852074, -0.02682045,  0.01288911,  0.18994832,  0.01951202,\n",
       "        -0.00946619, -0.00156931, -0.00880088],\n",
       "       [-0.04894711, -0.01184037,  0.08953239,  0.05773624,  0.26107284,\n",
       "        -0.05125418, -0.00305817, -0.00765421],\n",
       "       [-0.03377406, -0.020469  ,  0.03813856,  0.02734169,  0.0360491 ,\n",
       "         0.09644985, -0.0123795 , -0.02013352],\n",
       "       [ 0.01781499,  0.01920159, -0.09147369,  0.00786758,  0.0215685 ,\n",
       "        -0.03821194,  0.21813617,  0.06020705],\n",
       "       [ 0.05335902,  0.03287702, -0.07941539, -0.04146555, -0.01177409,\n",
       "         0.00229703,  0.08410918,  0.19907454]])"
      ]
     },
     "execution_count": 52,
     "metadata": {},
     "output_type": "execute_result"
    }
   ],
   "source": [
    "A_est"
   ]
  },
  {
   "cell_type": "code",
   "execution_count": 92,
   "id": "d40651f0-c103-4b44-ac6b-c06e2f7f3e67",
   "metadata": {},
   "outputs": [
    {
     "data": {
      "image/png": "[encoded data removed]",
      "text/plain": [
       "<Figure size 640x480 with 2 Axes>"
      ]
     },
     "metadata": {},
     "output_type": "display_data"
    }
   ],
   "source": [
    "plt.title(\"$A$\")\n",
    "\n",
    "plt.imshow(A_est)\n",
    "\n",
    "plt.colorbar()\n",
    "\n",
    "plt.savefig(\"/home/clewis/repos/realSpike/data/rb50_20250127/plds_stim/pixel/A_matrix.png\")\n",
    "\n",
    "plt.show()"
   ]
  },
  {
   "cell_type": "code",
   "execution_count": null,
   "id": "fb951d4d-dd88-41a5-8a8a-b9924d1732e1",
   "metadata": {},
   "outputs": [],
   "source": []
  },
  {
   "cell_type": "code",
   "execution_count": 54,
   "id": "ab2d8cb8-5aae-44a1-aa6f-a6d9476d7bec",
   "metadata": {},
   "outputs": [
    {
     "data": {
      "text/plain": [
       "array([0.33226137+0.j        , 0.26647989+0.j        ,\n",
       "       0.21126577+0.j        , 0.18099806+0.01541136j,\n",
       "       0.18099806-0.01541136j, 0.16280359+0.j        ,\n",
       "       0.11556721+0.00240403j, 0.11556721-0.00240403j])"
      ]
     },
     "execution_count": 54,
     "metadata": {},
     "output_type": "execute_result"
    }
   ],
   "source": [
    "eigvals, eigvecs = np.linalg.eig(A_est)\n",
    "\n",
    "eigvals"
   ]
  },
  {
   "cell_type": "code",
   "execution_count": null,
   "id": "08aa104c-8b94-4f75-aab7-b05210dceb6c",
   "metadata": {},
   "outputs": [],
   "source": []
  },
  {
   "cell_type": "code",
   "execution_count": null,
   "id": "02ded140-4493-465f-91a6-2afab500bf41",
   "metadata": {},
   "outputs": [],
   "source": []
  },
  {
   "cell_type": "code",
   "execution_count": null,
   "id": "880dbda6-d844-412a-a649-e1043fd217fe",
   "metadata": {},
   "outputs": [],
   "source": []
  },
  {
   "cell_type": "code",
   "execution_count": 91,
   "id": "86b00008-2fa0-4fa8-99ac-9ae96f798b82",
   "metadata": {},
   "outputs": [
    {
     "data": {
      "image/png": "[encoded data removed]",
      "text/plain": [
       "<Figure size 640x480 with 1 Axes>"
      ]
     },
     "metadata": {},
     "output_type": "display_data"
    }
   ],
   "source": [
    "plt.axhline(0, color='gray', linestyle='--', linewidth=0.7)\n",
    "plt.axvline(1, color='gray', linestyle='--', linewidth=0.7)\n",
    "\n",
    "a = np.exp(eigvals)\n",
    "\n",
    "#b = np.log(eigvals)\n",
    "\n",
    "plt.scatter(eigvals.real, eigvals.imag, c='red', s=50, marker=\"x\")\n",
    "\n",
    "plt.xlim((0, 2))\n",
    "\n",
    "plt.title(\"Eigenvalues\")\n",
    "\n",
    "plt.xlabel(\"Real\")\n",
    "plt.ylabel(\"Imaginary\")\n",
    "\n",
    "plt.savefig(\"/home/clewis/repos/realSpike/data/rb50_20250127/plds_stim/pixel/eigenvalues.png\")\n",
    "\n",
    "plt.show()\n"
   ]
  },
  {
   "cell_type": "code",
   "execution_count": null,
   "id": "47a7c721-5fdd-4f2f-a887-9aff575fcf4f",
   "metadata": {},
   "outputs": [],
   "source": []
  },
  {
   "cell_type": "code",
   "execution_count": null,
   "id": "c14fdbac-a601-47d0-98f8-890dc1b27a0f",
   "metadata": {},
   "outputs": [],
   "source": []
  },
  {
   "cell_type": "code",
   "execution_count": null,
   "id": "65d7d02d-afaf-46e4-b2ac-68d53d06606c",
   "metadata": {},
   "outputs": [],
   "source": []
  },
  {
   "cell_type": "markdown",
   "id": "75e17ff1-dc6b-4590-bac3-1cd098e4a537",
   "metadata": {},
   "source": [
    "# Plotting B"
   ]
  },
  {
   "cell_type": "code",
   "execution_count": 56,
   "id": "7f8ecca1-3eeb-407f-bf71-9f9247966c1f",
   "metadata": {},
   "outputs": [],
   "source": [
    "B = plds.dynamics.params[2][0]"
   ]
  },
  {
   "cell_type": "code",
   "execution_count": 57,
   "id": "b43b7a47-a3c3-4a72-929c-c64d00fb7a22",
   "metadata": {},
   "outputs": [
    {
     "data": {
      "text/plain": [
       "(8, 144)"
      ]
     },
     "execution_count": 57,
     "metadata": {},
     "output_type": "execute_result"
    }
   ],
   "source": [
    "B.shape"
   ]
  },
  {
   "cell_type": "code",
   "execution_count": 72,
   "id": "72688994-8509-4684-b892-88a52ef0396a",
   "metadata": {},
   "outputs": [],
   "source": [
    "from mpl_toolkits.axes_grid1 import make_axes_locatable"
   ]
  },
  {
   "cell_type": "code",
   "execution_count": 392,
   "id": "7ff1288f-a91d-4bce-8dde-d1413224d09c",
   "metadata": {},
   "outputs": [
    {
     "data": {
      "image/png": "[encoded data removed]",
      "text/plain": [
       "<Figure size 1400x1000 with 2 Axes>"
      ]
     },
     "metadata": {},
     "output_type": "display_data"
    }
   ],
   "source": [
    "plt.figure(figsize=(14, 10))\n",
    "\n",
    "plt.title(\"$B$\")\n",
    "plt.ylabel(\"Dim\")\n",
    "plt.xlabel(\"Pixel Position\")\n",
    "\n",
    "\n",
    "ax = plt.gca()\n",
    "im = ax.imshow(B, cmap=\"plasma\", aspect='auto', norm=CenteredNorm())\n",
    "    \n",
    "# create an axes on the right side of ax. The width of cax will be 5%\n",
    "# of ax and the padding between cax and ax will be fixed at 0.05 inch.\n",
    "divider = make_axes_locatable(ax)\n",
    "cax = divider.append_axes(\"right\", size=\"1%\", pad=0.10)\n",
    "   \n",
    "plt.colorbar(im, cax=cax)\n",
    "\n",
    "#plt.yticks([i for i in range(0, 144)], [f\"Pixel {i}\" for i in range(0, 144)])\n",
    "\n",
    "plt.tight_layout()\n",
    "\n",
    "plt.savefig(\"/home/clewis/repos/realSpike/data/rb50_20250127/plds_stim/pixel/B_matrix.png\")\n",
    "\n",
    "plt.show()"
   ]
  },
  {
   "cell_type": "code",
   "execution_count": 383,
   "id": "ef138367-5353-4c89-973e-22cffaf22422",
   "metadata": {},
   "outputs": [
    {
     "data": {
      "image/png": "[encoded data removed]",
      "text/plain": [
       "<Figure size 1000x600 with 8 Axes>"
      ]
     },
     "metadata": {},
     "output_type": "display_data"
    }
   ],
   "source": [
    "fig, axes = plt.subplots(2, 4, figsize=(10, 6))\n",
    "\n",
    "# Flatten axes array for easy iteration\n",
    "axes = axes.flatten()\n",
    "\n",
    "for i in range(8):\n",
    "    ax = axes[i]\n",
    "    ax.matshow(B[i].reshape(12, 12), cmap='plasma', aspect='auto', norm=CenteredNorm())\n",
    "    # Create a Rectangle patch with the same dimensions as the image\n",
    "  #  rect = patches.Rectangle((0, 0), data[i].shape[1] - 1, data[i].shape[0] - 1, linewidth=1, edgecolor='black', facecolor='none')\n",
    "    \n",
    "    # Add the patch to the axes\n",
    " #   ax.add_patch(rect)\n",
    "    ax.set_title(f'Dim {i}')\n",
    "    ax.get_xaxis().set_ticks([])\n",
    "    ax.get_yaxis().set_ticks([])\n",
    "#    ax.axis('off')  # Turn off axis\n",
    "\n",
    "plt.tight_layout()\n",
    "\n",
    "#plt.savefig(\"/home/caitlin/repos/holo-nbs/sparse_regression.png\")\n",
    "plt.show()"
   ]
  },
  {
   "cell_type": "code",
   "execution_count": null,
   "id": "27d25307-cca6-4d1a-8f8c-6a75d22bac0e",
   "metadata": {},
   "outputs": [],
   "source": []
  },
  {
   "cell_type": "code",
   "execution_count": null,
   "id": "58b73139-6f59-4013-b81b-77412038328a",
   "metadata": {},
   "outputs": [],
   "source": []
  },
  {
   "cell_type": "markdown",
   "id": "a6d7a676-62b1-4d61-bdb0-aadbd3826655",
   "metadata": {},
   "source": [
    "# Run lasso regression "
   ]
  },
  {
   "cell_type": "markdown",
   "id": "02b303bb-55b3-46fb-b212-d1ecf89924c7",
   "metadata": {},
   "source": [
    "z_{t+1} = Az_t + Bu_t + b"
   ]
  },
  {
   "cell_type": "code",
   "execution_count": 366,
   "id": "895b90ff-1f3a-4f92-8b53-4f1d9623bd4d",
   "metadata": {},
   "outputs": [
    {
     "data": {
      "text/plain": [
       "269"
      ]
     },
     "execution_count": 366,
     "metadata": {},
     "output_type": "execute_result"
    }
   ],
   "source": [
    "len(state_means)"
   ]
  },
  {
   "cell_type": "code",
   "execution_count": null,
   "id": "4ec5a458-c19d-44fb-bb76-206c5c1778e1",
   "metadata": {},
   "outputs": [],
   "source": []
  },
  {
   "cell_type": "code",
   "execution_count": null,
   "id": "c4e53ac8-b023-42c9-ba38-209895a6e026",
   "metadata": {},
   "outputs": [],
   "source": []
  },
  {
   "cell_type": "code",
   "execution_count": null,
   "id": "7783c5d0-2ef9-4204-bd38-e7fa831bfe8f",
   "metadata": {},
   "outputs": [],
   "source": []
  },
  {
   "cell_type": "code",
   "execution_count": null,
   "id": "f4c4be7b-c5b4-43e6-808d-6ec6c2daea1d",
   "metadata": {},
   "outputs": [],
   "source": []
  },
  {
   "cell_type": "code",
   "execution_count": 408,
   "id": "9c05bd71-16a4-47d4-9fb2-e16a2af3b00a",
   "metadata": {},
   "outputs": [],
   "source": [
    "from sklearn.linear_model import Lasso"
   ]
  },
  {
   "cell_type": "code",
   "execution_count": 409,
   "id": "7d1f23f6-410e-44b1-97c4-7cf9ab7ec6b5",
   "metadata": {},
   "outputs": [],
   "source": [
    "latent_dim = Z_all.shape[1]\n",
    "input_dim = U_all.shape[1]"
   ]
  },
  {
   "cell_type": "code",
   "execution_count": 424,
   "id": "3af60bca-1a00-4958-9ef4-d2ebf23c5ee9",
   "metadata": {},
   "outputs": [],
   "source": [
    "B_sparse = np.zeros((latent_dim, input_dim))\n",
    "alpha = 0.08  # Lasso regularization\n",
    "\n",
    "for i in range(latent_dim):\n",
    "    lasso = Lasso(alpha=alpha)\n",
    "    lasso.fit(U_all, Z_all[:, i])\n",
    "    B_sparse[i, :] = lasso.coef_"
   ]
  },
  {
   "cell_type": "code",
   "execution_count": 425,
   "id": "1c2548f8-203f-494f-b3ec-c1ab3ebee29d",
   "metadata": {},
   "outputs": [
    {
     "data": {
      "text/plain": [
       "Text(0.5, 1.0, '$B$')"
      ]
     },
     "execution_count": 425,
     "metadata": {},
     "output_type": "execute_result"
    },
    {
     "data": {
      "image/png": "[encoded data removed]",
      "text/plain": [
       "<Figure size 1600x200 with 1 Axes>"
      ]
     },
     "metadata": {},
     "output_type": "display_data"
    }
   ],
   "source": [
    "plt.matshow(B_sparse, cmap='seismic', aspect='auto', norm=CenteredNorm())\n",
    "\n",
    "plt.title(\"$B$\")"
   ]
  },
  {
   "cell_type": "code",
   "execution_count": 426,
   "id": "5ca9e7e2-907c-4927-8778-ba39641b776d",
   "metadata": {},
   "outputs": [
    {
     "data": {
      "image/png": "[encoded data removed]",
      "text/plain": [
       "<Figure size 1000x600 with 8 Axes>"
      ]
     },
     "metadata": {},
     "output_type": "display_data"
    }
   ],
   "source": [
    "fig, axes = plt.subplots(2, 4, figsize=(10, 6))\n",
    "\n",
    "# Flatten axes array for easy iteration\n",
    "axes = axes.flatten()\n",
    "\n",
    "for i in range(8):\n",
    "    ax = axes[i]\n",
    "    ax.matshow(B_sparse[i].reshape(12, 12), cmap='seismic', aspect='auto', norm=CenteredNorm())\n",
    "    # Create a Rectangle patch with the same dimensions as the image\n",
    "  #  rect = patches.Rectangle((0, 0), data[i].shape[1] - 1, data[i].shape[0] - 1, linewidth=1, edgecolor='black', facecolor='none')\n",
    "    \n",
    "    # Add the patch to the axes\n",
    " #   ax.add_patch(rect)\n",
    "    ax.set_title(f'Dim {i}')\n",
    "    ax.get_xaxis().set_ticks([])\n",
    "    ax.get_yaxis().set_ticks([])\n",
    "#    ax.axis('off')  # Turn off axis\n",
    "\n",
    "plt.tight_layout()\n",
    "\n",
    "#plt.savefig(\"/home/caitlin/repos/holo-nbs/sparse_regression.png\")\n",
    "plt.show()"
   ]
  },
  {
   "cell_type": "code",
   "execution_count": null,
   "id": "20c7a454-1a21-4494-b852-64b40251c4a3",
   "metadata": {},
   "outputs": [],
   "source": []
  },
  {
   "cell_type": "code",
   "execution_count": null,
   "id": "e6f42d14-1863-4cf1-93fb-35a08d636345",
   "metadata": {},
   "outputs": [],
   "source": []
  },
  {
   "cell_type": "code",
   "execution_count": null,
   "id": "7e263736-ca39-4fc8-9625-2e0048d6d115",
   "metadata": {},
   "outputs": [],
   "source": []
  },
  {
   "cell_type": "code",
   "execution_count": null,
   "id": "5a920464-b215-442f-b501-a90803474e25",
   "metadata": {},
   "outputs": [],
   "source": []
  },
  {
   "cell_type": "code",
   "execution_count": null,
   "id": "0525c87d-01bb-4f34-bfea-9145f1b727b3",
   "metadata": {},
   "outputs": [],
   "source": []
  },
  {
   "cell_type": "code",
   "execution_count": null,
   "id": "159a977d-db25-4dcd-bdab-49823ea73809",
   "metadata": {},
   "outputs": [],
   "source": []
  },
  {
   "cell_type": "code",
   "execution_count": null,
   "id": "e967633f-edf5-4c76-9dcd-ed3255562426",
   "metadata": {},
   "outputs": [],
   "source": []
  },
  {
   "cell_type": "code",
   "execution_count": null,
   "id": "711ff400-e8b9-40da-a6df-d1dabb93c09f",
   "metadata": {},
   "outputs": [],
   "source": []
  },
  {
   "cell_type": "code",
   "execution_count": null,
   "id": "f2c3a232-2909-43f5-9d5c-b8acad8065ac",
   "metadata": {},
   "outputs": [],
   "source": []
  },
  {
   "cell_type": "code",
   "execution_count": null,
   "id": "a8dd6ca7-ec68-4291-8e7a-1735c1f4c732",
   "metadata": {},
   "outputs": [],
   "source": []
  }
 ],
 "metadata": {
  "kernelspec": {
   "display_name": "Python 3 (ipykernel)",
   "language": "python",
   "name": "python3"
  },
  "language_info": {
   "codemirror_mode": {
    "name": "ipython",
    "version": 3
   },
   "file_extension": ".py",
   "mimetype": "text/x-python",
   "name": "python",
   "nbconvert_exporter": "python",
   "pygments_lexer": "ipython3",
   "version": "3.11.12"
  }
 },
 "nbformat": 4,
 "nbformat_minor": 5
}
