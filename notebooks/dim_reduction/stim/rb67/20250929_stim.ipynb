{
 "cells": [
  {
   "cell_type": "markdown",
   "id": "e6033eee-c04d-4f7d-be1a-f4e9b49f9243",
   "metadata": {},
   "source": [
    "# Stim only \n",
    "# train = multi-pixel, test = single pixel \n",
    "# compare lasso and non-lasso"
   ]
  },
  {
   "cell_type": "code",
   "execution_count": 1,
   "id": "248b0e90-8bf5-4e76-a0a7-a51bee41527a",
   "metadata": {},
   "outputs": [
    {
     "name": "stderr",
     "output_type": "stream",
     "text": [
      "Detected skylake derivative running on mesa i915. Clears to srgb textures will use manual shader clears.\n",
      "Detected skylake derivative running on mesa i915. Clears to srgb textures will use manual shader clears.\n",
      "Detected skylake derivative running on mesa i915. Clears to srgb textures will use manual shader clears.\n"
     ]
    },
    {
     "data": {
      "application/vnd.jupyter.widget-view+json": {
       "model_id": "91f059039c0440f3834624b31d0ac472",
       "version_major": 2,
       "version_minor": 0
      },
      "text/plain": [
       "Image(value=b'\\x89PNG\\r\\n\\x1a\\n\\x00\\x00\\x00\\rIHDR\\x00\\x00\\x01,\\x00\\x00\\x007\\x08\\x06\\x00\\x00\\x00\\xb6\\x1bw\\x99\\x…"
      ]
     },
     "metadata": {},
     "output_type": "display_data"
    },
    {
     "data": {
      "text/html": [
       "<b>Available devices:</b><table><tr><th>Valid</th><th>Device</th><th>Type</th><th>Backend</th><th>Driver</th></tr><tr title=\"This adapter can be used with fastplotlib\"><td>✅</td><td>Intel(R) Arc(tm) Graphics (MTL)</td><td>IntegratedGPU</td><td>Vulkan</td><td>Mesa 25.0.4</td></tr><tr title=\"This adapter can be used with fastplotlib\"><td>✅ (default) </td><td>NVIDIA GeForce RTX 4060 Laptop GPU</td><td>DiscreteGPU</td><td>Vulkan</td><td>565.77</td></tr><tr title=\"CPU rendering support is limited and mainly for testing purposes\"><td>❗ limited</td><td>llvmpipe (LLVM 19.1.7, 256 bits)</td><td>CPU</td><td>Vulkan</td><td>Mesa 25.0.4 (LLVM 19.1.7)</td></tr><tr title=\"This adapter cannot be used with fastplotlib\"><td>❌</td><td>Mesa Intel(R) Arc(tm) Graphics (MTL)</td><td>IntegratedGPU</td><td>OpenGL</td><td>4.6 (Core Profile) Mesa 25.0.4</td></tr></table>"
      ],
      "text/plain": [
       "<IPython.core.display.HTML object>"
      ]
     },
     "metadata": {},
     "output_type": "display_data"
    },
    {
     "name": "stderr",
     "output_type": "stream",
     "text": [
      "Detected skylake derivative running on mesa i915. Clears to srgb textures will use manual shader clears.\n",
      "Detected skylake derivative running on mesa i915. Clears to srgb textures will use manual shader clears.\n"
     ]
    }
   ],
   "source": [
    "import ssm\n",
    "from pathlib import Path\n",
    "from scipy.io import loadmat\n",
    "import numpy as np\n",
    "import matplotlib.pyplot as plt\n",
    "from tqdm.notebook import tqdm\n",
    "from real_spike.utils import *\n",
    "\n",
    "from scipy.ndimage import gaussian_filter1d\n",
    "\n",
    "import random\n",
    "import h5py\n",
    "\n",
    "import fastplotlib as fpl\n",
    "from ipywidgets import IntSlider, VBox, Layout, Select, HBox\n",
    "\n",
    "from PIL import Image\n",
    "%matplotlib inline"
   ]
  },
  {
   "cell_type": "code",
   "execution_count": 2,
   "id": "c8c39048-2ae4-4fa2-9857-92dfc809707d",
   "metadata": {},
   "outputs": [],
   "source": [
    "path = f\"/home/clewis/repos/realSpike/data/rb67_20250929/\""
   ]
  },
  {
   "cell_type": "markdown",
   "id": "5bf20e35-5bbd-41a4-87ca-2a394d03b356",
   "metadata": {},
   "source": [
    "# Get data"
   ]
  },
  {
   "cell_type": "code",
   "execution_count": 3,
   "id": "28627e20-ddf2-4f95-ad75-04c1dfc06d47",
   "metadata": {},
   "outputs": [
    {
     "name": "stdout",
     "output_type": "stream",
     "text": [
      "<KeysViewHDF5 ['aligned_laser_rec_time', 'laser_rec_time', 'pattern_id', 'pattern_library', 'totTime']>\n"
     ]
    }
   ],
   "source": [
    "f = h5py.File(\"/home/clewis/wasabi/reaganbullins2/ProjectionProject/rb67/20250929/MAT_FILES/rb67_20250929_datastruct_pt2.mat\", 'r')\n",
    "data = f['data']\n",
    "print(data.keys())"
   ]
  },
  {
   "cell_type": "code",
   "execution_count": 4,
   "id": "a1af1722-8821-4bb3-8bb8-0743aa9d1084",
   "metadata": {},
   "outputs": [
    {
     "data": {
      "text/plain": [
       "<HDF5 dataset \"pattern_library\": shape (16, 6280), type \"<f8\">"
      ]
     },
     "execution_count": 4,
     "metadata": {},
     "output_type": "execute_result"
    }
   ],
   "source": [
    "data[\"pattern_library\"]"
   ]
  },
  {
   "cell_type": "code",
   "execution_count": 5,
   "id": "2b5fca16-a019-43b9-9c4f-2f480c40218a",
   "metadata": {},
   "outputs": [
    {
     "data": {
      "text/plain": [
       "<HDF5 dataset \"pattern_id\": shape (6464, 1), type \"<f8\">"
      ]
     },
     "execution_count": 5,
     "metadata": {},
     "output_type": "execute_result"
    }
   ],
   "source": [
    "data[\"pattern_id\"]"
   ]
  },
  {
   "cell_type": "code",
   "execution_count": 6,
   "id": "5d214545-55bd-47b0-be39-9163bf32beaa",
   "metadata": {},
   "outputs": [
    {
     "data": {
      "text/plain": [
       "<HDF5 dataset \"aligned_laser_rec_time\": shape (6464, 1), type \"<f8\">"
      ]
     },
     "execution_count": 6,
     "metadata": {},
     "output_type": "execute_result"
    }
   ],
   "source": [
    "data[\"aligned_laser_rec_time\"]"
   ]
  },
  {
   "cell_type": "code",
   "execution_count": null,
   "id": "2e129882-6c52-4385-9f41-f72459c80210",
   "metadata": {},
   "outputs": [],
   "source": []
  },
  {
   "cell_type": "markdown",
   "id": "e07891df-d92b-42c3-acb1-8593ab58a41d",
   "metadata": {},
   "source": [
    "# Plot a pattern"
   ]
  },
  {
   "cell_type": "code",
   "execution_count": 7,
   "id": "b7de545e-5aff-4c5a-9d4d-12d6cda33daa",
   "metadata": {},
   "outputs": [
    {
     "data": {
      "image/png": "[encoded data removed]",
      "text/plain": [
       "<Figure size 640x480 with 4 Axes>"
      ]
     },
     "metadata": {},
     "output_type": "display_data"
    }
   ],
   "source": [
    "fig, axes = plt.subplots(2, 2) \n",
    "\n",
    "axes = axes.flatten()\n",
    "\n",
    "ids = [random.randint(0, data[\"pattern_id\"].shape[0]-1) for _ in range(4)]\n",
    "\n",
    "for i in range(4):\n",
    "    p_id = int(data[\"pattern_id\"][ids[i], 0]) - 1\n",
    "    axes[i].matshow(data[\"pattern_library\"][:, p_id].reshape(4,4), cmap=\"binary\")\n",
    "    axes[i].set_title(f\"Pattern {ids[i]}\")\n",
    "\n",
    "plt.tight_layout()\n",
    "\n",
    "plt.show()\n"
   ]
  },
  {
   "cell_type": "code",
   "execution_count": null,
   "id": "8bb36e05-4a47-4b98-9191-c8ecbc432381",
   "metadata": {},
   "outputs": [],
   "source": []
  },
  {
   "cell_type": "markdown",
   "id": "0e8f86ac-824c-40e2-ae38-a3cd23baa85c",
   "metadata": {},
   "source": [
    "## Get which patterns are single pixel"
   ]
  },
  {
   "cell_type": "code",
   "execution_count": 8,
   "id": "d7023e4f-811a-4b32-890f-5dbf2b7562b6",
   "metadata": {},
   "outputs": [
    {
     "data": {
      "text/plain": [
       "6464"
      ]
     },
     "execution_count": 8,
     "metadata": {},
     "output_type": "execute_result"
    }
   ],
   "source": [
    "num_trials = data[\"pattern_id\"].shape[0]\n",
    "num_trials"
   ]
  },
  {
   "cell_type": "code",
   "execution_count": 9,
   "id": "e5a1e2d1-3019-4084-8dff-4ccae255e87c",
   "metadata": {},
   "outputs": [],
   "source": []
  },
  {
   "cell_type": "code",
   "execution_count": 14,
   "id": "e5ee3d6c-376c-4bc2-bba7-d8078842ba2f",
   "metadata": {},
   "outputs": [],
   "source": [
    "single_pixels = list()\n",
    "\n",
    "for i in range(num_trials):\n",
    "    p_id = int(data[\"pattern_id\"][i, 0])\n",
    "    if data[\"pattern_library\"][:, p_id-1].sum() == 1:\n",
    "       # print(data[\"pattern_library\"][:, p_id-1])\n",
    "        single_pixels.append(1)\n",
    "    else:\n",
    "        single_pixels.append(0)"
   ]
  },
  {
   "cell_type": "code",
   "execution_count": 15,
   "id": "6e85b76b-9625-4010-8da1-2df54067bbc1",
   "metadata": {},
   "outputs": [
    {
     "data": {
      "text/plain": [
       "6464"
      ]
     },
     "execution_count": 15,
     "metadata": {},
     "output_type": "execute_result"
    }
   ],
   "source": [
    "len(single_pixels)"
   ]
  },
  {
   "cell_type": "code",
   "execution_count": null,
   "id": "30ed56bd-18b5-4a5b-b107-4ff673d5f601",
   "metadata": {},
   "outputs": [],
   "source": []
  },
  {
   "cell_type": "markdown",
   "id": "819865ca-23c1-464a-bdab-ba4b7d473055",
   "metadata": {},
   "source": [
    "## Get the AP.bin file"
   ]
  },
  {
   "cell_type": "code",
   "execution_count": 16,
   "id": "2d8a2948-aa4e-4f02-bb48-56c4ac9fb13d",
   "metadata": {},
   "outputs": [],
   "source": [
    "file_path = Path(\"/home/clewis/wasabi/reaganbullins2/ProjectionProject/rb67/20250929/rb67_20250929_g7/rb67_20250929_g7_t0.imec0.ap.bin\")\n",
    "meta_path = Path(\"/home/clewis/wasabi/reaganbullins2/ProjectionProject/rb67/20250929/rb67_20250929_g7/rb67_20250929_g7_t0.imec0.ap.meta\")"
   ]
  },
  {
   "cell_type": "code",
   "execution_count": 17,
   "id": "febb6f30-6759-4e19-8d10-cd7672b7f200",
   "metadata": {},
   "outputs": [],
   "source": [
    "meta_data = get_meta(meta_path)"
   ]
  },
  {
   "cell_type": "code",
   "execution_count": 18,
   "id": "79309844-bbe5-4ad7-9679-bb6d3af4611e",
   "metadata": {},
   "outputs": [
    {
     "data": {
      "text/plain": [
       "(385, 227788964)"
      ]
     },
     "execution_count": 18,
     "metadata": {},
     "output_type": "execute_result"
    }
   ],
   "source": [
    "ap_data = get_sample_data(file_path, meta_data)\n",
    "ap_data.shape"
   ]
  },
  {
   "cell_type": "code",
   "execution_count": null,
   "id": "e7178bb3-67e2-4a87-b60d-f91c500a93af",
   "metadata": {},
   "outputs": [],
   "source": []
  },
  {
   "cell_type": "markdown",
   "id": "dc2ea5bb-191f-4a96-938c-0715b1ef403d",
   "metadata": {},
   "source": [
    "## Get conversion params"
   ]
  },
  {
   "cell_type": "code",
   "execution_count": 19,
   "id": "5fc0d3a4-7ff2-49bb-810c-0199334f8d75",
   "metadata": {},
   "outputs": [
    {
     "data": {
      "text/plain": [
       "(0.6, 512.0, 500.0)"
      ]
     },
     "execution_count": 19,
     "metadata": {},
     "output_type": "execute_result"
    }
   ],
   "source": [
    "vmax = float(meta_data[\"imAiRangeMax\"])\n",
    "# get Imax\n",
    "imax = float(meta_data[\"imMaxInt\"])\n",
    "# get gain\n",
    "gain = float(meta_data['imroTbl'].split(sep=')')[1].split(sep=' ')[3])\n",
    "\n",
    "(vmax, imax, gain)"
   ]
  },
  {
   "cell_type": "code",
   "execution_count": 20,
   "id": "940628ed-88ff-4208-abf2-7f476d072593",
   "metadata": {},
   "outputs": [
    {
     "data": {
      "text/plain": [
       "(6464, 1)"
      ]
     },
     "execution_count": 20,
     "metadata": {},
     "output_type": "execute_result"
    }
   ],
   "source": [
    "data[\"aligned_laser_rec_time\"].shape"
   ]
  },
  {
   "cell_type": "markdown",
   "id": "24eb2054-9e95-4be7-a082-c5f0717693fb",
   "metadata": {},
   "source": [
    "# Get the model data and save it out"
   ]
  },
  {
   "cell_type": "code",
   "execution_count": 22,
   "id": "961754b8-009a-48fe-86f1-e59535ff8ffe",
   "metadata": {},
   "outputs": [],
   "source": [
    "def get_trials(idxs, bin_size, single_pixels):\n",
    "    \n",
    "    train_data = list()\n",
    "    test_data = list()\n",
    "    \n",
    "    for j in tqdm(idxs):\n",
    "        # get time points in ap space\n",
    "        pre = 50 # 50 ms before\n",
    "        stim = data[\"aligned_laser_rec_time\"][j, 0] \n",
    "        start_time = int((stim - pre) / 1_000 * 30_000) # AP sample space\n",
    "        \n",
    "        stim_t = 5 # stim for 5 ms \n",
    "        post = 50 # take 50 ms after stim \n",
    "        end_time = int((stim + stim_t + post) / 1_000 * 30_000) # AP sample space\n",
    "    \n",
    "        trial = ap_data[:150, start_time:end_time+1]\n",
    "    \n",
    "        conv_data = 1e6 * trial / vmax / imax / gain\n",
    "    \n",
    "        filt_data = butter_filter(conv_data, 1_000, 30_000)\n",
    "    \n",
    "        m_start = int(start_time - (30 * 1000))\n",
    "        trial_median = ap_data[:150, m_start:start_time]\n",
    "    \n",
    "        trial_median = 1e6 * trial_median / vmax / imax / gain\n",
    "        trial_median = butter_filter(trial_median, 1_000, 30_000)\n",
    "        \n",
    "        median = np.median(trial_median, axis=1)\n",
    "    \n",
    "        spike_ixs, counts = get_spike_events(filt_data, median)\n",
    "        \n",
    "        a = np.zeros((filt_data.shape[0], filt_data.shape[1]))\n",
    "    \n",
    "        for i, sc in enumerate(spike_ixs):\n",
    "            a[i, sc] = 1\n",
    "    \n",
    "        b = bin_size * 30 # 30ms per bin\n",
    "        binned_spikes = bin_spikes(a, b)\n",
    "\n",
    "        if single_pixels[j] == 1:\n",
    "            test_data.append(np.asarray(binned_spikes.T, dtype=int))\n",
    "        else:\n",
    "            train_data.append(np.asarray(binned_spikes.T, dtype=int))\n",
    "        \n",
    "    return train_data, test_data"
   ]
  },
  {
   "cell_type": "code",
   "execution_count": 23,
   "id": "04dbfa2f-7b66-41b3-b221-31ac488ad38b",
   "metadata": {},
   "outputs": [
    {
     "data": {
      "text/plain": [
       "[1, 0, 0, 0, 0]"
      ]
     },
     "execution_count": 23,
     "metadata": {},
     "output_type": "execute_result"
    }
   ],
   "source": [
    "single_pixels[:5]"
   ]
  },
  {
   "cell_type": "code",
   "execution_count": 24,
   "id": "fd0e01bc-a87b-4cb3-98bc-e3b61a3eabd6",
   "metadata": {},
   "outputs": [],
   "source": [
    "bin_size = 1"
   ]
  },
  {
   "cell_type": "code",
   "execution_count": 25,
   "id": "64d33404-ea2a-4a82-9562-3a0a12942680",
   "metadata": {},
   "outputs": [
    {
     "data": {
      "text/plain": [
       "[0, 1, 2, 3, 4]"
      ]
     },
     "execution_count": 25,
     "metadata": {},
     "output_type": "execute_result"
    }
   ],
   "source": [
    "idxs = [i for i in range(5)]\n",
    "idxs[:5]"
   ]
  },
  {
   "cell_type": "code",
   "execution_count": 26,
   "id": "40f5504d-11d7-4fe4-bc57-094c85755683",
   "metadata": {},
   "outputs": [
    {
     "data": {
      "application/vnd.jupyter.widget-view+json": {
       "model_id": "0fdca967fd7d49c78a6dc3d82f6ef2d0",
       "version_major": 2,
       "version_minor": 0
      },
      "text/plain": [
       "  0%|          | 0/5 [00:00<?, ?it/s]"
      ]
     },
     "metadata": {},
     "output_type": "display_data"
    },
    {
     "name": "stdout",
     "output_type": "stream",
     "text": [
      "add to test\n"
     ]
    }
   ],
   "source": [
    "train_data, test_data = get_trials(idxs, bin_size, single_pixels)"
   ]
  },
  {
   "cell_type": "code",
   "execution_count": 27,
   "id": "e493b521-5d8f-4d07-8c60-90f0c1beb096",
   "metadata": {},
   "outputs": [
    {
     "data": {
      "text/plain": [
       "4"
      ]
     },
     "execution_count": 27,
     "metadata": {},
     "output_type": "execute_result"
    }
   ],
   "source": [
    "len(train_data)"
   ]
  },
  {
   "cell_type": "code",
   "execution_count": 28,
   "id": "5a9289ad-25bc-43b1-932d-a581b0b24ff6",
   "metadata": {},
   "outputs": [
    {
     "data": {
      "text/plain": [
       "1"
      ]
     },
     "execution_count": 28,
     "metadata": {},
     "output_type": "execute_result"
    }
   ],
   "source": [
    "len(test_data)"
   ]
  },
  {
   "cell_type": "code",
   "execution_count": null,
   "id": "db48f825-caef-4640-bc02-128844afcc55",
   "metadata": {},
   "outputs": [],
   "source": []
  },
  {
   "cell_type": "code",
   "execution_count": null,
   "id": "8dd3e7f7-1198-4981-8c68-1eecb07bfa2f",
   "metadata": {},
   "outputs": [],
   "source": []
  },
  {
   "cell_type": "markdown",
   "id": "8957817c-9a3b-46ef-9e23-540cfa02116e",
   "metadata": {},
   "source": [
    "# Save or load the train and test data"
   ]
  },
  {
   "cell_type": "code",
   "execution_count": null,
   "id": "31e197bd-9f69-412e-9024-234830f7844a",
   "metadata": {},
   "outputs": [],
   "source": [
    "# save as a pickle file \n",
    "import pickle"
   ]
  },
  {
   "cell_type": "code",
   "execution_count": null,
   "id": "01952f08-7ae5-4cf6-ad4a-95654368c77c",
   "metadata": {},
   "outputs": [],
   "source": [
    "filename = f\"/home/clewis/repos/realSpike/data/rb67_20250929/{bin_size}ms_train_data.pkl\"\n",
    "with open(filename, \"wb\") as file:\n",
    "    pickle.dump(train_data, file)"
   ]
  },
  {
   "cell_type": "code",
   "execution_count": null,
   "id": "3ab1decb-c8f0-4de4-8e39-de7541c7945c",
   "metadata": {},
   "outputs": [],
   "source": [
    "with open(filename, \"rb\") as file:\n",
    "    train_data = pickle.load(file)"
   ]
  },
  {
   "cell_type": "code",
   "execution_count": null,
   "id": "f9736f0e-4928-4785-b7bd-0ac4c8b1220e",
   "metadata": {},
   "outputs": [],
   "source": []
  },
  {
   "cell_type": "code",
   "execution_count": null,
   "id": "6830cab9-e49b-4755-8882-530c5c85ba49",
   "metadata": {},
   "outputs": [],
   "source": [
    "filename = f\"/home/clewis/repos/realSpike/data/rb67_20250929/{bin_size}ms_test_data.pkl\"\n",
    "with open(filename, \"wb\") as file:\n",
    "    pickle.dump(test_data, file)"
   ]
  },
  {
   "cell_type": "code",
   "execution_count": null,
   "id": "f192d426-564a-4ee6-bef5-c83ef2aae277",
   "metadata": {},
   "outputs": [],
   "source": [
    "with open(filename, \"rb\") as file:\n",
    "    test_data = pickle.load(file)"
   ]
  },
  {
   "cell_type": "code",
   "execution_count": null,
   "id": "4bd8beff-9e36-439a-b681-c8ad6ee323c8",
   "metadata": {},
   "outputs": [],
   "source": []
  },
  {
   "cell_type": "code",
   "execution_count": null,
   "id": "15060f2a-de4a-4718-81bf-b6fc3367ed91",
   "metadata": {},
   "outputs": [],
   "source": []
  },
  {
   "cell_type": "code",
   "execution_count": 65,
   "id": "45bc3934-79bb-4a63-b61a-57e691c16201",
   "metadata": {},
   "outputs": [
    {
     "data": {
      "text/plain": [
       "array([[1, 0, 0, ..., 0, 0, 0],\n",
       "       [0, 1, 0, ..., 0, 0, 0],\n",
       "       [0, 1, 0, ..., 0, 0, 0],\n",
       "       ...,\n",
       "       [0, 0, 0, ..., 0, 0, 0],\n",
       "       [0, 0, 0, ..., 0, 0, 0],\n",
       "       [0, 0, 0, ..., 0, 0, 1]], shape=(105, 150))"
      ]
     },
     "execution_count": 65,
     "metadata": {},
     "output_type": "execute_result"
    }
   ],
   "source": [
    "model_data[1]"
   ]
  },
  {
   "cell_type": "code",
   "execution_count": 66,
   "id": "95e87673-f808-4ba1-ab45-b12db25c3d55",
   "metadata": {},
   "outputs": [
    {
     "data": {
      "text/plain": [
       "<matplotlib.lines.Line2D at 0x7f0678502210>"
      ]
     },
     "execution_count": 66,
     "metadata": {},
     "output_type": "execute_result"
    },
    {
     "data": {
      "image/png": "[encoded data removed]",
      "text/plain": [
       "<Figure size 400x571.429 with 1 Axes>"
      ]
     },
     "metadata": {},
     "output_type": "display_data"
    }
   ],
   "source": [
    "plt.matshow(model_data[1].T)\n",
    "plt.axvline(50, linestyle=\"--\", c=\"red\")"
   ]
  },
  {
   "cell_type": "code",
   "execution_count": null,
   "id": "b8a79a54-22fa-407b-a77a-d20a386b58d2",
   "metadata": {},
   "outputs": [],
   "source": []
  },
  {
   "cell_type": "code",
   "execution_count": null,
   "id": "c0c95784-1174-484c-bea3-110c33187c03",
   "metadata": {},
   "outputs": [],
   "source": []
  },
  {
   "cell_type": "code",
   "execution_count": null,
   "id": "630a0692-cadd-4c46-b95d-295882303226",
   "metadata": {},
   "outputs": [],
   "source": []
  }
 ],
 "metadata": {
  "kernelspec": {
   "display_name": "Python 3 (ipykernel)",
   "language": "python",
   "name": "python3"
  },
  "language_info": {
   "codemirror_mode": {
    "name": "ipython",
    "version": 3
   },
   "file_extension": ".py",
   "mimetype": "text/x-python",
   "name": "python",
   "nbconvert_exporter": "python",
   "pygments_lexer": "ipython3",
   "version": "3.11.12"
  }
 },
 "nbformat": 4,
 "nbformat_minor": 5
}
