{
 "cells": [
  {
   "cell_type": "markdown",
   "id": "7c467340-0673-4b55-8a55-f5e6660fb8c7",
   "metadata": {},
   "source": [
    "# Notebook for running Poisson SLDS with inputs\n",
    "## One-hot encoding for each pattern\n",
    "## Stim ONLY trials, no behavior"
   ]
  },
  {
   "cell_type": "code",
   "execution_count": null,
   "id": "d848cd42-0439-41db-bc9c-3f7b0d8d48c5",
   "metadata": {},
   "outputs": [],
   "source": [
    "from scipy.linalg import block_diag\n",
    "import autograd.numpy as np\n",
    "import matplotlib.pyplot as plt\n",
    "import ssm\n",
    "\n",
    "from pathlib import Path\n",
    "from scipy.io import loadmat\n",
    "import numpy as np\n",
    "import matplotlib.pyplot as plt\n",
    "from tqdm import tqdm\n",
    "from real_spike.utils import get_spike_events, kalman_filter, bin_spikes, butter_filter, plot_dynamics_2d, plot_dynamics_3d\n",
    "from matplotlib import colormaps\n",
    "import pandas as pd\n",
    "\n",
    "from scipy.ndimage import gaussian_filter1d\n",
    "from mpl_toolkits.mplot3d import Axes3D \n",
    "\n",
    "import random\n",
    "\n",
    "%matplotlib inline"
   ]
  },
  {
   "cell_type": "markdown",
   "id": "249476e0-297b-4f40-90f2-ce03f2a0523b",
   "metadata": {},
   "source": [
    "# Get data"
   ]
  },
  {
   "cell_type": "code",
   "execution_count": null,
   "id": "66cf5ce1-0a92-4629-a94b-cca790799613",
   "metadata": {},
   "outputs": [],
   "source": [
    "mat = loadmat(\"/home/clewis/wasabi/reaganbullins2/ProjectionProject/rb50/20250127/MAT_FILES/rb50_20250127_datastruct_pt2.mat\")\n",
    "mat = mat['data']\n",
    "\n",
    "print(mat.dtype.names)"
   ]
  },
  {
   "cell_type": "code",
   "execution_count": null,
   "id": "4bae571b-4b9d-49ab-a2c5-2e0f412414bd",
   "metadata": {},
   "outputs": [],
   "source": [
    "data_struct = mat[0, 0]  # MATLAB structs are 2D arrays even if 1x1\n",
    "data = {field: data_struct[field] for field in mat.dtype.names}"
   ]
  },
  {
   "cell_type": "code",
   "execution_count": null,
   "id": "27486363-9ba9-4f22-9184-aa18a5e3348d",
   "metadata": {},
   "outputs": [],
   "source": [
    "data.keys()"
   ]
  },
  {
   "cell_type": "code",
   "execution_count": null,
   "id": "79220bc1-ec71-4f19-94a8-49dd2e9e6b93",
   "metadata": {},
   "outputs": [],
   "source": []
  },
  {
   "cell_type": "markdown",
   "id": "b5e0dd20-4a87-4c0c-bcc4-1219f615e0ed",
   "metadata": {},
   "source": [
    "# Get stim only trials"
   ]
  },
  {
   "cell_type": "code",
   "execution_count": null,
   "id": "77aa1c5f-44f1-4662-8ff5-f2efc7ac4a1c",
   "metadata": {},
   "outputs": [],
   "source": [
    "stim_idxs = np.where(data[\"pattern_id\"] > 2)[0]\n",
    "\n",
    "# control_idxs = np.intersect1d(control_idxs, stim_idxs)\n",
    "# con\n",
    "stim_idxs = stim_idxs[stim_idxs > 150]\n",
    "stim_idxs"
   ]
  },
  {
   "cell_type": "code",
   "execution_count": null,
   "id": "8253e588-4fde-4a3e-aacf-0dafaf725aca",
   "metadata": {},
   "outputs": [],
   "source": [
    "np.unique(data[\"pattern_id\"][stim_idxs])"
   ]
  },
  {
   "cell_type": "code",
   "execution_count": null,
   "id": "c8c5388d-2246-4ea2-ae44-ba6a8b6a6783",
   "metadata": {},
   "outputs": [],
   "source": [
    "stim_idxs.shape"
   ]
  },
  {
   "cell_type": "markdown",
   "id": "e195290a-bfe0-4563-9afc-4308dc88571c",
   "metadata": {},
   "source": [
    "## Get relevant time information"
   ]
  },
  {
   "cell_type": "code",
   "execution_count": null,
   "id": "e2092aee-d31e-4df7-8b06-50ec46603f25",
   "metadata": {},
   "outputs": [],
   "source": [
    "laser_times = data[\"laser_rec_time\"]\n",
    "laser_times.shape"
   ]
  },
  {
   "cell_type": "code",
   "execution_count": null,
   "id": "e66b7063-fa4e-4465-800a-391123e8d698",
   "metadata": {},
   "outputs": [],
   "source": []
  },
  {
   "cell_type": "code",
   "execution_count": null,
   "id": "9aa81592-5ac8-4665-af44-20eb400f35d7",
   "metadata": {},
   "outputs": [],
   "source": []
  },
  {
   "cell_type": "markdown",
   "id": "cc2d5b2c-e65c-44d5-bd73-8a3f6bb65199",
   "metadata": {},
   "source": [
    "## Get the AP.bin file"
   ]
  },
  {
   "cell_type": "code",
   "execution_count": null,
   "id": "d2e83b91-058f-4ad6-a48c-8d2273b4d30b",
   "metadata": {},
   "outputs": [],
   "source": [
    "from real_spike.utils import get_sample_data, get_meta\n",
    "import tifffile"
   ]
  },
  {
   "cell_type": "code",
   "execution_count": null,
   "id": "4e19b803-9f75-41bf-ac5d-823fec1c6438",
   "metadata": {},
   "outputs": [],
   "source": [
    "file_path = Path(\"/home/clewis/wasabi/reaganbullins2/ProjectionProject/rb50/20250127/rb50_20250127_g0/rb50_20250127_g0_t0.imec0.ap.bin\")\n",
    "meta_path = Path(\"/home/clewis/wasabi/reaganbullins2/ProjectionProject/rb50/20250127/rb50_20250127_g0/rb50_20250127_g0_t0.imec0.ap.meta\")"
   ]
  },
  {
   "cell_type": "code",
   "execution_count": null,
   "id": "adf4e486-f151-4ed4-971e-842d161e2d0e",
   "metadata": {},
   "outputs": [],
   "source": [
    "meta_data = get_meta(meta_path)"
   ]
  },
  {
   "cell_type": "code",
   "execution_count": null,
   "id": "5cac33c8-c453-4e52-b9f1-98cac8be1f6b",
   "metadata": {},
   "outputs": [],
   "source": [
    "ap_data = get_sample_data(file_path, meta_data)\n",
    "ap_data.shape"
   ]
  },
  {
   "cell_type": "code",
   "execution_count": null,
   "id": "50c884cb-6648-4791-a37a-c228245fcc65",
   "metadata": {},
   "outputs": [],
   "source": []
  },
  {
   "cell_type": "code",
   "execution_count": null,
   "id": "92b70b9c-1e96-47ed-a0c4-6f2b847f9172",
   "metadata": {},
   "outputs": [],
   "source": []
  },
  {
   "cell_type": "markdown",
   "id": "915d3d12-c2da-4c35-af12-55038d77fda5",
   "metadata": {},
   "source": [
    "## Get conversion params"
   ]
  },
  {
   "cell_type": "code",
   "execution_count": null,
   "id": "3af05cc5-d816-4b61-887e-1ab76cd7be22",
   "metadata": {},
   "outputs": [],
   "source": [
    "vmax = float(meta_data[\"imAiRangeMax\"])\n",
    "# get Imax\n",
    "imax = float(meta_data[\"imMaxInt\"])\n",
    "# get gain\n",
    "gain = float(meta_data['imroTbl'].split(sep=')')[1].split(sep=' ')[3])"
   ]
  },
  {
   "cell_type": "code",
   "execution_count": null,
   "id": "d032539b-b00a-40f9-9274-a17105a423e2",
   "metadata": {},
   "outputs": [],
   "source": [
    "vmax"
   ]
  },
  {
   "cell_type": "code",
   "execution_count": null,
   "id": "397457a4-7625-4dfc-853d-22d1e47ac98b",
   "metadata": {},
   "outputs": [],
   "source": [
    "imax"
   ]
  },
  {
   "cell_type": "code",
   "execution_count": null,
   "id": "011421f8-b15b-4328-8ae3-ae71f320c1c1",
   "metadata": {},
   "outputs": [],
   "source": [
    "gain"
   ]
  },
  {
   "cell_type": "code",
   "execution_count": null,
   "id": "7962f60f-44e6-4947-8b54-681bae558d65",
   "metadata": {},
   "outputs": [],
   "source": []
  },
  {
   "cell_type": "code",
   "execution_count": null,
   "id": "c5a42a72-3d47-439c-a8e9-7be34d8b2c89",
   "metadata": {},
   "outputs": [],
   "source": []
  },
  {
   "cell_type": "markdown",
   "id": "b45bd9b4-9c6c-4d72-8b21-f83c8f147267",
   "metadata": {},
   "source": [
    "# Get trials"
   ]
  },
  {
   "cell_type": "code",
   "execution_count": null,
   "id": "5e736d74-449f-46a7-9dc7-14937fb45b2e",
   "metadata": {},
   "outputs": [],
   "source": [
    "def get_trials(idxs, bin_size):\n",
    "    \n",
    "    model_data = list()\n",
    "    \n",
    "    for i in tqdm(idxs):\n",
    "        trial_no = i\n",
    "        # get time points in ap space\n",
    "        start_time = int((laser_times[:, trial_no] - 50) / 1_000 * 30_000)\n",
    "        \n",
    "        # get end of behavior = mouth (260ms) + 300ms \n",
    "        end_time = int((laser_times[:, trial_no] + 50) / 1_000 * 30_000)\n",
    "\n",
    "    \n",
    "        trial = ap_data[:150, start_time:end_time]\n",
    "    \n",
    "        conv_data = 1e6 * trial / vmax / imax / gain\n",
    "    \n",
    "        filt_data = butter_filter(conv_data, 1_000, 30_000)\n",
    "    \n",
    "        c_start = int(laser_times[:, trial_no] / 1_000 * 30_000)\n",
    "        m_start = c_start - (30 * 2000)\n",
    "        trial_median = ap_data[:150, m_start:c_start]\n",
    "    \n",
    "        trial_median = 1e6 * trial_median / vmax / imax / gain\n",
    "        trial_median = butter_filter(trial_median, 1_000, 30_000)\n",
    "        \n",
    "        median = np.median(trial_median, axis=1)\n",
    "    \n",
    "        spike_ixs, counts = get_spike_events(filt_data, median)\n",
    "        \n",
    "        a = np.zeros((filt_data.shape[0], filt_data.shape[1]))\n",
    "    \n",
    "        for i, sc in enumerate(spike_ixs):\n",
    "            a[i, sc] = 1\n",
    "    \n",
    "        b = bin_size * 30 # 30ms per bin\n",
    "        binned_spikes = bin_spikes(a, b)\n",
    "\n",
    "        model_data.append(np.asarray(binned_spikes.T, dtype=int))\n",
    "\n",
    "    return model_data"
   ]
  },
  {
   "cell_type": "code",
   "execution_count": null,
   "id": "b399ef53-bd3c-4696-9754-0c93d178ce01",
   "metadata": {},
   "outputs": [],
   "source": [
    "bin_size = 1"
   ]
  },
  {
   "cell_type": "code",
   "execution_count": null,
   "id": "a6f7ac4f-accb-435f-a03b-8176abfd68d9",
   "metadata": {},
   "outputs": [],
   "source": [
    "#model_data = get_trials(stim_idxs, bin_size)"
   ]
  },
  {
   "cell_type": "code",
   "execution_count": null,
   "id": "3d5b8fcd-20e9-495e-b4d9-cd40f4a0330e",
   "metadata": {},
   "outputs": [],
   "source": []
  },
  {
   "cell_type": "code",
   "execution_count": null,
   "id": "f5c97fec-5efd-4400-aa2b-9f132826d483",
   "metadata": {},
   "outputs": [],
   "source": []
  },
  {
   "cell_type": "code",
   "execution_count": null,
   "id": "9936f5f4-dfaf-408e-adcc-a43d4e4fb689",
   "metadata": {},
   "outputs": [],
   "source": [
    "# save as a pickle file \n",
    "import pickle"
   ]
  },
  {
   "cell_type": "code",
   "execution_count": null,
   "id": "b4362453-3d41-44ff-95d3-dd42be64bf37",
   "metadata": {},
   "outputs": [],
   "source": [
    "filename = f\"/home/clewis/repos/realSpike/data/rb50_20250127/plds_stim/{bin_size}ms_data.pkl\"\n",
    "# with open(filename, \"wb\") as file:\n",
    "#     pickle.dump(model_data, file)"
   ]
  },
  {
   "cell_type": "code",
   "execution_count": null,
   "id": "1af38ab1-ccb3-49c3-a0ce-5ff25eca4f0a",
   "metadata": {},
   "outputs": [],
   "source": [
    "with open(filename, \"rb\") as file:\n",
    "    model_data = pickle.load(file)"
   ]
  },
  {
   "cell_type": "code",
   "execution_count": null,
   "id": "8ce1d606-23b8-46c9-9229-3ee5cfc57a5f",
   "metadata": {},
   "outputs": [],
   "source": []
  },
  {
   "cell_type": "markdown",
   "id": "3232292b-dd15-4b88-bd18-1ef208162087",
   "metadata": {},
   "source": [
    "# Design the input matrix"
   ]
  },
  {
   "cell_type": "code",
   "execution_count": null,
   "id": "1a9a26d5-64d5-45da-a0eb-c9e214518c5b",
   "metadata": {},
   "outputs": [],
   "source": [
    "# get the pattern types"
   ]
  },
  {
   "cell_type": "code",
   "execution_count": null,
   "id": "dce4f3c7-9480-4784-a985-700d605945c9",
   "metadata": {},
   "outputs": [],
   "source": [
    "p_ids = np.unique(data[\"pattern_id\"][stim_idxs])\n",
    "\n",
    "p_ids"
   ]
  },
  {
   "cell_type": "code",
   "execution_count": null,
   "id": "53f75280-3a13-41d3-993a-1407eacdcf53",
   "metadata": {},
   "outputs": [],
   "source": [
    "p_ids.shape"
   ]
  },
  {
   "cell_type": "code",
   "execution_count": null,
   "id": "a50d558d-d398-45f0-acfb-fa366c7d349d",
   "metadata": {},
   "outputs": [],
   "source": []
  },
  {
   "cell_type": "markdown",
   "id": "331e20a0-434e-4293-b3e6-1a63a2d34294",
   "metadata": {},
   "source": [
    "## Get colors for plotting"
   ]
  },
  {
   "cell_type": "code",
   "execution_count": null,
   "id": "ee0138c8-aef8-4487-9d7c-e09b99dc457e",
   "metadata": {},
   "outputs": [],
   "source": [
    "c = [\n",
    "    \"red\", \"blue\", \"green\", \"orange\", \"purple\", \"brown\", \"pink\", \"gray\", \"olive\",\n",
    "    \"cyan\", \"magenta\", \"gold\", \"teal\", \"navy\", \"maroon\", \"lime\", \"indigo\", \"coral\",\n",
    "    \"turquoise\", \"salmon\", \"orchid\", \"chocolate\", \"crimson\", \"darkgreen\",\n",
    "    \"mediumblue\", \"slategray\", \"deeppink\"\n",
    "]"
   ]
  },
  {
   "cell_type": "markdown",
   "id": "e4b1bc08-8565-4b4b-a33c-4303e9b76e0d",
   "metadata": {},
   "source": [
    "## Create encodings "
   ]
  },
  {
   "cell_type": "code",
   "execution_count": null,
   "id": "f38e21f7-bd3b-41b5-9e9f-b8b820eb9d5f",
   "metadata": {},
   "outputs": [],
   "source": [
    "encodings = np.eye(p_ids.shape[0])\n",
    "encodings.shape"
   ]
  },
  {
   "cell_type": "code",
   "execution_count": null,
   "id": "cf7436cb-3a35-4084-b4a9-eff6a5d2b92d",
   "metadata": {},
   "outputs": [],
   "source": []
  },
  {
   "cell_type": "code",
   "execution_count": null,
   "id": "4440696c-e56b-4a9c-b178-b2eb274f7647",
   "metadata": {},
   "outputs": [],
   "source": [
    "inputs = list()\n",
    "colors = list()\n",
    "for i, d in zip(stim_idxs, model_data):\n",
    "    # get the pattern id \n",
    "    p_id = int(data[\"pattern_id\"][i][0]) - 3\n",
    "\n",
    "    colors.append(c[p_id])\n",
    "\n",
    "    encoding = encodings[p_id] \n",
    "\n",
    "    # stack the encoding for every timepoint (each bin)\n",
    "    nput = np.vstack([encoding] * d.shape[0])\n",
    "\n",
    "    inputs.append(nput)"
   ]
  },
  {
   "cell_type": "code",
   "execution_count": null,
   "id": "3903166b-bb2c-4891-832e-a64e7765361e",
   "metadata": {},
   "outputs": [],
   "source": []
  },
  {
   "cell_type": "markdown",
   "id": "e9971560-d8f3-4644-b8d5-921ce7ef0ff8",
   "metadata": {},
   "source": [
    "# Fit the model"
   ]
  },
  {
   "cell_type": "code",
   "execution_count": null,
   "id": "0c7c76a5-2079-4ec6-9846-e5deca0ca81a",
   "metadata": {},
   "outputs": [],
   "source": [
    "state_dim = 3\n",
    "obs_dim = model_data[0].shape[1] \n",
    "\n",
    "plds = ssm.LDS(obs_dim, state_dim, M=27, K=2, emissions=\"poisson\", emission_kwargs=dict(link=\"softplus\"))\n",
    "\n",
    "elbos, q = plds.fit(model_data, inputs=inputs, method=\"laplace_em\", num_iters=8)"
   ]
  },
  {
   "cell_type": "code",
   "execution_count": null,
   "id": "a09a2df6-7f59-48c2-b7ce-6d9105825301",
   "metadata": {},
   "outputs": [],
   "source": []
  },
  {
   "cell_type": "markdown",
   "id": "88afb87b-a75f-4606-ab49-9a1480740b75",
   "metadata": {},
   "source": [
    "# Visualize the results"
   ]
  },
  {
   "cell_type": "code",
   "execution_count": null,
   "id": "0487250e-9a57-4de3-939c-39f1bf9e79a6",
   "metadata": {},
   "outputs": [],
   "source": [
    "# plot my elbos"
   ]
  },
  {
   "cell_type": "code",
   "execution_count": null,
   "id": "8125f19b-bc03-4685-a706-d6f910c0def0",
   "metadata": {},
   "outputs": [],
   "source": [
    "plt.figure(figsize=(8, 6))\n",
    "\n",
    "plt.plot(elbos)\n",
    "\n",
    "plt.xlabel(\"Iteration\")\n",
    "plt.ylabel(\"ELBO\")\n",
    "\n",
    "plt.title(\"ELBO Curve\")\n",
    "\n",
    "plt.show()"
   ]
  },
  {
   "cell_type": "code",
   "execution_count": null,
   "id": "8cf42352-afd3-4500-9a0c-b65ddfd76a64",
   "metadata": {},
   "outputs": [],
   "source": []
  },
  {
   "cell_type": "code",
   "execution_count": null,
   "id": "59ef3132-d102-4151-9490-698355ef41a0",
   "metadata": {},
   "outputs": [],
   "source": []
  },
  {
   "cell_type": "code",
   "execution_count": null,
   "id": "e13d8cb0-0093-4026-9aa5-4f14284e3269",
   "metadata": {},
   "outputs": [],
   "source": []
  },
  {
   "cell_type": "markdown",
   "id": "b8240620-38bc-4620-80fe-837f3497fddf",
   "metadata": {},
   "source": [
    "## Dynamics"
   ]
  },
  {
   "cell_type": "code",
   "execution_count": null,
   "id": "039db2d3-4f16-45c7-8f37-e2157dda2d63",
   "metadata": {},
   "outputs": [],
   "source": [
    "A_est = plds.dynamics.A\n",
    "b_est = plds.dynamics.b"
   ]
  },
  {
   "cell_type": "code",
   "execution_count": null,
   "id": "216f2051-e9d6-47e9-91ae-5a915ca76265",
   "metadata": {},
   "outputs": [],
   "source": [
    "fig = plt.figure(figsize=(16, 8))\n",
    "\n",
    "# 2D subplot\n",
    "ax1 = fig.add_subplot(1, 2, 1)\n",
    "plot_dynamics_2d(A_est[:2, :2], b_est[:2], ax1, npts=12)\n",
    "ax1.set_title('Dynamics 2D')\n",
    "ax1.set_xlabel(\"$x_1$\")\n",
    "ax1.set_ylabel(\"$x_2$\")\n",
    "\n",
    "ax1.set_xticks([])\n",
    "ax1.set_yticks([])\n",
    "\n",
    "# 3D subplot\n",
    "ax2 = fig.add_subplot(1, 2, 2, projection='3d')\n",
    "plot_dynamics_3d(A_est, b_est, ax2, npts=13, colors=\"blue\")\n",
    "\n",
    "ax2.set_title('Dynamics 3D')\n",
    "\n",
    "ax2.set_xticks([])\n",
    "ax2.set_yticks([])\n",
    "ax2.set_zticks([])\n",
    "\n",
    "ax2.set_xlabel(\"$x_1$\")\n",
    "ax2.set_ylabel(\"$x_2$\")\n",
    "ax2.set_zlabel(\"$x_3$\")\n",
    "\n",
    "plt.tight_layout()\n",
    "\n",
    "#plt.savefig(\"/home/clewis/repos/realSpike/data/rb50_20250127/plds/inputs_dynamics.png\")\n",
    "\n",
    "plt.savefig(f\"/home/clewis/repos/realSpike/data/rb50_20250127/plds_stim/dynamics_{bin_size}ms.png\")\n",
    "\n",
    "plt.show()"
   ]
  },
  {
   "cell_type": "code",
   "execution_count": null,
   "id": "e334f6b9-5a77-426c-891f-a728e774049b",
   "metadata": {},
   "outputs": [],
   "source": []
  },
  {
   "cell_type": "markdown",
   "id": "d45830fc-8e13-438c-b188-37fbdff18d92",
   "metadata": {},
   "source": [
    "## Posterior Means 2D"
   ]
  },
  {
   "cell_type": "code",
   "execution_count": null,
   "id": "55512cf5-9bf2-4705-914a-bddb498a1ac7",
   "metadata": {},
   "outputs": [],
   "source": [
    "from matplotlib.patches import Patch"
   ]
  },
  {
   "cell_type": "code",
   "execution_count": null,
   "id": "7bdfa0d6-c7be-47e0-b72d-cf3cb32f640a",
   "metadata": {},
   "outputs": [],
   "source": [
    "state_means = q.mean_continuous_states"
   ]
  },
  {
   "cell_type": "code",
   "execution_count": null,
   "id": "b06d98a6-fcfc-4e60-9028-fe863a92478e",
   "metadata": {},
   "outputs": [],
   "source": [
    "custom_patches = [Patch(facecolor=c[i-3], edgecolor='black', label=f'Pattern {i}') for i in p_ids]"
   ]
  },
  {
   "cell_type": "code",
   "execution_count": null,
   "id": "4c5fe49f-203b-45c6-9808-2626a6ee29b1",
   "metadata": {},
   "outputs": [],
   "source": []
  },
  {
   "cell_type": "code",
   "execution_count": null,
   "id": "46a7cb5a-d5db-4e31-a66a-9f918b0fcab0",
   "metadata": {},
   "outputs": [],
   "source": [
    "fig, axes = plt.subplots(1, 3, figsize=(21, 10))\n",
    "\n",
    "# Flatten axes array for easy iteration\n",
    "axes = axes.flatten()\n",
    "\n",
    "for i, p in enumerate(state_means):\n",
    "\n",
    "    p = gaussian_filter1d(p, 4, axis=0)\n",
    "\n",
    "    axes[0].plot(p[:, 0], p[:, 1], c=colors[i], zorder=0, alpha=0.8)\n",
    "\n",
    "  #  axes[0].scatter(p[0, 0], p[0, 1], s=35, c=\"black\", zorder=1, alpha=1)\n",
    "    axes[0].scatter(p[0, 0], p[0, 1], s=35, marker='o', c=\"black\", zorder=1, alpha=1)\n",
    "    axes[0].scatter(p[-1, 0], p[-1, 1], s=100, marker='*', c=\"black\", zorder=1, alpha=1)\n",
    "\n",
    "    axes[1].plot(p[:, 0], p[:, 2], c=colors[i], zorder=0, alpha=0.8)\n",
    "\n",
    "    axes[1].scatter(p[0, 0], p[0, 2], s=35, c=\"black\", zorder=1, alpha=1)\n",
    "\n",
    "    axes[1].scatter(p[-1, 0], p[-1, 2], s=100, marker='*', c=\"black\", zorder=1, alpha=1)\n",
    "\n",
    "    axes[2].plot(p[:, 1], p[:, 2], c=colors[i], zorder=0, alpha=0.8)\n",
    "\n",
    "    axes[2].scatter(p[0, 1], p[0, 2], s=35, c=\"black\", zorder=1, alpha=1)\n",
    "    axes[2].scatter(p[-1, 1], p[-1, 2], s=100, marker='*', c=\"black\", zorder=1, alpha=1)\n",
    "\n",
    "\n",
    "\n",
    "\n",
    "for ax in axes:\n",
    "    ax.set_xticks([])\n",
    "    ax.set_yticks([])\n",
    "    ax.set_title(f\"Posterior State Means ({bin_size}ms)\")\n",
    "    ax.legend(handles=custom_patches)\n",
    "\n",
    "\n",
    "# 0, 0 = x1 vs x2\n",
    "axes[0].set_xlabel(\"$x_1$\")\n",
    "axes[0].set_ylabel(\"$x_2$\")\n",
    "\n",
    "\n",
    "# 0, 1 = x1 vs x3\n",
    "axes[1].set_xlabel(\"$x_1$\")\n",
    "axes[1].set_ylabel(\"$x_3$\")\n",
    "\n",
    "# 0, 2 = x2 vs x3\n",
    "axes[2].set_xlabel(\"$x_2$\")\n",
    "axes[2].set_ylabel(\"$x_3$\")\n",
    "\n",
    "plt.tight_layout()\n",
    "\n",
    "\n",
    "#plt.savefig(f\"/home/clewis/repos/realSpike/data/rb50_20250127/plds_stim/state_means_{bin_size}ms_2D.png\")"
   ]
  },
  {
   "cell_type": "code",
   "execution_count": null,
   "id": "b55d1f61-fa63-4c57-8eb3-1d966d759c0a",
   "metadata": {},
   "outputs": [],
   "source": []
  },
  {
   "cell_type": "code",
   "execution_count": null,
   "id": "5cd45975-03bb-4783-8b70-ca34de156a5d",
   "metadata": {},
   "outputs": [],
   "source": []
  },
  {
   "cell_type": "code",
   "execution_count": null,
   "id": "07828215-7bde-436d-90d2-de884c84c224",
   "metadata": {},
   "outputs": [],
   "source": []
  },
  {
   "cell_type": "code",
   "execution_count": null,
   "id": "5a808bd0-ea26-42e9-b048-d49cadfd5cde",
   "metadata": {},
   "outputs": [],
   "source": []
  },
  {
   "cell_type": "markdown",
   "id": "4656b39f-6165-407a-ab50-40fd30eb21e2",
   "metadata": {},
   "source": [
    "## Posterior Means 3D"
   ]
  },
  {
   "cell_type": "code",
   "execution_count": null,
   "id": "6cdb6948-6837-4e0f-9db3-ee97178d9913",
   "metadata": {},
   "outputs": [],
   "source": [
    "# a single 3d plot of all "
   ]
  },
  {
   "cell_type": "code",
   "execution_count": null,
   "id": "9fc94fbe-2344-4d8d-90c9-09f4e4c040db",
   "metadata": {},
   "outputs": [],
   "source": [
    "fig = plt.figure(figsize=(14, 14))\n",
    "ax = fig.add_subplot(111, projection='3d')\n",
    "\n",
    "for i, p in enumerate(state_means):\n",
    "\n",
    "    p = gaussian_filter1d(p, 4, axis=0)\n",
    "\n",
    "    ax.plot(p[:, 0], p[:, 1], p[:, 2], c=colors[i], zorder=0, alpha=0.8)\n",
    "\n",
    "    ax.scatter(p[0, 0], p[0, 1], p[0, 2], s=35, c=\"black\", zorder=1, alpha=1)\n",
    "    #ax.scatter(p[grab - lift + lift_start, 0], p[grab-lift +lift_start, 1], p[grab-lift +lift_start, 2], s=10, c=\"red\")\n",
    "    ax.scatter(p[-1, 0], p[-1, 1], p[-1, 2], s=100, marker='*', c=\"black\", zorder=1, alpha=1)\n",
    "\n",
    "ax.set_title(f\"Posterior State Means ({bin_size}ms)\")\n",
    "\n",
    "ax.legend(handles=custom_patches, loc='center left')\n",
    "\n",
    "\n",
    "ax.set_xticks([])\n",
    "ax.set_yticks([])\n",
    "ax.set_zticks([])\n",
    "\n",
    "ax.set_xlabel(\"$x_1$\")\n",
    "ax.set_ylabel(\"$x_2$\")\n",
    "ax.set_zlabel(\"$x_3$\")\n",
    "\n",
    "\n",
    "plt.tight_layout()\n",
    "\n",
    "#plt.savefig(f\"/home/clewis/repos/realSpike/data/rb50_20250127/plds_stim/state_means_{bin_size}ms_3D.png\")"
   ]
  },
  {
   "cell_type": "code",
   "execution_count": null,
   "id": "b3495a77-97fd-417e-843f-b0c5ba00a198",
   "metadata": {},
   "outputs": [],
   "source": []
  },
  {
   "cell_type": "code",
   "execution_count": null,
   "id": "9115aa34-d9b8-46b5-89ca-da51809a35e6",
   "metadata": {},
   "outputs": [],
   "source": []
  },
  {
   "cell_type": "markdown",
   "id": "ea1a3471-e9f8-4e81-ab50-dd81c98e78fe",
   "metadata": {},
   "source": [
    "# Plot individual patterns together in subplots"
   ]
  },
  {
   "cell_type": "code",
   "execution_count": null,
   "id": "399219fb-1156-44e7-8fb3-5ac9dee9b6b1",
   "metadata": {},
   "outputs": [],
   "source": [
    "p_ids"
   ]
  },
  {
   "cell_type": "code",
   "execution_count": null,
   "id": "3bd7de6b-f892-4f7f-a8b1-0e9f218b55cd",
   "metadata": {},
   "outputs": [],
   "source": [
    "stim_idxs"
   ]
  },
  {
   "cell_type": "code",
   "execution_count": null,
   "id": "d9d49663-3421-4715-b54c-612694580780",
   "metadata": {},
   "outputs": [],
   "source": []
  },
  {
   "cell_type": "code",
   "execution_count": null,
   "id": "846a71af-628d-402d-ae46-b8696a2f94f6",
   "metadata": {},
   "outputs": [],
   "source": [
    "# create a subplot for each pattern\n",
    "fig, axes = plt.subplots(3, 9, figsize=(21, 10))\n",
    "\n",
    "# Flatten axes array for easy iteration\n",
    "axes = axes.flatten()\n",
    "\n",
    "for i, j in enumerate(p_ids):\n",
    "    # get trials where this pattern happens \n",
    "    idxs = np.where(data[\"pattern_id\"][stim_idxs] == j)[0]\n",
    "\n",
    "    for z in idxs:\n",
    "        p = gaussian_filter1d(state_means[z], 4, axis=0)\n",
    "        t_end = 50 + 5 + 10 + 1\n",
    "        axes[i].plot(p[50:t_end, 0], p[50:t_end, 1], c=colors[i], zorder=0, alpha=0.8)\n",
    "        axes[i].scatter(p[50, 0], p[50, 1], s=15, c=\"black\", zorder=1, alpha=1)\n",
    "        axes[i].scatter(p[55, 0], p[55, 1], s=15, marker='s', c=\"black\", zorder=1, alpha=1)\n",
    "        axes[i].scatter(p[t_end-1, 0], p[t_end-1, 1], s=25, marker='*', c=\"black\", zorder=1, alpha=1)\n",
    "\n",
    "        axes[i].set_title(f\"Pattern {j}\")\n",
    "\n",
    "for ax in axes:\n",
    "    ax.set_xticks([])\n",
    "    ax.set_yticks([])\n",
    "    ax.set_xlabel(\"x1\")\n",
    "    ax.set_ylabel(\"x2\")\n",
    "\n",
    "\n",
    "#plt.savefig(f\"/home/clewis/repos/realSpike/data/rb50_20250127/plds_stim/state_means_patterns_{bin_size}ms_2D.png\")"
   ]
  },
  {
   "cell_type": "code",
   "execution_count": null,
   "id": "844deb92-eb19-4b4d-96e6-7985ac5c9c57",
   "metadata": {},
   "outputs": [],
   "source": []
  },
  {
   "cell_type": "code",
   "execution_count": null,
   "id": "a3161d6a-c82a-4540-b3e7-ea4678935f16",
   "metadata": {},
   "outputs": [],
   "source": []
  },
  {
   "cell_type": "code",
   "execution_count": null,
   "id": "3d5edf4c-4520-45dc-899b-560a00432698",
   "metadata": {},
   "outputs": [],
   "source": [
    "# create a subplot for each pattern\n",
    "fig, axes = plt.subplots(3, 9, figsize=(21, 10), subplot_kw={\"projection\": \"3d\"})\n",
    "\n",
    "# Flatten axes array for easy iteration\n",
    "axes = axes.flatten()\n",
    "\n",
    "for i, j in enumerate(p_ids):\n",
    "    # get trials where this pattern happens \n",
    "    idxs = np.where(data[\"pattern_id\"][stim_idxs] == j)[0]\n",
    "\n",
    "    for z in idxs:\n",
    "        t_end = 50 + 5 + 10 + 1\n",
    "        p = gaussian_filter1d(state_means[z], 4, axis=0)\n",
    "        axes[i].plot(p[50:t_end, 0], p[50:t_end, 1], p[50:t_end, 2], c=colors[i], zorder=0, alpha=0.8)\n",
    "        axes[i].scatter(p[50, 0], p[50, 1], p[50, 2], s=15, c=\"black\", zorder=1, alpha=1)\n",
    "        axes[i].scatter(p[55, 0], p[55, 1], p[55, 2], s=5, c=\"black\", marker=\"s\", zorder=1, alpha=1)\n",
    "        axes[i].scatter(p[t_end-1, 0], p[t_end-1, 1], p[t_end-1, 2], s=25, marker='*', c=\"black\", zorder=1, alpha=1)\n",
    "\n",
    "        axes[i].set_title(f\"Pattern {j}\")\n",
    "\n",
    "\n",
    "for ax in axes:\n",
    "    ax.set_xticks([])\n",
    "    ax.set_yticks([])\n",
    "    ax.set_zticks([])\n",
    "    ax.set_xlabel(\"x1\", labelpad=-15)\n",
    "    ax.set_ylabel(\"x2\", labelpad=-15)\n",
    "    ax.set_zlabel(\"x3\", labelpad=-15)\n",
    "\n",
    "\n",
    "plt.tight_layout()\n",
    "\n",
    "\n",
    "#plt.savefig(f\"/home/clewis/repos/realSpike/data/rb50_20250127/plds_stim/state_means_patterns_{bin_size}ms_3D.png\")"
   ]
  },
  {
   "cell_type": "code",
   "execution_count": null,
   "id": "4554ff5b-ab7e-4a46-82d0-03a9544d3fec",
   "metadata": {},
   "outputs": [],
   "source": []
  },
  {
   "cell_type": "code",
   "execution_count": null,
   "id": "5f96212e-a10f-4c95-98d3-e0393c87ee7d",
   "metadata": {},
   "outputs": [],
   "source": []
  },
  {
   "cell_type": "code",
   "execution_count": null,
   "id": "6fabb5c4-a8a2-4f93-80b1-d89f9ca0f054",
   "metadata": {},
   "outputs": [],
   "source": []
  },
  {
   "cell_type": "markdown",
   "id": "68022e8d-2722-49ef-9e7e-bf37345a7d7c",
   "metadata": {},
   "source": [
    "# Plot from stim to 10ms after stim"
   ]
  },
  {
   "cell_type": "code",
   "execution_count": null,
   "id": "da2a0915-c404-45fe-9be1-abdc65359f6d",
   "metadata": {},
   "outputs": [],
   "source": [
    "fig, axes = plt.subplots(1, 3, figsize=(21, 10))\n",
    "\n",
    "# Flatten axes array for easy iteration\n",
    "axes = axes.flatten()\n",
    "\n",
    "for i, j in enumerate(p_ids):\n",
    "    # get trials where this pattern happens \n",
    "    idxs = np.where(data[\"pattern_id\"][stim_idxs] == j)[0]\n",
    "\n",
    "    d = [state_means[z] for z in idxs]\n",
    "\n",
    "    d = np.array(d).mean(axis=0)\n",
    "\n",
    "    p = gaussian_filter1d(d, 4, axis=0)\n",
    "\n",
    "    t_end = 55 + 10 + 1\n",
    "\n",
    "    axes[0].plot(p[50:t_end, 0], p[50:t_end, 1], c=colors[i], zorder=0, alpha=0.8)\n",
    "    axes[0].scatter(p[50, 0], p[50, 1], s=35, marker='o', c=\"black\", zorder=1, alpha=1)\n",
    "    axes[0].scatter(p[55, 0], p[55, 1], s=35, marker='s', c=\"black\", zorder=1, alpha=1)\n",
    "    axes[0].scatter(p[t_end-1, 0], p[t_end-1, 1], s=55, marker='*', c=\"black\", zorder=1, alpha=1)\n",
    "\n",
    "    axes[1].plot(p[50:t_end, 0], p[50:t_end, 2], c=colors[i], zorder=0, alpha=0.8)\n",
    "    axes[1].scatter(p[50, 0], p[50, 2], s=35, marker='o', c=\"black\", zorder=1, alpha=1)\n",
    "    axes[1].scatter(p[55, 0], p[55, 2], s=35, marker='s', c=\"black\", zorder=1, alpha=1)\n",
    "    axes[1].scatter(p[t_end-1, 0], p[t_end-1, 2], s=55, marker='*', c=\"black\", zorder=1, alpha=1)\n",
    "\n",
    "    axes[2].plot(p[50:t_end, 1], p[50:t_end, 2], c=colors[i], zorder=0, alpha=0.8)\n",
    "    axes[2].scatter(p[50, 1], p[50, 2], s=35, marker='o', c=\"black\", zorder=1, alpha=1)\n",
    "    axes[2].scatter(p[55, 1], p[55, 2], s=35, marker='s', c=\"black\", zorder=1, alpha=1)\n",
    "    axes[2].scatter(p[t_end-1, 1], p[t_end-1, 2], s=55, marker='*', c=\"black\", zorder=1, alpha=1)\n",
    "\n",
    "\n",
    "\n",
    "for ax in axes:\n",
    "    ax.set_xticks([])\n",
    "    ax.set_yticks([])\n",
    "    ax.set_title(f\"Posterior State Means ({bin_size}ms)\")\n",
    "    ax.legend(handles=custom_patches)\n",
    "\n",
    "\n",
    "# 0, 0 = x1 vs x2\n",
    "axes[0].set_xlabel(\"$x_1$\")\n",
    "axes[0].set_ylabel(\"$x_2$\")\n",
    "\n",
    "\n",
    "# 0, 1 = x1 vs x3\n",
    "axes[1].set_xlabel(\"$x_1$\")\n",
    "axes[1].set_ylabel(\"$x_3$\")\n",
    "\n",
    "# 0, 2 = x2 vs x3\n",
    "axes[2].set_xlabel(\"$x_2$\")\n",
    "axes[2].set_ylabel(\"$x_3$\")\n",
    "\n",
    "plt.tight_layout()"
   ]
  },
  {
   "cell_type": "code",
   "execution_count": null,
   "id": "87ec3d19-e9cd-4750-bab0-1ae79841073f",
   "metadata": {},
   "outputs": [],
   "source": []
  },
  {
   "cell_type": "code",
   "execution_count": null,
   "id": "d99f40cd-a9b2-473e-a4bc-891378021f03",
   "metadata": {},
   "outputs": [],
   "source": [
    "fig = plt.figure(figsize=(14, 14))\n",
    "ax = fig.add_subplot(111, projection='3d')\n",
    "\n",
    "for i, j in enumerate(p_ids):\n",
    "    # get trials where this pattern happens \n",
    "    idxs = np.where(data[\"pattern_id\"][stim_idxs] == j)[0]\n",
    "\n",
    "    d = [state_means[z] for z in idxs]\n",
    "\n",
    "    d = np.array(d).mean(axis=0)\n",
    "\n",
    "    p = gaussian_filter1d(d, 4, axis=0)\n",
    "\n",
    "    t_end = 55 + 10 + 1\n",
    "\n",
    "    ax.plot(p[50:t_end, 0], p[50:t_end, 1], p[50:t_end, 2], c=colors[i], zorder=0, alpha=0.8)\n",
    "\n",
    "    ax.scatter(p[50, 0], p[50, 1], p[50, 2], s=35, c=\"black\", zorder=1, alpha=1)\n",
    "    ax.scatter(p[55, 0], p[55, 1], p[55, 2], marker=\"s\", s=35, c=\"black\", zorder=1, alpha=1)\n",
    "    ax.scatter(p[t_end-1, 0], p[t_end-1, 1], p[t_end-1, 2], marker=\"*\", s=55, c=\"black\", zorder=1, alpha=1)\n",
    "\n",
    "ax.set_title(f\"Posterior State Means Pattern Averaged ({bin_size}ms)\")\n",
    "\n",
    "ax.legend(handles=custom_patches, loc='center left')\n",
    "\n",
    "\n",
    "ax.set_xticks([])\n",
    "ax.set_yticks([])\n",
    "ax.set_zticks([])\n",
    "\n",
    "ax.set_xlabel(\"$x_1$\")\n",
    "ax.set_ylabel(\"$x_2$\")\n",
    "ax.set_zlabel(\"$x_3$\")\n",
    "\n",
    "\n",
    "plt.tight_layout()"
   ]
  },
  {
   "cell_type": "code",
   "execution_count": null,
   "id": "97a04d2d-97cb-4a4c-842d-b32a025d6121",
   "metadata": {},
   "outputs": [],
   "source": []
  },
  {
   "cell_type": "code",
   "execution_count": null,
   "id": "eada8c38-81f4-457b-937a-26d32c21e740",
   "metadata": {},
   "outputs": [],
   "source": []
  },
  {
   "cell_type": "code",
   "execution_count": null,
   "id": "a7a17505-f0fa-44c2-b229-72919a5ded80",
   "metadata": {},
   "outputs": [],
   "source": []
  },
  {
   "cell_type": "markdown",
   "id": "7de6cb45-6ae6-4fc8-9c9a-44ea2840397c",
   "metadata": {},
   "source": [
    "# Pattern average"
   ]
  },
  {
   "cell_type": "code",
   "execution_count": null,
   "id": "48a70e62-fdd6-4fd7-b20b-52e48275ad11",
   "metadata": {},
   "outputs": [],
   "source": [
    "fig, axes = plt.subplots(1, 3, figsize=(21, 10))\n",
    "\n",
    "# Flatten axes array for easy iteration\n",
    "axes = axes.flatten()\n",
    "\n",
    "for i, j in enumerate(p_ids):\n",
    "    # get trials where this pattern happens \n",
    "    idxs = np.where(data[\"pattern_id\"][stim_idxs] == j)[0]\n",
    "\n",
    "    d = [state_means[z] for z in idxs]\n",
    "\n",
    "    d = np.array(d).mean(axis=0)\n",
    "\n",
    "    p = gaussian_filter1d(d, 3, axis=0)\n",
    "\n",
    "    axes[0].plot(p[:, 0], p[:, 1], c=colors[i], zorder=0, alpha=0.8)\n",
    "\n",
    "  #  axes[0].scatter(p[0, 0], p[0, 1], s=35, c=\"black\", zorder=1, alpha=1)\n",
    "    axes[0].scatter(p[0, 0], p[0, 1], s=35, marker='o', c=\"black\", zorder=1, alpha=1)\n",
    "    axes[0].scatter(p[-1, 0], p[-1, 1], s=100, marker='*', c=\"black\", zorder=1, alpha=1)\n",
    "\n",
    "    axes[1].plot(p[:, 0], p[:, 2], c=colors[i], zorder=0, alpha=0.8)\n",
    "\n",
    "    axes[1].scatter(p[0, 0], p[0, 2], s=35, c=\"black\", zorder=1, alpha=1)\n",
    "\n",
    "    axes[1].scatter(p[-1, 0], p[-1, 2], s=100, marker='*', c=\"black\", zorder=1, alpha=1)\n",
    "\n",
    "    axes[2].plot(p[:, 1], p[:, 2], c=colors[i], zorder=0, alpha=0.8)\n",
    "\n",
    "    axes[2].scatter(p[0, 1], p[0, 2], s=35, c=\"black\", zorder=1, alpha=1)\n",
    "    axes[2].scatter(p[-1, 1], p[-1, 2], s=100, marker='*', c=\"black\", zorder=1, alpha=1)\n",
    "\n",
    "\n",
    "\n",
    "\n",
    "for ax in axes:\n",
    "    ax.set_xticks([])\n",
    "    ax.set_yticks([])\n",
    "    ax.set_title(f\"Posterior State Means ({bin_size}ms)\")\n",
    "    ax.legend(handles=custom_patches)\n",
    "\n",
    "\n",
    "# 0, 0 = x1 vs x2\n",
    "axes[0].set_xlabel(\"$x_1$\")\n",
    "axes[0].set_ylabel(\"$x_2$\")\n",
    "\n",
    "\n",
    "# 0, 1 = x1 vs x3\n",
    "axes[1].set_xlabel(\"$x_1$\")\n",
    "axes[1].set_ylabel(\"$x_3$\")\n",
    "\n",
    "# 0, 2 = x2 vs x3\n",
    "axes[2].set_xlabel(\"$x_2$\")\n",
    "axes[2].set_ylabel(\"$x_3$\")\n",
    "\n",
    "plt.tight_layout()\n",
    "\n",
    "#plt.savefig(f\"/home/clewis/repos/realSpike/data/rb50_20250127/plds_stim/state_means_pattern_avg_{bin_size}ms_2D.png\")"
   ]
  },
  {
   "cell_type": "code",
   "execution_count": null,
   "id": "e72b1215-04be-4451-a3aa-7dd0e86b7f65",
   "metadata": {},
   "outputs": [],
   "source": []
  },
  {
   "cell_type": "code",
   "execution_count": null,
   "id": "8e954a63-1b9c-4cb0-9b0b-a378997f6463",
   "metadata": {},
   "outputs": [],
   "source": []
  },
  {
   "cell_type": "code",
   "execution_count": null,
   "id": "7f8ecca1-3eeb-407f-bf71-9f9247966c1f",
   "metadata": {},
   "outputs": [],
   "source": []
  },
  {
   "cell_type": "code",
   "execution_count": null,
   "id": "f4f152ca-4bb0-4d18-9509-5f13c15ab648",
   "metadata": {},
   "outputs": [],
   "source": [
    "fig = plt.figure(figsize=(14, 14))\n",
    "ax = fig.add_subplot(111, projection='3d')\n",
    "\n",
    "for i, j in enumerate(p_ids):\n",
    "    # get trials where this pattern happens \n",
    "    idxs = np.where(data[\"pattern_id\"][stim_idxs] == j)[0]\n",
    "\n",
    "    d = [state_means[z] for z in idxs]\n",
    "\n",
    "    d = np.array(d).mean(axis=0)\n",
    "\n",
    "    p = gaussian_filter1d(d, 3, axis=0)\n",
    "\n",
    "    ax.plot(p[:, 0], p[:, 1], p[:, 2], c=colors[i], zorder=0, alpha=0.8)\n",
    "\n",
    "    ax.scatter(p[0, 0], p[0, 1], p[0, 2], s=35, c=\"black\", zorder=1, alpha=1)\n",
    "    # #ax.scatter(p[grab - lift + lift_start, 0], p[grab-lift +lift_start, 1], p[grab-lift +lift_start, 2], s=10, c=\"red\")\n",
    "    ax.scatter(p[-1, 0], p[-1, 1], p[-1, 2], s=100, marker='*', c=\"black\", zorder=1, alpha=1)\n",
    "\n",
    "ax.set_title(f\"Posterior State Means Pattern Averaged ({bin_size}ms)\")\n",
    "\n",
    "ax.legend(handles=custom_patches, loc='center left')\n",
    "\n",
    "\n",
    "ax.set_xticks([])\n",
    "ax.set_yticks([])\n",
    "ax.set_zticks([])\n",
    "\n",
    "ax.set_xlabel(\"$x_1$\")\n",
    "ax.set_ylabel(\"$x_2$\")\n",
    "ax.set_zlabel(\"$x_3$\")\n",
    "\n",
    "\n",
    "plt.tight_layout()\n",
    "\n",
    "#plt.savefig(f\"/home/clewis/repos/realSpike/data/rb50_20250127/plds_stim/state_means_pattern_avg_{bin_size}ms_3D.png\")"
   ]
  },
  {
   "cell_type": "markdown",
   "id": "cf39fe9e-6b4c-42b4-8656-8d36d344c23d",
   "metadata": {},
   "source": [
    "# "
   ]
  },
  {
   "cell_type": "code",
   "execution_count": null,
   "id": "976f0dea-279e-4765-bc6e-0ca238429090",
   "metadata": {},
   "outputs": [],
   "source": []
  },
  {
   "cell_type": "code",
   "execution_count": null,
   "id": "c5d8b3f3-229e-4e7d-b8ab-665cd8911cba",
   "metadata": {},
   "outputs": [],
   "source": []
  }
 ],
 "metadata": {
  "kernelspec": {
   "display_name": "Python 3 (ipykernel)",
   "language": "python",
   "name": "python3"
  },
  "language_info": {
   "codemirror_mode": {
    "name": "ipython",
    "version": 3
   },
   "file_extension": ".py",
   "mimetype": "text/x-python",
   "name": "python",
   "nbconvert_exporter": "python",
   "pygments_lexer": "ipython3",
   "version": "3.11.12"
  }
 },
 "nbformat": 4,
 "nbformat_minor": 5
}
