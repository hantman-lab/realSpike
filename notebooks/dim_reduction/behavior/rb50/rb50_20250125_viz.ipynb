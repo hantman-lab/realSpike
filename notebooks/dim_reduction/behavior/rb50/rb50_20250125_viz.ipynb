{
 "cells": [
  {
   "cell_type": "markdown",
   "id": "6edff486-e69d-4c0a-983d-550d22ed65d1",
   "metadata": {},
   "source": [
    "# Poisson rSLDS \n",
    "## Behaving dataset\n",
    "## Stim is as cue, system should come back to rest before lift \n",
    "## Fitting model from cue to grab, k=3"
   ]
  },
  {
   "cell_type": "code",
   "execution_count": 340,
   "id": "7059a289-cd10-4d0b-b7fb-62391da64bf4",
   "metadata": {},
   "outputs": [],
   "source": [
    "import ssm\n",
    "from pathlib import Path\n",
    "from scipy.io import loadmat\n",
    "import numpy as np\n",
    "import matplotlib.pyplot as plt\n",
    "from tqdm import tqdm\n",
    "from real_spike.utils import *\n",
    "\n",
    "from scipy.ndimage import gaussian_filter1d\n",
    "\n",
    "import random\n",
    "import h5py\n",
    "\n",
    "import fastplotlib as fpl\n",
    "from ipywidgets import IntSlider, VBox, Layout, Select, HBox\n",
    "\n",
    "from PIL import Image\n",
    "%matplotlib inline"
   ]
  },
  {
   "cell_type": "code",
   "execution_count": 2,
   "id": "4f6dbe06-d3ba-421b-aa6c-c270bbd1c1b1",
   "metadata": {},
   "outputs": [],
   "source": [
    "path = f\"/home/clewis/repos/realSpike/data/behavior/rb50_20250125/\""
   ]
  },
  {
   "cell_type": "code",
   "execution_count": 3,
   "id": "1d6db349-793a-4d59-a7ca-f0474b2fe5b2",
   "metadata": {},
   "outputs": [],
   "source": [
    "video_path =  Path(\"/home/clewis/wasabi/reaganbullins2/ProjectionProject/rb50/20250125/videos/\")"
   ]
  },
  {
   "cell_type": "markdown",
   "id": "8a7b2594-1aac-43fe-a5f6-a473249b6d60",
   "metadata": {},
   "source": [
    "# Get data"
   ]
  },
  {
   "cell_type": "code",
   "execution_count": 4,
   "id": "37c5d4af-c98c-48f9-9ca9-f1f78bd076c7",
   "metadata": {},
   "outputs": [
    {
     "name": "stdout",
     "output_type": "stream",
     "text": [
      "<KeysViewHDF5 ['aligned_cue_rec_time', 'aligned_laser_rec_time', 'any', 'chan_spk', 'cue', 'cue_rec_time', 'cue_trial_time', 'depth_spk', 'field_id', 'field_size', 'full_field', 'grab', 'grab_ms', 'laser', 'laser_rec_time', 'laser_trial_time', 'lift', 'lift_ms', 'lift_rec_time', 'mouth', 'mouth_ms', 'no_success', 'pattern_fill', 'pattern_id', 'pattern_xy', 'plift', 'plift_ms', 'single', 'spikes_raw_cue', 'spikes_raw_cue_extended', 'spikes_raw_laser', 'spikes_raw_lift', 'totTime', 'trial_start']>\n"
     ]
    }
   ],
   "source": [
    "f = h5py.File(\"/home/clewis/wasabi/reaganbullins2/ProjectionProject/rb50/20250125/MAT_FILES/rb50_20250125_datastruct_pt3.mat\", 'r')\n",
    "data = f['data']\n",
    "print(data.keys())"
   ]
  },
  {
   "cell_type": "code",
   "execution_count": null,
   "id": "545094f1-9235-4e8a-8321-fd9c25f5a7e5",
   "metadata": {},
   "outputs": [],
   "source": []
  },
  {
   "cell_type": "markdown",
   "id": "86708f48-a402-43c2-9031-5a38a43c8e3c",
   "metadata": {},
   "source": [
    "# Plot the patterns"
   ]
  },
  {
   "cell_type": "code",
   "execution_count": 5,
   "id": "3feabc53-5a60-419e-8981-a08004f82127",
   "metadata": {},
   "outputs": [
    {
     "data": {
      "text/plain": [
       "30"
      ]
     },
     "execution_count": 5,
     "metadata": {},
     "output_type": "execute_result"
    }
   ],
   "source": [
    "# visualize the patterns again\n",
    "pattern_ids = list(np.unique(data['pattern_id'][:]))\n",
    "len(pattern_ids)"
   ]
  },
  {
   "cell_type": "code",
   "execution_count": 6,
   "id": "3aac36d1-ba12-4e60-9da2-69ce47feaf22",
   "metadata": {},
   "outputs": [],
   "source": [
    "from scipy.ndimage import zoom"
   ]
  },
  {
   "cell_type": "code",
   "execution_count": 7,
   "id": "ffb3ffdb-13d1-4d4b-b3d9-a26fffee1ca0",
   "metadata": {},
   "outputs": [],
   "source": [
    "reshape_size = 12"
   ]
  },
  {
   "cell_type": "code",
   "execution_count": null,
   "id": "f0e63ab7-383b-4001-85a4-c69853c382ab",
   "metadata": {},
   "outputs": [],
   "source": []
  },
  {
   "cell_type": "code",
   "execution_count": 8,
   "id": "94f6869d-f1a6-4e08-977d-383aef03a65e",
   "metadata": {},
   "outputs": [],
   "source": [
    "all_patterns = list()\n",
    "\n",
    "for p_id in pattern_ids[3:]:\n",
    "    ix = np.where(data['pattern_id'][:] == p_id)[1][0].astype(np.int32)\n",
    "    pattern = np.zeros((data['pattern_xy'][0][ix].astype(np.int32), data['pattern_xy'][1][ix].astype(np.int32)))\n",
    "    # use the pattern fill to set elements to one\n",
    "    object_ref = f[data['pattern_fill'][ix, 0]]\n",
    "    for x, y in zip(object_ref[0, :], object_ref[1, :]):\n",
    "        pattern[x.astype(np.int32)-1, y.astype(np.int32)-1] = 1\n",
    "\n",
    "    pattern = zoom(pattern, (reshape_size / pattern.shape[0], reshape_size / pattern.shape[1]), order=0)\n",
    "\n",
    "    all_patterns.append(pattern)\n"
   ]
  },
  {
   "cell_type": "code",
   "execution_count": 9,
   "id": "e3ccf6ca-313c-4b24-a7ad-07e3743d4bac",
   "metadata": {},
   "outputs": [
    {
     "data": {
      "text/plain": [
       "27"
      ]
     },
     "execution_count": 9,
     "metadata": {},
     "output_type": "execute_result"
    }
   ],
   "source": [
    "len(all_patterns)"
   ]
  },
  {
   "cell_type": "code",
   "execution_count": null,
   "id": "7591986d-f7c2-4df1-8134-10e574d47a22",
   "metadata": {},
   "outputs": [],
   "source": []
  },
  {
   "cell_type": "code",
   "execution_count": null,
   "id": "11ac9958-ca37-470c-b258-9776259518c2",
   "metadata": {},
   "outputs": [],
   "source": []
  },
  {
   "cell_type": "markdown",
   "id": "57141080-330c-4874-b249-81e0f6263fae",
   "metadata": {},
   "source": [
    "# Get single-reach trials"
   ]
  },
  {
   "cell_type": "code",
   "execution_count": 10,
   "id": "ee38b4de-1def-4750-b27e-f5866bc06ecb",
   "metadata": {},
   "outputs": [],
   "source": [
    "stim_idxs = np.where(data[\"pattern_id\"][:] > 2)[1]\n",
    "single_reach_idxs = np.where(data[\"single\"][:, 0] == 1)"
   ]
  },
  {
   "cell_type": "code",
   "execution_count": 11,
   "id": "587990aa-24a1-45e9-afc5-df98ef6e592a",
   "metadata": {},
   "outputs": [
    {
     "data": {
      "text/plain": [
       "array([ 18,  20,  23,  32,  37,  40,  42,  48,  55,  56,  60,  61,  67,\n",
       "        68,  70,  78,  83,  86,  97, 101, 103, 106, 118, 121, 128, 131])"
      ]
     },
     "execution_count": 11,
     "metadata": {},
     "output_type": "execute_result"
    }
   ],
   "source": [
    "# get no laser trials\n",
    "behavior_idxs = np.intersect1d(stim_idxs, single_reach_idxs)\n",
    "behavior_idxs"
   ]
  },
  {
   "cell_type": "code",
   "execution_count": 12,
   "id": "9686659c-f128-4a1d-be17-a96531e8fb1b",
   "metadata": {},
   "outputs": [
    {
     "data": {
      "text/plain": [
       "(26,)"
      ]
     },
     "execution_count": 12,
     "metadata": {},
     "output_type": "execute_result"
    }
   ],
   "source": [
    "behavior_idxs.shape"
   ]
  },
  {
   "cell_type": "code",
   "execution_count": null,
   "id": "b0acac40-f1ff-4d33-a8aa-6030e0f55d57",
   "metadata": {},
   "outputs": [],
   "source": []
  },
  {
   "cell_type": "markdown",
   "id": "52ae2d89-93a0-417f-8f39-68795ab5a5b4",
   "metadata": {},
   "source": [
    "## Get relevant time information"
   ]
  },
  {
   "cell_type": "code",
   "execution_count": 13,
   "id": "386e979e-9792-4e9f-837b-b30f4c69a70c",
   "metadata": {},
   "outputs": [
    {
     "data": {
      "text/plain": [
       "((26, 1), (26, 1), (26, 1))"
      ]
     },
     "execution_count": 13,
     "metadata": {},
     "output_type": "execute_result"
    }
   ],
   "source": [
    "cue_times = data[\"aligned_cue_rec_time\"][behavior_idxs, :]\n",
    "lift_times = data[\"lift_ms\"][behavior_idxs, :]\n",
    "grab_times = data[\"mouth_ms\"][behavior_idxs, :]\n",
    "(cue_times.shape, lift_times.shape, grab_times.shape)"
   ]
  },
  {
   "cell_type": "code",
   "execution_count": null,
   "id": "ad97f548-1318-4a59-93a1-77c0fb0b6cfb",
   "metadata": {},
   "outputs": [],
   "source": []
  },
  {
   "cell_type": "code",
   "execution_count": null,
   "id": "fa82d496-ab29-41ca-8ab5-a08dbade81d6",
   "metadata": {},
   "outputs": [],
   "source": []
  },
  {
   "cell_type": "markdown",
   "id": "a344751d-1d06-445e-806c-b481d1402309",
   "metadata": {},
   "source": [
    "## Get the AP.bin file"
   ]
  },
  {
   "cell_type": "code",
   "execution_count": 14,
   "id": "6811b68a-8530-4fd4-8dec-0c87e7b14ab5",
   "metadata": {},
   "outputs": [],
   "source": [
    "file_path = Path(\"/home/clewis/wasabi/reaganbullins2/ProjectionProject/rb50/20250125/rb50_20250125_g0/rb50_20250125_g0_t0.imec0.ap.bin\")\n",
    "meta_path = Path(\"/home/clewis/wasabi/reaganbullins2/ProjectionProject/rb50/20250125/rb50_20250125_g0/rb50_20250125_g0_t0.imec0.ap.meta\")"
   ]
  },
  {
   "cell_type": "code",
   "execution_count": 15,
   "id": "961fda92-b8c2-41e9-a295-d1ae578c7788",
   "metadata": {},
   "outputs": [],
   "source": [
    "meta_data = get_meta(meta_path)"
   ]
  },
  {
   "cell_type": "code",
   "execution_count": 16,
   "id": "08f7acf3-5aaa-49fe-a254-931688032a4f",
   "metadata": {},
   "outputs": [
    {
     "data": {
      "text/plain": [
       "(385, 164723792)"
      ]
     },
     "execution_count": 16,
     "metadata": {},
     "output_type": "execute_result"
    }
   ],
   "source": [
    "ap_data = get_sample_data(file_path, meta_data)\n",
    "ap_data.shape"
   ]
  },
  {
   "cell_type": "code",
   "execution_count": null,
   "id": "68d1c941-7c6e-40e1-b0cc-ef9cea7ef30c",
   "metadata": {},
   "outputs": [],
   "source": []
  },
  {
   "cell_type": "markdown",
   "id": "890106c1-39f3-445f-b6ed-c3dd99ca1659",
   "metadata": {},
   "source": [
    "## Get conversion params"
   ]
  },
  {
   "cell_type": "code",
   "execution_count": 17,
   "id": "bff19b48-caa4-4b65-9687-594ef64fa7b9",
   "metadata": {},
   "outputs": [
    {
     "data": {
      "text/plain": [
       "(0.6, 512.0, 500.0)"
      ]
     },
     "execution_count": 17,
     "metadata": {},
     "output_type": "execute_result"
    }
   ],
   "source": [
    "vmax = float(meta_data[\"imAiRangeMax\"])\n",
    "# get Imax\n",
    "imax = float(meta_data[\"imMaxInt\"])\n",
    "# get gain\n",
    "gain = float(meta_data['imroTbl'].split(sep=')')[1].split(sep=' ')[3])\n",
    "\n",
    "(vmax, imax, gain)"
   ]
  },
  {
   "cell_type": "code",
   "execution_count": null,
   "id": "ca62b13c-c040-482f-a305-e1b3f45e1dc9",
   "metadata": {},
   "outputs": [],
   "source": []
  },
  {
   "cell_type": "markdown",
   "id": "fbeb8c86-4544-4d1e-a871-37522a33e943",
   "metadata": {},
   "source": [
    "# Get the model data"
   ]
  },
  {
   "cell_type": "code",
   "execution_count": null,
   "id": "7ca83f07-33fe-46d8-9a79-493610b221ae",
   "metadata": {},
   "outputs": [],
   "source": []
  },
  {
   "cell_type": "code",
   "execution_count": 18,
   "id": "f7ddffd0-86e9-4131-8ff3-acbe6085d973",
   "metadata": {},
   "outputs": [],
   "source": [
    "def get_trials(idxs, bin_size):\n",
    "    \n",
    "    model_data = list()\n",
    "    \n",
    "    for i in tqdm(range(len(idxs))):\n",
    "        # 50 ms before cue\n",
    "        cue_time = int((cue_times[i, 0] - 50) / 1_000 * 30_000)\n",
    "\n",
    "        # end at grab \n",
    "        end_behavior = int((cue_times[i, 0] + grab_times[i, 0]) / 1_000 * 30_000)\n",
    "\n",
    "        \n",
    "        trial = ap_data[:150, cue_time:end_behavior]\n",
    "    \n",
    "        # convert to microvolts\n",
    "        conv_data = 1e6 * trial / vmax / imax / gain\n",
    "        # high pass filter \n",
    "        filt_data = butter_filter(conv_data, 1_000, 30_000)\n",
    "\n",
    "        # get 1 second before the median \n",
    "        m_start = cue_time - (30 * 1000)\n",
    "        # convert to microvolts, high pass filter\n",
    "        trial_median = ap_data[:150, m_start:cue_time]\n",
    "        trial_median = 1e6 * trial_median / vmax / imax / gain\n",
    "        trial_median = butter_filter(trial_median, 1_000, 30_000)\n",
    "        \n",
    "        # calculate the median\n",
    "        median = np.median(trial_median, axis=1)\n",
    "\n",
    "        # get spike times\n",
    "        spike_ixs, counts = get_spike_events(filt_data, median)\n",
    "        \n",
    "        a = np.zeros((filt_data.shape[0], filt_data.shape[1]))\n",
    "    \n",
    "        for i, sc in enumerate(spike_ixs):\n",
    "            a[i, sc] = 1\n",
    "    \n",
    "        b = bin_size * 30 # 30ms per bin\n",
    "        binned_spikes = bin_spikes(a, b)\n",
    "\n",
    "        model_data.append(np.asarray(binned_spikes.T, dtype=int))\n",
    "\n",
    "    return model_data"
   ]
  },
  {
   "cell_type": "code",
   "execution_count": 19,
   "id": "e77271fb-bd3d-4c51-94fb-eee900e38dc3",
   "metadata": {},
   "outputs": [],
   "source": [
    "bin_size = 5"
   ]
  },
  {
   "cell_type": "code",
   "execution_count": 20,
   "id": "2c89ebbc-a426-4002-8b24-aa3fc3e7eb73",
   "metadata": {},
   "outputs": [
    {
     "name": "stderr",
     "output_type": "stream",
     "text": [
      "100%|██████████████████████████████████████████████████████████████████████████| 26/26 [00:06<00:00,  4.12it/s]\n"
     ]
    }
   ],
   "source": [
    "model_data = get_trials(behavior_idxs, bin_size)"
   ]
  },
  {
   "cell_type": "code",
   "execution_count": 21,
   "id": "96b9385e-d9ed-49c8-bb64-b460c8e016a2",
   "metadata": {},
   "outputs": [
    {
     "data": {
      "text/plain": [
       "(116, 150)"
      ]
     },
     "execution_count": 21,
     "metadata": {},
     "output_type": "execute_result"
    }
   ],
   "source": [
    "model_data[0].shape"
   ]
  },
  {
   "cell_type": "code",
   "execution_count": 22,
   "id": "0aad3975-a385-421c-9f81-3239aa815563",
   "metadata": {},
   "outputs": [
    {
     "data": {
      "text/plain": [
       "(72, 115)"
      ]
     },
     "execution_count": 22,
     "metadata": {},
     "output_type": "execute_result"
    }
   ],
   "source": [
    "# taking 50ms before cue, need to shift\n",
    "cue = int(50 / bin_size)\n",
    "\n",
    "lift = int(lift_times[0, 0] / bin_size) + cue\n",
    "\n",
    "grab = int(grab_times[0, 0] / bin_size) + cue - 1\n",
    "\n",
    "(lift, grab)"
   ]
  },
  {
   "cell_type": "markdown",
   "id": "1ab5e6cd-0e4b-4273-a927-49250e705fe4",
   "metadata": {},
   "source": [
    "### Sanity check the time points"
   ]
  },
  {
   "cell_type": "code",
   "execution_count": 23,
   "id": "a48ee8b6-7892-4839-a9ff-010e25f49d33",
   "metadata": {},
   "outputs": [
    {
     "data": {
      "text/plain": [
       "<matplotlib.lines.Line2D at 0x7fcae4376e10>"
      ]
     },
     "execution_count": 23,
     "metadata": {},
     "output_type": "execute_result"
    },
    {
     "data": {
      "image/png": "[encoded data removed]",
      "text/plain": [
       "<Figure size 400x517.241 with 1 Axes>"
      ]
     },
     "metadata": {},
     "output_type": "display_data"
    }
   ],
   "source": [
    "plt.matshow(model_data[0].T)\n",
    "plt.axvline(cue, c=\"red\", linestyle=\"--\", lw=1)\n",
    "plt.axvline(lift, c=\"red\", linestyle=\"--\")\n",
    "plt.axvline(grab, c=\"red\", linestyle=\"--\")"
   ]
  },
  {
   "cell_type": "code",
   "execution_count": null,
   "id": "eab4115e-7fb2-4e57-93cd-7f7b13ae79dd",
   "metadata": {},
   "outputs": [],
   "source": []
  },
  {
   "cell_type": "markdown",
   "id": "38e3fa20-c06b-480c-9a00-8af10932fe93",
   "metadata": {},
   "source": [
    "# Design the input matrix"
   ]
  },
  {
   "cell_type": "code",
   "execution_count": 24,
   "id": "d3be208b-3ea0-47bd-bd83-46d8ec9c3912",
   "metadata": {},
   "outputs": [
    {
     "data": {
      "text/plain": [
       "array([14., 17., 20.])"
      ]
     },
     "execution_count": 24,
     "metadata": {},
     "output_type": "execute_result"
    }
   ],
   "source": [
    "p_ids = np.unique(data[\"pattern_id\"][0, behavior_idxs])\n",
    "\n",
    "p_ids"
   ]
  },
  {
   "cell_type": "code",
   "execution_count": null,
   "id": "69e4716a-d75b-475e-92a3-945ce1212a4a",
   "metadata": {},
   "outputs": [],
   "source": []
  },
  {
   "cell_type": "markdown",
   "id": "96ca0c96-2108-4412-87f0-1dcc38df5e90",
   "metadata": {},
   "source": [
    "## Get colors for plotting"
   ]
  },
  {
   "cell_type": "code",
   "execution_count": 25,
   "id": "bae27d21-0ddc-48b5-b6cd-256ef222e43f",
   "metadata": {},
   "outputs": [],
   "source": [
    "c = {\n",
    "    14: \"blue\",\n",
    "    17: \"orange\",\n",
    "    20: \"green\"\n",
    "}"
   ]
  },
  {
   "cell_type": "code",
   "execution_count": 26,
   "id": "7d31035a-682e-4d36-983d-e38e62787394",
   "metadata": {},
   "outputs": [
    {
     "data": {
      "text/plain": [
       "3"
      ]
     },
     "execution_count": 26,
     "metadata": {},
     "output_type": "execute_result"
    }
   ],
   "source": [
    "len(c)"
   ]
  },
  {
   "cell_type": "code",
   "execution_count": 27,
   "id": "e6e13e66-0858-4f91-8c3f-af5e6e97311e",
   "metadata": {},
   "outputs": [
    {
     "data": {
      "text/plain": [
       "<matplotlib.image.AxesImage at 0x7fcaedefea90>"
      ]
     },
     "execution_count": 27,
     "metadata": {},
     "output_type": "execute_result"
    },
    {
     "data": {
      "image/png": "[encoded data removed]",
      "text/plain": [
       "<Figure size 640x480 with 1 Axes>"
      ]
     },
     "metadata": {},
     "output_type": "display_data"
    }
   ],
   "source": [
    "from matplotlib.colors import ListedColormap\n",
    "\n",
    "cmap = ListedColormap(c.values())\n",
    "\n",
    "plt.imshow(np.arange(len(c)).reshape(1,-1), aspect=\"auto\", cmap=cmap)"
   ]
  },
  {
   "cell_type": "markdown",
   "id": "3795b001-58ee-4f85-bf8d-4e027bfa12f1",
   "metadata": {},
   "source": [
    "# Create encodings "
   ]
  },
  {
   "cell_type": "code",
   "execution_count": 28,
   "id": "a8074dfd-4f55-4d56-b3bd-1be22e1b337b",
   "metadata": {},
   "outputs": [],
   "source": [
    "import math"
   ]
  },
  {
   "cell_type": "code",
   "execution_count": 29,
   "id": "f1a02737-e0c1-4a19-9142-75a1cd99ac3a",
   "metadata": {},
   "outputs": [],
   "source": [
    "inputs = list()\n",
    "colors = list()\n",
    "for i, d in zip(stim_idxs, model_data):\n",
    "    # get the pattern id \n",
    "    p_id = int(data[\"pattern_id\"][0][i]) - 3\n",
    "\n",
    "    colors.append(c[p_id + 3])\n",
    "\n",
    "    encoding = all_patterns[p_id].ravel() \n",
    "\n",
    "    # stack the encoding for every timepoint (each bin)\n",
    "    nput = np.zeros((d.shape[0], reshape_size**2))\n",
    "\n",
    "    for z in range(math.ceil(5 / bin_size)):\n",
    "        nput[int(50 / bin_size) + z] = encoding\n",
    "\n",
    "    inputs.append(nput)"
   ]
  },
  {
   "cell_type": "code",
   "execution_count": 30,
   "id": "f8bccc74-5025-417f-aa5e-b094b2e81c6f",
   "metadata": {},
   "outputs": [
    {
     "data": {
      "image/png": "[encoded data removed]",
      "text/plain": [
       "<Figure size 640x480 with 1 Axes>"
      ]
     },
     "metadata": {},
     "output_type": "display_data"
    }
   ],
   "source": [
    "plt.imshow(inputs[0].T, cmap=\"binary\")\n",
    "plt.title(\"Pattern Encoding\")\n",
    "plt.xlabel(\"Bins\")\n",
    "plt.ylabel(\"Pixel Location\")\n",
    "plt.show()"
   ]
  },
  {
   "cell_type": "code",
   "execution_count": null,
   "id": "d018a252-c149-402a-b855-deef2b7d5ebb",
   "metadata": {},
   "outputs": [],
   "source": []
  },
  {
   "cell_type": "code",
   "execution_count": null,
   "id": "b82a7849-23d3-4cff-90aa-f5a7dade91e4",
   "metadata": {},
   "outputs": [],
   "source": []
  },
  {
   "cell_type": "markdown",
   "id": "cdb7bf07-6ea7-4400-a874-39e0dfb78395",
   "metadata": {},
   "source": [
    "# Fit the model"
   ]
  },
  {
   "cell_type": "code",
   "execution_count": 252,
   "id": "b2cc4417-ac74-41ee-b6dd-553ee12b161d",
   "metadata": {},
   "outputs": [
    {
     "data": {
      "application/vnd.jupyter.widget-view+json": {
       "model_id": "6ba8c7d9c22042a781e34ac30cd75f1b",
       "version_major": 2,
       "version_minor": 0
      },
      "text/plain": [
       "  0%|          | 0/1 [00:00<?, ?it/s]"
      ]
     },
     "metadata": {},
     "output_type": "display_data"
    },
    {
     "name": "stdout",
     "output_type": "stream",
     "text": [
      "Initializing with an ARHMM using 25 steps of EM.\n"
     ]
    },
    {
     "data": {
      "application/vnd.jupyter.widget-view+json": {
       "model_id": "70f3f52a251e4e0a9e16e966acb67943",
       "version_major": 2,
       "version_minor": 0
      },
      "text/plain": [
       "  0%|          | 0/25 [00:00<?, ?it/s]"
      ]
     },
     "metadata": {},
     "output_type": "display_data"
    },
    {
     "data": {
      "application/vnd.jupyter.widget-view+json": {
       "model_id": "e9fc6c88965746e7a04a2220bee9cab6",
       "version_major": 2,
       "version_minor": 0
      },
      "text/plain": [
       "  0%|          | 0/5 [00:00<?, ?it/s]"
      ]
     },
     "metadata": {},
     "output_type": "display_data"
    }
   ],
   "source": [
    "state_dim = 3\n",
    "obs_dim = model_data[0].shape[1] \n",
    "\n",
    "plds = ssm.SLDS(N=obs_dim, \n",
    "                K=2, \n",
    "                D=state_dim, \n",
    "                M=144, \n",
    "                emissions=\"poisson\", \n",
    "                emission_kwargs=dict(link=\"softplus\"),\n",
    "                dynamics=\"diagonal_gaussian\",\n",
    "                transitions=\"recurrent\"\n",
    "               )\n",
    "\n",
    "elbos, q = plds.fit(model_data, inputs=inputs, method=\"laplace_em\", num_iters=5)"
   ]
  },
  {
   "cell_type": "code",
   "execution_count": null,
   "id": "599e7fa4-a88f-49ad-a470-2ef4d50f36ea",
   "metadata": {},
   "outputs": [],
   "source": []
  },
  {
   "cell_type": "code",
   "execution_count": null,
   "id": "22e1fa01-21ae-4115-a1d1-05cd4576ca6f",
   "metadata": {},
   "outputs": [],
   "source": []
  },
  {
   "cell_type": "code",
   "execution_count": 253,
   "id": "9fe5884e-d131-46cf-869b-33cb26edd257",
   "metadata": {},
   "outputs": [
    {
     "data": {
      "text/plain": [
       "26"
      ]
     },
     "execution_count": 253,
     "metadata": {},
     "output_type": "execute_result"
    }
   ],
   "source": [
    "state_means = q.mean_continuous_states\n",
    "len(state_means)"
   ]
  },
  {
   "cell_type": "code",
   "execution_count": null,
   "id": "a005da41-4088-4fca-b56c-41487c956721",
   "metadata": {},
   "outputs": [],
   "source": []
  },
  {
   "cell_type": "markdown",
   "id": "43d673a6-feca-44ca-8e5d-9d593c3d7a1f",
   "metadata": {},
   "source": [
    "# Visualize a trial"
   ]
  },
  {
   "cell_type": "code",
   "execution_count": 446,
   "id": "8136cfab-a942-4c7f-a88a-69355a56e11e",
   "metadata": {},
   "outputs": [],
   "source": [
    "trial_no = 0"
   ]
  },
  {
   "cell_type": "code",
   "execution_count": 447,
   "id": "f0ab3b6f-a1c7-43bb-9971-c1afbb0bb53b",
   "metadata": {},
   "outputs": [
    {
     "data": {
      "text/plain": [
       "np.int64(18)"
      ]
     },
     "execution_count": 447,
     "metadata": {},
     "output_type": "execute_result"
    }
   ],
   "source": [
    "behavior_idxs[0]"
   ]
  },
  {
   "cell_type": "code",
   "execution_count": 448,
   "id": "03c54461-72c4-4a03-b9e8-a9b13a45bd46",
   "metadata": {},
   "outputs": [
    {
     "data": {
      "text/plain": [
       "((2498, 290, 448), (2498, 290, 448))"
      ]
     },
     "execution_count": 448,
     "metadata": {},
     "output_type": "execute_result"
    }
   ],
   "source": [
    "i = behavior_idxs[trial_no] + 1\n",
    "# get video \n",
    "front_video = LazyVideo(video_path.joinpath(f\"rb50_20250125_front_v0{i}.avi\"))\n",
    "side_video = LazyVideo(video_path.joinpath(f\"rb50_20250125_side_v0{i}.avi\"))\n",
    "(front_video.shape, side_video.shape)"
   ]
  },
  {
   "cell_type": "code",
   "execution_count": 449,
   "id": "2dc493a2-ee84-4f52-81ae-391e2098dea3",
   "metadata": {},
   "outputs": [
    {
     "data": {
      "application/vnd.jupyter.widget-view+json": {
       "model_id": "2f56b44848584ff7b7b1d62717350c78",
       "version_major": 2,
       "version_minor": 0
      },
      "text/plain": [
       "RFBOutputContext()"
      ]
     },
     "metadata": {},
     "output_type": "display_data"
    }
   ],
   "source": [
    "fig = fpl.Figure(shape=(2,2), \n",
    "                 size=(800, 800), \n",
    "                 names=[\"front\", \"side\", \"binned_spikes\", \"z_t\"], \n",
    "               #  cameras=[\"2d\", \"2d\", \"2d\", \"3d\"]\n",
    "                )\n",
    "\n",
    "fig[\"front\"].axes.visible = False\n",
    "fig[\"front\"].controller.enabled = False\n",
    "fig[\"side\"].axes.visible = False\n",
    "fig[\"side\"].controller.enabled = False\n",
    "fig[\"binned_spikes\"].axes.visible = False\n",
    "fig[\"binned_spikes\"].camera.maintain_aspect = False\n",
    "fig[\"binned_spikes\"].controller.enabled = False"
   ]
  },
  {
   "cell_type": "code",
   "execution_count": 450,
   "id": "8dd4cbaa-0dbf-45e4-9fe0-704829f0cf28",
   "metadata": {},
   "outputs": [
    {
     "name": "stderr",
     "output_type": "stream",
     "text": [
      "/home/clewis/venvs/bah/lib64/python3.11/site-packages/fastplotlib/graphics/features/_base.py:18: UserWarning: casting float64 array to float32\n",
      "  warn(f\"casting {array.dtype} array to float32\")\n"
     ]
    }
   ],
   "source": [
    "front_graphic = fig[\"front\"].add_image(front_video[0])\n",
    "side_graphic = fig[\"side\"].add_image(side_video[0])\n",
    "heatmap = fig[\"binned_spikes\"].add_image(model_data[trial_no].T, cmap=\"viridis\")\n",
    "ls = heatmap.add_linear_selector()\n",
    "z_smooth = gaussian_filter1d(state_means[trial_no], 6, axis=0)\n",
    "z_graphic = fig[\"z_t\"].add_line(z_smooth)\n"
   ]
  },
  {
   "cell_type": "code",
   "execution_count": 451,
   "id": "d9affd2e-61d8-40cb-8f49-51618262e93b",
   "metadata": {},
   "outputs": [
    {
     "data": {
      "text/plain": [
       "(72, 115)"
      ]
     },
     "execution_count": 451,
     "metadata": {},
     "output_type": "execute_result"
    }
   ],
   "source": [
    "cue = int(50 / bin_size)\n",
    "\n",
    "lift = int(lift_times[trial_no, 0] / bin_size) + cue\n",
    "\n",
    "grab = int(grab_times[trial_no, 0] / bin_size) + cue - 1\n",
    "(lift, grab)"
   ]
  },
  {
   "cell_type": "code",
   "execution_count": 452,
   "id": "435184f7-8fd5-4270-ba9a-ff44b0eefde9",
   "metadata": {},
   "outputs": [],
   "source": [
    "# mark stim \n",
    "z_stim = fig[\"z_t\"].add_scatter(z_smooth[cue].reshape(1,3), sizes=15, colors=\"blue\")\n",
    "# mark lift \n",
    "z_lift = fig[\"z_t\"].add_scatter(z_smooth[lift].reshape(1,3), sizes=15, colors=\"green\")\n",
    "# mark grab \n",
    "z_grab = fig[\"z_t\"].add_scatter(z_smooth[grab].reshape(1,3), sizes=15, colors=\"yellow\")\n",
    "\n",
    "# add tracer\n",
    "z_point = fig[\"z_t\"].add_scatter(z_smooth[0].reshape(1,3), sizes=15, colors=\"red\")"
   ]
  },
  {
   "cell_type": "code",
   "execution_count": 453,
   "id": "2f7a1d71-e2d2-44f5-a4c8-3ede47c3dca6",
   "metadata": {},
   "outputs": [],
   "source": [
    "slider = IntSlider(value=0, min=0, max=model_data[trial_no].shape[0]-1, layout=Layout(width=\"50%\"))"
   ]
  },
  {
   "cell_type": "code",
   "execution_count": 454,
   "id": "0865a6ee-7be0-4e2c-8653-455cd92c0f57",
   "metadata": {},
   "outputs": [],
   "source": [
    "selection = Select(\n",
    "    options=list(behavior_idxs),\n",
    "    value=behavior_idxs[0],\n",
    "    # rows=10,\n",
    "    description='Trial:',\n",
    "    disabled=False,\n",
    "    layout=Layout(width=\"25%\")\n",
    ")"
   ]
  },
  {
   "cell_type": "code",
   "execution_count": 455,
   "id": "f49d20df-06ca-436c-b6d1-29ac7e19edd9",
   "metadata": {},
   "outputs": [],
   "source": [
    "def update(ev):\n",
    "    global cue\n",
    "    t = ev[\"new\"] \n",
    "\n",
    "    # update linear selector in heatmap \n",
    "    ls.selection = t \n",
    "\n",
    "    # update scatter point selection \n",
    "    z_point.data = z_graphic.data[t].reshape(1,3)\n",
    "\n",
    "    if t >= cue: \n",
    "        # update the video \n",
    "        s = ((t+-1) * 5) + 950\n",
    "        s = math.ceil(s / 2)\n",
    "        front_graphic.data = front_video[s]\n",
    "        side_graphic.data = side_video[s]\n",
    "\n",
    "    # output save for ffmpeg\n",
    "    d = fig.canvas.snapshot().data\n",
    "    pil_image = Image.fromarray(d, 'RGBA')\n",
    "    pil_image.save(f'/home/clewis/Desktop/behavior/{t}.png')\n",
    "    \n",
    "        "
   ]
  },
  {
   "cell_type": "code",
   "execution_count": null,
   "id": "054e52f2-b3a3-4e24-afbe-3080b3328bf7",
   "metadata": {},
   "outputs": [],
   "source": []
  },
  {
   "cell_type": "code",
   "execution_count": 456,
   "id": "ea0ea0f9-613c-499a-813c-2a2493599b33",
   "metadata": {},
   "outputs": [],
   "source": [
    "def trial_change(ev):\n",
    "    global heatmap\n",
    "    global ls\n",
    "    global z_graphic\n",
    "    global z_stim \n",
    "    global z_lift \n",
    "    global z_grab\n",
    "    global z_point\n",
    "    \n",
    "    i = ev[\"new\"] \n",
    "    trial_no = np.where(behavior_idxs == i)[0][0]\n",
    "\n",
    "    if i <= 8:\n",
    "        i = f\"00{i + 1}\"\n",
    "    elif i <= 98:\n",
    "        i = f\"0{i + 1}\"\n",
    "    else:\n",
    "        i = f\"{i + 1}\"\n",
    "\n",
    "    front_video = LazyVideo(video_path.joinpath(f\"rb50_20250125_front_v{i}.avi\"))\n",
    "    side_video = LazyVideo(video_path.joinpath(f\"rb50_20250125_side_v{i}.avi\"))\n",
    "\n",
    "    t = 0\n",
    "    slider.value = t\n",
    "    slider.max = model_data[trial_no].shape[0]-1\n",
    "    front_graphic.data = front_video[t] \n",
    "    side_graphic.data = side_video[t] \n",
    "\n",
    "    fig[\"binned_spikes\"].remove_graphic(heatmap)\n",
    "    fig[\"binned_spikes\"].remove_graphic(ls)\n",
    "    \n",
    "    heatmap = fig[\"binned_spikes\"].add_image(model_data[trial_no].T, cmap=\"viridis\")\n",
    "    ls = heatmap.add_linear_selector()\n",
    "\n",
    "    z_smooth = gaussian_filter1d(state_means[trial_no], 6, axis=0)\n",
    "\n",
    "    fig[\"z_t\"].remove_graphic(z_graphic)\n",
    "    z_graphic = fig[\"z_t\"].add_line(z_smooth)\n",
    "\n",
    "    cue = int(50 / bin_size)\n",
    "\n",
    "    lift = int(lift_times[trial_no, 0] / bin_size) + cue\n",
    "\n",
    "    grab = int(grab_times[trial_no, 0] / bin_size) + cue - 1\n",
    "\n",
    "    z_stim.data = z_smooth[cue].reshape(1,3)\n",
    "    # mark lift \n",
    "    z_lift.data = z_smooth[lift].reshape(1,3)\n",
    "    # mark grab \n",
    "    z_grab.data = z_smooth[grab].reshape(1,3)\n",
    "    \n",
    "    # add tracer\n",
    "    z_point.data = z_smooth[0].reshape(1,3)"
   ]
  },
  {
   "cell_type": "code",
   "execution_count": 457,
   "id": "736893a0-19e5-4ff9-a07d-98affd96db59",
   "metadata": {},
   "outputs": [],
   "source": [
    "slider.observe(update, \"value\")"
   ]
  },
  {
   "cell_type": "code",
   "execution_count": 458,
   "id": "101e6739-7cf2-43d7-9141-954330e7be0a",
   "metadata": {},
   "outputs": [],
   "source": [
    "selection.observe(trial_change, \"value\")"
   ]
  },
  {
   "cell_type": "code",
   "execution_count": null,
   "id": "dad921cb-e389-4690-9d0a-523c5bc831ce",
   "metadata": {},
   "outputs": [],
   "source": []
  },
  {
   "cell_type": "code",
   "execution_count": 459,
   "id": "2e4a5290-4ac4-455b-bd86-9d2e3dda78fb",
   "metadata": {},
   "outputs": [
    {
     "data": {
      "application/vnd.jupyter.widget-view+json": {
       "model_id": "73041ab9291848fd861b7506a010bfbd",
       "version_major": 2,
       "version_minor": 0
      },
      "text/plain": [
       "VBox(children=(HBox(children=(JupyterRenderCanvas(css_height='800.0px', css_width='800.0px'), Select(descripti…"
      ]
     },
     "execution_count": 459,
     "metadata": {},
     "output_type": "execute_result"
    }
   ],
   "source": [
    "VBox([HBox([fig.show(), selection]), slider])"
   ]
  },
  {
   "cell_type": "code",
   "execution_count": null,
   "id": "489c88f6-9ed7-4707-8051-a2a37c23fcef",
   "metadata": {},
   "outputs": [],
   "source": []
  },
  {
   "cell_type": "code",
   "execution_count": 350,
   "id": "958d05c5-68b6-4292-8c4b-186e9b93a033",
   "metadata": {},
   "outputs": [
    {
     "data": {
      "text/plain": [
       "np.int64(1)"
      ]
     },
     "execution_count": 350,
     "metadata": {},
     "output_type": "execute_result"
    }
   ],
   "source": [
    "np.where(behavior_idxs == 20)[0][0]"
   ]
  },
  {
   "cell_type": "code",
   "execution_count": 337,
   "id": "06ada6f7-9836-4d65-a7ed-eab07ccfde55",
   "metadata": {},
   "outputs": [
    {
     "data": {
      "text/plain": [
       "[np.int64(18),\n",
       " np.int64(20),\n",
       " np.int64(23),\n",
       " np.int64(32),\n",
       " np.int64(37),\n",
       " np.int64(40),\n",
       " np.int64(42),\n",
       " np.int64(48),\n",
       " np.int64(55),\n",
       " np.int64(56),\n",
       " np.int64(60),\n",
       " np.int64(61),\n",
       " np.int64(67),\n",
       " np.int64(68),\n",
       " np.int64(70),\n",
       " np.int64(78),\n",
       " np.int64(83),\n",
       " np.int64(86),\n",
       " np.int64(97),\n",
       " np.int64(101),\n",
       " np.int64(103),\n",
       " np.int64(106),\n",
       " np.int64(118),\n",
       " np.int64(121),\n",
       " np.int64(128),\n",
       " np.int64(131)]"
      ]
     },
     "execution_count": 337,
     "metadata": {},
     "output_type": "execute_result"
    }
   ],
   "source": [
    "list(behavior_idxs)"
   ]
  },
  {
   "cell_type": "code",
   "execution_count": 339,
   "id": "02ce9934-ab37-4e32-8cb8-83fae3a94325",
   "metadata": {},
   "outputs": [
    {
     "data": {
      "application/vnd.jupyter.widget-view+json": {
       "model_id": "8411dd18677747afb33971dc7c5c0578",
       "version_major": 2,
       "version_minor": 0
      },
      "text/plain": [
       "Select(description='Trial:', options=(np.int64(18), np.int64(20), np.int64(23), np.int64(32), np.int64(37), np…"
      ]
     },
     "execution_count": 339,
     "metadata": {},
     "output_type": "execute_result"
    }
   ],
   "source": [
    "Select(\n",
    "    options=list(behavior_idxs),\n",
    "    value=behavior_idxs[0],\n",
    "    # rows=10,\n",
    "    description='Trial:',\n",
    "    disabled=False\n",
    ")"
   ]
  },
  {
   "cell_type": "code",
   "execution_count": null,
   "id": "1749a365-6216-47f4-8250-cd3e3d99118b",
   "metadata": {},
   "outputs": [],
   "source": []
  },
  {
   "cell_type": "code",
   "execution_count": null,
   "id": "f599fb45-397f-4418-9a93-9458756e3fb6",
   "metadata": {},
   "outputs": [],
   "source": []
  },
  {
   "cell_type": "markdown",
   "id": "f02ae135-cb39-49a8-8949-8cd291504beb",
   "metadata": {},
   "source": [
    "# Integrating forward in time"
   ]
  },
  {
   "cell_type": "code",
   "execution_count": 226,
   "id": "c7def358-87ad-48e8-9112-2d588be0beaf",
   "metadata": {},
   "outputs": [
    {
     "data": {
      "text/plain": [
       "72"
      ]
     },
     "execution_count": 226,
     "metadata": {},
     "output_type": "execute_result"
    }
   ],
   "source": [
    "lt = int(lift_times[0, 0] / bin_size) + 10\n",
    "lt"
   ]
  },
  {
   "cell_type": "code",
   "execution_count": 228,
   "id": "ac2b9f22-1de9-48af-b2e8-c0e4ed5d3150",
   "metadata": {},
   "outputs": [],
   "source": [
    "gt = int(grab_times[0, 0] / bin_size) + 10 - lt"
   ]
  },
  {
   "cell_type": "code",
   "execution_count": 229,
   "id": "b999f2e5-0ab7-4f87-8425-f5a481b8e27a",
   "metadata": {},
   "outputs": [
    {
     "data": {
      "text/plain": [
       "44"
      ]
     },
     "execution_count": 229,
     "metadata": {},
     "output_type": "execute_result"
    }
   ],
   "source": [
    "gt"
   ]
  },
  {
   "cell_type": "code",
   "execution_count": 230,
   "id": "8a0f36d2-92d6-4604-a4de-f5ae1e8a9ecd",
   "metadata": {},
   "outputs": [
    {
     "data": {
      "text/plain": [
       "np.int64(0)"
      ]
     },
     "execution_count": 230,
     "metadata": {},
     "output_type": "execute_result"
    }
   ],
   "source": [
    "zhist = plds.most_likely_states(state_means[0], model_data[0], inputs[0])[lt]\n",
    "zhist"
   ]
  },
  {
   "cell_type": "code",
   "execution_count": 231,
   "id": "63bde289-bf9c-40bf-bc06-e00acf85ef47",
   "metadata": {},
   "outputs": [
    {
     "data": {
      "text/plain": [
       "array([ -4.04342661, -29.29090859, -11.29538891])"
      ]
     },
     "execution_count": 231,
     "metadata": {},
     "output_type": "execute_result"
    }
   ],
   "source": [
    "xhist = state_means[0][lt, :]\n",
    "xhist"
   ]
  },
  {
   "cell_type": "code",
   "execution_count": 232,
   "id": "c9a1cbd1-8bea-4f62-b2b9-7b9d64c7e025",
   "metadata": {},
   "outputs": [
    {
     "data": {
      "text/plain": [
       "array([[ 2,  1,  2,  1,  0,  2,  0,  0,  1,  0,  2,  1,  1,  2,  0,  4,\n",
       "         1,  1,  0,  1,  0,  0,  2,  1,  0,  1,  1,  2,  0,  1,  3,  0,\n",
       "         4,  1,  1,  3,  2,  9,  0,  6,  4,  4,  5,  1,  1,  0,  4,  2,\n",
       "         0,  1,  0,  1,  1,  0,  0,  0,  0,  0,  0,  0,  0,  3,  0,  1,\n",
       "         0,  0,  3,  0,  3,  2,  7,  5,  2,  3,  1,  9,  1,  2,  2,  6,\n",
       "         0,  4,  0,  3,  3,  2,  2,  9, 10,  8, 13,  6,  7,  4,  7,  5,\n",
       "         3, 10, 11,  7, 15,  7, 18,  9, 11,  4, 14, 14,  8,  6,  5,  0,\n",
       "         3,  1,  3,  5,  3,  3,  1,  2,  0,  0,  0,  0,  2,  0,  4,  0,\n",
       "         1,  6,  1,  0,  0,  1,  1,  6,  1,  5,  3,  0,  0,  3,  1,  0,\n",
       "         0,  1,  0,  1,  0,  0]])"
      ]
     },
     "execution_count": 232,
     "metadata": {},
     "output_type": "execute_result"
    }
   ],
   "source": [
    "yhist = model_data[0][lt].reshape(1, 150)\n",
    "yhist"
   ]
  },
  {
   "cell_type": "code",
   "execution_count": 233,
   "id": "6978b0eb-c23b-4ac3-ae68-d985e2aa7ffa",
   "metadata": {},
   "outputs": [
    {
     "data": {
      "text/plain": [
       "array([0, 0, 0, 0, 0, 0])"
      ]
     },
     "execution_count": 233,
     "metadata": {},
     "output_type": "execute_result"
    }
   ],
   "source": [
    "np.concatenate(([zhist], np.zeros(5, dtype=int)))"
   ]
  },
  {
   "cell_type": "code",
   "execution_count": 234,
   "id": "7dc817d3-b33b-4bd2-8f8e-7abe53319635",
   "metadata": {},
   "outputs": [
    {
     "data": {
      "text/plain": [
       "(3,)"
      ]
     },
     "execution_count": 234,
     "metadata": {},
     "output_type": "execute_result"
    }
   ],
   "source": [
    "xhist.shape"
   ]
  },
  {
   "cell_type": "code",
   "execution_count": 235,
   "id": "419f9387-7c95-4b8d-a4db-e596d6d0067b",
   "metadata": {},
   "outputs": [
    {
     "data": {
      "text/plain": [
       "3"
      ]
     },
     "execution_count": 235,
     "metadata": {},
     "output_type": "execute_result"
    }
   ],
   "source": [
    "plds.D"
   ]
  },
  {
   "cell_type": "code",
   "execution_count": 236,
   "id": "55af78fa-5a6b-41ae-bcf8-19118ad5c508",
   "metadata": {},
   "outputs": [],
   "source": [
    "a = plds.sample(gt, prefix=[zhist, xhist.reshape(1,3), yhist], with_noise=True)"
   ]
  },
  {
   "cell_type": "code",
   "execution_count": 237,
   "id": "77d5a893-947d-4569-8d58-4c08e6167d2e",
   "metadata": {},
   "outputs": [
    {
     "data": {
      "text/plain": [
       "(array([0, 0, 0, 0, 0, 0, 0, 0, 0, 0, 0, 0, 0, 0, 0, 0, 0, 0, 0, 0, 1, 1,\n",
       "        1, 1, 1, 1, 1, 1, 1, 1, 1, 1, 0, 0, 0, 0, 0, 0, 0, 0, 0, 0, 0, 0]),\n",
       " array([[ 1.45983255e+01, -9.00879855e+00,  7.26309074e+00],\n",
       "        [-2.22474039e-02,  3.99122257e+00, -1.79236104e+00],\n",
       "        [-4.76278108e+00, -5.90568372e+00, -1.08651545e+01],\n",
       "        [ 1.71811246e+01, -2.27244004e+01,  2.03553249e+01],\n",
       "        [-1.25890459e+01, -2.68213758e+00, -1.62676824e+01],\n",
       "        [ 1.43478889e+01,  3.18793802e+00, -4.24671680e+00],\n",
       "        [ 3.35446161e+00, -7.30764695e-01, -9.24530806e+00],\n",
       "        [ 2.00325094e+01, -1.60271543e+01, -1.67650529e+01],\n",
       "        [ 1.13620608e+01,  9.37712935e-02, -1.91321835e+01],\n",
       "        [ 1.39721073e+01,  1.02028303e+01, -3.29118650e+00],\n",
       "        [ 1.81313358e+01, -4.30686230e+00, -3.68676559e+00],\n",
       "        [ 2.13146576e+01,  4.74806395e+00, -1.13621817e+00],\n",
       "        [ 1.26107642e+01, -7.57515764e+00, -3.43476004e+01],\n",
       "        [ 1.73063347e+00, -7.44074700e+00, -9.96615823e+00],\n",
       "        [ 5.67766570e+00, -1.16710089e+01,  3.90766340e+00],\n",
       "        [ 7.47892503e+00, -8.56739187e+00, -9.62579321e-01],\n",
       "        [ 1.47474226e+01,  4.82692406e+00,  7.41782048e+00],\n",
       "        [ 6.15571446e+00,  4.40762694e+00,  3.70616613e-01],\n",
       "        [ 1.85420481e+01, -2.97965554e+01,  6.97715614e+00],\n",
       "        [ 7.88450244e+00,  1.61742282e+01,  1.27896425e+01],\n",
       "        [-5.87260478e-01,  7.31708932e+00,  8.95166537e+00],\n",
       "        [-1.32033906e+01, -2.10816226e+01,  1.31007466e+01],\n",
       "        [-1.77890651e+01, -1.06606267e+01,  2.14322075e+00],\n",
       "        [ 1.41506492e+01,  8.47272599e+00, -3.34411862e-01],\n",
       "        [ 1.83121630e+01, -7.75531619e-01,  9.46659501e+00],\n",
       "        [ 4.44287645e+00,  9.62847444e+00,  1.00579511e+01],\n",
       "        [ 1.63546423e+00, -2.91295324e+00,  1.26524714e+01],\n",
       "        [ 3.53909208e+01, -4.26280182e+00,  9.05171411e+00],\n",
       "        [ 1.67894215e+01,  1.37014610e+01,  1.45388369e+01],\n",
       "        [ 1.27744414e+01, -6.87468718e-02, -1.11670465e+01],\n",
       "        [ 1.93036420e+01, -1.87516251e+01,  4.24559924e+00],\n",
       "        [ 2.63360099e+01, -1.55222733e+01,  6.00591606e+00],\n",
       "        [ 3.35790007e+00,  1.01254606e+01, -4.73267345e+00],\n",
       "        [ 1.04414875e+00, -1.41312249e+01,  5.44806711e+00],\n",
       "        [ 5.57877105e+00,  9.14207529e-01, -6.04434845e+00],\n",
       "        [ 2.24361244e+01, -7.35264521e+00, -1.60236295e+01],\n",
       "        [ 6.50987156e+00,  2.64095582e+00, -6.19111582e+00],\n",
       "        [ 1.32386562e+00, -4.51382163e+00,  9.71507104e+00],\n",
       "        [ 2.05218733e+01,  3.51475764e+00,  1.95419826e+01],\n",
       "        [-9.53596081e+00, -6.12834073e+00,  2.81557092e+01],\n",
       "        [-2.53569855e+00,  3.56224309e+00, -1.17700589e+01],\n",
       "        [ 3.11299711e+01,  7.47097165e+00,  5.83890556e+00],\n",
       "        [ 3.15808849e+01, -1.63364577e+01, -2.43710428e+00],\n",
       "        [ 7.92042885e+00,  1.23711731e+01, -5.98004163e+00]]),\n",
       " array([[ 0,  0,  0, ...,  3,  3,  1],\n",
       "        [ 0,  1,  1, ...,  3,  0,  1],\n",
       "        [ 0,  0,  1, ...,  0,  1,  1],\n",
       "        ...,\n",
       "        [ 3,  1,  4, ...,  3,  5,  3],\n",
       "        [ 0,  4,  1, ...,  3, 10,  2],\n",
       "        [ 1,  0,  1, ...,  3,  2,  2]], shape=(44, 150)))"
      ]
     },
     "execution_count": 237,
     "metadata": {},
     "output_type": "execute_result"
    }
   ],
   "source": [
    "a"
   ]
  },
  {
   "cell_type": "code",
   "execution_count": null,
   "id": "026ed8db-2ed4-4f3b-958d-a75fbfba3977",
   "metadata": {},
   "outputs": [],
   "source": []
  },
  {
   "cell_type": "code",
   "execution_count": 249,
   "id": "cf299c72-692c-4311-89f0-81945e13139b",
   "metadata": {},
   "outputs": [
    {
     "data": {
      "text/plain": [
       "(44, 3)"
      ]
     },
     "execution_count": 249,
     "metadata": {},
     "output_type": "execute_result"
    }
   ],
   "source": [
    "b = gaussian_filter1d(state_means[trial_no], 7, axis=0)[lt: lt+gt]\n",
    "b.shape"
   ]
  },
  {
   "cell_type": "code",
   "execution_count": 267,
   "id": "ccc783ee-f6ba-49f7-b5cc-c437ad4859d7",
   "metadata": {},
   "outputs": [
    {
     "data": {
      "text/plain": [
       "(116, 3)"
      ]
     },
     "execution_count": 267,
     "metadata": {},
     "output_type": "execute_result"
    }
   ],
   "source": [
    "state_means[trial_no].shape"
   ]
  },
  {
   "cell_type": "code",
   "execution_count": 277,
   "id": "79f753c9-4c80-4c93-9bec-5b1a47671c17",
   "metadata": {},
   "outputs": [
    {
     "data": {
      "text/plain": [
       "(44, 3)"
      ]
     },
     "execution_count": 277,
     "metadata": {},
     "output_type": "execute_result"
    }
   ],
   "source": [
    "a[1].shape"
   ]
  },
  {
   "cell_type": "code",
   "execution_count": 271,
   "id": "87f63c33-a4da-4c3d-aa29-d1b83ca7bec4",
   "metadata": {},
   "outputs": [
    {
     "data": {
      "text/plain": [
       "<matplotlib.collections.PathCollection at 0x7fad20955a50>"
      ]
     },
     "execution_count": 271,
     "metadata": {},
     "output_type": "execute_result"
    },
    {
     "data": {
      "image/png": "[encoded data removed]",
      "text/plain": [
       "<Figure size 640x480 with 1 Axes>"
      ]
     },
     "metadata": {},
     "output_type": "display_data"
    }
   ],
   "source": [
    "b = gaussian_filter1d(state_means[trial_no], 7, axis=0)[lt: lt+gt]\n",
    "p = gaussian_filter1d(a[1], 5, axis=0)\n",
    "plt.plot(p[:, 0], p[:, 1])\n",
    "plt.plot(b[:, 0], b[:, 1])\n",
    "plt.scatter(p[0, 0], p[0, 1])\n",
    "plt.scatter(b[0, 0], b[0, 1])\n",
    "plt.scatter(p[-1, 0], p[-1, 1])\n",
    "plt.scatter(b[-1, 0], b[-1, 1])"
   ]
  },
  {
   "cell_type": "code",
   "execution_count": null,
   "id": "a2610a7a-f966-42c2-9b4f-7afc22a8d377",
   "metadata": {},
   "outputs": [],
   "source": []
  },
  {
   "cell_type": "code",
   "execution_count": 272,
   "id": "946e80db-e5c7-4b67-93e8-c38b548c88bd",
   "metadata": {},
   "outputs": [
    {
     "data": {
      "text/plain": [
       "(116, 3)"
      ]
     },
     "execution_count": 272,
     "metadata": {},
     "output_type": "execute_result"
    }
   ],
   "source": [
    "state_means[trial_no].shape"
   ]
  },
  {
   "cell_type": "code",
   "execution_count": 280,
   "id": "6f69e57b-4d8d-4b54-98dc-e6bd9cc9d2f4",
   "metadata": {},
   "outputs": [
    {
     "data": {
      "text/plain": [
       "<matplotlib.collections.PathCollection at 0x7fac144fe550>"
      ]
     },
     "execution_count": 280,
     "metadata": {},
     "output_type": "execute_result"
    },
    {
     "data": {
      "image/png": "[encoded data removed]",
      "text/plain": [
       "<Figure size 640x480 with 1 Axes>"
      ]
     },
     "metadata": {},
     "output_type": "display_data"
    }
   ],
   "source": [
    "plt.plot(state_means[trial_no][lt:, 0], state_means[trial_no][lt:, 1])\n",
    "plt.plot(a[1][:, 0], a[1][:, 1])\n",
    "plt.scatter(state_means[trial_no][lt, 0], state_means[trial_no][lt, 1], c=\"black\")\n",
    "plt.scatter(state_means[trial_no][-1, 0], state_means[trial_no][-1, 1], c=\"black\")"
   ]
  },
  {
   "cell_type": "code",
   "execution_count": null,
   "id": "af45f571-1cfd-4737-8a44-b364a59808b9",
   "metadata": {},
   "outputs": [],
   "source": []
  },
  {
   "cell_type": "code",
   "execution_count": null,
   "id": "3e892543-bda2-43f0-a4df-b8c56fd6a066",
   "metadata": {},
   "outputs": [],
   "source": []
  },
  {
   "cell_type": "code",
   "execution_count": 241,
   "id": "61eafecc-0e99-4ac4-babe-cabdafccaae6",
   "metadata": {},
   "outputs": [
    {
     "data": {
      "text/plain": [
       "(3, 44)"
      ]
     },
     "execution_count": 241,
     "metadata": {},
     "output_type": "execute_result"
    }
   ],
   "source": [
    "p.shape"
   ]
  },
  {
   "cell_type": "code",
   "execution_count": null,
   "id": "2abea4dc-3e79-4fc0-87cd-6d39a4927c88",
   "metadata": {},
   "outputs": [],
   "source": []
  }
 ],
 "metadata": {
  "kernelspec": {
   "display_name": "Python 3 (ipykernel)",
   "language": "python",
   "name": "python3"
  },
  "language_info": {
   "codemirror_mode": {
    "name": "ipython",
    "version": 3
   },
   "file_extension": ".py",
   "mimetype": "text/x-python",
   "name": "python",
   "nbconvert_exporter": "python",
   "pygments_lexer": "ipython3",
   "version": "3.11.12"
  }
 },
 "nbformat": 4,
 "nbformat_minor": 5
}
