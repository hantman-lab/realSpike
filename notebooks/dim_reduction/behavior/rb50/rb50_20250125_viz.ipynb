{
 "cells": [
  {
   "cell_type": "markdown",
   "id": "6edff486-e69d-4c0a-983d-550d22ed65d1",
   "metadata": {},
   "source": [
    "# Poisson rSLDS \n",
    "## Behaving dataset\n",
    "## Stim is as cue, system should come back to rest before lift \n",
    "## Fitting model from cue to grab, k=3"
   ]
  },
  {
   "cell_type": "code",
   "execution_count": 18,
   "id": "7059a289-cd10-4d0b-b7fb-62391da64bf4",
   "metadata": {},
   "outputs": [],
   "source": [
    "import ssm\n",
    "from pathlib import Path\n",
    "from scipy.io import loadmat\n",
    "import numpy as np\n",
    "import matplotlib.pyplot as plt\n",
    "from tqdm import tqdm\n",
    "from real_spike.utils import *\n",
    "\n",
    "from scipy.ndimage import gaussian_filter1d\n",
    "\n",
    "import random\n",
    "import h5py\n",
    "\n",
    "import fastplotlib as fpl\n",
    "\n",
    "%matplotlib inline"
   ]
  },
  {
   "cell_type": "code",
   "execution_count": 2,
   "id": "4f6dbe06-d3ba-421b-aa6c-c270bbd1c1b1",
   "metadata": {},
   "outputs": [],
   "source": [
    "path = f\"/home/clewis/repos/realSpike/data/behavior/rb50_20250125/\""
   ]
  },
  {
   "cell_type": "code",
   "execution_count": 3,
   "id": "1d6db349-793a-4d59-a7ca-f0474b2fe5b2",
   "metadata": {},
   "outputs": [],
   "source": [
    "video_path =  Path(\"/home/clewis/wasabi/reaganbullins2/ProjectionProject/rb50/20250125/videos/\")"
   ]
  },
  {
   "cell_type": "markdown",
   "id": "8a7b2594-1aac-43fe-a5f6-a473249b6d60",
   "metadata": {},
   "source": [
    "# Get data"
   ]
  },
  {
   "cell_type": "code",
   "execution_count": 4,
   "id": "37c5d4af-c98c-48f9-9ca9-f1f78bd076c7",
   "metadata": {},
   "outputs": [
    {
     "name": "stdout",
     "output_type": "stream",
     "text": [
      "<KeysViewHDF5 ['aligned_cue_rec_time', 'aligned_laser_rec_time', 'any', 'chan_spk', 'cue', 'cue_rec_time', 'cue_trial_time', 'depth_spk', 'field_id', 'field_size', 'full_field', 'grab', 'grab_ms', 'laser', 'laser_rec_time', 'laser_trial_time', 'lift', 'lift_ms', 'lift_rec_time', 'mouth', 'mouth_ms', 'no_success', 'pattern_fill', 'pattern_id', 'pattern_xy', 'plift', 'plift_ms', 'single', 'spikes_raw_cue', 'spikes_raw_cue_extended', 'spikes_raw_laser', 'spikes_raw_lift', 'totTime', 'trial_start']>\n"
     ]
    }
   ],
   "source": [
    "f = h5py.File(\"/home/clewis/wasabi/reaganbullins2/ProjectionProject/rb50/20250125/MAT_FILES/rb50_20250125_datastruct_pt3.mat\", 'r')\n",
    "data = f['data']\n",
    "print(data.keys())"
   ]
  },
  {
   "cell_type": "code",
   "execution_count": null,
   "id": "545094f1-9235-4e8a-8321-fd9c25f5a7e5",
   "metadata": {},
   "outputs": [],
   "source": []
  },
  {
   "cell_type": "markdown",
   "id": "86708f48-a402-43c2-9031-5a38a43c8e3c",
   "metadata": {},
   "source": [
    "# Plot the patterns"
   ]
  },
  {
   "cell_type": "code",
   "execution_count": 5,
   "id": "3feabc53-5a60-419e-8981-a08004f82127",
   "metadata": {},
   "outputs": [
    {
     "data": {
      "text/plain": [
       "30"
      ]
     },
     "execution_count": 5,
     "metadata": {},
     "output_type": "execute_result"
    }
   ],
   "source": [
    "# visualize the patterns again\n",
    "pattern_ids = list(np.unique(data['pattern_id'][:]))\n",
    "len(pattern_ids)"
   ]
  },
  {
   "cell_type": "code",
   "execution_count": 6,
   "id": "3aac36d1-ba12-4e60-9da2-69ce47feaf22",
   "metadata": {},
   "outputs": [],
   "source": [
    "from scipy.ndimage import zoom"
   ]
  },
  {
   "cell_type": "code",
   "execution_count": 7,
   "id": "ffb3ffdb-13d1-4d4b-b3d9-a26fffee1ca0",
   "metadata": {},
   "outputs": [],
   "source": [
    "reshape_size = 12"
   ]
  },
  {
   "cell_type": "code",
   "execution_count": null,
   "id": "f0e63ab7-383b-4001-85a4-c69853c382ab",
   "metadata": {},
   "outputs": [],
   "source": []
  },
  {
   "cell_type": "code",
   "execution_count": 8,
   "id": "94f6869d-f1a6-4e08-977d-383aef03a65e",
   "metadata": {},
   "outputs": [],
   "source": [
    "all_patterns = list()\n",
    "\n",
    "for p_id in pattern_ids[3:]:\n",
    "    ix = np.where(data['pattern_id'][:] == p_id)[1][0].astype(np.int32)\n",
    "    pattern = np.zeros((data['pattern_xy'][0][ix].astype(np.int32), data['pattern_xy'][1][ix].astype(np.int32)))\n",
    "    # use the pattern fill to set elements to one\n",
    "    object_ref = f[data['pattern_fill'][ix, 0]]\n",
    "    for x, y in zip(object_ref[0, :], object_ref[1, :]):\n",
    "        pattern[x.astype(np.int32)-1, y.astype(np.int32)-1] = 1\n",
    "\n",
    "    pattern = zoom(pattern, (reshape_size / pattern.shape[0], reshape_size / pattern.shape[1]), order=0)\n",
    "\n",
    "    all_patterns.append(pattern)\n"
   ]
  },
  {
   "cell_type": "code",
   "execution_count": 9,
   "id": "e3ccf6ca-313c-4b24-a7ad-07e3743d4bac",
   "metadata": {},
   "outputs": [
    {
     "data": {
      "text/plain": [
       "27"
      ]
     },
     "execution_count": 9,
     "metadata": {},
     "output_type": "execute_result"
    }
   ],
   "source": [
    "len(all_patterns)"
   ]
  },
  {
   "cell_type": "code",
   "execution_count": null,
   "id": "7591986d-f7c2-4df1-8134-10e574d47a22",
   "metadata": {},
   "outputs": [],
   "source": []
  },
  {
   "cell_type": "code",
   "execution_count": null,
   "id": "11ac9958-ca37-470c-b258-9776259518c2",
   "metadata": {},
   "outputs": [],
   "source": []
  },
  {
   "cell_type": "markdown",
   "id": "57141080-330c-4874-b249-81e0f6263fae",
   "metadata": {},
   "source": [
    "# Get single-reach trials"
   ]
  },
  {
   "cell_type": "code",
   "execution_count": 10,
   "id": "ee38b4de-1def-4750-b27e-f5866bc06ecb",
   "metadata": {},
   "outputs": [],
   "source": [
    "stim_idxs = np.where(data[\"pattern_id\"][:] > 2)[1]\n",
    "single_reach_idxs = np.where(data[\"single\"][:, 0] == 1)"
   ]
  },
  {
   "cell_type": "code",
   "execution_count": 11,
   "id": "587990aa-24a1-45e9-afc5-df98ef6e592a",
   "metadata": {},
   "outputs": [
    {
     "data": {
      "text/plain": [
       "array([ 18,  20,  23,  32,  37,  40,  42,  48,  55,  56,  60,  61,  67,\n",
       "        68,  70,  78,  83,  86,  97, 101, 103, 106, 118, 121, 128, 131])"
      ]
     },
     "execution_count": 11,
     "metadata": {},
     "output_type": "execute_result"
    }
   ],
   "source": [
    "# get no laser trials\n",
    "behavior_idxs = np.intersect1d(stim_idxs, single_reach_idxs)\n",
    "behavior_idxs"
   ]
  },
  {
   "cell_type": "code",
   "execution_count": 12,
   "id": "9686659c-f128-4a1d-be17-a96531e8fb1b",
   "metadata": {},
   "outputs": [
    {
     "data": {
      "text/plain": [
       "(26,)"
      ]
     },
     "execution_count": 12,
     "metadata": {},
     "output_type": "execute_result"
    }
   ],
   "source": [
    "behavior_idxs.shape"
   ]
  },
  {
   "cell_type": "code",
   "execution_count": null,
   "id": "b0acac40-f1ff-4d33-a8aa-6030e0f55d57",
   "metadata": {},
   "outputs": [],
   "source": []
  },
  {
   "cell_type": "markdown",
   "id": "52ae2d89-93a0-417f-8f39-68795ab5a5b4",
   "metadata": {},
   "source": [
    "## Get relevant time information"
   ]
  },
  {
   "cell_type": "code",
   "execution_count": 17,
   "id": "386e979e-9792-4e9f-837b-b30f4c69a70c",
   "metadata": {},
   "outputs": [
    {
     "data": {
      "text/plain": [
       "((26, 1), (26, 1), (26, 1))"
      ]
     },
     "execution_count": 17,
     "metadata": {},
     "output_type": "execute_result"
    }
   ],
   "source": [
    "cue_times = data[\"aligned_cue_rec_time\"][behavior_idxs, :]\n",
    "lift_times = data[\"lift_ms\"][behavior_idxs, :]\n",
    "grab_times = data[\"mouth_ms\"][behavior_idxs, :]\n",
    "(cue_times.shape, lift_times.shape, grab_times.shape)"
   ]
  },
  {
   "cell_type": "code",
   "execution_count": null,
   "id": "ad97f548-1318-4a59-93a1-77c0fb0b6cfb",
   "metadata": {},
   "outputs": [],
   "source": []
  },
  {
   "cell_type": "code",
   "execution_count": null,
   "id": "fa82d496-ab29-41ca-8ab5-a08dbade81d6",
   "metadata": {},
   "outputs": [],
   "source": []
  },
  {
   "cell_type": "markdown",
   "id": "a344751d-1d06-445e-806c-b481d1402309",
   "metadata": {},
   "source": [
    "## Get the AP.bin file"
   ]
  },
  {
   "cell_type": "code",
   "execution_count": 19,
   "id": "6811b68a-8530-4fd4-8dec-0c87e7b14ab5",
   "metadata": {},
   "outputs": [],
   "source": [
    "file_path = Path(\"/home/clewis/wasabi/reaganbullins2/ProjectionProject/rb50/20250125/rb50_20250125_g0/rb50_20250125_g0_t0.imec0.ap.bin\")\n",
    "meta_path = Path(\"/home/clewis/wasabi/reaganbullins2/ProjectionProject/rb50/20250125/rb50_20250125_g0/rb50_20250125_g0_t0.imec0.ap.meta\")"
   ]
  },
  {
   "cell_type": "code",
   "execution_count": 20,
   "id": "961fda92-b8c2-41e9-a295-d1ae578c7788",
   "metadata": {},
   "outputs": [],
   "source": [
    "meta_data = get_meta(meta_path)"
   ]
  },
  {
   "cell_type": "code",
   "execution_count": 21,
   "id": "08f7acf3-5aaa-49fe-a254-931688032a4f",
   "metadata": {},
   "outputs": [
    {
     "data": {
      "text/plain": [
       "(385, 164723792)"
      ]
     },
     "execution_count": 21,
     "metadata": {},
     "output_type": "execute_result"
    }
   ],
   "source": [
    "ap_data = get_sample_data(file_path, meta_data)\n",
    "ap_data.shape"
   ]
  },
  {
   "cell_type": "code",
   "execution_count": null,
   "id": "68d1c941-7c6e-40e1-b0cc-ef9cea7ef30c",
   "metadata": {},
   "outputs": [],
   "source": []
  },
  {
   "cell_type": "markdown",
   "id": "890106c1-39f3-445f-b6ed-c3dd99ca1659",
   "metadata": {},
   "source": [
    "## Get conversion params"
   ]
  },
  {
   "cell_type": "code",
   "execution_count": 26,
   "id": "bff19b48-caa4-4b65-9687-594ef64fa7b9",
   "metadata": {},
   "outputs": [
    {
     "data": {
      "text/plain": [
       "(0.6, 512.0, 500.0)"
      ]
     },
     "execution_count": 26,
     "metadata": {},
     "output_type": "execute_result"
    }
   ],
   "source": [
    "vmax = float(meta_data[\"imAiRangeMax\"])\n",
    "# get Imax\n",
    "imax = float(meta_data[\"imMaxInt\"])\n",
    "# get gain\n",
    "gain = float(meta_data['imroTbl'].split(sep=')')[1].split(sep=' ')[3])\n",
    "\n",
    "(vmax, imax, gain)"
   ]
  },
  {
   "cell_type": "code",
   "execution_count": null,
   "id": "ca62b13c-c040-482f-a305-e1b3f45e1dc9",
   "metadata": {},
   "outputs": [],
   "source": []
  },
  {
   "cell_type": "markdown",
   "id": "fbeb8c86-4544-4d1e-a871-37522a33e943",
   "metadata": {},
   "source": [
    "# Get the model data"
   ]
  },
  {
   "cell_type": "code",
   "execution_count": null,
   "id": "7ca83f07-33fe-46d8-9a79-493610b221ae",
   "metadata": {},
   "outputs": [],
   "source": []
  },
  {
   "cell_type": "code",
   "execution_count": 27,
   "id": "f7ddffd0-86e9-4131-8ff3-acbe6085d973",
   "metadata": {},
   "outputs": [],
   "source": [
    "def get_trials(idxs, bin_size):\n",
    "    \n",
    "    model_data = list()\n",
    "    \n",
    "    for i in tqdm(range(len(idxs))):\n",
    "        # 50 ms before cue\n",
    "        cue_time = int((cue_times[i, 0] - 50) / 1_000 * 30_000)\n",
    "\n",
    "        # end at grab \n",
    "        end_behavior = int((cue_times[i, 0] + grab_times[i, 0]) / 1_000 * 30_000)\n",
    "\n",
    "        \n",
    "        trial = ap_data[:150, cue_time:end_behavior]\n",
    "    \n",
    "        # convert to microvolts\n",
    "        conv_data = 1e6 * trial / vmax / imax / gain\n",
    "        # high pass filter \n",
    "        filt_data = butter_filter(conv_data, 1_000, 30_000)\n",
    "\n",
    "        # get 1 second before the median \n",
    "        m_start = cue_time - (30 * 1000)\n",
    "        # convert to microvolts, high pass filter\n",
    "        trial_median = ap_data[:150, m_start:cue_time]\n",
    "        trial_median = 1e6 * trial_median / vmax / imax / gain\n",
    "        trial_median = butter_filter(trial_median, 1_000, 30_000)\n",
    "        \n",
    "        # calculate the median\n",
    "        median = np.median(trial_median, axis=1)\n",
    "\n",
    "        # get spike times\n",
    "        spike_ixs, counts = get_spike_events(filt_data, median)\n",
    "        \n",
    "        a = np.zeros((filt_data.shape[0], filt_data.shape[1]))\n",
    "    \n",
    "        for i, sc in enumerate(spike_ixs):\n",
    "            a[i, sc] = 1\n",
    "    \n",
    "        b = bin_size * 30 # 30ms per bin\n",
    "        binned_spikes = bin_spikes(a, b)\n",
    "\n",
    "        model_data.append(np.asarray(binned_spikes.T, dtype=int))\n",
    "\n",
    "    return model_data"
   ]
  },
  {
   "cell_type": "code",
   "execution_count": 28,
   "id": "e77271fb-bd3d-4c51-94fb-eee900e38dc3",
   "metadata": {},
   "outputs": [],
   "source": [
    "bin_size = 5"
   ]
  },
  {
   "cell_type": "code",
   "execution_count": 29,
   "id": "2c89ebbc-a426-4002-8b24-aa3fc3e7eb73",
   "metadata": {},
   "outputs": [
    {
     "name": "stderr",
     "output_type": "stream",
     "text": [
      "100%|██████████████████████████████████████████████████████████████████████████| 26/26 [02:27<00:00,  5.66s/it]\n"
     ]
    }
   ],
   "source": [
    "model_data = get_trials(behavior_idxs, bin_size)"
   ]
  },
  {
   "cell_type": "code",
   "execution_count": 30,
   "id": "96b9385e-d9ed-49c8-bb64-b460c8e016a2",
   "metadata": {},
   "outputs": [
    {
     "data": {
      "text/plain": [
       "(116, 150)"
      ]
     },
     "execution_count": 30,
     "metadata": {},
     "output_type": "execute_result"
    }
   ],
   "source": [
    "model_data[0].shape"
   ]
  },
  {
   "cell_type": "code",
   "execution_count": 32,
   "id": "0aad3975-a385-421c-9f81-3239aa815563",
   "metadata": {},
   "outputs": [
    {
     "data": {
      "text/plain": [
       "(72, 115)"
      ]
     },
     "execution_count": 32,
     "metadata": {},
     "output_type": "execute_result"
    }
   ],
   "source": [
    "# taking 50ms before cue, need to shift\n",
    "cue = int(50 / bin_size)\n",
    "\n",
    "lift = int(lift_times[0, 0] / bin_size) + cue\n",
    "\n",
    "grab = int(grab_times[0, 0] / bin_size) + cue - 1\n",
    "\n",
    "(lift, grab)"
   ]
  },
  {
   "cell_type": "markdown",
   "id": "1ab5e6cd-0e4b-4273-a927-49250e705fe4",
   "metadata": {},
   "source": [
    "### Sanity check the time points"
   ]
  },
  {
   "cell_type": "code",
   "execution_count": 33,
   "id": "a48ee8b6-7892-4839-a9ff-010e25f49d33",
   "metadata": {},
   "outputs": [
    {
     "data": {
      "text/plain": [
       "<matplotlib.lines.Line2D at 0x7f0ca3a9dd10>"
      ]
     },
     "execution_count": 33,
     "metadata": {},
     "output_type": "execute_result"
    },
    {
     "data": {
      "image/png": "[encoded data removed]",
      "text/plain": [
       "<Figure size 400x517.241 with 1 Axes>"
      ]
     },
     "metadata": {},
     "output_type": "display_data"
    }
   ],
   "source": [
    "plt.matshow(model_data[0].T)\n",
    "plt.axvline(cue, c=\"red\", linestyle=\"--\", lw=1)\n",
    "plt.axvline(lift, c=\"red\", linestyle=\"--\")\n",
    "plt.axvline(grab, c=\"red\", linestyle=\"--\")"
   ]
  },
  {
   "cell_type": "code",
   "execution_count": null,
   "id": "eab4115e-7fb2-4e57-93cd-7f7b13ae79dd",
   "metadata": {},
   "outputs": [],
   "source": []
  },
  {
   "cell_type": "markdown",
   "id": "38e3fa20-c06b-480c-9a00-8af10932fe93",
   "metadata": {},
   "source": [
    "# Design the input matrix"
   ]
  },
  {
   "cell_type": "code",
   "execution_count": 34,
   "id": "d3be208b-3ea0-47bd-bd83-46d8ec9c3912",
   "metadata": {},
   "outputs": [
    {
     "data": {
      "text/plain": [
       "array([14., 17., 20.])"
      ]
     },
     "execution_count": 34,
     "metadata": {},
     "output_type": "execute_result"
    }
   ],
   "source": [
    "p_ids = np.unique(data[\"pattern_id\"][0, behavior_idxs])\n",
    "\n",
    "p_ids"
   ]
  },
  {
   "cell_type": "code",
   "execution_count": null,
   "id": "69e4716a-d75b-475e-92a3-945ce1212a4a",
   "metadata": {},
   "outputs": [],
   "source": []
  },
  {
   "cell_type": "markdown",
   "id": "96ca0c96-2108-4412-87f0-1dcc38df5e90",
   "metadata": {},
   "source": [
    "## Get colors for plotting"
   ]
  },
  {
   "cell_type": "code",
   "execution_count": 56,
   "id": "bae27d21-0ddc-48b5-b6cd-256ef222e43f",
   "metadata": {},
   "outputs": [],
   "source": [
    "c = {\n",
    "    14: \"blue\",\n",
    "    17: \"orange\",\n",
    "    20: \"green\"\n",
    "}"
   ]
  },
  {
   "cell_type": "code",
   "execution_count": 57,
   "id": "7d31035a-682e-4d36-983d-e38e62787394",
   "metadata": {},
   "outputs": [
    {
     "data": {
      "text/plain": [
       "3"
      ]
     },
     "execution_count": 57,
     "metadata": {},
     "output_type": "execute_result"
    }
   ],
   "source": [
    "len(c)"
   ]
  },
  {
   "cell_type": "code",
   "execution_count": 58,
   "id": "e6e13e66-0858-4f91-8c3f-af5e6e97311e",
   "metadata": {},
   "outputs": [
    {
     "data": {
      "text/plain": [
       "<matplotlib.image.AxesImage at 0x7f0c8c92fd50>"
      ]
     },
     "execution_count": 58,
     "metadata": {},
     "output_type": "execute_result"
    },
    {
     "data": {
      "image/png": "[encoded data removed]",
      "text/plain": [
       "<Figure size 640x480 with 1 Axes>"
      ]
     },
     "metadata": {},
     "output_type": "display_data"
    }
   ],
   "source": [
    "from matplotlib.colors import ListedColormap\n",
    "\n",
    "cmap = ListedColormap(c.values())\n",
    "\n",
    "plt.imshow(np.arange(len(c)).reshape(1,-1), aspect=\"auto\", cmap=cmap)"
   ]
  },
  {
   "cell_type": "markdown",
   "id": "3795b001-58ee-4f85-bf8d-4e027bfa12f1",
   "metadata": {},
   "source": [
    "# Create encodings "
   ]
  },
  {
   "cell_type": "code",
   "execution_count": 54,
   "id": "a8074dfd-4f55-4d56-b3bd-1be22e1b337b",
   "metadata": {},
   "outputs": [],
   "source": [
    "import math"
   ]
  },
  {
   "cell_type": "code",
   "execution_count": 63,
   "id": "f1a02737-e0c1-4a19-9142-75a1cd99ac3a",
   "metadata": {},
   "outputs": [],
   "source": [
    "inputs = list()\n",
    "colors = list()\n",
    "for i, d in zip(stim_idxs, model_data):\n",
    "    # get the pattern id \n",
    "    p_id = int(data[\"pattern_id\"][0][i]) - 3\n",
    "\n",
    "    colors.append(c[p_id + 3])\n",
    "\n",
    "    encoding = all_patterns[p_id].ravel() \n",
    "\n",
    "    # stack the encoding for every timepoint (each bin)\n",
    "    nput = np.zeros((d.shape[0], reshape_size**2))\n",
    "\n",
    "    for z in range(math.ceil(5 / bin_size)):\n",
    "        nput[int(50 / bin_size) + z] = encoding\n",
    "\n",
    "    inputs.append(nput)"
   ]
  },
  {
   "cell_type": "code",
   "execution_count": 64,
   "id": "f8bccc74-5025-417f-aa5e-b094b2e81c6f",
   "metadata": {},
   "outputs": [
    {
     "data": {
      "image/png": "[encoded data removed]",
      "text/plain": [
       "<Figure size 640x480 with 1 Axes>"
      ]
     },
     "metadata": {},
     "output_type": "display_data"
    }
   ],
   "source": [
    "plt.imshow(inputs[0].T, cmap=\"binary\")\n",
    "plt.title(\"Pattern Encoding\")\n",
    "plt.xlabel(\"Bins\")\n",
    "plt.ylabel(\"Pixel Location\")\n",
    "plt.show()"
   ]
  },
  {
   "cell_type": "code",
   "execution_count": null,
   "id": "d018a252-c149-402a-b855-deef2b7d5ebb",
   "metadata": {},
   "outputs": [],
   "source": []
  },
  {
   "cell_type": "code",
   "execution_count": null,
   "id": "b82a7849-23d3-4cff-90aa-f5a7dade91e4",
   "metadata": {},
   "outputs": [],
   "source": []
  },
  {
   "cell_type": "markdown",
   "id": "cdb7bf07-6ea7-4400-a874-39e0dfb78395",
   "metadata": {},
   "source": [
    "# Fit the model"
   ]
  },
  {
   "cell_type": "code",
   "execution_count": 65,
   "id": "b2cc4417-ac74-41ee-b6dd-553ee12b161d",
   "metadata": {},
   "outputs": [
    {
     "data": {
      "application/vnd.jupyter.widget-view+json": {
       "model_id": "544620107ae5415e88733dfff368c489",
       "version_major": 2,
       "version_minor": 0
      },
      "text/plain": [
       "  0%|          | 0/1 [00:00<?, ?it/s]"
      ]
     },
     "metadata": {},
     "output_type": "display_data"
    },
    {
     "name": "stdout",
     "output_type": "stream",
     "text": [
      "Initializing with an ARHMM using 25 steps of EM.\n"
     ]
    },
    {
     "data": {
      "application/vnd.jupyter.widget-view+json": {
       "model_id": "bf634cd30632437b9f8c4d1407c192b3",
       "version_major": 2,
       "version_minor": 0
      },
      "text/plain": [
       "  0%|          | 0/25 [00:00<?, ?it/s]"
      ]
     },
     "metadata": {},
     "output_type": "display_data"
    },
    {
     "data": {
      "application/vnd.jupyter.widget-view+json": {
       "model_id": "c5a18a5719ed41bdb06ecec3817ee382",
       "version_major": 2,
       "version_minor": 0
      },
      "text/plain": [
       "  0%|          | 0/5 [00:00<?, ?it/s]"
      ]
     },
     "metadata": {},
     "output_type": "display_data"
    }
   ],
   "source": [
    "state_dim = 3\n",
    "obs_dim = model_data[0].shape[1] \n",
    "\n",
    "plds = ssm.SLDS(N=obs_dim, \n",
    "                K=2, \n",
    "                D=state_dim, \n",
    "                M=144, \n",
    "                emissions=\"poisson\", \n",
    "                emission_kwargs=dict(link=\"softplus\"),\n",
    "                dynamics=\"diagonal_gaussian\",\n",
    "                transitions=\"recurrent\"\n",
    "               )\n",
    "\n",
    "elbos, q = plds.fit(model_data, inputs=inputs, method=\"laplace_em\", num_iters=5)"
   ]
  },
  {
   "cell_type": "code",
   "execution_count": null,
   "id": "599e7fa4-a88f-49ad-a470-2ef4d50f36ea",
   "metadata": {},
   "outputs": [],
   "source": []
  },
  {
   "cell_type": "code",
   "execution_count": null,
   "id": "22e1fa01-21ae-4115-a1d1-05cd4576ca6f",
   "metadata": {},
   "outputs": [],
   "source": []
  },
  {
   "cell_type": "code",
   "execution_count": 67,
   "id": "9fe5884e-d131-46cf-869b-33cb26edd257",
   "metadata": {},
   "outputs": [
    {
     "data": {
      "text/plain": [
       "26"
      ]
     },
     "execution_count": 67,
     "metadata": {},
     "output_type": "execute_result"
    }
   ],
   "source": [
    "state_means = q.mean_continuous_states\n",
    "len(state_means)"
   ]
  },
  {
   "cell_type": "code",
   "execution_count": null,
   "id": "7d44a34a-3b70-4dfe-ac08-89b86be8423f",
   "metadata": {},
   "outputs": [],
   "source": [
    "# view a single trial\n",
    "    # behavior (front and side) \n",
    "    # mean continuous state \n",
    "    # sampled mean continuous state \n",
    "    # heatmap of the binned spikes with linear selector \n",
    "    # synchronised with a slider \n",
    "# easy way to switch between trials"
   ]
  },
  {
   "cell_type": "code",
   "execution_count": null,
   "id": "de16cfe1-0306-4834-90e2-f88a32f86d0f",
   "metadata": {},
   "outputs": [],
   "source": [
    "# view all the trials \n",
    "    # somehow the sampling should make it smoother? \n",
    "    "
   ]
  },
  {
   "cell_type": "code",
   "execution_count": null,
   "id": "8136cfab-a942-4c7f-a88a-69355a56e11e",
   "metadata": {},
   "outputs": [],
   "source": []
  },
  {
   "cell_type": "code",
   "execution_count": null,
   "id": "ad1a2ad0-103e-41d9-ad7e-d662cf954aa4",
   "metadata": {},
   "outputs": [],
   "source": []
  },
  {
   "cell_type": "code",
   "execution_count": null,
   "id": "6b024476-6121-4e41-8461-56eb360e36f4",
   "metadata": {},
   "outputs": [],
   "source": []
  },
  {
   "cell_type": "code",
   "execution_count": 68,
   "id": "c7def358-87ad-48e8-9112-2d588be0beaf",
   "metadata": {},
   "outputs": [
    {
     "data": {
      "text/plain": [
       "72"
      ]
     },
     "execution_count": 68,
     "metadata": {},
     "output_type": "execute_result"
    }
   ],
   "source": [
    "lt = int(lift_times[0, 0] / bin_size) + 10\n",
    "lt"
   ]
  },
  {
   "cell_type": "code",
   "execution_count": 69,
   "id": "e2f35e87-7a69-41b8-b340-554f331a76d7",
   "metadata": {},
   "outputs": [
    {
     "data": {
      "text/plain": [
       "(26, 1)"
      ]
     },
     "execution_count": 69,
     "metadata": {},
     "output_type": "execute_result"
    }
   ],
   "source": [
    "lift_times.shape"
   ]
  },
  {
   "cell_type": "code",
   "execution_count": 70,
   "id": "ac2b9f22-1de9-48af-b2e8-c0e4ed5d3150",
   "metadata": {},
   "outputs": [],
   "source": [
    "gt = int(grab_times[0, 0] / bin_size) + 10 - lt"
   ]
  },
  {
   "cell_type": "code",
   "execution_count": 71,
   "id": "b999f2e5-0ab7-4f87-8425-f5a481b8e27a",
   "metadata": {},
   "outputs": [
    {
     "data": {
      "text/plain": [
       "44"
      ]
     },
     "execution_count": 71,
     "metadata": {},
     "output_type": "execute_result"
    }
   ],
   "source": [
    "gt"
   ]
  },
  {
   "cell_type": "code",
   "execution_count": 74,
   "id": "32a60918-6889-4067-bcfb-d1b7f3e5d310",
   "metadata": {},
   "outputs": [
    {
     "data": {
      "text/plain": [
       "array([0, 0, 0, 0, 0, 0, 0, 0, 0, 0, 0, 0, 0, 0, 0, 0, 0, 0, 0, 0, 0, 0,\n",
       "       0, 0, 0, 0, 0, 0, 0, 0, 0, 0, 0, 0, 0, 0, 0, 0, 0, 0, 1, 1, 1, 1,\n",
       "       1, 1, 1, 1, 1, 1, 1, 1, 1, 1, 1, 1, 1, 1, 1, 1, 1, 1, 1, 1, 1, 1,\n",
       "       1, 1, 1, 1, 1, 1, 1, 1, 1, 1, 1, 1, 1, 1, 1, 1, 1, 1, 1, 1, 1, 1,\n",
       "       1, 1, 1, 1, 1, 1, 1, 1, 1, 1, 1, 1, 1, 1, 1, 1, 1, 1, 1, 1, 1, 1,\n",
       "       1, 1, 1, 1, 1, 1])"
      ]
     },
     "execution_count": 74,
     "metadata": {},
     "output_type": "execute_result"
    }
   ],
   "source": []
  },
  {
   "cell_type": "code",
   "execution_count": 78,
   "id": "8a0f36d2-92d6-4604-a4de-f5ae1e8a9ecd",
   "metadata": {},
   "outputs": [
    {
     "data": {
      "text/plain": [
       "np.int64(1)"
      ]
     },
     "execution_count": 78,
     "metadata": {},
     "output_type": "execute_result"
    }
   ],
   "source": [
    "zhist = plds.most_likely_states(state_means[0], model_data[0], inputs[0])[lt]\n",
    "zhist"
   ]
  },
  {
   "cell_type": "code",
   "execution_count": 79,
   "id": "63bde289-bf9c-40bf-bc06-e00acf85ef47",
   "metadata": {},
   "outputs": [
    {
     "data": {
      "text/plain": [
       "array([ -1.18018478,   6.41884212, -31.18549021])"
      ]
     },
     "execution_count": 79,
     "metadata": {},
     "output_type": "execute_result"
    }
   ],
   "source": [
    "xhist = state_means[0][lt, :]\n",
    "xhist"
   ]
  },
  {
   "cell_type": "code",
   "execution_count": 80,
   "id": "c9a1cbd1-8bea-4f62-b2b9-7b9d64c7e025",
   "metadata": {},
   "outputs": [
    {
     "data": {
      "text/plain": [
       "array([[ 2,  1,  2,  1,  0,  2,  0,  0,  1,  0,  2,  1,  1,  2,  0,  4,\n",
       "         1,  1,  0,  1,  0,  0,  2,  1,  0,  1,  1,  2,  0,  1,  3,  0,\n",
       "         4,  1,  1,  3,  2,  9,  0,  6,  4,  4,  5,  1,  1,  0,  4,  2,\n",
       "         0,  1,  0,  1,  1,  0,  0,  0,  0,  0,  0,  0,  0,  3,  0,  1,\n",
       "         0,  0,  3,  0,  3,  2,  7,  5,  2,  3,  1,  9,  1,  2,  2,  6,\n",
       "         0,  4,  0,  3,  3,  2,  2,  9, 10,  8, 13,  6,  7,  4,  7,  5,\n",
       "         3, 10, 11,  7, 15,  7, 18,  9, 11,  4, 14, 14,  8,  6,  5,  0,\n",
       "         3,  1,  3,  5,  3,  3,  1,  2,  0,  0,  0,  0,  2,  0,  4,  0,\n",
       "         1,  6,  1,  0,  0,  1,  1,  6,  1,  5,  3,  0,  0,  3,  1,  0,\n",
       "         0,  1,  0,  1,  0,  0]])"
      ]
     },
     "execution_count": 80,
     "metadata": {},
     "output_type": "execute_result"
    }
   ],
   "source": [
    "yhist = model_data[0][lt].reshape(1, 150)\n",
    "yhist"
   ]
  },
  {
   "cell_type": "code",
   "execution_count": 81,
   "id": "6978b0eb-c23b-4ac3-ae68-d985e2aa7ffa",
   "metadata": {},
   "outputs": [
    {
     "data": {
      "text/plain": [
       "array([1, 0, 0, 0, 0, 0])"
      ]
     },
     "execution_count": 81,
     "metadata": {},
     "output_type": "execute_result"
    }
   ],
   "source": [
    "np.concatenate(([zhist], np.zeros(5, dtype=int)))"
   ]
  },
  {
   "cell_type": "code",
   "execution_count": 82,
   "id": "7dc817d3-b33b-4bd2-8f8e-7abe53319635",
   "metadata": {},
   "outputs": [
    {
     "data": {
      "text/plain": [
       "(3,)"
      ]
     },
     "execution_count": 82,
     "metadata": {},
     "output_type": "execute_result"
    }
   ],
   "source": [
    "xhist.shape"
   ]
  },
  {
   "cell_type": "code",
   "execution_count": 83,
   "id": "419f9387-7c95-4b8d-a4db-e596d6d0067b",
   "metadata": {},
   "outputs": [
    {
     "data": {
      "text/plain": [
       "3"
      ]
     },
     "execution_count": 83,
     "metadata": {},
     "output_type": "execute_result"
    }
   ],
   "source": [
    "plds.D"
   ]
  },
  {
   "cell_type": "code",
   "execution_count": 97,
   "id": "55af78fa-5a6b-41ae-bcf8-19118ad5c508",
   "metadata": {},
   "outputs": [],
   "source": [
    "a = plds.sample(gt, prefix=[zhist, xhist.reshape(1,3), yhist], with_noise=True)"
   ]
  },
  {
   "cell_type": "code",
   "execution_count": 98,
   "id": "77d5a893-947d-4569-8d58-4c08e6167d2e",
   "metadata": {},
   "outputs": [
    {
     "data": {
      "text/plain": [
       "(array([1, 1, 1, 1, 1, 1, 1, 1, 1, 1, 1, 1, 1, 1, 1, 1, 1, 1, 1, 1, 1, 1,\n",
       "        1, 1, 1, 1, 1, 1, 1, 1, 1, 1, 1, 1, 1, 1, 1, 1, 1, 1, 1, 1, 1, 1]),\n",
       " array([[ -0.90188097, -24.8221331 , -14.83866122],\n",
       "        [ 24.99227669, -16.90369102,  -0.54695451],\n",
       "        [ 11.07567692, -27.81191193,   0.59533572],\n",
       "        [ -2.12381459,  -6.28474079, -16.70878882],\n",
       "        [-15.7741014 ,   2.65473398,  -6.64659692],\n",
       "        [ 26.12095472,   7.54069755,   3.12872777],\n",
       "        [ 11.60822955, -16.63907824,  -7.11150998],\n",
       "        [ 13.1403992 ,   2.49122148,   7.44860911],\n",
       "        [ 24.73104225, -10.78182651,   8.17162434],\n",
       "        [ -8.3972603 , -24.4269495 ,  -2.91211474],\n",
       "        [ 24.2632515 , -17.07204242,  -1.51882   ],\n",
       "        [  2.10352408,  -4.50039415, -23.20050969],\n",
       "        [ 33.19266444, -31.33821406,  20.67261345],\n",
       "        [ 14.10261987, -25.8006393 ,  11.23623752],\n",
       "        [-12.73112022,   3.56224602,   3.35617425],\n",
       "        [ 13.29766909, -20.92990608, -13.14593908],\n",
       "        [  9.82811119, -21.51147238,  -4.30600613],\n",
       "        [ -3.41860091, -26.39413824,  -6.7183926 ],\n",
       "        [  1.35903455, -18.52221817, -17.65387366],\n",
       "        [ 31.09393292,  -4.83435448,  -9.48263411],\n",
       "        [ 24.78273968,   3.42764437,  -3.96003398],\n",
       "        [  4.55531357,  -4.89924872, -16.36310791],\n",
       "        [  3.56565014,  -0.72009163,   2.88621761],\n",
       "        [ 18.89178235, -16.63271861,   5.8543288 ],\n",
       "        [ -6.72335225,  -5.39642752, -38.7925884 ],\n",
       "        [-17.40156684,  -8.67588388,  -3.88948167],\n",
       "        [ 14.85985167,  -0.58017247,  -4.10732546],\n",
       "        [ -7.58658604, -28.6927735 ,   8.56890429],\n",
       "        [  9.09825495, -13.0411711 , -12.30609539],\n",
       "        [ 20.45365477, -29.82718663, -27.82021774],\n",
       "        [ 33.2871364 ,  -1.20447014,   0.56219027],\n",
       "        [ 18.93955742, -25.72062084, -19.91358654],\n",
       "        [  7.25905259, -18.6910321 , -10.32063765],\n",
       "        [  7.50963839, -13.96490887, -32.83313763],\n",
       "        [ 22.90607297, -22.88945121,  13.09989595],\n",
       "        [ 18.38825637, -29.65458406,  -8.11381974],\n",
       "        [ 42.75634164,  -8.69816537,   4.54646523],\n",
       "        [ 37.27965476, -15.930393  , -13.94664119],\n",
       "        [ 10.80676999,   0.99977233, -15.4603649 ],\n",
       "        [ -8.79479963, -10.0080337 , -18.93210424],\n",
       "        [ -7.5150762 , -11.20363426,  -9.59065011],\n",
       "        [  1.63122258, -29.60431892,  -1.87983159],\n",
       "        [ 15.24276767,   0.73347743, -26.58343946],\n",
       "        [ -0.94981906,   6.86298621,   1.86203271]]),\n",
       " array([[0, 1, 1, ..., 0, 1, 0],\n",
       "        [2, 2, 2, ..., 3, 3, 3],\n",
       "        [0, 1, 4, ..., 2, 3, 1],\n",
       "        ...,\n",
       "        [1, 2, 1, ..., 1, 3, 2],\n",
       "        [4, 1, 2, ..., 4, 3, 3],\n",
       "        [1, 0, 0, ..., 0, 2, 0]], shape=(44, 150)))"
      ]
     },
     "execution_count": 98,
     "metadata": {},
     "output_type": "execute_result"
    }
   ],
   "source": [
    "a"
   ]
  },
  {
   "cell_type": "code",
   "execution_count": null,
   "id": "026ed8db-2ed4-4f3b-958d-a75fbfba3977",
   "metadata": {},
   "outputs": [],
   "source": []
  },
  {
   "cell_type": "code",
   "execution_count": 99,
   "id": "cf299c72-692c-4311-89f0-81945e13139b",
   "metadata": {},
   "outputs": [
    {
     "data": {
      "text/plain": [
       "(3, 44)"
      ]
     },
     "execution_count": 99,
     "metadata": {},
     "output_type": "execute_result"
    }
   ],
   "source": [
    "a[1].T.shape"
   ]
  },
  {
   "cell_type": "code",
   "execution_count": 100,
   "id": "87f63c33-a4da-4c3d-aa29-d1b83ca7bec4",
   "metadata": {},
   "outputs": [
    {
     "data": {
      "text/plain": [
       "[<matplotlib.lines.Line2D at 0x7f0c84314dd0>]"
      ]
     },
     "execution_count": 100,
     "metadata": {},
     "output_type": "execute_result"
    },
    {
     "data": {
      "image/png": "[encoded data removed]",
      "text/plain": [
       "<Figure size 640x480 with 1 Axes>"
      ]
     },
     "metadata": {},
     "output_type": "display_data"
    }
   ],
   "source": [
    "p = gaussian_filter1d(a[1].T, 5, axis=1)\n",
    "plt.plot(p[0, :], p[1, :])"
   ]
  },
  {
   "cell_type": "code",
   "execution_count": null,
   "id": "61eafecc-0e99-4ac4-babe-cabdafccaae6",
   "metadata": {},
   "outputs": [],
   "source": []
  },
  {
   "cell_type": "code",
   "execution_count": null,
   "id": "2abea4dc-3e79-4fc0-87cd-6d39a4927c88",
   "metadata": {},
   "outputs": [],
   "source": []
  }
 ],
 "metadata": {
  "kernelspec": {
   "display_name": "Python 3 (ipykernel)",
   "language": "python",
   "name": "python3"
  },
  "language_info": {
   "codemirror_mode": {
    "name": "ipython",
    "version": 3
   },
   "file_extension": ".py",
   "mimetype": "text/x-python",
   "name": "python",
   "nbconvert_exporter": "python",
   "pygments_lexer": "ipython3",
   "version": "3.11.12"
  }
 },
 "nbformat": 4,
 "nbformat_minor": 5
}
