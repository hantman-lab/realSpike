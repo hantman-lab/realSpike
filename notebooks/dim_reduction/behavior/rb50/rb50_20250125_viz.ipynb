{
 "cells": [
  {
   "cell_type": "markdown",
   "id": "6edff486-e69d-4c0a-983d-550d22ed65d1",
   "metadata": {},
   "source": [
    "# Poisson rSLDS \n",
    "## Behaving dataset\n",
    "## Stim is as cue, system should come back to rest before lift \n",
    "## Fitting model from 50ms before cue to grab, k=2"
   ]
  },
  {
   "cell_type": "code",
   "execution_count": 120,
   "id": "2892f157-1cd6-4d23-aaa3-416f956a7e99",
   "metadata": {},
   "outputs": [],
   "source": [
    "import ssm\n",
    "from pathlib import Path\n",
    "from scipy.io import loadmat\n",
    "import numpy as np\n",
    "import matplotlib.pyplot as plt\n",
    "from tqdm.notebook import tqdm\n",
    "from real_spike.utils import *\n",
    "\n",
    "from scipy.ndimage import gaussian_filter1d\n",
    "\n",
    "import random\n",
    "import h5py\n",
    "\n",
    "import fastplotlib as fpl\n",
    "from ipywidgets import IntSlider, VBox, Layout, Select, HBox\n",
    "\n",
    "from PIL import Image\n",
    "%matplotlib inline"
   ]
  },
  {
   "cell_type": "code",
   "execution_count": 121,
   "id": "d1bd0649-3c4b-4a8a-871b-b96fac96afb9",
   "metadata": {},
   "outputs": [],
   "source": [
    "path = f\"/home/clewis/repos/realSpike/data/behavior/rb50_20250125/\""
   ]
  },
  {
   "cell_type": "code",
   "execution_count": 122,
   "id": "b8835c32-1306-4b41-ad31-ec5b7f2ca04b",
   "metadata": {},
   "outputs": [],
   "source": [
    "video_path =  Path(\"/home/clewis/wasabi/reaganbullins2/ProjectionProject/rb50/20250125/videos/\")"
   ]
  },
  {
   "cell_type": "markdown",
   "id": "596045e2-9bd1-4caa-8b4f-2ad66fcad8f6",
   "metadata": {},
   "source": [
    "# Get data"
   ]
  },
  {
   "cell_type": "code",
   "execution_count": 123,
   "id": "9be2f0b9-6b5e-41b3-a2a1-83b1f6a1f22b",
   "metadata": {},
   "outputs": [
    {
     "name": "stdout",
     "output_type": "stream",
     "text": [
      "<KeysViewHDF5 ['aligned_cue_rec_time', 'aligned_laser_rec_time', 'any', 'chan_spk', 'cue', 'cue_rec_time', 'cue_trial_time', 'depth_spk', 'field_id', 'field_size', 'full_field', 'grab', 'grab_ms', 'laser', 'laser_rec_time', 'laser_trial_time', 'lift', 'lift_ms', 'lift_rec_time', 'mouth', 'mouth_ms', 'no_success', 'pattern_fill', 'pattern_id', 'pattern_xy', 'plift', 'plift_ms', 'single', 'spikes_raw_cue', 'spikes_raw_cue_extended', 'spikes_raw_laser', 'spikes_raw_lift', 'totTime', 'trial_start']>\n"
     ]
    }
   ],
   "source": [
    "f = h5py.File(\"/home/clewis/wasabi/reaganbullins2/ProjectionProject/rb50/20250125/MAT_FILES/rb50_20250125_datastruct_pt3.mat\", 'r')\n",
    "data = f['data']\n",
    "print(data.keys())"
   ]
  },
  {
   "cell_type": "code",
   "execution_count": null,
   "id": "1f054d6c-fdd9-4967-8f6e-df240f649942",
   "metadata": {},
   "outputs": [],
   "source": []
  },
  {
   "cell_type": "markdown",
   "id": "c255e369-487f-46f3-aebb-10f6bf383042",
   "metadata": {},
   "source": [
    "# Plot the patterns"
   ]
  },
  {
   "cell_type": "code",
   "execution_count": 124,
   "id": "f4cf8dbf-a94d-41a1-87d3-80df9c55105e",
   "metadata": {},
   "outputs": [
    {
     "data": {
      "text/plain": [
       "30"
      ]
     },
     "execution_count": 124,
     "metadata": {},
     "output_type": "execute_result"
    }
   ],
   "source": [
    "# visualize the patterns again\n",
    "pattern_ids = list(np.unique(data['pattern_id'][:]))\n",
    "len(pattern_ids)"
   ]
  },
  {
   "cell_type": "code",
   "execution_count": 125,
   "id": "89912cd9-7b18-4b5e-9c61-ac89cf0cc626",
   "metadata": {},
   "outputs": [],
   "source": [
    "from scipy.ndimage import zoom"
   ]
  },
  {
   "cell_type": "code",
   "execution_count": 126,
   "id": "5d0fdbd6-445f-4e96-b72f-e370e38f0aa0",
   "metadata": {},
   "outputs": [],
   "source": [
    "reshape_size = 12"
   ]
  },
  {
   "cell_type": "code",
   "execution_count": null,
   "id": "30e02c8e-1ff4-4345-8df2-9302d93b0faa",
   "metadata": {},
   "outputs": [],
   "source": []
  },
  {
   "cell_type": "code",
   "execution_count": 127,
   "id": "5cc16d33-3eee-49a8-98d7-3c296b18fc83",
   "metadata": {},
   "outputs": [],
   "source": [
    "all_patterns = list()\n",
    "\n",
    "for p_id in pattern_ids[3:]:\n",
    "    ix = np.where(data['pattern_id'][:] == p_id)[1][0].astype(np.int32)\n",
    "    pattern = np.zeros((data['pattern_xy'][0][ix].astype(np.int32), data['pattern_xy'][1][ix].astype(np.int32)))\n",
    "    # use the pattern fill to set elements to one\n",
    "    object_ref = f[data['pattern_fill'][ix, 0]]\n",
    "    for x, y in zip(object_ref[0, :], object_ref[1, :]):\n",
    "        pattern[x.astype(np.int32)-1, y.astype(np.int32)-1] = 1\n",
    "\n",
    "    pattern = zoom(pattern, (reshape_size / pattern.shape[0], reshape_size / pattern.shape[1]), order=0)\n",
    "\n",
    "    all_patterns.append(pattern)\n"
   ]
  },
  {
   "cell_type": "code",
   "execution_count": 128,
   "id": "20e3dbf6-0e09-4a3b-bfdc-29d4e70b2f28",
   "metadata": {},
   "outputs": [
    {
     "data": {
      "text/plain": [
       "27"
      ]
     },
     "execution_count": 128,
     "metadata": {},
     "output_type": "execute_result"
    }
   ],
   "source": [
    "len(all_patterns)"
   ]
  },
  {
   "cell_type": "code",
   "execution_count": null,
   "id": "7d193be1-e910-4993-89d1-904b593fc027",
   "metadata": {},
   "outputs": [],
   "source": []
  },
  {
   "cell_type": "markdown",
   "id": "9c270f67-ce8c-4a28-8bd7-bea43636a79b",
   "metadata": {},
   "source": [
    "# Get single-reach trials"
   ]
  },
  {
   "cell_type": "code",
   "execution_count": 129,
   "id": "520dc1fe-ef2e-436e-9204-16fc8701cf3a",
   "metadata": {},
   "outputs": [],
   "source": [
    "stim_idxs = np.where(data[\"pattern_id\"][:] > 2)[1]\n",
    "single_reach_idxs = np.where(data[\"single\"][:, 0] == 1)"
   ]
  },
  {
   "cell_type": "code",
   "execution_count": 130,
   "id": "d77e6625-2234-4764-bdba-375c1c39e803",
   "metadata": {},
   "outputs": [
    {
     "data": {
      "text/plain": [
       "array([ 16,  18,  20,  22,  23,  24,  29,  31,  32,  34,  37,  38,  40,\n",
       "        42,  43,  46,  47,  48,  52,  55,  56,  60,  61,  62,  64,  67,\n",
       "        68,  70,  71,  73,  76,  77,  78,  82,  83,  86,  89,  90,  92,\n",
       "        94,  97,  98, 101, 103, 104, 106, 107, 108, 113, 114, 116, 118,\n",
       "       121, 122, 124, 127, 128, 131, 132, 133, 150, 152, 153, 154, 155,\n",
       "       156, 157, 158, 159, 160, 161, 162, 163, 164, 165, 166, 167, 168,\n",
       "       169, 171, 172, 173, 174, 175, 176, 177, 178, 179, 180, 181, 182,\n",
       "       183, 184, 185, 186, 188, 189, 190, 191, 192, 193, 194, 195, 196,\n",
       "       198, 199, 200, 201, 202, 203, 204, 205, 206, 207, 208, 209, 210,\n",
       "       212, 213, 214, 215, 216, 217, 218, 219, 220, 221, 222, 223, 224,\n",
       "       225, 226, 227, 228, 229, 230, 231, 232, 233, 234, 235, 237, 238,\n",
       "       239, 240, 241, 242, 243, 244, 245, 246, 248, 249, 250, 251, 252,\n",
       "       254, 255, 256, 257, 258, 259, 260, 261, 262, 263, 264, 265, 266,\n",
       "       267, 268, 269, 270, 271, 272, 273, 274, 275, 277, 278, 279, 280,\n",
       "       281, 282, 284, 285, 286, 287, 288, 289, 290, 291, 292, 293, 294,\n",
       "       295, 296, 297, 298, 299, 300, 301, 302, 303, 304, 305, 306, 307,\n",
       "       308, 309, 310, 311, 312, 313, 314, 316, 317, 318, 319, 321, 322,\n",
       "       323, 325, 326, 327, 328, 329, 330, 331, 332, 333, 334, 335, 337,\n",
       "       338, 339, 340, 341, 342, 343, 344, 345, 346, 347, 348, 349, 350,\n",
       "       351, 352, 353, 354, 355, 356, 357, 358, 359, 360, 363, 364, 365,\n",
       "       366, 367, 368, 369, 370, 371, 372, 373, 374, 375, 376, 377, 378,\n",
       "       379, 380, 381, 382, 383, 384, 385, 386, 387, 388, 389, 390, 391,\n",
       "       392, 393, 394, 395, 396, 397, 398, 401, 402, 403, 404, 405, 406,\n",
       "       407, 408, 409, 410, 411, 412, 413, 414, 415, 416, 417, 418, 419,\n",
       "       420, 422, 423, 424, 425, 426, 427, 428, 429, 430, 431, 432, 433,\n",
       "       434, 435, 436, 438, 439])"
      ]
     },
     "execution_count": 130,
     "metadata": {},
     "output_type": "execute_result"
    }
   ],
   "source": [
    "stim_idxs"
   ]
  },
  {
   "cell_type": "code",
   "execution_count": 131,
   "id": "a4d73d90-9bb9-453d-8b1b-ed73fbb8be1a",
   "metadata": {},
   "outputs": [
    {
     "data": {
      "text/plain": [
       "(array([  2,   6,   7,   9,  10,  12,  13,  14,  15,  18,  20,  21,  23,\n",
       "         26,  27,  28,  30,  32,  33,  35,  36,  37,  40,  41,  42,  44,\n",
       "         45,  48,  50,  51,  53,  55,  56,  57,  60,  61,  63,  67,  68,\n",
       "         70,  75,  78,  80,  83,  84,  86,  96,  97, 100, 101, 102, 103,\n",
       "        106, 110, 111, 115, 118, 121, 123, 125, 128, 129, 131, 138, 142,\n",
       "        145, 147, 149]),)"
      ]
     },
     "execution_count": 131,
     "metadata": {},
     "output_type": "execute_result"
    }
   ],
   "source": [
    "single_reach_idxs"
   ]
  },
  {
   "cell_type": "code",
   "execution_count": 132,
   "id": "fc4bd5b0-0a6a-40d2-bdc5-f40b6fcccdd8",
   "metadata": {},
   "outputs": [
    {
     "data": {
      "text/plain": [
       "array([ 18,  20,  23,  32,  37,  40,  42,  48,  55,  56,  60,  61,  67,\n",
       "        68,  70,  78,  83,  86,  97, 101, 103, 106, 118, 121, 128, 131])"
      ]
     },
     "execution_count": 132,
     "metadata": {},
     "output_type": "execute_result"
    }
   ],
   "source": [
    "# get no laser trials\n",
    "behavior_idxs = np.intersect1d(stim_idxs, single_reach_idxs)\n",
    "behavior_idxs"
   ]
  },
  {
   "cell_type": "code",
   "execution_count": 133,
   "id": "a03853e3-813e-4ca0-82ad-2c3b4907a469",
   "metadata": {},
   "outputs": [
    {
     "data": {
      "text/plain": [
       "(26,)"
      ]
     },
     "execution_count": 133,
     "metadata": {},
     "output_type": "execute_result"
    }
   ],
   "source": [
    "behavior_idxs.shape"
   ]
  },
  {
   "cell_type": "code",
   "execution_count": null,
   "id": "cd6edd1c-5019-42c8-a468-af215926f81b",
   "metadata": {},
   "outputs": [],
   "source": []
  },
  {
   "cell_type": "markdown",
   "id": "df810625-85e6-4190-81a2-80fa5fdc262f",
   "metadata": {},
   "source": [
    "## Get relevant time information"
   ]
  },
  {
   "cell_type": "code",
   "execution_count": 134,
   "id": "ec9a8586-c1bf-40d1-ba9d-55e162df96ea",
   "metadata": {},
   "outputs": [
    {
     "data": {
      "text/plain": [
       "((26, 1), (26, 1), (26, 1))"
      ]
     },
     "execution_count": 134,
     "metadata": {},
     "output_type": "execute_result"
    }
   ],
   "source": [
    "cue_times = data[\"aligned_cue_rec_time\"][behavior_idxs, :]\n",
    "lift_times = data[\"lift_ms\"][behavior_idxs, :]\n",
    "grab_times = data[\"mouth_ms\"][behavior_idxs, :]\n",
    "(cue_times.shape, lift_times.shape, grab_times.shape)"
   ]
  },
  {
   "cell_type": "code",
   "execution_count": null,
   "id": "917b75ef-88ed-4c93-9ae3-2413f0d08e18",
   "metadata": {},
   "outputs": [],
   "source": []
  },
  {
   "cell_type": "code",
   "execution_count": null,
   "id": "6fc26134-1c5f-4b06-8a51-261714be3c13",
   "metadata": {},
   "outputs": [],
   "source": []
  },
  {
   "cell_type": "markdown",
   "id": "6ead9962-815f-4573-8e41-1efecd2c245b",
   "metadata": {},
   "source": [
    "## Get the AP.bin file"
   ]
  },
  {
   "cell_type": "code",
   "execution_count": 135,
   "id": "09f87971-f698-43b2-a7a8-9f82ff1f06ba",
   "metadata": {},
   "outputs": [],
   "source": [
    "file_path = Path(\"/home/clewis/wasabi/reaganbullins2/ProjectionProject/rb50/20250125/rb50_20250125_g0/rb50_20250125_g0_t0.imec0.ap.bin\")\n",
    "meta_path = Path(\"/home/clewis/wasabi/reaganbullins2/ProjectionProject/rb50/20250125/rb50_20250125_g0/rb50_20250125_g0_t0.imec0.ap.meta\")"
   ]
  },
  {
   "cell_type": "code",
   "execution_count": 136,
   "id": "70f07bc3-4ddd-4538-af0e-e94bf8e0535e",
   "metadata": {},
   "outputs": [],
   "source": [
    "meta_data = get_meta(meta_path)"
   ]
  },
  {
   "cell_type": "code",
   "execution_count": 137,
   "id": "652c309d-e3bc-469b-b58c-5e4d80f04ef8",
   "metadata": {},
   "outputs": [
    {
     "data": {
      "text/plain": [
       "(385, 164723792)"
      ]
     },
     "execution_count": 137,
     "metadata": {},
     "output_type": "execute_result"
    }
   ],
   "source": [
    "ap_data = get_sample_data(file_path, meta_data)\n",
    "ap_data.shape"
   ]
  },
  {
   "cell_type": "code",
   "execution_count": null,
   "id": "366481cd-2c38-441f-8eee-da2d0a9cd8da",
   "metadata": {},
   "outputs": [],
   "source": []
  },
  {
   "cell_type": "markdown",
   "id": "69d1e476-4947-406d-9fe7-4f69465a6b10",
   "metadata": {},
   "source": [
    "## Get conversion params"
   ]
  },
  {
   "cell_type": "code",
   "execution_count": 138,
   "id": "58189e0d-cc18-45c3-94bd-aba4545f8de9",
   "metadata": {},
   "outputs": [
    {
     "data": {
      "text/plain": [
       "(0.6, 512.0, 500.0)"
      ]
     },
     "execution_count": 138,
     "metadata": {},
     "output_type": "execute_result"
    }
   ],
   "source": [
    "vmax = float(meta_data[\"imAiRangeMax\"])\n",
    "# get Imax\n",
    "imax = float(meta_data[\"imMaxInt\"])\n",
    "# get gain\n",
    "gain = float(meta_data['imroTbl'].split(sep=')')[1].split(sep=' ')[3])\n",
    "\n",
    "(vmax, imax, gain)"
   ]
  },
  {
   "cell_type": "code",
   "execution_count": null,
   "id": "51b20f39-3c66-477d-995e-79ae63bd3db5",
   "metadata": {},
   "outputs": [],
   "source": []
  },
  {
   "cell_type": "markdown",
   "id": "da7b43d5-a7c3-4ceb-8087-e739f77d3e63",
   "metadata": {},
   "source": [
    "# Get the model data"
   ]
  },
  {
   "cell_type": "code",
   "execution_count": 139,
   "id": "8986b104-5e3b-42a5-8cd7-26ab74b6b4a1",
   "metadata": {},
   "outputs": [],
   "source": [
    "def get_trials(idxs, bin_size):\n",
    "    \n",
    "    model_data = list()\n",
    "    \n",
    "    for i, j in tqdm(enumerate(idxs)):\n",
    "        c = data[\"aligned_cue_rec_time\"][j, 0] \n",
    "        g = data[\"grab_ms\"][j, 0]\n",
    "        # 50 ms before cue\n",
    "        cue_time = int((c - 50) / 1_000 * 30_000)\n",
    "\n",
    "        # end at 5m after grab \n",
    "        end_behavior = int((c + g) / 1_000 * 30_000)\n",
    "\n",
    "        \n",
    "        trial = ap_data[:150, cue_time:end_behavior]\n",
    "    \n",
    "        # convert to microvolts\n",
    "        conv_data = 1e6 * trial / vmax / imax / gain\n",
    "        # high pass filter \n",
    "        filt_data = butter_filter(conv_data, 1_000, 30_000)\n",
    "\n",
    "        # get 1 second before the median \n",
    "        m_start = cue_time - (30 * 1000)\n",
    "        # convert to microvolts, high pass filter\n",
    "        trial_median = ap_data[:150, m_start:cue_time]\n",
    "        trial_median = 1e6 * trial_median / vmax / imax / gain\n",
    "        trial_median = butter_filter(trial_median, 1_000, 30_000)\n",
    "        \n",
    "        # calculate the median\n",
    "        median = np.median(trial_median, axis=1)\n",
    "\n",
    "        # get spike times\n",
    "        spike_ixs, counts = get_spike_events(filt_data, median)\n",
    "        \n",
    "        a = np.zeros((filt_data.shape[0], filt_data.shape[1]))\n",
    "    \n",
    "        for i, sc in enumerate(spike_ixs):\n",
    "            a[i, sc] = 1\n",
    "    \n",
    "        b = bin_size * 30 # 30ms per bin\n",
    "        binned_spikes = bin_spikes(a, b)\n",
    "\n",
    "        model_data.append(np.asarray(binned_spikes.T, dtype=int))\n",
    "\n",
    "    return model_data"
   ]
  },
  {
   "cell_type": "code",
   "execution_count": 140,
   "id": "3c6afc75-dc68-4000-a07f-e737c097509f",
   "metadata": {},
   "outputs": [],
   "source": [
    "bin_size = 5"
   ]
  },
  {
   "cell_type": "code",
   "execution_count": 141,
   "id": "cd2f1598-ff2a-4278-a118-21ae96391621",
   "metadata": {},
   "outputs": [
    {
     "data": {
      "application/vnd.jupyter.widget-view+json": {
       "model_id": "cabe7a8824524dfd9a2a41576e1e43eb",
       "version_major": 2,
       "version_minor": 0
      },
      "text/plain": [
       "0it [00:00, ?it/s]"
      ]
     },
     "metadata": {},
     "output_type": "display_data"
    }
   ],
   "source": [
    "model_data = get_trials(behavior_idxs, bin_size)"
   ]
  },
  {
   "cell_type": "code",
   "execution_count": 142,
   "id": "711da401-9e1d-4a31-ac51-870d8ef724d9",
   "metadata": {},
   "outputs": [
    {
     "data": {
      "text/plain": [
       "(92, 150)"
      ]
     },
     "execution_count": 142,
     "metadata": {},
     "output_type": "execute_result"
    }
   ],
   "source": [
    "model_data[0].shape"
   ]
  },
  {
   "cell_type": "code",
   "execution_count": 143,
   "id": "44bb1783-bb65-40ce-b027-1e7a0241ddc9",
   "metadata": {},
   "outputs": [
    {
     "data": {
      "text/plain": [
       "(72, 91)"
      ]
     },
     "execution_count": 143,
     "metadata": {},
     "output_type": "execute_result"
    }
   ],
   "source": [
    "# taking 50ms before cue, need to shift\n",
    "cue = int(50 / bin_size)\n",
    "\n",
    "lift = int(data[\"lift_ms\"][18, 0] / bin_size) + cue\n",
    "\n",
    "grab = int(data[\"grab_ms\"][18, 0] / bin_size) + cue - 1\n",
    "(lift, grab)"
   ]
  },
  {
   "cell_type": "markdown",
   "id": "4d69fcbf-c7ca-4083-b251-0f448c64b236",
   "metadata": {},
   "source": [
    "### Sanity check the time points"
   ]
  },
  {
   "cell_type": "code",
   "execution_count": 144,
   "id": "43403378-67cf-4020-8ea7-48caf44f82ee",
   "metadata": {},
   "outputs": [
    {
     "data": {
      "text/plain": [
       "<matplotlib.lines.Line2D at 0x7f3cdb6c3190>"
      ]
     },
     "execution_count": 144,
     "metadata": {},
     "output_type": "execute_result"
    },
    {
     "data": {
      "image/png": "[encoded data removed]",
      "text/plain": [
       "<Figure size 400x652.174 with 1 Axes>"
      ]
     },
     "metadata": {},
     "output_type": "display_data"
    }
   ],
   "source": [
    "plt.matshow(model_data[0].T)\n",
    "plt.axvline(cue, c=\"red\", linestyle=\"--\")\n",
    "plt.axvline(lift, c=\"red\", linestyle=\"--\")\n",
    "plt.axvline(grab, c=\"red\", linestyle=\"--\")"
   ]
  },
  {
   "cell_type": "code",
   "execution_count": null,
   "id": "13a6dd1f-c70f-40ec-827d-a1949f786311",
   "metadata": {},
   "outputs": [],
   "source": []
  },
  {
   "cell_type": "markdown",
   "id": "38e3fa20-c06b-480c-9a00-8af10932fe93",
   "metadata": {},
   "source": [
    "# Design the input matrix"
   ]
  },
  {
   "cell_type": "code",
   "execution_count": 145,
   "id": "d3be208b-3ea0-47bd-bd83-46d8ec9c3912",
   "metadata": {},
   "outputs": [
    {
     "data": {
      "text/plain": [
       "array([14., 17., 20.])"
      ]
     },
     "execution_count": 145,
     "metadata": {},
     "output_type": "execute_result"
    }
   ],
   "source": [
    "p_ids = np.unique(data[\"pattern_id\"][0, behavior_idxs])\n",
    "\n",
    "p_ids"
   ]
  },
  {
   "cell_type": "code",
   "execution_count": null,
   "id": "69e4716a-d75b-475e-92a3-945ce1212a4a",
   "metadata": {},
   "outputs": [],
   "source": []
  },
  {
   "cell_type": "markdown",
   "id": "96ca0c96-2108-4412-87f0-1dcc38df5e90",
   "metadata": {},
   "source": [
    "## Get colors for plotting"
   ]
  },
  {
   "cell_type": "code",
   "execution_count": 146,
   "id": "bae27d21-0ddc-48b5-b6cd-256ef222e43f",
   "metadata": {},
   "outputs": [],
   "source": [
    "c = {\n",
    "    14: \"blue\",\n",
    "    17: \"orange\",\n",
    "    20: \"green\"\n",
    "}"
   ]
  },
  {
   "cell_type": "code",
   "execution_count": 147,
   "id": "7d31035a-682e-4d36-983d-e38e62787394",
   "metadata": {},
   "outputs": [
    {
     "data": {
      "text/plain": [
       "3"
      ]
     },
     "execution_count": 147,
     "metadata": {},
     "output_type": "execute_result"
    }
   ],
   "source": [
    "len(c)"
   ]
  },
  {
   "cell_type": "code",
   "execution_count": 148,
   "id": "e6e13e66-0858-4f91-8c3f-af5e6e97311e",
   "metadata": {},
   "outputs": [
    {
     "data": {
      "text/plain": [
       "<matplotlib.image.AxesImage at 0x7f3cdb5a0f90>"
      ]
     },
     "execution_count": 148,
     "metadata": {},
     "output_type": "execute_result"
    },
    {
     "data": {
      "image/png": "[encoded data removed]",
      "text/plain": [
       "<Figure size 640x480 with 1 Axes>"
      ]
     },
     "metadata": {},
     "output_type": "display_data"
    }
   ],
   "source": [
    "from matplotlib.colors import ListedColormap\n",
    "\n",
    "cmap = ListedColormap(c.values())\n",
    "\n",
    "plt.imshow(np.arange(len(c)).reshape(1,-1), aspect=\"auto\", cmap=cmap)"
   ]
  },
  {
   "cell_type": "markdown",
   "id": "3795b001-58ee-4f85-bf8d-4e027bfa12f1",
   "metadata": {},
   "source": [
    "# Create encodings "
   ]
  },
  {
   "cell_type": "code",
   "execution_count": 149,
   "id": "a8074dfd-4f55-4d56-b3bd-1be22e1b337b",
   "metadata": {},
   "outputs": [],
   "source": [
    "import math"
   ]
  },
  {
   "cell_type": "code",
   "execution_count": 150,
   "id": "f1a02737-e0c1-4a19-9142-75a1cd99ac3a",
   "metadata": {},
   "outputs": [],
   "source": [
    "inputs = list()\n",
    "colors = list()\n",
    "for i, d in zip(stim_idxs, model_data):\n",
    "    # get the pattern id \n",
    "    p_id = int(data[\"pattern_id\"][0][i]) - 3\n",
    "\n",
    "    colors.append(c[p_id + 3])\n",
    "\n",
    "    encoding = all_patterns[p_id].ravel() \n",
    "\n",
    "    # stack the encoding for every timepoint (each bin)\n",
    "    nput = np.zeros((d.shape[0], reshape_size**2))\n",
    "\n",
    "    for z in range(math.ceil(5 / bin_size)):\n",
    "        nput[int(50 / bin_size) + z] = encoding\n",
    "\n",
    "    inputs.append(nput)"
   ]
  },
  {
   "cell_type": "code",
   "execution_count": 151,
   "id": "f8bccc74-5025-417f-aa5e-b094b2e81c6f",
   "metadata": {},
   "outputs": [
    {
     "data": {
      "image/png": "[encoded data removed]",
      "text/plain": [
       "<Figure size 640x480 with 1 Axes>"
      ]
     },
     "metadata": {},
     "output_type": "display_data"
    }
   ],
   "source": [
    "plt.imshow(inputs[0].T, cmap=\"binary\")\n",
    "plt.title(\"Pattern Encoding\")\n",
    "plt.xlabel(\"Bins\")\n",
    "plt.ylabel(\"Pixel Location\")\n",
    "plt.show()"
   ]
  },
  {
   "cell_type": "code",
   "execution_count": null,
   "id": "d018a252-c149-402a-b855-deef2b7d5ebb",
   "metadata": {},
   "outputs": [],
   "source": []
  },
  {
   "cell_type": "code",
   "execution_count": null,
   "id": "b82a7849-23d3-4cff-90aa-f5a7dade91e4",
   "metadata": {},
   "outputs": [],
   "source": []
  },
  {
   "cell_type": "markdown",
   "id": "cdb7bf07-6ea7-4400-a874-39e0dfb78395",
   "metadata": {},
   "source": [
    "# Fit the model"
   ]
  },
  {
   "cell_type": "code",
   "execution_count": 152,
   "id": "b2cc4417-ac74-41ee-b6dd-553ee12b161d",
   "metadata": {},
   "outputs": [
    {
     "data": {
      "application/vnd.jupyter.widget-view+json": {
       "model_id": "eec4534c9f3b4d9ca3cfec704f74ff1d",
       "version_major": 2,
       "version_minor": 0
      },
      "text/plain": [
       "  0%|          | 0/1 [00:00<?, ?it/s]"
      ]
     },
     "metadata": {},
     "output_type": "display_data"
    },
    {
     "name": "stdout",
     "output_type": "stream",
     "text": [
      "Initializing with an ARHMM using 25 steps of EM.\n"
     ]
    },
    {
     "data": {
      "application/vnd.jupyter.widget-view+json": {
       "model_id": "57dc38a6a02d47b1822185b5e8c84df6",
       "version_major": 2,
       "version_minor": 0
      },
      "text/plain": [
       "  0%|          | 0/25 [00:00<?, ?it/s]"
      ]
     },
     "metadata": {},
     "output_type": "display_data"
    },
    {
     "data": {
      "application/vnd.jupyter.widget-view+json": {
       "model_id": "d0a8f0bf458f4e52afe0246d4a6cf98e",
       "version_major": 2,
       "version_minor": 0
      },
      "text/plain": [
       "  0%|          | 0/5 [00:00<?, ?it/s]"
      ]
     },
     "metadata": {},
     "output_type": "display_data"
    }
   ],
   "source": [
    "state_dim = 3\n",
    "obs_dim = model_data[0].shape[1] \n",
    "\n",
    "plds = ssm.SLDS(N=obs_dim, \n",
    "                K=2, \n",
    "                D=state_dim, \n",
    "                M=144, \n",
    "                emissions=\"poisson\", \n",
    "                emission_kwargs=dict(link=\"softplus\"),\n",
    "                dynamics=\"diagonal_gaussian\",\n",
    "                transitions=\"recurrent\"\n",
    "               )\n",
    "\n",
    "elbos, q = plds.fit(model_data, inputs=inputs, method=\"laplace_em\", num_iters=5)"
   ]
  },
  {
   "cell_type": "code",
   "execution_count": null,
   "id": "599e7fa4-a88f-49ad-a470-2ef4d50f36ea",
   "metadata": {},
   "outputs": [],
   "source": []
  },
  {
   "cell_type": "code",
   "execution_count": null,
   "id": "22e1fa01-21ae-4115-a1d1-05cd4576ca6f",
   "metadata": {},
   "outputs": [],
   "source": []
  },
  {
   "cell_type": "code",
   "execution_count": 153,
   "id": "9fe5884e-d131-46cf-869b-33cb26edd257",
   "metadata": {},
   "outputs": [
    {
     "data": {
      "text/plain": [
       "26"
      ]
     },
     "execution_count": 153,
     "metadata": {},
     "output_type": "execute_result"
    }
   ],
   "source": [
    "state_means = q.mean_continuous_states\n",
    "len(state_means)"
   ]
  },
  {
   "cell_type": "code",
   "execution_count": null,
   "id": "a005da41-4088-4fca-b56c-41487c956721",
   "metadata": {},
   "outputs": [],
   "source": []
  },
  {
   "cell_type": "markdown",
   "id": "43d673a6-feca-44ca-8e5d-9d593c3d7a1f",
   "metadata": {},
   "source": [
    "# Visualize a trial"
   ]
  },
  {
   "cell_type": "code",
   "execution_count": 96,
   "id": "8136cfab-a942-4c7f-a88a-69355a56e11e",
   "metadata": {},
   "outputs": [],
   "source": [
    "trial_no = 0"
   ]
  },
  {
   "cell_type": "code",
   "execution_count": 97,
   "id": "f0ab3b6f-a1c7-43bb-9971-c1afbb0bb53b",
   "metadata": {},
   "outputs": [
    {
     "data": {
      "text/plain": [
       "np.int64(18)"
      ]
     },
     "execution_count": 97,
     "metadata": {},
     "output_type": "execute_result"
    }
   ],
   "source": [
    "behavior_idxs[0]"
   ]
  },
  {
   "cell_type": "code",
   "execution_count": 98,
   "id": "03c54461-72c4-4a03-b9e8-a9b13a45bd46",
   "metadata": {},
   "outputs": [
    {
     "data": {
      "text/plain": [
       "((2498, 290, 448), (2498, 290, 448))"
      ]
     },
     "execution_count": 98,
     "metadata": {},
     "output_type": "execute_result"
    }
   ],
   "source": [
    "i = behavior_idxs[trial_no]\n",
    "# get video \n",
    "front_video = LazyVideo(video_path.joinpath(f\"rb50_20250125_front_v0{i + 1}.avi\"))\n",
    "side_video = LazyVideo(video_path.joinpath(f\"rb50_20250125_side_v0{i + 1}.avi\"))\n",
    "(front_video.shape, side_video.shape)"
   ]
  },
  {
   "cell_type": "code",
   "execution_count": 99,
   "id": "2dc493a2-ee84-4f52-81ae-391e2098dea3",
   "metadata": {},
   "outputs": [
    {
     "data": {
      "application/vnd.jupyter.widget-view+json": {
       "model_id": "be228ae86e964adb99f06d3c9bd38f3e",
       "version_major": 2,
       "version_minor": 0
      },
      "text/plain": [
       "RFBOutputContext()"
      ]
     },
     "metadata": {},
     "output_type": "display_data"
    }
   ],
   "source": [
    "fig = fpl.Figure(shape=(2,2), \n",
    "                 size=(800, 800), \n",
    "                 names=[\"front\", \"side\", \"binned_spikes\", \"z_t\"], \n",
    "               #  cameras=[\"2d\", \"2d\", \"2d\", \"3d\"]\n",
    "                )\n",
    "\n",
    "fig[\"front\"].axes.visible = False\n",
    "fig[\"front\"].controller.enabled = False\n",
    "fig[\"side\"].axes.visible = False\n",
    "fig[\"side\"].controller.enabled = False\n",
    "fig[\"binned_spikes\"].axes.visible = False\n",
    "fig[\"binned_spikes\"].camera.maintain_aspect = False\n",
    "fig[\"binned_spikes\"].controller.enabled = False\n",
    "\n",
    "fig[\"z_t\"].camera = \"3d\"\n",
    "fig[\"z_t\"].controller = \"fly\""
   ]
  },
  {
   "cell_type": "code",
   "execution_count": 100,
   "id": "8dd4cbaa-0dbf-45e4-9fe0-704829f0cf28",
   "metadata": {},
   "outputs": [],
   "source": [
    "front_graphic = fig[\"front\"].add_image(front_video[0])\n",
    "side_graphic = fig[\"side\"].add_image(side_video[0])\n",
    "heatmap = fig[\"binned_spikes\"].add_image(model_data[trial_no].T, cmap=\"viridis\")\n",
    "ls = heatmap.add_linear_selector()\n",
    "z_smooth = gaussian_filter1d(state_means[trial_no], 6, axis=0)\n",
    "z_graphic = fig[\"z_t\"].add_line(z_smooth)\n"
   ]
  },
  {
   "cell_type": "code",
   "execution_count": 101,
   "id": "d9affd2e-61d8-40cb-8f49-51618262e93b",
   "metadata": {},
   "outputs": [
    {
     "data": {
      "text/plain": [
       "(72, 91)"
      ]
     },
     "execution_count": 101,
     "metadata": {},
     "output_type": "execute_result"
    }
   ],
   "source": [
    "cue = int(50 / bin_size)\n",
    "\n",
    "lift = int(data[\"lift_ms\"][18, 0] / bin_size) + cue\n",
    "\n",
    "grab = int(data[\"grab_ms\"][18, 0] / bin_size) + cue - 1\n",
    "(lift, grab)"
   ]
  },
  {
   "cell_type": "code",
   "execution_count": 102,
   "id": "435184f7-8fd5-4270-ba9a-ff44b0eefde9",
   "metadata": {},
   "outputs": [],
   "source": [
    "# mark stim \n",
    "z_stim = fig[\"z_t\"].add_scatter(z_smooth[cue].reshape(1,3), sizes=15, colors=\"blue\")\n",
    "# mark lift \n",
    "z_lift = fig[\"z_t\"].add_scatter(z_smooth[lift].reshape(1,3), sizes=15, colors=\"green\")\n",
    "# mark grab \n",
    "z_grab = fig[\"z_t\"].add_scatter(z_smooth[grab].reshape(1,3), sizes=15, colors=\"yellow\")\n",
    "\n",
    "# add tracer\n",
    "z_point = fig[\"z_t\"].add_scatter(z_smooth[0].reshape(1,3), sizes=15, colors=\"red\")"
   ]
  },
  {
   "cell_type": "code",
   "execution_count": 103,
   "id": "2f7a1d71-e2d2-44f5-a4c8-3ede47c3dca6",
   "metadata": {},
   "outputs": [],
   "source": [
    "slider = IntSlider(value=0, min=0, max=model_data[trial_no].shape[0]-1, layout=Layout(width=\"50%\"))"
   ]
  },
  {
   "cell_type": "code",
   "execution_count": 107,
   "id": "0865a6ee-7be0-4e2c-8653-455cd92c0f57",
   "metadata": {},
   "outputs": [],
   "source": [
    "selection = Select(\n",
    "    options=list(behavior_idxs),\n",
    "    value=behavior_idxs[0],\n",
    "    # rows=10,\n",
    "    description='Trial:',\n",
    "    disabled=False,\n",
    "    layout=Layout(width=\"25%\", height=\"50%\")\n",
    ")"
   ]
  },
  {
   "cell_type": "code",
   "execution_count": 108,
   "id": "f49d20df-06ca-436c-b6d1-29ac7e19edd9",
   "metadata": {},
   "outputs": [],
   "source": [
    "def update(ev):\n",
    "    global cue\n",
    "    global front_video\n",
    "    global side_video\n",
    "    t = ev[\"new\"] \n",
    "\n",
    "    # update linear selector in heatmap \n",
    "    ls.selection = t \n",
    "\n",
    "    # update scatter point selection \n",
    "    z_point.data = z_graphic.data[t].reshape(1,3)\n",
    "\n",
    "    if t >= cue: \n",
    "        # if right at the end near grab, need to add 1\n",
    "        if t == z_graphic.data.value.shape[0] - 1:\n",
    "            t += 1\n",
    "        # update the video \n",
    "        s = ((t+1) * 5) + 950\n",
    "        s = math.ceil(s / 2)\n",
    "        front_graphic.data = front_video[s]\n",
    "        side_graphic.data = side_video[s]\n",
    "\n",
    "    # output save for ffmpeg\n",
    "    d = fig.canvas.snapshot().data\n",
    "    pil_image = Image.fromarray(d, 'RGBA')\n",
    "    pil_image.save(f'/home/clewis/Desktop/behavior/{t}.png')\n",
    "    \n",
    "        "
   ]
  },
  {
   "cell_type": "code",
   "execution_count": null,
   "id": "054e52f2-b3a3-4e24-afbe-3080b3328bf7",
   "metadata": {},
   "outputs": [],
   "source": []
  },
  {
   "cell_type": "code",
   "execution_count": 109,
   "id": "ea0ea0f9-613c-499a-813c-2a2493599b33",
   "metadata": {},
   "outputs": [],
   "source": [
    "def trial_change(ev):\n",
    "    global heatmap\n",
    "    global ls\n",
    "    global z_graphic\n",
    "    global z_stim \n",
    "    global z_lift \n",
    "    global z_grab\n",
    "    global z_point\n",
    "    global front_video\n",
    "    global side_video\n",
    "    \n",
    "    i = ev[\"new\"] \n",
    "    trial_no = np.where(behavior_idxs == i)[0][0]\n",
    "\n",
    "    if i <= 8:\n",
    "        i = f\"00{i+1}\"\n",
    "    elif i <= 98:\n",
    "        i = f\"0{i+1}\"\n",
    "    else:\n",
    "        i = f\"{i+1}\"\n",
    "\n",
    "    front_video = LazyVideo(video_path.joinpath(f\"rb50_20250125_front_v{i}.avi\"))\n",
    "    side_video = LazyVideo(video_path.joinpath(f\"rb50_20250125_side_v{i}.avi\"))\n",
    "\n",
    "    t = 0\n",
    "    slider.value = t\n",
    "    slider.max = model_data[trial_no].shape[0]-1\n",
    "    front_graphic.data = front_video[t] \n",
    "    side_graphic.data = side_video[t] \n",
    "\n",
    "    fig[\"binned_spikes\"].remove_graphic(heatmap)\n",
    "    fig[\"binned_spikes\"].remove_graphic(ls)\n",
    "    \n",
    "    heatmap = fig[\"binned_spikes\"].add_image(model_data[trial_no].T, cmap=\"viridis\")\n",
    "    ls = heatmap.add_linear_selector()\n",
    "    fig[\"binned_spikes\"].auto_scale()\n",
    "\n",
    "    z_smooth = gaussian_filter1d(state_means[trial_no], 6, axis=0)\n",
    "\n",
    "    fig[\"z_t\"].remove_graphic(z_graphic)\n",
    "    z_graphic = fig[\"z_t\"].add_line(z_smooth)\n",
    "    fig[\"z_t\"].auto_scale()\n",
    "\n",
    "    cue = int(50 / bin_size)\n",
    "\n",
    "    lift = int(data[\"lift_ms\"][ev[\"new\"], 0] / bin_size) + cue\n",
    "\n",
    "    grab = int(data[\"grab_ms\"][ev[\"new\"], 0] / bin_size) + cue - 1\n",
    "\n",
    "    z_stim.data = z_smooth[cue].reshape(1,3)\n",
    "    # mark lift \n",
    "    z_lift.data = z_smooth[lift].reshape(1,3)\n",
    "    # mark grab \n",
    "    z_grab.data = z_smooth[grab].reshape(1,3)\n",
    "    \n",
    "    # add tracer\n",
    "    z_point.data = z_smooth[0].reshape(1,3)"
   ]
  },
  {
   "cell_type": "code",
   "execution_count": 110,
   "id": "736893a0-19e5-4ff9-a07d-98affd96db59",
   "metadata": {},
   "outputs": [],
   "source": [
    "slider.observe(update, \"value\")"
   ]
  },
  {
   "cell_type": "code",
   "execution_count": 111,
   "id": "101e6739-7cf2-43d7-9141-954330e7be0a",
   "metadata": {},
   "outputs": [],
   "source": [
    "selection.observe(trial_change, \"value\")"
   ]
  },
  {
   "cell_type": "code",
   "execution_count": null,
   "id": "dad921cb-e389-4690-9d0a-523c5bc831ce",
   "metadata": {},
   "outputs": [],
   "source": []
  },
  {
   "cell_type": "code",
   "execution_count": 112,
   "id": "2e4a5290-4ac4-455b-bd86-9d2e3dda78fb",
   "metadata": {},
   "outputs": [
    {
     "data": {
      "application/vnd.jupyter.widget-view+json": {
       "model_id": "3931a0ea266e41bba8fc4ac9e57509f6",
       "version_major": 2,
       "version_minor": 0
      },
      "text/plain": [
       "VBox(children=(HBox(children=(JupyterRenderCanvas(css_height='800.0px', css_width='800.0px'), Select(descripti…"
      ]
     },
     "execution_count": 112,
     "metadata": {},
     "output_type": "execute_result"
    }
   ],
   "source": [
    "VBox([HBox([fig.show(), selection]), slider])"
   ]
  },
  {
   "cell_type": "code",
   "execution_count": null,
   "id": "489c88f6-9ed7-4707-8051-a2a37c23fcef",
   "metadata": {},
   "outputs": [],
   "source": []
  },
  {
   "cell_type": "code",
   "execution_count": null,
   "id": "d24a2d9e-4e90-4be1-ac50-32721d1645ec",
   "metadata": {},
   "outputs": [],
   "source": []
  },
  {
   "cell_type": "markdown",
   "id": "30cd93a8-cf1e-4463-aef3-468082b7c291",
   "metadata": {},
   "source": [
    "# Plot all trajectories together"
   ]
  },
  {
   "cell_type": "code",
   "execution_count": null,
   "id": "5e60c271-95c1-4ad5-878b-e2c609814bff",
   "metadata": {},
   "outputs": [],
   "source": [
    "# plot all trajectories together in single plot"
   ]
  },
  {
   "cell_type": "code",
   "execution_count": 118,
   "id": "bc8478f0-2163-4f2e-8e42-865da1d972ae",
   "metadata": {},
   "outputs": [
    {
     "data": {
      "application/vnd.jupyter.widget-view+json": {
       "model_id": "3172f682e5f341dba75f895a520b8b66",
       "version_major": 2,
       "version_minor": 0
      },
      "text/plain": [
       "RFBOutputContext()"
      ]
     },
     "metadata": {},
     "output_type": "display_data"
    }
   ],
   "source": [
    "figure2 = fpl.Figure(shape=(1,1), names=[\"points\"], cameras=\"3d\")\n",
    "\n",
    "for i, d in enumerate(model_data):\n",
    "    trial_no = behavior_idxs[i]\n",
    "    z_smooth = gaussian_filter1d(state_means[i], 6, axis=0)\n",
    "\n",
    "    cue = int(50 / bin_size)\n",
    "\n",
    "    lift = int(data[\"lift_ms\"][trial_no, 0] / bin_size) + cue\n",
    "\n",
    "    grab = int(data[\"grab_ms\"][trial_no, 0] / bin_size) + cue - 1\n",
    "\n",
    "    figure2[\"points\"].add_scatter(z_smooth[cue].reshape(1,3), sizes=15, colors=\"blue\")\n",
    "    # mark lift \n",
    "    figure2[\"points\"].add_scatter(z_smooth[lift].reshape(1,3), sizes=15, colors=\"green\")\n",
    "    # mark grab \n",
    "    figure2[\"points\"].add_scatter(z_smooth[grab].reshape(1,3), sizes=15, colors=\"yellow\")"
   ]
  },
  {
   "cell_type": "code",
   "execution_count": 119,
   "id": "9bf60b18-432e-42d5-a13c-e31db51622d1",
   "metadata": {},
   "outputs": [
    {
     "data": {
      "application/vnd.jupyter.widget-view+json": {
       "model_id": "8870987875d54c3281407264c245ebc7",
       "version_major": 2,
       "version_minor": 0
      },
      "text/html": [
       "<div class='snapshot-8870987875d54c3281407264c245ebc7' style='position:relative;'><img src='data:image/png;base64,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' style='width:500.0px;height:300.0px;' /><div style='position: absolute; top:0; left:0; padding:1px 3px; background: #777; color:#fff; font-size: 90%; font-family:sans-serif; '>snapshot</div></div>"
      ],
      "text/plain": [
       "JupyterRenderCanvas(css_height='300.0px', css_width='500.0px')"
      ]
     },
     "execution_count": 119,
     "metadata": {},
     "output_type": "execute_result"
    }
   ],
   "source": [
    "figure2.show()"
   ]
  },
  {
   "cell_type": "code",
   "execution_count": 113,
   "id": "b8241912-4374-485b-b60a-85271b898fdf",
   "metadata": {},
   "outputs": [
    {
     "data": {
      "text/plain": [
       "['green',\n",
       " 'orange',\n",
       " 'blue',\n",
       " 'blue',\n",
       " 'green',\n",
       " 'orange',\n",
       " 'orange',\n",
       " 'blue',\n",
       " 'green',\n",
       " 'blue',\n",
       " 'orange',\n",
       " 'green',\n",
       " 'orange',\n",
       " 'blue',\n",
       " 'green',\n",
       " 'blue',\n",
       " 'orange',\n",
       " 'green',\n",
       " 'green',\n",
       " 'blue',\n",
       " 'orange',\n",
       " 'blue',\n",
       " 'orange',\n",
       " 'green',\n",
       " 'orange',\n",
       " 'blue']"
      ]
     },
     "execution_count": 113,
     "metadata": {},
     "output_type": "execute_result"
    }
   ],
   "source": [
    "colors"
   ]
  },
  {
   "cell_type": "code",
   "execution_count": null,
   "id": "a78afaca-4c96-48ec-a889-37322805a48a",
   "metadata": {},
   "outputs": [],
   "source": []
  }
 ],
 "metadata": {
  "kernelspec": {
   "display_name": "Python 3 (ipykernel)",
   "language": "python",
   "name": "python3"
  },
  "language_info": {
   "codemirror_mode": {
    "name": "ipython",
    "version": 3
   },
   "file_extension": ".py",
   "mimetype": "text/x-python",
   "name": "python",
   "nbconvert_exporter": "python",
   "pygments_lexer": "ipython3",
   "version": "3.11.12"
  }
 },
 "nbformat": 4,
 "nbformat_minor": 5
}
