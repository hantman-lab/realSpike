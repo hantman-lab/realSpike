{
 "cells": [
  {
   "cell_type": "markdown",
   "id": "6edff486-e69d-4c0a-983d-550d22ed65d1",
   "metadata": {},
   "source": [
    "# Poisson rSLDS \n",
    "## Behaving dataset\n",
    "## Stim is as cue, system should come back to rest before lift \n",
    "## Fitting model from cue to grab, k=3"
   ]
  },
  {
   "cell_type": "code",
   "execution_count": 1,
   "id": "7059a289-cd10-4d0b-b7fb-62391da64bf4",
   "metadata": {},
   "outputs": [
    {
     "name": "stderr",
     "output_type": "stream",
     "text": [
      "Detected skylake derivative running on mesa i915. Clears to srgb textures will use manual shader clears.\n",
      "Detected skylake derivative running on mesa i915. Clears to srgb textures will use manual shader clears.\n",
      "Detected skylake derivative running on mesa i915. Clears to srgb textures will use manual shader clears.\n"
     ]
    },
    {
     "data": {
      "application/vnd.jupyter.widget-view+json": {
       "model_id": "a5d50eb6e5bd49d8811757d0a51115e5",
       "version_major": 2,
       "version_minor": 0
      },
      "text/plain": [
       "Image(value=b'\\x89PNG\\r\\n\\x1a\\n\\x00\\x00\\x00\\rIHDR\\x00\\x00\\x01,\\x00\\x00\\x007\\x08\\x06\\x00\\x00\\x00\\xb6\\x1bw\\x99\\x…"
      ]
     },
     "metadata": {},
     "output_type": "display_data"
    },
    {
     "data": {
      "text/html": [
       "<b>Available devices:</b><table><tr><th>Valid</th><th>Device</th><th>Type</th><th>Backend</th><th>Driver</th></tr><tr title=\"This adapter can be used with fastplotlib\"><td>✅</td><td>Intel(R) Arc(tm) Graphics (MTL)</td><td>IntegratedGPU</td><td>Vulkan</td><td>Mesa 25.0.4</td></tr><tr title=\"This adapter can be used with fastplotlib\"><td>✅ (default) </td><td>NVIDIA GeForce RTX 4060 Laptop GPU</td><td>DiscreteGPU</td><td>Vulkan</td><td>565.77</td></tr><tr title=\"CPU rendering support is limited and mainly for testing purposes\"><td>❗ limited</td><td>llvmpipe (LLVM 19.1.7, 256 bits)</td><td>CPU</td><td>Vulkan</td><td>Mesa 25.0.4 (LLVM 19.1.7)</td></tr><tr title=\"This adapter cannot be used with fastplotlib\"><td>❌</td><td>Mesa Intel(R) Arc(tm) Graphics (MTL)</td><td>IntegratedGPU</td><td>OpenGL</td><td>4.6 (Core Profile) Mesa 25.0.4</td></tr></table>"
      ],
      "text/plain": [
       "<IPython.core.display.HTML object>"
      ]
     },
     "metadata": {},
     "output_type": "display_data"
    },
    {
     "name": "stderr",
     "output_type": "stream",
     "text": [
      "Detected skylake derivative running on mesa i915. Clears to srgb textures will use manual shader clears.\n",
      "Detected skylake derivative running on mesa i915. Clears to srgb textures will use manual shader clears.\n"
     ]
    }
   ],
   "source": [
    "import ssm\n",
    "from pathlib import Path\n",
    "from scipy.io import loadmat\n",
    "import numpy as np\n",
    "import matplotlib.pyplot as plt\n",
    "from tqdm import tqdm\n",
    "from real_spike.utils import *\n",
    "\n",
    "from scipy.ndimage import gaussian_filter1d\n",
    "\n",
    "import random\n",
    "import h5py\n",
    "\n",
    "import fastplotlib as fpl\n",
    "from ipywidgets import IntSlider, VBox, Layout, Select, HBox\n",
    "\n",
    "from PIL import Image\n",
    "%matplotlib inline"
   ]
  },
  {
   "cell_type": "code",
   "execution_count": 2,
   "id": "4f6dbe06-d3ba-421b-aa6c-c270bbd1c1b1",
   "metadata": {},
   "outputs": [],
   "source": [
    "path = f\"/home/clewis/repos/realSpike/data/behavior/rb50_20250125/\""
   ]
  },
  {
   "cell_type": "code",
   "execution_count": 3,
   "id": "1d6db349-793a-4d59-a7ca-f0474b2fe5b2",
   "metadata": {},
   "outputs": [],
   "source": [
    "video_path =  Path(\"/home/clewis/wasabi/reaganbullins2/ProjectionProject/rb50/20250125/videos/\")"
   ]
  },
  {
   "cell_type": "markdown",
   "id": "8a7b2594-1aac-43fe-a5f6-a473249b6d60",
   "metadata": {},
   "source": [
    "# Get data"
   ]
  },
  {
   "cell_type": "code",
   "execution_count": 4,
   "id": "37c5d4af-c98c-48f9-9ca9-f1f78bd076c7",
   "metadata": {},
   "outputs": [
    {
     "name": "stdout",
     "output_type": "stream",
     "text": [
      "<KeysViewHDF5 ['aligned_cue_rec_time', 'aligned_laser_rec_time', 'any', 'chan_spk', 'cue', 'cue_rec_time', 'cue_trial_time', 'depth_spk', 'field_id', 'field_size', 'full_field', 'grab', 'grab_ms', 'laser', 'laser_rec_time', 'laser_trial_time', 'lift', 'lift_ms', 'lift_rec_time', 'mouth', 'mouth_ms', 'no_success', 'pattern_fill', 'pattern_id', 'pattern_xy', 'plift', 'plift_ms', 'single', 'spikes_raw_cue', 'spikes_raw_cue_extended', 'spikes_raw_laser', 'spikes_raw_lift', 'totTime', 'trial_start']>\n"
     ]
    }
   ],
   "source": [
    "f = h5py.File(\"/home/clewis/wasabi/reaganbullins2/ProjectionProject/rb50/20250125/MAT_FILES/rb50_20250125_datastruct_pt3.mat\", 'r')\n",
    "data = f['data']\n",
    "print(data.keys())"
   ]
  },
  {
   "cell_type": "code",
   "execution_count": null,
   "id": "545094f1-9235-4e8a-8321-fd9c25f5a7e5",
   "metadata": {},
   "outputs": [],
   "source": []
  },
  {
   "cell_type": "markdown",
   "id": "86708f48-a402-43c2-9031-5a38a43c8e3c",
   "metadata": {},
   "source": [
    "# Plot the patterns"
   ]
  },
  {
   "cell_type": "code",
   "execution_count": 5,
   "id": "3feabc53-5a60-419e-8981-a08004f82127",
   "metadata": {},
   "outputs": [
    {
     "data": {
      "text/plain": [
       "30"
      ]
     },
     "execution_count": 5,
     "metadata": {},
     "output_type": "execute_result"
    }
   ],
   "source": [
    "# visualize the patterns again\n",
    "pattern_ids = list(np.unique(data['pattern_id'][:]))\n",
    "len(pattern_ids)"
   ]
  },
  {
   "cell_type": "code",
   "execution_count": 6,
   "id": "3aac36d1-ba12-4e60-9da2-69ce47feaf22",
   "metadata": {},
   "outputs": [],
   "source": [
    "from scipy.ndimage import zoom"
   ]
  },
  {
   "cell_type": "code",
   "execution_count": 7,
   "id": "ffb3ffdb-13d1-4d4b-b3d9-a26fffee1ca0",
   "metadata": {},
   "outputs": [],
   "source": [
    "reshape_size = 12"
   ]
  },
  {
   "cell_type": "code",
   "execution_count": null,
   "id": "f0e63ab7-383b-4001-85a4-c69853c382ab",
   "metadata": {},
   "outputs": [],
   "source": []
  },
  {
   "cell_type": "code",
   "execution_count": 8,
   "id": "94f6869d-f1a6-4e08-977d-383aef03a65e",
   "metadata": {},
   "outputs": [],
   "source": [
    "all_patterns = list()\n",
    "\n",
    "for p_id in pattern_ids[3:]:\n",
    "    ix = np.where(data['pattern_id'][:] == p_id)[1][0].astype(np.int32)\n",
    "    pattern = np.zeros((data['pattern_xy'][0][ix].astype(np.int32), data['pattern_xy'][1][ix].astype(np.int32)))\n",
    "    # use the pattern fill to set elements to one\n",
    "    object_ref = f[data['pattern_fill'][ix, 0]]\n",
    "    for x, y in zip(object_ref[0, :], object_ref[1, :]):\n",
    "        pattern[x.astype(np.int32)-1, y.astype(np.int32)-1] = 1\n",
    "\n",
    "    pattern = zoom(pattern, (reshape_size / pattern.shape[0], reshape_size / pattern.shape[1]), order=0)\n",
    "\n",
    "    all_patterns.append(pattern)\n"
   ]
  },
  {
   "cell_type": "code",
   "execution_count": 9,
   "id": "e3ccf6ca-313c-4b24-a7ad-07e3743d4bac",
   "metadata": {},
   "outputs": [
    {
     "data": {
      "text/plain": [
       "27"
      ]
     },
     "execution_count": 9,
     "metadata": {},
     "output_type": "execute_result"
    }
   ],
   "source": [
    "len(all_patterns)"
   ]
  },
  {
   "cell_type": "code",
   "execution_count": null,
   "id": "73ca5b87-a0be-48ed-8bef-dab1428329a1",
   "metadata": {},
   "outputs": [],
   "source": []
  },
  {
   "cell_type": "markdown",
   "id": "57141080-330c-4874-b249-81e0f6263fae",
   "metadata": {},
   "source": [
    "# Get single-reach trials"
   ]
  },
  {
   "cell_type": "code",
   "execution_count": 10,
   "id": "ee38b4de-1def-4750-b27e-f5866bc06ecb",
   "metadata": {},
   "outputs": [],
   "source": [
    "stim_idxs = np.where(data[\"pattern_id\"][:] > 2)[1]\n",
    "single_reach_idxs = np.where(data[\"single\"][:, 0] == 1)"
   ]
  },
  {
   "cell_type": "code",
   "execution_count": 11,
   "id": "80547336-f82f-4d62-934f-59b042fb072e",
   "metadata": {},
   "outputs": [
    {
     "data": {
      "text/plain": [
       "array([ 16,  18,  20,  22,  23,  24,  29,  31,  32,  34,  37,  38,  40,\n",
       "        42,  43,  46,  47,  48,  52,  55,  56,  60,  61,  62,  64,  67,\n",
       "        68,  70,  71,  73,  76,  77,  78,  82,  83,  86,  89,  90,  92,\n",
       "        94,  97,  98, 101, 103, 104, 106, 107, 108, 113, 114, 116, 118,\n",
       "       121, 122, 124, 127, 128, 131, 132, 133, 150, 152, 153, 154, 155,\n",
       "       156, 157, 158, 159, 160, 161, 162, 163, 164, 165, 166, 167, 168,\n",
       "       169, 171, 172, 173, 174, 175, 176, 177, 178, 179, 180, 181, 182,\n",
       "       183, 184, 185, 186, 188, 189, 190, 191, 192, 193, 194, 195, 196,\n",
       "       198, 199, 200, 201, 202, 203, 204, 205, 206, 207, 208, 209, 210,\n",
       "       212, 213, 214, 215, 216, 217, 218, 219, 220, 221, 222, 223, 224,\n",
       "       225, 226, 227, 228, 229, 230, 231, 232, 233, 234, 235, 237, 238,\n",
       "       239, 240, 241, 242, 243, 244, 245, 246, 248, 249, 250, 251, 252,\n",
       "       254, 255, 256, 257, 258, 259, 260, 261, 262, 263, 264, 265, 266,\n",
       "       267, 268, 269, 270, 271, 272, 273, 274, 275, 277, 278, 279, 280,\n",
       "       281, 282, 284, 285, 286, 287, 288, 289, 290, 291, 292, 293, 294,\n",
       "       295, 296, 297, 298, 299, 300, 301, 302, 303, 304, 305, 306, 307,\n",
       "       308, 309, 310, 311, 312, 313, 314, 316, 317, 318, 319, 321, 322,\n",
       "       323, 325, 326, 327, 328, 329, 330, 331, 332, 333, 334, 335, 337,\n",
       "       338, 339, 340, 341, 342, 343, 344, 345, 346, 347, 348, 349, 350,\n",
       "       351, 352, 353, 354, 355, 356, 357, 358, 359, 360, 363, 364, 365,\n",
       "       366, 367, 368, 369, 370, 371, 372, 373, 374, 375, 376, 377, 378,\n",
       "       379, 380, 381, 382, 383, 384, 385, 386, 387, 388, 389, 390, 391,\n",
       "       392, 393, 394, 395, 396, 397, 398, 401, 402, 403, 404, 405, 406,\n",
       "       407, 408, 409, 410, 411, 412, 413, 414, 415, 416, 417, 418, 419,\n",
       "       420, 422, 423, 424, 425, 426, 427, 428, 429, 430, 431, 432, 433,\n",
       "       434, 435, 436, 438, 439])"
      ]
     },
     "execution_count": 11,
     "metadata": {},
     "output_type": "execute_result"
    }
   ],
   "source": [
    "stim_idxs"
   ]
  },
  {
   "cell_type": "code",
   "execution_count": 12,
   "id": "f29428b1-2bc0-47a3-a89e-1cac2553988c",
   "metadata": {},
   "outputs": [
    {
     "data": {
      "text/plain": [
       "(array([  2,   6,   7,   9,  10,  12,  13,  14,  15,  18,  20,  21,  23,\n",
       "         26,  27,  28,  30,  32,  33,  35,  36,  37,  40,  41,  42,  44,\n",
       "         45,  48,  50,  51,  53,  55,  56,  57,  60,  61,  63,  67,  68,\n",
       "         70,  75,  78,  80,  83,  84,  86,  96,  97, 100, 101, 102, 103,\n",
       "        106, 110, 111, 115, 118, 121, 123, 125, 128, 129, 131, 138, 142,\n",
       "        145, 147, 149]),)"
      ]
     },
     "execution_count": 12,
     "metadata": {},
     "output_type": "execute_result"
    }
   ],
   "source": [
    "single_reach_idxs"
   ]
  },
  {
   "cell_type": "code",
   "execution_count": 13,
   "id": "587990aa-24a1-45e9-afc5-df98ef6e592a",
   "metadata": {},
   "outputs": [
    {
     "data": {
      "text/plain": [
       "array([ 18,  20,  23,  32,  37,  40,  42,  48,  55,  56,  60,  61,  67,\n",
       "        68,  70,  78,  83,  86,  97, 101, 103, 106, 118, 121, 128, 131])"
      ]
     },
     "execution_count": 13,
     "metadata": {},
     "output_type": "execute_result"
    }
   ],
   "source": [
    "# get no laser trials\n",
    "behavior_idxs = np.intersect1d(stim_idxs, single_reach_idxs)\n",
    "behavior_idxs"
   ]
  },
  {
   "cell_type": "code",
   "execution_count": 14,
   "id": "9686659c-f128-4a1d-be17-a96531e8fb1b",
   "metadata": {},
   "outputs": [
    {
     "data": {
      "text/plain": [
       "(26,)"
      ]
     },
     "execution_count": 14,
     "metadata": {},
     "output_type": "execute_result"
    }
   ],
   "source": [
    "behavior_idxs.shape"
   ]
  },
  {
   "cell_type": "code",
   "execution_count": null,
   "id": "b0acac40-f1ff-4d33-a8aa-6030e0f55d57",
   "metadata": {},
   "outputs": [],
   "source": []
  },
  {
   "cell_type": "markdown",
   "id": "52ae2d89-93a0-417f-8f39-68795ab5a5b4",
   "metadata": {},
   "source": [
    "## Get relevant time information"
   ]
  },
  {
   "cell_type": "code",
   "execution_count": 15,
   "id": "386e979e-9792-4e9f-837b-b30f4c69a70c",
   "metadata": {},
   "outputs": [
    {
     "data": {
      "text/plain": [
       "((26, 1), (26, 1), (26, 1))"
      ]
     },
     "execution_count": 15,
     "metadata": {},
     "output_type": "execute_result"
    }
   ],
   "source": [
    "cue_times = data[\"aligned_cue_rec_time\"][behavior_idxs, :]\n",
    "lift_times = data[\"lift_ms\"][behavior_idxs, :]\n",
    "grab_times = data[\"mouth_ms\"][behavior_idxs, :]\n",
    "(cue_times.shape, lift_times.shape, grab_times.shape)"
   ]
  },
  {
   "cell_type": "code",
   "execution_count": null,
   "id": "ad97f548-1318-4a59-93a1-77c0fb0b6cfb",
   "metadata": {},
   "outputs": [],
   "source": []
  },
  {
   "cell_type": "code",
   "execution_count": null,
   "id": "fa82d496-ab29-41ca-8ab5-a08dbade81d6",
   "metadata": {},
   "outputs": [],
   "source": []
  },
  {
   "cell_type": "markdown",
   "id": "a344751d-1d06-445e-806c-b481d1402309",
   "metadata": {},
   "source": [
    "## Get the AP.bin file"
   ]
  },
  {
   "cell_type": "code",
   "execution_count": 16,
   "id": "6811b68a-8530-4fd4-8dec-0c87e7b14ab5",
   "metadata": {},
   "outputs": [],
   "source": [
    "file_path = Path(\"/home/clewis/wasabi/reaganbullins2/ProjectionProject/rb50/20250125/rb50_20250125_g0/rb50_20250125_g0_t0.imec0.ap.bin\")\n",
    "meta_path = Path(\"/home/clewis/wasabi/reaganbullins2/ProjectionProject/rb50/20250125/rb50_20250125_g0/rb50_20250125_g0_t0.imec0.ap.meta\")"
   ]
  },
  {
   "cell_type": "code",
   "execution_count": 17,
   "id": "961fda92-b8c2-41e9-a295-d1ae578c7788",
   "metadata": {},
   "outputs": [],
   "source": [
    "meta_data = get_meta(meta_path)"
   ]
  },
  {
   "cell_type": "code",
   "execution_count": 18,
   "id": "08f7acf3-5aaa-49fe-a254-931688032a4f",
   "metadata": {},
   "outputs": [
    {
     "data": {
      "text/plain": [
       "(385, 164723792)"
      ]
     },
     "execution_count": 18,
     "metadata": {},
     "output_type": "execute_result"
    }
   ],
   "source": [
    "ap_data = get_sample_data(file_path, meta_data)\n",
    "ap_data.shape"
   ]
  },
  {
   "cell_type": "code",
   "execution_count": null,
   "id": "68d1c941-7c6e-40e1-b0cc-ef9cea7ef30c",
   "metadata": {},
   "outputs": [],
   "source": []
  },
  {
   "cell_type": "markdown",
   "id": "890106c1-39f3-445f-b6ed-c3dd99ca1659",
   "metadata": {},
   "source": [
    "## Get conversion params"
   ]
  },
  {
   "cell_type": "code",
   "execution_count": 19,
   "id": "bff19b48-caa4-4b65-9687-594ef64fa7b9",
   "metadata": {},
   "outputs": [
    {
     "data": {
      "text/plain": [
       "(0.6, 512.0, 500.0)"
      ]
     },
     "execution_count": 19,
     "metadata": {},
     "output_type": "execute_result"
    }
   ],
   "source": [
    "vmax = float(meta_data[\"imAiRangeMax\"])\n",
    "# get Imax\n",
    "imax = float(meta_data[\"imMaxInt\"])\n",
    "# get gain\n",
    "gain = float(meta_data['imroTbl'].split(sep=')')[1].split(sep=' ')[3])\n",
    "\n",
    "(vmax, imax, gain)"
   ]
  },
  {
   "cell_type": "code",
   "execution_count": null,
   "id": "ca62b13c-c040-482f-a305-e1b3f45e1dc9",
   "metadata": {},
   "outputs": [],
   "source": []
  },
  {
   "cell_type": "markdown",
   "id": "fbeb8c86-4544-4d1e-a871-37522a33e943",
   "metadata": {},
   "source": [
    "# Get the model data"
   ]
  },
  {
   "cell_type": "code",
   "execution_count": 20,
   "id": "f7ddffd0-86e9-4131-8ff3-acbe6085d973",
   "metadata": {},
   "outputs": [],
   "source": [
    "def get_trials(idxs, bin_size):\n",
    "    \n",
    "    model_data = list()\n",
    "    \n",
    "    for i, j in tqdm(enumerate(idxs)):\n",
    "        c = data[\"aligned_cue_rec_time\"][j, 0] \n",
    "        g = data[\"grab_ms\"][j, 0]\n",
    "        # 50 ms before cue\n",
    "        cue_time = int((c - 50) / 1_000 * 30_000)\n",
    "\n",
    "        # end at grab \n",
    "        end_behavior = int((c + g) / 1_000 * 30_000) + 30\n",
    "\n",
    "        \n",
    "        trial = ap_data[:150, cue_time:end_behavior]\n",
    "    \n",
    "        # convert to microvolts\n",
    "        conv_data = 1e6 * trial / vmax / imax / gain\n",
    "        # high pass filter \n",
    "        filt_data = butter_filter(conv_data, 1_000, 30_000)\n",
    "\n",
    "        # get 1 second before the median \n",
    "        m_start = cue_time - (30 * 1000)\n",
    "        # convert to microvolts, high pass filter\n",
    "        trial_median = ap_data[:150, m_start:cue_time]\n",
    "        trial_median = 1e6 * trial_median / vmax / imax / gain\n",
    "        trial_median = butter_filter(trial_median, 1_000, 30_000)\n",
    "        \n",
    "        # calculate the median\n",
    "        median = np.median(trial_median, axis=1)\n",
    "\n",
    "        # get spike times\n",
    "        spike_ixs, counts = get_spike_events(filt_data, median)\n",
    "        \n",
    "        a = np.zeros((filt_data.shape[0], filt_data.shape[1]))\n",
    "    \n",
    "        for i, sc in enumerate(spike_ixs):\n",
    "            a[i, sc] = 1\n",
    "    \n",
    "        b = bin_size * 30 # 30ms per bin\n",
    "        binned_spikes = bin_spikes(a, b)\n",
    "\n",
    "        model_data.append(np.asarray(binned_spikes.T, dtype=int))\n",
    "\n",
    "    return model_data"
   ]
  },
  {
   "cell_type": "code",
   "execution_count": 21,
   "id": "e77271fb-bd3d-4c51-94fb-eee900e38dc3",
   "metadata": {},
   "outputs": [],
   "source": [
    "bin_size = 5"
   ]
  },
  {
   "cell_type": "code",
   "execution_count": 22,
   "id": "2c89ebbc-a426-4002-8b24-aa3fc3e7eb73",
   "metadata": {},
   "outputs": [
    {
     "name": "stderr",
     "output_type": "stream",
     "text": [
      "26it [01:23,  3.21s/it]\n"
     ]
    }
   ],
   "source": [
    "model_data = get_trials(behavior_idxs, bin_size)"
   ]
  },
  {
   "cell_type": "code",
   "execution_count": 26,
   "id": "96b9385e-d9ed-49c8-bb64-b460c8e016a2",
   "metadata": {},
   "outputs": [
    {
     "data": {
      "text/plain": [
       "(92, 150)"
      ]
     },
     "execution_count": 26,
     "metadata": {},
     "output_type": "execute_result"
    }
   ],
   "source": [
    "model_data[0].shape"
   ]
  },
  {
   "cell_type": "code",
   "execution_count": 27,
   "id": "0aad3975-a385-421c-9f81-3239aa815563",
   "metadata": {},
   "outputs": [
    {
     "data": {
      "text/plain": [
       "(72, 91)"
      ]
     },
     "execution_count": 27,
     "metadata": {},
     "output_type": "execute_result"
    }
   ],
   "source": [
    "# taking 50ms before cue, need to shift\n",
    "cue = int(50 / bin_size)\n",
    "\n",
    "lift = int(data[\"lift_ms\"][18, 0] / bin_size) + cue\n",
    "\n",
    "grab = int(data[\"grab_ms\"][18, 0] / bin_size) + cue - 1\n",
    "(lift, grab)"
   ]
  },
  {
   "cell_type": "markdown",
   "id": "1ab5e6cd-0e4b-4273-a927-49250e705fe4",
   "metadata": {},
   "source": [
    "### Sanity check the time points"
   ]
  },
  {
   "cell_type": "code",
   "execution_count": 28,
   "id": "a48ee8b6-7892-4839-a9ff-010e25f49d33",
   "metadata": {},
   "outputs": [
    {
     "data": {
      "text/plain": [
       "<matplotlib.lines.Line2D at 0x7fc78cf3b290>"
      ]
     },
     "execution_count": 28,
     "metadata": {},
     "output_type": "execute_result"
    },
    {
     "data": {
      "image/png": "[encoded data removed]",
      "text/plain": [
       "<Figure size 400x652.174 with 1 Axes>"
      ]
     },
     "metadata": {},
     "output_type": "display_data"
    }
   ],
   "source": [
    "plt.matshow(model_data[0].T)\n",
    "plt.axvline(cue, c=\"red\", linestyle=\"--\", lw=1)\n",
    "plt.axvline(lift, c=\"red\", linestyle=\"--\")\n",
    "plt.axvline(grab, c=\"red\", linestyle=\"--\")"
   ]
  },
  {
   "cell_type": "code",
   "execution_count": null,
   "id": "eab4115e-7fb2-4e57-93cd-7f7b13ae79dd",
   "metadata": {},
   "outputs": [],
   "source": []
  },
  {
   "cell_type": "markdown",
   "id": "38e3fa20-c06b-480c-9a00-8af10932fe93",
   "metadata": {},
   "source": [
    "# Design the input matrix"
   ]
  },
  {
   "cell_type": "code",
   "execution_count": 29,
   "id": "d3be208b-3ea0-47bd-bd83-46d8ec9c3912",
   "metadata": {},
   "outputs": [
    {
     "data": {
      "text/plain": [
       "array([14., 17., 20.])"
      ]
     },
     "execution_count": 29,
     "metadata": {},
     "output_type": "execute_result"
    }
   ],
   "source": [
    "p_ids = np.unique(data[\"pattern_id\"][0, behavior_idxs])\n",
    "\n",
    "p_ids"
   ]
  },
  {
   "cell_type": "code",
   "execution_count": null,
   "id": "69e4716a-d75b-475e-92a3-945ce1212a4a",
   "metadata": {},
   "outputs": [],
   "source": []
  },
  {
   "cell_type": "markdown",
   "id": "96ca0c96-2108-4412-87f0-1dcc38df5e90",
   "metadata": {},
   "source": [
    "## Get colors for plotting"
   ]
  },
  {
   "cell_type": "code",
   "execution_count": 30,
   "id": "bae27d21-0ddc-48b5-b6cd-256ef222e43f",
   "metadata": {},
   "outputs": [],
   "source": [
    "c = {\n",
    "    14: \"blue\",\n",
    "    17: \"orange\",\n",
    "    20: \"green\"\n",
    "}"
   ]
  },
  {
   "cell_type": "code",
   "execution_count": 31,
   "id": "7d31035a-682e-4d36-983d-e38e62787394",
   "metadata": {},
   "outputs": [
    {
     "data": {
      "text/plain": [
       "3"
      ]
     },
     "execution_count": 31,
     "metadata": {},
     "output_type": "execute_result"
    }
   ],
   "source": [
    "len(c)"
   ]
  },
  {
   "cell_type": "code",
   "execution_count": 32,
   "id": "e6e13e66-0858-4f91-8c3f-af5e6e97311e",
   "metadata": {},
   "outputs": [
    {
     "data": {
      "text/plain": [
       "<matplotlib.image.AxesImage at 0x7fc781dd8f10>"
      ]
     },
     "execution_count": 32,
     "metadata": {},
     "output_type": "execute_result"
    },
    {
     "data": {
      "image/png": "[encoded data removed]",
      "text/plain": [
       "<Figure size 640x480 with 1 Axes>"
      ]
     },
     "metadata": {},
     "output_type": "display_data"
    }
   ],
   "source": [
    "from matplotlib.colors import ListedColormap\n",
    "\n",
    "cmap = ListedColormap(c.values())\n",
    "\n",
    "plt.imshow(np.arange(len(c)).reshape(1,-1), aspect=\"auto\", cmap=cmap)"
   ]
  },
  {
   "cell_type": "markdown",
   "id": "3795b001-58ee-4f85-bf8d-4e027bfa12f1",
   "metadata": {},
   "source": [
    "# Create encodings "
   ]
  },
  {
   "cell_type": "code",
   "execution_count": 33,
   "id": "a8074dfd-4f55-4d56-b3bd-1be22e1b337b",
   "metadata": {},
   "outputs": [],
   "source": [
    "import math"
   ]
  },
  {
   "cell_type": "code",
   "execution_count": 34,
   "id": "f1a02737-e0c1-4a19-9142-75a1cd99ac3a",
   "metadata": {},
   "outputs": [],
   "source": [
    "inputs = list()\n",
    "colors = list()\n",
    "for i, d in zip(stim_idxs, model_data):\n",
    "    # get the pattern id \n",
    "    p_id = int(data[\"pattern_id\"][0][i]) - 3\n",
    "\n",
    "    colors.append(c[p_id + 3])\n",
    "\n",
    "    encoding = all_patterns[p_id].ravel() \n",
    "\n",
    "    # stack the encoding for every timepoint (each bin)\n",
    "    nput = np.zeros((d.shape[0], reshape_size**2))\n",
    "\n",
    "    for z in range(math.ceil(5 / bin_size)):\n",
    "        nput[int(50 / bin_size) + z] = encoding\n",
    "\n",
    "    inputs.append(nput)"
   ]
  },
  {
   "cell_type": "code",
   "execution_count": 35,
   "id": "f8bccc74-5025-417f-aa5e-b094b2e81c6f",
   "metadata": {},
   "outputs": [
    {
     "data": {
      "image/png": "[encoded data removed]",
      "text/plain": [
       "<Figure size 640x480 with 1 Axes>"
      ]
     },
     "metadata": {},
     "output_type": "display_data"
    }
   ],
   "source": [
    "plt.imshow(inputs[0].T, cmap=\"binary\")\n",
    "plt.title(\"Pattern Encoding\")\n",
    "plt.xlabel(\"Bins\")\n",
    "plt.ylabel(\"Pixel Location\")\n",
    "plt.show()"
   ]
  },
  {
   "cell_type": "code",
   "execution_count": null,
   "id": "d018a252-c149-402a-b855-deef2b7d5ebb",
   "metadata": {},
   "outputs": [],
   "source": []
  },
  {
   "cell_type": "code",
   "execution_count": null,
   "id": "b82a7849-23d3-4cff-90aa-f5a7dade91e4",
   "metadata": {},
   "outputs": [],
   "source": []
  },
  {
   "cell_type": "markdown",
   "id": "cdb7bf07-6ea7-4400-a874-39e0dfb78395",
   "metadata": {},
   "source": [
    "# Fit the model"
   ]
  },
  {
   "cell_type": "code",
   "execution_count": 36,
   "id": "b2cc4417-ac74-41ee-b6dd-553ee12b161d",
   "metadata": {},
   "outputs": [
    {
     "data": {
      "application/vnd.jupyter.widget-view+json": {
       "model_id": "9308fff98f7b4fc59116a7999ef6b69e",
       "version_major": 2,
       "version_minor": 0
      },
      "text/plain": [
       "  0%|          | 0/1 [00:00<?, ?it/s]"
      ]
     },
     "metadata": {},
     "output_type": "display_data"
    },
    {
     "name": "stdout",
     "output_type": "stream",
     "text": [
      "Initializing with an ARHMM using 25 steps of EM.\n"
     ]
    },
    {
     "data": {
      "application/vnd.jupyter.widget-view+json": {
       "model_id": "0bb8eb37750c4f25b929dc87fff441ca",
       "version_major": 2,
       "version_minor": 0
      },
      "text/plain": [
       "  0%|          | 0/25 [00:00<?, ?it/s]"
      ]
     },
     "metadata": {},
     "output_type": "display_data"
    },
    {
     "data": {
      "application/vnd.jupyter.widget-view+json": {
       "model_id": "ce171551271344488860ee4b40bc13c5",
       "version_major": 2,
       "version_minor": 0
      },
      "text/plain": [
       "  0%|          | 0/5 [00:00<?, ?it/s]"
      ]
     },
     "metadata": {},
     "output_type": "display_data"
    }
   ],
   "source": [
    "state_dim = 3\n",
    "obs_dim = model_data[0].shape[1] \n",
    "\n",
    "plds = ssm.SLDS(N=obs_dim, \n",
    "                K=2, \n",
    "                D=state_dim, \n",
    "                M=144, \n",
    "                emissions=\"poisson\", \n",
    "                emission_kwargs=dict(link=\"softplus\"),\n",
    "                dynamics=\"diagonal_gaussian\",\n",
    "                transitions=\"recurrent\"\n",
    "               )\n",
    "\n",
    "elbos, q = plds.fit(model_data, inputs=inputs, method=\"laplace_em\", num_iters=5)"
   ]
  },
  {
   "cell_type": "code",
   "execution_count": null,
   "id": "599e7fa4-a88f-49ad-a470-2ef4d50f36ea",
   "metadata": {},
   "outputs": [],
   "source": []
  },
  {
   "cell_type": "code",
   "execution_count": null,
   "id": "22e1fa01-21ae-4115-a1d1-05cd4576ca6f",
   "metadata": {},
   "outputs": [],
   "source": []
  },
  {
   "cell_type": "code",
   "execution_count": 37,
   "id": "9fe5884e-d131-46cf-869b-33cb26edd257",
   "metadata": {},
   "outputs": [
    {
     "data": {
      "text/plain": [
       "26"
      ]
     },
     "execution_count": 37,
     "metadata": {},
     "output_type": "execute_result"
    }
   ],
   "source": [
    "state_means = q.mean_continuous_states\n",
    "len(state_means)"
   ]
  },
  {
   "cell_type": "code",
   "execution_count": null,
   "id": "a005da41-4088-4fca-b56c-41487c956721",
   "metadata": {},
   "outputs": [],
   "source": []
  },
  {
   "cell_type": "markdown",
   "id": "43d673a6-feca-44ca-8e5d-9d593c3d7a1f",
   "metadata": {},
   "source": [
    "# Visualize a trial"
   ]
  },
  {
   "cell_type": "code",
   "execution_count": 85,
   "id": "8136cfab-a942-4c7f-a88a-69355a56e11e",
   "metadata": {},
   "outputs": [],
   "source": [
    "trial_no = 0"
   ]
  },
  {
   "cell_type": "code",
   "execution_count": 86,
   "id": "f0ab3b6f-a1c7-43bb-9971-c1afbb0bb53b",
   "metadata": {},
   "outputs": [
    {
     "data": {
      "text/plain": [
       "np.int64(18)"
      ]
     },
     "execution_count": 86,
     "metadata": {},
     "output_type": "execute_result"
    }
   ],
   "source": [
    "behavior_idxs[0]"
   ]
  },
  {
   "cell_type": "code",
   "execution_count": 87,
   "id": "03c54461-72c4-4a03-b9e8-a9b13a45bd46",
   "metadata": {},
   "outputs": [
    {
     "data": {
      "text/plain": [
       "((2498, 290, 448), (2498, 290, 448))"
      ]
     },
     "execution_count": 87,
     "metadata": {},
     "output_type": "execute_result"
    }
   ],
   "source": [
    "i = behavior_idxs[trial_no]\n",
    "# get video \n",
    "front_video = LazyVideo(video_path.joinpath(f\"rb50_20250125_front_v0{i + 1}.avi\"))\n",
    "side_video = LazyVideo(video_path.joinpath(f\"rb50_20250125_side_v0{i + 1}.avi\"))\n",
    "(front_video.shape, side_video.shape)"
   ]
  },
  {
   "cell_type": "code",
   "execution_count": 88,
   "id": "2dc493a2-ee84-4f52-81ae-391e2098dea3",
   "metadata": {},
   "outputs": [
    {
     "data": {
      "application/vnd.jupyter.widget-view+json": {
       "model_id": "1ca852b2808e43508bcfe99020e1ea46",
       "version_major": 2,
       "version_minor": 0
      },
      "text/plain": [
       "RFBOutputContext()"
      ]
     },
     "metadata": {},
     "output_type": "display_data"
    }
   ],
   "source": [
    "fig = fpl.Figure(shape=(2,2), \n",
    "                 size=(800, 800), \n",
    "                 names=[\"front\", \"side\", \"binned_spikes\", \"z_t\"], \n",
    "               #  cameras=[\"2d\", \"2d\", \"2d\", \"3d\"]\n",
    "                )\n",
    "\n",
    "fig[\"front\"].axes.visible = False\n",
    "fig[\"front\"].controller.enabled = False\n",
    "fig[\"side\"].axes.visible = False\n",
    "fig[\"side\"].controller.enabled = False\n",
    "fig[\"binned_spikes\"].axes.visible = False\n",
    "fig[\"binned_spikes\"].camera.maintain_aspect = False\n",
    "fig[\"binned_spikes\"].controller.enabled = False\n",
    "\n",
    "fig[\"z_t\"].camera = \"3d\"\n",
    "fig[\"z_t\"].controller = \"fly\""
   ]
  },
  {
   "cell_type": "code",
   "execution_count": 89,
   "id": "8dd4cbaa-0dbf-45e4-9fe0-704829f0cf28",
   "metadata": {},
   "outputs": [],
   "source": [
    "front_graphic = fig[\"front\"].add_image(front_video[0])\n",
    "side_graphic = fig[\"side\"].add_image(side_video[0])\n",
    "heatmap = fig[\"binned_spikes\"].add_image(model_data[trial_no].T, cmap=\"viridis\")\n",
    "ls = heatmap.add_linear_selector()\n",
    "z_smooth = gaussian_filter1d(state_means[trial_no], 6, axis=0)\n",
    "z_graphic = fig[\"z_t\"].add_line(z_smooth)\n"
   ]
  },
  {
   "cell_type": "code",
   "execution_count": 90,
   "id": "d9affd2e-61d8-40cb-8f49-51618262e93b",
   "metadata": {},
   "outputs": [
    {
     "data": {
      "text/plain": [
       "(72, 91)"
      ]
     },
     "execution_count": 90,
     "metadata": {},
     "output_type": "execute_result"
    }
   ],
   "source": [
    "cue = int(50 / bin_size)\n",
    "\n",
    "lift = int(data[\"lift_ms\"][18, 0] / bin_size) + cue\n",
    "\n",
    "grab = int(data[\"grab_ms\"][18, 0] / bin_size) + cue - 1\n",
    "(lift, grab)"
   ]
  },
  {
   "cell_type": "code",
   "execution_count": 91,
   "id": "435184f7-8fd5-4270-ba9a-ff44b0eefde9",
   "metadata": {},
   "outputs": [],
   "source": [
    "# mark stim \n",
    "z_stim = fig[\"z_t\"].add_scatter(z_smooth[cue].reshape(1,3), sizes=15, colors=\"blue\")\n",
    "# mark lift \n",
    "z_lift = fig[\"z_t\"].add_scatter(z_smooth[lift].reshape(1,3), sizes=15, colors=\"green\")\n",
    "# mark grab \n",
    "z_grab = fig[\"z_t\"].add_scatter(z_smooth[grab].reshape(1,3), sizes=15, colors=\"yellow\")\n",
    "\n",
    "# add tracer\n",
    "z_point = fig[\"z_t\"].add_scatter(z_smooth[0].reshape(1,3), sizes=15, colors=\"red\")"
   ]
  },
  {
   "cell_type": "code",
   "execution_count": 92,
   "id": "2f7a1d71-e2d2-44f5-a4c8-3ede47c3dca6",
   "metadata": {},
   "outputs": [],
   "source": [
    "slider = IntSlider(value=0, min=0, max=model_data[trial_no].shape[0]-1, layout=Layout(width=\"50%\"))"
   ]
  },
  {
   "cell_type": "code",
   "execution_count": 93,
   "id": "0865a6ee-7be0-4e2c-8653-455cd92c0f57",
   "metadata": {},
   "outputs": [],
   "source": [
    "selection = Select(\n",
    "    options=list(behavior_idxs),\n",
    "    value=behavior_idxs[0],\n",
    "    # rows=10,\n",
    "    description='Trial:',\n",
    "    disabled=False,\n",
    "    layout=Layout(width=\"25%\")\n",
    ")"
   ]
  },
  {
   "cell_type": "code",
   "execution_count": 94,
   "id": "f49d20df-06ca-436c-b6d1-29ac7e19edd9",
   "metadata": {},
   "outputs": [],
   "source": [
    "def update(ev):\n",
    "    global cue\n",
    "    global front_video\n",
    "    global side_video\n",
    "    t = ev[\"new\"] \n",
    "\n",
    "    # update linear selector in heatmap \n",
    "    ls.selection = t \n",
    "\n",
    "    # update scatter point selection \n",
    "    z_point.data = z_graphic.data[t].reshape(1,3)\n",
    "\n",
    "    if t >= cue: \n",
    "        # if right at the end near grab, need to add 1\n",
    "        if t == z_graphic.data.value.shape[0] - 1:\n",
    "            t += 1\n",
    "        # update the video \n",
    "        s = ((t+1) * 5) + 950\n",
    "        s = math.ceil(s / 2)\n",
    "        front_graphic.data = front_video[s]\n",
    "        side_graphic.data = side_video[s]\n",
    "\n",
    "    # output save for ffmpeg\n",
    "    d = fig.canvas.snapshot().data\n",
    "    pil_image = Image.fromarray(d, 'RGBA')\n",
    "    pil_image.save(f'/home/clewis/Desktop/behavior/{t}.png')\n",
    "    \n",
    "        "
   ]
  },
  {
   "cell_type": "code",
   "execution_count": null,
   "id": "054e52f2-b3a3-4e24-afbe-3080b3328bf7",
   "metadata": {},
   "outputs": [],
   "source": []
  },
  {
   "cell_type": "code",
   "execution_count": 95,
   "id": "ea0ea0f9-613c-499a-813c-2a2493599b33",
   "metadata": {},
   "outputs": [],
   "source": [
    "def trial_change(ev):\n",
    "    global heatmap\n",
    "    global ls\n",
    "    global z_graphic\n",
    "    global z_stim \n",
    "    global z_lift \n",
    "    global z_grab\n",
    "    global z_point\n",
    "    global front_video\n",
    "    global side_video\n",
    "    \n",
    "    i = ev[\"new\"] \n",
    "    trial_no = np.where(behavior_idxs == i)[0][0]\n",
    "\n",
    "    if i <= 8:\n",
    "        i = f\"00{i+1}\"\n",
    "    elif i <= 98:\n",
    "        i = f\"0{i+1}\"\n",
    "    else:\n",
    "        i = f\"{i+1}\"\n",
    "\n",
    "    front_video = LazyVideo(video_path.joinpath(f\"rb50_20250125_front_v{i}.avi\"))\n",
    "    side_video = LazyVideo(video_path.joinpath(f\"rb50_20250125_side_v{i}.avi\"))\n",
    "\n",
    "    t = 0\n",
    "    slider.value = t\n",
    "    slider.max = model_data[trial_no].shape[0]-1\n",
    "    front_graphic.data = front_video[t] \n",
    "    side_graphic.data = side_video[t] \n",
    "\n",
    "    fig[\"binned_spikes\"].remove_graphic(heatmap)\n",
    "    fig[\"binned_spikes\"].remove_graphic(ls)\n",
    "    \n",
    "    heatmap = fig[\"binned_spikes\"].add_image(model_data[trial_no].T, cmap=\"viridis\")\n",
    "    ls = heatmap.add_linear_selector()\n",
    "    fig[\"binned_spikes\"].auto_scale()\n",
    "\n",
    "    z_smooth = gaussian_filter1d(state_means[trial_no], 6, axis=0)\n",
    "\n",
    "    fig[\"z_t\"].remove_graphic(z_graphic)\n",
    "    z_graphic = fig[\"z_t\"].add_line(z_smooth)\n",
    "    fig[\"z_t\"].auto_scale()\n",
    "\n",
    "    cue = int(50 / bin_size)\n",
    "\n",
    "    lift = int(data[\"lift_ms\"][ev[\"new\"], 0] / bin_size) + cue\n",
    "\n",
    "    grab = int(data[\"grab_ms\"][ev[\"new\"], 0] / bin_size) + cue - 1\n",
    "\n",
    "    z_stim.data = z_smooth[cue].reshape(1,3)\n",
    "    # mark lift \n",
    "    z_lift.data = z_smooth[lift].reshape(1,3)\n",
    "    # mark grab \n",
    "    z_grab.data = z_smooth[grab].reshape(1,3)\n",
    "    \n",
    "    # add tracer\n",
    "    z_point.data = z_smooth[0].reshape(1,3)"
   ]
  },
  {
   "cell_type": "code",
   "execution_count": 96,
   "id": "736893a0-19e5-4ff9-a07d-98affd96db59",
   "metadata": {},
   "outputs": [],
   "source": [
    "slider.observe(update, \"value\")"
   ]
  },
  {
   "cell_type": "code",
   "execution_count": 97,
   "id": "101e6739-7cf2-43d7-9141-954330e7be0a",
   "metadata": {},
   "outputs": [],
   "source": [
    "selection.observe(trial_change, \"value\")"
   ]
  },
  {
   "cell_type": "code",
   "execution_count": null,
   "id": "dad921cb-e389-4690-9d0a-523c5bc831ce",
   "metadata": {},
   "outputs": [],
   "source": []
  },
  {
   "cell_type": "code",
   "execution_count": 98,
   "id": "2e4a5290-4ac4-455b-bd86-9d2e3dda78fb",
   "metadata": {},
   "outputs": [
    {
     "data": {
      "application/vnd.jupyter.widget-view+json": {
       "model_id": "12f666ecf6994a0f99b0fe3d80323e2b",
       "version_major": 2,
       "version_minor": 0
      },
      "text/plain": [
       "VBox(children=(HBox(children=(JupyterRenderCanvas(css_height='800.0px', css_width='800.0px'), Select(descripti…"
      ]
     },
     "execution_count": 98,
     "metadata": {},
     "output_type": "execute_result"
    }
   ],
   "source": [
    "VBox([HBox([fig.show(), selection]), slider])"
   ]
  },
  {
   "cell_type": "code",
   "execution_count": null,
   "id": "489c88f6-9ed7-4707-8051-a2a37c23fcef",
   "metadata": {},
   "outputs": [],
   "source": []
  },
  {
   "cell_type": "code",
   "execution_count": null,
   "id": "d24a2d9e-4e90-4be1-ac50-32721d1645ec",
   "metadata": {},
   "outputs": [],
   "source": []
  },
  {
   "cell_type": "code",
   "execution_count": null,
   "id": "a050793a-bf7d-4396-ba6b-d1dbed48b021",
   "metadata": {},
   "outputs": [],
   "source": []
  }
 ],
 "metadata": {
  "kernelspec": {
   "display_name": "Python 3 (ipykernel)",
   "language": "python",
   "name": "python3"
  },
  "language_info": {
   "codemirror_mode": {
    "name": "ipython",
    "version": 3
   },
   "file_extension": ".py",
   "mimetype": "text/x-python",
   "name": "python",
   "nbconvert_exporter": "python",
   "pygments_lexer": "ipython3",
   "version": "3.11.12"
  }
 },
 "nbformat": 4,
 "nbformat_minor": 5
}
