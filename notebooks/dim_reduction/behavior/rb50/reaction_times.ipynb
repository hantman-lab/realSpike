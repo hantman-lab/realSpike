{
 "cells": [
  {
   "cell_type": "markdown",
   "id": "38448709-b7df-42a1-b2c3-988cfda53f8e",
   "metadata": {},
   "source": [
    "# Investigate reaction time for lift"
   ]
  },
  {
   "cell_type": "code",
   "execution_count": 1,
   "id": "cbe22da5-5f5f-47ee-a586-b9af00a0908f",
   "metadata": {},
   "outputs": [],
   "source": [
    "import numpy as np\n",
    "import h5py\n",
    "\n",
    "import matplotlib.pyplot as plt"
   ]
  },
  {
   "cell_type": "code",
   "execution_count": null,
   "id": "54b929ad-68ce-41dd-857b-0fc48774ab09",
   "metadata": {},
   "outputs": [],
   "source": []
  },
  {
   "cell_type": "code",
   "execution_count": null,
   "id": "58aa16f1-bed5-448a-898d-39972e5bbf4c",
   "metadata": {},
   "outputs": [],
   "source": []
  },
  {
   "cell_type": "markdown",
   "id": "f520c5b1-f364-45b0-b17e-6a7cd945fd92",
   "metadata": {},
   "source": [
    "# rb50/20250125 "
   ]
  },
  {
   "cell_type": "code",
   "execution_count": 2,
   "id": "9c05dbaa-6a49-4847-b832-ded75c77405c",
   "metadata": {},
   "outputs": [
    {
     "name": "stdout",
     "output_type": "stream",
     "text": [
      "<KeysViewHDF5 ['aligned_cue_rec_time', 'aligned_laser_rec_time', 'any', 'chan_spk', 'cue', 'cue_rec_time', 'cue_trial_time', 'depth_spk', 'field_id', 'field_size', 'full_field', 'grab', 'grab_ms', 'laser', 'laser_rec_time', 'laser_trial_time', 'lift', 'lift_ms', 'lift_rec_time', 'mouth', 'mouth_ms', 'no_success', 'pattern_fill', 'pattern_id', 'pattern_xy', 'plift', 'plift_ms', 'single', 'spikes_raw_cue', 'spikes_raw_cue_extended', 'spikes_raw_laser', 'spikes_raw_lift', 'totTime', 'trial_start']>\n"
     ]
    }
   ],
   "source": [
    "f = h5py.File(\"/home/clewis/wasabi/reaganbullins2/ProjectionProject/rb50/20250125/MAT_FILES/rb50_20250125_datastruct_pt3.mat\", 'r')\n",
    "data = f['data']\n",
    "print(data.keys())"
   ]
  },
  {
   "cell_type": "code",
   "execution_count": null,
   "id": "a8a1a53e-2693-4651-95ee-3cb3ed983fb5",
   "metadata": {},
   "outputs": [],
   "source": []
  },
  {
   "cell_type": "code",
   "execution_count": null,
   "id": "fa1ea940-9314-48e8-8edc-924ec9c896a0",
   "metadata": {},
   "outputs": [],
   "source": []
  },
  {
   "cell_type": "code",
   "execution_count": 3,
   "id": "1dbaab11-9c80-4c31-80c1-1a0d67fd9a92",
   "metadata": {},
   "outputs": [
    {
     "data": {
      "text/plain": [
       "array([ 16,  18,  20,  22,  23,  24,  29,  31,  32,  34,  37,  38,  40,\n",
       "        42,  43,  46,  47,  48,  52,  55,  56,  60,  61,  62,  64,  67,\n",
       "        68,  70,  71,  73,  76,  77,  78,  82,  83,  86,  89,  90,  92,\n",
       "        94,  97,  98, 101, 103, 104, 106, 107, 108, 113, 114, 116, 118,\n",
       "       121, 122, 124, 127, 128, 131, 132, 133, 150, 152, 153, 154, 155,\n",
       "       156, 157, 158, 159, 160, 161, 162, 163, 164, 165, 166, 167, 168,\n",
       "       169, 171, 172, 173, 174, 175, 176, 177, 178, 179, 180, 181, 182,\n",
       "       183, 184, 185, 186, 188, 189, 190, 191, 192, 193, 194, 195, 196,\n",
       "       198, 199, 200, 201, 202, 203, 204, 205, 206, 207, 208, 209, 210,\n",
       "       212, 213, 214, 215, 216, 217, 218, 219, 220, 221, 222, 223, 224,\n",
       "       225, 226, 227, 228, 229, 230, 231, 232, 233, 234, 235, 237, 238,\n",
       "       239, 240, 241, 242, 243, 244, 245, 246, 248, 249, 250, 251, 252,\n",
       "       254, 255, 256, 257, 258, 259, 260, 261, 262, 263, 264, 265, 266,\n",
       "       267, 268, 269, 270, 271, 272, 273, 274, 275, 277, 278, 279, 280,\n",
       "       281, 282, 284, 285, 286, 287, 288, 289, 290, 291, 292, 293, 294,\n",
       "       295, 296, 297, 298, 299, 300, 301, 302, 303, 304, 305, 306, 307,\n",
       "       308, 309, 310, 311, 312, 313, 314, 316, 317, 318, 319, 321, 322,\n",
       "       323, 325, 326, 327, 328, 329, 330, 331, 332, 333, 334, 335, 337,\n",
       "       338, 339, 340, 341, 342, 343, 344, 345, 346, 347, 348, 349, 350,\n",
       "       351, 352, 353, 354, 355, 356, 357, 358, 359, 360, 363, 364, 365,\n",
       "       366, 367, 368, 369, 370, 371, 372, 373, 374, 375, 376, 377, 378,\n",
       "       379, 380, 381, 382, 383, 384, 385, 386, 387, 388, 389, 390, 391,\n",
       "       392, 393, 394, 395, 396, 397, 398, 401, 402, 403, 404, 405, 406,\n",
       "       407, 408, 409, 410, 411, 412, 413, 414, 415, 416, 417, 418, 419,\n",
       "       420, 422, 423, 424, 425, 426, 427, 428, 429, 430, 431, 432, 433,\n",
       "       434, 435, 436, 438, 439,   0,   1,   2,   3,   4,   5,   6,   7,\n",
       "         8,   9,  10,  11,  12,  13,  14,  15,  21,  27,  33,  39,  45,\n",
       "        51,  57,  63,  69,  75,  81,  87,  93,  99, 105, 111, 117, 123,\n",
       "       129, 135, 136, 137, 138, 139, 140, 141, 142, 143, 144, 145, 146,\n",
       "       147, 148, 149])"
      ]
     },
     "execution_count": 3,
     "metadata": {},
     "output_type": "execute_result"
    }
   ],
   "source": [
    "stim_idxs = np.where(data[\"pattern_id\"][:] > 2)[1]\n",
    "control_idxs = np.where(data[\"pattern_id\"][:] == 0)[1]\n",
    "single_reach_idxs = np.where(data[\"single\"][:, 0] == 1)\n",
    "stim_idxs = np.concatenate([stim_idxs, control_idxs])\n",
    "stim_idxs"
   ]
  },
  {
   "cell_type": "code",
   "execution_count": 4,
   "id": "2ef72ae5-b853-48f5-9954-6bf97a0c0a81",
   "metadata": {},
   "outputs": [
    {
     "data": {
      "text/plain": [
       "array([  2,   6,   7,   9,  10,  12,  13,  14,  15,  18,  20,  21,  23,\n",
       "        27,  32,  33,  37,  40,  42,  45,  48,  51,  55,  56,  57,  60,\n",
       "        61,  63,  67,  68,  70,  75,  78,  83,  86,  97, 101, 103, 106,\n",
       "       111, 118, 121, 123, 128, 129, 131, 138, 142, 145, 147, 149])"
      ]
     },
     "execution_count": 4,
     "metadata": {},
     "output_type": "execute_result"
    }
   ],
   "source": [
    "# get no laser trials\n",
    "behavior_idxs = np.intersect1d(stim_idxs, single_reach_idxs)\n",
    "behavior_idxs"
   ]
  },
  {
   "cell_type": "code",
   "execution_count": 5,
   "id": "8ab25eb9-9e6d-4da5-87d4-4df11d792db3",
   "metadata": {},
   "outputs": [
    {
     "data": {
      "text/plain": [
       "(51,)"
      ]
     },
     "execution_count": 5,
     "metadata": {},
     "output_type": "execute_result"
    }
   ],
   "source": [
    "behavior_idxs.shape"
   ]
  },
  {
   "cell_type": "code",
   "execution_count": null,
   "id": "21241d94-cff6-4f20-a584-e2a3ffc42db9",
   "metadata": {},
   "outputs": [],
   "source": []
  },
  {
   "cell_type": "code",
   "execution_count": null,
   "id": "89bbfc1f-7910-4d6c-8fbc-2fcc7701ded2",
   "metadata": {},
   "outputs": [],
   "source": []
  },
  {
   "cell_type": "code",
   "execution_count": 6,
   "id": "b5763be9-3170-407e-b281-f4c24cd36db4",
   "metadata": {},
   "outputs": [],
   "source": [
    "control_lift = list()\n",
    "p14_lift = list()\n",
    "p17_lift = list()\n",
    "p20_lift = list()\n",
    "\n",
    "control = list()\n",
    "p14 = list()\n",
    "p17 = list()\n",
    "p20 = list()"
   ]
  },
  {
   "cell_type": "code",
   "execution_count": 7,
   "id": "47b7dd33-2b4d-4c51-af81-e7f73bdfd952",
   "metadata": {},
   "outputs": [],
   "source": [
    "for i in behavior_idxs:\n",
    "    p_id = data[\"pattern_id\"][0][i]\n",
    "\n",
    "    lift = data[\"lift_ms\"][i, 0]\n",
    "    grab = data[\"grab_ms\"][i, 0]\n",
    "\n",
    "    if p_id == 0:\n",
    "        control_lift.append(lift)\n",
    "        control.append(grab-lift)\n",
    "    elif p_id == 14:\n",
    "        p14_lift.append(lift)\n",
    "        p14.append(grab-lift)\n",
    "    elif p_id == 17:\n",
    "        p17_lift.append(lift)\n",
    "        p17.append(grab-lift) \n",
    "    else:\n",
    "        p20_lift.append(lift)\n",
    "        p20.append(grab-lift)"
   ]
  },
  {
   "cell_type": "code",
   "execution_count": 8,
   "id": "b021336b-f26e-4a61-bb65-0aec917fe1d0",
   "metadata": {},
   "outputs": [
    {
     "data": {
      "image/png": "[encoded data removed]",
      "text/plain": [
       "<Figure size 500x1000 with 2 Axes>"
      ]
     },
     "metadata": {},
     "output_type": "display_data"
    }
   ],
   "source": [
    "fig, axes = plt.subplots(2, 1, figsize=(5, 10), sharey=True)\n",
    "\n",
    "axes = axes.flatten()\n",
    "\n",
    "# Combine data into a list\n",
    "all_data = [control_lift, p14_lift, p17_lift, p20_lift]\n",
    "\n",
    "# Define custom x-axis positions for each boxplot\n",
    "# For example, placing boxplots at x=1, x=3, and x=5\n",
    "positions = [1, 3, 5, 7]\n",
    "\n",
    "# Create the boxplots with custom positions\n",
    "axes[0].boxplot(all_data, positions=positions, widths=0.8)\n",
    "\n",
    "# Set x-axis labels (optional, but good practice for clarity)\n",
    "axes[0].set_xticks(positions, ['Control', 'Pattern 14', 'Pattern 17', \"Pattern 20\"])\n",
    "\n",
    "# Add labels and title\n",
    "axes[0].set_ylabel('Time (ms)')\n",
    "axes[0].set_title('Lift Reaction Time')\n",
    "\n",
    "axes[0].set_ylim(0, 600)\n",
    "\n",
    "# Display the plot\n",
    "axes[0].grid(True, linestyle='--', alpha=1)\n",
    "\n",
    "y = [sum(control_lift) / len(control_lift),sum(p14_lift) / len(p14_lift),sum(p17_lift) / len(p17_lift), sum(p20_lift) / len(p20_lift) ]\n",
    "y = [np.median(control_lift), np.median(p14_lift), np.median(p17_lift), np.median(p20_lift)]\n",
    "\n",
    "axes[1].stem(positions , y) \n",
    "# axes[1].stem(3, sum(p14_lift) / len(p14_lift))\n",
    "# axes[1].stem(5, sum(p17_lift) / len(p17_lift))\n",
    "# axes[1].stem(7, sum(p20_lift) / len(p20_lift))\n",
    "\n",
    "for x_pos, y_pos in zip(positions, y):\n",
    "    # Adjust y_offset to position the text above the marker\n",
    "    y_offset = 2\n",
    "    # Add text using ax.text()\n",
    "    axes[1].text(\n",
    "        x_pos, y_pos + y_offset, \n",
    "        f'{round(y_pos, 2)}', \n",
    "        ha='center', va='bottom'\n",
    "    )\n",
    "\n",
    "axes[1].set_xticks(positions, ['Control', 'Pattern 14', 'Pattern 17', \"Pattern 20\"])\n",
    "axes[1].set_title(\"Median Lift Reaction Time\")\n",
    "#axes[1].set_ylabel(\"Time (ms)\")\n",
    "\n",
    "plt.show()"
   ]
  },
  {
   "cell_type": "code",
   "execution_count": null,
   "id": "cbccd45a-eaf4-4bd5-9770-9fa4a8c6c891",
   "metadata": {},
   "outputs": [],
   "source": []
  },
  {
   "cell_type": "code",
   "execution_count": null,
   "id": "952fe3cb-f90a-4cd1-a8a9-9fca93ce1c34",
   "metadata": {},
   "outputs": [],
   "source": []
  },
  {
   "cell_type": "code",
   "execution_count": null,
   "id": "8649f9bd-e023-4ccf-afd4-92b6720f52f6",
   "metadata": {},
   "outputs": [],
   "source": []
  },
  {
   "cell_type": "code",
   "execution_count": null,
   "id": "ee19b7f5-ab86-446d-9bcd-7a8f0d2944c4",
   "metadata": {},
   "outputs": [],
   "source": []
  },
  {
   "cell_type": "code",
   "execution_count": null,
   "id": "e6049c83-62d6-4f4d-9d3a-9af1a60d838c",
   "metadata": {},
   "outputs": [],
   "source": []
  },
  {
   "cell_type": "markdown",
   "id": "38404c91-a5bb-4415-9ac3-ff62814b4941",
   "metadata": {},
   "source": [
    "# rb50/20250126"
   ]
  },
  {
   "cell_type": "code",
   "execution_count": null,
   "id": "7402b1a7-8e3c-4096-a5ab-565e7ccfc53a",
   "metadata": {},
   "outputs": [],
   "source": []
  },
  {
   "cell_type": "code",
   "execution_count": 9,
   "id": "9ca1abcd-1962-440e-8276-1cb855b6d3d1",
   "metadata": {},
   "outputs": [
    {
     "name": "stdout",
     "output_type": "stream",
     "text": [
      "<KeysViewHDF5 ['aligned_cue_rec_time', 'aligned_laser_rec_time', 'any', 'chan_spk', 'cue', 'cue_rec_time', 'cue_trial_time', 'depth_spk', 'field_id', 'field_size', 'full_field', 'grab', 'grab_ms', 'i_su_orig', 'laser', 'laser_rec_time', 'laser_trial_time', 'lift', 'lift_ms', 'lift_rec_time', 'mouth', 'mouth_ms', 'no_success', 'pattern_fill', 'pattern_id', 'pattern_xy', 'plift', 'plift_ms', 'single', 'spikes_raw_cue', 'spikes_raw_cue_extended', 'spikes_raw_laser', 'spikes_raw_lift', 'totTime', 'trial_start']>\n"
     ]
    }
   ],
   "source": [
    "f = h5py.File(\"/home/clewis/wasabi/reaganbullins2/ProjectionProject/rb50/20250126/MAT_FILES/rb50_20250126_datastruct_pt3.mat\", 'r')\n",
    "data = f['data']\n",
    "print(data.keys())"
   ]
  },
  {
   "cell_type": "code",
   "execution_count": null,
   "id": "49eeb314-90d6-4af5-a92b-25a198956055",
   "metadata": {},
   "outputs": [],
   "source": []
  },
  {
   "cell_type": "code",
   "execution_count": null,
   "id": "5b6e310a-5a1a-4f64-a592-644c89310268",
   "metadata": {},
   "outputs": [],
   "source": []
  },
  {
   "cell_type": "code",
   "execution_count": 10,
   "id": "de7a12ff-4f31-4638-a1be-7edb5c393b22",
   "metadata": {},
   "outputs": [
    {
     "data": {
      "text/plain": [
       "array([ 16,  18,  20,  22,  23,  26,  29,  30,  32,  34,  35,  37,  40,\n",
       "        43,  44,  46,  47,  49,  53,  55,  56,  59,  61,  62,  64,  65,\n",
       "        68,  71,  72,  73,  78,  79,  80,  83,  84,  85,  88,  91,  92,\n",
       "        95,  96,  97, 100, 102, 103, 107, 109, 110, 112, 113, 115, 118,\n",
       "       119, 122, 124, 126, 128, 131, 132, 134, 150, 151, 152, 153, 154,\n",
       "       155, 156, 157, 158, 160, 161, 162, 163, 164, 165, 167, 168, 169,\n",
       "       170, 171, 172, 173, 174, 175, 176, 177, 178, 179, 180, 181, 182,\n",
       "       183, 184, 185, 186, 187, 188, 190, 191, 192, 193, 194, 195, 196,\n",
       "       197, 198, 199, 200, 202, 203, 204, 205, 206, 207, 209, 210, 211,\n",
       "       212, 213, 214, 216, 217, 218, 219, 220, 221, 222, 223, 224, 225,\n",
       "       226, 227, 228, 229, 230, 231, 232, 233, 234, 235, 236, 237, 238,\n",
       "       239, 240, 241, 242, 243, 244, 245, 246, 248, 249, 250, 251, 252,\n",
       "       253, 254, 255, 256, 257, 258, 259, 261, 262, 263, 264, 265, 266,\n",
       "       267, 268, 269, 271, 272, 273, 274, 275, 276, 277, 278, 279, 280,\n",
       "       281, 282, 283, 285, 286, 287, 288, 289, 290, 291, 292, 293, 294,\n",
       "       295, 296, 297, 298, 299, 300, 302, 303, 304, 305, 307, 308, 309,\n",
       "       310, 311, 312, 313, 314, 315, 316, 317, 318, 319, 320, 321, 322,\n",
       "       323, 324, 325, 326, 327, 328, 329, 330, 331, 333, 334, 335, 336,\n",
       "       337, 338, 339, 340, 341, 342, 343, 344, 345, 346, 348, 349, 350,\n",
       "       351, 352, 354, 355, 356, 357, 358, 359, 360, 361, 362, 363, 364,\n",
       "       366, 367, 368, 369, 370, 371, 372, 373, 374, 375, 376, 377, 378,\n",
       "       379, 380, 381, 382, 383, 384, 386, 387, 388, 389, 390, 391, 392,\n",
       "       393, 394, 395, 396, 397, 398, 399, 400, 401, 403, 404, 405, 406,\n",
       "       407, 408, 409, 410, 411, 412, 413, 414, 415, 416, 417, 418, 420,\n",
       "       421, 422, 423, 424, 425, 426, 428, 429, 430, 431, 432, 433, 434,\n",
       "       435, 436, 437, 438, 439,   0,   1,   2,   3,   4,   5,   6,   7,\n",
       "         8,   9,  10,  11,  12,  13,  14,  15,  21,  27,  33,  39,  45,\n",
       "        51,  57,  63,  69,  75,  81,  87,  93,  99, 105, 111, 117, 123,\n",
       "       129, 135, 136, 137, 138, 139, 140, 141, 142, 143, 144, 145, 146,\n",
       "       147, 148, 149])"
      ]
     },
     "execution_count": 10,
     "metadata": {},
     "output_type": "execute_result"
    }
   ],
   "source": [
    "stim_idxs = np.where(data[\"pattern_id\"][:] > 2)[1]\n",
    "control_idxs = np.where(data[\"pattern_id\"][:] == 0)[1]\n",
    "single_reach_idxs = np.where(data[\"single\"][:, 0] == 1)\n",
    "stim_idxs = np.concatenate([stim_idxs, control_idxs])\n",
    "stim_idxs"
   ]
  },
  {
   "cell_type": "code",
   "execution_count": 11,
   "id": "623b4dae-d1d4-4425-961d-67fc92d5f504",
   "metadata": {},
   "outputs": [
    {
     "data": {
      "text/plain": [
       "array([  1,   2,   5,   6,   7,   9,  11,  13,  15,  18,  20,  22,  23,\n",
       "        26,  27,  29,  30,  33,  34,  35,  37,  39,  40,  45,  46,  47,\n",
       "        49,  53,  55,  56,  57,  59,  61,  62,  63,  64,  65,  68,  69,\n",
       "        71,  73,  75,  78,  79,  80,  81,  84,  85,  87,  91,  93,  95,\n",
       "        99, 102, 105, 107, 109, 110, 111, 112, 115, 117, 118, 119, 122,\n",
       "       124, 126, 134, 135, 136, 138, 139, 140, 142, 144, 145, 148])"
      ]
     },
     "execution_count": 11,
     "metadata": {},
     "output_type": "execute_result"
    }
   ],
   "source": [
    "# get no laser trials\n",
    "behavior_idxs = np.intersect1d(stim_idxs, single_reach_idxs)\n",
    "behavior_idxs"
   ]
  },
  {
   "cell_type": "code",
   "execution_count": 12,
   "id": "97d4f43d-759a-45c4-8eb3-50913a273f10",
   "metadata": {},
   "outputs": [
    {
     "data": {
      "text/plain": [
       "(77,)"
      ]
     },
     "execution_count": 12,
     "metadata": {},
     "output_type": "execute_result"
    }
   ],
   "source": [
    "behavior_idxs.shape"
   ]
  },
  {
   "cell_type": "code",
   "execution_count": null,
   "id": "119e3e00-6e8a-40ea-b7fe-b5f2467b4db0",
   "metadata": {},
   "outputs": [],
   "source": []
  },
  {
   "cell_type": "code",
   "execution_count": null,
   "id": "ecfe67b7-1263-4007-9907-068ba768b3e8",
   "metadata": {},
   "outputs": [],
   "source": []
  },
  {
   "cell_type": "code",
   "execution_count": 13,
   "id": "a5f0c4ed-90d6-45dd-892b-2071608aa8ba",
   "metadata": {},
   "outputs": [],
   "source": [
    "control_lift = list()\n",
    "p14_lift = list()\n",
    "p17_lift = list()\n",
    "p20_lift = list()\n",
    "\n",
    "control = list()\n",
    "p14 = list()\n",
    "p17 = list()\n",
    "p20 = list()"
   ]
  },
  {
   "cell_type": "code",
   "execution_count": 14,
   "id": "e21b6533-4aeb-4fd0-9a3b-cf12105d787d",
   "metadata": {},
   "outputs": [],
   "source": [
    "for i in behavior_idxs:\n",
    "    p_id = data[\"pattern_id\"][0][i]\n",
    "\n",
    "    lift = data[\"lift_ms\"][i, 0]\n",
    "    grab = data[\"grab_ms\"][i, 0]\n",
    "\n",
    "    if p_id == 0:\n",
    "        control_lift.append(lift)\n",
    "        control.append(grab-lift)\n",
    "    elif p_id == 14:\n",
    "        p14_lift.append(lift)\n",
    "        p14.append(grab-lift)\n",
    "    elif p_id == 17:\n",
    "        p17_lift.append(lift)\n",
    "        p17.append(grab-lift) \n",
    "    else:\n",
    "        p20_lift.append(lift)\n",
    "        p20.append(grab-lift)"
   ]
  },
  {
   "cell_type": "code",
   "execution_count": 15,
   "id": "20e016bc-fee1-4ff4-acb5-fb7f3bfae24f",
   "metadata": {},
   "outputs": [
    {
     "data": {
      "image/png": "[encoded data removed]",
      "text/plain": [
       "<Figure size 500x1000 with 2 Axes>"
      ]
     },
     "metadata": {},
     "output_type": "display_data"
    }
   ],
   "source": [
    "fig, axes = plt.subplots(2, 1, figsize=(5, 10), sharey=True)\n",
    "\n",
    "axes = axes.flatten()\n",
    "\n",
    "# Combine data into a list\n",
    "all_data = [control_lift, p14_lift, p17_lift, p20_lift]\n",
    "\n",
    "# Define custom x-axis positions for each boxplot\n",
    "# For example, placing boxplots at x=1, x=3, and x=5\n",
    "positions = [1, 3, 5, 7]\n",
    "\n",
    "# Create the boxplots with custom positions\n",
    "axes[0].boxplot(all_data, positions=positions, widths=0.8)\n",
    "\n",
    "# Set x-axis labels (optional, but good practice for clarity)\n",
    "axes[0].set_xticks(positions, ['Control', 'Pattern 14', 'Pattern 17', \"Pattern 20\"])\n",
    "\n",
    "# Add labels and title\n",
    "axes[0].set_ylabel('Time (ms)')\n",
    "axes[0].set_title('Lift Reaction Time')\n",
    "\n",
    "# Display the plot\n",
    "axes[0].grid(True, linestyle='--', alpha=1)\n",
    "\n",
    "axes[0].set_ylim(0, 600)\n",
    "\n",
    "y = [sum(control_lift) / len(control_lift),sum(p14_lift) / len(p14_lift),sum(p17_lift) / len(p17_lift), sum(p20_lift) / len(p20_lift) ]\n",
    "y = [np.median(control_lift), np.median(p14_lift), np.median(p17_lift), np.median(p20_lift)]\n",
    "\n",
    "axes[1].stem(positions , y) \n",
    "# axes[1].stem(3, sum(p14_lift) / len(p14_lift))\n",
    "# axes[1].stem(5, sum(p17_lift) / len(p17_lift))\n",
    "# axes[1].stem(7, sum(p20_lift) / len(p20_lift))\n",
    "\n",
    "for x_pos, y_pos in zip(positions, y):\n",
    "    # Adjust y_offset to position the text above the marker\n",
    "    y_offset = 2\n",
    "    # Add text using ax.text()\n",
    "    axes[1].text(\n",
    "        x_pos, y_pos + y_offset, \n",
    "        f'{round(y_pos, 2)}', \n",
    "        ha='center', va='bottom'\n",
    "    )\n",
    "\n",
    "axes[1].set_xticks(positions, ['Control', 'Pattern 14', 'Pattern 17', \"Pattern 20\"])\n",
    "axes[1].set_title(\"Median Lift Reaction Time\")\n",
    "#axes[1].set_ylabel(\"Time (ms)\")\n",
    "\n",
    "plt.show()"
   ]
  },
  {
   "cell_type": "code",
   "execution_count": null,
   "id": "3f8d3882-daef-487e-ae36-dc5ffc98b16c",
   "metadata": {},
   "outputs": [],
   "source": []
  },
  {
   "cell_type": "code",
   "execution_count": null,
   "id": "1ac51ef9-3574-4a2a-9c01-357011710314",
   "metadata": {},
   "outputs": [],
   "source": []
  },
  {
   "cell_type": "code",
   "execution_count": null,
   "id": "5dd92ea3-bbea-459d-a5d5-38f2b9cb58f4",
   "metadata": {},
   "outputs": [],
   "source": []
  },
  {
   "cell_type": "code",
   "execution_count": null,
   "id": "790897c6-8e29-48d7-902e-30ce59305e12",
   "metadata": {},
   "outputs": [],
   "source": []
  },
  {
   "cell_type": "code",
   "execution_count": null,
   "id": "f2b1234a-5c4b-4c11-a60c-6e900ac11bad",
   "metadata": {},
   "outputs": [],
   "source": []
  },
  {
   "cell_type": "markdown",
   "id": "b5bfa51b-25af-420c-9fb8-84716cf7b836",
   "metadata": {},
   "source": [
    "# rb50/20250127"
   ]
  },
  {
   "cell_type": "code",
   "execution_count": null,
   "id": "6b01b712-471b-4c0a-8405-a031fd1426ac",
   "metadata": {},
   "outputs": [],
   "source": []
  },
  {
   "cell_type": "code",
   "execution_count": 16,
   "id": "df1aa31c-d986-4b32-8269-d99fae8fbf2c",
   "metadata": {},
   "outputs": [
    {
     "name": "stdout",
     "output_type": "stream",
     "text": [
      "<KeysViewHDF5 ['aligned_cue_rec_time', 'aligned_laser_rec_time', 'any', 'cue', 'cue_rec_time', 'cue_trial_time', 'field_id', 'field_size', 'full_field', 'grab', 'grab_ms', 'laser', 'laser_rec_time', 'laser_trial_time', 'lift', 'lift_ms', 'mouth', 'mouth_ms', 'no_success', 'pattern_fill', 'pattern_id', 'pattern_xy', 'single', 'totTime', 'trial_start']>\n"
     ]
    }
   ],
   "source": [
    "f = h5py.File(\"/home/clewis/wasabi/reaganbullins2/ProjectionProject/rb50/20250127/MAT_FILES/rb50_20250127_datastruct_pt3.mat\", 'r')\n",
    "data = f['data']\n",
    "print(data.keys())"
   ]
  },
  {
   "cell_type": "code",
   "execution_count": null,
   "id": "f883fb73-757b-4643-98a5-1d83d15957a8",
   "metadata": {},
   "outputs": [],
   "source": []
  },
  {
   "cell_type": "code",
   "execution_count": null,
   "id": "77b49625-b14b-4318-91d5-4c0457b71ed9",
   "metadata": {},
   "outputs": [],
   "source": []
  },
  {
   "cell_type": "code",
   "execution_count": 17,
   "id": "df45eadc-454c-492f-9277-c443e716adfd",
   "metadata": {},
   "outputs": [
    {
     "data": {
      "text/plain": [
       "array([ 17,  19,  20,  22,  23,  24,  28,  29,  30,  34,  35,  36,  40,\n",
       "        43,  44,  46,  49,  50,  53,  54,  56,  60,  61,  62,  65,  66,\n",
       "        67,  70,  71,  74,  77,  79,  80,  82,  83,  86,  88,  89,  91,\n",
       "        94,  95,  96, 100, 101, 102, 106, 107, 108, 114, 115, 116, 118,\n",
       "       119, 120, 124, 127, 128, 131, 132, 133, 150, 151, 152, 153, 154,\n",
       "       155, 156, 157, 158, 160, 161, 162, 163, 164, 165, 166, 167, 168,\n",
       "       169, 170, 171, 172, 173, 174, 175, 176, 177, 179, 180, 181, 182,\n",
       "       183, 185, 186, 187, 188, 189, 190, 191, 192, 193, 194, 196, 197,\n",
       "       198, 199, 200, 201, 202, 203, 204, 205, 206, 207, 208, 209, 210,\n",
       "       211, 212, 213, 214, 215, 216, 217, 219, 220, 221, 223, 224, 225,\n",
       "       226, 227, 228, 229, 230, 231, 232, 233, 234, 235, 236, 237, 238,\n",
       "       239, 240, 241, 242, 243, 244, 246, 247, 248, 249, 250, 251, 252,\n",
       "       253, 254, 256, 257, 258, 259, 260, 261, 262, 263, 264, 265, 266,\n",
       "       267, 268, 269, 270, 271, 272, 273, 274, 275, 276, 277, 278, 279,\n",
       "       280, 281, 282, 283, 284, 285, 286, 287, 289, 290, 291, 292, 294,\n",
       "       296, 297, 298, 299, 300, 301, 302, 303, 304, 305, 306, 307, 308,\n",
       "       309, 310, 311, 312, 313, 314, 315, 316, 317, 318, 319, 320, 321,\n",
       "       323, 324, 325, 326, 327, 328, 330, 331, 333, 334, 335, 336, 337,\n",
       "       338, 339, 340, 341, 342, 343, 344, 345, 346, 347, 348, 349, 350,\n",
       "       351, 352, 353, 354, 355, 356, 357, 358, 359, 360, 361, 362, 364,\n",
       "       365, 366, 367, 368, 370, 371, 372, 373, 374, 375, 376, 377, 378,\n",
       "       379, 380, 381, 382, 383, 384, 386, 388, 389, 390, 391, 392, 393,\n",
       "       394, 395, 396, 397, 398, 399, 400, 401, 402, 403, 404, 405, 406,\n",
       "       407, 408, 409, 410, 411, 412, 413, 414, 415, 416, 419, 420, 421,\n",
       "       422, 423, 424, 425, 426, 427, 428, 429, 430, 431, 432, 433, 434,\n",
       "       435, 436, 437, 438, 439,   0,   1,   2,   3,   4,   5,   6,   7,\n",
       "         8,   9,  10,  11,  12,  13,  14,  15,  21,  27,  33,  39,  45,\n",
       "        51,  57,  63,  69,  75,  81,  87,  93,  99, 105, 111, 117, 123,\n",
       "       129, 135, 136, 137, 138, 139, 140, 141, 142, 143, 144, 145, 146,\n",
       "       147, 148, 149, 440, 441, 442, 443, 444, 445, 446, 447, 448, 449])"
      ]
     },
     "execution_count": 17,
     "metadata": {},
     "output_type": "execute_result"
    }
   ],
   "source": [
    "stim_idxs = np.where(data[\"pattern_id\"][:] > 2)[1]\n",
    "control_idxs = np.where(data[\"pattern_id\"][:] == 0)[1]\n",
    "single_reach_idxs = np.where(data[\"single\"][:, 0] == 1)\n",
    "stim_idxs = np.concatenate([stim_idxs, control_idxs])\n",
    "stim_idxs"
   ]
  },
  {
   "cell_type": "code",
   "execution_count": 18,
   "id": "08ffb028-0209-4090-9128-0b03f12df338",
   "metadata": {},
   "outputs": [
    {
     "data": {
      "text/plain": [
       "array([  0,   1,   3,   4,   5,   6,   7,   8,   9,  10,  12,  14,  15,\n",
       "        17,  19,  20,  21,  23,  24,  30,  33,  36,  39,  40,  43,  44,\n",
       "        45,  46,  49,  50,  51,  53,  54,  60,  61,  62,  63,  67,  69,\n",
       "        70,  71,  74,  77,  81,  82,  88,  89,  91, 105, 107, 116, 117,\n",
       "       137, 139, 145, 148])"
      ]
     },
     "execution_count": 18,
     "metadata": {},
     "output_type": "execute_result"
    }
   ],
   "source": [
    "# get no laser trials\n",
    "behavior_idxs = np.intersect1d(stim_idxs, single_reach_idxs)\n",
    "behavior_idxs"
   ]
  },
  {
   "cell_type": "code",
   "execution_count": 19,
   "id": "a77c63ec-6586-4db5-82b2-3129babffe7b",
   "metadata": {},
   "outputs": [
    {
     "data": {
      "text/plain": [
       "(56,)"
      ]
     },
     "execution_count": 19,
     "metadata": {},
     "output_type": "execute_result"
    }
   ],
   "source": [
    "behavior_idxs.shape"
   ]
  },
  {
   "cell_type": "code",
   "execution_count": null,
   "id": "97ab3d13-1eb7-4912-b9b1-91628c56aa4e",
   "metadata": {},
   "outputs": [],
   "source": []
  },
  {
   "cell_type": "code",
   "execution_count": 20,
   "id": "7a834680-cc52-44e8-9b34-d25ce7a39c77",
   "metadata": {},
   "outputs": [],
   "source": [
    "control_lift = list()\n",
    "p14_lift = list()\n",
    "p17_lift = list()\n",
    "p20_lift = list()\n",
    "\n",
    "control = list()\n",
    "p14 = list()\n",
    "p17 = list()\n",
    "p20 = list()"
   ]
  },
  {
   "cell_type": "code",
   "execution_count": 21,
   "id": "29b4ba2b-afc9-48d3-9797-d25e50b0f681",
   "metadata": {},
   "outputs": [],
   "source": [
    "for i in behavior_idxs:\n",
    "    p_id = data[\"pattern_id\"][0][i]\n",
    "\n",
    "    lift = data[\"lift_ms\"][i, 0]\n",
    "    grab = data[\"grab_ms\"][i, 0]\n",
    "\n",
    "    if p_id == 0:\n",
    "        control_lift.append(lift)\n",
    "        control.append(grab-lift)\n",
    "    elif p_id == 14:\n",
    "        p14_lift.append(lift)\n",
    "        p14.append(grab-lift)\n",
    "    elif p_id == 17:\n",
    "        p17_lift.append(lift)\n",
    "        p17.append(grab-lift) \n",
    "    else:\n",
    "        p20_lift.append(lift)\n",
    "        p20.append(grab-lift)"
   ]
  },
  {
   "cell_type": "code",
   "execution_count": 22,
   "id": "cb014488-f928-4e70-8106-8c4b2f783d40",
   "metadata": {},
   "outputs": [
    {
     "data": {
      "image/png": "[encoded data removed]",
      "text/plain": [
       "<Figure size 500x1000 with 2 Axes>"
      ]
     },
     "metadata": {},
     "output_type": "display_data"
    }
   ],
   "source": [
    "fig, axes = plt.subplots(2, 1, figsize=(5, 10), sharey=True)\n",
    "\n",
    "axes = axes.flatten()\n",
    "\n",
    "# Combine data into a list\n",
    "all_data = [control_lift, p14_lift, p17_lift, p20_lift]\n",
    "\n",
    "# Define custom x-axis positions for each boxplot\n",
    "# For example, placing boxplots at x=1, x=3, and x=5\n",
    "positions = [1, 3, 5, 7]\n",
    "\n",
    "# Create the boxplots with custom positions\n",
    "axes[0].boxplot(all_data, positions=positions, widths=0.8)\n",
    "\n",
    "# Set x-axis labels (optional, but good practice for clarity)\n",
    "axes[0].set_xticks(positions, ['Control', 'Pattern 14', 'Pattern 17', \"Pattern 20\"])\n",
    "\n",
    "# Add labels and title\n",
    "axes[0].set_ylabel('Time (ms)')\n",
    "axes[0].set_title('Lift Reaction Time')\n",
    "\n",
    "# Display the plot\n",
    "axes[0].grid(True, linestyle='--', alpha=1)\n",
    "\n",
    "axes[0].set_ylim(0, 600)\n",
    "\n",
    "y = [sum(control_lift) / len(control_lift),sum(p14_lift) / len(p14_lift),sum(p17_lift) / len(p17_lift), sum(p20_lift) / len(p20_lift) ]\n",
    "y = [np.median(control_lift), np.median(p14_lift), np.median(p17_lift), np.median(p20_lift)]\n",
    "\n",
    "axes[1].stem(positions , y) \n",
    "# axes[1].stem(3, sum(p14_lift) / len(p14_lift))\n",
    "# axes[1].stem(5, sum(p17_lift) / len(p17_lift))\n",
    "# axes[1].stem(7, sum(p20_lift) / len(p20_lift))\n",
    "\n",
    "for x_pos, y_pos in zip(positions, y):\n",
    "    # Adjust y_offset to position the text above the marker\n",
    "    y_offset = 2\n",
    "    # Add text using ax.text()\n",
    "    axes[1].text(\n",
    "        x_pos, y_pos + y_offset, \n",
    "        f'{round(y_pos, 2)}', \n",
    "        ha='center', va='bottom'\n",
    "    )\n",
    "\n",
    "axes[1].set_xticks(positions, ['Control', 'Pattern 14', 'Pattern 17', \"Pattern 20\"])\n",
    "axes[1].set_title(\"Median Lift Reaction Time\")\n",
    "#axes[1].set_ylabel(\"Time (ms)\")\n",
    "\n",
    "plt.show()"
   ]
  },
  {
   "cell_type": "code",
   "execution_count": null,
   "id": "37dc29e3-fb4f-4001-a858-3346ac90cce9",
   "metadata": {},
   "outputs": [],
   "source": []
  },
  {
   "cell_type": "code",
   "execution_count": null,
   "id": "70d2b8fe-7526-4f40-bf0a-0940aaf220de",
   "metadata": {},
   "outputs": [],
   "source": []
  }
 ],
 "metadata": {
  "kernelspec": {
   "display_name": "Python 3 (ipykernel)",
   "language": "python",
   "name": "python3"
  },
  "language_info": {
   "codemirror_mode": {
    "name": "ipython",
    "version": 3
   },
   "file_extension": ".py",
   "mimetype": "text/x-python",
   "name": "python",
   "nbconvert_exporter": "python",
   "pygments_lexer": "ipython3",
   "version": "3.11.12"
  }
 },
 "nbformat": 4,
 "nbformat_minor": 5
}
