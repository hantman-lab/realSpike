{
 "cells": [
  {
   "cell_type": "markdown",
   "id": "6edff486-e69d-4c0a-983d-550d22ed65d1",
   "metadata": {
    "jp-MarkdownHeadingCollapsed": true
   },
   "source": [
    "# Poisson rSLDS \n",
    "## Behaving dataset\n",
    "## Stim is as cue, system should come back to rest before lift \n",
    "## Fitting model from cue to grab, can I see 2 phases of dynamics? "
   ]
  },
  {
   "cell_type": "code",
   "execution_count": null,
   "id": "7059a289-cd10-4d0b-b7fb-62391da64bf4",
   "metadata": {},
   "outputs": [],
   "source": [
    "from scipy.linalg import block_diag\n",
    "import autograd.numpy as np\n",
    "import matplotlib.pyplot as plt\n",
    "import ssm\n",
    "\n",
    "from pathlib import Path\n",
    "from scipy.io import loadmat\n",
    "import numpy as np\n",
    "import matplotlib.pyplot as plt\n",
    "from tqdm import tqdm\n",
    "from real_spike.utils import get_spike_events, kalman_filter, bin_spikes, butter_filter, plot_dynamics_2d, plot_dynamics_3d\n",
    "from matplotlib import colormaps\n",
    "import pandas as pd\n",
    "\n",
    "from scipy.ndimage import gaussian_filter1d\n",
    "from mpl_toolkits.mplot3d import Axes3D \n",
    "\n",
    "import random\n",
    "import h5py\n",
    "\n",
    "%matplotlib inline"
   ]
  },
  {
   "cell_type": "code",
   "execution_count": null,
   "id": "4f6dbe06-d3ba-421b-aa6c-c270bbd1c1b1",
   "metadata": {},
   "outputs": [],
   "source": [
    "path = f\"/home/clewis/repos/realSpike/data/behavior/rb50_20250125/\""
   ]
  },
  {
   "cell_type": "code",
   "execution_count": null,
   "id": "1d6db349-793a-4d59-a7ca-f0474b2fe5b2",
   "metadata": {},
   "outputs": [],
   "source": []
  },
  {
   "cell_type": "markdown",
   "id": "8a7b2594-1aac-43fe-a5f6-a473249b6d60",
   "metadata": {},
   "source": [
    "# Get data"
   ]
  },
  {
   "cell_type": "code",
   "execution_count": null,
   "id": "37c5d4af-c98c-48f9-9ca9-f1f78bd076c7",
   "metadata": {},
   "outputs": [],
   "source": [
    "f = h5py.File(\"/home/clewis/wasabi/reaganbullins2/ProjectionProject/rb50/20250125/MAT_FILES/rb50_20250125_datastruct_pt3.mat\", 'r')\n",
    "data = f['data']\n",
    "print(data.keys())"
   ]
  },
  {
   "cell_type": "code",
   "execution_count": null,
   "id": "545094f1-9235-4e8a-8321-fd9c25f5a7e5",
   "metadata": {},
   "outputs": [],
   "source": []
  },
  {
   "cell_type": "markdown",
   "id": "86708f48-a402-43c2-9031-5a38a43c8e3c",
   "metadata": {},
   "source": [
    "# Plot the patterns"
   ]
  },
  {
   "cell_type": "code",
   "execution_count": null,
   "id": "3feabc53-5a60-419e-8981-a08004f82127",
   "metadata": {},
   "outputs": [],
   "source": [
    "# visualize the patterns again\n",
    "pattern_ids = list(np.unique(data['pattern_id'][:]))\n",
    "len(pattern_ids)"
   ]
  },
  {
   "cell_type": "code",
   "execution_count": null,
   "id": "3aac36d1-ba12-4e60-9da2-69ce47feaf22",
   "metadata": {},
   "outputs": [],
   "source": [
    "from scipy.ndimage import zoom"
   ]
  },
  {
   "cell_type": "code",
   "execution_count": null,
   "id": "ffb3ffdb-13d1-4d4b-b3d9-a26fffee1ca0",
   "metadata": {},
   "outputs": [],
   "source": [
    "reshape_size = 12"
   ]
  },
  {
   "cell_type": "code",
   "execution_count": null,
   "id": "f0e63ab7-383b-4001-85a4-c69853c382ab",
   "metadata": {},
   "outputs": [],
   "source": []
  },
  {
   "cell_type": "code",
   "execution_count": null,
   "id": "94f6869d-f1a6-4e08-977d-383aef03a65e",
   "metadata": {},
   "outputs": [],
   "source": [
    "all_patterns = list()\n",
    "\n",
    "for p_id in pattern_ids[3:]:\n",
    "    ix = np.where(data['pattern_id'][:] == p_id)[1][0].astype(np.int32)\n",
    "    pattern = np.zeros((data['pattern_xy'][0][ix].astype(np.int32), data['pattern_xy'][1][ix].astype(np.int32)))\n",
    "    # use the pattern fill to set elements to one\n",
    "    object_ref = f[data['pattern_fill'][ix, 0]]\n",
    "    for x, y in zip(object_ref[0, :], object_ref[1, :]):\n",
    "        pattern[x.astype(np.int32)-1, y.astype(np.int32)-1] = 1\n",
    "\n",
    "    pattern = zoom(pattern, (reshape_size / pattern.shape[0], reshape_size / pattern.shape[1]), order=0)\n",
    "\n",
    "    all_patterns.append(pattern)\n"
   ]
  },
  {
   "cell_type": "code",
   "execution_count": null,
   "id": "e3ccf6ca-313c-4b24-a7ad-07e3743d4bac",
   "metadata": {},
   "outputs": [],
   "source": [
    "len(all_patterns)"
   ]
  },
  {
   "cell_type": "code",
   "execution_count": null,
   "id": "60caf5ed-8daf-4fb9-a56f-51dea35315aa",
   "metadata": {},
   "outputs": [],
   "source": [
    "fig, axes = plt.subplots(5, 6, figsize=(12, 10))\n",
    "axes = axes.flatten()\n",
    "\n",
    "axes[-1].remove()\n",
    "axes[-3].remove()\n",
    "axes[-2].remove()\n",
    "\n",
    "for i, p in enumerate(all_patterns):\n",
    "    axes[i].matshow(p, cmap=\"binary\") \n",
    "    axes[i].set_title(f\"Pattern {i+3}\") \n",
    "\n",
    "    axes[i].set_xticks([])\n",
    "    axes[i].set_yticks([])\n",
    "\n",
    "plt.tight_layout()\n",
    "\n",
    "plt.savefig(f\"{path}patterns.png\")\n",
    "\n",
    "plt.show()"
   ]
  },
  {
   "cell_type": "code",
   "execution_count": null,
   "id": "085a4a89-f1cb-4f31-97e4-cccd61be61f0",
   "metadata": {},
   "outputs": [],
   "source": []
  },
  {
   "cell_type": "code",
   "execution_count": null,
   "id": "7591986d-f7c2-4df1-8134-10e574d47a22",
   "metadata": {},
   "outputs": [],
   "source": []
  },
  {
   "cell_type": "code",
   "execution_count": null,
   "id": "11ac9958-ca37-470c-b258-9776259518c2",
   "metadata": {},
   "outputs": [],
   "source": []
  },
  {
   "cell_type": "markdown",
   "id": "57141080-330c-4874-b249-81e0f6263fae",
   "metadata": {},
   "source": [
    "# Get single-reach trials"
   ]
  },
  {
   "cell_type": "code",
   "execution_count": null,
   "id": "ee38b4de-1def-4750-b27e-f5866bc06ecb",
   "metadata": {},
   "outputs": [],
   "source": [
    "stim_idxs = np.where(data[\"pattern_id\"][:] > 2)[1]\n",
    "single_reach_idxs = np.where(data[\"single\"][:, 0] == 1)"
   ]
  },
  {
   "cell_type": "code",
   "execution_count": null,
   "id": "587990aa-24a1-45e9-afc5-df98ef6e592a",
   "metadata": {},
   "outputs": [],
   "source": [
    "# get no laser trials\n",
    "behavior_idxs = np.intersect1d(stim_idxs, single_reach_idxs)\n",
    "behavior_idxs"
   ]
  },
  {
   "cell_type": "code",
   "execution_count": null,
   "id": "9686659c-f128-4a1d-be17-a96531e8fb1b",
   "metadata": {},
   "outputs": [],
   "source": [
    "behavior_idxs.shape"
   ]
  },
  {
   "cell_type": "code",
   "execution_count": null,
   "id": "b0acac40-f1ff-4d33-a8aa-6030e0f55d57",
   "metadata": {},
   "outputs": [],
   "source": []
  },
  {
   "cell_type": "markdown",
   "id": "52ae2d89-93a0-417f-8f39-68795ab5a5b4",
   "metadata": {},
   "source": [
    "## Get relevant time information"
   ]
  },
  {
   "cell_type": "code",
   "execution_count": null,
   "id": "386e979e-9792-4e9f-837b-b30f4c69a70c",
   "metadata": {},
   "outputs": [],
   "source": [
    "cue_times = data[\"aligned_cue_rec_time\"][behavior_idxs, :]\n",
    "cue_times"
   ]
  },
  {
   "cell_type": "code",
   "execution_count": null,
   "id": "8cf95851-fe8a-47d8-ab63-fed9a2eea6ef",
   "metadata": {},
   "outputs": [],
   "source": []
  },
  {
   "cell_type": "code",
   "execution_count": null,
   "id": "061237f8-3a84-4bc7-9833-52e75baed68d",
   "metadata": {},
   "outputs": [],
   "source": [
    "lift_times = data[\"lift_ms\"][behavior_idxs, :]\n",
    "lift_times"
   ]
  },
  {
   "cell_type": "code",
   "execution_count": null,
   "id": "7b45e997-87e6-44ae-9505-63bd7faed6d5",
   "metadata": {},
   "outputs": [],
   "source": []
  },
  {
   "cell_type": "code",
   "execution_count": null,
   "id": "d0835658-e658-42c9-bcb9-efd81190f6a7",
   "metadata": {},
   "outputs": [],
   "source": [
    "grab_times = data[\"mouth_ms\"][behavior_idxs, :]\n",
    "grab_times"
   ]
  },
  {
   "cell_type": "code",
   "execution_count": null,
   "id": "ad97f548-1318-4a59-93a1-77c0fb0b6cfb",
   "metadata": {},
   "outputs": [],
   "source": []
  },
  {
   "cell_type": "code",
   "execution_count": null,
   "id": "fa82d496-ab29-41ca-8ab5-a08dbade81d6",
   "metadata": {},
   "outputs": [],
   "source": []
  },
  {
   "cell_type": "markdown",
   "id": "a344751d-1d06-445e-806c-b481d1402309",
   "metadata": {},
   "source": [
    "## Get the AP.bin file"
   ]
  },
  {
   "cell_type": "code",
   "execution_count": null,
   "id": "3e429fd2-b80b-4d43-82a0-3ae730381552",
   "metadata": {},
   "outputs": [],
   "source": [
    "from real_spike.utils import get_sample_data, get_meta\n",
    "import tifffile"
   ]
  },
  {
   "cell_type": "code",
   "execution_count": null,
   "id": "6811b68a-8530-4fd4-8dec-0c87e7b14ab5",
   "metadata": {},
   "outputs": [],
   "source": [
    "file_path = Path(\"/home/clewis/wasabi/reaganbullins2/ProjectionProject/rb50/20250125/rb50_20250125_g0/rb50_20250125_g0_t0.imec0.ap.bin\")\n",
    "meta_path = Path(\"/home/clewis/wasabi/reaganbullins2/ProjectionProject/rb50/20250125/rb50_20250125_g0/rb50_20250125_g0_t0.imec0.ap.meta\")"
   ]
  },
  {
   "cell_type": "code",
   "execution_count": null,
   "id": "961fda92-b8c2-41e9-a295-d1ae578c7788",
   "metadata": {},
   "outputs": [],
   "source": [
    "meta_data = get_meta(meta_path)"
   ]
  },
  {
   "cell_type": "code",
   "execution_count": null,
   "id": "08f7acf3-5aaa-49fe-a254-931688032a4f",
   "metadata": {},
   "outputs": [],
   "source": [
    "ap_data = get_sample_data(file_path, meta_data)\n",
    "ap_data.shape"
   ]
  },
  {
   "cell_type": "code",
   "execution_count": null,
   "id": "e7f66ff8-94f6-49e5-ac91-2f18186c53ab",
   "metadata": {},
   "outputs": [],
   "source": []
  },
  {
   "cell_type": "code",
   "execution_count": null,
   "id": "68d1c941-7c6e-40e1-b0cc-ef9cea7ef30c",
   "metadata": {},
   "outputs": [],
   "source": []
  },
  {
   "cell_type": "markdown",
   "id": "890106c1-39f3-445f-b6ed-c3dd99ca1659",
   "metadata": {},
   "source": [
    "## Get conversion params"
   ]
  },
  {
   "cell_type": "code",
   "execution_count": null,
   "id": "bff19b48-caa4-4b65-9687-594ef64fa7b9",
   "metadata": {},
   "outputs": [],
   "source": [
    "vmax = float(meta_data[\"imAiRangeMax\"])\n",
    "# get Imax\n",
    "imax = float(meta_data[\"imMaxInt\"])\n",
    "# get gain\n",
    "gain = float(meta_data['imroTbl'].split(sep=')')[1].split(sep=' ')[3])"
   ]
  },
  {
   "cell_type": "code",
   "execution_count": null,
   "id": "d36a236c-c575-4e06-abff-1d9b43c95fc4",
   "metadata": {},
   "outputs": [],
   "source": [
    "vmax"
   ]
  },
  {
   "cell_type": "code",
   "execution_count": null,
   "id": "d96c92b7-9896-400a-b0ef-e5f0d102d7c0",
   "metadata": {},
   "outputs": [],
   "source": [
    "imax"
   ]
  },
  {
   "cell_type": "code",
   "execution_count": null,
   "id": "ad81372a-5bf0-4293-ae44-ea9c07fca4a7",
   "metadata": {},
   "outputs": [],
   "source": [
    "gain"
   ]
  },
  {
   "cell_type": "code",
   "execution_count": null,
   "id": "b5e7b146-7cc7-403c-bc23-c015083971f4",
   "metadata": {},
   "outputs": [],
   "source": []
  },
  {
   "cell_type": "code",
   "execution_count": null,
   "id": "ca62b13c-c040-482f-a305-e1b3f45e1dc9",
   "metadata": {},
   "outputs": [],
   "source": []
  },
  {
   "cell_type": "markdown",
   "id": "fbeb8c86-4544-4d1e-a871-37522a33e943",
   "metadata": {},
   "source": [
    "# Get the model data"
   ]
  },
  {
   "cell_type": "code",
   "execution_count": null,
   "id": "59cf8594-2b7c-4ddc-8a1b-810c353195a1",
   "metadata": {},
   "outputs": [],
   "source": [
    "(cue_times[i, 0] - 5) "
   ]
  },
  {
   "cell_type": "code",
   "execution_count": null,
   "id": "b4c746a3-164e-4bf4-ba22-76105f76d849",
   "metadata": {},
   "outputs": [],
   "source": [
    "(cue_times[i, 0]) / 1_000"
   ]
  },
  {
   "cell_type": "code",
   "execution_count": null,
   "id": "7ca83f07-33fe-46d8-9a79-493610b221ae",
   "metadata": {},
   "outputs": [],
   "source": []
  },
  {
   "cell_type": "code",
   "execution_count": null,
   "id": "f7ddffd0-86e9-4131-8ff3-acbe6085d973",
   "metadata": {},
   "outputs": [],
   "source": [
    "def get_trials(idxs, bin_size):\n",
    "    \n",
    "    model_data = list()\n",
    "    \n",
    "    for i in tqdm(range(len(idxs))):\n",
    "        trial_no = i\n",
    "        # get time points in ap space\n",
    "        cue_time = int((cue_times[i, 0] - 50) / 1_000 * 30_000)\n",
    "        \n",
    "\n",
    "       # end_behavior = int((cue_times[i, 0] + grab_times[i, 0]) / 1_000 * 30_000)\n",
    "        end_behavior = int((cue_times[i, 0] + grab_times[i, 0]) / 1_000 * 30_000)\n",
    "\n",
    "    \n",
    "        trial = ap_data[:150, cue_time:end_behavior]\n",
    "    \n",
    "        conv_data = 1e6 * trial / vmax / imax / gain\n",
    "    \n",
    "        filt_data = butter_filter(conv_data, 1_000, 30_000)\n",
    "    \n",
    "        m_start = cue_time - (30 * 1000)\n",
    "        trial_median = ap_data[:150, m_start:cue_time]\n",
    "    \n",
    "        trial_median = 1e6 * trial_median / vmax / imax / gain\n",
    "        trial_median = butter_filter(trial_median, 1_000, 30_000)\n",
    "        \n",
    "        median = np.median(trial_median, axis=1)\n",
    "    \n",
    "        spike_ixs, counts = get_spike_events(filt_data, median)\n",
    "        \n",
    "        a = np.zeros((filt_data.shape[0], filt_data.shape[1]))\n",
    "    \n",
    "        for i, sc in enumerate(spike_ixs):\n",
    "            a[i, sc] = 1\n",
    "    \n",
    "        b = bin_size * 30 # 30ms per bin\n",
    "        binned_spikes = bin_spikes(a, b)\n",
    "\n",
    "        model_data.append(np.asarray(binned_spikes.T, dtype=int))\n",
    "\n",
    "    return model_data"
   ]
  },
  {
   "cell_type": "code",
   "execution_count": null,
   "id": "e77271fb-bd3d-4c51-94fb-eee900e38dc3",
   "metadata": {},
   "outputs": [],
   "source": [
    "bin_size = 5"
   ]
  },
  {
   "cell_type": "code",
   "execution_count": null,
   "id": "2c89ebbc-a426-4002-8b24-aa3fc3e7eb73",
   "metadata": {},
   "outputs": [],
   "source": [
    "model_data = get_trials(behavior_idxs, bin_size)"
   ]
  },
  {
   "cell_type": "code",
   "execution_count": null,
   "id": "96b9385e-d9ed-49c8-bb64-b460c8e016a2",
   "metadata": {},
   "outputs": [],
   "source": [
    "model_data[0].shape"
   ]
  },
  {
   "cell_type": "code",
   "execution_count": null,
   "id": "0aad3975-a385-421c-9f81-3239aa815563",
   "metadata": {},
   "outputs": [],
   "source": [
    "lift = int(lift_times[0, 0] / bin_size) + 10\n",
    "lift\n",
    "\n",
    "grab = int(grab_times[0, 0] / bin_size) + 10 - 1"
   ]
  },
  {
   "cell_type": "code",
   "execution_count": null,
   "id": "14a70dca-caab-493c-a115-a9e370c5479d",
   "metadata": {},
   "outputs": [],
   "source": [
    "lift"
   ]
  },
  {
   "cell_type": "code",
   "execution_count": null,
   "id": "f33ca6b0-3378-474b-b153-547e36c0650c",
   "metadata": {},
   "outputs": [],
   "source": [
    "grab"
   ]
  },
  {
   "cell_type": "code",
   "execution_count": null,
   "id": "3bb80605-9517-48c0-be99-5efe4361e520",
   "metadata": {},
   "outputs": [],
   "source": []
  },
  {
   "cell_type": "code",
   "execution_count": null,
   "id": "a48ee8b6-7892-4839-a9ff-010e25f49d33",
   "metadata": {},
   "outputs": [],
   "source": [
    "plt.matshow(model_data[0].T)\n",
    "plt.axvline(10-1, c=\"red\", linestyle=\"--\", lw=1)\n",
    "plt.axvline(lift, c=\"red\", linestyle=\"--\")\n",
    "plt.axvline(grab, c=\"red\", linestyle=\"--\")"
   ]
  },
  {
   "cell_type": "code",
   "execution_count": null,
   "id": "eab4115e-7fb2-4e57-93cd-7f7b13ae79dd",
   "metadata": {},
   "outputs": [],
   "source": []
  },
  {
   "cell_type": "markdown",
   "id": "38e3fa20-c06b-480c-9a00-8af10932fe93",
   "metadata": {},
   "source": [
    "# Design the input matrix"
   ]
  },
  {
   "cell_type": "code",
   "execution_count": null,
   "id": "0a1af02a-e93e-465f-bda7-bd83ffa77751",
   "metadata": {},
   "outputs": [],
   "source": [
    "# get the pattern types"
   ]
  },
  {
   "cell_type": "code",
   "execution_count": null,
   "id": "84604719-c2ac-447d-af0b-5c1608b857e0",
   "metadata": {},
   "outputs": [],
   "source": [
    "data[\"pattern_id\"]"
   ]
  },
  {
   "cell_type": "code",
   "execution_count": null,
   "id": "d3be208b-3ea0-47bd-bd83-46d8ec9c3912",
   "metadata": {},
   "outputs": [],
   "source": [
    "p_ids = np.unique(data[\"pattern_id\"][0, behavior_idxs])\n",
    "\n",
    "p_ids"
   ]
  },
  {
   "cell_type": "code",
   "execution_count": null,
   "id": "2305e7e3-49f0-4a9d-ae47-3cc227f6f9a9",
   "metadata": {},
   "outputs": [],
   "source": [
    "p_ids.shape"
   ]
  },
  {
   "cell_type": "code",
   "execution_count": null,
   "id": "69e4716a-d75b-475e-92a3-945ce1212a4a",
   "metadata": {},
   "outputs": [],
   "source": []
  },
  {
   "cell_type": "markdown",
   "id": "96ca0c96-2108-4412-87f0-1dcc38df5e90",
   "metadata": {},
   "source": [
    "## Get colors for plotting"
   ]
  },
  {
   "cell_type": "code",
   "execution_count": null,
   "id": "bae27d21-0ddc-48b5-b6cd-256ef222e43f",
   "metadata": {},
   "outputs": [],
   "source": [
    "c = [\n",
    "    \"maroon\",\n",
    "    \"deeppink\",\n",
    "    \"palevioletred\", \n",
    "    \"blue\", \n",
    "    \"orange\", \n",
    "    \"green\", \n",
    "    \"red\", \n",
    "    \"purple\", \n",
    "    \"brown\", \n",
    "    \"pink\",\n",
    "    \"turquoise\", \n",
    "    \"olive\", \n",
    "    \"cyan\", \n",
    "    \"gold\", \n",
    "    \"lime\", \n",
    "    \"navy\", \n",
    "    \"magenta\",\n",
    "    \"teal\", \n",
    "    \"royalblue\", \n",
    "    \"darkgreen\",\n",
    "    \"dimgray\",\n",
    "    \"darkgoldenrod\",\n",
    "    \"midnightblue\",\n",
    "    \"plum\",\n",
    "    \"lime\",\n",
    "    \"cadetblue\",\n",
    "    \"steelblue\",\n",
    "    \"peru\"\n",
    "]"
   ]
  },
  {
   "cell_type": "code",
   "execution_count": null,
   "id": "7d31035a-682e-4d36-983d-e38e62787394",
   "metadata": {},
   "outputs": [],
   "source": [
    "len(c)"
   ]
  },
  {
   "cell_type": "code",
   "execution_count": null,
   "id": "e6e13e66-0858-4f91-8c3f-af5e6e97311e",
   "metadata": {},
   "outputs": [],
   "source": [
    "from matplotlib.colors import ListedColormap\n",
    "\n",
    "cmap = ListedColormap(c)\n",
    "\n",
    "plt.imshow(np.arange(27).reshape(1,-1), aspect=\"auto\", cmap=cmap)"
   ]
  },
  {
   "cell_type": "markdown",
   "id": "3795b001-58ee-4f85-bf8d-4e027bfa12f1",
   "metadata": {},
   "source": [
    "# Create encodings "
   ]
  },
  {
   "cell_type": "code",
   "execution_count": null,
   "id": "4a0b318e-b416-4947-bcb1-fe57c7e13431",
   "metadata": {},
   "outputs": [],
   "source": [
    "model_data[1].shape"
   ]
  },
  {
   "cell_type": "code",
   "execution_count": null,
   "id": "a8074dfd-4f55-4d56-b3bd-1be22e1b337b",
   "metadata": {},
   "outputs": [],
   "source": [
    "import math"
   ]
  },
  {
   "cell_type": "code",
   "execution_count": null,
   "id": "f1a02737-e0c1-4a19-9142-75a1cd99ac3a",
   "metadata": {},
   "outputs": [],
   "source": [
    "inputs = list()\n",
    "colors = list()\n",
    "for i, d in zip(stim_idxs, model_data):\n",
    "    # get the pattern id \n",
    "    p_id = int(data[\"pattern_id\"][0][i]) - 3\n",
    "\n",
    "    colors.append(c[p_id])\n",
    "\n",
    "    encoding = all_patterns[p_id].ravel() \n",
    "\n",
    "    # stack the encoding for every timepoint (each bin)\n",
    "    nput = np.zeros((d.shape[0], reshape_size**2))\n",
    "\n",
    "    for z in range(math.ceil(5 / bin_size)):\n",
    "        nput[10 + z] = encoding\n",
    "\n",
    "    inputs.append(nput)"
   ]
  },
  {
   "cell_type": "code",
   "execution_count": null,
   "id": "97f1589a-58e1-42a4-84ed-b02cc8168713",
   "metadata": {},
   "outputs": [],
   "source": []
  },
  {
   "cell_type": "code",
   "execution_count": null,
   "id": "f8bccc74-5025-417f-aa5e-b094b2e81c6f",
   "metadata": {},
   "outputs": [],
   "source": [
    "plt.imshow(inputs[0].T, cmap=\"binary\")\n",
    "plt.title(\"Pattern Encoding\")\n",
    "plt.xlabel(\"Bins\")\n",
    "plt.ylabel(\"Pixel Location\")\n",
    "plt.show()"
   ]
  },
  {
   "cell_type": "code",
   "execution_count": null,
   "id": "4c223369-e416-43e0-80e0-79d120be47de",
   "metadata": {},
   "outputs": [],
   "source": []
  },
  {
   "cell_type": "code",
   "execution_count": null,
   "id": "b82a7849-23d3-4cff-90aa-f5a7dade91e4",
   "metadata": {},
   "outputs": [],
   "source": []
  },
  {
   "cell_type": "markdown",
   "id": "cdb7bf07-6ea7-4400-a874-39e0dfb78395",
   "metadata": {},
   "source": [
    "# Fit the model"
   ]
  },
  {
   "cell_type": "code",
   "execution_count": null,
   "id": "b2cc4417-ac74-41ee-b6dd-553ee12b161d",
   "metadata": {},
   "outputs": [],
   "source": [
    "state_dim = 3\n",
    "obs_dim = model_data[0].shape[1] \n",
    "\n",
    "plds = ssm.SLDS(N=obs_dim, \n",
    "                K=2, \n",
    "                D=state_dim, \n",
    "                M=144, \n",
    "                emissions=\"poisson\", \n",
    "                emission_kwargs=dict(link=\"softplus\"),\n",
    "                dynamics=\"diagonal_gaussian\",\n",
    "                transitions=\"recurrent\"\n",
    "               )\n",
    "\n",
    "elbos, q = plds.fit(model_data, inputs=inputs, method=\"laplace_em\", num_iters=5)"
   ]
  },
  {
   "cell_type": "code",
   "execution_count": null,
   "id": "599e7fa4-a88f-49ad-a470-2ef4d50f36ea",
   "metadata": {},
   "outputs": [],
   "source": []
  },
  {
   "cell_type": "markdown",
   "id": "6ccf77b5-dd71-49c7-be83-b94ef843ddf4",
   "metadata": {},
   "source": [
    "# Visualize the results"
   ]
  },
  {
   "cell_type": "code",
   "execution_count": null,
   "id": "0bb9bfc1-a951-4e8d-9033-46c39947b113",
   "metadata": {},
   "outputs": [],
   "source": [
    "# plot my elbos"
   ]
  },
  {
   "cell_type": "code",
   "execution_count": null,
   "id": "b3dcdf84-90f8-47db-beb1-2b13611962ea",
   "metadata": {},
   "outputs": [],
   "source": [
    "plt.figure(figsize=(8, 6))\n",
    "\n",
    "plt.plot(elbos)\n",
    "\n",
    "plt.xlabel(\"Iteration\")\n",
    "plt.ylabel(\"ELBO\")\n",
    "\n",
    "plt.title(\"ELBO Curve\")\n",
    "\n",
    "plt.show()"
   ]
  },
  {
   "cell_type": "code",
   "execution_count": null,
   "id": "7cfbb4c1-aa3c-4247-9edf-240828af7232",
   "metadata": {},
   "outputs": [],
   "source": []
  },
  {
   "cell_type": "code",
   "execution_count": null,
   "id": "151163f4-405b-40b6-879b-528cd860bf67",
   "metadata": {},
   "outputs": [],
   "source": []
  },
  {
   "cell_type": "code",
   "execution_count": null,
   "id": "6f758446-fbff-48cf-9a6e-e96b40449fe5",
   "metadata": {},
   "outputs": [],
   "source": []
  },
  {
   "cell_type": "markdown",
   "id": "24dc925c-328e-4ed8-a700-7acd812b29d0",
   "metadata": {},
   "source": [
    "## Dynamics"
   ]
  },
  {
   "cell_type": "code",
   "execution_count": null,
   "id": "cf2c81f7-289f-4f25-8937-935a5310d8cb",
   "metadata": {},
   "outputs": [],
   "source": [
    "As = plds.dynamics.As\n",
    "As.shape"
   ]
  },
  {
   "cell_type": "code",
   "execution_count": null,
   "id": "1f2f1692-04db-434d-9bbe-e90715957064",
   "metadata": {},
   "outputs": [],
   "source": [
    "b = plds.dynamics.b\n",
    "b.shape"
   ]
  },
  {
   "cell_type": "code",
   "execution_count": null,
   "id": "45a09275-d325-45ae-8c95-2a7243911258",
   "metadata": {},
   "outputs": [],
   "source": []
  },
  {
   "cell_type": "code",
   "execution_count": null,
   "id": "c73bbbeb-e5e5-4542-9e53-e9a6f7962d0c",
   "metadata": {},
   "outputs": [],
   "source": []
  },
  {
   "cell_type": "markdown",
   "id": "18343e2a-20a6-4909-9295-69794ff5ed09",
   "metadata": {},
   "source": [
    "# Eigenvalue Decomposition on `A`"
   ]
  },
  {
   "cell_type": "code",
   "execution_count": null,
   "id": "db41d855-51d0-4a2b-8e06-6c1cc7fdc49c",
   "metadata": {},
   "outputs": [],
   "source": [
    "fig, axes = plt.subplots(2, 2, figsize=(14, 10))\n",
    "\n",
    "# Flatten axes array for easy iteration\n",
    "axes = axes.flatten()\n",
    "\n",
    "vmin = min(mat.min() for mat in [As[0], As[1]])\n",
    "vmax = max(mat.max() for mat in [As[0], As[1]])\n",
    "\n",
    "for i in range(2):\n",
    "    ax = axes[i]\n",
    "    im = ax.matshow(As[i], vmin=vmin, vmax=vmax)\n",
    "    ax.set_title(f\"$A_{i}$\")\n",
    "\n",
    "    eigvals, eigvecs = np.linalg.eig(As[i])\n",
    "    axes[i+2].axhline(0, color='gray', linestyle='--', linewidth=0.7)\n",
    "    axes[i+2].axvline(1, color='gray', linestyle='--', linewidth=0.7)\n",
    "\n",
    "    print(eigvals.real)\n",
    "    #ax.colorbar()\n",
    "\n",
    "    axes[i+2].scatter(eigvals.real, eigvals.imag, c='red', s=50, marker=\"x\")\n",
    "\n",
    "    axes[i+2].set_xlim((0, 2))\n",
    "    \n",
    "    axes[i+2].set_title(f\"Eigenvalues $A_{i}$\")\n",
    "    \n",
    "    axes[i+2].set_xlabel(\"Real\")\n",
    "    axes[i+2].set_ylabel(\"Imaginary\")\n",
    "\n",
    "\n",
    "fig.colorbar(im, ax=axes[:2]) \n",
    "\n",
    "plt.savefig(f\"{path}A.png\")\n",
    "\n",
    "plt.show()"
   ]
  },
  {
   "cell_type": "code",
   "execution_count": null,
   "id": "208edfb3-49d8-4398-ac88-c6cc60c5aff2",
   "metadata": {},
   "outputs": [],
   "source": []
  },
  {
   "cell_type": "code",
   "execution_count": null,
   "id": "7d847806-b13e-4079-acbd-f17aef096b29",
   "metadata": {},
   "outputs": [],
   "source": []
  },
  {
   "cell_type": "markdown",
   "id": "a827fe46-b0cc-46bd-adb3-4265885ed62d",
   "metadata": {},
   "source": [
    "# Plot the dynamics "
   ]
  },
  {
   "cell_type": "code",
   "execution_count": null,
   "id": "4efcc8ab-cd0c-4e5b-b2c5-cb9904632541",
   "metadata": {},
   "outputs": [],
   "source": [
    "fig, axes = plt.subplots(2, 3, figsize=(14, 10))\n",
    "\n",
    "axes = axes.flatten()\n",
    "\n",
    "\n",
    "A = As[0]\n",
    "\n",
    "ax = axes[0]\n",
    "\n",
    "x = np.linspace(-5, 5, 20)\n",
    "y = np.linspace(-5, 5, 20)\n",
    "X, Y = np.meshgrid(x, y)\n",
    "\n",
    "# Compute vector field: z_dot = A z\n",
    "U = A[0,0]*X + A[0,1]*Y  \n",
    "V = A[1,0]*X + A[1,1]*Y \n",
    "\n",
    "# Normalize for nicer arrows\n",
    "N = np.sqrt(U**2 + V**2)\n",
    "U, V = U/N, V/N\n",
    "\n",
    "# Plot\n",
    "ax.quiver(X, Y, U, V, angles=\"xy\", scale=25)\n",
    "ax.axhline(0, color='k', linewidth=0.5)\n",
    "ax.axvline(0, color='k', linewidth=0.5)\n",
    "ax.set_xlim(-5, 5)\n",
    "ax.set_ylim(-5, 5)\n",
    "    \n",
    "ax.set_title(f'Dynamics 2D \\n $A_{0}$')\n",
    "ax.set_xticks([])\n",
    "ax.set_yticks([])\n",
    "ax.set_xlabel(\"$x_1$\")\n",
    "ax.set_ylabel(\"$x_2$\")\n",
    "\n",
    "\n",
    "A = As[0][[0, 2], :][:, [0, 2]]\n",
    "ax = axes[1]\n",
    "\n",
    "x = np.linspace(-5, 5, 20)\n",
    "y = np.linspace(-5, 5, 20)\n",
    "X, Y = np.meshgrid(x, y)\n",
    "\n",
    "# Compute vector field: z_dot = A z\n",
    "U = A[0,0]*X + A[0,1]*Y  \n",
    "V = A[1,0]*X + A[1,1]*Y \n",
    "# Normalize for nicer arrows\n",
    "N = np.sqrt(U**2 + V**2)\n",
    "U, V = U/N, V/N\n",
    "\n",
    "# Plot\n",
    "ax.quiver(X, Y, U, V, angles=\"xy\", scale=25)\n",
    "ax.axhline(0, color='k', linewidth=0.5)\n",
    "ax.axvline(0, color='k', linewidth=0.5)\n",
    "ax.set_xlim(-5, 5)\n",
    "ax.set_ylim(-5, 5)\n",
    "    \n",
    "ax.set_title(f'Dynamics 2D \\n $A_{0}$')\n",
    "ax.set_xticks([])\n",
    "ax.set_yticks([])\n",
    "ax.set_xlabel(\"$x_1$\")\n",
    "ax.set_ylabel(\"$x_3$\")\n",
    "\n",
    "\n",
    "A = As[0][[1, 2], :][:, [1, 2]]\n",
    "ax = axes[2]\n",
    "\n",
    "x = np.linspace(-5, 5, 20)\n",
    "y = np.linspace(-5, 5, 20)\n",
    "X, Y = np.meshgrid(x, y)\n",
    "\n",
    "# Compute vector field: z_dot = A z\n",
    "U = A[0,0]*X + A[0,1]*Y \n",
    "V = A[1,0]*X + A[1,1]*Y\n",
    "\n",
    "# Normalize for nicer arrows\n",
    "N = np.sqrt(U**2 + V**2)\n",
    "U, V = U/N, V/N\n",
    "\n",
    "# Plot\n",
    "ax.quiver(X, Y, U, V, angles=\"xy\", scale=25)\n",
    "ax.axhline(0, color='k', linewidth=0.5)\n",
    "ax.axvline(0, color='k', linewidth=0.5)\n",
    "ax.set_xlim(-5, 5)\n",
    "ax.set_ylim(-5, 5)\n",
    "    \n",
    "ax.set_title(f'Dynamics 2D \\n $A_{0}$')\n",
    "ax.set_xticks([])\n",
    "ax.set_yticks([])\n",
    "ax.set_xlabel(\"$x_2$\")\n",
    "ax.set_ylabel(\"$x_3$\")\n",
    "\n",
    "A = As[1]\n",
    "\n",
    "ax = axes[0+3]\n",
    "\n",
    "x = np.linspace(-5, 5, 20)\n",
    "y = np.linspace(-5, 5, 20)\n",
    "X, Y = np.meshgrid(x, y)\n",
    "\n",
    "# Compute vector field: z_dot = A z\n",
    "U = A[0,0]*X + A[0,1]*Y  \n",
    "V = A[1,0]*X + A[1,1]*Y \n",
    "\n",
    "# Normalize for nicer arrows\n",
    "N = np.sqrt(U**2 + V**2)\n",
    "U, V = U/N, V/N\n",
    "\n",
    "# Plot\n",
    "ax.quiver(X, Y, U, V, angles=\"xy\", scale=25)\n",
    "ax.axhline(0, color='k', linewidth=0.5)\n",
    "ax.axvline(0, color='k', linewidth=0.5)\n",
    "ax.set_xlim(-5, 5)\n",
    "ax.set_ylim(-5, 5)\n",
    "    \n",
    "ax.set_title(f'Dynamics 2D \\n $A_{1}$')\n",
    "ax.set_xticks([])\n",
    "ax.set_yticks([])\n",
    "ax.set_xlabel(\"$x_1$\")\n",
    "ax.set_ylabel(\"$x_2$\")\n",
    "\n",
    "\n",
    "A = As[1][[0, 2], :][:, [0, 2]]\n",
    "ax = axes[1+3]\n",
    "\n",
    "x = np.linspace(-5, 5, 20)\n",
    "y = np.linspace(-5, 5, 20)\n",
    "X, Y = np.meshgrid(x, y)\n",
    "\n",
    "# Compute vector field: z_dot = A z\n",
    "U = A[0,0]*X + A[0,1]*Y  \n",
    "V = A[1,0]*X + A[1,1]*Y\n",
    "\n",
    "# Normalize for nicer arrows\n",
    "N = np.sqrt(U**2 + V**2)\n",
    "U, V = U/N, V/N\n",
    "\n",
    "# Plot\n",
    "ax.quiver(X, Y, U, V, angles=\"xy\", scale=25)\n",
    "ax.axhline(0, color='k', linewidth=0.5)\n",
    "ax.axvline(0, color='k', linewidth=0.5)\n",
    "ax.set_xlim(-5, 5)\n",
    "ax.set_ylim(-5, 5)\n",
    "    \n",
    "ax.set_title(f'Dynamics 2D \\n $A_{1}$')\n",
    "ax.set_xticks([])\n",
    "ax.set_yticks([])\n",
    "ax.set_xlabel(\"$x_1$\")\n",
    "ax.set_ylabel(\"$x_3$\")\n",
    "\n",
    "\n",
    "A = As[1][[1, 2], :][:, [1, 2]]\n",
    "ax = axes[2+3]\n",
    "\n",
    "x = np.linspace(-5, 5, 20)\n",
    "y = np.linspace(-5, 5, 20)\n",
    "X, Y = np.meshgrid(x, y)\n",
    "\n",
    "# Compute vector field: z_dot = A z\n",
    "U = A[0,0]*X + A[0,1]*Y  \n",
    "V = A[1,0]*X + A[1,1]*Y \n",
    "\n",
    "# Normalize for nicer arrows\n",
    "N = np.sqrt(U**2 + V**2)\n",
    "U, V = U/N, V/N\n",
    "\n",
    "# Plot\n",
    "ax.quiver(X, Y, U, V, angles=\"xy\", scale=25)\n",
    "ax.axhline(0, color='k', linewidth=0.5)\n",
    "ax.axvline(0, color='k', linewidth=0.5)\n",
    "ax.set_xlim(-5, 5)\n",
    "ax.set_ylim(-5, 5)\n",
    "    \n",
    "ax.set_title(f'Dynamics 2D \\n $A_{1}$')\n",
    "ax.set_xticks([])\n",
    "ax.set_yticks([])\n",
    "ax.set_xlabel(\"$x_2$\")\n",
    "ax.set_ylabel(\"$x_3$\")\n",
    "\n",
    "plt.gca().set_aspect('equal')\n",
    "\n",
    "plt.tight_layout()\n",
    "\n",
    "plt.savefig(f\"{path}dynamics2.png\")\n",
    "plt.show()"
   ]
  },
  {
   "cell_type": "code",
   "execution_count": null,
   "id": "b9f4fdb5-6f5a-4ab8-a846-b191edc9e2dd",
   "metadata": {},
   "outputs": [],
   "source": []
  },
  {
   "cell_type": "code",
   "execution_count": null,
   "id": "f216507a-5d15-4c25-adf9-df3a032c0a53",
   "metadata": {},
   "outputs": [],
   "source": []
  },
  {
   "cell_type": "code",
   "execution_count": null,
   "id": "4831440c-6e0c-4136-9be7-d54a1f9cafbe",
   "metadata": {},
   "outputs": [],
   "source": [
    "from matplotlib.patches import Patch"
   ]
  },
  {
   "cell_type": "code",
   "execution_count": null,
   "id": "5238672c-4771-4ccb-a053-b0649ea7a9ba",
   "metadata": {},
   "outputs": [],
   "source": [
    "state_means = q.mean_continuous_states"
   ]
  },
  {
   "cell_type": "code",
   "execution_count": null,
   "id": "b063dccf-5ae7-42e8-aabf-8a785493c7e3",
   "metadata": {},
   "outputs": [],
   "source": [
    "custom_patches = [Patch(facecolor=c[int(i)-3], edgecolor='black', label=f'{int(i)}') for i in p_ids]"
   ]
  },
  {
   "cell_type": "code",
   "execution_count": null,
   "id": "3fb1b0f2-05d2-4553-bef6-5e47627996f9",
   "metadata": {},
   "outputs": [],
   "source": []
  },
  {
   "cell_type": "markdown",
   "id": "f96638af-1114-473c-9eb5-0f7ac3717e74",
   "metadata": {},
   "source": [
    "# Plot the state means "
   ]
  },
  {
   "cell_type": "code",
   "execution_count": null,
   "id": "f18576f5-acdc-4cef-9b8e-8211795bf5d9",
   "metadata": {},
   "outputs": [],
   "source": [
    "fig, axes = plt.subplots(1, 3, figsize=(21, 10))\n",
    "\n",
    "# Flatten axes array for easy iteration\n",
    "axes = axes.flatten()\n",
    "\n",
    "for i, p in enumerate(state_means):\n",
    "\n",
    "    lift = int(lift_times[i, 0] / bin_size) + 10\n",
    "    grab = int(grab_times[i, 0] / bin_size) + 10 - 1\n",
    "\n",
    "    p = gaussian_filter1d(p, 4, axis=0)\n",
    "\n",
    "    axes[0].plot(p[:grab+1, 0], p[:grab+1, 1], c=colors[i], zorder=0, alpha=0.8)\n",
    "\n",
    "    axes[0].scatter(p[0, 0], p[0, 1], s=25, marker='o', c=\"black\", zorder=1, alpha=1)\n",
    "    axes[0].scatter(p[lift, 0], p[lift, 1], s=25, marker='s', c=\"black\", zorder=1, alpha=1, label=\"lift\")\n",
    "    axes[0].scatter(p[grab, 0], p[grab, 1], s=45, marker='*', c=\"black\", zorder=1, alpha=1, label=\"grab\")\n",
    "\n",
    "    axes[1].plot(p[:grab+1, 0], p[:grab+1, 2], c=colors[i], zorder=0, alpha=0.8)\n",
    "\n",
    "    axes[1].scatter(p[0, 0], p[0, 2], s=25, marker='o', c=\"black\", zorder=1, alpha=1)\n",
    "    axes[1].scatter(p[lift, 0], p[lift, 2], s=25, marker='s', c=\"black\", zorder=1, alpha=1)\n",
    "    axes[1].scatter(p[grab, 0], p[grab, 2], s=45, marker='*', c=\"black\", zorder=1, alpha=1)\n",
    "\n",
    "    axes[2].plot(p[:grab+1, 1], p[:grab+1, 2], c=colors[i], zorder=0, alpha=0.8)\n",
    "\n",
    "    axes[2].scatter(p[0, 1], p[0, 2], s=25, marker='o', c=\"black\", zorder=1, alpha=1)\n",
    "    axes[2].scatter(p[lift, 1], p[lift, 2], s=25, marker='s', c=\"black\", zorder=1, alpha=1)\n",
    "    axes[2].scatter(p[grab, 1], p[grab, 2], s=45, marker='*', c=\"black\", zorder=1, alpha=1)\n",
    "\n",
    "\n",
    "\n",
    "\n",
    "for ax in axes:\n",
    "    ax.set_xticks([])\n",
    "    ax.set_yticks([])\n",
    "    ax.set_title(f\"Posterior State Means ({bin_size}ms)\")\n",
    "    ax.legend(handles=custom_patches)\n",
    "\n",
    "\n",
    "# 0, 0 = x1 vs x2\n",
    "axes[0].set_xlabel(f\"$x_0$\")\n",
    "axes[0].set_ylabel(f\"$x_1$\")\n",
    "\n",
    "\n",
    "# 0, 1 = x1 vs x3\n",
    "axes[1].set_xlabel(f\"$x_0$\")\n",
    "axes[1].set_ylabel(f\"$x_2$\")\n",
    "\n",
    "# 0, 2 = x2 vs x3\n",
    "axes[2].set_xlabel(f\"$x_1$\")\n",
    "axes[2].set_ylabel(f\"$x_2$\")\n",
    "\n",
    "plt.savefig(f\"{path}state_means_all.png\")\n",
    "\n",
    "plt.tight_layout()"
   ]
  },
  {
   "cell_type": "code",
   "execution_count": null,
   "id": "03e04875-9e02-49ac-a14e-260b34150e9e",
   "metadata": {},
   "outputs": [],
   "source": []
  },
  {
   "cell_type": "code",
   "execution_count": null,
   "id": "6b77e97e-f7a6-4f1c-a38b-1934684c3dd0",
   "metadata": {},
   "outputs": [],
   "source": []
  },
  {
   "cell_type": "code",
   "execution_count": null,
   "id": "d57b5d09-f3ea-48bc-9944-adc99ee89731",
   "metadata": {},
   "outputs": [],
   "source": [
    "fig, axes = plt.subplots(1, 3, figsize=(21, 10))\n",
    "\n",
    "# Flatten axes array for easy iteration\n",
    "axes = axes.flatten()\n",
    "\n",
    "for i, p in enumerate(state_means):\n",
    "\n",
    "    lift = int(lift_times[i, 0] / bin_size) + 10\n",
    "    grab = int(grab_times[i, 0] / bin_size) + 10 - 1\n",
    "\n",
    "    p = gaussian_filter1d(p, 4, axis=0)\n",
    "\n",
    "    axes[0].plot(p[lift:grab+1, 0], p[lift:grab+1, 1], c=colors[i], zorder=0, alpha=0.8)\n",
    "\n",
    "    axes[0].scatter(p[lift, 0], p[lift, 1], s=25, marker='o', c=\"black\", zorder=1, alpha=1)\n",
    "    axes[0].scatter(p[grab, 0], p[grab, 1], s=45, marker='*', c=\"black\", zorder=1, alpha=1)\n",
    "\n",
    "    axes[1].plot(p[lift:grab+1, 0], p[lift:grab+1, 2], c=colors[i], zorder=0, alpha=0.8)\n",
    "\n",
    "    axes[1].scatter(p[lift, 0], p[lift, 2], s=25, marker='o', c=\"black\", zorder=1, alpha=1)\n",
    "    axes[1].scatter(p[grab, 0], p[grab, 2], s=45, marker='*', c=\"black\", zorder=1, alpha=1)\n",
    "\n",
    "    axes[2].plot(p[lift:grab+1, 1], p[lift:grab+1, 2], c=colors[i], zorder=0, alpha=0.8)\n",
    "\n",
    "    axes[2].scatter(p[lift, 1], p[lift, 2], s=25, marker='o', c=\"black\", zorder=1, alpha=1)\n",
    "    axes[2].scatter(p[grab, 1], p[grab, 2], s=45, marker='*', c=\"black\", zorder=1, alpha=1)\n",
    "\n",
    "\n",
    "\n",
    "\n",
    "for ax in axes:\n",
    "    ax.set_xticks([])\n",
    "    ax.set_yticks([])\n",
    "    ax.set_title(f\"Posterior State Means ({bin_size}ms)\")\n",
    "    ax.legend(handles=custom_patches)\n",
    "\n",
    "\n",
    "# 0, 0 = x1 vs x2\n",
    "axes[0].set_xlabel(f\"$x_0$\")\n",
    "axes[0].set_ylabel(f\"$x_1$\")\n",
    "\n",
    "\n",
    "# 0, 1 = x1 vs x3\n",
    "axes[1].set_xlabel(f\"$x_0$\")\n",
    "axes[1].set_ylabel(f\"$x_2$\")\n",
    "\n",
    "# 0, 2 = x2 vs x3\n",
    "axes[2].set_xlabel(f\"$x_1$\")\n",
    "axes[2].set_ylabel(f\"$x_2$\")\n",
    "\n",
    "plt.savefig(f\"{path}state_means_behavior.png\")\n",
    "\n",
    "plt.tight_layout()"
   ]
  },
  {
   "cell_type": "code",
   "execution_count": null,
   "id": "7b5e9e0f-c06a-4884-bd70-4a07b124d6d9",
   "metadata": {},
   "outputs": [],
   "source": []
  },
  {
   "cell_type": "code",
   "execution_count": null,
   "id": "b2a3f453-2578-499d-a17d-ebc02d954104",
   "metadata": {},
   "outputs": [],
   "source": []
  },
  {
   "cell_type": "markdown",
   "id": "9260bee6-cf2e-4c26-bd92-141cd5ccd976",
   "metadata": {},
   "source": [
    "# Plot discrete states"
   ]
  },
  {
   "cell_type": "code",
   "execution_count": null,
   "id": "98322ba6-4ab7-46f5-a69d-53deeda597b0",
   "metadata": {},
   "outputs": [],
   "source": []
  },
  {
   "cell_type": "code",
   "execution_count": null,
   "id": "66e16d82-1c29-4adb-845c-61de72dcf253",
   "metadata": {},
   "outputs": [],
   "source": [
    "discrete_states = list()\n",
    "\n",
    "for i in range(len(state_means)):\n",
    "    z_s = plds.most_likely_states(state_means[i], model_data[i], inputs[i])\n",
    "    discrete_states.append(z_s)"
   ]
  },
  {
   "cell_type": "code",
   "execution_count": null,
   "id": "7a47a26f-5eda-4fc2-a3f6-e19033a559e4",
   "metadata": {},
   "outputs": [],
   "source": [
    "max_len = max(len(arr) for arr in discrete_states)\n",
    "\n",
    "# 2. Initialize the 2D array with NaNs\n",
    "# The number of rows is the number of 1D arrays\n",
    "# The number of columns is the max_len\n",
    "s = np.full((len(discrete_states), max_len), np.nan)\n",
    "\n",
    "# 3. Populate the 2D array\n",
    "for i, arr in enumerate(discrete_states):\n",
    "    s[i, :len(arr)] = arr"
   ]
  },
  {
   "cell_type": "code",
   "execution_count": null,
   "id": "a4783caa-a67e-469a-bd80-2faa6b2b599c",
   "metadata": {},
   "outputs": [],
   "source": [
    "# plot each row \n",
    "s.shape"
   ]
  },
  {
   "cell_type": "code",
   "execution_count": null,
   "id": "9047585a-0315-4694-bd4e-498697fc8759",
   "metadata": {},
   "outputs": [],
   "source": [
    "s[0]"
   ]
  },
  {
   "cell_type": "code",
   "execution_count": null,
   "id": "6a877b3c-0b6e-4d37-a8ab-ae044a5409d4",
   "metadata": {},
   "outputs": [],
   "source": [
    "import matplotlib.colors as mcolors"
   ]
  },
  {
   "cell_type": "code",
   "execution_count": null,
   "id": "7f5dfc9c-196f-49f6-b033-95c0bf4048f3",
   "metadata": {},
   "outputs": [],
   "source": [
    "fig, ax = plt.subplots(1, 1, figsize=(6, 10))\n",
    "\n",
    "masked_data = np.ma.array(s, mask=np.isnan(s))\n",
    "\n",
    "cmap = plt.cm.binary  # Or any other colormap\n",
    "cmap.set_bad('red')  # Set NaN values to be red\n",
    "\n",
    "cax = ax.matshow(masked_data, cmap=cmap, aspect=\"auto\")\n",
    "\n",
    "plt.tight_layout()\n",
    "\n",
    "ax.set_xlabel(\"Bin\")\n",
    "ax.set_ylabel(\"Trial\")\n",
    "\n",
    "ax.xaxis.set_ticks_position('bottom')\n",
    "\n",
    "ax.set_title(\"Most Likely States\")\n",
    "\n",
    "cs = {0: \"white\", 1: \"black\"}\n",
    "labels = {0: '$A_0$', 1: '$A_1$'}\n",
    "\n",
    "patches = [Patch(facecolor=cs[val], label=labels[val], edgecolor=\"black\")\n",
    "               for val in cs.keys()]\n",
    "\n",
    "plt.legend(handles=patches, title=\"States\", bbox_to_anchor=(1.05, 1), loc='upper left')\n",
    "\n",
    "#fig.colorbar(cax)\n",
    "\n",
    "plt.tight_layout()\n",
    "\n",
    "plt.savefig(f\"{path}states.png\")\n",
    "\n",
    "plt.show()"
   ]
  },
  {
   "cell_type": "code",
   "execution_count": null,
   "id": "b271009d-0c1b-4cdf-9591-a3fcaf5583cf",
   "metadata": {},
   "outputs": [],
   "source": []
  },
  {
   "cell_type": "code",
   "execution_count": null,
   "id": "1a0c63fe-d6ea-49ff-9af9-ba4cb03c750b",
   "metadata": {},
   "outputs": [],
   "source": []
  },
  {
   "cell_type": "markdown",
   "id": "3c5f8029-4679-4e24-80bc-816e7e9a4cc9",
   "metadata": {},
   "source": [
    "# Plotting B"
   ]
  },
  {
   "cell_type": "code",
   "execution_count": null,
   "id": "6b98d818-1cbe-46ab-81e6-b372dc721d6b",
   "metadata": {},
   "outputs": [],
   "source": [
    "Bs = plds.dynamics.params[2]\n",
    "Bs.shape"
   ]
  },
  {
   "cell_type": "code",
   "execution_count": null,
   "id": "f02b7cfc-185c-4149-a588-772890d12a98",
   "metadata": {},
   "outputs": [],
   "source": []
  },
  {
   "cell_type": "code",
   "execution_count": null,
   "id": "e8ab9c7f-9dcb-43d8-839b-6349c216f7e4",
   "metadata": {},
   "outputs": [],
   "source": [
    "from mpl_toolkits.axes_grid1 import make_axes_locatable\n",
    "from matplotlib.colors import CenteredNorm"
   ]
  },
  {
   "cell_type": "code",
   "execution_count": null,
   "id": "ce17726c-7c4b-40ce-b7d4-031ca4f98d17",
   "metadata": {},
   "outputs": [],
   "source": [
    "fig, axes = plt.subplots(1, 2, figsize=(14, 6))\n",
    "\n",
    "# Flatten axes array for easy iteration\n",
    "axes = axes.flatten()\n",
    "\n",
    "for i, ax in enumerate(axes):\n",
    "    im = ax.matshow(Bs[i], cmap=\"seismic\", aspect='auto', norm=CenteredNorm(vcenter=0))\n",
    "\n",
    "    ax.set_title(f\"$B_{i}$\")\n",
    "    ax.set_ylabel(\"Dim\")\n",
    "    ax.set_xlabel(\"Pixel Position\")\n",
    "\n",
    "    ax.xaxis.tick_bottom()\n",
    "\n",
    "    fig.colorbar(im, ax=ax)\n",
    "\n",
    "plt.tight_layout()\n",
    "\n",
    "plt.savefig(f\"{path}B.png\")\n",
    "\n",
    "plt.show()"
   ]
  },
  {
   "cell_type": "code",
   "execution_count": null,
   "id": "34882a34-d873-4940-9fd6-1bb176acdd5b",
   "metadata": {},
   "outputs": [],
   "source": []
  },
  {
   "cell_type": "code",
   "execution_count": null,
   "id": "c2db077e-333f-4503-834e-43a19c81f2af",
   "metadata": {},
   "outputs": [],
   "source": [
    "Bs.shape"
   ]
  },
  {
   "cell_type": "code",
   "execution_count": null,
   "id": "36ffca97-ac06-421d-b06d-b41d71a17601",
   "metadata": {},
   "outputs": [],
   "source": [
    "fig, axes = plt.subplots(2, 3, figsize=(11, 6))\n",
    "\n",
    "# Flatten axes array for easy iteration\n",
    "axes = axes.flatten()\n",
    "\n",
    "for i in range(3):\n",
    "    ax = axes[i]\n",
    "    im = ax.matshow(Bs[0][i].reshape(12, 12), cmap='seismic', aspect='auto', norm=CenteredNorm(vcenter=0))\n",
    "    ax.set_title(f'Dim {i}')\n",
    "    ax.get_xaxis().set_ticks([])\n",
    "    ax.get_yaxis().set_ticks([])\n",
    "\n",
    "    fig.colorbar(im, ax=ax)\n",
    "\n",
    "\n",
    "for i in range(3):\n",
    "    ax = axes[i+3]\n",
    "    im = ax.matshow(Bs[1][i].reshape(12, 12), cmap='seismic', aspect='auto',norm=CenteredNorm(vcenter=0))\n",
    "    ax.set_title(f'Dim {i}')\n",
    "    ax.get_xaxis().set_ticks([])\n",
    "    ax.get_yaxis().set_ticks([])\n",
    "\n",
    "    fig.colorbar(im, ax=ax)\n",
    "\n",
    "axes[0].set_ylabel(\"$B_0$\")\n",
    "axes[3].set_ylabel(\"$B_1$\")\n",
    "\n",
    "plt.tight_layout()\n",
    "\n",
    "plt.savefig(f\"{path}B2.png\")\n",
    "plt.show()"
   ]
  },
  {
   "cell_type": "code",
   "execution_count": null,
   "id": "d13ca5ad-3740-4175-8b39-f7931a4e3c6c",
   "metadata": {},
   "outputs": [],
   "source": []
  },
  {
   "cell_type": "code",
   "execution_count": null,
   "id": "08676353-bd25-4e5f-917b-92e5c437066e",
   "metadata": {},
   "outputs": [],
   "source": [
    "p_ids"
   ]
  },
  {
   "cell_type": "code",
   "execution_count": null,
   "id": "5bf8ee25-330c-48e8-9c02-803231dce251",
   "metadata": {},
   "outputs": [],
   "source": [
    "fig, axes = plt.subplots(1, 3, figsize=(11, 3))\n",
    "\n",
    "# Flatten axes array for easy iteration\n",
    "axes = axes.flatten()\n",
    "\n",
    "for i in range(3):\n",
    "    ax = axes[i] \n",
    "    ax.matshow(all_patterns[int(p_ids[i] - 3)], cmap=\"binary\")\n",
    "    ax.set_title(f\"Pattern {int(p_ids[i])}\")\n",
    "    ax.set_xticks([])\n",
    "    ax.set_yticks([])\n",
    "\n",
    "plt.tight_layout()\n",
    "\n",
    "plt.savefig(f\"{path}/p_id.png\")\n",
    "\n",
    "plt.show()"
   ]
  },
  {
   "cell_type": "code",
   "execution_count": null,
   "id": "7f4c4680-90df-43c9-9f79-96912c72ca3e",
   "metadata": {},
   "outputs": [],
   "source": []
  },
  {
   "cell_type": "code",
   "execution_count": null,
   "id": "86eb22c4-0889-4a26-b144-15e1b88b67e0",
   "metadata": {},
   "outputs": [],
   "source": []
  },
  {
   "cell_type": "markdown",
   "id": "ee2411d6-f90b-4fcf-95bd-47bcaa355926",
   "metadata": {},
   "source": [
    "# Plot the Rs\n",
    "\n",
    "Where are different phases active in space? "
   ]
  },
  {
   "cell_type": "code",
   "execution_count": null,
   "id": "69f06fe5-0b2c-4d48-80bf-ede4c6dd226a",
   "metadata": {},
   "outputs": [],
   "source": [
    "a = state_means[0] @ plds.transitions.Rs.T \n",
    "a.shape"
   ]
  },
  {
   "cell_type": "code",
   "execution_count": null,
   "id": "64aee002-8ef5-4fcc-8d26-20c4daad944d",
   "metadata": {},
   "outputs": [],
   "source": [
    "b = plds.transitions.Rs @ state_means[0].T\n",
    "b.shape"
   ]
  },
  {
   "cell_type": "code",
   "execution_count": null,
   "id": "a9239d40-e88d-4373-ba40-480c48d8613b",
   "metadata": {},
   "outputs": [],
   "source": [
    "np.argmax(b)"
   ]
  },
  {
   "cell_type": "code",
   "execution_count": null,
   "id": "6f1e0221-ee13-4379-bbdf-7c874644abd4",
   "metadata": {},
   "outputs": [],
   "source": [
    "np.exp(b[:, 25])"
   ]
  },
  {
   "cell_type": "code",
   "execution_count": null,
   "id": "36ec94fc-cf01-41fa-9d22-920a392d7e99",
   "metadata": {},
   "outputs": [],
   "source": []
  },
  {
   "cell_type": "code",
   "execution_count": null,
   "id": "c386f726-c75b-405e-9fed-d6e0d891d77f",
   "metadata": {},
   "outputs": [],
   "source": []
  },
  {
   "cell_type": "code",
   "execution_count": null,
   "id": "2b4abaa5-11af-4e90-ade5-5562032fa251",
   "metadata": {},
   "outputs": [],
   "source": [
    "plds.transitions.log_transition_matrices(state_means[0], inputs[0], None, None).shape"
   ]
  },
  {
   "cell_type": "code",
   "execution_count": null,
   "id": "70e4844a-6bb0-43bb-942a-c9d508b17dba",
   "metadata": {},
   "outputs": [],
   "source": [
    "plds.transitions.log_transition_matrices(state_means[0], inputs[0], None, None)[0]"
   ]
  },
  {
   "cell_type": "markdown",
   "id": "508c6f68-d74d-4463-b4dc-81ed7017e66d",
   "metadata": {},
   "source": [
    "p(x_1 = i | x_0 = j)"
   ]
  },
  {
   "cell_type": "code",
   "execution_count": null,
   "id": "5691328e-1c45-4fa4-b47b-1bd743fe66c7",
   "metadata": {},
   "outputs": [],
   "source": [
    "np.exp(plds.transitions.log_transition_matrices(state_means[0], inputs[0], None, None)[0])"
   ]
  },
  {
   "cell_type": "code",
   "execution_count": null,
   "id": "a11e6985-7970-4564-bea2-1810d5d1c7e8",
   "metadata": {},
   "outputs": [],
   "source": [
    "np.argmanz"
   ]
  },
  {
   "cell_type": "code",
   "execution_count": null,
   "id": "9d60188a-392a-4a52-b3a5-d2041d906e51",
   "metadata": {},
   "outputs": [],
   "source": []
  },
  {
   "cell_type": "code",
   "execution_count": null,
   "id": "2ac24dd1-a8b3-4dcf-a3ba-6652d1b25254",
   "metadata": {},
   "outputs": [],
   "source": [
    "def plot_most_likely_dynamics(model,\n",
    "    xlim=(-4, 4), ylim=(-3, 3), nxpts=30, nypts=30,\n",
    "    alpha=0.8, ax=None, figsize=(3, 3)):\n",
    "\n",
    "    K = model.K\n",
    "    assert model.D == 2\n",
    "    x = np.linspace(*xlim, nxpts)\n",
    "    y = np.linspace(*ylim, nypts)\n",
    "    X, Y = np.meshgrid(x, y)\n",
    "    xy = np.column_stack((X.ravel(), Y.ravel()))\n",
    "\n",
    "    # Get the probability of each state at each xy location\n",
    "    log_Ps = model.transitions.log_transition_matrices(\n",
    "        xy, np.zeros((nxpts * nypts, 0)), np.ones_like(xy, dtype=bool), None)\n",
    "    z = np.argmax(log_Ps[:, 0, :], axis=-1)\n",
    "    z = np.concatenate([[z[0]], z])\n",
    "\n",
    "    if ax is None:\n",
    "        fig = plt.figure(figsize=figsize)\n",
    "        ax = fig.add_subplot(111)\n",
    "\n",
    "    for k, (A, b) in enumerate(zip(model.dynamics.As, model.dynamics.bs)):\n",
    "        dxydt_m = xy.dot(A.T) + b - xy\n",
    "\n",
    "        zk = z == k\n",
    "        if zk.sum(0) > 0:\n",
    "            ax.quiver(xy[zk, 0], xy[zk, 1],\n",
    "                      dxydt_m[zk, 0], dxydt_m[zk, 1],\n",
    "                      color=colors[k % len(colors)], alpha=alpha)\n",
    "\n",
    "    ax.set_xlabel('$x_1$')\n",
    "    ax.set_ylabel('$x_2$')\n",
    "\n",
    "    plt.tight_layout()\n",
    "\n",
    "    return ax"
   ]
  }
 ],
 "metadata": {
  "kernelspec": {
   "display_name": "Python 3 (ipykernel)",
   "language": "python",
   "name": "python3"
  },
  "language_info": {
   "codemirror_mode": {
    "name": "ipython",
    "version": 3
   },
   "file_extension": ".py",
   "mimetype": "text/x-python",
   "name": "python",
   "nbconvert_exporter": "python",
   "pygments_lexer": "ipython3",
   "version": "3.11.12"
  }
 },
 "nbformat": 4,
 "nbformat_minor": 5
}
