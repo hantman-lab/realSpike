{
 "cells": [
  {
   "cell_type": "markdown",
   "id": "baa9a0a7-69a0-4b0b-93f9-debf1d28f6c4",
   "metadata": {},
   "source": [
    "# Notebook for doing parameter estimation of LDS with Poisson observations using `ssm` from Linderman lab"
   ]
  },
  {
   "cell_type": "code",
   "execution_count": null,
   "id": "f427334f-908f-4535-b62b-a4b20bbfc3f7",
   "metadata": {},
   "outputs": [],
   "source": [
    "from scipy.linalg import block_diag\n",
    "import autograd.numpy as np\n",
    "import matplotlib.pyplot as plt\n",
    "import ssm\n",
    "\n",
    "from pathlib import Path\n",
    "from scipy.io import loadmat\n",
    "import numpy as np\n",
    "import matplotlib.pyplot as plt\n",
    "from tqdm import tqdm\n",
    "from real_spike.utils import get_spike_events, kalman_filter, bin_spikes, butter_filter\n",
    "from scipy.ndimage import gaussian_filter1d\n",
    "from matplotlib import colormaps\n",
    "from ssm.plots import plot_dynamics_2d\n",
    "\n",
    "%matplotlib inline"
   ]
  },
  {
   "cell_type": "markdown",
   "id": "472bfa9e-07ae-438f-b83b-4bf5ff198994",
   "metadata": {},
   "source": [
    "# Get data"
   ]
  },
  {
   "cell_type": "code",
   "execution_count": null,
   "id": "269ca474-fc4b-4f7e-bd71-d5959f96a1a8",
   "metadata": {},
   "outputs": [],
   "source": [
    "mat = loadmat(\"/home/clewis/wasabi/reaganbullins2/ProjectionProject/rb50/20250127/MAT_FILES/rb50_20250127_datastruct_pt2.mat\")\n",
    "mat = mat['data']\n",
    "\n",
    "print(mat.dtype.names)"
   ]
  },
  {
   "cell_type": "code",
   "execution_count": null,
   "id": "ca5bf0c8-82f6-4330-a438-21e613f361af",
   "metadata": {},
   "outputs": [],
   "source": [
    "data_struct = mat[0, 0]  # MATLAB structs are 2D arrays even if 1x1\n",
    "data = {field: data_struct[field] for field in mat.dtype.names}"
   ]
  },
  {
   "cell_type": "code",
   "execution_count": null,
   "id": "25c5ca46-ed1e-4b79-a924-fc49bf1cee2d",
   "metadata": {},
   "outputs": [],
   "source": [
    "data.keys()"
   ]
  },
  {
   "cell_type": "code",
   "execution_count": null,
   "id": "92c4ef31-ef13-47b4-9172-30d45b0d6a8f",
   "metadata": {},
   "outputs": [],
   "source": []
  },
  {
   "cell_type": "markdown",
   "id": "69a8e93e-e7f7-4e49-ac9a-69e5b9d18fe6",
   "metadata": {},
   "source": [
    "# Get single-reach trials"
   ]
  },
  {
   "cell_type": "code",
   "execution_count": null,
   "id": "63f4b886-5233-4dfa-886d-ffe5970ebd11",
   "metadata": {},
   "outputs": [],
   "source": [
    "control_idxs = np.where(data[\"pattern_id\"] == 0)[0]\n",
    "control_idxs"
   ]
  },
  {
   "cell_type": "code",
   "execution_count": null,
   "id": "56edff85-b712-486d-906a-9f6f01992e2a",
   "metadata": {},
   "outputs": [],
   "source": [
    "stim_idxs = np.where(data[\"pattern_id\"][:150] > 2)[0]\n",
    "\n",
    "# control_idxs = np.intersect1d(control_idxs, stim_idxs)\n",
    "# con\n",
    "control_idxs = np.sort(np.concatenate((control_idxs, stim_idxs)))"
   ]
  },
  {
   "cell_type": "code",
   "execution_count": null,
   "id": "ef3ebe7a-66aa-4181-8bfb-4ec2d388b93e",
   "metadata": {},
   "outputs": [],
   "source": [
    "# get no laser trials\n",
    "control_idxs = np.intersect1d(control_idxs, np.where(data[\"single\"] == 1)[1])"
   ]
  },
  {
   "cell_type": "code",
   "execution_count": null,
   "id": "53a8ea35-6b30-4be8-92cd-0576324d2628",
   "metadata": {},
   "outputs": [],
   "source": [
    "#control_idxs = np.sort(np.concatenate((a, b)))\n",
    "control_idxs"
   ]
  },
  {
   "cell_type": "code",
   "execution_count": null,
   "id": "d1e605d9-28ce-4199-a5ec-ff4a9b47ef97",
   "metadata": {},
   "outputs": [],
   "source": [
    "np.unique(data[\"pattern_id\"][control_idxs])"
   ]
  },
  {
   "cell_type": "code",
   "execution_count": null,
   "id": "9209c7b0-05fa-4d6b-8c8d-448019796c35",
   "metadata": {},
   "outputs": [],
   "source": []
  },
  {
   "cell_type": "markdown",
   "id": "e2f57868-557a-4f10-8744-950aca5f25fe",
   "metadata": {},
   "source": [
    "## Get relevant time information"
   ]
  },
  {
   "cell_type": "code",
   "execution_count": null,
   "id": "4c325ab6-bee2-4690-b5f3-c4f78a724c74",
   "metadata": {},
   "outputs": [],
   "source": [
    "cue_times = data[\"cue_rec_time\"][:, :150]\n",
    "cue_times[:, control_idxs]"
   ]
  },
  {
   "cell_type": "code",
   "execution_count": null,
   "id": "2e84b31d-f198-4299-b4e8-b120d2004b28",
   "metadata": {},
   "outputs": [],
   "source": []
  },
  {
   "cell_type": "code",
   "execution_count": null,
   "id": "d891b922-3242-46d8-ac2e-508997d94491",
   "metadata": {},
   "outputs": [],
   "source": [
    "lift_times = data[\"lift_ms\"][:, :150]\n",
    "lift_times[:, control_idxs]"
   ]
  },
  {
   "cell_type": "code",
   "execution_count": null,
   "id": "9aedf61d-95d7-4e5a-9f68-627159de3a2c",
   "metadata": {},
   "outputs": [],
   "source": []
  },
  {
   "cell_type": "code",
   "execution_count": null,
   "id": "bd4d7b90-79e7-4bf7-a38f-18de7a34f3fc",
   "metadata": {},
   "outputs": [],
   "source": [
    "mouth_times = data[\"mouth_ms\"][:, :150]\n",
    "mouth_times[:, control_idxs]"
   ]
  },
  {
   "cell_type": "code",
   "execution_count": null,
   "id": "b6c88bfa-de4b-4925-ae58-2f9a1e95274c",
   "metadata": {},
   "outputs": [],
   "source": []
  },
  {
   "cell_type": "code",
   "execution_count": null,
   "id": "495febba-dacd-43b7-acf3-eef909b0b941",
   "metadata": {},
   "outputs": [],
   "source": []
  },
  {
   "cell_type": "markdown",
   "id": "50f1c58a-ff0b-4fff-a9ff-7aa4c4c0bc38",
   "metadata": {},
   "source": [
    "## Get the AP.bin file"
   ]
  },
  {
   "cell_type": "code",
   "execution_count": null,
   "id": "a8933c07-8353-4676-b831-8acfa35cde55",
   "metadata": {},
   "outputs": [],
   "source": [
    "from real_spike.utils import get_sample_data, get_meta\n",
    "import tifffile"
   ]
  },
  {
   "cell_type": "code",
   "execution_count": null,
   "id": "cd2ab177-1d98-4707-b09a-edec1068ef7d",
   "metadata": {},
   "outputs": [],
   "source": [
    "file_path = Path(\"/home/clewis/wasabi/reaganbullins2/ProjectionProject/rb50/20250127/rb50_20250127_g0/rb50_20250127_g0_t0.imec0.ap.bin\")\n",
    "meta_path = Path(\"/home/clewis/wasabi/reaganbullins2/ProjectionProject/rb50/20250127/rb50_20250127_g0/rb50_20250127_g0_t0.imec0.ap.meta\")"
   ]
  },
  {
   "cell_type": "code",
   "execution_count": null,
   "id": "3ddd59d4-cebc-4a55-8db6-84585d10b362",
   "metadata": {},
   "outputs": [],
   "source": [
    "meta_data = get_meta(meta_path)"
   ]
  },
  {
   "cell_type": "code",
   "execution_count": null,
   "id": "253ff7db-8323-4397-b837-b2f2e49100a6",
   "metadata": {},
   "outputs": [],
   "source": [
    "ap_data = get_sample_data(file_path, meta_data)\n",
    "ap_data.shape"
   ]
  },
  {
   "cell_type": "code",
   "execution_count": null,
   "id": "381dd0aa-f7cf-4bdc-8d28-bcc7f1677a83",
   "metadata": {},
   "outputs": [],
   "source": []
  },
  {
   "cell_type": "code",
   "execution_count": null,
   "id": "14a40d88-3f7c-4303-a5e8-751bccd59f38",
   "metadata": {},
   "outputs": [],
   "source": []
  },
  {
   "cell_type": "markdown",
   "id": "544aa4b8-a237-4fa2-a68a-efb352c5e1de",
   "metadata": {},
   "source": [
    "## Get conversion params"
   ]
  },
  {
   "cell_type": "code",
   "execution_count": null,
   "id": "00df1aa8-3234-4b03-94c7-7ab07ae565a5",
   "metadata": {},
   "outputs": [],
   "source": [
    "vmax = float(meta_data[\"imAiRangeMax\"])\n",
    "# get Imax\n",
    "imax = float(meta_data[\"imMaxInt\"])\n",
    "# get gain\n",
    "gain = float(meta_data['imroTbl'].split(sep=')')[1].split(sep=' ')[3])"
   ]
  },
  {
   "cell_type": "code",
   "execution_count": null,
   "id": "5df0676e-32f9-4dce-9057-a017e8a8c35c",
   "metadata": {},
   "outputs": [],
   "source": [
    "vmax"
   ]
  },
  {
   "cell_type": "code",
   "execution_count": null,
   "id": "670028a1-6795-441b-9556-c46298d0370e",
   "metadata": {},
   "outputs": [],
   "source": [
    "imax"
   ]
  },
  {
   "cell_type": "code",
   "execution_count": null,
   "id": "cb7ee62b-9a94-40ce-b06c-3e03604f5668",
   "metadata": {},
   "outputs": [],
   "source": [
    "gain"
   ]
  },
  {
   "cell_type": "code",
   "execution_count": null,
   "id": "14a8e1d7-c824-4fb1-b4ba-a63632347d7d",
   "metadata": {},
   "outputs": [],
   "source": []
  },
  {
   "cell_type": "code",
   "execution_count": null,
   "id": "8efa601f-4204-4da8-8b23-6bd5b7425db2",
   "metadata": {},
   "outputs": [],
   "source": []
  },
  {
   "cell_type": "markdown",
   "id": "0017ebb9-1e73-4791-b033-9987ce5a02fa",
   "metadata": {},
   "source": [
    "# Get trials"
   ]
  },
  {
   "cell_type": "code",
   "execution_count": null,
   "id": "ce07dfce-da24-4afd-82bc-e96a4c6b3d96",
   "metadata": {},
   "outputs": [],
   "source": [
    "all_data = list()\n",
    "\n",
    "# HYPERPARAMETERS TO TOGGLE\n",
    "bin_size = 5\n",
    "\n",
    "p_colors = list()\n",
    "c = {0: \"indigo\", 14: \"teal\", 17: \"magenta\", 20: \"orange\"}\n",
    "\n",
    "for i in tqdm(control_idxs):\n",
    "    trial_no = i\n",
    "    p_colors.append(c[data[\"pattern_id\"][i][0]])\n",
    "    # get time points in ap space\n",
    "    lift_time = int((cue_times[:, trial_no] + lift_times[:, trial_no] - 50) / 1_000 * 30_000)\n",
    "    \n",
    "    # get end of behavior = mouth (260ms) + 300ms \n",
    "    end_behavior = int((cue_times[:, trial_no] + mouth_times[:, trial_no] + 260) / 1_000 * 30_000)\n",
    "    #print(lift_time, end_behavior)\n",
    "\n",
    "    trial = ap_data[:150, lift_time:end_behavior]\n",
    "\n",
    "    conv_data = 1e6 * trial / vmax / imax / gain\n",
    "\n",
    "    filt_data = butter_filter(conv_data, 1_000, 30_000)\n",
    "\n",
    "    c_start = int(cue_times[:, trial_no] / 1_000 * 30_000)\n",
    "    m_start = c_start - (30 * 2000)\n",
    "    trial_median = ap_data[:150, m_start:c_start]\n",
    "\n",
    "    trial_median = 1e6 * trial_median / vmax / imax / gain\n",
    "    trial_median = butter_filter(trial_median, 1_000, 30_000)\n",
    "    \n",
    "    median = np.median(trial_median, axis=1)\n",
    "\n",
    "    spike_ixs, counts = get_spike_events(filt_data, median)\n",
    "    \n",
    "    a = np.zeros((filt_data.shape[0], filt_data.shape[1]))\n",
    "\n",
    "    for i, sc in enumerate(spike_ixs):\n",
    "        a[i, sc] = 1\n",
    "\n",
    "    b = bin_size * 30 # 30ms per bin\n",
    "    binned_spikes = bin_spikes(a, b)\n",
    "\n",
    "    sigma = 5\n",
    "\n",
    "    #smoothed = gaussian_filter1d(binned_spikes, sigma=sigma, axis=1)\n",
    "\n",
    "    all_data.append(binned_spikes)"
   ]
  },
  {
   "cell_type": "code",
   "execution_count": null,
   "id": "c4fbb255-bec9-482f-8518-8a48f639c262",
   "metadata": {},
   "outputs": [],
   "source": []
  },
  {
   "cell_type": "code",
   "execution_count": null,
   "id": "ea8f3437-e974-4fa9-a771-98ecdf51ea01",
   "metadata": {},
   "outputs": [],
   "source": []
  },
  {
   "cell_type": "markdown",
   "id": "4dde0208-0e63-405f-bc02-e1def9a916cb",
   "metadata": {},
   "source": [
    "# Shorten trial to just around dynamics we care about"
   ]
  },
  {
   "cell_type": "code",
   "execution_count": null,
   "id": "de4061fb-2b92-47a3-891a-76c24b208e78",
   "metadata": {},
   "outputs": [],
   "source": [
    "model_data = list()\n",
    "\n",
    "lift_start = int(50 / bin_size)\n",
    "after_lift = int(300 / bin_size) + lift_start\n",
    "\n",
    "\n",
    "for i, d in enumerate(all_data):\n",
    "    # smooth spikes\n",
    "    #d = gaussian_filter1d(d, sigma=5, axis=1)\n",
    "    lift = int(data[\"lift_ms\"][0, control_idxs[i]] / bin_size) \n",
    "    # grab duration\n",
    "    grab = int(data[\"grab_ms\"][0,control_idxs[i]] / bin_size)\n",
    "    # mouth duration \n",
    "    mouth = int(data[\"mouth_ms\"][0,control_idxs[i]] / bin_size)\n",
    "\n",
    "    lift_start = int(50 / bin_size)\n",
    "    grab_start = lift_start + (grab - lift)\n",
    "    mouth_start = lift_start + (mouth-lift)\n",
    "    \n",
    "    model_data.append(np.asarray(d[:, lift_start:mouth_start+1].T, dtype=int))"
   ]
  },
  {
   "cell_type": "code",
   "execution_count": null,
   "id": "f3fde92b-93ee-405f-880a-c9f2f5360128",
   "metadata": {},
   "outputs": [],
   "source": []
  },
  {
   "cell_type": "code",
   "execution_count": null,
   "id": "df11fa46-a110-45f2-a958-b8dc6b0e81f6",
   "metadata": {},
   "outputs": [],
   "source": [
    "for d in model_data:\n",
    "    print(d.shape)"
   ]
  },
  {
   "cell_type": "markdown",
   "id": "076695ed-a938-4e9c-86b6-d758b8a6f89c",
   "metadata": {},
   "source": [
    "# Visual trials"
   ]
  },
  {
   "cell_type": "code",
   "execution_count": null,
   "id": "2168bc43-7179-4a9c-90d1-b70ac02b810c",
   "metadata": {},
   "outputs": [],
   "source": [
    "import random"
   ]
  },
  {
   "cell_type": "code",
   "execution_count": null,
   "id": "3a3cd562-269b-4d98-bc00-2a992f0f57b1",
   "metadata": {},
   "outputs": [],
   "source": [
    "fig, axes = plt.subplots(2, 5, figsize=(20, 8))\n",
    "\n",
    "# Flatten axes array for easy iteration\n",
    "axes = axes.flatten()\n",
    "\n",
    "ixs = random.sample(range(0, len(all_data)), 10)\n",
    "ixs.sort()\n",
    "\n",
    "for i, x in enumerate(ixs):\n",
    "    ax = axes[i]\n",
    "    d = ax.imshow(model_data[x].T, aspect=\"auto\", interpolation=\"none\", cmap=\"inferno\")\n",
    "    ax.set_xlabel(\"Times (ms)\")\n",
    "    ax.set_ylabel(\"Channel\")\n",
    "\n",
    "    ax.axvline(x=10, linestyle='--', color='red')\n",
    "\n",
    "    fig.colorbar(d, ax=ax)\n",
    "\n",
    "\n",
    "    ax.set_title(f\"Trial {control_idxs[x]}\") \n",
    "\n",
    "\n",
    "# Adjust layout\n",
    "plt.tight_layout()\n",
    "\n",
    "#fig.colorbar()\n",
    "\n",
    "plt.savefig(\"/home/clewis/repos/realSpike/data/rb50_20250127/binned_spikes_heatmap.png\")\n",
    "\n",
    "plt.show()"
   ]
  },
  {
   "cell_type": "code",
   "execution_count": null,
   "id": "da7b6148-cd4c-4865-a7c2-f53b61611ed8",
   "metadata": {},
   "outputs": [],
   "source": []
  },
  {
   "cell_type": "code",
   "execution_count": null,
   "id": "66d02257-06df-449b-966b-ab7cfacd4948",
   "metadata": {},
   "outputs": [],
   "source": []
  },
  {
   "cell_type": "code",
   "execution_count": null,
   "id": "83327db0-e960-4186-bde8-ebf593b57f2c",
   "metadata": {},
   "outputs": [],
   "source": []
  },
  {
   "cell_type": "markdown",
   "id": "0f7cedba-dd75-465d-8214-4aaa93b0950e",
   "metadata": {},
   "source": [
    "# Create model"
   ]
  },
  {
   "cell_type": "code",
   "execution_count": null,
   "id": "c9ef4662-29f6-47dd-b379-2769124d1bca",
   "metadata": {},
   "outputs": [],
   "source": [
    "control_idxs.shape"
   ]
  },
  {
   "cell_type": "code",
   "execution_count": null,
   "id": "d6c6aee9-c8eb-4fab-ac9c-27e4a2885796",
   "metadata": {},
   "outputs": [],
   "source": [
    "len(all_data)"
   ]
  },
  {
   "cell_type": "code",
   "execution_count": null,
   "id": "c7288574-779e-4114-93b8-9db6fea6203b",
   "metadata": {},
   "outputs": [],
   "source": [
    "control_idxs[0]"
   ]
  },
  {
   "cell_type": "code",
   "execution_count": null,
   "id": "fce48227-3e76-428f-bd00-ad52c4c749ef",
   "metadata": {},
   "outputs": [],
   "source": [
    "# smooth the data \n",
    "model_data = list()\n",
    "\n",
    "lift_start = int(50 / bin_size)\n",
    "after_lift = int(300 / bin_size) + lift_start\n",
    "\n",
    "\n",
    "for i, d in enumerate(all_data):\n",
    "\n",
    "    lift = int(data[\"lift_ms\"][0, control_idxs[i]] / bin_size) \n",
    "    # grab duration\n",
    "    grab = int(data[\"grab_ms\"][0,control_idxs[i]] / bin_size)\n",
    "    # mouth duration \n",
    "    mouth = int(data[\"mouth_ms\"][0,control_idxs[i]] / bin_size)\n",
    "\n",
    "    lift_start = int(50 / bin_size)\n",
    "    grab_start = lift_start + (grab - lift)\n",
    "    mouth_start = lift_start + (mouth-lift)\n",
    "    \n",
    "    # smooth spikes\n",
    "    d = gaussian_filter1d(d, sigma=8, axis=1)\n",
    "    model_data.append(np.asarray(d[:, lift_start:mouth_start+1].T, dtype=int))"
   ]
  },
  {
   "cell_type": "code",
   "execution_count": null,
   "id": "dc0a4708-2f1e-4247-a84a-4153c0df6e06",
   "metadata": {},
   "outputs": [],
   "source": [
    "state_dim = 3\n",
    "obs_dim = model_data[0].shape[1] \n",
    "\n",
    "(state_dim, obs_dim)"
   ]
  },
  {
   "cell_type": "code",
   "execution_count": null,
   "id": "36c131fa-6b99-438e-b519-01e83282d47e",
   "metadata": {},
   "outputs": [],
   "source": [
    "plds = ssm.LDS(obs_dim, state_dim, emissions=\"poisson_orthog\", emission_kwargs=dict(link=\"softplus\"))\n",
    "\n",
    "# set bias vector to 0\n",
    "#plds.emissions.ds = 0 * np.ones(obs_dim)"
   ]
  },
  {
   "cell_type": "code",
   "execution_count": null,
   "id": "69ee1dd0-48bb-45f3-8250-a8c41264f41c",
   "metadata": {},
   "outputs": [],
   "source": []
  },
  {
   "cell_type": "code",
   "execution_count": null,
   "id": "a68efb41-de30-4618-a40f-a7a08247db53",
   "metadata": {},
   "outputs": [],
   "source": []
  },
  {
   "cell_type": "code",
   "execution_count": null,
   "id": "55aae5c3-bf4d-4227-a0fc-9734dee1f11a",
   "metadata": {},
   "outputs": [],
   "source": []
  },
  {
   "cell_type": "markdown",
   "id": "03e73838-a2e0-49b1-a1a9-e2cc1723f778",
   "metadata": {},
   "source": [
    "# Fit the model"
   ]
  },
  {
   "cell_type": "code",
   "execution_count": null,
   "id": "d0fda113-874a-4df4-a1e4-97acae8158c0",
   "metadata": {},
   "outputs": [],
   "source": [
    "elbos, q = plds.fit(model_data, method=\"laplace_em\", num_iters=15)"
   ]
  },
  {
   "cell_type": "code",
   "execution_count": null,
   "id": "6872e4fe-8c32-42d0-9af1-bbba4c9105bf",
   "metadata": {},
   "outputs": [],
   "source": []
  },
  {
   "cell_type": "code",
   "execution_count": null,
   "id": "7dc1f194-a66e-4eb5-a4b6-009fdbf3ea82",
   "metadata": {},
   "outputs": [],
   "source": [
    "# Plot the ELBOs\n",
    "plt.plot(elbos, label=\"Laplace-EM\")\n",
    "plt.xlabel(\"Iteration\")\n",
    "plt.ylabel(\"ELBO\")\n",
    "plt.legend()\n",
    "\n",
    "plt.savefig(f\"/home/clewis/repos/realSpike/data/rb50_20250127/plds_elbo_{bin_size}ms.png\")"
   ]
  },
  {
   "cell_type": "code",
   "execution_count": null,
   "id": "2b3062b2-4b1a-4add-bea6-ccefbd2c3255",
   "metadata": {},
   "outputs": [],
   "source": []
  },
  {
   "cell_type": "code",
   "execution_count": null,
   "id": "7ed56e95-2780-41e1-909f-3860a26cad6b",
   "metadata": {},
   "outputs": [],
   "source": []
  },
  {
   "cell_type": "code",
   "execution_count": null,
   "id": "1a2891af-4fcc-40c5-8d64-905ee4ae1dc5",
   "metadata": {},
   "outputs": [],
   "source": [
    "# Extract dynamics matrix from the true model\n",
    "# A_true = true_lds.dynamics.A\n",
    "# b_true = true_lds.dynamics.b\n",
    "\n",
    "A_est = plds.dynamics.A\n",
    "b_est = plds.dynamics.b\n",
    "\n",
    "f, ax = plt.subplots(1, 1, figsize=(6, 6))\n",
    "# plot_dynamics_2d(A_true, b_true, npts=10, axis=ax[0], color=colors[0])\n",
    "# ax[0].set_xlabel(\"$x_1$\")\n",
    "# ax[0].set_ylabel(\"$x_2$\")\n",
    "# ax[0].set_title(\"True Dynamics\")\n",
    "\n",
    "plot_dynamics_2d(A_est[:2, :2] , b_est[:2], npts=15, axis=ax, color=\"red\")\n",
    "#plt.plot(states_plds[:,0], states_plds[:,1], '-k', lw=3)\n",
    "ax.set_xlabel(\"$x_1$\")\n",
    "ax.set_ylabel(\"$x_2$\")\n",
    "ax.set_title(\"Inferred Dynamics\")\n",
    "\n",
    "plt.tight_layout()\n",
    "\n",
    "plt.savefig(f\"/home/clewis/repos/realSpike/data/rb50_20250127/plds_dynamics_{bin_size}ms.png\")\n",
    "plt.show()"
   ]
  },
  {
   "cell_type": "code",
   "execution_count": null,
   "id": "d942e490-200c-4f5f-9705-5adfb098b55d",
   "metadata": {},
   "outputs": [],
   "source": []
  },
  {
   "cell_type": "code",
   "execution_count": null,
   "id": "88f6a266-487f-4f62-a3d3-08fc87019877",
   "metadata": {},
   "outputs": [],
   "source": []
  },
  {
   "cell_type": "code",
   "execution_count": null,
   "id": "6d38535d-65e4-4a09-ad6d-fe82865521ce",
   "metadata": {},
   "outputs": [],
   "source": []
  },
  {
   "cell_type": "markdown",
   "id": "68045a12-feba-4788-891f-ad346ceefe7f",
   "metadata": {},
   "source": [
    "##  estimated expected values of the latent (hidden) continuous variables given the observed data and the current model parameters\n",
    "\n",
    "The posterior mean of the continuous states is the expected value:\n",
    "\n",
    "This mean can be interpreted as the best guess (under mean squared error) of the hidden latent state trajectory explaining the observed data, taking into account both the system dynamics and the Poisson likelihood of the observations."
   ]
  },
  {
   "cell_type": "code",
   "execution_count": null,
   "id": "e1623d47-7360-4ca6-a465-03d8b8a18788",
   "metadata": {},
   "outputs": [],
   "source": [
    "# Get the posterior mean of the continuous states\n",
    "state_means = q.mean_continuous_states"
   ]
  },
  {
   "cell_type": "code",
   "execution_count": null,
   "id": "a30f5315-1fd1-44c7-9da5-695ccfe296d5",
   "metadata": {},
   "outputs": [],
   "source": []
  },
  {
   "cell_type": "code",
   "execution_count": null,
   "id": "80c72208-98ef-471e-a7c6-dbbbc0d35249",
   "metadata": {},
   "outputs": [],
   "source": []
  },
  {
   "cell_type": "code",
   "execution_count": null,
   "id": "ba19f2f2-24b6-4808-8822-25f8ba88c2ea",
   "metadata": {},
   "outputs": [],
   "source": []
  },
  {
   "cell_type": "markdown",
   "id": "a63560df-9d24-4283-b93c-881ca59b9177",
   "metadata": {},
   "source": [
    "# Plot all the posterior means together 2D"
   ]
  },
  {
   "cell_type": "code",
   "execution_count": null,
   "id": "9cbff93c-3167-4d64-b179-e388dcadbfa6",
   "metadata": {},
   "outputs": [],
   "source": [
    "fig = plt.figure(figsize=(10, 10))\n",
    "ax = fig.add_subplot(111)\n",
    "\n",
    "for i, p in enumerate(state_means):\n",
    "\n",
    "    lift = int(data[\"lift_ms\"][0, control_idxs[i]] / bin_size) \n",
    "    # grab duration\n",
    "    grab = int(data[\"grab_ms\"][0,control_idxs[i]] / bin_size)\n",
    "    # mouth duration \n",
    "    mouth = int(data[\"mouth_ms\"][0,control_idxs[i]] / bin_size)\n",
    "\n",
    "    lift_start = int(50 / bin_size)\n",
    "    grab_start = lift_start + (grab - lift)\n",
    "   # mouth_start = lift_start + (mouth-lift)\n",
    "\n",
    "    ax.plot(p[lift_start:, 0], p[lift_start:, 1], c=\"black\", zorder=0, alpha=0.8)\n",
    "\n",
    "    ax.scatter(p[lift_start, 0], p[lift_start, 1], s=35, c=\"teal\", zorder=1, alpha=1)\n",
    "    #ax.scatter(p[grab - lift + lift_start, 0], p[grab-lift +lift_start, 1], p[grab-lift +lift_start, 2], s=10, c=\"red\")\n",
    "    ax.scatter(p[-1, 0], p[-1, 1], s=100, marker='*', c=\"magenta\", zorder=1, alpha=1)\n",
    "\n",
    "ax.set_title(f\"Posterior State Means ({bin_size}ms)\")\n",
    "\n",
    "\n",
    "\n",
    "ax.set_xticks([])\n",
    "ax.set_yticks([])\n",
    "\n",
    "\n",
    "plt.savefig(f\"/home/clewis/repos/realSpike/data/rb50_20250127/plds_posterior_means_{bin_size}ms_2d.png\")\n",
    "plt.show()"
   ]
  },
  {
   "cell_type": "code",
   "execution_count": null,
   "id": "e7850f9e-fe50-4988-9c83-1327473b4b7c",
   "metadata": {},
   "outputs": [],
   "source": []
  },
  {
   "cell_type": "code",
   "execution_count": null,
   "id": "04094cad-0738-4b00-a229-3f6b3c499655",
   "metadata": {},
   "outputs": [],
   "source": []
  },
  {
   "cell_type": "markdown",
   "id": "d6a0a08e-192e-4583-bf9e-043a441fc125",
   "metadata": {},
   "source": [
    "# Plot all the posterior means together 3D"
   ]
  },
  {
   "cell_type": "code",
   "execution_count": null,
   "id": "c384bec0-c3e6-4035-a498-7e0fc754b394",
   "metadata": {},
   "outputs": [],
   "source": [
    "fig = plt.figure(figsize=(14, 14))\n",
    "ax = fig.add_subplot(111, projection='3d')\n",
    "\n",
    "for i, p in enumerate(state_means):\n",
    "\n",
    "    lift = int(data[\"lift_ms\"][0, control_idxs[i]] / bin_size) \n",
    "    # grab duration\n",
    "    grab = int(data[\"grab_ms\"][0,control_idxs[i]] / bin_size)\n",
    "    # mouth duration \n",
    "    mouth = int(data[\"mouth_ms\"][0,control_idxs[i]] / bin_size)\n",
    "\n",
    "    lift_start = int(50 / bin_size)\n",
    "    grab_start = lift_start + (grab - lift)\n",
    "   # mouth_start = lift_start + (mouth-lift)\n",
    "\n",
    "    ax.plot(p[lift_start:, 0], p[lift_start:, 1], p[lift_start:, 2], c=\"black\", zorder=0, alpha=0.8)\n",
    "\n",
    "    ax.scatter(p[lift_start, 0], p[lift_start, 1], p[lift_start, 2], s=35, c=\"teal\", zorder=1, alpha=1)\n",
    "    #ax.scatter(p[grab - lift + lift_start, 0], p[grab-lift +lift_start, 1], p[grab-lift +lift_start, 2], s=10, c=\"red\")\n",
    "    ax.scatter(p[-1, 0], p[-1, 1], p[-1, 2], s=100, marker='*', c=\"magenta\", zorder=1, alpha=1)\n",
    "\n",
    "ax.set_title(f\"Posterior State Means ({bin_size}ms)\")\n",
    "\n",
    "\n",
    "ax.set_xticks([])\n",
    "ax.set_yticks([])\n",
    "ax.set_zticks([])\n",
    "\n",
    "plt.savefig(f\"/home/clewis/repos/realSpike/data/rb50_20250127/plds_posterior_means_{bin_size}ms_3d.png\")\n",
    "plt.show()"
   ]
  },
  {
   "cell_type": "code",
   "execution_count": null,
   "id": "6f8a9a20-f004-4553-ad83-40bd775a88ae",
   "metadata": {},
   "outputs": [],
   "source": []
  },
  {
   "cell_type": "code",
   "execution_count": null,
   "id": "28197071-1ccf-4891-823b-e3527d8657fb",
   "metadata": {},
   "outputs": [],
   "source": []
  },
  {
   "cell_type": "code",
   "execution_count": null,
   "id": "9ba667c5-0971-4267-9d24-d4e0ccfcb272",
   "metadata": {},
   "outputs": [],
   "source": []
  },
  {
   "cell_type": "code",
   "execution_count": null,
   "id": "a7bb51d8-95af-4b7e-b150-5f0c389a46d0",
   "metadata": {},
   "outputs": [],
   "source": []
  }
 ],
 "metadata": {
  "kernelspec": {
   "display_name": "Python 3 (ipykernel)",
   "language": "python",
   "name": "python3"
  },
  "language_info": {
   "codemirror_mode": {
    "name": "ipython",
    "version": 3
   },
   "file_extension": ".py",
   "mimetype": "text/x-python",
   "name": "python",
   "nbconvert_exporter": "python",
   "pygments_lexer": "ipython3",
   "version": "3.11.12"
  }
 },
 "nbformat": 4,
 "nbformat_minor": 5
}
