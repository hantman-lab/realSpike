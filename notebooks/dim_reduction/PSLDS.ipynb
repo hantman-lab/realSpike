{
 "cells": [
  {
   "cell_type": "markdown",
   "id": "7061dae7-0000-482a-aa65-4384fb77f808",
   "metadata": {},
   "source": [
    "# Notebook for running Poisson SLDS \n",
    "\n",
    "## want to see the system come back to rest\n",
    "## bin size = 10ms"
   ]
  },
  {
   "cell_type": "code",
   "execution_count": null,
   "id": "d848cd42-0439-41db-bc9c-3f7b0d8d48c5",
   "metadata": {},
   "outputs": [],
   "source": [
    "from scipy.linalg import block_diag\n",
    "import autograd.numpy as np\n",
    "import matplotlib.pyplot as plt\n",
    "import ssm\n",
    "\n",
    "from pathlib import Path\n",
    "from scipy.io import loadmat\n",
    "import numpy as np\n",
    "import matplotlib.pyplot as plt\n",
    "from tqdm import tqdm\n",
    "from real_spike.utils import get_spike_events, kalman_filter, bin_spikes, butter_filter, plot_dynamics_2d, plot_dynamics_3d\n",
    "from matplotlib import colormaps\n",
    "import pandas as pd\n",
    "\n",
    "from scipy.ndimage import gaussian_filter1d\n",
    "from mpl_toolkits.mplot3d import Axes3D \n",
    "\n",
    "import random\n",
    "\n",
    "%matplotlib inline"
   ]
  },
  {
   "cell_type": "markdown",
   "id": "249476e0-297b-4f40-90f2-ce03f2a0523b",
   "metadata": {},
   "source": [
    "# Get data"
   ]
  },
  {
   "cell_type": "code",
   "execution_count": null,
   "id": "66cf5ce1-0a92-4629-a94b-cca790799613",
   "metadata": {},
   "outputs": [],
   "source": [
    "mat = loadmat(\"/home/clewis/wasabi/reaganbullins2/ProjectionProject/rb50/20250127/MAT_FILES/rb50_20250127_datastruct_pt2.mat\")\n",
    "mat = mat['data']\n",
    "\n",
    "print(mat.dtype.names)"
   ]
  },
  {
   "cell_type": "code",
   "execution_count": null,
   "id": "4bae571b-4b9d-49ab-a2c5-2e0f412414bd",
   "metadata": {},
   "outputs": [],
   "source": [
    "data_struct = mat[0, 0]  # MATLAB structs are 2D arrays even if 1x1\n",
    "data = {field: data_struct[field] for field in mat.dtype.names}"
   ]
  },
  {
   "cell_type": "code",
   "execution_count": null,
   "id": "27486363-9ba9-4f22-9184-aa18a5e3348d",
   "metadata": {},
   "outputs": [],
   "source": [
    "data.keys()"
   ]
  },
  {
   "cell_type": "code",
   "execution_count": null,
   "id": "79220bc1-ec71-4f19-94a8-49dd2e9e6b93",
   "metadata": {},
   "outputs": [],
   "source": []
  },
  {
   "cell_type": "markdown",
   "id": "b5e0dd20-4a87-4c0c-bcc4-1219f615e0ed",
   "metadata": {},
   "source": [
    "# Get single-reach trials"
   ]
  },
  {
   "cell_type": "code",
   "execution_count": null,
   "id": "d1256533-f5ac-4465-b01c-39cbe12254e9",
   "metadata": {},
   "outputs": [],
   "source": [
    "control_idxs = np.where(data[\"pattern_id\"] == 0)[0]\n",
    "control_idxs"
   ]
  },
  {
   "cell_type": "code",
   "execution_count": null,
   "id": "77aa1c5f-44f1-4662-8ff5-f2efc7ac4a1c",
   "metadata": {},
   "outputs": [],
   "source": [
    "stim_idxs = np.where(data[\"pattern_id\"][:150] > 2)[0]\n",
    "\n",
    "# control_idxs = np.intersect1d(control_idxs, stim_idxs)\n",
    "# con\n",
    "control_idxs = np.sort(np.concatenate((control_idxs, stim_idxs)))"
   ]
  },
  {
   "cell_type": "code",
   "execution_count": null,
   "id": "fa9123d6-c173-4d8d-a0bc-095ae32070c5",
   "metadata": {},
   "outputs": [],
   "source": [
    "# get no laser trials\n",
    "control_idxs = np.intersect1d(control_idxs, np.where(data[\"single\"] == 1)[1])"
   ]
  },
  {
   "cell_type": "code",
   "execution_count": null,
   "id": "0014b7c1-e970-4130-bc0c-e5c91b529c3b",
   "metadata": {},
   "outputs": [],
   "source": [
    "#control_idxs = np.sort(np.concatenate((a, b)))\n",
    "control_idxs"
   ]
  },
  {
   "cell_type": "code",
   "execution_count": null,
   "id": "8253e588-4fde-4a3e-aacf-0dafaf725aca",
   "metadata": {},
   "outputs": [],
   "source": [
    "np.unique(data[\"pattern_id\"][control_idxs])"
   ]
  },
  {
   "cell_type": "code",
   "execution_count": null,
   "id": "c8c5388d-2246-4ea2-ae44-ba6a8b6a6783",
   "metadata": {},
   "outputs": [],
   "source": []
  },
  {
   "cell_type": "markdown",
   "id": "e195290a-bfe0-4563-9afc-4308dc88571c",
   "metadata": {},
   "source": [
    "## Get relevant time information"
   ]
  },
  {
   "cell_type": "code",
   "execution_count": null,
   "id": "e2092aee-d31e-4df7-8b06-50ec46603f25",
   "metadata": {},
   "outputs": [],
   "source": [
    "cue_times = data[\"cue_rec_time\"][:, :150]\n",
    "cue_times[:, control_idxs]"
   ]
  },
  {
   "cell_type": "code",
   "execution_count": null,
   "id": "e66b7063-fa4e-4465-800a-391123e8d698",
   "metadata": {},
   "outputs": [],
   "source": []
  },
  {
   "cell_type": "code",
   "execution_count": null,
   "id": "e74742f0-0e76-4bc0-8f74-4cfad337c3ed",
   "metadata": {},
   "outputs": [],
   "source": [
    "lift_times = data[\"lift_ms\"][:, :150]\n",
    "lift_times[:, control_idxs]"
   ]
  },
  {
   "cell_type": "code",
   "execution_count": null,
   "id": "53a8c109-c363-44cb-b9e4-3acc3f0d69fa",
   "metadata": {},
   "outputs": [],
   "source": []
  },
  {
   "cell_type": "code",
   "execution_count": null,
   "id": "d789823a-5eb9-4615-b7ea-3ebe4265cb27",
   "metadata": {},
   "outputs": [],
   "source": [
    "mouth_times = data[\"mouth_ms\"][:, :150]\n",
    "mouth_times[:, control_idxs]"
   ]
  },
  {
   "cell_type": "code",
   "execution_count": null,
   "id": "2aabec33-1ca0-4c3a-b353-df60b6ba8370",
   "metadata": {},
   "outputs": [],
   "source": []
  },
  {
   "cell_type": "code",
   "execution_count": null,
   "id": "9aa81592-5ac8-4665-af44-20eb400f35d7",
   "metadata": {},
   "outputs": [],
   "source": []
  },
  {
   "cell_type": "markdown",
   "id": "cc2d5b2c-e65c-44d5-bd73-8a3f6bb65199",
   "metadata": {},
   "source": [
    "## Get the AP.bin file"
   ]
  },
  {
   "cell_type": "code",
   "execution_count": null,
   "id": "d2e83b91-058f-4ad6-a48c-8d2273b4d30b",
   "metadata": {},
   "outputs": [],
   "source": [
    "from real_spike.utils import get_sample_data, get_meta\n",
    "import tifffile"
   ]
  },
  {
   "cell_type": "code",
   "execution_count": null,
   "id": "4e19b803-9f75-41bf-ac5d-823fec1c6438",
   "metadata": {},
   "outputs": [],
   "source": [
    "file_path = Path(\"/home/clewis/wasabi/reaganbullins2/ProjectionProject/rb50/20250127/rb50_20250127_g0/rb50_20250127_g0_t0.imec0.ap.bin\")\n",
    "meta_path = Path(\"/home/clewis/wasabi/reaganbullins2/ProjectionProject/rb50/20250127/rb50_20250127_g0/rb50_20250127_g0_t0.imec0.ap.meta\")"
   ]
  },
  {
   "cell_type": "code",
   "execution_count": null,
   "id": "adf4e486-f151-4ed4-971e-842d161e2d0e",
   "metadata": {},
   "outputs": [],
   "source": [
    "meta_data = get_meta(meta_path)"
   ]
  },
  {
   "cell_type": "code",
   "execution_count": null,
   "id": "5cac33c8-c453-4e52-b9f1-98cac8be1f6b",
   "metadata": {},
   "outputs": [],
   "source": [
    "ap_data = get_sample_data(file_path, meta_data)\n",
    "ap_data.shape"
   ]
  },
  {
   "cell_type": "code",
   "execution_count": null,
   "id": "50c884cb-6648-4791-a37a-c228245fcc65",
   "metadata": {},
   "outputs": [],
   "source": []
  },
  {
   "cell_type": "code",
   "execution_count": null,
   "id": "92b70b9c-1e96-47ed-a0c4-6f2b847f9172",
   "metadata": {},
   "outputs": [],
   "source": []
  },
  {
   "cell_type": "markdown",
   "id": "915d3d12-c2da-4c35-af12-55038d77fda5",
   "metadata": {},
   "source": [
    "## Get conversion params"
   ]
  },
  {
   "cell_type": "code",
   "execution_count": null,
   "id": "3af05cc5-d816-4b61-887e-1ab76cd7be22",
   "metadata": {},
   "outputs": [],
   "source": [
    "vmax = float(meta_data[\"imAiRangeMax\"])\n",
    "# get Imax\n",
    "imax = float(meta_data[\"imMaxInt\"])\n",
    "# get gain\n",
    "gain = float(meta_data['imroTbl'].split(sep=')')[1].split(sep=' ')[3])"
   ]
  },
  {
   "cell_type": "code",
   "execution_count": null,
   "id": "d032539b-b00a-40f9-9274-a17105a423e2",
   "metadata": {},
   "outputs": [],
   "source": [
    "vmax"
   ]
  },
  {
   "cell_type": "code",
   "execution_count": null,
   "id": "397457a4-7625-4dfc-853d-22d1e47ac98b",
   "metadata": {},
   "outputs": [],
   "source": [
    "imax"
   ]
  },
  {
   "cell_type": "code",
   "execution_count": null,
   "id": "011421f8-b15b-4328-8ae3-ae71f320c1c1",
   "metadata": {},
   "outputs": [],
   "source": [
    "gain"
   ]
  },
  {
   "cell_type": "code",
   "execution_count": null,
   "id": "7962f60f-44e6-4947-8b54-681bae558d65",
   "metadata": {},
   "outputs": [],
   "source": []
  },
  {
   "cell_type": "code",
   "execution_count": null,
   "id": "c5a42a72-3d47-439c-a8e9-7be34d8b2c89",
   "metadata": {},
   "outputs": [],
   "source": []
  },
  {
   "cell_type": "markdown",
   "id": "b45bd9b4-9c6c-4d72-8b21-f83c8f147267",
   "metadata": {},
   "source": [
    "# Get trials"
   ]
  },
  {
   "cell_type": "code",
   "execution_count": null,
   "id": "5e736d74-449f-46a7-9dc7-14937fb45b2e",
   "metadata": {},
   "outputs": [],
   "source": [
    "def get_trials(idxs, bin_size):\n",
    "    \n",
    "    model_data = list()\n",
    "    \n",
    "    for i in tqdm(idxs):\n",
    "        trial_no = i\n",
    "        # get time points in ap space\n",
    "        lift_time = int((cue_times[:, trial_no] + lift_times[:, trial_no] - 50) / 1_000 * 30_000)\n",
    "        \n",
    "        # get end of behavior = mouth (260ms) + 300ms \n",
    "        end_behavior = int((cue_times[:, trial_no] + mouth_times[:, trial_no]) / 1_000 * 30_000)\n",
    "\n",
    "    \n",
    "        trial = ap_data[:150, lift_time:end_behavior]\n",
    "    \n",
    "        conv_data = 1e6 * trial / vmax / imax / gain\n",
    "    \n",
    "        filt_data = butter_filter(conv_data, 1_000, 30_000)\n",
    "    \n",
    "        c_start = int(cue_times[:, trial_no] / 1_000 * 30_000)\n",
    "        m_start = c_start - (30 * 2000)\n",
    "        trial_median = ap_data[:150, m_start:c_start]\n",
    "    \n",
    "        trial_median = 1e6 * trial_median / vmax / imax / gain\n",
    "        trial_median = butter_filter(trial_median, 1_000, 30_000)\n",
    "        \n",
    "        median = np.median(trial_median, axis=1)\n",
    "    \n",
    "        spike_ixs, counts = get_spike_events(filt_data, median)\n",
    "        \n",
    "        a = np.zeros((filt_data.shape[0], filt_data.shape[1]))\n",
    "    \n",
    "        for i, sc in enumerate(spike_ixs):\n",
    "            a[i, sc] = 1\n",
    "    \n",
    "        b = bin_size * 30 # 30ms per bin\n",
    "        binned_spikes = bin_spikes(a, b)\n",
    "    \n",
    "        lift_start = int(50 / bin_size)\n",
    "\n",
    "        lift = int(data[\"lift_ms\"][0, trial_no] / bin_size) \n",
    "        # grab duration\n",
    "        grab = int(data[\"grab_ms\"][0, trial_no] / bin_size)\n",
    "        # mouth duration \n",
    "        mouth = int(data[\"mouth_ms\"][0, trial_no] / bin_size)\n",
    "    \n",
    "        lift_start = int(50 / bin_size)\n",
    "        grab_start = lift_start + (grab - lift)\n",
    "        mouth_start = lift_start + (mouth-lift)\n",
    "\n",
    "        model_data.append(np.asarray(binned_spikes[:, lift_start:].T, dtype=int))\n",
    "\n",
    "    return model_data"
   ]
  },
  {
   "cell_type": "code",
   "execution_count": null,
   "id": "b399ef53-bd3c-4696-9754-0c93d178ce01",
   "metadata": {},
   "outputs": [],
   "source": [
    "bin_size = 1"
   ]
  },
  {
   "cell_type": "code",
   "execution_count": null,
   "id": "a6f7ac4f-accb-435f-a03b-8176abfd68d9",
   "metadata": {},
   "outputs": [],
   "source": [
    "model_data = get_trials(control_idxs, bin_size)"
   ]
  },
  {
   "cell_type": "code",
   "execution_count": null,
   "id": "3d5b8fcd-20e9-495e-b4d9-cd40f4a0330e",
   "metadata": {},
   "outputs": [],
   "source": []
  },
  {
   "cell_type": "code",
   "execution_count": null,
   "id": "f5c97fec-5efd-4400-aa2b-9f132826d483",
   "metadata": {},
   "outputs": [],
   "source": []
  },
  {
   "cell_type": "markdown",
   "id": "e9971560-d8f3-4644-b8d5-921ce7ef0ff8",
   "metadata": {},
   "source": [
    "# Fit the model"
   ]
  },
  {
   "cell_type": "code",
   "execution_count": null,
   "id": "0c7c76a5-2079-4ec6-9846-e5deca0ca81a",
   "metadata": {},
   "outputs": [],
   "source": [
    "state_dim = 3\n",
    "obs_dim = model_data[0].shape[1] \n",
    "\n",
    "plds = ssm.LDS(obs_dim, state_dim, K=2, M=0, emissions=\"poisson\", emission_kwargs=dict(link=\"softplus\"))\n",
    "\n",
    "elbos, q = plds.fit(model_data, method=\"laplace_em\", num_iters=8)"
   ]
  },
  {
   "cell_type": "code",
   "execution_count": null,
   "id": "a09a2df6-7f59-48c2-b7ce-6d9105825301",
   "metadata": {},
   "outputs": [],
   "source": []
  },
  {
   "cell_type": "markdown",
   "id": "88afb87b-a75f-4606-ab49-9a1480740b75",
   "metadata": {},
   "source": [
    "# Visualize the results"
   ]
  },
  {
   "cell_type": "code",
   "execution_count": null,
   "id": "f3881879-a2da-475d-9def-645553b7981e",
   "metadata": {},
   "outputs": [],
   "source": [
    "plt.figure(figsize=(8, 6))\n",
    "\n",
    "plt.plot(elbos)\n",
    "\n",
    "plt.xlabel(\"Iteration\")\n",
    "plt.ylabel(\"ELBO\")\n",
    "\n",
    "plt.title(\"ELBO Curve\")\n",
    "\n",
    "plt.show()"
   ]
  },
  {
   "cell_type": "code",
   "execution_count": null,
   "id": "d37d087d-bfb5-4692-b17d-7af0ad1e7fc5",
   "metadata": {},
   "outputs": [],
   "source": []
  },
  {
   "cell_type": "markdown",
   "id": "b8240620-38bc-4620-80fe-837f3497fddf",
   "metadata": {},
   "source": [
    "## Dynamics"
   ]
  },
  {
   "cell_type": "code",
   "execution_count": null,
   "id": "039db2d3-4f16-45c7-8f37-e2157dda2d63",
   "metadata": {},
   "outputs": [],
   "source": [
    "A_est = plds.dynamics.A\n",
    "b_est = plds.dynamics.b"
   ]
  },
  {
   "cell_type": "code",
   "execution_count": null,
   "id": "216f2051-e9d6-47e9-91ae-5a915ca76265",
   "metadata": {},
   "outputs": [],
   "source": [
    "fig = plt.figure(figsize=(16, 8))\n",
    "\n",
    "# 2D subplot\n",
    "ax1 = fig.add_subplot(1, 2, 1)\n",
    "plot_dynamics_2d(A_est[:2, :2], b_est[:2], ax1, npts=12)\n",
    "ax1.set_title('Dynamics 2D')\n",
    "ax1.set_xlabel(\"$x_1$\")\n",
    "ax1.set_ylabel(\"$x_2$\")\n",
    "\n",
    "ax1.set_xticks([])\n",
    "ax1.set_yticks([])\n",
    "\n",
    "# 3D subplot\n",
    "ax2 = fig.add_subplot(1, 2, 2, projection='3d')\n",
    "plot_dynamics_3d(A_est, b_est, ax2, npts=13, colors=\"blue\")\n",
    "\n",
    "ax2.set_title('Dynamics 3D')\n",
    "\n",
    "ax2.set_xticks([])\n",
    "ax2.set_yticks([])\n",
    "ax2.set_zticks([])\n",
    "\n",
    "ax2.set_xlabel(\"$x_1$\")\n",
    "ax2.set_ylabel(\"$x_2$\")\n",
    "ax2.set_zlabel(\"$x_3$\")\n",
    "\n",
    "plt.tight_layout()\n",
    "\n",
    "#plt.savefig(\"/home/clewis/repos/realSpike/data/rb50_20250127/plds/dynamics.png\")\n",
    "\n",
    "plt.show()"
   ]
  },
  {
   "cell_type": "code",
   "execution_count": null,
   "id": "e334f6b9-5a77-426c-891f-a728e774049b",
   "metadata": {},
   "outputs": [],
   "source": []
  },
  {
   "cell_type": "markdown",
   "id": "d45830fc-8e13-438c-b188-37fbdff18d92",
   "metadata": {},
   "source": [
    "## Posterior Means 2D"
   ]
  },
  {
   "cell_type": "code",
   "execution_count": null,
   "id": "7bdfa0d6-c7be-47e0-b72d-cf3cb32f640a",
   "metadata": {},
   "outputs": [],
   "source": [
    "state_means = q.mean_continuous_states"
   ]
  },
  {
   "cell_type": "code",
   "execution_count": null,
   "id": "6bbd8fac-af0e-443e-8b57-f2264d691443",
   "metadata": {},
   "outputs": [],
   "source": [
    "state_means[0].shape"
   ]
  },
  {
   "cell_type": "code",
   "execution_count": null,
   "id": "46a7cb5a-d5db-4e31-a66a-9f918b0fcab0",
   "metadata": {},
   "outputs": [],
   "source": [
    "fig, axes = plt.subplots(1, 3, figsize=(21, 10))\n",
    "\n",
    "# Flatten axes array for easy iteration\n",
    "axes = axes.flatten()\n",
    "\n",
    "for i, p in enumerate(state_means):\n",
    "\n",
    "    lift = int(data[\"lift_ms\"][0, control_idxs[i]] / bin_size) \n",
    "    # grab duration\n",
    "    grab = int(data[\"grab_ms\"][0,control_idxs[i]] / bin_size)\n",
    "    # mouth duration \n",
    "    mouth = int(data[\"mouth_ms\"][0,control_idxs[i]] / bin_size)\n",
    "\n",
    "    lift_start = int(50 / bin_size)\n",
    "    grab_start = lift_start + (grab - lift)\n",
    "    mouth_start = lift_start + (mouth-lift)\n",
    "\n",
    "    p = gaussian_filter1d(p, 4, axis=0)\n",
    "\n",
    "   # axes[0].plot(p[::10, 0], p[::10, 1], c=\"black\", zorder=0, alpha=0.8)\n",
    "\n",
    "    axes[0].scatter(p[0, 0], p[0, 1], s=35, c=\"teal\", zorder=1, alpha=1)\n",
    "    #ax.scatter(p[grab - lift + lift_start, 0], p[grab-lift +lift_start, 1], p[grab-lift +lift_start, 2], s=10, c=\"red\")\n",
    "   #axes[0].scatter(p[mouth_start+1, 0], p[mouth_start+1, 1], s=100, marker='*', c=\"magenta\", zorder=1, alpha=1)\n",
    "    axes[0].scatter(p[-1, 0], p[-1, 1], s=50, marker='s', c=\"orange\", zorder=1, alpha=1)\n",
    "\n",
    " #    axes[1].plot(p[lift_start:, 0], p[lift_start:, 2], c=\"black\", zorder=0, alpha=0.8)\n",
    "\n",
    "    axes[1].scatter(p[0, 0], p[0, 2], s=35, c=\"teal\", zorder=1, alpha=1)\n",
    " #    #ax.scatter(p[grab - lift + lift_start, 0], p[grab-lift +lift_start, 1], p[grab-lift +lift_start, 2], s=10, c=\"red\")\n",
    " #  #  axes[1].scatter(p[mouth_start+1, 0], p[mouth_start+1, 2], s=100, marker='*', c=\"magenta\", zorder=1, alpha=1)\n",
    "    axes[1].scatter(p[-1, 0], p[-1, 2], s=50, marker='s', c=\"orange\", zorder=1, alpha=1)\n",
    "\n",
    " #    axes[2].plot(p[lift_start:, 1], p[lift_start:, 2], c=\"black\", zorder=0, alpha=0.8)\n",
    "\n",
    "    axes[2].scatter(p[0, 1], p[0, 2], s=35, c=\"teal\", zorder=1, alpha=1)\n",
    " #    #ax.scatter(p[grab - lift + lift_start, 0], p[grab-lift +lift_start, 1], p[grab-lift +lift_start, 2], s=10, c=\"red\")\n",
    " # #   axes[2].scatter(p[mouth_start+1, 1], p[mouth_start+1, 2], s=100, marker='*', c=\"magenta\", zorder=1, alpha=1)\n",
    "    axes[2].scatter(p[-1, 1], p[-1, 2], s=50, marker='s', c=\"orange\", zorder=1, alpha=1)\n",
    "\n",
    "\n",
    "for ax in axes:\n",
    "    ax.set_xticks([])\n",
    "    ax.set_yticks([])\n",
    "    ax.set_title(f\"Posterior State Means ({bin_size}ms)\")\n",
    "\n",
    "\n",
    "# 0, 0 = x1 vs x2\n",
    "axes[0].set_xlabel(\"$x_1$\")\n",
    "axes[0].set_ylabel(\"$x_2$\")\n",
    "\n",
    "\n",
    "# 0, 1 = x1 vs x3\n",
    "axes[1].set_xlabel(\"$x_1$\")\n",
    "axes[1].set_ylabel(\"$x_3$\")\n",
    "\n",
    "# 0, 2 = x2 vs x3\n",
    "axes[2].set_xlabel(\"$x_2$\")\n",
    "axes[2].set_ylabel(\"$x_3$\")\n",
    "\n",
    "plt.tight_layout()\n",
    "\n",
    "#plt.savefig(\"/home/clewis/repos/realSpike/data/rb50_20250127/plds/state_means_2D.png\")"
   ]
  },
  {
   "cell_type": "code",
   "execution_count": null,
   "id": "b55d1f61-fa63-4c57-8eb3-1d966d759c0a",
   "metadata": {},
   "outputs": [],
   "source": []
  },
  {
   "cell_type": "code",
   "execution_count": null,
   "id": "5cd45975-03bb-4783-8b70-ca34de156a5d",
   "metadata": {},
   "outputs": [],
   "source": []
  },
  {
   "cell_type": "code",
   "execution_count": null,
   "id": "07828215-7bde-436d-90d2-de884c84c224",
   "metadata": {},
   "outputs": [],
   "source": []
  },
  {
   "cell_type": "code",
   "execution_count": null,
   "id": "5a808bd0-ea26-42e9-b048-d49cadfd5cde",
   "metadata": {},
   "outputs": [],
   "source": []
  },
  {
   "cell_type": "markdown",
   "id": "4656b39f-6165-407a-ab50-40fd30eb21e2",
   "metadata": {},
   "source": [
    "## Posterior Means 3D"
   ]
  },
  {
   "cell_type": "code",
   "execution_count": null,
   "id": "6cdb6948-6837-4e0f-9db3-ee97178d9913",
   "metadata": {},
   "outputs": [],
   "source": [
    "# a single 3d plot of all "
   ]
  },
  {
   "cell_type": "code",
   "execution_count": null,
   "id": "9fc94fbe-2344-4d8d-90c9-09f4e4c040db",
   "metadata": {},
   "outputs": [],
   "source": [
    "fig = plt.figure(figsize=(14, 14))\n",
    "ax = fig.add_subplot(111, projection='3d')\n",
    "\n",
    "for i, p in enumerate(state_means):\n",
    "\n",
    "    lift = int(data[\"lift_ms\"][0, control_idxs[i]] / bin_size) \n",
    "    # grab duration\n",
    "    grab = int(data[\"grab_ms\"][0,control_idxs[i]] / bin_size)\n",
    "    # mouth duration \n",
    "    mouth = int(data[\"mouth_ms\"][0,control_idxs[i]] / bin_size)\n",
    "\n",
    "    lift_start = int(50 / bin_size)\n",
    "    grab_start = lift_start + (grab - lift)\n",
    "    mouth_start = lift_start + (mouth-lift)\n",
    "\n",
    "    p = gaussian_filter1d(p, 4, axis=0)\n",
    "\n",
    "    #ax.plot(p[lift_start:, 0], p[lift_start:, 1], p[lift_start:, 2], c=\"black\", zorder=0, alpha=0.8)\n",
    "\n",
    "    ax.scatter(p[0, 0], p[0, 1], p[0, 2], s=35, c=\"teal\", zorder=1, alpha=1)\n",
    "    #ax.scatter(p[grab - lift + lift_start, 0], p[grab-lift +lift_start, 1], p[grab-lift +lift_start, 2], s=10, c=\"red\")\n",
    "  #  ax.scatter(p[mouth_start, 0], p[mouth_start, 1], p[mouth_start, 2], s=100, marker='*', c=\"magenta\", zorder=1, alpha=1)\n",
    "    ax.scatter(p[-1, 0], p[-1, 1], p[-1, 2], s=50, marker='s', c=\"orange\", zorder=1, alpha=1)\n",
    "\n",
    "ax.set_title(f\"Posterior State Means ({bin_size}ms)\")\n",
    "\n",
    "\n",
    "ax.set_xticks([])\n",
    "ax.set_yticks([])\n",
    "ax.set_zticks([])\n",
    "\n",
    "ax.set_xlabel(\"$x_1$\")\n",
    "ax.set_ylabel(\"$x_2$\")\n",
    "ax.set_zlabel(\"$x_3$\")\n",
    "\n",
    "\n",
    "plt.tight_layout()\n",
    "\n",
    "#plt.savefig(\"/home/clewis/repos/realSpike/data/rb50_20250127/plds/state_means_3D.png\")"
   ]
  },
  {
   "cell_type": "code",
   "execution_count": null,
   "id": "b3495a77-97fd-417e-843f-b0c5ba00a198",
   "metadata": {},
   "outputs": [],
   "source": []
  },
  {
   "cell_type": "code",
   "execution_count": null,
   "id": "c5d8b3f3-229e-4e7d-b8ab-665cd8911cba",
   "metadata": {},
   "outputs": [],
   "source": []
  },
  {
   "cell_type": "code",
   "execution_count": null,
   "id": "c6891bf8-4866-47af-9aa4-f4fe66f5be36",
   "metadata": {},
   "outputs": [],
   "source": []
  },
  {
   "cell_type": "code",
   "execution_count": null,
   "id": "9998619b-f731-4e5a-8362-9077f1925de9",
   "metadata": {},
   "outputs": [],
   "source": []
  },
  {
   "cell_type": "code",
   "execution_count": null,
   "id": "bbfc27c4-3fd9-4afb-9f70-9b574360569a",
   "metadata": {},
   "outputs": [],
   "source": []
  },
  {
   "cell_type": "code",
   "execution_count": null,
   "id": "2fd3b1bc-646c-4c0e-902e-17aa41a4d7ea",
   "metadata": {},
   "outputs": [],
   "source": []
  }
 ],
 "metadata": {
  "kernelspec": {
   "display_name": "Python 3 (ipykernel)",
   "language": "python",
   "name": "python3"
  },
  "language_info": {
   "codemirror_mode": {
    "name": "ipython",
    "version": 3
   },
   "file_extension": ".py",
   "mimetype": "text/x-python",
   "name": "python",
   "nbconvert_exporter": "python",
   "pygments_lexer": "ipython3",
   "version": "3.11.12"
  }
 },
 "nbformat": 4,
 "nbformat_minor": 5
}
