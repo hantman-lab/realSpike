{
 "cells": [
  {
   "cell_type": "markdown",
   "id": "3034e5da-575d-415b-a7a3-8c94ce9bd158",
   "metadata": {},
   "source": [
    "## Notebook for understanding the pro-svd pipeline"
   ]
  },
  {
   "cell_type": "code",
   "execution_count": null,
   "id": "b205d4cb-3c0b-49fd-9085-a52f4eddb822",
   "metadata": {},
   "outputs": [],
   "source": [
    "import numpy as np\n",
    "import matplotlib.pyplot as plt\n",
    "from scipy.ndimage import gaussian_filter1d\n",
    "from proSVD import proSVD\n",
    "from pro_utils import get_streamingSVD\n",
    "from pathlib import Path\n",
    "from scipy.io import loadmat\n",
    "from tqdm import tqdm"
   ]
  },
  {
   "cell_type": "code",
   "execution_count": null,
   "id": "906ab0bf-52d9-46e9-b669-28d862429d0b",
   "metadata": {},
   "outputs": [],
   "source": []
  },
  {
   "cell_type": "code",
   "execution_count": null,
   "id": "31729e57-b689-4e1e-b97b-77932c1fd151",
   "metadata": {},
   "outputs": [],
   "source": [
    "mat = loadmat(\"/home/clewis/wasabi/reaganbullins2/ProjectionProject/rb50/20250127/MAT_FILES/rb50_20250127_datastruct_pt2.mat\")\n",
    "mat = mat['data']\n",
    "\n",
    "print(type(mat))        # <class 'numpy.ndarray'>\n",
    "print(mat.dtype.names)"
   ]
  },
  {
   "cell_type": "code",
   "execution_count": null,
   "id": "6de6806c-d1e4-4d38-993d-dbb5c8b5877a",
   "metadata": {},
   "outputs": [],
   "source": [
    "data_struct = mat[0, 0]  # MATLAB structs are 2D arrays even if 1x1\n",
    "data = {field: data_struct[field] for field in mat.dtype.names}"
   ]
  },
  {
   "cell_type": "code",
   "execution_count": null,
   "id": "ef40cc49-ace7-4587-9743-31bbc9929d68",
   "metadata": {},
   "outputs": [],
   "source": [
    "data.keys()"
   ]
  },
  {
   "cell_type": "code",
   "execution_count": null,
   "id": "6fc97aae-e788-470a-96df-f041360fb3e7",
   "metadata": {},
   "outputs": [],
   "source": []
  },
  {
   "cell_type": "code",
   "execution_count": null,
   "id": "1641da52-a090-447a-af8d-4065f4e98fe8",
   "metadata": {},
   "outputs": [],
   "source": []
  },
  {
   "cell_type": "markdown",
   "id": "041e452f-74ab-4e4c-b05e-f6a2413498de",
   "metadata": {},
   "source": [
    "# Get single-reach control trials"
   ]
  },
  {
   "cell_type": "code",
   "execution_count": null,
   "id": "d1c8149b-1642-4d23-867e-c7af5542d5af",
   "metadata": {},
   "outputs": [],
   "source": [
    "# get no laser trials\n",
    "control_idxs = np.where(data[\"pattern_id\"][:150] == 0)[0] "
   ]
  },
  {
   "cell_type": "code",
   "execution_count": null,
   "id": "a018a85e-3849-4b40-b964-94f30b42f8ef",
   "metadata": {},
   "outputs": [],
   "source": [
    "# get blank pattern trials\n",
    "#b = np.where(data[\"pattern_id\"][:150] == 2)[0]"
   ]
  },
  {
   "cell_type": "code",
   "execution_count": null,
   "id": "7bcace87-0f76-49cd-9964-c2d934904c51",
   "metadata": {},
   "outputs": [],
   "source": [
    "#control_idxs = np.sort(np.concatenate((a, b)))\n",
    "control_idxs"
   ]
  },
  {
   "cell_type": "markdown",
   "id": "1d8faff0-1bbd-4185-8274-2b28a9f90b5b",
   "metadata": {},
   "source": [
    "### Only want to look at single reach trials"
   ]
  },
  {
   "cell_type": "code",
   "execution_count": null,
   "id": "3752802f-020a-4090-bdb6-afdc1a2f3c34",
   "metadata": {},
   "outputs": [],
   "source": [
    "single_idxs = np.where(data[\"single\"] == 1)[1]\n",
    "single_idxs"
   ]
  },
  {
   "cell_type": "code",
   "execution_count": null,
   "id": "ccfdf928-1b92-4d62-8a6a-36aa792bcd67",
   "metadata": {},
   "outputs": [],
   "source": [
    "control_idxs = np.intersect1d(control_idxs, single_idxs)\n",
    "control_idxs"
   ]
  },
  {
   "cell_type": "code",
   "execution_count": null,
   "id": "a490420c-3adf-4829-b32a-8c4f17047e35",
   "metadata": {},
   "outputs": [],
   "source": [
    "control_idxs.shape"
   ]
  },
  {
   "cell_type": "markdown",
   "id": "53b50f9f-e045-4200-9f3f-d9915cf63f74",
   "metadata": {},
   "source": [
    "## Get relevant time information"
   ]
  },
  {
   "cell_type": "code",
   "execution_count": null,
   "id": "60c866d3-49cd-45d2-9e0c-042909b54f5e",
   "metadata": {},
   "outputs": [],
   "source": [
    "cue_times = data[\"cue_rec_time\"][:, :150]\n",
    "cue_times[:, control_idxs]"
   ]
  },
  {
   "cell_type": "code",
   "execution_count": null,
   "id": "dfe3a568-a149-4844-be06-5e6260cb6682",
   "metadata": {},
   "outputs": [],
   "source": []
  },
  {
   "cell_type": "code",
   "execution_count": null,
   "id": "64f81deb-2da7-4f10-ab18-78d53d4ccc1d",
   "metadata": {},
   "outputs": [],
   "source": [
    "lift_times = data[\"lift_ms\"][:, :150]\n",
    "lift_times[:, control_idxs]"
   ]
  },
  {
   "cell_type": "code",
   "execution_count": null,
   "id": "bc27b506-9942-4098-b9b9-cd9373fdd7f1",
   "metadata": {},
   "outputs": [],
   "source": []
  },
  {
   "cell_type": "code",
   "execution_count": null,
   "id": "fc3e9357-a14b-4055-9f81-4f2bdd0ebb55",
   "metadata": {},
   "outputs": [],
   "source": [
    "mouth_times = data[\"mouth_ms\"][:, :150]\n",
    "mouth_times[:, control_idxs]"
   ]
  },
  {
   "cell_type": "code",
   "execution_count": null,
   "id": "a9978bb1-0087-446d-ab15-b773c72c69f1",
   "metadata": {},
   "outputs": [],
   "source": []
  },
  {
   "cell_type": "markdown",
   "id": "92c168d2-110b-4b9f-9ffd-9b65fe09c3b1",
   "metadata": {},
   "source": [
    "## Get the AP.bin file"
   ]
  },
  {
   "cell_type": "code",
   "execution_count": null,
   "id": "0fd917db-b02a-45ff-9ca3-d629d4c4a3bd",
   "metadata": {},
   "outputs": [],
   "source": [
    "from real_spike.utils import get_sample_data, get_meta\n",
    "import tifffile"
   ]
  },
  {
   "cell_type": "code",
   "execution_count": null,
   "id": "2c9f68aa-3c0d-45a6-9f4d-9edcd9a57050",
   "metadata": {},
   "outputs": [],
   "source": [
    "file_path = Path(\"/home/clewis/wasabi/reaganbullins2/ProjectionProject/rb50/20250127/rb50_20250127_g0/rb50_20250127_g0_t0.imec0.ap.bin\")\n",
    "meta_path = Path(\"/home/clewis/wasabi/reaganbullins2/ProjectionProject/rb50/20250127/rb50_20250127_g0/rb50_20250127_g0_t0.imec0.ap.meta\")"
   ]
  },
  {
   "cell_type": "code",
   "execution_count": null,
   "id": "afa62668-0cb3-4a91-85b5-6b22abeed56b",
   "metadata": {},
   "outputs": [],
   "source": [
    "meta_data = get_meta(meta_path)"
   ]
  },
  {
   "cell_type": "code",
   "execution_count": null,
   "id": "0357cde5-4fca-426c-94c6-e84325b5541a",
   "metadata": {},
   "outputs": [],
   "source": [
    "ap_data = get_sample_data(file_path, meta_data)\n",
    "ap_data.shape"
   ]
  },
  {
   "cell_type": "code",
   "execution_count": null,
   "id": "c033f4c0-3b43-41d1-af1d-1cf1d5d8eb15",
   "metadata": {},
   "outputs": [],
   "source": []
  },
  {
   "cell_type": "code",
   "execution_count": null,
   "id": "38bbfe2e-e83f-4c51-9cdd-859b29b7756e",
   "metadata": {},
   "outputs": [],
   "source": []
  },
  {
   "cell_type": "markdown",
   "id": "3eebed40-dced-495c-89a3-9f14d9a7f756",
   "metadata": {},
   "source": [
    "## Get conversion params"
   ]
  },
  {
   "cell_type": "code",
   "execution_count": null,
   "id": "19a05b68-398d-46d4-8406-8c7491320e01",
   "metadata": {},
   "outputs": [],
   "source": [
    "vmax = float(meta_data[\"imAiRangeMax\"])\n",
    "# get Imax\n",
    "imax = float(meta_data[\"imMaxInt\"])\n",
    "# get gain\n",
    "gain = float(meta_data['imroTbl'].split(sep=')')[1].split(sep=' ')[3])"
   ]
  },
  {
   "cell_type": "code",
   "execution_count": null,
   "id": "3b46cd45-819c-47dd-b2da-920503d462e0",
   "metadata": {},
   "outputs": [],
   "source": [
    "vmax"
   ]
  },
  {
   "cell_type": "code",
   "execution_count": null,
   "id": "6677ede7-6134-4c3c-97b1-6ba3584407c7",
   "metadata": {},
   "outputs": [],
   "source": [
    "imax"
   ]
  },
  {
   "cell_type": "code",
   "execution_count": null,
   "id": "a3c78012-faff-4192-b949-c167f7dd2841",
   "metadata": {},
   "outputs": [],
   "source": [
    "gain"
   ]
  },
  {
   "cell_type": "code",
   "execution_count": null,
   "id": "44522d8a-8058-462f-8547-f198cb1b2e75",
   "metadata": {},
   "outputs": [],
   "source": []
  },
  {
   "cell_type": "markdown",
   "id": "dcfddff9-b53c-4496-8fcb-16e42877627a",
   "metadata": {},
   "source": [
    "## Get first trial"
   ]
  },
  {
   "cell_type": "markdown",
   "id": "851f9966-0a3a-4eb8-ae0d-dd2d40d29089",
   "metadata": {},
   "source": [
    "#### 50ms before \"lift\" to 300ms after behavior"
   ]
  },
  {
   "cell_type": "code",
   "execution_count": null,
   "id": "f44ed533-6e3f-4406-86ea-5211df97dddb",
   "metadata": {},
   "outputs": [],
   "source": [
    "trial_no = 0"
   ]
  },
  {
   "cell_type": "code",
   "execution_count": null,
   "id": "d914195f-9c10-429c-82f0-d1ab4ef4dc89",
   "metadata": {},
   "outputs": [],
   "source": [
    "# get the lift time in ap units \n",
    "# cue + lift time (ms) / 1000 = s * 30_000 (sR) \n",
    "lift_time = int((cue_times[:, trial_no] + lift_times[:, trial_no] - 50) / 1_000 * 30_000)\n",
    "lift_time\n",
    "\n",
    "# get end of behavior = mouth (260ms) + 300ms \n",
    "end_behavior = int((cue_times[:, trial_no] + mouth_times[:, trial_no] + 260 + 300) / 1_000 * 30_000)\n",
    "(lift_time, end_behavior)"
   ]
  },
  {
   "cell_type": "code",
   "execution_count": null,
   "id": "ff32f6e5-0633-45e7-9884-2dbf91fb64a1",
   "metadata": {},
   "outputs": [],
   "source": [
    "trial_one = ap_data[:150, lift_time:end_behavior]\n",
    "trial_one.shape"
   ]
  },
  {
   "cell_type": "code",
   "execution_count": null,
   "id": "d8edb682-9c44-4bc2-89cc-f0c4d2dd9cc6",
   "metadata": {},
   "outputs": [],
   "source": []
  },
  {
   "cell_type": "code",
   "execution_count": null,
   "id": "0a46da4a-917c-449c-9eb3-78470db80463",
   "metadata": {},
   "outputs": [],
   "source": []
  },
  {
   "cell_type": "markdown",
   "id": "67966b47-b682-49a2-b7a8-f777c1a9ed31",
   "metadata": {},
   "source": [
    "## Convert to microvolts "
   ]
  },
  {
   "cell_type": "code",
   "execution_count": null,
   "id": "67f5a7a6-caf0-4ba3-8472-d08857dad3c5",
   "metadata": {},
   "outputs": [],
   "source": [
    "conv_data = 1e6 * trial_one / vmax / imax / gain"
   ]
  },
  {
   "cell_type": "code",
   "execution_count": null,
   "id": "35a2bc39-d4bc-4bf6-ad39-27f0868f9ce1",
   "metadata": {},
   "outputs": [],
   "source": [
    "conv_data.shape"
   ]
  },
  {
   "cell_type": "markdown",
   "id": "4c51cb7b-5e3d-4ef8-b405-6949682a22c0",
   "metadata": {},
   "source": [
    "## Filter"
   ]
  },
  {
   "cell_type": "code",
   "execution_count": null,
   "id": "7fc182a1-6375-4ba8-afcb-296a02dd571b",
   "metadata": {},
   "outputs": [],
   "source": [
    "from real_spike.utils import butter_filter"
   ]
  },
  {
   "cell_type": "code",
   "execution_count": null,
   "id": "3b7919b6-1df9-403f-96a6-240b108b4081",
   "metadata": {},
   "outputs": [],
   "source": [
    "filt_data = butter_filter(conv_data, 1_000, 30_000)\n",
    "filt_data.shape"
   ]
  },
  {
   "cell_type": "markdown",
   "id": "646ee79b-ebf5-48a2-9743-23e63c07b7b2",
   "metadata": {},
   "source": [
    "## Median/MAD Threshold "
   ]
  },
  {
   "cell_type": "code",
   "execution_count": null,
   "id": "96bd06fc-9de1-43a5-a479-10a22992c09e",
   "metadata": {},
   "outputs": [],
   "source": [
    "from real_spike.utils import get_spike_events"
   ]
  },
  {
   "cell_type": "code",
   "execution_count": null,
   "id": "b491c638-53d7-47bc-8ed8-bb9dccc8f913",
   "metadata": {},
   "outputs": [],
   "source": [
    "median = np.median(filt_data, axis=1)\n",
    "median.shape"
   ]
  },
  {
   "cell_type": "code",
   "execution_count": null,
   "id": "9e24c831-0e3b-45fb-a838-42433557cf6d",
   "metadata": {},
   "outputs": [],
   "source": [
    "spike_ixs, counts = get_spike_events(filt_data, median)"
   ]
  },
  {
   "cell_type": "code",
   "execution_count": null,
   "id": "c0e1008c-fb40-46f0-ad35-3feb94732bd9",
   "metadata": {},
   "outputs": [],
   "source": [
    "# create a range of the entire trial time\n",
    "# binarize the spike times\n",
    "# bin into 5ms bins (every 150 data points) "
   ]
  },
  {
   "cell_type": "code",
   "execution_count": null,
   "id": "796004cc-aa86-47ff-8709-438c99801d2d",
   "metadata": {},
   "outputs": [],
   "source": [
    "a = np.zeros((filt_data.shape[0], filt_data.shape[1]))"
   ]
  },
  {
   "cell_type": "code",
   "execution_count": null,
   "id": "523743c0-810b-4740-8fa5-d557d92a8076",
   "metadata": {},
   "outputs": [],
   "source": [
    "for i, sc in enumerate(spike_ixs):\n",
    "    a[i, sc] = 1"
   ]
  },
  {
   "cell_type": "code",
   "execution_count": null,
   "id": "1283535b-c51e-4863-a163-33b294596a51",
   "metadata": {},
   "outputs": [],
   "source": []
  },
  {
   "cell_type": "code",
   "execution_count": null,
   "id": "3391d838-0a2e-4464-b55c-fce9a6b87531",
   "metadata": {},
   "outputs": [],
   "source": []
  },
  {
   "cell_type": "markdown",
   "id": "48c73c1c-2e3e-44d0-8e10-c1074079f69e",
   "metadata": {},
   "source": [
    "## Bin the spike data"
   ]
  },
  {
   "cell_type": "code",
   "execution_count": null,
   "id": "6d0fd898-3e6f-46a9-b1a4-6586235d3b74",
   "metadata": {},
   "outputs": [],
   "source": [
    "def bin_spike_data(spikes, bin_size):\n",
    "    n_channels, n_timepoints = spikes.shape\n",
    "    n_bins = n_timepoints // bin_size  # drop remainder\n",
    " #   print(n_bins)\n",
    "    spikes = spikes[:, :n_bins * bin_size]  # truncate to fit bins\n",
    "\n",
    "    # Reshape and sum\n",
    "    binned = spikes.reshape(n_channels, n_bins, bin_size).sum(axis=2)\n",
    "    return binned"
   ]
  },
  {
   "cell_type": "code",
   "execution_count": null,
   "id": "4c4c9e1d-36e1-4666-9050-347487801c31",
   "metadata": {},
   "outputs": [],
   "source": [
    "bin_size = 20 # 10ms * 30 points per 1ms"
   ]
  },
  {
   "cell_type": "code",
   "execution_count": null,
   "id": "86f0b891-30d5-40fe-b348-dc3d7fd94a39",
   "metadata": {},
   "outputs": [],
   "source": [
    "b = bin_size * 30\n",
    "binned_spikes = bin_spike_data(a, bin_size=b)"
   ]
  },
  {
   "cell_type": "code",
   "execution_count": null,
   "id": "afc7b04b-1a49-40e7-9a2c-d2fc9366c9b0",
   "metadata": {},
   "outputs": [],
   "source": [
    "binned_spikes.shape"
   ]
  },
  {
   "cell_type": "code",
   "execution_count": null,
   "id": "f31eaa93-759e-42c1-ada4-351a684fdfc4",
   "metadata": {},
   "outputs": [],
   "source": []
  },
  {
   "cell_type": "markdown",
   "id": "1a3b13a2-96b1-43ef-bf7b-f936d1fba8c1",
   "metadata": {},
   "source": [
    "## Apply kalman filter"
   ]
  },
  {
   "cell_type": "code",
   "execution_count": null,
   "id": "d16ce2b9-65b9-4b42-84b7-c609e4d25473",
   "metadata": {},
   "outputs": [],
   "source": []
  },
  {
   "cell_type": "code",
   "execution_count": null,
   "id": "770b2ce9-c572-42c1-8c2f-7300b6196028",
   "metadata": {},
   "outputs": [],
   "source": [
    "import numpy as np\n",
    "from filterpy.kalman import KalmanFilter\n",
    "\n",
    "def apply_kalman_filter(data, A=1, H=1, Q=1e-2, R=1, initial_state=None):\n",
    "    \"\"\"\n",
    "    Applies 1D Kalman filter to each channel in the binned spike data.\n",
    "\n",
    "    Args:\n",
    "        data (ndarray): Shape (n_channels, n_time_bins)\n",
    "        A: State transition\n",
    "        H: Observation model\n",
    "        Q: Process noise\n",
    "        R: Measurement noise\n",
    "        initial_state: Optional starting value per channel\n",
    "\n",
    "    Returns:\n",
    "        ndarray: Smoothed data of same shape\n",
    "    \"\"\"\n",
    "    n_channels, n_time = data.shape\n",
    "    smoothed = np.zeros_like(data, dtype=float)\n",
    "\n",
    "    for ch in range(n_channels):\n",
    "        kf = KalmanFilter(dim_x=1, dim_z=1)\n",
    "        kf.F = np.array([[A]])     # State transition matrix\n",
    "        kf.H = np.array([[H]])     # Observation matrix\n",
    "        kf.Q = np.array([[Q]])     # Process noise covariance\n",
    "        kf.R = np.array([[R]])     # Measurement noise covariance\n",
    "        kf.x = np.array([[initial_state[ch] if initial_state else data[ch, 0]]])  # Initial state\n",
    "        kf.P = np.eye(1) * 1       # Initial covariance\n",
    "\n",
    "        for t in range(n_time):\n",
    "            kf.predict()\n",
    "            kf.update(np.array([[data[ch, t]]]))\n",
    "            smoothed[ch, t] = kf.x[0, 0]\n",
    "\n",
    "    return smoothed"
   ]
  },
  {
   "cell_type": "code",
   "execution_count": null,
   "id": "67be6cd1-fc6d-4214-adda-b6da0c3cb68f",
   "metadata": {},
   "outputs": [],
   "source": [
    "#binned = np.random.poisson(0.5, (4, 100))  # fake binned data\n",
    "smoothed = apply_kalman_filter(binned_spikes)\n"
   ]
  },
  {
   "cell_type": "code",
   "execution_count": null,
   "id": "aa8536ea-5674-4fbf-8671-a03c56dc683a",
   "metadata": {},
   "outputs": [],
   "source": [
    "import matplotlib.pyplot as plt\n",
    "\n",
    "plt.plot(binned_spikes[0], label='Original')\n",
    "plt.plot(smoothed[0], label='Kalman Smoothed')\n",
    "plt.legend()\n",
    "plt.title('Channel 0')\n",
    "plt.xlabel('Time Bin')\n",
    "plt.ylabel('Spike Count')\n",
    "plt.show()\n"
   ]
  },
  {
   "cell_type": "code",
   "execution_count": null,
   "id": "feec1611-b1bd-465e-b511-3470f7a2af1e",
   "metadata": {},
   "outputs": [],
   "source": []
  },
  {
   "cell_type": "code",
   "execution_count": null,
   "id": "fbf01e05-dae0-4bf2-8208-101d433d3482",
   "metadata": {},
   "outputs": [],
   "source": [
    "all_data = list()\n",
    "#explained_variances = list()\n",
    "\n",
    "# HYPERPARAMETERS TO TOGGLE\n",
    "bin_size = 40\n",
    "Q=1e-3\n",
    "\n",
    "for i in tqdm(control_idxs):\n",
    "    trial_no = i\n",
    "    # get time points in ap space\n",
    "    lift_time = int((cue_times[:, trial_no] + lift_times[:, trial_no] - 50) / 1_000 * 30_000)\n",
    "    \n",
    "    # get end of behavior = mouth (260ms) + 300ms \n",
    "    end_behavior = int((cue_times[:, trial_no] + mouth_times[:, trial_no] + 260 + 300) / 1_000 * 30_000)\n",
    "    #print(lift_time, end_behavior)\n",
    "\n",
    "    trial = ap_data[:150, lift_time:end_behavior]\n",
    "\n",
    "    conv_data = 1e6 * trial / vmax / imax / gain\n",
    "\n",
    "    filt_data = butter_filter(conv_data, 1_000, 30_000)\n",
    "\n",
    "    median = np.median(filt_data, axis=1)\n",
    "\n",
    "    spike_ixs, counts = get_spike_events(filt_data, median)\n",
    "    \n",
    "    a = np.zeros((filt_data.shape[0], filt_data.shape[1]))\n",
    "\n",
    "    for i, sc in enumerate(spike_ixs):\n",
    "        a[i, sc] = 1\n",
    "\n",
    "    b = bin_size * 30 # 30ms per bin\n",
    "    binned_spikes = bin_spike_data(a, b)\n",
    "\n",
    "    smoothed = apply_kalman_filter(binned_spikes, Q=Q)\n",
    "\n",
    "    all_data.append(smoothed)"
   ]
  },
  {
   "cell_type": "code",
   "execution_count": null,
   "id": "814d14fc-96f3-48ca-8e02-56c5cf219d9b",
   "metadata": {},
   "outputs": [],
   "source": [
    "d = np.concatenate(all_data, axis=1)"
   ]
  },
  {
   "cell_type": "code",
   "execution_count": null,
   "id": "1cfab00e-ca2d-4d73-b226-6f22783f8398",
   "metadata": {},
   "outputs": [],
   "source": [
    "d.shape"
   ]
  },
  {
   "cell_type": "code",
   "execution_count": null,
   "id": "ff5fd229-d86f-4d20-ba0a-acaa1ae8afb5",
   "metadata": {},
   "outputs": [],
   "source": []
  },
  {
   "cell_type": "code",
   "execution_count": null,
   "id": "5dc35c81-af9d-434b-a378-b1e5b8ab13d2",
   "metadata": {},
   "outputs": [],
   "source": [
    "k = 6  # reduced dim\n",
    "l = 10    # num cols processed per iter\n",
    "decay = 1 # 'forgetting' to track nonstationarity. 1 = no forgetting\n",
    "l1 = 20   # num cols init\n",
    "num_iters = 2#np.floor((smoothed.shape[1] - l1) / l).astype('int') \n",
    "update_times = np.arange(1, num_iters) \n",
    "\n",
    "num_iters"
   ]
  },
  {
   "cell_type": "code",
   "execution_count": null,
   "id": "00e1a860-aacc-4d46-9bfd-4a06be80e749",
   "metadata": {},
   "outputs": [],
   "source": [
    "A_init = d[:, :l1]\n",
    "pro = proSVD(k, history=num_iters, trueSVD=True)\n",
    "pro.initialize(A_init)"
   ]
  },
  {
   "cell_type": "code",
   "execution_count": null,
   "id": "ac812434-63cd-4551-902d-0bcf9b99a2ee",
   "metadata": {},
   "outputs": [],
   "source": []
  },
  {
   "cell_type": "code",
   "execution_count": null,
   "id": "ff19451c-8bb0-475b-9f0a-2ecddd755f4b",
   "metadata": {},
   "outputs": [],
   "source": [
    "pro.run(d, [l1])\n",
    "\n",
    "# u, s, v = np.linalg.svd(data, full_matrices=False)\n",
    "# u = u[:, :k]\n",
    "# basis = pro.Q\n",
    "# res1 = np.linalg.norm(basis - u @ u.T @ basis)\n",
    "# res2 = np.linalg.norm(u - basis @ basis.T @ u)\n",
    "\n",
    "# print(res1, res2)\n",
    "\n",
    "# fig, ax = plt.subplots() \n",
    "# ax.plot(derivs.T)"
   ]
  },
  {
   "cell_type": "code",
   "execution_count": null,
   "id": "b004d4cc-b581-4668-94ef-d82adc9f4809",
   "metadata": {},
   "outputs": [],
   "source": [
    "u, s, v = np.linalg.svd(d, full_matrices=False)\n",
    "u = u[:, :k]\n",
    "basis = pro.Q\n",
    "res1 = np.linalg.norm(basis - u @ u.T @ basis)\n",
    "res2 = np.linalg.norm(u - basis @ basis.T @ u)\n",
    "\n",
    "print(res1, res2)\n",
    "\n",
    "fig, ax = plt.subplots() \n",
    "ax.plot(derivs.T)"
   ]
  },
  {
   "cell_type": "code",
   "execution_count": null,
   "id": "ef450829-286c-400b-ac42-fe16aa6ab69d",
   "metadata": {},
   "outputs": [],
   "source": []
  },
  {
   "cell_type": "code",
   "execution_count": null,
   "id": "42ed4a81-c7dc-4405-b73d-b08f808f6c3c",
   "metadata": {},
   "outputs": [],
   "source": [
    "dists = np.linalg.norm(pro.Qs - pro.Q[:, :, np.newaxis], axis=0)\n",
    "t = derivs.shape[1]\n",
    "\n",
    "fig, ax = plt.subplots(1, 3, figsize=(12,4))\n",
    "ax[0].plot(derivs[:, :t].T)\n",
    "ax[0].legend(labels=['vec{}'.format(i) for i in range(k)])\n",
    "ax[0].set(title='derivatives of proSVD basis vectors', \n",
    "          xlabel='bins seen', ylabel='1st difference of basis vectors')\n",
    "\n",
    "for j in range(2):\n",
    "    ax[j+1].plot(frac_vars[j][:, :t].T)\n",
    "    ax[j+1].plot(frac_vars[j].sum(axis=0)[:t], ls='--', color='k', alpha=0.5)\n",
    "    ax[j+1].set(title='variance explained by each vector', \n",
    "            xlabel='bins seen', ylabel='fraction of variance explained')\n",
    "\n",
    "ax[2].plot(frac_vars[0].sum(axis=0)[:t], ls=':', color='k', alpha=0.5)"
   ]
  },
  {
   "cell_type": "code",
   "execution_count": null,
   "id": "66d89c8b-de43-4755-8773-e1c0f4568f83",
   "metadata": {},
   "outputs": [],
   "source": []
  },
  {
   "cell_type": "code",
   "execution_count": null,
   "id": "c0f6fec0-8171-46d1-a0a3-c4b11bdb92af",
   "metadata": {},
   "outputs": [],
   "source": []
  },
  {
   "cell_type": "code",
   "execution_count": null,
   "id": "6f836daa-3860-4cf1-be9f-41c637e9b8b3",
   "metadata": {},
   "outputs": [],
   "source": []
  },
  {
   "cell_type": "code",
   "execution_count": null,
   "id": "68c903b4-9a7b-4077-966d-4c6a74998140",
   "metadata": {},
   "outputs": [],
   "source": [
    "Us, Ss = get_streamingSVD(d, k, l1, l, 2, window=False)\n",
    "\n",
    "#%% looking at stuff\n",
    "vals = (Ss[:6, :]**2) / (Ss[:, :]**2).sum(axis=0)\n",
    "fig, ax = plt.subplots()\n",
    "for i in range(2):\n",
    "    ax.plot(frac_vars[i].sum(axis=0)[:t])\n",
    "ax.plot(vals.sum(axis=0), ls='--', color='k')\n",
    "ax.set(xlabel='bins seen', ylabel='fraction of variance explained')\n",
    "ax.legend(labels=['Q', 'U - pro', 'U - dumb streaming'])\n"
   ]
  },
  {
   "cell_type": "code",
   "execution_count": null,
   "id": "0cfbb278-6e0a-46d7-a464-3d59781b3d3e",
   "metadata": {},
   "outputs": [],
   "source": []
  },
  {
   "cell_type": "code",
   "execution_count": null,
   "id": "98ea5709-c345-43cf-ab93-312c846f0c64",
   "metadata": {},
   "outputs": [],
   "source": []
  },
  {
   "cell_type": "code",
   "execution_count": null,
   "id": "c1e6b0af-9554-494b-980c-53beb5fe9aae",
   "metadata": {},
   "outputs": [],
   "source": []
  },
  {
   "cell_type": "code",
   "execution_count": null,
   "id": "704e0444-cd7b-48ba-a146-15a5571d1d97",
   "metadata": {},
   "outputs": [],
   "source": [
    "proj = pro.Q.T @ all_data[0]"
   ]
  },
  {
   "cell_type": "code",
   "execution_count": null,
   "id": "5b46d551-8b0f-48f4-9f66-734edf3fef7f",
   "metadata": {},
   "outputs": [],
   "source": [
    "proj.shape"
   ]
  },
  {
   "cell_type": "code",
   "execution_count": null,
   "id": "d5cc754c-3454-4e68-82be-79ab7876bae3",
   "metadata": {},
   "outputs": [],
   "source": [
    "for d in all_data:\n",
    "    proj = pro.Q.T @ d\n",
    "    plt.plot(proj[:, 0], proj[:, 1])\n",
    "plt.xlabel('Component 1')\n",
    "plt.ylabel('Component 2')\n",
    "plt.title('Projected trajectories using proSVD')"
   ]
  },
  {
   "cell_type": "code",
   "execution_count": null,
   "id": "333b9ad8-7115-46f9-8e7f-79a9cb470b57",
   "metadata": {},
   "outputs": [],
   "source": []
  },
  {
   "cell_type": "code",
   "execution_count": null,
   "id": "19113035-3778-4d53-bbca-51c8f2d1824a",
   "metadata": {},
   "outputs": [],
   "source": []
  },
  {
   "cell_type": "code",
   "execution_count": null,
   "id": "b40131f4-df16-43be-a724-0f64187e4025",
   "metadata": {},
   "outputs": [],
   "source": []
  },
  {
   "cell_type": "code",
   "execution_count": null,
   "id": "6f902ade-20dc-435e-9e63-93e78e01f408",
   "metadata": {},
   "outputs": [],
   "source": [
    "dists = np.linalg.norm(pro.Qs - pro.Q[:, :, np.newaxis], axis=0)\n",
    "t = derivs.shape[1]\n",
    "\n",
    "fig, ax = plt.subplots(1, 3, figsize=(12,4))\n",
    "ax[0].plot(derivs[:, :t].T)\n",
    "ax[0].legend(labels=['vec{}'.format(i) for i in range(k)])\n",
    "ax[0].set(title='derivatives of proSVD basis vectors', \n",
    "          xlabel='bins seen', ylabel='1st difference of basis vectors')\n",
    "\n",
    "for j in range(2):\n",
    "    ax[j+1].plot(frac_vars[j][:, :t].T)\n",
    "    ax[j+1].plot(frac_vars[j].sum(axis=0)[:t], ls='--', color='k', alpha=0.5)\n",
    "    ax[j+1].set(title='variance explained by each vector', \n",
    "            xlabel='bins seen', ylabel='fraction of variance explained')\n",
    "\n",
    "ax[2].plot(frac_vars[0].sum(axis=0)[:t], ls=':', color='k', alpha=0.5)\n",
    "\n",
    "\n",
    "fig, ax = plt.subplots()\n",
    "labels = ['sv{}'.format(i+1) for i in range(pro.Ss.shape[0])]\n",
    "ax.plot(pro.Ss.T)\n",
    "direction_change = np.cumsum(3 * 3)\n",
    "for i in direction_change:\n",
    "    ax.axvline(i, ls='--', color='k', alpha=0.4)\n",
    "ax.set(xlabel='bin (15 ms bins)', ylabel='singular value')\n",
    "ax.legend(labels)\n",
    "\n",
    "# also change in svs\n",
    "Ss_deriv = pro.Ss[:, 1:] - pro.Ss[:, :-1]\n",
    "fig, axs = plt.subplots(2, 3, figsize=(12,7), sharex=True, sharey=True)\n",
    "t = 0\n",
    "for i in range(2):\n",
    "    for j in range(3):\n",
    "        axs[i, j].plot(Ss_deriv[i, :], color='C{}'.format(t))\n",
    "        for k in direction_change:\n",
    "            axs[i,j].axvline(k, ls='--', color='k', alpha=0.4)\n",
    "        t += 1\n",
    "        axs[i,j].set(ylim=(-.05, 1), title='sv{}'.format(t),\n",
    "                     xlabel='bin (15 ms)', ylabel='change in singular value')\n",
    "\n",
    "#trial markers\n",
    "# for currax in [ax1, ax2]:\n",
    "#     currax.set(xlim=(-50, 5000))\n",
    "#     for i in np.arange(0, spikes.shape[1], reduced_bins):\n",
    "#         currax.axvline(i, ls='--', color='grey', alpha=.4)"
   ]
  },
  {
   "cell_type": "code",
   "execution_count": null,
   "id": "36f93656-3840-4f9b-82b3-63186a110046",
   "metadata": {},
   "outputs": [],
   "source": []
  },
  {
   "cell_type": "code",
   "execution_count": 1,
   "id": "c02bc64b-3473-458d-97a0-4b67f34c9729",
   "metadata": {},
   "outputs": [
    {
     "data": {
      "image/png": "[encoded data removed]",
      "text/plain": [
       "<Figure size 800x600 with 1 Axes>"
      ]
     },
     "metadata": {},
     "output_type": "display_data"
    }
   ],
   "source": [
    "import numpy as np\n",
    "import matplotlib.pyplot as plt\n",
    "\n",
    "# Example: synthetic data (T timepoints x N features)\n",
    "T, N = 200, 50\n",
    "np.random.seed(0)\n",
    "X = np.cumsum(np.random.randn(T, N), axis=0)  # simulated random walk\n",
    "\n",
    "# Step 1: center the data\n",
    "X_centered = X - X.mean(axis=0)\n",
    "\n",
    "# Step 2: perform SVD\n",
    "U, S, Vt = np.linalg.svd(X_centered, full_matrices=False)\n",
    "\n",
    "# Step 3: project data onto top components (trajectories)\n",
    "# Each column in U*S is a trajectory along one principal direction\n",
    "proj = U @ np.diag(S)  # shape: T x N\n",
    "\n",
    "# Step 4: plot top 2D trajectory\n",
    "plt.figure(figsize=(8, 6))\n",
    "plt.plot(proj[:, 0], proj[:, 1], lw=2)\n",
    "plt.xlabel('1st SVD component')\n",
    "plt.ylabel('2nd SVD component')\n",
    "plt.title('Trajectory in SVD-reduced space')\n",
    "plt.grid(True)\n",
    "plt.tight_layout()\n",
    "plt.show()"
   ]
  },
  {
   "cell_type": "code",
   "execution_count": null,
   "id": "abef5c65-9403-4f0c-8a80-d92df539498c",
   "metadata": {},
   "outputs": [],
   "source": []
  }
 ],
 "metadata": {
  "kernelspec": {
   "display_name": "Python 3 (ipykernel)",
   "language": "python",
   "name": "python3"
  },
  "language_info": {
   "codemirror_mode": {
    "name": "ipython",
    "version": 3
   },
   "file_extension": ".py",
   "mimetype": "text/x-python",
   "name": "python",
   "nbconvert_exporter": "python",
   "pygments_lexer": "ipython3",
   "version": "3.11.12"
  }
 },
 "nbformat": 4,
 "nbformat_minor": 5
}
