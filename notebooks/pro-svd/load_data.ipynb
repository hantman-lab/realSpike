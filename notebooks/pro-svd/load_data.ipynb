{
 "cells": [
  {
   "cell_type": "markdown",
   "id": "9970bf67-5c50-45ba-8cfd-53e3c2f0d108",
   "metadata": {},
   "source": [
    "# Notebook for compiling necessary data for doing dimensionality reduction\n",
    "- [ ] get AP bin file\n",
    "- [ ] get trial time starts and stim times\n",
    "- [ ] behavior classification?"
   ]
  },
  {
   "cell_type": "code",
   "execution_count": 54,
   "id": "ceee54e2-3382-490c-99cb-4bbf25a0f9de",
   "metadata": {},
   "outputs": [
    {
     "name": "stderr",
     "output_type": "stream",
     "text": [
      "Detected skylake derivative running on mesa i915. Clears to srgb textures will use manual shader clears.\n",
      "Detected skylake derivative running on mesa i915. Clears to srgb textures will use manual shader clears.\n",
      "Detected skylake derivative running on mesa i915. Clears to srgb textures will use manual shader clears.\n"
     ]
    },
    {
     "data": {
      "application/vnd.jupyter.widget-view+json": {
       "model_id": "baf09e4940ba4dd6a737c4e9b4d557c7",
       "version_major": 2,
       "version_minor": 0
      },
      "text/plain": [
       "Image(value=b'version https://git-lfs.github.com/spec/...', height='55', width='300')"
      ]
     },
     "metadata": {},
     "output_type": "display_data"
    },
    {
     "data": {
      "text/html": [
       "<b>Available devices:</b><table><tr><th>Valid</th><th>Device</th><th>Type</th><th>Backend</th><th>Driver</th></tr><tr title=\"This adapter can be used with fastplotlib\"><td>✅</td><td>Intel(R) Arc(tm) Graphics (MTL)</td><td>IntegratedGPU</td><td>Vulkan</td><td>Mesa 25.0.4</td></tr><tr title=\"This adapter can be used with fastplotlib\"><td>✅ (default) </td><td>NVIDIA GeForce RTX 4060 Laptop GPU</td><td>DiscreteGPU</td><td>Vulkan</td><td>565.77</td></tr><tr title=\"CPU rendering support is limited and mainly for testing purposes\"><td>❗ limited</td><td>llvmpipe (LLVM 19.1.7, 256 bits)</td><td>CPU</td><td>Vulkan</td><td>Mesa 25.0.4 (LLVM 19.1.7)</td></tr><tr title=\"This adapter cannot be used with fastplotlib\"><td>❌</td><td>Mesa Intel(R) Arc(tm) Graphics (MTL)</td><td>IntegratedGPU</td><td>OpenGL</td><td>4.6 (Core Profile) Mesa 25.0.4</td></tr></table>"
      ],
      "text/plain": [
       "<IPython.core.display.HTML object>"
      ]
     },
     "metadata": {},
     "output_type": "display_data"
    },
    {
     "name": "stderr",
     "output_type": "stream",
     "text": [
      "Detected skylake derivative running on mesa i915. Clears to srgb textures will use manual shader clears.\n",
      "Detected skylake derivative running on mesa i915. Clears to srgb textures will use manual shader clears.\n"
     ]
    }
   ],
   "source": [
    "from pathlib import Path\n",
    "from scipy.io import loadmat\n",
    "import numpy as np\n",
    "import matplotlib.pyplot as plt\n",
    "import fastplotlib as fpl"
   ]
  },
  {
   "cell_type": "code",
   "execution_count": 2,
   "id": "9b1aba82-667f-422a-bfcb-ff16e7e01dd6",
   "metadata": {},
   "outputs": [
    {
     "name": "stdout",
     "output_type": "stream",
     "text": [
      "<class 'numpy.ndarray'>\n",
      "('totTime', 'cue', 'laser', 'trial_start', 'cue_rec_time', 'cue_trial_time', 'laser_rec_time', 'laser_trial_time', 'field_size', 'pattern_xy', 'field_id', 'full_field', 'pattern_id', 'pattern_fill', 'lift_ms', 'lift', 'grab_ms', 'grab', 'mouth_ms', 'mouth', 'single', 'any', 'no_success')\n"
     ]
    }
   ],
   "source": [
    "mat = loadmat(\"/home/clewis/wasabi/reaganbullins2/ProjectionProject/rb50/20250127/MAT_FILES/rb50_20250127_datastruct_pt2.mat\")\n",
    "mat = mat['data']\n",
    "\n",
    "print(type(mat))        # <class 'numpy.ndarray'>\n",
    "print(mat.dtype.names)"
   ]
  },
  {
   "cell_type": "code",
   "execution_count": 3,
   "id": "4f60db98-7c3e-457a-824b-f39b9c0eecd6",
   "metadata": {},
   "outputs": [],
   "source": [
    "data_struct = mat[0, 0]  # MATLAB structs are 2D arrays even if 1x1\n",
    "data = {field: data_struct[field] for field in mat.dtype.names}"
   ]
  },
  {
   "cell_type": "code",
   "execution_count": 4,
   "id": "0b074d6b-db30-4675-91bc-316ef65cb15c",
   "metadata": {},
   "outputs": [
    {
     "data": {
      "text/plain": [
       "dict_keys(['totTime', 'cue', 'laser', 'trial_start', 'cue_rec_time', 'cue_trial_time', 'laser_rec_time', 'laser_trial_time', 'field_size', 'pattern_xy', 'field_id', 'full_field', 'pattern_id', 'pattern_fill', 'lift_ms', 'lift', 'grab_ms', 'grab', 'mouth_ms', 'mouth', 'single', 'any', 'no_success'])"
      ]
     },
     "execution_count": 4,
     "metadata": {},
     "output_type": "execute_result"
    }
   ],
   "source": [
    "data.keys()"
   ]
  },
  {
   "cell_type": "markdown",
   "id": "8b05791f-6403-4a35-b36a-53b695811999",
   "metadata": {},
   "source": [
    "# Visualize the patterns"
   ]
  },
  {
   "cell_type": "code",
   "execution_count": 5,
   "id": "e677cede-1224-4eff-8cf4-331665271c0a",
   "metadata": {},
   "outputs": [
    {
     "data": {
      "text/plain": [
       "30"
      ]
     },
     "execution_count": 5,
     "metadata": {},
     "output_type": "execute_result"
    }
   ],
   "source": [
    "# visualize the patterns again\n",
    "pattern_ids = list(np.unique(data['pattern_id']))\n",
    "len(pattern_ids)"
   ]
  },
  {
   "cell_type": "code",
   "execution_count": 6,
   "id": "90d121d6-5838-4ae7-96b8-835a51c74db9",
   "metadata": {},
   "outputs": [],
   "source": [
    "#reshape_size = 12\n",
    "pattern_ids = list(np.unique(data['pattern_id']))\n",
    "all_patterns = list()\n",
    "# pattern 0 = no laser\n",
    "all_patterns.append(np.zeros((12, 12)))\n",
    "# pattern 1 = full field\n",
    "all_patterns.append(np.ones((12, 12)))\n",
    "# pattern 2 = empty field \n",
    "all_patterns.append(np.zeros((12, 12)))\n",
    "for p_id in pattern_ids[3:]:\n",
    "    ix = np.where(data['pattern_id'] == p_id)[0][0].astype(np.int32)\n",
    "    pattern = np.zeros((data['pattern_xy'][ix][0].astype(np.int32), data['pattern_xy'][ix][1].astype(np.int32)))\n",
    "    # use the pattern fill to set elements to one\n",
    "    object_ref = data['pattern_fill'][0][ix]\n",
    "    for x, y in zip(object_ref[:, 0], object_ref[:, 1]):\n",
    "        pattern[x.astype(np.int32)-1, y.astype(np.int32)-1] = 1\n",
    "\n",
    "    all_patterns.append(pattern)\n",
    "\n",
    "    #pattern = zoom(pattern, (reshape_size / pattern.shape[0], reshape_size / pattern.shape[1]), order=0)\n",
    "\n",
    "    #interp_patterns.append(pattern)"
   ]
  },
  {
   "cell_type": "code",
   "execution_count": 7,
   "id": "ab905479-f7a7-4337-9a45-4102ec7ecb4e",
   "metadata": {},
   "outputs": [
    {
     "data": {
      "text/plain": [
       "30"
      ]
     },
     "execution_count": 7,
     "metadata": {},
     "output_type": "execute_result"
    }
   ],
   "source": [
    "len(all_patterns)"
   ]
  },
  {
   "cell_type": "code",
   "execution_count": 8,
   "id": "22e010ec-3269-4414-981f-ff89aac24e08",
   "metadata": {},
   "outputs": [
    {
     "data": {
      "image/png": "[encoded data removed]",
      "text/plain": [
       "<Figure size 1400x1000 with 30 Axes>"
      ]
     },
     "metadata": {},
     "output_type": "display_data"
    }
   ],
   "source": [
    "fig, axes = plt.subplots(5, 6, figsize=(14, 10))\n",
    "\n",
    "# Flatten axes array for easy iteration\n",
    "axes = axes.flatten()\n",
    "\n",
    "for i, array in zip(range(len(all_patterns)), all_patterns):\n",
    "    ax = axes[i]\n",
    "    ax.imshow(array, cmap=\"binary\", vmin=0, vmax=1)\n",
    "\n",
    "    ax.set_title(f\"Pattern {i}\") \n",
    "\n",
    "#plt.gca().invert_yaxis() \n",
    "# Adjust layout\n",
    "plt.tight_layout()\n",
    "\n",
    "# Show the plot\n",
    "plt.show()"
   ]
  },
  {
   "cell_type": "code",
   "execution_count": null,
   "id": "b5f68042-811d-46d2-9429-d8e008414a7a",
   "metadata": {},
   "outputs": [],
   "source": []
  },
  {
   "cell_type": "code",
   "execution_count": null,
   "id": "f7d91d73-3394-4928-9c16-82f62c21e7c6",
   "metadata": {},
   "outputs": [],
   "source": []
  },
  {
   "cell_type": "markdown",
   "id": "9f9ac2ec-1e24-4d25-b26c-03a6e6c1e5fa",
   "metadata": {},
   "source": [
    "# Get single-reach control trials"
   ]
  },
  {
   "cell_type": "code",
   "execution_count": 9,
   "id": "af000f73-e631-43b8-8592-6dcb86effb1c",
   "metadata": {},
   "outputs": [],
   "source": [
    "# get no laser trials\n",
    "a = np.where(data[\"pattern_id\"][:150] == 0)[0] "
   ]
  },
  {
   "cell_type": "code",
   "execution_count": 10,
   "id": "f127a6b6-9088-4cde-851c-8f7af2d4a55b",
   "metadata": {},
   "outputs": [],
   "source": [
    "# get blank pattern trials\n",
    "b = np.where(data[\"pattern_id\"][:150] == 2)[0]"
   ]
  },
  {
   "cell_type": "code",
   "execution_count": 11,
   "id": "5d09acb0-754e-4a19-b50e-0741c91f8d5e",
   "metadata": {},
   "outputs": [
    {
     "data": {
      "text/plain": [
       "array([  0,   1,   2,   3,   4,   5,   6,   7,   8,   9,  10,  11,  12,\n",
       "        13,  14,  15,  18,  21,  26,  27,  31,  33,  37,  39,  41,  45,\n",
       "        47,  51,  52,  57,  59,  63,  68,  69,  73,  75,  78,  81,  84,\n",
       "        87,  92,  93,  97,  99, 103, 105, 110, 111, 113, 117, 122, 123,\n",
       "       126, 129, 130, 135, 136, 137, 138, 139, 140, 141, 142, 143, 144,\n",
       "       145, 146, 147, 148, 149])"
      ]
     },
     "execution_count": 11,
     "metadata": {},
     "output_type": "execute_result"
    }
   ],
   "source": [
    "control_idxs = np.sort(np.concatenate((a, b)))\n",
    "control_idxs"
   ]
  },
  {
   "cell_type": "markdown",
   "id": "5a1a0d83-c8c0-46c9-8180-39cd1ac629f4",
   "metadata": {},
   "source": [
    "### Only want to look at single reach trials"
   ]
  },
  {
   "cell_type": "code",
   "execution_count": 12,
   "id": "d71021f4-33f6-4be0-87c2-288f94653397",
   "metadata": {},
   "outputs": [
    {
     "data": {
      "text/plain": [
       "array([  0,   1,   3,   4,   5,   6,   7,   8,   9,  10,  12,  14,  15,\n",
       "        16,  17,  18,  19,  20,  21,  23,  24,  26,  30,  33,  36,  37,\n",
       "        38,  39,  40,  41,  43,  44,  45,  46,  48,  49,  50,  51,  52,\n",
       "        53,  54,  58,  60,  61,  62,  63,  67,  68,  69,  70,  71,  73,\n",
       "        74,  77,  78,  81,  82,  84,  85,  88,  89,  91, 105, 107, 109,\n",
       "       116, 117, 121, 122, 130, 137, 139, 145, 148])"
      ]
     },
     "execution_count": 12,
     "metadata": {},
     "output_type": "execute_result"
    }
   ],
   "source": [
    "single_idxs = np.where(data[\"single\"] == 1)[1]\n",
    "single_idxs"
   ]
  },
  {
   "cell_type": "code",
   "execution_count": 13,
   "id": "d8e1cc9b-ffce-4526-8f47-2e302cb9c960",
   "metadata": {},
   "outputs": [
    {
     "data": {
      "text/plain": [
       "array([  0,   1,   3,   4,   5,   6,   7,   8,   9,  10,  12,  14,  15,\n",
       "        18,  21,  26,  33,  37,  39,  41,  45,  51,  52,  63,  68,  69,\n",
       "        73,  78,  81,  84, 105, 117, 122, 130, 137, 139, 145, 148])"
      ]
     },
     "execution_count": 13,
     "metadata": {},
     "output_type": "execute_result"
    }
   ],
   "source": [
    "control_idxs = np.intersect1d(control_idxs, single_idxs)\n",
    "control_idxs"
   ]
  },
  {
   "cell_type": "code",
   "execution_count": 14,
   "id": "c04fe749-eab0-4ab4-80bc-83f8e1f24433",
   "metadata": {},
   "outputs": [
    {
     "data": {
      "text/plain": [
       "(38,)"
      ]
     },
     "execution_count": 14,
     "metadata": {},
     "output_type": "execute_result"
    }
   ],
   "source": [
    "control_idxs.shape"
   ]
  },
  {
   "cell_type": "code",
   "execution_count": null,
   "id": "fda0d5bb-4e22-4ca1-bee6-cdddfc140c99",
   "metadata": {},
   "outputs": [],
   "source": []
  },
  {
   "cell_type": "markdown",
   "id": "2abd2b4a-d60d-44a1-95fe-fe168aa0ff24",
   "metadata": {},
   "source": [
    "## Get trial start times"
   ]
  },
  {
   "cell_type": "code",
   "execution_count": 15,
   "id": "c823fd73-5340-49fa-8d0a-a75348eb5f29",
   "metadata": {},
   "outputs": [
    {
     "data": {
      "text/plain": [
       "array([[  13310.77126404,   30635.89162655,   65118.75767016,\n",
       "          82391.48494289,   99671.29236288,  116878.88228075,\n",
       "         134202.30340791,  151469.08335693,  168748.89077693,\n",
       "         186076.37118852,  220580.66647786,  255113.75436609,\n",
       "         342834.9853677 ,  394700.27376569,  446413.00859058,\n",
       "         532813.83932786,  653737.5625413 ,  722537.80798641,\n",
       "         757001.60483338,  791443.02841499,  860313.41451902,\n",
       "         963758.89738507,  981078.44803172, 1171344.18955914,\n",
       "        1257878.12706504, 1275101.01010101, 1344169.73473048,\n",
       "        1430527.9901822 , 1482298.49900878, 1533924.47842915,\n",
       "        1896560.18125177, 2103905.22042859, 2190400.16992353,\n",
       "        2328776.07854243, 2465558.2932125 , 2500046.63457   ,\n",
       "        2603792.2212782 , 2655431.70017936]])"
      ]
     },
     "execution_count": 15,
     "metadata": {},
     "output_type": "execute_result"
    }
   ],
   "source": [
    "trial_starts = data[\"trial_start\"][:, control_idxs]\n",
    "trial_starts"
   ]
  },
  {
   "cell_type": "code",
   "execution_count": null,
   "id": "893b0bd2-cb7d-4937-88f6-cfe0bc1d4e1b",
   "metadata": {},
   "outputs": [],
   "source": []
  },
  {
   "cell_type": "markdown",
   "id": "a2911250-34fa-46d1-939b-b71cb11733ae",
   "metadata": {},
   "source": [
    "## Get the AP.bin file"
   ]
  },
  {
   "cell_type": "code",
   "execution_count": 16,
   "id": "fc0bf78e-8b1a-4792-a6b7-dca5ea90bbc8",
   "metadata": {},
   "outputs": [],
   "source": [
    "from real_spike.utils import get_sample_data, get_meta\n",
    "import tifffile"
   ]
  },
  {
   "cell_type": "code",
   "execution_count": 17,
   "id": "118aa04c-db7f-4813-a968-4be57b80b194",
   "metadata": {},
   "outputs": [],
   "source": [
    "file_path = Path(\"/home/clewis/wasabi/reaganbullins2/ProjectionProject/rb50/20250127/rb50_20250127_g0/rb50_20250127_g0_t0.imec0.ap.bin\")\n",
    "meta_path = Path(\"/home/clewis/wasabi/reaganbullins2/ProjectionProject/rb50/20250127/rb50_20250127_g0/rb50_20250127_g0_t0.imec0.ap.meta\")"
   ]
  },
  {
   "cell_type": "code",
   "execution_count": 18,
   "id": "838d1483-25fb-43a4-8aa8-57e50f7a3ee3",
   "metadata": {},
   "outputs": [
    {
     "data": {
      "text/plain": [
       "(13310, 2729255)"
      ]
     },
     "execution_count": 18,
     "metadata": {},
     "output_type": "execute_result"
    }
   ],
   "source": [
    "chanList = list(range(0,384))    \n",
    "\n",
    "# get all 150 cue trials\n",
    "firstSamp = int(data[\"trial_start\"][0, 0])\n",
    "lastSamp = int(data[\"trial_start\"][0, 151])\n",
    "(firstSamp, lastSamp)"
   ]
  },
  {
   "cell_type": "code",
   "execution_count": 19,
   "id": "9ee3b1ab-a975-4717-96be-a93b26fa5477",
   "metadata": {},
   "outputs": [],
   "source": [
    "meta_data = get_meta(meta_path)"
   ]
  },
  {
   "cell_type": "code",
   "execution_count": 20,
   "id": "5f403d38-c15d-4e97-a807-2fded7e68270",
   "metadata": {},
   "outputs": [
    {
     "data": {
      "text/plain": [
       "(385, 166298223)"
      ]
     },
     "execution_count": 20,
     "metadata": {},
     "output_type": "execute_result"
    }
   ],
   "source": [
    "ap_data = get_sample_data(file_path, meta_data)\n",
    "ap_data.shape"
   ]
  },
  {
   "cell_type": "code",
   "execution_count": 21,
   "id": "26327177-76b1-44df-9fc6-8a89dc4fa20d",
   "metadata": {},
   "outputs": [],
   "source": [
    "#trial_data = ap_data[chanList, firstSamp:lastSamp]"
   ]
  },
  {
   "cell_type": "code",
   "execution_count": 22,
   "id": "07987c5a-ce29-4dc8-af69-8e717a62a6b9",
   "metadata": {},
   "outputs": [],
   "source": [
    "#trial_data.shape"
   ]
  },
  {
   "cell_type": "code",
   "execution_count": 23,
   "id": "2b1df4c5-5145-4506-b88e-aff23f305304",
   "metadata": {},
   "outputs": [],
   "source": [
    "#tifffile.imwrite(\"/home/clewis/repos/realSpike/data/rb50_20250127/cue_trials.tif\", trial_data)"
   ]
  },
  {
   "cell_type": "code",
   "execution_count": 24,
   "id": "c56280cd-1c8d-4e45-8ced-99eea8444d8a",
   "metadata": {},
   "outputs": [
    {
     "data": {
      "text/plain": [
       "(384, 2715945)"
      ]
     },
     "execution_count": 24,
     "metadata": {},
     "output_type": "execute_result"
    }
   ],
   "source": [
    "cue_trials = tifffile.memmap(\"/home/clewis/repos/realSpike/data/rb50_20250127/cue_trials.tif\")\n",
    "cue_trials.shape"
   ]
  },
  {
   "cell_type": "code",
   "execution_count": null,
   "id": "5440e74d-c080-4913-81b1-bd7358672483",
   "metadata": {},
   "outputs": [],
   "source": []
  },
  {
   "cell_type": "markdown",
   "id": "5ad24a68-f2f1-426e-afdb-a63cce70c528",
   "metadata": {},
   "source": [
    "## Get conversion params"
   ]
  },
  {
   "cell_type": "code",
   "execution_count": 25,
   "id": "26a0af1f-8230-4977-808d-c379cbd1a708",
   "metadata": {},
   "outputs": [],
   "source": [
    "vmax = float(meta_data[\"imAiRangeMax\"])\n",
    "# get Imax\n",
    "imax = float(meta_data[\"imMaxInt\"])\n",
    "# get gain\n",
    "gain = float(meta_data['imroTbl'].split(sep=')')[1].split(sep=' ')[3])"
   ]
  },
  {
   "cell_type": "code",
   "execution_count": 26,
   "id": "58b0bba5-98b8-417f-b153-6ce947fcb566",
   "metadata": {},
   "outputs": [
    {
     "data": {
      "text/plain": [
       "0.6"
      ]
     },
     "execution_count": 26,
     "metadata": {},
     "output_type": "execute_result"
    }
   ],
   "source": [
    "vmax"
   ]
  },
  {
   "cell_type": "code",
   "execution_count": 27,
   "id": "a5e79542-ae1c-44a1-8845-45b3be4f0393",
   "metadata": {},
   "outputs": [
    {
     "data": {
      "text/plain": [
       "512.0"
      ]
     },
     "execution_count": 27,
     "metadata": {},
     "output_type": "execute_result"
    }
   ],
   "source": [
    "imax"
   ]
  },
  {
   "cell_type": "code",
   "execution_count": 28,
   "id": "3deecfa7-4099-4b45-8909-9ed896189dc3",
   "metadata": {},
   "outputs": [
    {
     "data": {
      "text/plain": [
       "500.0"
      ]
     },
     "execution_count": 28,
     "metadata": {},
     "output_type": "execute_result"
    }
   ],
   "source": [
    "gain"
   ]
  },
  {
   "cell_type": "code",
   "execution_count": null,
   "id": "eae55cd7-65af-477f-8fd4-a96209219729",
   "metadata": {},
   "outputs": [],
   "source": []
  },
  {
   "cell_type": "markdown",
   "id": "d60e912c-4e2e-419c-b438-aeafe071aaa1",
   "metadata": {},
   "source": [
    "## Get first trial"
   ]
  },
  {
   "cell_type": "code",
   "execution_count": 31,
   "id": "cf8e012a-cd9d-445b-a8f3-a53fc7487ed1",
   "metadata": {},
   "outputs": [
    {
     "data": {
      "text/plain": [
       "array([13310.77126404, 30635.89162655])"
      ]
     },
     "execution_count": 31,
     "metadata": {},
     "output_type": "execute_result"
    }
   ],
   "source": [
    "trial_starts[0, :2]"
   ]
  },
  {
   "cell_type": "code",
   "execution_count": 35,
   "id": "cc88eb63-9e33-4553-953c-5ef4a6ee807b",
   "metadata": {},
   "outputs": [
    {
     "data": {
      "text/plain": [
       "17325"
      ]
     },
     "execution_count": 35,
     "metadata": {},
     "output_type": "execute_result"
    }
   ],
   "source": [
    "c = int(30635.89162655 - 13310.77126404)\n",
    "c"
   ]
  },
  {
   "cell_type": "code",
   "execution_count": 38,
   "id": "3ed9ab6d-a94c-4926-bf95-086b432b3c94",
   "metadata": {},
   "outputs": [],
   "source": [
    "trial_one = cue_trials[:, :c]"
   ]
  },
  {
   "cell_type": "code",
   "execution_count": 40,
   "id": "08386e79-11d4-47b8-817e-4f9ad46d2149",
   "metadata": {},
   "outputs": [
    {
     "data": {
      "text/plain": [
       "(384, 17325)"
      ]
     },
     "execution_count": 40,
     "metadata": {},
     "output_type": "execute_result"
    }
   ],
   "source": [
    "trial_one.shape"
   ]
  },
  {
   "cell_type": "markdown",
   "id": "ccf57e01-5079-44eb-b67c-81c5db907b56",
   "metadata": {},
   "source": [
    "## Convert to microvolts "
   ]
  },
  {
   "cell_type": "code",
   "execution_count": 42,
   "id": "4dbd97d0-4dca-4260-84bc-bd141c51f658",
   "metadata": {},
   "outputs": [],
   "source": [
    "conv_data = 1e6 * trial_one / vmax / imax / gain"
   ]
  },
  {
   "cell_type": "code",
   "execution_count": 43,
   "id": "6a10ccc9-bff0-4119-9827-c865bbe76efa",
   "metadata": {},
   "outputs": [
    {
     "data": {
      "text/plain": [
       "(384, 17325)"
      ]
     },
     "execution_count": 43,
     "metadata": {},
     "output_type": "execute_result"
    }
   ],
   "source": [
    "conv_data.shape"
   ]
  },
  {
   "cell_type": "markdown",
   "id": "159ae86b-4726-48af-aa10-8c49829c8f3f",
   "metadata": {},
   "source": [
    "## Filter"
   ]
  },
  {
   "cell_type": "code",
   "execution_count": 44,
   "id": "a5b2e80f-6b5e-449b-bb4b-bf3dcffcbddd",
   "metadata": {},
   "outputs": [],
   "source": [
    "from real_spike.utils import butter_filter"
   ]
  },
  {
   "cell_type": "code",
   "execution_count": 45,
   "id": "f8923dbc-2534-4bcf-9b31-955ce1fc4633",
   "metadata": {},
   "outputs": [
    {
     "data": {
      "text/plain": [
       "(384, 17325)"
      ]
     },
     "execution_count": 45,
     "metadata": {},
     "output_type": "execute_result"
    }
   ],
   "source": [
    "filt_data = butter_filter(conv_data, 1_000, 30_000)\n",
    "filt_data.shape"
   ]
  },
  {
   "cell_type": "markdown",
   "id": "933032db-0c38-4ef2-94f6-729b133168eb",
   "metadata": {},
   "source": [
    "## Median/MAD Threshold "
   ]
  },
  {
   "cell_type": "code",
   "execution_count": 47,
   "id": "5d3bd4a7-edee-4087-bd0a-fe65a3c25bb7",
   "metadata": {},
   "outputs": [],
   "source": [
    "from real_spike.utils import get_spike_events"
   ]
  },
  {
   "cell_type": "code",
   "execution_count": 46,
   "id": "83ada949-cb8e-4d7f-88d7-5ce0c797680b",
   "metadata": {},
   "outputs": [
    {
     "data": {
      "text/plain": [
       "(384,)"
      ]
     },
     "execution_count": 46,
     "metadata": {},
     "output_type": "execute_result"
    }
   ],
   "source": [
    "median = np.median(filt_data, axis=1)\n",
    "median.shape"
   ]
  },
  {
   "cell_type": "code",
   "execution_count": 83,
   "id": "c327f29b-6916-47bf-8f81-0bf170f9a9f4",
   "metadata": {},
   "outputs": [],
   "source": [
    "spike_ixs, counts = get_spike_events(filt_data, median)"
   ]
  },
  {
   "cell_type": "code",
   "execution_count": null,
   "id": "bb2a93fe-0868-41dc-a5ac-f3ca4de25561",
   "metadata": {},
   "outputs": [],
   "source": [
    "# "
   ]
  },
  {
   "cell_type": "code",
   "execution_count": 99,
   "id": "cee50e7c-6f39-45bb-b935-ca951517f612",
   "metadata": {},
   "outputs": [],
   "source": [
    "a = np.zeros((filt_data.shape[0], filt_data.shape[1]))"
   ]
  },
  {
   "cell_type": "code",
   "execution_count": 100,
   "id": "7ce63317-fd11-4d87-8a4f-1729a3863d0b",
   "metadata": {},
   "outputs": [],
   "source": [
    "for i, sc in enumerate(spike_ixs):\n",
    "    a[i, sc] = 1"
   ]
  },
  {
   "cell_type": "code",
   "execution_count": null,
   "id": "28c47d55-4f57-408e-a55f-8c4d668c9e5c",
   "metadata": {},
   "outputs": [],
   "source": []
  },
  {
   "cell_type": "code",
   "execution_count": 101,
   "id": "5b417baf-1b65-414e-86f7-7681fdb956fd",
   "metadata": {},
   "outputs": [],
   "source": [
    "def bin_spike_data(spikes, bin_size):\n",
    "    n_channels, n_timepoints = spikes.shape\n",
    "    n_bins = n_timepoints // bin_size  # drop remainder\n",
    "    spikes = spikes[:, :n_bins * bin_size]  # truncate to fit bins\n",
    "\n",
    "    # Reshape and sum\n",
    "    binned = spikes.reshape(n_channels, n_bins, bin_size).sum(axis=2)\n",
    "    return binned"
   ]
  },
  {
   "cell_type": "code",
   "execution_count": 103,
   "id": "544445f3-bc5c-4493-8d46-e6971793c2ab",
   "metadata": {},
   "outputs": [],
   "source": [
    "binned_spikes = bin_spike_data(a, 150)"
   ]
  },
  {
   "cell_type": "code",
   "execution_count": 104,
   "id": "34761664-f781-4910-afc8-7f5cf2c67388",
   "metadata": {},
   "outputs": [
    {
     "data": {
      "text/plain": [
       "(384, 115)"
      ]
     },
     "execution_count": 104,
     "metadata": {},
     "output_type": "execute_result"
    }
   ],
   "source": [
    "binned_spikes.shape"
   ]
  },
  {
   "cell_type": "code",
   "execution_count": null,
   "id": "d0588b39-50a6-46e3-aa09-71bbd33593a0",
   "metadata": {},
   "outputs": [],
   "source": []
  },
  {
   "cell_type": "code",
   "execution_count": null,
   "id": "b0a2a3ae-e213-494c-988f-563ae06a5f57",
   "metadata": {},
   "outputs": [],
   "source": []
  },
  {
   "cell_type": "code",
   "execution_count": null,
   "id": "fc2cad38-775e-4d35-836a-fcf7b6dd889e",
   "metadata": {},
   "outputs": [],
   "source": [
    "# create a range of the entire trial time\n",
    "# binarize the spike times\n",
    "# bin into 5ms bins (every 150 data points) "
   ]
  },
  {
   "cell_type": "code",
   "execution_count": null,
   "id": "96a975a0-5850-4644-8222-94398f0bd397",
   "metadata": {},
   "outputs": [],
   "source": []
  },
  {
   "cell_type": "markdown",
   "id": "eab743c9-e297-4971-a30f-25ab67a1c09d",
   "metadata": {},
   "source": [
    "## Apply kalman filter"
   ]
  },
  {
   "cell_type": "code",
   "execution_count": null,
   "id": "8c56c974-1773-4832-ab46-323a19c9afa4",
   "metadata": {},
   "outputs": [],
   "source": []
  },
  {
   "cell_type": "code",
   "execution_count": null,
   "id": "70d77f2e-a6cd-499c-ad0f-641a11d7e8d9",
   "metadata": {},
   "outputs": [],
   "source": []
  },
  {
   "cell_type": "code",
   "execution_count": null,
   "id": "e80819c2-7c90-4bc9-9be8-4874c1185f53",
   "metadata": {},
   "outputs": [],
   "source": []
  },
  {
   "cell_type": "code",
   "execution_count": null,
   "id": "c398f505-50b4-430e-94c5-64f0389041d4",
   "metadata": {},
   "outputs": [],
   "source": []
  },
  {
   "cell_type": "code",
   "execution_count": 106,
   "id": "68f2275a-e560-4f09-877f-5b6f9671a9bc",
   "metadata": {},
   "outputs": [],
   "source": [
    "import numpy as np\n",
    "from filterpy.kalman import KalmanFilter\n",
    "\n",
    "def apply_kalman_filter(data, A=1, H=1, Q=0.01, R=1, initial_state=None):\n",
    "    \"\"\"\n",
    "    Applies 1D Kalman filter to each channel in the binned spike data.\n",
    "\n",
    "    Args:\n",
    "        data (ndarray): Shape (n_channels, n_time_bins)\n",
    "        A: State transition\n",
    "        H: Observation model\n",
    "        Q: Process noise\n",
    "        R: Measurement noise\n",
    "        initial_state: Optional starting value per channel\n",
    "\n",
    "    Returns:\n",
    "        ndarray: Smoothed data of same shape\n",
    "    \"\"\"\n",
    "    n_channels, n_time = data.shape\n",
    "    smoothed = np.zeros_like(data, dtype=float)\n",
    "\n",
    "    for ch in range(n_channels):\n",
    "        kf = KalmanFilter(dim_x=1, dim_z=1)\n",
    "        kf.F = np.array([[A]])     # State transition matrix\n",
    "        kf.H = np.array([[H]])     # Observation matrix\n",
    "        kf.Q = np.array([[Q]])     # Process noise covariance\n",
    "        kf.R = np.array([[R]])     # Measurement noise covariance\n",
    "        kf.x = np.array([[initial_state[ch] if initial_state else data[ch, 0]]])  # Initial state\n",
    "        kf.P = np.eye(1) * 1       # Initial covariance\n",
    "\n",
    "        for t in range(n_time):\n",
    "            kf.predict()\n",
    "            kf.update(np.array([[data[ch, t]]]))\n",
    "            smoothed[ch, t] = kf.x[0, 0]\n",
    "\n",
    "    return smoothed"
   ]
  },
  {
   "cell_type": "code",
   "execution_count": 107,
   "id": "881ecb1a-6ea9-4f07-a380-22ddc2470a2c",
   "metadata": {},
   "outputs": [],
   "source": [
    "binned = np.random.poisson(0.5, (4, 100))  # fake binned data\n",
    "smoothed = apply_kalman_filter(binned)\n"
   ]
  },
  {
   "cell_type": "code",
   "execution_count": 108,
   "id": "4b089aea-1edd-4485-99f0-eea14cde49c6",
   "metadata": {},
   "outputs": [
    {
     "data": {
      "image/png": "[encoded data removed]",
      "text/plain": [
       "<Figure size 640x480 with 1 Axes>"
      ]
     },
     "metadata": {},
     "output_type": "display_data"
    }
   ],
   "source": [
    "import matplotlib.pyplot as plt\n",
    "\n",
    "plt.plot(binned[0], label='Original')\n",
    "plt.plot(smoothed[0], label='Kalman Smoothed')\n",
    "plt.legend()\n",
    "plt.title('Channel 0')\n",
    "plt.xlabel('Time Bin')\n",
    "plt.ylabel('Spike Count')\n",
    "plt.show()\n"
   ]
  },
  {
   "cell_type": "code",
   "execution_count": null,
   "id": "c960cc18-5873-4e36-ab8c-7ede44a1f1f8",
   "metadata": {},
   "outputs": [],
   "source": []
  },
  {
   "cell_type": "code",
   "execution_count": null,
   "id": "aebc648e-7c97-4ccc-bde2-240df95a33c2",
   "metadata": {},
   "outputs": [],
   "source": []
  },
  {
   "cell_type": "code",
   "execution_count": 52,
   "id": "c176a0bb-f237-4567-8e26-c63ab62d742c",
   "metadata": {},
   "outputs": [],
   "source": [
    "from sklearn.decomposition import PCA"
   ]
  },
  {
   "cell_type": "code",
   "execution_count": 53,
   "id": "0822a4c3-ea29-456e-a49a-2b1963bbba3c",
   "metadata": {},
   "outputs": [
    {
     "name": "stdout",
     "output_type": "stream",
     "text": [
      "Explained variance ratio by each principal component: [0.47940428 0.32649978 0.1433965 ]\n"
     ]
    }
   ],
   "source": [
    "pca = PCA(n_components=3)\n",
    "\n",
    "# Fit the PCA model to the data and transform the data\n",
    "pca.fit(data)\n",
    "reduced_data = pca.transform(data)\n",
    "\n",
    "# Print explained variance ratio\n",
    "print(\"Explained variance ratio by each principal component:\", pca.explained_variance_ratio_)\n",
    "\n",
    "# # Visualize the reduced data (scatter plot)\n",
    "# plt.scatter(reduced_data[:, 0], reduced_data[:, 1])\n",
    "# plt.xlabel(\"Principal Component 1\")\n",
    "# plt.ylabel(\"Principal Component 2\")\n",
    "# plt.title(\"Single Trial PCA Results\")\n",
    "# plt.show()"
   ]
  },
  {
   "cell_type": "code",
   "execution_count": 210,
   "id": "2b81fea0-9c54-498b-8e4b-d23815753e82",
   "metadata": {},
   "outputs": [
    {
     "data": {
      "text/plain": [
       "array([[1000.09440196, 1000.09440196, 1000.        , 1000.09440196,\n",
       "        1000.09440196, 1000.        , 1000.09440196, 1000.        ,\n",
       "        1000.09440196, 1000.09440196, 1000.        , 1000.09440196,\n",
       "        1000.        , 1000.09440196, 1000.09440196, 1000.        ,\n",
       "        1000.09440196, 1000.09440196, 1000.        , 1000.        ,\n",
       "        1000.09440196, 1000.        , 1000.09440196, 1000.        ,\n",
       "        1000.09440196, 1000.        , 1000.09440196, 1000.09440196,\n",
       "        1000.        , 1000.09440196, 1000.        , 1000.        ,\n",
       "        1000.09440196, 1000.        , 1000.        , 1000.09440196,\n",
       "        1000.        , 1000.        ]])"
      ]
     },
     "execution_count": 210,
     "metadata": {},
     "output_type": "execute_result"
    }
   ],
   "source": [
    "data[\"cue_rec_time\"][:, control_idxs] - trial_starts"
   ]
  },
  {
   "cell_type": "code",
   "execution_count": null,
   "id": "d04f53d5-3bb0-4ed9-9ab9-fcd17c2ab668",
   "metadata": {},
   "outputs": [],
   "source": []
  },
  {
   "cell_type": "code",
   "execution_count": 185,
   "id": "9b66f544-e4e1-4dd0-abdc-a478525f24b4",
   "metadata": {},
   "outputs": [
    {
     "data": {
      "text/plain": [
       "array([[             nan,              nan,              nan,\n",
       "                     nan,              nan,              nan,\n",
       "                     nan,              nan,              nan,\n",
       "                     nan,              nan,              nan,\n",
       "                     nan,              nan,              nan,\n",
       "                     nan,  395700.27376569,              nan,\n",
       "         533813.83932786,              nan,  620251.77003682,\n",
       "                     nan,  723537.80798641,              nan,\n",
       "         792443.02841499,              nan,  895784.66912112,\n",
       "                     nan,  982078.54243368,              nan,\n",
       "        1103170.58434815,              nan, 1258878.12706504,\n",
       "                     nan, 1345169.73473048,              nan,\n",
       "        1431528.08458416,              nan, 1534924.47842915,\n",
       "                     nan, 1672925.80005664,              nan,\n",
       "        1759474.46426886,              nan, 1863091.28669876,\n",
       "                     nan, 1983990.46540168,              nan,\n",
       "        2035846.69121118,              nan, 2191400.2643255 ,\n",
       "                     nan, 2260533.08788823,              nan,\n",
       "        2329776.07854243,              nan,              nan,\n",
       "                     nan,              nan,              nan,\n",
       "                     nan,              nan,              nan,\n",
       "                     nan,              nan,              nan,\n",
       "                     nan,              nan,              nan,\n",
       "                     nan]])"
      ]
     },
     "execution_count": 185,
     "metadata": {},
     "output_type": "execute_result"
    }
   ],
   "source": [
    "data[\"laser_rec_time\"][:, control_idxs]"
   ]
  },
  {
   "cell_type": "code",
   "execution_count": null,
   "id": "b910773d-99d4-4507-811e-b700586d867c",
   "metadata": {},
   "outputs": [],
   "source": []
  },
  {
   "cell_type": "code",
   "execution_count": null,
   "id": "aab725a8-bce4-4024-8f69-9f54eec389b5",
   "metadata": {},
   "outputs": [],
   "source": []
  },
  {
   "cell_type": "code",
   "execution_count": null,
   "id": "33d0f528-1b45-4836-9492-ad30b3f7523d",
   "metadata": {},
   "outputs": [],
   "source": []
  }
 ],
 "metadata": {
  "kernelspec": {
   "display_name": "Python 3 (ipykernel)",
   "language": "python",
   "name": "python3"
  },
  "language_info": {
   "codemirror_mode": {
    "name": "ipython",
    "version": 3
   },
   "file_extension": ".py",
   "mimetype": "text/x-python",
   "name": "python",
   "nbconvert_exporter": "python",
   "pygments_lexer": "ipython3",
   "version": "3.11.12"
  }
 },
 "nbformat": 4,
 "nbformat_minor": 5
}
