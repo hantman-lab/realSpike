{
 "cells": [
  {
   "cell_type": "markdown",
   "id": "9970bf67-5c50-45ba-8cfd-53e3c2f0d108",
   "metadata": {},
   "source": [
    "# Notebook for compiling necessary data for doing dimensionality reduction\n",
    "- [ ] get AP bin file\n",
    "- [ ] get trial time starts and stim times\n",
    "- [ ] behavior classification?"
   ]
  },
  {
   "cell_type": "code",
   "execution_count": null,
   "id": "ceee54e2-3382-490c-99cb-4bbf25a0f9de",
   "metadata": {},
   "outputs": [],
   "source": []
  },
  {
   "cell_type": "code",
   "execution_count": null,
   "id": "9b1aba82-667f-422a-bfcb-ff16e7e01dd6",
   "metadata": {},
   "outputs": [],
   "source": []
  }
 ],
 "metadata": {
  "kernelspec": {
   "display_name": "Python 3 (ipykernel)",
   "language": "python",
   "name": "python3"
  },
  "language_info": {
   "codemirror_mode": {
    "name": "ipython",
    "version": 3
   },
   "file_extension": ".py",
   "mimetype": "text/x-python",
   "name": "python",
   "nbconvert_exporter": "python",
   "pygments_lexer": "ipython3",
   "version": "3.11.12"
  }
 },
 "nbformat": 4,
 "nbformat_minor": 5
}
