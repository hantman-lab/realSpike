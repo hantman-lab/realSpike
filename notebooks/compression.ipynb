{
 "cells": [
  {
   "cell_type": "markdown",
   "id": "d36b1206-9696-4d83-bb6d-a90f77a3f0a9",
   "metadata": {},
   "source": [
    "# Notebook for trying different compression options"
   ]
  },
  {
   "cell_type": "code",
   "execution_count": 17,
   "id": "4a6ca4f9-f188-411a-beca-c2ae812f8175",
   "metadata": {},
   "outputs": [],
   "source": [
    "import zlib\n",
    "import tifffile\n",
    "import time\n",
    "import pickle\n",
    "import scipy.signal\n",
    "import numpy as np\n",
    "import sys\n",
    "\n",
    "ZLIB_COMPRESSION_LEVEL = -1"
   ]
  },
  {
   "cell_type": "code",
   "execution_count": 2,
   "id": "40c6c445-d9e5-4db4-a9b9-e6858c29ac0b",
   "metadata": {},
   "outputs": [
    {
     "data": {
      "text/plain": [
       "(384, 3000001)"
      ]
     },
     "execution_count": 2,
     "metadata": {},
     "output_type": "execute_result"
    }
   ],
   "source": [
    "file_path = \"/home/clewis/repos/holo-nbs/rb26_20240111/raw_voltage_chunk.tif\"\n",
    "data = tifffile.memmap(file_path)\n",
    "data.shape"
   ]
  },
  {
   "cell_type": "code",
   "execution_count": 3,
   "id": "07694bfc-c3eb-4907-b2b2-4bc667bd08d9",
   "metadata": {},
   "outputs": [],
   "source": [
    "# define filter functions\n",
    "def butter(cutoff, fs, order=5, btype='high'):\n",
    "    nyq = 0.5 * fs\n",
    "    normal_cutoff = cutoff / nyq\n",
    "    b, a = scipy.signal.butter(order, normal_cutoff, btype=btype, analog=False)\n",
    "    return b, a\n",
    "\n",
    "\n",
    "def butter_filter(data, cutoff, fs, order=5, axis=-1, btype='high'):\n",
    "    b, a = butter(cutoff, fs, order=order, btype=btype)\n",
    "    y = scipy.signal.filtfilt(b, a, data, axis=axis)\n",
    "    return y"
   ]
  },
  {
   "cell_type": "code",
   "execution_count": 21,
   "id": "9d45b000-c87f-43be-bd6e-719462b8ac16",
   "metadata": {},
   "outputs": [],
   "source": [
    "d = data[:, :150]\n",
    "d = butter_filter(d, 1000, 30_000)"
   ]
  },
  {
   "cell_type": "code",
   "execution_count": 22,
   "id": "81df949f-5ef6-4108-aeed-f993b5b273d3",
   "metadata": {},
   "outputs": [
    {
     "data": {
      "text/plain": [
       "1.1920928955078125e-07"
      ]
     },
     "execution_count": 22,
     "metadata": {},
     "output_type": "execute_result"
    }
   ],
   "source": [
    "sys.getsizeof(d) / (2**30)"
   ]
  },
  {
   "cell_type": "markdown",
   "id": "c42fd4c1-11e9-4cd8-bab4-7211c8d75a98",
   "metadata": {},
   "source": [
    "# Using `zlib`"
   ]
  },
  {
   "cell_type": "markdown",
   "id": "776f89cf-61ea-4dc9-91a5-4faefb20256e",
   "metadata": {},
   "source": [
    "### Compressing"
   ]
  },
  {
   "cell_type": "code",
   "execution_count": 10,
   "id": "66b593a8-b675-41db-a783-44b049effcea",
   "metadata": {},
   "outputs": [
    {
     "name": "stdout",
     "output_type": "stream",
     "text": [
      "0.008260011672973633\n"
     ]
    }
   ],
   "source": [
    "t = time.time()\n",
    "dz = zlib.compress(\n",
    "            pickle.dumps(d, protocol=5), level=ZLIB_COMPRESSION_LEVEL\n",
    "        )\n",
    "print(time.time() - t)"
   ]
  },
  {
   "cell_type": "code",
   "execution_count": 19,
   "id": "0c7646ff-6e7c-40b0-ba01-9ee3e85d967e",
   "metadata": {},
   "outputs": [
    {
     "data": {
      "text/plain": [
       "0.0004132091999053955"
      ]
     },
     "execution_count": 19,
     "metadata": {},
     "output_type": "execute_result"
    }
   ],
   "source": [
    "sys.getsizeof(dz) / (2**30)"
   ]
  },
  {
   "cell_type": "markdown",
   "id": "c1fa386b-6602-401b-8f01-874ba35ead81",
   "metadata": {},
   "source": [
    "### Decompressing"
   ]
  },
  {
   "cell_type": "code",
   "execution_count": 11,
   "id": "4a521fb0-bb7f-4a67-a310-884ba18ff664",
   "metadata": {},
   "outputs": [
    {
     "name": "stdout",
     "output_type": "stream",
     "text": [
      "0.0040988922119140625\n"
     ]
    }
   ],
   "source": [
    "t = time.time()\n",
    "pickle.loads(zlib.decompress(dz))\n",
    "print(time.time() - t)"
   ]
  },
  {
   "cell_type": "markdown",
   "id": "884d0e38-a014-49b2-9390-808d95c1a02e",
   "metadata": {},
   "source": [
    "# Using straight `numpy`"
   ]
  },
  {
   "cell_type": "markdown",
   "id": "ae72f1c4-95e5-44b6-8de6-b7013ec1c552",
   "metadata": {},
   "source": [
    "### Compressing"
   ]
  },
  {
   "cell_type": "code",
   "execution_count": 24,
   "id": "e854b7f6-e041-442e-b589-1507dfcdfbeb",
   "metadata": {},
   "outputs": [
    {
     "ename": "AttributeError",
     "evalue": "'bytes' object has no attribute 'tobytes'",
     "output_type": "error",
     "traceback": [
      "\u001b[31m---------------------------------------------------------------------------\u001b[39m",
      "\u001b[31mAttributeError\u001b[39m                            Traceback (most recent call last)",
      "\u001b[36mCell\u001b[39m\u001b[36m \u001b[39m\u001b[32mIn[24]\u001b[39m\u001b[32m, line 2\u001b[39m\n\u001b[32m      1\u001b[39m t = time.time()\n\u001b[32m----> \u001b[39m\u001b[32m2\u001b[39m db = \u001b[43mpickle\u001b[49m\u001b[43m.\u001b[49m\u001b[43mdumps\u001b[49m\u001b[43m(\u001b[49m\u001b[43md\u001b[49m\u001b[43m,\u001b[49m\u001b[43m \u001b[49m\u001b[43mprotocol\u001b[49m\u001b[43m=\u001b[49m\u001b[32;43m5\u001b[39;49m\u001b[43m)\u001b[49m\u001b[43m.\u001b[49m\u001b[43mtobytes\u001b[49m()\n\u001b[32m      3\u001b[39m \u001b[38;5;28mprint\u001b[39m(time.time() - t)\n",
      "\u001b[31mAttributeError\u001b[39m: 'bytes' object has no attribute 'tobytes'"
     ]
    }
   ],
   "source": [
    "t = time.time()\n",
    "db = d.tobytes()\n",
    "print(time.time() - t)"
   ]
  },
  {
   "cell_type": "code",
   "execution_count": 23,
   "id": "f3f9c71e-db28-43d9-baa2-138d420ad626",
   "metadata": {},
   "outputs": [
    {
     "data": {
      "text/plain": [
       "0.0004291841760277748"
      ]
     },
     "execution_count": 23,
     "metadata": {},
     "output_type": "execute_result"
    }
   ],
   "source": [
    "sys.getsizeof(db) / (2**30)"
   ]
  },
  {
   "cell_type": "markdown",
   "id": "8d6b8bb6-a707-4513-a50c-24b0e4f3aaca",
   "metadata": {},
   "source": [
    "### Decompressing"
   ]
  },
  {
   "cell_type": "code",
   "execution_count": 27,
   "id": "bb98d38f-497f-4569-b3dc-5f70244d929e",
   "metadata": {},
   "outputs": [
    {
     "name": "stdout",
     "output_type": "stream",
     "text": [
      "9.059906005859375e-05\n"
     ]
    }
   ],
   "source": [
    "t = time.time()\n",
    "a = np.frombuffer(db).reshape(384, 150)\n",
    "print(time.time() - t)"
   ]
  },
  {
   "cell_type": "code",
   "execution_count": 26,
   "id": "5da0b536-4a15-4962-a646-029df1d498a7",
   "metadata": {},
   "outputs": [
    {
     "data": {
      "text/plain": [
       "(57600,)"
      ]
     },
     "execution_count": 26,
     "metadata": {},
     "output_type": "execute_result"
    }
   ],
   "source": [
    "a.shape"
   ]
  },
  {
   "cell_type": "code",
   "execution_count": null,
   "id": "40c45eff-2633-4071-8ee3-f1a7af5ecae7",
   "metadata": {},
   "outputs": [],
   "source": []
  },
  {
   "cell_type": "code",
   "execution_count": null,
   "id": "6b4f0c10-021f-4622-9504-61c0cf119e65",
   "metadata": {},
   "outputs": [],
   "source": []
  }
 ],
 "metadata": {
  "kernelspec": {
   "display_name": "Python 3 (ipykernel)",
   "language": "python",
   "name": "python3"
  },
  "language_info": {
   "codemirror_mode": {
    "name": "ipython",
    "version": 3
   },
   "file_extension": ".py",
   "mimetype": "text/x-python",
   "name": "python",
   "nbconvert_exporter": "python",
   "pygments_lexer": "ipython3",
   "version": "3.13.1"
  }
 },
 "nbformat": 4,
 "nbformat_minor": 5
}
