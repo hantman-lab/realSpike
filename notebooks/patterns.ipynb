{
 "cells": [
  {
   "cell_type": "markdown",
   "id": "83310dfe-898a-4d34-bc41-7ff38da3d8a0",
   "metadata": {},
   "source": [
    "# Notebook to generate the patterns into a numpy file for easy access"
   ]
  },
  {
   "cell_type": "code",
   "execution_count": 21,
   "id": "f6186a9b-8948-452f-83d5-96e2258eb350",
   "metadata": {},
   "outputs": [],
   "source": [
    "import h5py\n",
    "from scipy.ndimage import zoom\n",
    "import numpy as np\n",
    "import matplotlib.pyplot as plt"
   ]
  },
  {
   "cell_type": "code",
   "execution_count": 11,
   "id": "83f51b9c-204d-422e-a53f-54582a7f74bc",
   "metadata": {},
   "outputs": [],
   "source": [
    "f = h5py.File(\"/home/clewis/repos/holo-nbs/data/rb26_20240111_datastruct_pt2.mat\", \"r\")"
   ]
  },
  {
   "cell_type": "code",
   "execution_count": 12,
   "id": "730146ef-1ec0-4868-bb38-d2f3e1c9a874",
   "metadata": {},
   "outputs": [
    {
     "data": {
      "text/plain": [
       "['chan_spk',\n",
       " 'cue',\n",
       " 'cue_rec_time',\n",
       " 'cue_trial_time',\n",
       " 'depth_spk',\n",
       " 'field_id',\n",
       " 'field_size',\n",
       " 'full_field',\n",
       " 'laser',\n",
       " 'laser_rec_time',\n",
       " 'laser_trial_time',\n",
       " 'pattern_fill',\n",
       " 'pattern_id',\n",
       " 'pattern_xy',\n",
       " 'rates_laser',\n",
       " 'spikes_raw_laser',\n",
       " 'totTime',\n",
       " 'trial_start',\n",
       " 'z_rates_laser',\n",
       " 'znorm_rates_laser']"
      ]
     },
     "execution_count": 12,
     "metadata": {},
     "output_type": "execute_result"
    }
   ],
   "source": [
    "list(f['data'].keys())"
   ]
  },
  {
   "cell_type": "code",
   "execution_count": 16,
   "id": "9814bd2f-5813-4139-be1a-ac43706508f9",
   "metadata": {},
   "outputs": [],
   "source": [
    "reshape_size = 13"
   ]
  },
  {
   "cell_type": "code",
   "execution_count": 19,
   "id": "12c5ab6d-3ecb-4dc2-9c77-f55b4a32f383",
   "metadata": {},
   "outputs": [],
   "source": [
    "pattern_ids = list(np.unique(f['data']['pattern_id']))\n",
    "interp_patterns = list()\n",
    "for p_id in pattern_ids:\n",
    "    ix = np.where(f['data']['pattern_id'] == p_id)[1][0].astype(np.int32)\n",
    "    pattern = np.zeros((f['data']['pattern_xy'][0][ix].astype(np.int32), f['data']['pattern_xy'][1][ix].astype(np.int32)))\n",
    "    # use the pattern fill to set elements to one\n",
    "    object_ref = f['data']['pattern_fill'][ix][0]\n",
    "    for x, y in zip(f[object_ref][0], f[object_ref][1]):\n",
    "        pattern[x.astype(np.int32)-1, y.astype(np.int32)-1] = 1\n",
    "\n",
    "    #all_patterns.append(pattern)\n",
    "\n",
    "    pattern = zoom(pattern, (reshape_size / pattern.shape[0], reshape_size / pattern.shape[1]), order=0)\n",
    "\n",
    "    interp_patterns.append(pattern)"
   ]
  },
  {
   "cell_type": "code",
   "execution_count": 20,
   "id": "8a5a4ce8-9295-4a32-95d7-09914727d2f3",
   "metadata": {},
   "outputs": [
    {
     "data": {
      "text/plain": [
       "(13, 13)"
      ]
     },
     "execution_count": 20,
     "metadata": {},
     "output_type": "execute_result"
    }
   ],
   "source": [
    "interp_patterns[0].shape"
   ]
  },
  {
   "cell_type": "code",
   "execution_count": 24,
   "id": "4fecfc15-7931-4027-824a-2d0b67ccfa93",
   "metadata": {},
   "outputs": [
    {
     "data": {
      "text/plain": [
       "<matplotlib.image.AxesImage at 0x7fe24c908690>"
      ]
     },
     "execution_count": 24,
     "metadata": {},
     "output_type": "execute_result"
    },
    {
     "data": {
      "image/png": "[encoded data removed]",
      "text/plain": [
       "<Figure size 640x480 with 1 Axes>"
      ]
     },
     "metadata": {},
     "output_type": "display_data"
    }
   ],
   "source": [
    "plt.imshow(interp_patterns[5])"
   ]
  },
  {
   "cell_type": "code",
   "execution_count": 25,
   "id": "10d959dc-e3d2-4f35-b5ee-f4b784e69c70",
   "metadata": {},
   "outputs": [
    {
     "data": {
      "text/plain": [
       "(29, 13, 13)"
      ]
     },
     "execution_count": 25,
     "metadata": {},
     "output_type": "execute_result"
    }
   ],
   "source": [
    "a = np.array(interp_patterns)\n",
    "a.shape"
   ]
  },
  {
   "cell_type": "code",
   "execution_count": 26,
   "id": "c283f62b-266d-4aea-941e-51d9276e0e61",
   "metadata": {},
   "outputs": [],
   "source": [
    "np.save(\"/home/clewis/repos/realSpike/real_spike/utils/patterns.npy\", a)"
   ]
  },
  {
   "cell_type": "code",
   "execution_count": 27,
   "id": "c3e5a006-2b36-4837-a1dd-05eb8df12ff1",
   "metadata": {},
   "outputs": [
    {
     "data": {
      "text/plain": [
       "(13, 13)"
      ]
     },
     "execution_count": 27,
     "metadata": {},
     "output_type": "execute_result"
    }
   ],
   "source": [
    "a[0].shape"
   ]
  },
  {
   "cell_type": "code",
   "execution_count": null,
   "id": "95db2bc9-c514-47e9-83eb-d26e9322bb1b",
   "metadata": {},
   "outputs": [],
   "source": []
  }
 ],
 "metadata": {
  "kernelspec": {
   "display_name": "Python 3 (ipykernel)",
   "language": "python",
   "name": "python3"
  },
  "language_info": {
   "codemirror_mode": {
    "name": "ipython",
    "version": 3
   },
   "file_extension": ".py",
   "mimetype": "text/x-python",
   "name": "python",
   "nbconvert_exporter": "python",
   "pygments_lexer": "ipython3",
   "version": "3.13.1"
  }
 },
 "nbformat": 4,
 "nbformat_minor": 5
}
