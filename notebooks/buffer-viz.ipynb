{
 "cells": [
  {
   "cell_type": "markdown",
   "id": "b7c3c1a5-b2b6-4f0e-83e3-aa6f56ac920b",
   "metadata": {},
   "source": [
    "# Notebook for visualizing streaming data using buffer"
   ]
  },
  {
   "cell_type": "code",
   "execution_count": 1,
   "id": "e8089b57-1d4e-437e-8d8a-1619a941abbd",
   "metadata": {},
   "outputs": [
    {
     "name": "stderr",
     "output_type": "stream",
     "text": [
      "Detected skylake derivative running on mesa i915. Clears to srgb textures will use manual shader clears.\n",
      "Detected skylake derivative running on mesa i915. Clears to srgb textures will use manual shader clears.\n",
      "Detected skylake derivative running on mesa i915. Clears to srgb textures will use manual shader clears.\n"
     ]
    },
    {
     "data": {
      "application/vnd.jupyter.widget-view+json": {
       "model_id": "7b523808169048d186ace5195657e1ec",
       "version_major": 2,
       "version_minor": 0
      },
      "text/plain": [
       "Image(value=b'version https://git-lfs.github.com/spec/...', height='55', width='300')"
      ]
     },
     "metadata": {},
     "output_type": "display_data"
    },
    {
     "data": {
      "text/html": [
       "<b>Available devices:</b><table><tr><th>Valid</th><th>Device</th><th>Type</th><th>Backend</th><th>Driver</th></tr><tr title=\"This adapter can be used with fastplotlib\"><td>✅</td><td>Intel(R) Arc(tm) Graphics (MTL)</td><td>IntegratedGPU</td><td>Vulkan</td><td>Mesa 25.0.4</td></tr><tr title=\"This adapter can be used with fastplotlib\"><td>✅ (default) </td><td>NVIDIA GeForce RTX 4060 Laptop GPU</td><td>DiscreteGPU</td><td>Vulkan</td><td>565.77</td></tr><tr title=\"CPU rendering support is limited and mainly for testing purposes\"><td>❗ limited</td><td>llvmpipe (LLVM 19.1.7, 256 bits)</td><td>CPU</td><td>Vulkan</td><td>Mesa 25.0.4 (LLVM 19.1.7)</td></tr><tr title=\"This adapter cannot be used with fastplotlib\"><td>❌</td><td>Mesa Intel(R) Arc(tm) Graphics (MTL)</td><td>IntegratedGPU</td><td>OpenGL</td><td>4.6 (Core Profile) Mesa 25.0.4</td></tr></table>"
      ],
      "text/plain": [
       "<IPython.core.display.HTML object>"
      ]
     },
     "metadata": {},
     "output_type": "display_data"
    },
    {
     "name": "stderr",
     "output_type": "stream",
     "text": [
      "Detected skylake derivative running on mesa i915. Clears to srgb textures will use manual shader clears.\n",
      "Detected skylake derivative running on mesa i915. Clears to srgb textures will use manual shader clears.\n"
     ]
    }
   ],
   "source": [
    "import fastplotlib as fpl \n",
    "import numpy as np\n",
    "import zmq\n",
    "import tifffile\n",
    "import scipy\n",
    "import queue "
   ]
  },
  {
   "cell_type": "markdown",
   "id": "7bb8c7b2-bbc5-43d6-a140-611d8a28b002",
   "metadata": {},
   "source": [
    "# Create a visualization queue"
   ]
  },
  {
   "cell_type": "code",
   "execution_count": 2,
   "id": "f860bb6c-3a74-4510-a9ba-91d00e42a02b",
   "metadata": {},
   "outputs": [],
   "source": [
    "viz_queue = queue.Queue(maxsize=500)"
   ]
  },
  {
   "cell_type": "markdown",
   "id": "920c96ba-0964-44ff-9f8f-99e85419a98e",
   "metadata": {},
   "source": [
    "# Calculate seeded median"
   ]
  },
  {
   "cell_type": "code",
   "execution_count": 3,
   "id": "22950a49-9c9c-428c-9122-afd076c7e57a",
   "metadata": {},
   "outputs": [
    {
     "data": {
      "text/plain": [
       "(384, 3000001)"
      ]
     },
     "execution_count": 3,
     "metadata": {},
     "output_type": "execute_result"
    }
   ],
   "source": [
    "file_path = \"/home/clewis/repos/holo-nbs/rb26_20240111/raw_voltage_chunk.tif\"\n",
    "data = tifffile.memmap(file_path)\n",
    "data.shape"
   ]
  },
  {
   "cell_type": "code",
   "execution_count": 4,
   "id": "613a97f1-5647-440d-b677-826469f9df6e",
   "metadata": {},
   "outputs": [],
   "source": [
    "# define filter functions\n",
    "def butter(cutoff, fs, order=5, btype='high'):\n",
    "    nyq = 0.5 * fs\n",
    "    normal_cutoff = cutoff / nyq\n",
    "    b, a = scipy.signal.butter(order, normal_cutoff, btype=btype, analog=False)\n",
    "    return b, a\n",
    "\n",
    "\n",
    "def butter_filter(data, cutoff, fs, order=5, axis=-1, btype='high'):\n",
    "    b, a = butter(cutoff, fs, order=order, btype=btype)\n",
    "    y = scipy.signal.filtfilt(b, a, data, axis=axis)\n",
    "    return y"
   ]
  },
  {
   "cell_type": "code",
   "execution_count": 5,
   "id": "bd2a3da1-23e1-4c6a-b281-354801271b2d",
   "metadata": {},
   "outputs": [],
   "source": [
    "median = np.median(butter_filter(data[:, :4000], 1_000, 30_000), axis=1)"
   ]
  },
  {
   "cell_type": "markdown",
   "id": "6c4ad26f-7c15-4ab6-acd1-7f3415debe9c",
   "metadata": {},
   "source": [
    "# Setup zmq subscriber"
   ]
  },
  {
   "cell_type": "code",
   "execution_count": 6,
   "id": "c2f02187-67f0-41ae-8eaf-bc99eb981cc2",
   "metadata": {},
   "outputs": [
    {
     "data": {
      "text/plain": [
       "<SocketContext(connect='tcp://127.0.0.1:5557')>"
      ]
     },
     "execution_count": 6,
     "metadata": {},
     "output_type": "execute_result"
    }
   ],
   "source": [
    "context = zmq.Context()\n",
    "sub = context.socket(zmq.SUB)\n",
    "sub.setsockopt(zmq.SUBSCRIBE, b\"\")\n",
    "\n",
    "# keep only the most recent message\n",
    "sub.setsockopt(zmq.CONFLATE, 1)\n",
    "\n",
    "# address must match publisher in actor\n",
    "sub.connect(\"tcp://127.0.0.1:5557\")"
   ]
  },
  {
   "cell_type": "code",
   "execution_count": 7,
   "id": "c9596b45-2722-4cb7-bcf5-0832879a7b6b",
   "metadata": {},
   "outputs": [],
   "source": [
    "def get_buffer():\n",
    "    \"\"\"Gets the buffer from the publisher.\"\"\"\n",
    "    try:\n",
    "        b = sub.recv(zmq.NOBLOCK)\n",
    "    except zmq.Again:\n",
    "        pass\n",
    "    else:\n",
    "        return b\n",
    "    \n",
    "    return None"
   ]
  },
  {
   "cell_type": "markdown",
   "id": "07581818-9478-44f8-b431-0e9f47e67505",
   "metadata": {},
   "source": [
    "# Helper functions"
   ]
  },
  {
   "cell_type": "code",
   "execution_count": 8,
   "id": "97661bf1-9e46-47ab-8f5a-629819cd43ad",
   "metadata": {},
   "outputs": [],
   "source": [
    "def get_spike_events(data: np.ndarray, n_deviations: int = 4):\n",
    "    \"\"\"\n",
    "    Calculates the median and MAD estimator. Returns a list of indices along each channel where\n",
    "    threshold crossing is made (above absolute value of median + (n_deviations * MAD).\n",
    "    \"\"\"\n",
    "    global median\n",
    "        \n",
    "    mad = scipy.stats.median_abs_deviation(data, axis=1)\n",
    "\n",
    "    thresh = (n_deviations * mad) + median\n",
    "\n",
    "    abs_data = np.abs(data)\n",
    "\n",
    "    # Find indices where threshold is crossed for each channel\n",
    "    indices = [np.where(abs_data[i] > thresh[i])[0] for i in range(data.shape[0])]\n",
    "\n",
    "    return indices"
   ]
  },
  {
   "cell_type": "markdown",
   "id": "09a9a45c-3118-42f0-8cb6-6d93a747b5bc",
   "metadata": {},
   "source": [
    "# Create figure"
   ]
  },
  {
   "cell_type": "code",
   "execution_count": 9,
   "id": "963fe149-2db0-4ed9-bd83-6c6b3a16b7bf",
   "metadata": {},
   "outputs": [
    {
     "data": {
      "application/vnd.jupyter.widget-view+json": {
       "model_id": "7f9b8746d1054bf783ba1fa59f3f995d",
       "version_major": 2,
       "version_minor": 0
      },
      "text/plain": [
       "RFBOutputContext()"
      ]
     },
     "metadata": {},
     "output_type": "display_data"
    },
    {
     "name": "stderr",
     "output_type": "stream",
     "text": [
      "Detected skylake derivative running on mesa i915. Clears to srgb textures will use manual shader clears.\n"
     ]
    }
   ],
   "source": [
    "# rects = [\n",
    "#     (0, 0, 0.5, 1),  # for image1\n",
    "#     (0.5, 0, 0.5, 1),  # for image2\n",
    "# ]\n",
    "\n",
    "figure = fpl.Figure(size=(1000, 900), names=[\"filtered spikes\"])\n",
    "\n",
    "for subplot in figure:\n",
    "    subplot.axes.visible = False\n",
    "    subplot.camera.maintain_aspect = False"
   ]
  },
  {
   "cell_type": "code",
   "execution_count": 10,
   "id": "e01a94a5-8d75-43a6-9e87-90267acc86c9",
   "metadata": {},
   "outputs": [],
   "source": [
    "def update():\n",
    "    global viz_queue\n",
    "    global figure\n",
    "\n",
    "    data = viz_queue.get()\n",
    "    \n",
    "    ixs = get_spike_events(data)\n",
    "\n",
    "\n",
    "    if len(figure[\"filtered spikes\"].graphics) == 0:\n",
    "        lg = figure[\"filtered spikes\"].add_line_stack(data, colors=\"gray\", thickness=0.5, separation=35, name=\"lg\")\n",
    "    else:\n",
    "        lg = figure[\"filtered spikes\"][\"lg\"]\n",
    "        lg.colors = \"gray\"\n",
    "        # add filtered spikes\n",
    "        for i in range(lg.data[:].shape[0]):\n",
    "            lg[i].data[:, 1] = data[i]\n",
    "\n",
    "\n",
    "    # color each spike event orange\n",
    "    for i in range(len(ixs)):\n",
    "        if ixs[i].shape[0] == 0:\n",
    "            continue\n",
    "        lg[i].colors[ixs[i]] = \"orange\"\n",
    "\n",
    "\n",
    "    for subplot in figure:\n",
    "        subplot.auto_scale()"
   ]
  },
  {
   "cell_type": "code",
   "execution_count": 11,
   "id": "6bbe3525-2a19-43f9-bc14-4a716e9a3736",
   "metadata": {},
   "outputs": [],
   "source": [
    "def update_figure(p):\n",
    "    \"\"\"Update the frame using data received from the socket.\"\"\"\n",
    "    global viz_queue\n",
    "    buff = get_buffer()\n",
    "    if buff is not None:\n",
    "        # Deserialize the buffer into a NumPy array\n",
    "        data = np.frombuffer(buff, dtype=np.float64)\n",
    "\n",
    "        data = data.reshape(384, 150)\n",
    "\n",
    "        viz_queue.put(data)\n",
    "\n",
    "        if viz_queue.qsize() % 5 == 0:\n",
    "            update()"
   ]
  },
  {
   "cell_type": "code",
   "execution_count": 12,
   "id": "144e87f6-b322-421e-95b9-583d3bcbbf56",
   "metadata": {},
   "outputs": [
    {
     "data": {
      "application/vnd.jupyter.widget-view+json": {
       "model_id": "91ccc2d92bbe424991285c5ecc17aa55",
       "version_major": 2,
       "version_minor": 0
      },
      "text/html": [
       "<div class='snapshot-91ccc2d92bbe424991285c5ecc17aa55' style='position:relative;'><img src='data:image/png;base64,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' style='width:1000.0px;height:900.0px;' /><div style='position: absolute; top:0; left:0; padding:1px 3px; background: #777; color:#fff; font-size: 90%; font-family:sans-serif; '>snapshot</div></div>"
      ],
      "text/plain": [
       "JupyterRenderCanvas(css_height='900.0px', css_width='1000.0px')"
      ]
     },
     "execution_count": 12,
     "metadata": {},
     "output_type": "execute_result"
    }
   ],
   "source": [
    "figure.show()"
   ]
  },
  {
   "cell_type": "code",
   "execution_count": 13,
   "id": "9260e786-54d8-4a88-bf54-e40d0548b8af",
   "metadata": {},
   "outputs": [],
   "source": [
    "# Add the animation update function\n",
    "figure.add_animations(update_figure)"
   ]
  },
  {
   "cell_type": "code",
   "execution_count": null,
   "id": "9304d298-362e-4102-9324-ba00cf459e6b",
   "metadata": {},
   "outputs": [],
   "source": []
  },
  {
   "cell_type": "code",
   "execution_count": null,
   "id": "8b57dd22-aedf-4ac3-90d6-46c5ebd538b2",
   "metadata": {},
   "outputs": [],
   "source": []
  },
  {
   "cell_type": "code",
   "execution_count": null,
   "id": "ead748df-7bd2-412e-82f5-63477d4866cb",
   "metadata": {},
   "outputs": [],
   "source": []
  },
  {
   "cell_type": "code",
   "execution_count": null,
   "id": "eea286ef-fb74-4f26-96bf-bc8de44dd0c4",
   "metadata": {},
   "outputs": [],
   "source": []
  },
  {
   "cell_type": "code",
   "execution_count": null,
   "id": "2cbf9e1b-7b6f-4e4a-bcdc-159cfc609f99",
   "metadata": {},
   "outputs": [],
   "source": []
  }
 ],
 "metadata": {
  "kernelspec": {
   "display_name": "Python 3 (ipykernel)",
   "language": "python",
   "name": "python3"
  },
  "language_info": {
   "codemirror_mode": {
    "name": "ipython",
    "version": 3
   },
   "file_extension": ".py",
   "mimetype": "text/x-python",
   "name": "python",
   "nbconvert_exporter": "python",
   "pygments_lexer": "ipython3",
   "version": "3.11.12"
  }
 },
 "nbformat": 4,
 "nbformat_minor": 5
}
