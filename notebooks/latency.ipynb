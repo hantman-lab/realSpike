{
 "cells": [
  {
   "cell_type": "markdown",
   "id": "c8f3575e-3092-47ac-bc0f-afa4c4b4f34b",
   "metadata": {},
   "source": [
    "# Notebook for checking latency"
   ]
  },
  {
   "cell_type": "code",
   "execution_count": 1,
   "id": "ebf3d202-2fef-4962-9f3d-053d900c79b9",
   "metadata": {},
   "outputs": [],
   "source": [
    "# each actor gets there own latency dataframe to check the time of the run step\n",
    "# concatenate frames together to get total latency for a given frame "
   ]
  },
  {
   "cell_type": "code",
   "execution_count": 2,
   "id": "5975dc62-38c1-4523-a019-bf16b9679ddf",
   "metadata": {},
   "outputs": [],
   "source": [
    "import pandas as pd\n",
    "import matplotlib.pyplot as plt\n",
    "import numpy as np"
   ]
  },
  {
   "cell_type": "markdown",
   "id": "d8856b07-ede4-4a9f-b32f-e24cbefab2d6",
   "metadata": {},
   "source": [
    "# with spike counts included"
   ]
  },
  {
   "cell_type": "code",
   "execution_count": 3,
   "id": "d6390ef1-1df5-4bd0-862b-3744bb35807c",
   "metadata": {},
   "outputs": [],
   "source": [
    "gen_df = pd.read_pickle(\"../latency/generator_latency.pkl\")\n",
    "processor_df = pd.read_pickle(\"../latency/processor_latency.pkl\")\n",
    "viz_df = pd.read_pickle(\"../latency/visual_latency.pkl\")\n",
    "pattern_df =  pd.read_pickle(\"../latency/pattern_latency.pkl\")\n",
    "model_df =  pd.read_pickle(\"../latency/model_latency.pkl\")"
   ]
  },
  {
   "cell_type": "markdown",
   "id": "272f3fa8-0721-45b0-8504-2fda9eb22fd4",
   "metadata": {},
   "source": [
    "## Generator Latency"
   ]
  },
  {
   "cell_type": "code",
   "execution_count": 4,
   "id": "a7b463a4-bd4b-4120-b007-398c9edcfc84",
   "metadata": {},
   "outputs": [],
   "source": [
    "x = list(gen_df[\"frame number\"])\n",
    "y = list(gen_df[\"latency\"])"
   ]
  },
  {
   "cell_type": "code",
   "execution_count": 5,
   "id": "19556404-c323-428d-85d8-68fcd419fad5",
   "metadata": {},
   "outputs": [
    {
     "name": "stdout",
     "output_type": "stream",
     "text": [
      "0.7740720989010982\n"
     ]
    }
   ],
   "source": [
    "print(sum(y) / len(y))"
   ]
  },
  {
   "cell_type": "code",
   "execution_count": 6,
   "id": "2d83fc17-8be3-4120-b9b5-adba44f5af60",
   "metadata": {},
   "outputs": [
    {
     "data": {
      "text/plain": [
       "Text(0.5, 1.0, 'Generator Latency')"
      ]
     },
     "execution_count": 6,
     "metadata": {},
     "output_type": "execute_result"
    },
    {
     "data": {
      "image/png": "[encoded data removed]",
      "text/plain": [
       "<Figure size 640x480 with 1 Axes>"
      ]
     },
     "metadata": {},
     "output_type": "display_data"
    }
   ],
   "source": [
    "plt.hist(y)\n",
    "plt.ylabel(\"count\")\n",
    "plt.xlabel(\"time (ms)\")\n",
    "plt.title(\"Generator Latency\")"
   ]
  },
  {
   "cell_type": "code",
   "execution_count": 7,
   "id": "d482aa02-d70e-4335-a323-ae948278ecac",
   "metadata": {},
   "outputs": [
    {
     "data": {
      "text/html": [
       "<div>\n",
       "<style scoped>\n",
       "    .dataframe tbody tr th:only-of-type {\n",
       "        vertical-align: middle;\n",
       "    }\n",
       "\n",
       "    .dataframe tbody tr th {\n",
       "        vertical-align: top;\n",
       "    }\n",
       "\n",
       "    .dataframe thead th {\n",
       "        text-align: right;\n",
       "    }\n",
       "</style>\n",
       "<table border=\"1\" class=\"dataframe\">\n",
       "  <thead>\n",
       "    <tr style=\"text-align: right;\">\n",
       "      <th></th>\n",
       "      <th>frame number</th>\n",
       "      <th>latency</th>\n",
       "    </tr>\n",
       "  </thead>\n",
       "  <tbody>\n",
       "    <tr>\n",
       "      <th>0</th>\n",
       "      <td>27.0</td>\n",
       "      <td>22.161398</td>\n",
       "    </tr>\n",
       "    <tr>\n",
       "      <th>1</th>\n",
       "      <td>28.0</td>\n",
       "      <td>6.402532</td>\n",
       "    </tr>\n",
       "    <tr>\n",
       "      <th>2</th>\n",
       "      <td>29.0</td>\n",
       "      <td>4.800190</td>\n",
       "    </tr>\n",
       "    <tr>\n",
       "      <th>3</th>\n",
       "      <td>30.0</td>\n",
       "      <td>5.379359</td>\n",
       "    </tr>\n",
       "    <tr>\n",
       "      <th>4</th>\n",
       "      <td>31.0</td>\n",
       "      <td>3.781980</td>\n",
       "    </tr>\n",
       "    <tr>\n",
       "      <th>...</th>\n",
       "      <td>...</td>\n",
       "      <td>...</td>\n",
       "    </tr>\n",
       "    <tr>\n",
       "      <th>969</th>\n",
       "      <td>996.0</td>\n",
       "      <td>5.050054</td>\n",
       "    </tr>\n",
       "    <tr>\n",
       "      <th>970</th>\n",
       "      <td>997.0</td>\n",
       "      <td>5.930262</td>\n",
       "    </tr>\n",
       "    <tr>\n",
       "      <th>971</th>\n",
       "      <td>998.0</td>\n",
       "      <td>5.940073</td>\n",
       "    </tr>\n",
       "    <tr>\n",
       "      <th>972</th>\n",
       "      <td>999.0</td>\n",
       "      <td>6.349794</td>\n",
       "    </tr>\n",
       "    <tr>\n",
       "      <th>973</th>\n",
       "      <td>1000.0</td>\n",
       "      <td>3.863138</td>\n",
       "    </tr>\n",
       "  </tbody>\n",
       "</table>\n",
       "<p>974 rows × 2 columns</p>\n",
       "</div>"
      ],
      "text/plain": [
       "     frame number    latency\n",
       "0            27.0  22.161398\n",
       "1            28.0   6.402532\n",
       "2            29.0   4.800190\n",
       "3            30.0   5.379359\n",
       "4            31.0   3.781980\n",
       "..            ...        ...\n",
       "969         996.0   5.050054\n",
       "970         997.0   5.930262\n",
       "971         998.0   5.940073\n",
       "972         999.0   6.349794\n",
       "973        1000.0   3.863138\n",
       "\n",
       "[974 rows x 2 columns]"
      ]
     },
     "execution_count": 7,
     "metadata": {},
     "output_type": "execute_result"
    }
   ],
   "source": [
    "processor_df"
   ]
  },
  {
   "cell_type": "markdown",
   "id": "03e451d7-3279-488b-925a-e03bb1073bf2",
   "metadata": {},
   "source": [
    "## Processor Latency"
   ]
  },
  {
   "cell_type": "code",
   "execution_count": 8,
   "id": "f908ea25-e434-4f7f-9190-92b0cc907267",
   "metadata": {},
   "outputs": [],
   "source": [
    "x = list(processor_df[\"frame number\"])\n",
    "y = list(processor_df[\"latency\"])"
   ]
  },
  {
   "cell_type": "code",
   "execution_count": 9,
   "id": "fc50b3ab-1f46-4f2f-afef-7eae3779f60b",
   "metadata": {},
   "outputs": [
    {
     "name": "stdout",
     "output_type": "stream",
     "text": [
      "5.82022735728953\n"
     ]
    }
   ],
   "source": [
    "print(sum(y) / len(y))"
   ]
  },
  {
   "cell_type": "code",
   "execution_count": 10,
   "id": "49dd6bed-018b-44ba-a2a6-3853e438e260",
   "metadata": {},
   "outputs": [
    {
     "data": {
      "text/plain": [
       "Text(0.5, 1.0, 'Processing Time')"
      ]
     },
     "execution_count": 10,
     "metadata": {},
     "output_type": "execute_result"
    },
    {
     "data": {
      "image/png": "[encoded data removed]",
      "text/plain": [
       "<Figure size 640x480 with 1 Axes>"
      ]
     },
     "metadata": {},
     "output_type": "display_data"
    }
   ],
   "source": [
    "plt.hist(y)\n",
    "plt.ylabel(\"count\")\n",
    "plt.xlabel(\"time (ms)\")\n",
    "plt.title(\"Processing Time\")"
   ]
  },
  {
   "cell_type": "markdown",
   "id": "c11ec99a-53db-4d15-ac14-fda6716e5432",
   "metadata": {},
   "source": [
    "## Visual Latency"
   ]
  },
  {
   "cell_type": "code",
   "execution_count": 11,
   "id": "d8e233a6-66d6-4c0b-9616-00f29fabcd0a",
   "metadata": {},
   "outputs": [],
   "source": [
    "x = list(viz_df[\"frame number\"])\n",
    "y = list(viz_df[\"latency\"])"
   ]
  },
  {
   "cell_type": "code",
   "execution_count": 12,
   "id": "5bd9d50e-6c1b-46a0-9e85-1f418dcf7176",
   "metadata": {},
   "outputs": [
    {
     "name": "stdout",
     "output_type": "stream",
     "text": [
      "0.8353091776180696\n"
     ]
    }
   ],
   "source": [
    "print(sum(y) / len(y))"
   ]
  },
  {
   "cell_type": "code",
   "execution_count": 13,
   "id": "d202b7dc-b45a-4581-a772-d20b0dc79830",
   "metadata": {},
   "outputs": [
    {
     "data": {
      "text/plain": [
       "Text(0.5, 1.0, 'Visual Latency')"
      ]
     },
     "execution_count": 13,
     "metadata": {},
     "output_type": "execute_result"
    },
    {
     "data": {
      "image/png": "[encoded data removed]",
      "text/plain": [
       "<Figure size 640x480 with 1 Axes>"
      ]
     },
     "metadata": {},
     "output_type": "display_data"
    }
   ],
   "source": [
    "plt.hist(y)\n",
    "plt.ylabel(\"count\")\n",
    "plt.xlabel(\"time (ms)\")\n",
    "plt.title(\"Visual Latency\")"
   ]
  },
  {
   "cell_type": "markdown",
   "id": "cfb95ddc-4887-42a2-931e-1a2a74221e05",
   "metadata": {},
   "source": [
    "## Pattern Generation Latency"
   ]
  },
  {
   "cell_type": "code",
   "execution_count": 14,
   "id": "1f30db52-024d-4c5f-a73e-b2770ae74177",
   "metadata": {},
   "outputs": [],
   "source": [
    "x = list(pattern_df[\"frame number\"])\n",
    "y = list(pattern_df[\"latency\"])"
   ]
  },
  {
   "cell_type": "code",
   "execution_count": 15,
   "id": "6e94f550-bc85-4b96-807e-08d326fd17a3",
   "metadata": {},
   "outputs": [
    {
     "name": "stdout",
     "output_type": "stream",
     "text": [
      "0.2115192802874746\n"
     ]
    }
   ],
   "source": [
    "print(sum(y) / len(y))"
   ]
  },
  {
   "cell_type": "code",
   "execution_count": 16,
   "id": "185d044e-c51a-4fdd-8103-a99b595c8571",
   "metadata": {},
   "outputs": [
    {
     "data": {
      "text/plain": [
       "Text(0.5, 1.0, 'Pattern Generation Latency')"
      ]
     },
     "execution_count": 16,
     "metadata": {},
     "output_type": "execute_result"
    },
    {
     "data": {
      "image/png": "[encoded data removed]",
      "text/plain": [
       "<Figure size 640x480 with 1 Axes>"
      ]
     },
     "metadata": {},
     "output_type": "display_data"
    }
   ],
   "source": [
    "plt.hist(y)\n",
    "plt.ylabel(\"count\")\n",
    "plt.xlabel(\"time (ms)\")\n",
    "plt.title(\"Pattern Generation Latency\")"
   ]
  },
  {
   "cell_type": "markdown",
   "id": "b66ec6be-fb9b-4860-83b7-f13eb8763060",
   "metadata": {},
   "source": [
    "## Model Latency"
   ]
  },
  {
   "cell_type": "code",
   "execution_count": 17,
   "id": "293e0093-56d0-4dad-84df-60d78323e40b",
   "metadata": {},
   "outputs": [],
   "source": [
    "x = list(model_df[\"frame number\"])\n",
    "y = list(model_df[\"latency\"])"
   ]
  },
  {
   "cell_type": "code",
   "execution_count": 18,
   "id": "72122111-c7cb-4b97-9b16-a57d5628dd5d",
   "metadata": {},
   "outputs": [
    {
     "name": "stdout",
     "output_type": "stream",
     "text": [
      "1.0459433059548249\n"
     ]
    }
   ],
   "source": [
    "print(sum(y) / len(y))"
   ]
  },
  {
   "cell_type": "code",
   "execution_count": 19,
   "id": "353e12c5-751b-4655-a6e9-8ebf00c34e09",
   "metadata": {},
   "outputs": [
    {
     "data": {
      "text/plain": [
       "Text(0.5, 1.0, 'Model Latency')"
      ]
     },
     "execution_count": 19,
     "metadata": {},
     "output_type": "execute_result"
    },
    {
     "data": {
      "image/png": "[encoded data removed]",
      "text/plain": [
       "<Figure size 640x480 with 1 Axes>"
      ]
     },
     "metadata": {},
     "output_type": "display_data"
    }
   ],
   "source": [
    "plt.hist(y)\n",
    "plt.ylabel(\"count\")\n",
    "plt.xlabel(\"time (ms)\")\n",
    "plt.title(\"Model Latency\")"
   ]
  },
  {
   "cell_type": "code",
   "execution_count": null,
   "id": "b9e8f56c-d224-4223-a33f-af139209b974",
   "metadata": {},
   "outputs": [],
   "source": []
  },
  {
   "cell_type": "markdown",
   "id": "5cc5b7d7-cd57-423f-95fc-7de127a702aa",
   "metadata": {},
   "source": [
    "## Total Latency"
   ]
  },
  {
   "cell_type": "code",
   "execution_count": 20,
   "id": "a27f1d4f-cd6c-4e8f-b818-5cd1c802c7c0",
   "metadata": {},
   "outputs": [],
   "source": [
    "gen_y = list(gen_df[\"latency\"])[27:]"
   ]
  },
  {
   "cell_type": "code",
   "execution_count": 21,
   "id": "42d4feea-8046-4467-98f2-32a031c9d7c3",
   "metadata": {},
   "outputs": [],
   "source": [
    "proc_y = list(processor_df[\"latency\"])[27:]"
   ]
  },
  {
   "cell_type": "code",
   "execution_count": 22,
   "id": "33648453-6800-4575-9aae-8091116552d3",
   "metadata": {},
   "outputs": [],
   "source": [
    "viz_y =  list(viz_df[\"latency\"])[27:]"
   ]
  },
  {
   "cell_type": "code",
   "execution_count": 23,
   "id": "406f37e2-0452-496d-8a56-ded4c08f505e",
   "metadata": {},
   "outputs": [],
   "source": [
    "pattern_y = list(pattern_df[\"latency\"])[27:]\n",
    "model_y = list(model_df[\"latency\"])[27:]"
   ]
  },
  {
   "cell_type": "code",
   "execution_count": 24,
   "id": "185674e7-79ef-4145-bde1-9614c06bed55",
   "metadata": {},
   "outputs": [],
   "source": [
    "total_latency = [x + y + z + a + b for x, y, z, a, b in zip(gen_y, proc_y, viz_y, pattern_y, model_y)]"
   ]
  },
  {
   "cell_type": "code",
   "execution_count": 25,
   "id": "c0563fac-2115-4823-b1e0-7ad4d43430ee",
   "metadata": {},
   "outputs": [
    {
     "data": {
      "text/plain": [
       "Text(0.5, 1.0, 'Total Latency')"
      ]
     },
     "execution_count": 25,
     "metadata": {},
     "output_type": "execute_result"
    },
    {
     "data": {
      "image/png": "[encoded data removed]",
      "text/plain": [
       "<Figure size 640x480 with 1 Axes>"
      ]
     },
     "metadata": {},
     "output_type": "display_data"
    }
   ],
   "source": [
    "plt.hist(total_latency)\n",
    "plt.ylabel(\"count\")\n",
    "plt.xlabel(\"time (ms)\")\n",
    "plt.title(\"Total Latency\")"
   ]
  },
  {
   "cell_type": "code",
   "execution_count": 26,
   "id": "ecebce18-398e-4205-b923-ac8675cbee95",
   "metadata": {},
   "outputs": [
    {
     "data": {
      "text/plain": [
       "8.682589704329468"
      ]
     },
     "execution_count": 26,
     "metadata": {},
     "output_type": "execute_result"
    }
   ],
   "source": [
    "sum(total_latency) / len(total_latency)"
   ]
  },
  {
   "cell_type": "code",
   "execution_count": null,
   "id": "6b41a029-bc4f-4686-8565-9d668899aab3",
   "metadata": {},
   "outputs": [],
   "source": []
  },
  {
   "cell_type": "code",
   "execution_count": null,
   "id": "f9b460fa-deca-4069-854f-98de33b418bf",
   "metadata": {},
   "outputs": [],
   "source": []
  },
  {
   "cell_type": "code",
   "execution_count": null,
   "id": "eba576cd-14fb-4863-ad39-f3404938943a",
   "metadata": {},
   "outputs": [],
   "source": []
  }
 ],
 "metadata": {
  "kernelspec": {
   "display_name": "Python 3 (ipykernel)",
   "language": "python",
   "name": "python3"
  },
  "language_info": {
   "codemirror_mode": {
    "name": "ipython",
    "version": 3
   },
   "file_extension": ".py",
   "mimetype": "text/x-python",
   "name": "python",
   "nbconvert_exporter": "python",
   "pygments_lexer": "ipython3",
   "version": "3.11.12"
  }
 },
 "nbformat": 4,
 "nbformat_minor": 5
}
