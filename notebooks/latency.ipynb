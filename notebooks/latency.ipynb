{
 "cells": [
  {
   "cell_type": "markdown",
   "id": "c8f3575e-3092-47ac-bc0f-afa4c4b4f34b",
   "metadata": {},
   "source": [
    "# Notebook for checking latency"
   ]
  },
  {
   "cell_type": "code",
   "execution_count": null,
   "id": "ebf3d202-2fef-4962-9f3d-053d900c79b9",
   "metadata": {},
   "outputs": [],
   "source": [
    "# each actor gets there own latency dataframe to check the time of the run step\n",
    "# concatenate frames together to get total latency for a given frame "
   ]
  },
  {
   "cell_type": "code",
   "execution_count": 1,
   "id": "5975dc62-38c1-4523-a019-bf16b9679ddf",
   "metadata": {},
   "outputs": [],
   "source": [
    "import pandas as pd\n",
    "import matplotlib.pyplot as plt\n",
    "import numpy as np"
   ]
  },
  {
   "cell_type": "markdown",
   "id": "d8856b07-ede4-4a9f-b32f-e24cbefab2d6",
   "metadata": {},
   "source": [
    "# with spike counts included"
   ]
  },
  {
   "cell_type": "code",
   "execution_count": 11,
   "id": "d6390ef1-1df5-4bd0-862b-3744bb35807c",
   "metadata": {},
   "outputs": [],
   "source": [
    "gen_df = pd.read_pickle(\"../latency/generator_latency_20250520-192022.pkl\")\n",
    "processor_df = pd.read_pickle(\"../latency/processor_latency_20250520-192022.pkl\")\n",
    "viz_df = pd.read_pickle(\"../latency/visual_latency_20250520-192022.pkl\")"
   ]
  },
  {
   "cell_type": "markdown",
   "id": "f04610e3-60e5-4e40-a18c-8636cb511313",
   "metadata": {},
   "source": [
    "# without spike count calculation"
   ]
  },
  {
   "cell_type": "code",
   "execution_count": null,
   "id": "72d9367b-d31c-4674-8987-bcae6f02bd31",
   "metadata": {},
   "outputs": [],
   "source": [
    "gen_df = pd.read_pickle(\"../latency/generator_latency_20250520-182959.pkl\")\n",
    "processor_df = pd.read_pickle(\"../latency/processor_latency_20250520-182959.pkl\")\n",
    "viz_df = pd.read_pickle(\"../latency/visual_latency_20250520-182959.pkl\")"
   ]
  },
  {
   "cell_type": "code",
   "execution_count": null,
   "id": "37f03d61-2dbe-4324-aa37-9d5f6b449205",
   "metadata": {},
   "outputs": [],
   "source": [
    "gen_df"
   ]
  },
  {
   "cell_type": "code",
   "execution_count": null,
   "id": "a7b463a4-bd4b-4120-b007-398c9edcfc84",
   "metadata": {},
   "outputs": [],
   "source": [
    "x = list(gen_df[\"frame number\"])\n",
    "y = list(gen_df[\"latency\"])\n",
    "\n",
    "plt.figure(figsize=(14, 6))\n",
    "plt.scatter(x=x,y=y, s=3)\n",
    "plt.ylabel(\"latency (s)\")\n",
    "plt.xlabel(\"frame num\")\n",
    "plt.title(\"Generator Latency\")\n",
    "plt.show()"
   ]
  },
  {
   "cell_type": "code",
   "execution_count": null,
   "id": "19556404-c323-428d-85d8-68fcd419fad5",
   "metadata": {},
   "outputs": [],
   "source": [
    "print(sum(y) / len(y))"
   ]
  },
  {
   "cell_type": "code",
   "execution_count": null,
   "id": "2d83fc17-8be3-4120-b9b5-adba44f5af60",
   "metadata": {},
   "outputs": [],
   "source": [
    "plt.hist(y)\n",
    "plt.ylabel(\"count\")\n",
    "plt.xlabel(\"time (ms)\")\n",
    "plt.title(\"Generator Latency\")"
   ]
  },
  {
   "cell_type": "code",
   "execution_count": null,
   "id": "d482aa02-d70e-4335-a323-ae948278ecac",
   "metadata": {},
   "outputs": [],
   "source": [
    "processor_df"
   ]
  },
  {
   "cell_type": "code",
   "execution_count": null,
   "id": "f908ea25-e434-4f7f-9190-92b0cc907267",
   "metadata": {},
   "outputs": [],
   "source": [
    "x = list(processor_df[\"frame number\"])\n",
    "y = list(processor_df[\"latency\"])\n",
    "\n",
    "plt.figure(figsize=(14, 6))\n",
    "plt.scatter(x=x,y=y, s=3, c=\"red\")\n",
    "plt.ylabel(\"latency (ms)\")\n",
    "plt.xlabel(\"frame num\")\n",
    "plt.title(\"Processor Latency\")\n",
    "plt.show()"
   ]
  },
  {
   "cell_type": "code",
   "execution_count": null,
   "id": "fc50b3ab-1f46-4f2f-afef-7eae3779f60b",
   "metadata": {},
   "outputs": [],
   "source": [
    "print(sum(y) / len(y))"
   ]
  },
  {
   "cell_type": "code",
   "execution_count": null,
   "id": "49dd6bed-018b-44ba-a2a6-3853e438e260",
   "metadata": {},
   "outputs": [],
   "source": [
    "plt.hist(y)\n",
    "plt.ylabel(\"count\")\n",
    "plt.xlabel(\"time (ms)\")\n",
    "plt.title(\"Processing Time\")"
   ]
  },
  {
   "cell_type": "code",
   "execution_count": null,
   "id": "82fe7f1a-43f8-45d9-b2e9-c1d02c0dd565",
   "metadata": {},
   "outputs": [],
   "source": [
    "x = list(viz_df[\"frame number\"])\n",
    "y = list(viz_df[\"latency\"])\n",
    "\n",
    "plt.figure(figsize=(14, 6))\n",
    "plt.scatter(x=x,y=y, s=3, c=\"green\")\n",
    "plt.ylabel(\"latency (s)\")\n",
    "plt.xlabel(\"frame num\")\n",
    "plt.title(\"Visual Latency\")\n",
    "plt.show()"
   ]
  },
  {
   "cell_type": "code",
   "execution_count": null,
   "id": "5bd9d50e-6c1b-46a0-9e85-1f418dcf7176",
   "metadata": {},
   "outputs": [],
   "source": [
    "print(sum(y) / len(y))"
   ]
  },
  {
   "cell_type": "code",
   "execution_count": null,
   "id": "d202b7dc-b45a-4581-a772-d20b0dc79830",
   "metadata": {},
   "outputs": [],
   "source": [
    "plt.hist(y)\n",
    "plt.ylabel(\"count\")\n",
    "plt.xlabel(\"time (ms)\")\n",
    "plt.title(\"Visual Latency\")"
   ]
  },
  {
   "cell_type": "markdown",
   "id": "5cc5b7d7-cd57-423f-95fc-7de127a702aa",
   "metadata": {},
   "source": [
    "## Total Latency"
   ]
  },
  {
   "cell_type": "code",
   "execution_count": 12,
   "id": "a27f1d4f-cd6c-4e8f-b818-5cd1c802c7c0",
   "metadata": {},
   "outputs": [],
   "source": [
    "gen_y = list(gen_df[\"latency\"])[27:]"
   ]
  },
  {
   "cell_type": "code",
   "execution_count": 13,
   "id": "42d4feea-8046-4467-98f2-32a031c9d7c3",
   "metadata": {},
   "outputs": [],
   "source": [
    "proc_y = list(processor_df[\"latency\"])[27:]"
   ]
  },
  {
   "cell_type": "code",
   "execution_count": 14,
   "id": "33648453-6800-4575-9aae-8091116552d3",
   "metadata": {},
   "outputs": [],
   "source": [
    "viz_y =  list(viz_df[\"latency\"])[27:]"
   ]
  },
  {
   "cell_type": "code",
   "execution_count": 15,
   "id": "185674e7-79ef-4145-bde1-9614c06bed55",
   "metadata": {},
   "outputs": [],
   "source": [
    "total_latency = [x + y + z for x, y, z in zip(gen_y, proc_y, viz_y)]"
   ]
  },
  {
   "cell_type": "code",
   "execution_count": 16,
   "id": "c0563fac-2115-4823-b1e0-7ad4d43430ee",
   "metadata": {},
   "outputs": [
    {
     "data": {
      "text/plain": [
       "Text(0.5, 1.0, 'Total Latency')"
      ]
     },
     "execution_count": 16,
     "metadata": {},
     "output_type": "execute_result"
    },
    {
     "data": {
      "image/png": "[encoded data removed]",
      "text/plain": [
       "<Figure size 640x480 with 1 Axes>"
      ]
     },
     "metadata": {},
     "output_type": "display_data"
    }
   ],
   "source": [
    "plt.hist(total_latency)\n",
    "plt.ylabel(\"count\")\n",
    "plt.xlabel(\"time (ms)\")\n",
    "plt.title(\"Total Latency\")"
   ]
  },
  {
   "cell_type": "code",
   "execution_count": 17,
   "id": "ecebce18-398e-4205-b923-ac8675cbee95",
   "metadata": {},
   "outputs": [
    {
     "data": {
      "text/plain": [
       "5.029895443505808"
      ]
     },
     "execution_count": 17,
     "metadata": {},
     "output_type": "execute_result"
    }
   ],
   "source": [
    "sum(total_latency) / len(total_latency)"
   ]
  },
  {
   "cell_type": "code",
   "execution_count": null,
   "id": "6b41a029-bc4f-4686-8565-9d668899aab3",
   "metadata": {},
   "outputs": [],
   "source": []
  },
  {
   "cell_type": "code",
   "execution_count": null,
   "id": "f9b460fa-deca-4069-854f-98de33b418bf",
   "metadata": {},
   "outputs": [],
   "source": []
  },
  {
   "cell_type": "code",
   "execution_count": null,
   "id": "eba576cd-14fb-4863-ad39-f3404938943a",
   "metadata": {},
   "outputs": [],
   "source": []
  }
 ],
 "metadata": {
  "kernelspec": {
   "display_name": "Python 3 (ipykernel)",
   "language": "python",
   "name": "python3"
  },
  "language_info": {
   "codemirror_mode": {
    "name": "ipython",
    "version": 3
   },
   "file_extension": ".py",
   "mimetype": "text/x-python",
   "name": "python",
   "nbconvert_exporter": "python",
   "pygments_lexer": "ipython3",
   "version": "3.13.1"
  }
 },
 "nbformat": 4,
 "nbformat_minor": 5
}
