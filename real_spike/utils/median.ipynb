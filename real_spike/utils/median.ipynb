{
 "cells": [
  {
   "cell_type": "markdown",
   "id": "04308efa-59f0-4535-9514-51c84615bffc",
   "metadata": {},
   "source": [
    "# Notebook for looking at median over time "
   ]
  },
  {
   "cell_type": "code",
   "execution_count": null,
   "id": "2f6d1426-c052-46a1-a136-c2c45ccddb9d",
   "metadata": {},
   "outputs": [],
   "source": [
    "# potential use of rolling median\n",
    "# vs. using first block and updating occasionally "
   ]
  },
  {
   "cell_type": "code",
   "execution_count": null,
   "id": "dbec3143-84b1-4a38-86fe-1faeb9fa9ba0",
   "metadata": {},
   "outputs": [],
   "source": []
  },
  {
   "cell_type": "code",
   "execution_count": null,
   "id": "8536037f-712f-4178-a40b-a65d3da18c30",
   "metadata": {},
   "outputs": [],
   "source": []
  },
  {
   "cell_type": "code",
   "execution_count": null,
   "id": "a9f9c20e-a39e-4ea3-9f4e-03c515e7fce6",
   "metadata": {},
   "outputs": [],
   "source": []
  }
 ],
 "metadata": {
  "kernelspec": {
   "display_name": "Python 3 (ipykernel)",
   "language": "python",
   "name": "python3"
  },
  "language_info": {
   "codemirror_mode": {
    "name": "ipython",
    "version": 3
   },
   "file_extension": ".py",
   "mimetype": "text/x-python",
   "name": "python",
   "nbconvert_exporter": "python",
   "pygments_lexer": "ipython3",
   "version": "3.13.1"
  }
 },
 "nbformat": 4,
 "nbformat_minor": 5
}
