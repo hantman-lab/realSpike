{
 "cells": [
  {
   "cell_type": "markdown",
   "id": "b7c3c1a5-b2b6-4f0e-83e3-aa6f56ac920b",
   "metadata": {},
   "source": [
    "# Notebook for visualizing streaming data"
   ]
  },
  {
   "cell_type": "code",
   "execution_count": 1,
   "id": "e8089b57-1d4e-437e-8d8a-1619a941abbd",
   "metadata": {},
   "outputs": [
    {
     "name": "stderr",
     "output_type": "stream",
     "text": [
      "fastplotlib version from git (0.4.0) and __version__ (0.5.0) don't match.\n",
      "Detected skylake derivative running on mesa i915. Clears to srgb textures will use manual shader clears.\n",
      "Detected skylake derivative running on mesa i915. Clears to srgb textures will use manual shader clears.\n",
      "Detected skylake derivative running on mesa i915. Clears to srgb textures will use manual shader clears.\n"
     ]
    },
    {
     "data": {
      "application/vnd.jupyter.widget-view+json": {
       "model_id": "9909e20716474295b51fb8fdf69ed75c",
       "version_major": 2,
       "version_minor": 0
      },
      "text/plain": [
       "Image(value=b'version https://git-lfs.github.com/spec/...', height='55', width='300')"
      ]
     },
     "metadata": {},
     "output_type": "display_data"
    },
    {
     "data": {
      "text/html": [
       "<b>Available devices:</b><table><tr><th>Valid</th><th>Device</th><th>Type</th><th>Backend</th><th>Driver</th></tr><tr title=\"This adapter can be used with fastplotlib\"><td>✅</td><td>Intel(R) Arc(tm) Graphics (MTL)</td><td>IntegratedGPU</td><td>Vulkan</td><td>Mesa 25.0.4</td></tr><tr title=\"This adapter can be used with fastplotlib\"><td>✅ (default) </td><td>NVIDIA GeForce RTX 4060 Laptop GPU</td><td>DiscreteGPU</td><td>Vulkan</td><td>565.77</td></tr><tr title=\"CPU rendering support is limited and mainly for testing purposes\"><td>❗ limited</td><td>llvmpipe (LLVM 19.1.7, 256 bits)</td><td>CPU</td><td>Vulkan</td><td>Mesa 25.0.4 (LLVM 19.1.7)</td></tr><tr title=\"This adapter cannot be used with fastplotlib\"><td>❌</td><td>Mesa Intel(R) Arc(tm) Graphics (MTL)</td><td>IntegratedGPU</td><td>OpenGL</td><td>4.6 (Core Profile) Mesa 25.0.4</td></tr></table>"
      ],
      "text/plain": [
       "<IPython.core.display.HTML object>"
      ]
     },
     "metadata": {},
     "output_type": "display_data"
    },
    {
     "name": "stderr",
     "output_type": "stream",
     "text": [
      "Detected skylake derivative running on mesa i915. Clears to srgb textures will use manual shader clears.\n",
      "Detected skylake derivative running on mesa i915. Clears to srgb textures will use manual shader clears.\n"
     ]
    }
   ],
   "source": [
    "import fastplotlib as fpl \n",
    "import numpy as np\n",
    "import zmq\n",
    "import tifffile\n",
    "import scipy\n",
    "import queue "
   ]
  },
  {
   "cell_type": "markdown",
   "id": "920c96ba-0964-44ff-9f8f-99e85419a98e",
   "metadata": {},
   "source": [
    "# Calculate seeded median"
   ]
  },
  {
   "cell_type": "code",
   "execution_count": 2,
   "id": "22950a49-9c9c-428c-9122-afd076c7e57a",
   "metadata": {},
   "outputs": [
    {
     "data": {
      "text/plain": [
       "(384, 3000001)"
      ]
     },
     "execution_count": 2,
     "metadata": {},
     "output_type": "execute_result"
    }
   ],
   "source": [
    "file_path = \"/home/clewis/repos/holo-nbs/rb26_20240111/raw_voltage_chunk.tif\"\n",
    "data = tifffile.memmap(file_path)\n",
    "data.shape"
   ]
  },
  {
   "cell_type": "code",
   "execution_count": 3,
   "id": "613a97f1-5647-440d-b677-826469f9df6e",
   "metadata": {},
   "outputs": [],
   "source": [
    "# define filter functions\n",
    "def butter(cutoff, fs, order=5, btype='high'):\n",
    "    nyq = 0.5 * fs\n",
    "    normal_cutoff = cutoff / nyq\n",
    "    b, a = scipy.signal.butter(order, normal_cutoff, btype=btype, analog=False)\n",
    "    return b, a\n",
    "\n",
    "\n",
    "def butter_filter(data, cutoff, fs, order=5, axis=-1, btype='high'):\n",
    "    b, a = butter(cutoff, fs, order=order, btype=btype)\n",
    "    y = scipy.signal.filtfilt(b, a, data, axis=axis)\n",
    "    return y"
   ]
  },
  {
   "cell_type": "code",
   "execution_count": 4,
   "id": "bd2a3da1-23e1-4c6a-b281-354801271b2d",
   "metadata": {},
   "outputs": [],
   "source": [
    "median = np.median(butter_filter(data[:, :4000], 1_000, 30_000), axis=1)"
   ]
  },
  {
   "cell_type": "markdown",
   "id": "6c4ad26f-7c15-4ab6-acd1-7f3415debe9c",
   "metadata": {},
   "source": [
    "# Setup zmq subscriber"
   ]
  },
  {
   "cell_type": "code",
   "execution_count": 5,
   "id": "c2f02187-67f0-41ae-8eaf-bc99eb981cc2",
   "metadata": {},
   "outputs": [
    {
     "data": {
      "text/plain": [
       "<SocketContext(connect='tcp://127.0.0.1:5557')>"
      ]
     },
     "execution_count": 5,
     "metadata": {},
     "output_type": "execute_result"
    }
   ],
   "source": [
    "context = zmq.Context()\n",
    "sub = context.socket(zmq.SUB)\n",
    "sub.setsockopt(zmq.SUBSCRIBE, b\"\")\n",
    "\n",
    "# keep only the most recent message\n",
    "sub.setsockopt(zmq.CONFLATE, 1)\n",
    "\n",
    "# address must match publisher in actor\n",
    "sub.connect(\"tcp://127.0.0.1:5557\")"
   ]
  },
  {
   "cell_type": "code",
   "execution_count": 6,
   "id": "c9596b45-2722-4cb7-bcf5-0832879a7b6b",
   "metadata": {},
   "outputs": [],
   "source": [
    "def get_buffer():\n",
    "    \"\"\"Gets the buffer from the publisher.\"\"\"\n",
    "    try:\n",
    "        b = sub.recv(zmq.NOBLOCK)\n",
    "    except zmq.Again:\n",
    "        pass\n",
    "    else:\n",
    "        return b\n",
    "    \n",
    "    return None"
   ]
  },
  {
   "cell_type": "markdown",
   "id": "07581818-9478-44f8-b431-0e9f47e67505",
   "metadata": {},
   "source": [
    "# Helper functions"
   ]
  },
  {
   "cell_type": "code",
   "execution_count": 7,
   "id": "97661bf1-9e46-47ab-8f5a-629819cd43ad",
   "metadata": {},
   "outputs": [],
   "source": [
    "def get_spike_events(data: np.ndarray, n_deviations: int = 4):\n",
    "    \"\"\"\n",
    "    Calculates the median and MAD estimator. Returns a list of indices along each channel where\n",
    "    threshold crossing is made (above absolute value of median + (n_deviations * MAD).\n",
    "    \"\"\"\n",
    "    # global median\n",
    "    median = np.median(data, axis=1)\n",
    "    mad = scipy.stats.median_abs_deviation(data, axis=1)\n",
    "\n",
    "    thresh = (n_deviations * mad) + median\n",
    "\n",
    "    abs_data = np.abs(data)\n",
    "\n",
    "    # Find indices where threshold is crossed for each channel\n",
    "    indices = [np.where(abs_data[i] > thresh[i])[0] for i in range(data.shape[0])]\n",
    "\n",
    "    return indices"
   ]
  },
  {
   "cell_type": "code",
   "execution_count": 8,
   "id": "271fa014-259c-43e0-b191-93573b771157",
   "metadata": {},
   "outputs": [],
   "source": [
    "def make_raster(ixs):\n",
    "    \"\"\"\n",
    "    Takes a list of threshold crossings and returns a list of points (channel number, spike time) and colors.\n",
    "    Used to make a raster plot.\n",
    "    \"\"\"\n",
    "    spikes = list()\n",
    "\n",
    "    for i, ix in enumerate(ixs):\n",
    "        ys = np.full(ix.shape, i * 2)\n",
    "        sp = np.vstack([ix, ys]).T\n",
    "        spikes.append(sp)\n",
    "\n",
    "    colors = list()\n",
    "\n",
    "    for i in spikes:\n",
    "        # randomly select a color\n",
    "        c = [np.append(np.random.rand(3), 1)] * len(i)\n",
    "        colors += c\n",
    "\n",
    "    return spikes, np.array(colors)"
   ]
  },
  {
   "cell_type": "markdown",
   "id": "0b27ec8f-e90d-4888-9a25-509d9025f7ac",
   "metadata": {},
   "source": [
    "# Use a store to make visualization smoother"
   ]
  },
  {
   "cell_type": "code",
   "execution_count": 9,
   "id": "d5673331-206a-42b8-987c-10ee8474b481",
   "metadata": {},
   "outputs": [],
   "source": [
    "# only store 10 frames \n",
    "viz_queue = queue.Queue(maxsize=10)"
   ]
  },
  {
   "cell_type": "code",
   "execution_count": null,
   "id": "988f5e34-3836-4178-8fbf-c7f6af0f50c4",
   "metadata": {},
   "outputs": [],
   "source": []
  },
  {
   "cell_type": "code",
   "execution_count": null,
   "id": "f0242a6f-edde-470e-b28f-faada71d2b74",
   "metadata": {},
   "outputs": [],
   "source": []
  },
  {
   "cell_type": "markdown",
   "id": "09a9a45c-3118-42f0-8cb6-6d93a747b5bc",
   "metadata": {},
   "source": [
    "# Create figure"
   ]
  },
  {
   "cell_type": "code",
   "execution_count": 10,
   "id": "963fe149-2db0-4ed9-bd83-6c6b3a16b7bf",
   "metadata": {},
   "outputs": [
    {
     "data": {
      "application/vnd.jupyter.widget-view+json": {
       "model_id": "55081857e7794d8683717ea10cfb6a39",
       "version_major": 2,
       "version_minor": 0
      },
      "text/plain": [
       "RFBOutputContext()"
      ]
     },
     "metadata": {},
     "output_type": "display_data"
    },
    {
     "name": "stderr",
     "output_type": "stream",
     "text": [
      "Detected skylake derivative running on mesa i915. Clears to srgb textures will use manual shader clears.\n"
     ]
    }
   ],
   "source": [
    "rects = [\n",
    "    (0, 0, 0.5, 0.7),  # for image1\n",
    "    (0.5, 0, 0.5, 0.7),  # for image2\n",
    "    (0, 0.7, 1, .3),  # for image1 histogram\n",
    "]\n",
    "\n",
    "figure = fpl.Figure(rects=rects, size=(1000, 900), names=[\"filtered spikes\", \"raster\", \"smoothed spikes\"])\n",
    "\n",
    "for subplot in figure:\n",
    "    subplot.axes.visible = False\n",
    "    subplot.camera.maintain_aspect = False"
   ]
  },
  {
   "cell_type": "code",
   "execution_count": 11,
   "id": "6bbe3525-2a19-43f9-bc14-4a716e9a3736",
   "metadata": {},
   "outputs": [],
   "source": [
    "def update_figure(p):\n",
    "    \"\"\"Update the frame using data received from the socket.\"\"\"\n",
    "    buff = get_buffer()\n",
    "    if buff is not None:\n",
    "        # Deserialize the buffer into a NumPy array\n",
    "        data = np.frombuffer(buff, dtype=np.float64)\n",
    "\n",
    "        data = data.reshape(384, 150)\n",
    "\n",
    "        ixs = get_spike_events(data)\n",
    "\n",
    "        spikes, colors = make_raster(ixs)\n",
    "        spikes = np.concatenate(spikes)\n",
    "\n",
    "        p.clear()\n",
    "\n",
    "\n",
    "        if len(p[\"filtered spikes\"].graphics) == 0:\n",
    "            lg = figure[\"filtered spikes\"].add_line_stack(data, colors=\"gray\", thickness=0.5, separation=35, name=\"lg\")\n",
    "        else:\n",
    "            lg = figure[\"filtered spikes\"][\"lg\"]\n",
    "            lg.colors = \"gray\"\n",
    "            # add filtered spikes\n",
    "            for i in range(lg.data[:].shape[0]):\n",
    "                lg[i].data[:, 1] = data[i]\n",
    "\n",
    "        #color each spike event orange\n",
    "        for i in range(len(ixs)):\n",
    "            if ixs[i].shape[0] == 0:\n",
    "                continue\n",
    "            lg[i].colors[ixs[i]] = \"orange\"\n",
    "\n",
    "        \n",
    "        # add smoothed spikes\n",
    "        for i in range(len(ixs)):\n",
    "            y = np.zeros((data.shape[1],))\n",
    "            x = range(len(y))\n",
    "            if ixs[i].shape[0] == 0:\n",
    "                y = np.zeros((data.shape[1],))\n",
    "            else:\n",
    "                spike_times = ixs[i]\n",
    "                y[spike_times] = 1\n",
    "                y = scipy.ndimage.gaussian_filter1d(y, 5)\n",
    "                \n",
    "            if len(p[\"smoothed spikes\"].graphics) < data.shape[0]:\n",
    "                figure[\"smoothed spikes\"].add_line(np.vstack([x, y]).T, colors=np.append(np.random.rand(3), 1), thickness=1)\n",
    "            else:\n",
    "                figure[\"smoothed spikes\"].graphics[i].data[:, 1] = y\n",
    "\n",
    "        p[\"raster\"].clear()\n",
    "    \n",
    "        # make raster \n",
    "        p[\"raster\"].add_scatter(spikes, sizes=5, colors=colors)\n",
    "\n",
    "        for subplot in p:\n",
    "            subplot.auto_scale()"
   ]
  },
  {
   "cell_type": "code",
   "execution_count": 12,
   "id": "144e87f6-b322-421e-95b9-583d3bcbbf56",
   "metadata": {},
   "outputs": [
    {
     "data": {
      "application/vnd.jupyter.widget-view+json": {
       "model_id": "eb547d8e4faa42a7806ac282867a8cb1",
       "version_major": 2,
       "version_minor": 0
      },
      "text/html": [
       "<div class='snapshot-eb547d8e4faa42a7806ac282867a8cb1' style='position:relative;'><img src='data:image/png;base64,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' style='width:1000.0px;height:900.0px;' /><div style='position: absolute; top:0; left:0; padding:1px 3px; background: #777; color:#fff; font-size: 90%; font-family:sans-serif; '>snapshot</div></div>"
      ],
      "text/plain": [
       "JupyterRenderCanvas(css_height='900.0px', css_width='1000.0px')"
      ]
     },
     "execution_count": 12,
     "metadata": {},
     "output_type": "execute_result"
    }
   ],
   "source": [
    "figure.show()"
   ]
  },
  {
   "cell_type": "code",
   "execution_count": 13,
   "id": "9260e786-54d8-4a88-bf54-e40d0548b8af",
   "metadata": {},
   "outputs": [],
   "source": [
    "# Add the animation update function\n",
    "figure.add_animations(update_figure)"
   ]
  },
  {
   "cell_type": "code",
   "execution_count": null,
   "id": "cbfcc930-ccb0-48e6-9137-b0039a93b885",
   "metadata": {},
   "outputs": [],
   "source": [
    "figure.canvas.get_stats()"
   ]
  },
  {
   "cell_type": "code",
   "execution_count": null,
   "id": "eea286ef-fb74-4f26-96bf-bc8de44dd0c4",
   "metadata": {},
   "outputs": [],
   "source": []
  },
  {
   "cell_type": "code",
   "execution_count": null,
   "id": "2daeb7c8-7988-4d1b-bc02-16d0112301b9",
   "metadata": {},
   "outputs": [],
   "source": []
  }
 ],
 "metadata": {
  "kernelspec": {
   "display_name": "Python 3 (ipykernel)",
   "language": "python",
   "name": "python3"
  },
  "language_info": {
   "codemirror_mode": {
    "name": "ipython",
    "version": 3
   },
   "file_extension": ".py",
   "mimetype": "text/x-python",
   "name": "python",
   "nbconvert_exporter": "python",
   "pygments_lexer": "ipython3",
   "version": "3.11.12"
  }
 },
 "nbformat": 4,
 "nbformat_minor": 5
}
