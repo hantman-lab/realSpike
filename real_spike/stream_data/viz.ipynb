{
 "cells": [
  {
   "cell_type": "markdown",
   "id": "b7c3c1a5-b2b6-4f0e-83e3-aa6f56ac920b",
   "metadata": {},
   "source": [
    "# Notebook for visualizing streaming data"
   ]
  },
  {
   "cell_type": "code",
   "execution_count": null,
   "id": "e8089b57-1d4e-437e-8d8a-1619a941abbd",
   "metadata": {},
   "outputs": [],
   "source": [
    "import fastplotlib as fpl \n",
    "import numpy as np\n",
    "import zmq\n",
    "import scipy"
   ]
  },
  {
   "cell_type": "markdown",
   "id": "6c4ad26f-7c15-4ab6-acd1-7f3415debe9c",
   "metadata": {},
   "source": [
    "# Setup zmq subscriber"
   ]
  },
  {
   "cell_type": "code",
   "execution_count": null,
   "id": "c2f02187-67f0-41ae-8eaf-bc99eb981cc2",
   "metadata": {},
   "outputs": [],
   "source": [
    "context = zmq.Context()\n",
    "sub = context.socket(zmq.SUB)\n",
    "sub.setsockopt(zmq.SUBSCRIBE, b\"\")\n",
    "\n",
    "# keep only the most recent message\n",
    "sub.setsockopt(zmq.CONFLATE, 1)\n",
    "\n",
    "# address must match publisher in Processor actor\n",
    "sub.connect(\"tcp://127.0.0.1:5557\")"
   ]
  },
  {
   "cell_type": "code",
   "execution_count": null,
   "id": "c9596b45-2722-4cb7-bcf5-0832879a7b6b",
   "metadata": {},
   "outputs": [],
   "source": [
    "def get_buffer():\n",
    "    \"\"\"Gets the buffer from the publisher.\"\"\"\n",
    "    try:\n",
    "        b = sub.recv(zmq.NOBLOCK)\n",
    "    except zmq.Again:\n",
    "        pass\n",
    "    else:\n",
    "        return b\n",
    "    \n",
    "    return None"
   ]
  },
  {
   "cell_type": "markdown",
   "id": "07581818-9478-44f8-b431-0e9f47e67505",
   "metadata": {},
   "source": [
    "# Helper functions"
   ]
  },
  {
   "cell_type": "code",
   "execution_count": null,
   "id": "97661bf1-9e46-47ab-8f5a-629819cd43ad",
   "metadata": {},
   "outputs": [],
   "source": [
    "def get_spike_events(data: np.ndarray, n_deviations: int = 4):\n",
    "    \"\"\"\n",
    "    Calculates the median and MAD estimator. Returns a list of indices along each channel where\n",
    "    threshold crossing is made (above absolute value of median + (n_deviations * MAD).\n",
    "    \"\"\"\n",
    "    median = np.median(data, axis=1)\n",
    "    mad = scipy.stats.median_abs_deviation(data, axis=1)\n",
    "\n",
    "    thresh = (n_deviations * mad) + median\n",
    "\n",
    "    indices = [np.where(np.abs(data)[i] > thresh[i])[0] for i in range(data.shape[0])]\n",
    "\n",
    "    return indices"
   ]
  },
  {
   "cell_type": "code",
   "execution_count": null,
   "id": "271fa014-259c-43e0-b191-93573b771157",
   "metadata": {},
   "outputs": [],
   "source": [
    "def make_raster(ixs):\n",
    "    \"\"\"\n",
    "    Takes a list of threshold crossings and returns a list of points (channel number, spike time) and colors.\n",
    "    Used to make a raster plot.\n",
    "    \"\"\"\n",
    "    spikes = list()\n",
    "\n",
    "    for i, ix in enumerate(ixs):\n",
    "        ys = np.full(ix.shape, i * 2)\n",
    "        sp = np.vstack([ix, ys]).T\n",
    "        spikes.append(sp)\n",
    "\n",
    "    colors = list()\n",
    "\n",
    "    for i in spikes:\n",
    "        # randomly select a color\n",
    "        c = [np.append(np.random.rand(3), 1)] * len(i)\n",
    "        colors += c\n",
    "\n",
    "    return spikes, np.array(colors)"
   ]
  },
  {
   "cell_type": "markdown",
   "id": "09a9a45c-3118-42f0-8cb6-6d93a747b5bc",
   "metadata": {},
   "source": [
    "# Create figure"
   ]
  },
  {
   "cell_type": "code",
   "execution_count": null,
   "id": "963fe149-2db0-4ed9-bd83-6c6b3a16b7bf",
   "metadata": {},
   "outputs": [],
   "source": [
    "rects = [\n",
    "    (0, 0, 0.5, 0.7),  # for image1\n",
    "    (0.5, 0, 0.5, 0.7),  # for image2\n",
    "    (0, 0.7, 1, .3),  # for image1 histogram\n",
    "]\n",
    "\n",
    "figure = fpl.Figure(rects=rects, size=(1000, 900), names=[\"filtered spikes\", \"raster\", \"smoothed spikes\"])\n",
    "\n",
    "for subplot in figure:\n",
    "    subplot.axes.visible = False\n",
    "    subplot.camera.maintain_aspect = False"
   ]
  },
  {
   "cell_type": "code",
   "execution_count": null,
   "id": "6bbe3525-2a19-43f9-bc14-4a716e9a3736",
   "metadata": {},
   "outputs": [],
   "source": [
    "def update_figure(p):\n",
    "    \"\"\"Update the frame using data received from the socket.\"\"\"\n",
    "    buff = get_buffer()\n",
    "    if buff is not None:\n",
    "        # Deserialize the buffer into a NumPy array\n",
    "        data = np.frombuffer(buff, dtype=np.float64)\n",
    "\n",
    "        data = data.reshape(384, 150)\n",
    "\n",
    "        # clear subplots\n",
    "        for subplot in p:\n",
    "            p.clear()\n",
    "\n",
    "        ixs = get_spike_events(data)\n",
    "\n",
    "        spikes, colors = make_raster(ixs)\n",
    "        spikes = np.concatenate(spikes)\n",
    "\n",
    "        # add filtered spikes\n",
    "        lg = p[\"filtered spikes\"].add_line_stack(data, colors=\"gray\", thickness=0.5, separation=35, name=\"lg\")\n",
    "\n",
    "        # color each spike event orange\n",
    "        for i in range(len(ixs)):\n",
    "            if ixs[i].shape[0] == 0:\n",
    "                continue\n",
    "            lg[i].colors[ixs[i]] = \"orange\"\n",
    "\n",
    "        # make raster \n",
    "        p[\"raster\"].add_scatter(spikes, sizes=5, colors=colors)\n",
    "\n",
    "        # add smoothed spikes\n",
    "        for i in range(len(ixs)):\n",
    "            y = np.zeros((data.shape[1],))\n",
    "            x = range(len(y))\n",
    "            if ixs[i].shape[0] == 0:\n",
    "                # no spikes\n",
    "                # xs and ys are 0\n",
    "                y = np.zeros((data.shape[1],))\n",
    "            else:\n",
    "                spike_times = ixs[i]\n",
    "                y[spike_times] = 1\n",
    "                y = scipy.ndimage.filters.gaussian_filter1d(y, 5)\n",
    "        \n",
    "            figure[\"smoothed spikes\"].add_line(np.vstack([x, y]).T, colors=np.append(np.random.rand(3), 1), thickness=1)\n",
    "\n",
    "        for subplot in p:\n",
    "            subplot.auto_scale()"
   ]
  },
  {
   "cell_type": "code",
   "execution_count": null,
   "id": "144e87f6-b322-421e-95b9-583d3bcbbf56",
   "metadata": {},
   "outputs": [],
   "source": [
    "figure.show()"
   ]
  },
  {
   "cell_type": "code",
   "execution_count": null,
   "id": "9260e786-54d8-4a88-bf54-e40d0548b8af",
   "metadata": {},
   "outputs": [],
   "source": [
    "# Add the animation update function\n",
    "figure.add_animations(update_figure)"
   ]
  },
  {
   "cell_type": "code",
   "execution_count": null,
   "id": "82f3d86b-1037-44f4-96dd-fac0e11b8996",
   "metadata": {},
   "outputs": [],
   "source": []
  },
  {
   "cell_type": "code",
   "execution_count": null,
   "id": "08c0cb8b-b9a0-42d0-bf82-497bddf712d1",
   "metadata": {},
   "outputs": [],
   "source": []
  }
 ],
 "metadata": {
  "kernelspec": {
   "display_name": "Python 3 (ipykernel)",
   "language": "python",
   "name": "python3"
  },
  "language_info": {
   "codemirror_mode": {
    "name": "ipython",
    "version": 3
   },
   "file_extension": ".py",
   "mimetype": "text/x-python",
   "name": "python",
   "nbconvert_exporter": "python",
   "pygments_lexer": "ipython3",
   "version": "3.13.1"
  }
 },
 "nbformat": 4,
 "nbformat_minor": 5
}
