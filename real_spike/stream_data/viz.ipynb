{
 "cells": [
  {
   "cell_type": "markdown",
   "id": "b7c3c1a5-b2b6-4f0e-83e3-aa6f56ac920b",
   "metadata": {},
   "source": [
    "# Notebook for visualizing streaming data"
   ]
  },
  {
   "cell_type": "code",
   "execution_count": 1,
   "id": "e8089b57-1d4e-437e-8d8a-1619a941abbd",
   "metadata": {},
   "outputs": [
    {
     "name": "stderr",
     "output_type": "stream",
     "text": [
      "Detected skylake derivative running on mesa i915. Clears to srgb textures will use manual shader clears.\n",
      "Detected skylake derivative running on mesa i915. Clears to srgb textures will use manual shader clears.\n",
      "Detected skylake derivative running on mesa i915. Clears to srgb textures will use manual shader clears.\n"
     ]
    },
    {
     "data": {
      "application/vnd.jupyter.widget-view+json": {
       "model_id": "7f40bb14dba34e6aa839d38f4de1517b",
       "version_major": 2,
       "version_minor": 0
      },
      "text/plain": [
       "Image(value=b'\\x89PNG\\r\\n\\x1a\\n\\x00\\x00\\x00\\rIHDR\\x00\\x00\\x01,\\x00\\x00\\x007\\x08\\x06\\x00\\x00\\x00\\xb6\\x1bw\\x99\\x…"
      ]
     },
     "metadata": {},
     "output_type": "display_data"
    },
    {
     "data": {
      "text/html": [
       "<b>Available devices:</b><table><tr><th>Valid</th><th>Device</th><th>Type</th><th>Backend</th><th>Driver</th></tr><tr title=\"This adapter can be used with fastplotlib\"><td>✅</td><td>Intel(R) Arc(tm) Graphics (MTL)</td><td>IntegratedGPU</td><td>Vulkan</td><td>Mesa 25.0.4</td></tr><tr title=\"This adapter can be used with fastplotlib\"><td>✅ (default) </td><td>NVIDIA GeForce RTX 4060 Laptop GPU</td><td>DiscreteGPU</td><td>Vulkan</td><td>565.77</td></tr><tr title=\"CPU rendering support is limited and mainly for testing purposes\"><td>❗ limited</td><td>llvmpipe (LLVM 19.1.7, 256 bits)</td><td>CPU</td><td>Vulkan</td><td>Mesa 25.0.4 (LLVM 19.1.7)</td></tr><tr title=\"This adapter cannot be used with fastplotlib\"><td>❌</td><td>Mesa Intel(R) Arc(tm) Graphics (MTL)</td><td>IntegratedGPU</td><td>OpenGL</td><td>4.6 (Core Profile) Mesa 25.0.4</td></tr></table>"
      ],
      "text/plain": [
       "<IPython.core.display.HTML object>"
      ]
     },
     "metadata": {},
     "output_type": "display_data"
    },
    {
     "name": "stderr",
     "output_type": "stream",
     "text": [
      "Detected skylake derivative running on mesa i915. Clears to srgb textures will use manual shader clears.\n",
      "Detected skylake derivative running on mesa i915. Clears to srgb textures will use manual shader clears.\n"
     ]
    }
   ],
   "source": [
    "import fastplotlib as fpl \n",
    "import numpy as np\n",
    "import zmq\n",
    "import scipy"
   ]
  },
  {
   "cell_type": "markdown",
   "id": "6c4ad26f-7c15-4ab6-acd1-7f3415debe9c",
   "metadata": {},
   "source": [
    "# Setup zmq subscriber"
   ]
  },
  {
   "cell_type": "code",
   "execution_count": 2,
   "id": "c2f02187-67f0-41ae-8eaf-bc99eb981cc2",
   "metadata": {},
   "outputs": [
    {
     "data": {
      "text/plain": [
       "<SocketContext(connect='tcp://127.0.0.1:5557')>"
      ]
     },
     "execution_count": 2,
     "metadata": {},
     "output_type": "execute_result"
    }
   ],
   "source": [
    "context = zmq.Context()\n",
    "sub = context.socket(zmq.SUB)\n",
    "sub.setsockopt(zmq.SUBSCRIBE, b\"\")\n",
    "\n",
    "# keep only the most recent message\n",
    "sub.setsockopt(zmq.CONFLATE, 1)\n",
    "\n",
    "# address must match publisher in actor\n",
    "sub.connect(\"tcp://127.0.0.1:5557\")"
   ]
  },
  {
   "cell_type": "code",
   "execution_count": 3,
   "id": "c9596b45-2722-4cb7-bcf5-0832879a7b6b",
   "metadata": {},
   "outputs": [],
   "source": [
    "def get_buffer():\n",
    "    \"\"\"Gets the buffer from the publisher.\"\"\"\n",
    "    try:\n",
    "        b = sub.recv(zmq.NOBLOCK)\n",
    "    except zmq.Again:\n",
    "        pass\n",
    "    else:\n",
    "        return b\n",
    "    \n",
    "    return None"
   ]
  },
  {
   "cell_type": "markdown",
   "id": "07581818-9478-44f8-b431-0e9f47e67505",
   "metadata": {},
   "source": [
    "# Helper functions"
   ]
  },
  {
   "cell_type": "code",
   "execution_count": 4,
   "id": "97661bf1-9e46-47ab-8f5a-629819cd43ad",
   "metadata": {},
   "outputs": [],
   "source": [
    "def get_spike_events(data: np.ndarray, n_deviations: int = 4):\n",
    "    \"\"\"\n",
    "    Calculates the median and MAD estimator. Returns a list of indices along each channel where\n",
    "    threshold crossing is made (above absolute value of median + (n_deviations * MAD).\n",
    "    \"\"\"\n",
    "    median = np.median(data, axis=1)\n",
    "    mad = scipy.stats.median_abs_deviation(data, axis=1)\n",
    "\n",
    "    thresh = (n_deviations * mad) + median\n",
    "\n",
    "    indices = [np.where(np.abs(data)[i] > thresh[i])[0] for i in range(data.shape[0])]\n",
    "\n",
    "    return indices"
   ]
  },
  {
   "cell_type": "code",
   "execution_count": 5,
   "id": "271fa014-259c-43e0-b191-93573b771157",
   "metadata": {},
   "outputs": [],
   "source": [
    "def make_raster(ixs):\n",
    "    \"\"\"\n",
    "    Takes a list of threshold crossings and returns a list of points (channel number, spike time) and colors.\n",
    "    Used to make a raster plot.\n",
    "    \"\"\"\n",
    "    spikes = list()\n",
    "\n",
    "    for i, ix in enumerate(ixs):\n",
    "        ys = np.full(ix.shape, i * 2)\n",
    "        sp = np.vstack([ix, ys]).T\n",
    "        spikes.append(sp)\n",
    "\n",
    "    colors = list()\n",
    "\n",
    "    for i in spikes:\n",
    "        # randomly select a color\n",
    "        c = [np.append(np.random.rand(3), 1)] * len(i)\n",
    "        colors += c\n",
    "\n",
    "    return spikes, np.array(colors)"
   ]
  },
  {
   "cell_type": "markdown",
   "id": "09a9a45c-3118-42f0-8cb6-6d93a747b5bc",
   "metadata": {},
   "source": [
    "# Create figure"
   ]
  },
  {
   "cell_type": "code",
   "execution_count": 6,
   "id": "963fe149-2db0-4ed9-bd83-6c6b3a16b7bf",
   "metadata": {},
   "outputs": [
    {
     "data": {
      "application/vnd.jupyter.widget-view+json": {
       "model_id": "79e4715ece524929bddb6ce0df9e0d91",
       "version_major": 2,
       "version_minor": 0
      },
      "text/plain": [
       "RFBOutputContext()"
      ]
     },
     "metadata": {},
     "output_type": "display_data"
    },
    {
     "name": "stderr",
     "output_type": "stream",
     "text": [
      "Detected skylake derivative running on mesa i915. Clears to srgb textures will use manual shader clears.\n"
     ]
    }
   ],
   "source": [
    "rects = [\n",
    "    (0, 0, 0.5, 0.7),  # for image1\n",
    "    (0.5, 0, 0.5, 0.7),  # for image2\n",
    "    (0, 0.7, 1, .3),  # for image1 histogram\n",
    "]\n",
    "\n",
    "figure = fpl.Figure(rects=rects, size=(1000, 900), names=[\"filtered spikes\", \"raster\", \"smoothed spikes\"])\n",
    "\n",
    "for subplot in figure:\n",
    "    subplot.axes.visible = False\n",
    "    subplot.camera.maintain_aspect = False"
   ]
  },
  {
   "cell_type": "code",
   "execution_count": 7,
   "id": "6bbe3525-2a19-43f9-bc14-4a716e9a3736",
   "metadata": {},
   "outputs": [],
   "source": [
    "def update_figure(p):\n",
    "    \"\"\"Update the frame using data received from the socket.\"\"\"\n",
    "    buff = get_buffer()\n",
    "    if buff is not None:\n",
    "        # Deserialize the buffer into a NumPy array\n",
    "        data = np.frombuffer(buff, dtype=np.float64)\n",
    "\n",
    "        data = data.reshape(384, 150)\n",
    "\n",
    "        # clear subplots\n",
    "        # for subplot in p:\n",
    "        #     p.clear()\n",
    "\n",
    "        ixs = get_spike_events(data)\n",
    "\n",
    "        spikes, colors = make_raster(ixs)\n",
    "        spikes = np.concatenate(spikes)\n",
    "\n",
    "\n",
    "        if len(p[\"filtered spikes\"].graphics) == 0:\n",
    "            lg = figure[\"filtered spikes\"].add_line_stack(data, colors=\"gray\", thickness=0.5, separation=35, name=\"lg\")\n",
    "        else:\n",
    "            lg = figure[\"filtered spikes\"][\"lg\"]\n",
    "            lg.colors = \"gray\"\n",
    "            # add filtered spikes\n",
    "            for i in range(lg.data[:].shape[0]):\n",
    "                lg[i].data[:, 1] = data[i]\n",
    "\n",
    "        # color each spike event orange\n",
    "        for i in range(len(ixs)):\n",
    "            if ixs[i].shape[0] == 0:\n",
    "                continue\n",
    "            lg[i].colors[ixs[i]] = \"orange\"\n",
    "\n",
    "        \n",
    "        # add smoothed spikes\n",
    "        for i in range(len(ixs)):\n",
    "            y = np.zeros((data.shape[1],))\n",
    "            x = range(len(y))\n",
    "            if ixs[i].shape[0] == 0:\n",
    "                y = np.zeros((data.shape[1],))\n",
    "            else:\n",
    "                spike_times = ixs[i]\n",
    "                y[spike_times] = 1\n",
    "                y = scipy.ndimage.gaussian_filter1d(y, 5)\n",
    "                \n",
    "            if len(p[\"smoothed spikes\"].graphics) < data.shape[0]:\n",
    "                figure[\"smoothed spikes\"].add_line(np.vstack([x, y]).T, colors=np.append(np.random.rand(3), 1), thickness=1)\n",
    "            else:\n",
    "                figure[\"smoothed spikes\"].graphics[i].data[:, 1] = y\n",
    "\n",
    "        p[\"raster\"].clear()\n",
    "    \n",
    "        # make raster \n",
    "        p[\"raster\"].add_scatter(spikes, sizes=5, colors=colors)\n",
    "\n",
    "        for subplot in p:\n",
    "            subplot.auto_scale()"
   ]
  },
  {
   "cell_type": "code",
   "execution_count": 8,
   "id": "144e87f6-b322-421e-95b9-583d3bcbbf56",
   "metadata": {},
   "outputs": [
    {
     "data": {
      "application/vnd.jupyter.widget-view+json": {
       "model_id": "b5512aa4236646a0a115acc9b768a8a1",
       "version_major": 2,
       "version_minor": 0
      },
      "text/html": [
       "<div class='snapshot-b5512aa4236646a0a115acc9b768a8a1' style='position:relative;'><img src='data:image/png;base64,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' style='width:1000.0px;height:900.0px;' /><div style='position: absolute; top:0; left:0; padding:1px 3px; background: #777; color:#fff; font-size: 90%; font-family:sans-serif; '>snapshot</div></div>"
      ],
      "text/plain": [
       "JupyterRenderCanvas(css_height='900.0px', css_width='1000.0px')"
      ]
     },
     "execution_count": 8,
     "metadata": {},
     "output_type": "execute_result"
    }
   ],
   "source": [
    "figure.show()"
   ]
  },
  {
   "cell_type": "code",
   "execution_count": 9,
   "id": "9260e786-54d8-4a88-bf54-e40d0548b8af",
   "metadata": {},
   "outputs": [],
   "source": [
    "# Add the animation update function\n",
    "figure.add_animations(update_figure)"
   ]
  },
  {
   "cell_type": "code",
   "execution_count": null,
   "id": "cbfcc930-ccb0-48e6-9137-b0039a93b885",
   "metadata": {},
   "outputs": [],
   "source": []
  },
  {
   "cell_type": "code",
   "execution_count": null,
   "id": "eea286ef-fb74-4f26-96bf-bc8de44dd0c4",
   "metadata": {},
   "outputs": [],
   "source": []
  },
  {
   "cell_type": "code",
   "execution_count": null,
   "id": "2daeb7c8-7988-4d1b-bc02-16d0112301b9",
   "metadata": {},
   "outputs": [],
   "source": []
  },
  {
   "cell_type": "code",
   "execution_count": null,
   "id": "b0ed92fb-fec2-4a3e-b730-a34a5817c8ba",
   "metadata": {},
   "outputs": [],
   "source": []
  }
 ],
 "metadata": {
  "kernelspec": {
   "display_name": "Python 3 (ipykernel)",
   "language": "python",
   "name": "python3"
  },
  "language_info": {
   "codemirror_mode": {
    "name": "ipython",
    "version": 3
   },
   "file_extension": ".py",
   "mimetype": "text/x-python",
   "name": "python",
   "nbconvert_exporter": "python",
   "pygments_lexer": "ipython3",
   "version": "3.13.1"
  }
 },
 "nbformat": 4,
 "nbformat_minor": 5
}
