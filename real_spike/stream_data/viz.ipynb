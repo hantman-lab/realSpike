{
 "cells": [
  {
   "cell_type": "markdown",
   "id": "b7c3c1a5-b2b6-4f0e-83e3-aa6f56ac920b",
   "metadata": {},
   "source": [
    "# Notebook for visualizing streaming data"
   ]
  },
  {
   "cell_type": "code",
   "execution_count": 1,
   "id": "e8089b57-1d4e-437e-8d8a-1619a941abbd",
   "metadata": {},
   "outputs": [
    {
     "name": "stderr",
     "output_type": "stream",
     "text": [
      "Detected skylake derivative running on mesa i915. Clears to srgb textures will use manual shader clears.\n",
      "Detected skylake derivative running on mesa i915. Clears to srgb textures will use manual shader clears.\n",
      "Detected skylake derivative running on mesa i915. Clears to srgb textures will use manual shader clears.\n"
     ]
    },
    {
     "data": {
      "application/vnd.jupyter.widget-view+json": {
       "model_id": "4d3daaf4a9724c44934c8232bf2c2c96",
       "version_major": 2,
       "version_minor": 0
      },
      "text/plain": [
       "Image(value=b'\\x89PNG\\r\\n\\x1a\\n\\x00\\x00\\x00\\rIHDR\\x00\\x00\\x01,\\x00\\x00\\x007\\x08\\x06\\x00\\x00\\x00\\xb6\\x1bw\\x99\\x…"
      ]
     },
     "metadata": {},
     "output_type": "display_data"
    },
    {
     "data": {
      "text/html": [
       "<b>Available devices:</b><table><tr><th>Valid</th><th>Device</th><th>Type</th><th>Backend</th><th>Driver</th></tr><tr title=\"This adapter can be used with fastplotlib\"><td>✅</td><td>Intel(R) Arc(tm) Graphics (MTL)</td><td>IntegratedGPU</td><td>Vulkan</td><td>Mesa 25.0.4</td></tr><tr title=\"This adapter can be used with fastplotlib\"><td>✅ (default) </td><td>NVIDIA GeForce RTX 4060 Laptop GPU</td><td>DiscreteGPU</td><td>Vulkan</td><td>565.77</td></tr><tr title=\"CPU rendering support is limited and mainly for testing purposes\"><td>❗ limited</td><td>llvmpipe (LLVM 19.1.7, 256 bits)</td><td>CPU</td><td>Vulkan</td><td>Mesa 25.0.4 (LLVM 19.1.7)</td></tr><tr title=\"This adapter cannot be used with fastplotlib\"><td>❌</td><td>Mesa Intel(R) Arc(tm) Graphics (MTL)</td><td>IntegratedGPU</td><td>OpenGL</td><td>4.6 (Core Profile) Mesa 25.0.4</td></tr></table>"
      ],
      "text/plain": [
       "<IPython.core.display.HTML object>"
      ]
     },
     "metadata": {},
     "output_type": "display_data"
    },
    {
     "name": "stderr",
     "output_type": "stream",
     "text": [
      "Detected skylake derivative running on mesa i915. Clears to srgb textures will use manual shader clears.\n",
      "Detected skylake derivative running on mesa i915. Clears to srgb textures will use manual shader clears.\n"
     ]
    }
   ],
   "source": [
    "import fastplotlib as fpl \n",
    "import numpy as np\n",
    "import zmq"
   ]
  },
  {
   "cell_type": "markdown",
   "id": "6c4ad26f-7c15-4ab6-acd1-7f3415debe9c",
   "metadata": {},
   "source": [
    "# Setup zmq subscriber"
   ]
  },
  {
   "cell_type": "code",
   "execution_count": 2,
   "id": "c2f02187-67f0-41ae-8eaf-bc99eb981cc2",
   "metadata": {},
   "outputs": [
    {
     "data": {
      "text/plain": [
       "<SocketContext(connect='tcp://127.0.0.1:5557')>"
      ]
     },
     "execution_count": 2,
     "metadata": {},
     "output_type": "execute_result"
    }
   ],
   "source": [
    "context = zmq.Context()\n",
    "sub = context.socket(zmq.SUB)\n",
    "sub.setsockopt(zmq.SUBSCRIBE, b\"\")\n",
    "\n",
    "# keep only the most recent message\n",
    "sub.setsockopt(zmq.CONFLATE, 1)\n",
    "\n",
    "# address must match publisher in Processor actor\n",
    "sub.connect(\"tcp://127.0.0.1:5557\")"
   ]
  },
  {
   "cell_type": "code",
   "execution_count": 3,
   "id": "c9596b45-2722-4cb7-bcf5-0832879a7b6b",
   "metadata": {},
   "outputs": [],
   "source": [
    "def get_buffer():\n",
    "    \"\"\"Gets the buffer from the publisher.\"\"\"\n",
    "    try:\n",
    "        b = sub.recv(zmq.NOBLOCK)\n",
    "    except zmq.Again:\n",
    "        pass\n",
    "    else:\n",
    "        return b\n",
    "    \n",
    "    return None"
   ]
  },
  {
   "cell_type": "markdown",
   "id": "07581818-9478-44f8-b431-0e9f47e67505",
   "metadata": {},
   "source": [
    "# Helper functions"
   ]
  },
  {
   "cell_type": "code",
   "execution_count": 4,
   "id": "97661bf1-9e46-47ab-8f5a-629819cd43ad",
   "metadata": {},
   "outputs": [],
   "source": [
    "def get_spike_events(data: np.ndarray, n_deviations: int = 4):\n",
    "    \"\"\"\n",
    "    Calculates the median and MAD estimator. Returns a list of indices along each channel where\n",
    "    threshold crossing is made (above absolute value of median + (n_deviations * MAD).\n",
    "    \"\"\"\n",
    "    median = np.median(data, axis=1)\n",
    "    mad = scipy.stats.median_abs_deviation(data, axis=1)\n",
    "\n",
    "    thresh = (n_deviations * mad) + median\n",
    "\n",
    "    indices = [np.where(np.abs(data)[i] > thresh[i])[0] for i in range(data.shape[0])]\n",
    "\n",
    "    return indices"
   ]
  },
  {
   "cell_type": "markdown",
   "id": "09a9a45c-3118-42f0-8cb6-6d93a747b5bc",
   "metadata": {},
   "source": [
    "# Create figure"
   ]
  },
  {
   "cell_type": "code",
   "execution_count": 5,
   "id": "963fe149-2db0-4ed9-bd83-6c6b3a16b7bf",
   "metadata": {},
   "outputs": [
    {
     "data": {
      "application/vnd.jupyter.widget-view+json": {
       "model_id": "de3d58d06aeb4a7993f0521896ef2fed",
       "version_major": 2,
       "version_minor": 0
      },
      "text/plain": [
       "RFBOutputContext()"
      ]
     },
     "metadata": {},
     "output_type": "display_data"
    },
    {
     "name": "stderr",
     "output_type": "stream",
     "text": [
      "Detected skylake derivative running on mesa i915. Clears to srgb textures will use manual shader clears.\n"
     ]
    }
   ],
   "source": [
    "figure = fpl.Figure(shape=(2,1), size=(1000, 900), names=[\"filtered spikes\", \"smoothed spikes\"])\n",
    "\n",
    "for subplot in figure:\n",
    "    subplot.axes.visible = False"
   ]
  },
  {
   "cell_type": "code",
   "execution_count": 6,
   "id": "6bbe3525-2a19-43f9-bc14-4a716e9a3736",
   "metadata": {},
   "outputs": [],
   "source": [
    "def update_figure(p):\n",
    "    \"\"\"Update the frame using data received from the socket.\"\"\"\n",
    "    buff = get_buffer()\n",
    "    if buff is not None:\n",
    "        # Deserialize the buffer into a NumPy array\n",
    "        data = np.frombuffer(buff, dtype=np.float64)\n",
    "\n",
    "        data = data.reshape(384, 150)\n",
    "\n",
    "        # \n",
    "\n",
    "        if len(p.graphics) == 0:\n",
    "            p.add_line_stack(data, colors=\"gray\", thickness=0.5, separation=55)\n",
    "        else:\n",
    "            for i in range(data.shape[0]):\n",
    "                p.graphics[0][i].data[:, 1] = data[i]      \n",
    "\n",
    "        p.auto_scale()"
   ]
  },
  {
   "cell_type": "code",
   "execution_count": 7,
   "id": "144e87f6-b322-421e-95b9-583d3bcbbf56",
   "metadata": {},
   "outputs": [
    {
     "data": {
      "application/vnd.jupyter.widget-view+json": {
       "model_id": "f6b378d079974a68822cd984afb45d21",
       "version_major": 2,
       "version_minor": 0
      },
      "text/html": [
       "<div class='snapshot-f6b378d079974a68822cd984afb45d21' style='position:relative;'><img src='data:image/png;base64,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' style='width:1000.0px;height:900.0px;' /><div style='position: absolute; top:0; left:0; padding:1px 3px; background: #777; color:#fff; font-size: 90%; font-family:sans-serif; '>snapshot</div></div>"
      ],
      "text/plain": [
       "JupyterRenderCanvas(css_height='900.0px', css_width='1000.0px')"
      ]
     },
     "execution_count": 7,
     "metadata": {},
     "output_type": "execute_result"
    }
   ],
   "source": [
    "figure.show(maintain_aspect=False)"
   ]
  },
  {
   "cell_type": "code",
   "execution_count": 8,
   "id": "9260e786-54d8-4a88-bf54-e40d0548b8af",
   "metadata": {},
   "outputs": [],
   "source": [
    "# Add the animation update function\n",
    "figure.add_animations(update_figure)"
   ]
  },
  {
   "cell_type": "code",
   "execution_count": null,
   "id": "82f3d86b-1037-44f4-96dd-fac0e11b8996",
   "metadata": {},
   "outputs": [],
   "source": []
  },
  {
   "cell_type": "code",
   "execution_count": null,
   "id": "08c0cb8b-b9a0-42d0-bf82-497bddf712d1",
   "metadata": {},
   "outputs": [],
   "source": []
  }
 ],
 "metadata": {
  "kernelspec": {
   "display_name": "Python 3 (ipykernel)",
   "language": "python",
   "name": "python3"
  },
  "language_info": {
   "codemirror_mode": {
    "name": "ipython",
    "version": 3
   },
   "file_extension": ".py",
   "mimetype": "text/x-python",
   "name": "python",
   "nbconvert_exporter": "python",
   "pygments_lexer": "ipython3",
   "version": "3.13.1"
  }
 },
 "nbformat": 4,
 "nbformat_minor": 5
}
