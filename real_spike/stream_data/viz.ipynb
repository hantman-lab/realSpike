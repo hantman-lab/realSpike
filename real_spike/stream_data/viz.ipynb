{
 "cells": [
  {
   "cell_type": "markdown",
   "id": "b7c3c1a5-b2b6-4f0e-83e3-aa6f56ac920b",
   "metadata": {},
   "source": [
    "# Notebook for visualizing streaming data"
   ]
  },
  {
   "cell_type": "code",
   "execution_count": 1,
   "id": "e8089b57-1d4e-437e-8d8a-1619a941abbd",
   "metadata": {},
   "outputs": [
    {
     "name": "stderr",
     "output_type": "stream",
     "text": [
      "Detected skylake derivative running on mesa i915. Clears to srgb textures will use manual shader clears.\n",
      "Detected skylake derivative running on mesa i915. Clears to srgb textures will use manual shader clears.\n",
      "Detected skylake derivative running on mesa i915. Clears to srgb textures will use manual shader clears.\n"
     ]
    },
    {
     "data": {
      "application/vnd.jupyter.widget-view+json": {
       "model_id": "1fee3a72f180452aa6c2fb132adf6ed8",
       "version_major": 2,
       "version_minor": 0
      },
      "text/plain": [
       "Image(value=b'version https://git-lfs.github.com/spec/...', height='55', width='300')"
      ]
     },
     "metadata": {},
     "output_type": "display_data"
    },
    {
     "data": {
      "text/html": [
       "<b>Available devices:</b><table><tr><th>Valid</th><th>Device</th><th>Type</th><th>Backend</th><th>Driver</th></tr><tr title=\"This adapter can be used with fastplotlib\"><td>✅</td><td>Intel(R) Arc(tm) Graphics (MTL)</td><td>IntegratedGPU</td><td>Vulkan</td><td>Mesa 25.0.4</td></tr><tr title=\"This adapter can be used with fastplotlib\"><td>✅ (default) </td><td>NVIDIA GeForce RTX 4060 Laptop GPU</td><td>DiscreteGPU</td><td>Vulkan</td><td>565.77</td></tr><tr title=\"CPU rendering support is limited and mainly for testing purposes\"><td>❗ limited</td><td>llvmpipe (LLVM 19.1.7, 256 bits)</td><td>CPU</td><td>Vulkan</td><td>Mesa 25.0.4 (LLVM 19.1.7)</td></tr><tr title=\"This adapter cannot be used with fastplotlib\"><td>❌</td><td>Mesa Intel(R) Arc(tm) Graphics (MTL)</td><td>IntegratedGPU</td><td>OpenGL</td><td>4.6 (Core Profile) Mesa 25.0.4</td></tr></table>"
      ],
      "text/plain": [
       "<IPython.core.display.HTML object>"
      ]
     },
     "metadata": {},
     "output_type": "display_data"
    },
    {
     "name": "stderr",
     "output_type": "stream",
     "text": [
      "Detected skylake derivative running on mesa i915. Clears to srgb textures will use manual shader clears.\n",
      "Detected skylake derivative running on mesa i915. Clears to srgb textures will use manual shader clears.\n"
     ]
    }
   ],
   "source": [
    "import fastplotlib as fpl \n",
    "import numpy as np\n",
    "import zmq\n",
    "import tifffile\n",
    "import scipy\n",
    "import queue"
   ]
  },
  {
   "cell_type": "markdown",
   "id": "920c96ba-0964-44ff-9f8f-99e85419a98e",
   "metadata": {},
   "source": [
    "# Calculate seeded median"
   ]
  },
  {
   "cell_type": "code",
   "execution_count": 2,
   "id": "22950a49-9c9c-428c-9122-afd076c7e57a",
   "metadata": {},
   "outputs": [
    {
     "data": {
      "text/plain": [
       "(384, 3000001)"
      ]
     },
     "execution_count": 2,
     "metadata": {},
     "output_type": "execute_result"
    }
   ],
   "source": [
    "file_path = \"/home/clewis/repos/holo-nbs/rb26_20240111/raw_voltage_chunk.tif\"\n",
    "data = tifffile.memmap(file_path)\n",
    "data.shape"
   ]
  },
  {
   "cell_type": "code",
   "execution_count": 3,
   "id": "613a97f1-5647-440d-b677-826469f9df6e",
   "metadata": {},
   "outputs": [],
   "source": [
    "# define filter functions\n",
    "def butter(cutoff, fs, order=5, btype='high'):\n",
    "    nyq = 0.5 * fs\n",
    "    normal_cutoff = cutoff / nyq\n",
    "    b, a = scipy.signal.butter(order, normal_cutoff, btype=btype, analog=False)\n",
    "    return b, a\n",
    "\n",
    "\n",
    "def butter_filter(data, cutoff, fs, order=5, axis=-1, btype='high'):\n",
    "    b, a = butter(cutoff, fs, order=order, btype=btype)\n",
    "    y = scipy.signal.filtfilt(b, a, data, axis=axis)\n",
    "    return y"
   ]
  },
  {
   "cell_type": "code",
   "execution_count": 4,
   "id": "bd2a3da1-23e1-4c6a-b281-354801271b2d",
   "metadata": {},
   "outputs": [],
   "source": [
    "median = np.median(butter_filter(data[:, :4000], 1_000, 30_000), axis=1)"
   ]
  },
  {
   "cell_type": "markdown",
   "id": "a781ebb7-e8df-4b84-b43d-433ebfe13de0",
   "metadata": {},
   "source": [
    "# Create queue for viz data"
   ]
  },
  {
   "cell_type": "code",
   "execution_count": 5,
   "id": "c4572520-175c-4a41-8226-cff96951f430",
   "metadata": {},
   "outputs": [],
   "source": [
    "viz_queue = queue.Queue(maxsize=100)"
   ]
  },
  {
   "cell_type": "markdown",
   "id": "6c4ad26f-7c15-4ab6-acd1-7f3415debe9c",
   "metadata": {},
   "source": [
    "# Setup zmq subscriber"
   ]
  },
  {
   "cell_type": "code",
   "execution_count": 6,
   "id": "c2f02187-67f0-41ae-8eaf-bc99eb981cc2",
   "metadata": {},
   "outputs": [
    {
     "data": {
      "text/plain": [
       "<SocketContext(connect='tcp://127.0.0.1:5557')>"
      ]
     },
     "execution_count": 6,
     "metadata": {},
     "output_type": "execute_result"
    }
   ],
   "source": [
    "context = zmq.Context()\n",
    "sub = context.socket(zmq.SUB)\n",
    "sub.setsockopt(zmq.SUBSCRIBE, b\"\")\n",
    "\n",
    "# keep only the most recent message\n",
    "sub.setsockopt(zmq.CONFLATE, 1)\n",
    "\n",
    "# address must match publisher in actor\n",
    "sub.connect(\"tcp://127.0.0.1:5557\")"
   ]
  },
  {
   "cell_type": "code",
   "execution_count": 7,
   "id": "c9596b45-2722-4cb7-bcf5-0832879a7b6b",
   "metadata": {},
   "outputs": [],
   "source": [
    "def get_buffer():\n",
    "    \"\"\"Gets the buffer from the publisher.\"\"\"\n",
    "    try:\n",
    "        b = sub.recv(zmq.NOBLOCK)\n",
    "    except zmq.Again:\n",
    "        pass\n",
    "    else:\n",
    "        return b\n",
    "    \n",
    "    return None"
   ]
  },
  {
   "cell_type": "markdown",
   "id": "07581818-9478-44f8-b431-0e9f47e67505",
   "metadata": {},
   "source": [
    "# Helper functions"
   ]
  },
  {
   "cell_type": "code",
   "execution_count": 8,
   "id": "97661bf1-9e46-47ab-8f5a-629819cd43ad",
   "metadata": {},
   "outputs": [],
   "source": [
    "def get_spike_events(data: np.ndarray, n_deviations: int = 4):\n",
    "    \"\"\"\n",
    "    Calculates the median and MAD estimator. Returns a list of indices along each channel where\n",
    "    threshold crossing is made (above absolute value of median + (n_deviations * MAD).\n",
    "    \"\"\"\n",
    "    global median\n",
    "    # median = np.median(data, axis=1)\n",
    "    mad = scipy.stats.median_abs_deviation(data, axis=1)\n",
    "\n",
    "    thresh = (n_deviations * mad) + median\n",
    "\n",
    "    abs_data = np.abs(data)\n",
    "\n",
    "    # Find indices where threshold is crossed for each channel\n",
    "    indices = [np.where(abs_data[i] > thresh[i])[0] for i in range(data.shape[0])]\n",
    "\n",
    "    return indices"
   ]
  },
  {
   "cell_type": "code",
   "execution_count": 9,
   "id": "271fa014-259c-43e0-b191-93573b771157",
   "metadata": {},
   "outputs": [],
   "source": [
    "def make_raster(ixs):\n",
    "    \"\"\"\n",
    "    Takes a list of threshold crossings and returns a list of points (channel number, spike time) and colors.\n",
    "    Used to make a raster plot.\n",
    "    \"\"\"\n",
    "    spikes = list()\n",
    "\n",
    "    for i, ix in enumerate(ixs):\n",
    "        ys = np.full(ix.shape, i * 2)\n",
    "        sp = np.vstack([ix, ys]).T\n",
    "        spikes.append(sp)\n",
    "\n",
    "    colors = list()\n",
    "\n",
    "    for i in spikes:\n",
    "        # randomly select a color\n",
    "        c = [np.append(np.random.rand(3), 1)] * len(i)\n",
    "        colors += c\n",
    "\n",
    "    return spikes, np.array(colors)"
   ]
  },
  {
   "cell_type": "markdown",
   "id": "09a9a45c-3118-42f0-8cb6-6d93a747b5bc",
   "metadata": {},
   "source": [
    "# Create figure"
   ]
  },
  {
   "cell_type": "code",
   "execution_count": 10,
   "id": "963fe149-2db0-4ed9-bd83-6c6b3a16b7bf",
   "metadata": {},
   "outputs": [
    {
     "data": {
      "application/vnd.jupyter.widget-view+json": {
       "model_id": "d947105d19564ba3a0195ade10e4a95b",
       "version_major": 2,
       "version_minor": 0
      },
      "text/plain": [
       "RFBOutputContext()"
      ]
     },
     "metadata": {},
     "output_type": "display_data"
    },
    {
     "name": "stderr",
     "output_type": "stream",
     "text": [
      "Detected skylake derivative running on mesa i915. Clears to srgb textures will use manual shader clears.\n",
      "Draw error\n",
      "Traceback (most recent call last):\n",
      "  File \"/home/clewis/venvs/bah/lib64/python3.11/site-packages/rendercanvas/_coreutils.py\", line 41, in log_exception\n",
      "    yield\n",
      "  File \"/home/clewis/venvs/bah/lib64/python3.11/site-packages/rendercanvas/base.py\", line 456, in _draw_frame_and_present\n",
      "    self._draw_frame()\n",
      "  File \"/home/clewis/repos/fastplotlib/fastplotlib/layouts/_imgui_figure.py\", line 125, in _render\n",
      "    self.imgui_renderer.render()\n",
      "  File \"/home/clewis/venvs/bah/lib64/python3.11/site-packages/wgpu/utils/imgui/imgui_renderer.py\", line 168, in render\n",
      "    render_pass.end()\n",
      "  File \"/home/clewis/venvs/bah/lib64/python3.11/site-packages/wgpu/backends/wgpu_native/_api.py\", line 3509, in end\n",
      "    libf.wgpuRenderPassEncoderEnd(self._internal)\n",
      "  File \"/home/clewis/venvs/bah/lib64/python3.11/site-packages/wgpu/backends/wgpu_native/_helpers.py\", line 457, in proxy_func\n",
      "    raise wgpu_error\n",
      "  File \"/home/clewis/venvs/bah/lib64/python3.11/site-packages/wgpu/backends/wgpu_native/_api.py\", line 3509, in end\n",
      "    libf.wgpuRenderPassEncoderEnd(self._internal)\n",
      "wgpu._classes.GPUValidationError: Validation Error\n",
      "\n",
      "Caused by:\n",
      "  In wgpuRenderPassEncoderEnd\n",
      "    In a set_viewport command\n",
      "      Viewport has invalid rect Rect { x: 0.0, y: 0.0, w: 1247.0, h: 1250.0 }; origin and/or size is less than or equal to 0, and/or is not contained in the render target (1169, 1172, 1)\n",
      "Draw error\n",
      "Traceback (most recent call last):\n",
      "  File \"/home/clewis/venvs/bah/lib64/python3.11/site-packages/rendercanvas/_coreutils.py\", line 41, in log_exception\n",
      "    yield\n",
      "  File \"/home/clewis/venvs/bah/lib64/python3.11/site-packages/rendercanvas/base.py\", line 456, in _draw_frame_and_present\n",
      "    self._draw_frame()\n",
      "  File \"/home/clewis/repos/fastplotlib/fastplotlib/layouts/_imgui_figure.py\", line 125, in _render\n",
      "    self.imgui_renderer.render()\n",
      "  File \"/home/clewis/venvs/bah/lib64/python3.11/site-packages/wgpu/utils/imgui/imgui_renderer.py\", line 168, in render\n",
      "    render_pass.end()\n",
      "  File \"/home/clewis/venvs/bah/lib64/python3.11/site-packages/wgpu/backends/wgpu_native/_api.py\", line 3509, in end\n",
      "    libf.wgpuRenderPassEncoderEnd(self._internal)\n",
      "  File \"/home/clewis/venvs/bah/lib64/python3.11/site-packages/wgpu/backends/wgpu_native/_helpers.py\", line 457, in proxy_func\n",
      "    raise wgpu_error\n",
      "  File \"/home/clewis/venvs/bah/lib64/python3.11/site-packages/wgpu/backends/wgpu_native/_api.py\", line 3509, in end\n",
      "    libf.wgpuRenderPassEncoderEnd(self._internal)\n",
      "wgpu._classes.GPUValidationError: Validation Error\n",
      "\n",
      "Caused by:\n",
      "  In wgpuRenderPassEncoderEnd\n",
      "    In a set_viewport command\n",
      "      Viewport has invalid rect Rect { x: 0.0, y: 0.0, w: 1169.0, h: 1172.0 }; origin and/or size is less than or equal to 0, and/or is not contained in the render target (1039, 1042, 1)\n"
     ]
    }
   ],
   "source": [
    "rects = [\n",
    "    (0, 0, 0.5, 1),  # for image1\n",
    "    (0.5, 0, 0.5, 1),  # for image2\n",
    "]\n",
    "\n",
    "figure = fpl.Figure(rects=rects, size=(1000, 900), names=[\"filtered spikes\", \"raster\"])\n",
    "\n",
    "for subplot in figure:\n",
    "    subplot.axes.visible = False\n",
    "    subplot.camera.maintain_aspect = False"
   ]
  },
  {
   "cell_type": "code",
   "execution_count": 11,
   "id": "2bf04b35-1c93-40c6-8375-e2b04cefb8e0",
   "metadata": {},
   "outputs": [],
   "source": [
    "def update():\n",
    "    \"\"\"Function to actual update the figure.\"\"\"\n",
    "    global viz_queue\n",
    "    global figure\n",
    "\n",
    "    data = viz_queue.get()\n",
    "    \n",
    "    ixs = get_spike_events(data)\n",
    "\n",
    "    spikes, colors = make_raster(ixs)\n",
    "    spikes = np.concatenate(spikes)\n",
    "\n",
    "\n",
    "    if len(figure[\"filtered spikes\"].graphics) == 0:\n",
    "        lg = figure[\"filtered spikes\"].add_line_stack(data, colors=\"gray\", thickness=0.5, separation=35, name=\"lg\")\n",
    "    else:\n",
    "        lg = figure[\"filtered spikes\"][\"lg\"]\n",
    "        lg.colors = \"gray\"\n",
    "        # add filtered spikes\n",
    "        for i in range(lg.data[:].shape[0]):\n",
    "            lg[i].data[:, 1] = data[i]\n",
    "\n",
    "    # color each spike event orange\n",
    "    for i in range(len(ixs)):\n",
    "        if ixs[i].shape[0] == 0:\n",
    "            continue\n",
    "            \n",
    "        lg[i].colors[ixs[i]] = \"orange\"\n",
    "\n",
    "    figure[\"raster\"].clear()\n",
    "\n",
    "    # make raster \n",
    "    figure[\"raster\"].add_scatter(spikes, sizes=5, colors=colors)\n",
    "\n",
    "    for subplot in figure:\n",
    "        subplot.auto_scale()"
   ]
  },
  {
   "cell_type": "code",
   "execution_count": 12,
   "id": "6bbe3525-2a19-43f9-bc14-4a716e9a3736",
   "metadata": {},
   "outputs": [],
   "source": [
    "def update_figure(p):\n",
    "    \"\"\"Fetch the data from the socket, deserialize it, and put it in the queue for visualization.\"\"\"\n",
    "    global viz_queue\n",
    "    \n",
    "    buff = get_buffer()\n",
    "    if buff is not None:\n",
    "        # Deserialize the buffer into a NumPy array\n",
    "        data = np.frombuffer(buff, dtype=np.float64)\n",
    "\n",
    "        data = data.reshape(384, 150)\n",
    "\n",
    "        viz_queue.put(data)\n",
    "\n",
    "        if viz_queue.qsize() % 5 == 0:\n",
    "            update()"
   ]
  },
  {
   "cell_type": "code",
   "execution_count": 13,
   "id": "144e87f6-b322-421e-95b9-583d3bcbbf56",
   "metadata": {},
   "outputs": [
    {
     "data": {
      "application/vnd.jupyter.widget-view+json": {
       "model_id": "19aa22d4765b4fb3afb8bfef266232a2",
       "version_major": 2,
       "version_minor": 0
      },
      "text/html": [
       "<div class='snapshot-19aa22d4765b4fb3afb8bfef266232a2' style='position:relative;'><img src='data:image/png;base64,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' style='width:1000.0px;height:900.0px;' /><div style='position: absolute; top:0; left:0; padding:1px 3px; background: #777; color:#fff; font-size: 90%; font-family:sans-serif; '>snapshot</div></div>"
      ],
      "text/plain": [
       "JupyterRenderCanvas(css_height='900.0px', css_width='1000.0px')"
      ]
     },
     "execution_count": 13,
     "metadata": {},
     "output_type": "execute_result"
    }
   ],
   "source": [
    "figure.show()"
   ]
  },
  {
   "cell_type": "code",
   "execution_count": 14,
   "id": "9260e786-54d8-4a88-bf54-e40d0548b8af",
   "metadata": {},
   "outputs": [],
   "source": [
    "# Add the animation update function\n",
    "figure.add_animations(update_figure)"
   ]
  },
  {
   "cell_type": "code",
   "execution_count": null,
   "id": "eea286ef-fb74-4f26-96bf-bc8de44dd0c4",
   "metadata": {},
   "outputs": [],
   "source": []
  },
  {
   "cell_type": "code",
   "execution_count": null,
   "id": "df70534b-e707-4b6f-990c-349ae0849f55",
   "metadata": {},
   "outputs": [],
   "source": []
  },
  {
   "cell_type": "code",
   "execution_count": null,
   "id": "bcbf2eea-c312-49d0-8ee6-b147666c6e38",
   "metadata": {},
   "outputs": [],
   "source": []
  },
  {
   "cell_type": "code",
   "execution_count": null,
   "id": "f557393e-b149-490a-8647-604c3525e189",
   "metadata": {},
   "outputs": [],
   "source": []
  },
  {
   "cell_type": "code",
   "execution_count": null,
   "id": "2daeb7c8-7988-4d1b-bc02-16d0112301b9",
   "metadata": {},
   "outputs": [],
   "source": []
  }
 ],
 "metadata": {
  "kernelspec": {
   "display_name": "Python 3 (ipykernel)",
   "language": "python",
   "name": "python3"
  },
  "language_info": {
   "codemirror_mode": {
    "name": "ipython",
    "version": 3
   },
   "file_extension": ".py",
   "mimetype": "text/x-python",
   "name": "python",
   "nbconvert_exporter": "python",
   "pygments_lexer": "ipython3",
   "version": "3.11.12"
  }
 },
 "nbformat": 4,
 "nbformat_minor": 5
}
